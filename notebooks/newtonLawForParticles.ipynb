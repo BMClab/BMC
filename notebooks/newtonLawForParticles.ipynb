{
 "cells": [
  {
   "cell_type": "markdown",
   "metadata": {
    "colab_type": "text",
    "id": "ZhJwhjmOM8ie",
    "slideshow": {
     "slide_type": "slide"
    }
   },
   "source": [
    "# Motion of a particle - Newtonian approach\n",
    "\n",
    "> Renato Naville Watanabe, Marcos Duarte  \n",
    "> [Laboratory of Biomechanics and Motor Control](http://pesquisa.ufabc.edu.br/bmclab)  \n",
    "> Federal University of ABC, Brazil"
   ]
  },
  {
   "cell_type": "markdown",
   "metadata": {
    "toc": true
   },
   "source": [
    "<h1>Contents<span class=\"tocSkip\"></span></h1>\n",
    "<div class=\"toc\"><ul class=\"toc-item\"><li><span><a href=\"#Python-setup\" data-toc-modified-id=\"Python-setup-1\"><span class=\"toc-item-num\">1&nbsp;&nbsp;</span>Python setup</a></span></li><li><span><a href=\"#Study-of-motion\" data-toc-modified-id=\"Study-of-motion-2\"><span class=\"toc-item-num\">2&nbsp;&nbsp;</span>Study of motion</a></span></li><li><span><a href=\"#The-development-of-the-laws-of-motion-of-bodies\" data-toc-modified-id=\"The-development-of-the-laws-of-motion-of-bodies-3\"><span class=\"toc-item-num\">3&nbsp;&nbsp;</span>The development of the laws of motion of bodies</a></span></li><li><span><a href=\"#Newton's-laws-of-motion\" data-toc-modified-id=\"Newton's-laws-of-motion-4\"><span class=\"toc-item-num\">4&nbsp;&nbsp;</span>Newton's laws of motion</a></span></li><li><span><a href=\"#Fundamental-concepts\" data-toc-modified-id=\"Fundamental-concepts-5\"><span class=\"toc-item-num\">5&nbsp;&nbsp;</span>Fundamental concepts</a></span><ul class=\"toc-item\"><li><span><a href=\"#Linear-momentum\" data-toc-modified-id=\"Linear-momentum-5.1\"><span class=\"toc-item-num\">5.1&nbsp;&nbsp;</span>Linear momentum</a></span></li><li><span><a href=\"#Impulse\" data-toc-modified-id=\"Impulse-5.2\"><span class=\"toc-item-num\">5.2&nbsp;&nbsp;</span>Impulse</a></span></li><li><span><a href=\"#Force\" data-toc-modified-id=\"Force-5.3\"><span class=\"toc-item-num\">5.3&nbsp;&nbsp;</span>Force</a></span></li><li><span><a href=\"#Work\" data-toc-modified-id=\"Work-5.4\"><span class=\"toc-item-num\">5.4&nbsp;&nbsp;</span>Work</a></span></li><li><span><a href=\"#Mechanical-energy\" data-toc-modified-id=\"Mechanical-energy-5.5\"><span class=\"toc-item-num\">5.5&nbsp;&nbsp;</span>Mechanical energy</a></span><ul class=\"toc-item\"><li><span><a href=\"#Kinetic-energy\" data-toc-modified-id=\"Kinetic-energy-5.5.1\"><span class=\"toc-item-num\">5.5.1&nbsp;&nbsp;</span>Kinetic energy</a></span></li><li><span><a href=\"#Potential-energy\" data-toc-modified-id=\"Potential-energy-5.5.2\"><span class=\"toc-item-num\">5.5.2&nbsp;&nbsp;</span>Potential energy</a></span></li><li><span><a href=\"#Power\" data-toc-modified-id=\"Power-5.5.3\"><span class=\"toc-item-num\">5.5.3&nbsp;&nbsp;</span>Power</a></span></li></ul></li><li><span><a href=\"#Angular-momentum\" data-toc-modified-id=\"Angular-momentum-5.6\"><span class=\"toc-item-num\">5.6&nbsp;&nbsp;</span>Angular momentum</a></span></li><li><span><a href=\"#Torque-(moment-of-force)\" data-toc-modified-id=\"Torque-(moment-of-force)-5.7\"><span class=\"toc-item-num\">5.7&nbsp;&nbsp;</span>Torque (moment of force)</a></span></li><li><span><a href=\"#Mechanical-energy-for-angular-motion\" data-toc-modified-id=\"Mechanical-energy-for-angular-motion-5.8\"><span class=\"toc-item-num\">5.8&nbsp;&nbsp;</span>Mechanical energy for angular motion</a></span><ul class=\"toc-item\"><li><span><a href=\"#Kinetic-energy\" data-toc-modified-id=\"Kinetic-energy-5.8.1\"><span class=\"toc-item-num\">5.8.1&nbsp;&nbsp;</span>Kinetic energy</a></span></li><li><span><a href=\"#Work\" data-toc-modified-id=\"Work-5.8.2\"><span class=\"toc-item-num\">5.8.2&nbsp;&nbsp;</span>Work</a></span></li><li><span><a href=\"#Power\" data-toc-modified-id=\"Power-5.8.3\"><span class=\"toc-item-num\">5.8.3&nbsp;&nbsp;</span>Power</a></span></li></ul></li></ul></li><li><span><a href=\"#Principles-of-conservation\" data-toc-modified-id=\"Principles-of-conservation-6\"><span class=\"toc-item-num\">6&nbsp;&nbsp;</span>Principles of conservation</a></span><ul class=\"toc-item\"><li><span><a href=\"#Principle-of-conservation-of-linear-momentum\" data-toc-modified-id=\"Principle-of-conservation-of-linear-momentum-6.1\"><span class=\"toc-item-num\">6.1&nbsp;&nbsp;</span>Principle of conservation of linear momentum</a></span></li><li><span><a href=\"#Principle-of-conservation-of-angular-momentum\" data-toc-modified-id=\"Principle-of-conservation-of-angular-momentum-6.2\"><span class=\"toc-item-num\">6.2&nbsp;&nbsp;</span>Principle of conservation of angular momentum</a></span></li><li><span><a href=\"#Principle-of-conservation-of-mechanical-energy\" data-toc-modified-id=\"Principle-of-conservation-of-mechanical-energy-6.3\"><span class=\"toc-item-num\">6.3&nbsp;&nbsp;</span>Principle of conservation of mechanical energy</a></span><ul class=\"toc-item\"><li><span><a href=\"#Conservative-forces\" data-toc-modified-id=\"Conservative-forces-6.3.1\"><span class=\"toc-item-num\">6.3.1&nbsp;&nbsp;</span>Conservative forces</a></span></li></ul></li></ul></li><li><span><a href=\"#Steps-to-find-the-motion-of-a-particle\" data-toc-modified-id=\"Steps-to-find-the-motion-of-a-particle-7\"><span class=\"toc-item-num\">7&nbsp;&nbsp;</span>Steps to find the motion of a particle</a></span><ul class=\"toc-item\"><li><span><a href=\"#Example-1:-Ball-kicked-into-the-air\" data-toc-modified-id=\"Example-1:-Ball-kicked-into-the-air-7.1\"><span class=\"toc-item-num\">7.1&nbsp;&nbsp;</span>Example 1: Ball kicked into the air</a></span><ul class=\"toc-item\"><li><span><a href=\"#Analytical-solution\" data-toc-modified-id=\"Analytical-solution-7.1.1\"><span class=\"toc-item-num\">7.1.1&nbsp;&nbsp;</span>Analytical solution</a></span><ul class=\"toc-item\"><li><span><a href=\"#Plot\" data-toc-modified-id=\"Plot-7.1.1.1\"><span class=\"toc-item-num\">7.1.1.1&nbsp;&nbsp;</span>Plot</a></span></li></ul></li><li><span><a href=\"#Numerical-solution\" data-toc-modified-id=\"Numerical-solution-7.1.2\"><span class=\"toc-item-num\">7.1.2&nbsp;&nbsp;</span>Numerical solution</a></span><ul class=\"toc-item\"><li><span><a href=\"#Plot\" data-toc-modified-id=\"Plot-7.1.2.1\"><span class=\"toc-item-num\">7.1.2.1&nbsp;&nbsp;</span>Plot</a></span></li></ul></li></ul></li><li><span><a href=\"#Example-2:-Ball-kicked-into-the-air-considering-the-air-drag\" data-toc-modified-id=\"Example-2:-Ball-kicked-into-the-air-considering-the-air-drag-7.2\"><span class=\"toc-item-num\">7.2&nbsp;&nbsp;</span>Example 2: Ball kicked into the air considering the air drag</a></span><ul class=\"toc-item\"><li><span><a href=\"#Analytical-solution\" data-toc-modified-id=\"Analytical-solution-7.2.1\"><span class=\"toc-item-num\">7.2.1&nbsp;&nbsp;</span>Analytical solution</a></span><ul class=\"toc-item\"><li><span><a href=\"#Plot\" data-toc-modified-id=\"Plot-7.2.1.1\"><span class=\"toc-item-num\">7.2.1.1&nbsp;&nbsp;</span>Plot</a></span></li></ul></li><li><span><a href=\"#Numerical-solution\" data-toc-modified-id=\"Numerical-solution-7.2.2\"><span class=\"toc-item-num\">7.2.2&nbsp;&nbsp;</span>Numerical solution</a></span><ul class=\"toc-item\"><li><span><a href=\"#Plot\" data-toc-modified-id=\"Plot-7.2.2.1\"><span class=\"toc-item-num\">7.2.2.1&nbsp;&nbsp;</span>Plot</a></span></li></ul></li></ul></li><li><span><a href=\"#Example-3:-Ball-kicked-into-the-air-considering-the-air-drag-proportional-to-square-of-speed\" data-toc-modified-id=\"Example-3:-Ball-kicked-into-the-air-considering-the-air-drag-proportional-to-square-of-speed-7.3\"><span class=\"toc-item-num\">7.3&nbsp;&nbsp;</span>Example 3: Ball kicked into the air considering the air drag proportional to square of speed</a></span><ul class=\"toc-item\"><li><span><a href=\"#All-numerical-solutions-plotted-together\" data-toc-modified-id=\"All-numerical-solutions-plotted-together-7.3.1\"><span class=\"toc-item-num\">7.3.1&nbsp;&nbsp;</span>All numerical solutions plotted together</a></span></li></ul></li></ul></li><li><span><a href=\"#Further-reading\" data-toc-modified-id=\"Further-reading-8\"><span class=\"toc-item-num\">8&nbsp;&nbsp;</span>Further reading</a></span></li><li><span><a href=\"#Video-lectures-on-the-internet\" data-toc-modified-id=\"Video-lectures-on-the-internet-9\"><span class=\"toc-item-num\">9&nbsp;&nbsp;</span>Video lectures on the internet</a></span></li><li><span><a href=\"#Problems\" data-toc-modified-id=\"Problems-10\"><span class=\"toc-item-num\">10&nbsp;&nbsp;</span>Problems</a></span></li><li><span><a href=\"#References\" data-toc-modified-id=\"References-11\"><span class=\"toc-item-num\">11&nbsp;&nbsp;</span>References</a></span></li></ul></div>"
   ]
  },
  {
   "cell_type": "markdown",
   "metadata": {},
   "source": [
    "## Python setup"
   ]
  },
  {
   "cell_type": "code",
   "execution_count": 1,
   "metadata": {
    "ExecuteTime": {
     "end_time": "2021-02-03T11:34:44.530557Z",
     "start_time": "2021-02-03T11:34:44.104775Z"
    }
   },
   "outputs": [],
   "source": [
    "import numpy as np\n",
    "import matplotlib.pyplot as plt\n",
    "import seaborn as sns\n",
    "%matplotlib inline\n",
    "sns.set_context('notebook', font_scale=1.2)"
   ]
  },
  {
   "cell_type": "markdown",
   "metadata": {},
   "source": [
    "## Study of motion\n",
    "\n",
    "In Mechanics we are interested in the study of motion (including deformation) and forces (and the relation between them) of anything in nature.  \n",
    "\n",
    "As a good rule of thumb, we model the phenomenon of interest as simple as possible, with just enough complexity to understand the phenomenon. \n",
    "\n",
    "For example, we could model a person jumping as a particle (the center of gravity, with no size) moving in one direction (the vertical) if all we want is to estimate the jump height and relate that to the external forces to the human body. So, mechanics of a particle might be all we need.  \n",
    "\n",
    "However, if the person jumps and performs a somersault, to understand this last part of the motion we have to model the human body as one of more objects which displaces and rotates in two or three dimensions. In this case, we would need what is called mechanics of rigid bodies.\n",
    "\n",
    "If, besides the gross motions of the segments of the body, we are interested in understanding the deformation in the the human body segments and tissues, now we would have to describe the mechanical behavior of the body (e.g., how it deforms) under the action of forces. In this case we would have to include some constitutive laws describing the mechanical properties of the body.\n",
    "\n",
    "Choosing the necessary complexity of the model (because we want the simplest sufficient model), or even which model, is usually not trivial in Engineering. To paraphrase an older quote, selecting the right model is more than half the solution to a problem. Perhaps the challenge we face is best quantified with the following quote from Einstein:  \n",
    "> \"If I had an hour to solve a problem and my life depended on the solution, I would spend the first 55 minutes determining the appropriate **model** to ask... because as soon as I know the appropriate **model**, I could solve the problem in less than five minutes.\"\n",
    "\n",
    "Where we take the liberty of replacing the word 'question' with 'model'.\n",
    "\n",
    "Let's start with the study of the forces and motion in Mechanics looking at the motion of a particle using the Newtonian approach."
   ]
  },
  {
   "cell_type": "markdown",
   "metadata": {},
   "source": [
    "## The development of the laws of motion of bodies  \n",
    "\n",
    "\"The theoretical development of the laws of motion of bodies is a problem of such interest and importance that it has engaged the attention of all the most eminent mathematicians since the invention of dynamics as a mathematical science by Galileo, and especially since the wonderful extension which was given to that science by Newton.\"\n",
    "\n",
    "&#8212; Hamilton, 1834 (apud Taylor, 2005).  "
   ]
  },
  {
   "cell_type": "markdown",
   "metadata": {},
   "source": [
    "## Newton's laws of motion\n",
    "\n",
    "The Newton's laws of motion describe the relationship between the forces acting on a body and the resultant linear motion due to those forces:\n",
    "\n",
    "- **First law**: An object will remain at rest or in uniform motion in a straight line unless an external force acts on the body.\n",
    "- **Second law**: The acceleration of an object is directly proportional to the net force acting on the object and inversely proportional to the mass of the object: $\\vec{F} = m \\vec{a}$.\n",
    "- **Third law**: Whenever an object exerts a force $\\vec{F}_1$ (action) on a second object, this second object simultaneously exerts a force $\\vec{F}_2$ on the first object with the same magnitude but opposite direction (reaction): $\\vec{F}_2 = −\\vec{F}_1.$\n",
    "\n",
    "These three statements are astonishing in their simplicity and how much of knowledge they empower.   \n",
    "Isaac Newton was born in 1943 and his works that resulted in these equations and other discoveries were mostly done in the years of 1666 and 1667, when he was only 24 years old!  \n",
    "\n",
    "Here are these three laws in Newton's own words (from page 83 of Book I in the first American edition of the [*Philosophiæ Naturalis Principia Mathematica*](http://archive.org/details/newtonspmathema00newtrich):\n",
    "\n",
    "> LAW I.    \n",
    "> *Every body perseveres in its state of rest, or of uniform motion in a right line, unless it is compelled to change that state by forces impressed thereon.*   \n",
    "> LAW II.    \n",
    "> *The alteration of motion is ever proportional to the motive force impressed; and is made in the direction of the right line in which that force is impressed.*   \n",
    "> LAW III.   \n",
    "> *To every action there is always opposed an equal reaction: or the mutual actions of two bodies upon each other are always equal, and directed to contrary parts.*   \n",
    "\n",
    "And Newton carefully defined mass, motion, and force in the first page of the book I (page 73 of the [*Principia*](http://archive.org/details/newtonspmathema00newtrich)):  \n",
    "\n",
    "> DEFINITION I.   \n",
    "> *The quantity of matter is the measure of the same, arising from its density and bulk conjunctly.*   \n",
    "> ...It is this quantity that I mean hereafter everywhere under the name of body or mass.   \n",
    "> DEFINITION II.   \n",
    "> *The quantity of motion is the measure of the same, arising from the velocity and quantity of matter conjunctly.*    \n",
    "> The motion of the whole is the sum of the motions of all the parts; and therefore in a body double in quantity, with equal velocity, the motion is double; with twice the velocity, it is quadruple.   \n",
    "> DEFINITION IV.   \n",
    "> *An impressed force is an action exerted upon a body, in order to change its state, either of rest, or of moving uniformly forward in a right line.*"
   ]
  },
  {
   "cell_type": "markdown",
   "metadata": {},
   "source": [
    "## Fundamental concepts"
   ]
  },
  {
   "cell_type": "markdown",
   "metadata": {},
   "source": [
    "### Linear momentum\n",
    "\n",
    "From Definition II above, we can see that Newton defined as motion what we know today as linear momentum, the product between mass and velocity:\n",
    "\n",
    "$$ \\vec{p} = m\\vec{v} $$\n",
    "\n",
    "So, in his second law, *alteration of motion is ever proportional to the motive force impressed*, if we understand that it was implicit that the *alteration* occurs in a certain time (or we can understand *force impressed* as force during a certain  time), Newton actually stated:\n",
    "\n",
    "$$ \\vec{F} = \\frac{\\Delta\\vec{p}}{\\Delta t} \\;\\;\\;\\;\\;\\; \\text{or}\\;\\;\\;\\;\\;\\; \\vec{F}\\Delta t = \\Delta\\vec{p}$$\n",
    "\n",
    "What is equivalent to $\\vec{F} = m\\vec{a} \\; $ if mass is constant."
   ]
  },
  {
   "cell_type": "markdown",
   "metadata": {},
   "source": [
    "### Impulse\n",
    "\n",
    "The mechanical linear impulse is a related concept and it can be derived from the second law of motion:\n",
    "\n",
    "$$ \\vec{Imp} = \\vec{F}\\Delta t = m\\Delta\\vec{v} $$\n",
    "\n",
    "And if the force varies with time:\n",
    "\n",
    "$$ \\vec{Imp} = \\sum_t \\vec{F}(t)\\Delta t $$\n",
    "\n",
    "or using [infinitesimal calculus](http://en.wikipedia.org/wiki/Infinitesimal_calculus) (that it was independently developed by Newton himself and Leibniz):\n",
    "\n",
    "$$ \\vec{Imp} = \\int_t \\vec{F}(t)dt $$\n",
    "\n",
    "The concept of impulse due to a force that varies with time is often applied in biomechanics because it is common to measure forces (for example, with force plates) during human movement.  \n",
    "When such varying force is measured, the impulse can be calculated as the area under the force-versus-time curve:"
   ]
  },
  {
   "cell_type": "code",
   "execution_count": 2,
   "metadata": {
    "ExecuteTime": {
     "end_time": "2021-02-03T11:34:44.747485Z",
     "start_time": "2021-02-03T11:34:44.531765Z"
    }
   },
   "outputs": [
    {
     "data": {
      "image/png": "[encoded data removed]",
      "text/plain": [
       "<Figure size 576x360 with 1 Axes>"
      ]
     },
     "metadata": {
      "needs_background": "light"
     },
     "output_type": "display_data"
    }
   ],
   "source": [
    "# simulate some data:\n",
    "t = np.arange(0, 1.01, 0.01)\n",
    "f = 1000*(-t**3+t**2)\n",
    "# plot:\n",
    "plt.rc('axes',  labelsize=16) \n",
    "plt.rc('xtick', labelsize=14) \n",
    "plt.rc('ytick', labelsize=14)\n",
    "hfig, hax = plt.subplots(1,1, figsize=(8,5))\n",
    "hax.plot(t, f, linewidth=3)\n",
    "hax.set_xlim(-.1, 1.1)\n",
    "hax.grid()\n",
    "hax.set_ylabel('Force [N]')\n",
    "hax.set_xlabel('Time [s]')\n",
    "plt.fill(t, f, 'b', alpha=0.3)\n",
    "# area (impulse) with the trapz numerical integration method:\n",
    "from scipy.integrate import trapz\n",
    "imp = trapz(f, t)\n",
    "# plot a rectangle for the mean impulse value:\n",
    "plt.fill(np.array([t[0], t[0], t[-1], t[-1]]),\n",
    "         np.array([0, imp, imp, 0]/(t[-1]-t[0])), 'r', alpha=0.3)\n",
    "s = '$i=F\\Delta t = %.1f Ns$'%imp \n",
    "plt.text(.4, 40, s, fontsize=18,\n",
    "         bbox=dict(facecolor='white', edgecolor='white'));"
   ]
  },
  {
   "cell_type": "markdown",
   "metadata": {},
   "source": [
    "### Force\n",
    "\n",
    "There are many manifestations of force we may experience during movement: gravitational, friction, ground reaction force, muscle force, buoyancy, elastic force, and other less visible such as electromagnetic, nuclear, etc. But in reality, all these different forces can be grouped in only four fundamental forces:\n",
    "\n",
    "- Strong force: hold the nucleus of an atom together. Range of action is $10^{-15}$ m. \n",
    "- Weak force: force acting between particles of the nucleus. Range of action is $10^{-18}$ m.\n",
    "- Electromagnetic force: forces between electrical charges and the magnetic forces.\n",
    "- Gravity force: forces between masses; is the weakest of the four fundamental forces.\n",
    "\n",
    "In mechanics, forces can be classified as either contact or body forces. The contact force acts at the point of contact between two bodies. The body force acts on the entire body with no contact (e.g., gravity and electromagnetic forces).   \n",
    "In biomechanics, another useful classification is to divide the forces in either external or internal in relation to the human body. External forces result from interactions with an external body or environment (e.g., gravity and ground reaction forces). Internal forces result from interactions inside the body (e.g., the forces between bones)."
   ]
  },
  {
   "cell_type": "markdown",
   "metadata": {},
   "source": [
    "### Work\n",
    "\n",
    "The mechanical work of a force done on a body is the product between the component of the force in the direction of the resultant motion and the displacement: \n",
    "\n",
    "$$ W = \\vec{F} \\cdot \\Delta\\vec{x} $$\n",
    "\n",
    "Where the symbol $\\cdot$ stands for the [scalar product](http://nbviewer.ipython.org/github/demotu/BMC/blob/master/notebooks/ScalarVector.ipynb) mathematical function.\n",
    "\n",
    "Mechanical work can also be understood as the amount of mechanical energy transferred into or out of a system."
   ]
  },
  {
   "cell_type": "markdown",
   "metadata": {},
   "source": [
    "### Mechanical energy\n",
    "\n",
    "Mechanical energy is the sum of kinetic and potential energies.\n",
    "\n",
    "#### Kinetic energy\n",
    "\n",
    "$$ E_k = \\frac{1}{2}mv^2 $$\n",
    "\n",
    "The linear momentum and the kinetic energy are related by:\n",
    "\n",
    "$$ \\vec{p} = \\frac{\\partial E_k}{\\partial\\vec{v}} $$\n",
    "\n",
    "#### Potential energy\n",
    "\n",
    "The potential energy due to the gravitational force at the Earth's surface is:\n",
    "\n",
    "$$ E_p = mgh $$\n",
    "\n",
    "The potential energy stored in a spring is:\n",
    "\n",
    "$$ E_p = \\frac{1}{2}Kx^2 $$\n",
    "\n",
    "#### Power \n",
    " \n",
    "$$ P = \\frac{\\Delta E}{\\Delta t} \\quad \\text{and} \\quad P = \\vec{F} \\cdot \\vec{v} $$"
   ]
  },
  {
   "cell_type": "markdown",
   "metadata": {},
   "source": [
    "### Angular momentum\n",
    "\n",
    "In analogy to the linear momentum, the angular momentum is the quantity of movement of a particle rotating around an axis at a distance $\\vec{r}$:\n",
    "\n",
    "$$ \\vec{L} = \\vec{r} \\times \\vec{p} $$\n",
    "\n",
    "For a particle rotating around an axis, the angular momentum can be expressed as:\n",
    "\n",
    "$$ \\vec{L} = I \\vec{\\omega} $$\n",
    "\n",
    "Where $I$ is the rotational inertia or moment of inertia of the particle around the axis."
   ]
  },
  {
   "cell_type": "markdown",
   "metadata": {},
   "source": [
    "### Torque (moment of force)\n",
    "\n",
    "In analogy to the second Newton's law for the linear case, torque or moment of force (or simply moment) is the time derivative of angular momentum:\n",
    "\n",
    "$$ \\vec{L} = \\frac{d\\vec{L}}{dt} = \\frac{d}{dt}(\\vec{r} \\times \\vec{p}) = \\frac{d\\vec{r}}{dt} \\times \\vec{p} + \\vec{r} \\times \\frac{d\\vec{p}}{dt} = 0 + \\vec{r} \\times \\vec{F} $$\n",
    "\n",
    "$$ \\vec{M} = \\vec{r} \\times \\vec{F} $$\n",
    "\n",
    "$$ \\vec{M} = (r_x\\:\\mathbf{\\hat{i}}+r_y\\:\\mathbf{\\hat{j}}+r_z\\:\\mathbf{\\hat{k}}) \\times  (F_x\\:\\mathbf{\\hat{i}}+F_y\\:\\mathbf{\\hat{j}}+F_z\\:\\mathbf{\\hat{k}}) $$\n",
    "\n",
    "Where the symbol $\\times$ stands for the [cross product](http://nbviewer.ipython.org/github/demotu/BMC/blob/master/notebooks/ScalarVector.ipynb) mathematical function.   \n",
    "The moment of force can be calculated as the determinant of the following matrix:\n",
    "\n",
    "$$ \\vec{M} = \\begin{bmatrix}\n",
    "\\mathbf{\\hat{i}} & \\mathbf{\\hat{j}} & \\mathbf{\\hat{k}} \\\\ \n",
    "r_x & r_y & r_z \\\\\n",
    "F_x & F_y & F_z \n",
    "\\end{bmatrix} $$\n",
    "\n",
    "$$ \\vec{M} = (r_yF_z-r_zF_y)\\mathbf{\\hat{i}}+(r_zF_x-r_xF_z)\\mathbf{\\hat{j}}+(r_xF_y-r_yF_x)\\mathbf{\\hat{k}} $$\n",
    "\n",
    "The moment of force can also be calculated by the geometric equivalent formula:\n",
    "\n",
    "$$ \\vec{M} = \\vec{r} \\times \\vec{F} = ||\\vec{r}||\\:||\\vec{F}||\\:sin(\\theta) $$\n",
    "\n",
    "Where $\\theta$ is the angle between the vectors $\\vec{r}$ and $\\vec{F}$. \n",
    "\n",
    "The animation below (from [Wikipedia](http://en.wikipedia.org/wiki/File:Torque_animation.gif)) illustrates the relationship between force ($\\vec{F}$), torque ($\\tau$), and momentum vectors ($\\mathbf{p}$ and $\\vec{L}$):   \n",
    "\n",
    "<figure><img src=\"http://upload.wikimedia.org/wikipedia/commons/0/09/Torque_animation.gif\" alt=\"Torque animation\" width=\"300\"/><figcaption><center><i>Figure. Relationship between force ($\\mathbf{F}$), torque ($\\tau$), and momentum vectors ($\\mathbf{p}$ and $\\mathbf{L}$) (from [Wikipedia](http://en.wikipedia.org/wiki/File:Torque_animation.gif)).</i></center></figcaption></figure>"
   ]
  },
  {
   "cell_type": "markdown",
   "metadata": {},
   "source": [
    "### Mechanical energy for angular motion\n",
    " \n",
    "#### Kinetic energy\n",
    " \n",
    "$$ E_k = \\frac{1}{2}I\\omega^2 $$\n",
    "\n",
    "#### Work\n",
    " \n",
    "$$ W = \\vec{M} \\cdot \\Delta\\vec{\\theta} $$\n",
    " \n",
    "#### Power\n",
    " \n",
    "$$ P = \\frac{\\Delta E}{\\Delta t} \\quad \\text{and} \\quad P = \\vec{M} \\cdot \\vec{\\omega} $$"
   ]
  },
  {
   "cell_type": "markdown",
   "metadata": {},
   "source": [
    "## Principles of conservation\n",
    "\n",
    "### Principle of conservation of linear momentum\n",
    "\n",
    "> *In a closed system with no external forces acting upon it, the total linear momentum of this system is constant.*\n",
    "\n",
    "### Principle of conservation of angular momentum\n",
    "\n",
    "> *In a closed system with no external forces acting upon it, the total angular momentum of this system is constant.*\n",
    "\n",
    "### Principle of conservation of mechanical energy\n",
    "\n",
    "> *In a closed system with no external forces acting upon it, the mechanical energy of this system is constant if only conservative forces act in this system.*\n",
    "\n",
    "\n",
    "#### Conservative forces\n",
    "\n",
    "A force is said to be conservative if this force produces the same work regardless of its trajectory between two points, if not the force is said to be non-conservative. Mathematically, the force $\\vec{F}$ is conservative if:\n",
    "\n",
    "$$ \\oint \\vec{F} \\cdot d\\vec{s} = 0 $$\n",
    "\n",
    "The gravitational force and the elastic force of an ideal spring are examples of conservative forces but friction force is not conservative. The forces generated by our muscles are also not conservative."
   ]
  },
  {
   "cell_type": "markdown",
   "metadata": {
    "colab_type": "text",
    "id": "rnbQefDbM8iq",
    "lang": "en",
    "slideshow": {
     "slide_type": "slide"
    }
   },
   "source": [
    "## Steps to find the motion of a particle\n",
    "\n",
    "1. Draw a free body diagram of the particle. Draw all the forces being applied to the particle.  \n",
    "2. Write the expression of each force applied to the particle. For external forces (for example gravity and air friction) write the constitutive laws of the phenomena.  \n",
    "3. Write the Newton's second Law $\\vec{\\bf{F}} = m \\vec{\\bf{a}}$, where $\\vec{\\bf{F}}$ is the sum of all forces applied to the particle and $\\vec{\\bf{a}}$ is the particle acceleration.  \n",
    "4. Separate the equation into the 3 Cartesian components (or 2 components if the movement is bidimensional).  \n",
    "5. Solve the differential equations\n",
    " 1. If possible, solve the differential equations analytically.  \n",
    " 2. If not possible to solve the differential equations analytically, separate each equation into 2 first order differential equations and use some numerical method (e.g. Euler, Runge-Kutta) to solve the first order differential equations with the aid of a computer.   \n",
    "6. Use the solution to interpret the situation, or to find some error on your approach.  \n",
    "\n",
    "Later, we will study in details how to draw a free-body diagram.\n",
    "\n",
    "Let's see now some examples on how to find the motion of a particle"
   ]
  },
  {
   "cell_type": "markdown",
   "metadata": {
    "colab_type": "text",
    "id": "HlV8bOoJM8ir",
    "slideshow": {
     "slide_type": "slide"
    }
   },
   "source": [
    "### Example 1: Ball kicked into the air\n",
    "\n",
    "#### Analytical solution\n",
    "\n",
    "A football ball is kicked with an angle of 30 degrees with the ground (horizontal).  \n",
    "The mass of the ball is 0.43 kg. The initial speed of the ball is 20 m/s and the initial height is 0 m. Consider the gravitational acceleration as 9.81 $m/s^2$ and ignore the air resistance.  \n",
    "Find the motion of the ball. \n",
    "\n",
    "**Solution**:  \n",
    "\n",
    "We know that:  \n",
    "<span class=\"notranslate\">\n",
    "$$ x_0 = 0 m \\\\ y_0 = 0 m $$  \n",
    "</span>\n",
    "As the angle of the initial velocity of the ball with the ground is 30 degrees:  \n",
    "<span class=\"notranslate\">\n",
    "$$ v_{x0} = 20 \\cos(30^\\circ) = 20\\frac{\\sqrt{3}}{2} = 10\\sqrt{3} m/s \\\\\n",
    "v_{y0} = 20 \\sin(30^\\circ) = 20 \\frac{1}{2} = 10 m/s $$  \n",
    "</span>\n",
    "The free-body diagram of the ball is depicted below:\n",
    "   \n",
    "<figure><center><img src=\"../images/ballGrav.png\" alt=\"free-body diagram of a ball\" width=\"500\"/><figcaption><i>Figure. Free-body diagram of a ball under the influence of gravity.</i></figcaption></center></figure>"
   ]
  },
  {
   "cell_type": "markdown",
   "metadata": {
    "colab_type": "text",
    "id": "nOkZSRWyM8it",
    "slideshow": {
     "slide_type": "slide"
    }
   },
   "source": [
    "The only force acting on the ball is the gravitational force:  \n",
    "<br>\n",
    "<span class=\"notranslate\">\n",
    "$$ \\vec{F}_g = -mg \\; \\hat{\\bf{j}} $$ \n",
    "</span>\n",
    "\n",
    "So, we apply the Newton's second law:  \n",
    "<br>\n",
    "<span class=\"notranslate\">\n",
    "$$ \\vec{F}_g = m \\frac{d^2\\vec{r}}{dt^2} \\quad \\rightarrow \\quad - mg \\; \\hat{\\bf{j}} = m \\frac{d^2\\vec{r}}{dt^2} \\quad \\rightarrow \\quad - g \\; \\hat{\\bf{j}} = \\frac{d^2\\vec{r}}{dt^2} $$\n",
    "</span>\n",
    "\n",
    "Now, we can separate the equation in two components (x and y):  \n",
    "<br>\n",
    "<span class=\"notranslate\">\n",
    "$$ 0 = \\frac{d^2x}{dt^2} $$\n",
    "</span>\n",
    "and\n",
    "<span class=\"notranslate\">\n",
    "$$ -g = \\frac{d^2y}{dt^2} $$\n",
    "</span>"
   ]
  },
  {
   "cell_type": "markdown",
   "metadata": {
    "colab_type": "text",
    "id": "KlXsUdmkM8iy",
    "lang": "en",
    "slideshow": {
     "slide_type": "slide"
    }
   },
   "source": [
    "These equations can be easily solved analytically by integrating both sides of each equation:  \n",
    "<br>\n",
    "<span class=\"notranslate\">\n",
    "$$ 0 = \\frac{d^2x}{dt^2} \\quad \\rightarrow v_{x0} = \\frac{dx}{dt} \\quad \\rightarrow \\quad v_{x0}t + x_{0} = x(t) $$\n",
    "</span>\n",
    "and\n",
    "<span class=\"notranslate\">\n",
    "$$ -g = \\frac{d^2y}{dt^2} \\quad \\rightarrow - gt + v_{y0} = \\frac{dy}{dt} \\quad \\rightarrow \\quad -\\frac{g}{2}t^2 +v_{y0}t + y_{0} = y(t) $$\n",
    "</span>\n",
    "\n",
    "Given the known initial conditions, the trajectory of the ball along time is:  \n",
    "<br>\n",
    "<span class=\"notranslate\">\n",
    "$$ x(t) = v_{x0}t $$\n",
    "</span>\n",
    "and \n",
    "<span class=\"notranslate\">\n",
    "$$ y(t) =  -\\frac{g}{2} t^2 + v_{y0}t $$\n",
    "</span>\n",
    "or \n",
    "<span class=\"notranslate\">\n",
    "$$ \\vec{\\bf{r}}(t) =  v_{x0}t \\; \\hat{\\bf{i}} + \\left(-\\frac{g}{2} t^2 + v_{y0}t \\right) \\; \\hat{\\bf{j}} $$\n",
    "</span>"
   ]
  },
  {
   "cell_type": "markdown",
   "metadata": {},
   "source": [
    "##### Plot"
   ]
  },
  {
   "cell_type": "code",
   "execution_count": 3,
   "metadata": {
    "ExecuteTime": {
     "end_time": "2021-02-03T11:34:44.750623Z",
     "start_time": "2021-02-03T11:34:44.748722Z"
    },
    "colab": {},
    "colab_type": "code",
    "id": "h_GGqUuXM8it",
    "slideshow": {
     "slide_type": "slide"
    }
   },
   "outputs": [],
   "source": [
    "m   = 0.43           # [kg]\n",
    "x0  = 0              # [m]\n",
    "y0  = 0              # [m]\n",
    "vx0 = 10*np.sqrt(3)  # [m/s]\n",
    "vy0 = 10             # [m/s]\n",
    "g   = 9.81           # [m/s^2]"
   ]
  },
  {
   "cell_type": "code",
   "execution_count": 4,
   "metadata": {
    "ExecuteTime": {
     "end_time": "2021-02-03T11:34:44.832708Z",
     "start_time": "2021-02-03T11:34:44.751752Z"
    },
    "colab": {},
    "colab_type": "code",
    "id": "03OWHJ_lM8iy",
    "outputId": "1f99c1f4-d870-4738-b25a-0d167b3eac84",
    "slideshow": {
     "slide_type": "slide"
    }
   },
   "outputs": [
    {
     "data": {
      "image/png": "[encoded data removed]",
      "text/plain": [
       "<Figure size 576x288 with 1 Axes>"
      ]
     },
     "metadata": {
      "needs_background": "light"
     },
     "output_type": "display_data"
    }
   ],
   "source": [
    "dt = 0.001  # [s]\n",
    "t  = np.arange(0, 2.05, dt)\n",
    "x1a = vx0*t\n",
    "y1a = -g/2*t**2 + vy0*t\n",
    "plt.figure(figsize=(8, 4))\n",
    "plt.plot(x1a, y1a, lw=4)\n",
    "plt.xlim(0, 36)\n",
    "plt.ylim(0, 6)\n",
    "plt.title('Ball trajectory')\n",
    "plt.xlabel('x')\n",
    "plt.ylabel('y')\n",
    "plt.show()"
   ]
  },
  {
   "cell_type": "markdown",
   "metadata": {
    "colab_type": "text",
    "id": "XSH7-IM-M8i2",
    "slideshow": {
     "slide_type": "slide"
    }
   },
   "source": [
    "#### Numerical solution\n",
    "\n",
    "We can solve this problem numerically and compare both solutions.\n",
    "\n",
    "We start from the differential equations of each coordinate, and then break each one into two first-order differential equations:  \n",
    "<br>\n",
    "<span class=\"notranslate\">\n",
    "$$ 0 = \\frac{d^2x}{dt^2} $$\n",
    "</span>\n",
    "and\n",
    "<span class=\"notranslate\">\n",
    "$$ - g = \\frac{d^2y}{dt^2} $$\n",
    "</span>\n",
    "The first equation can be broken as:\n",
    "<span class=\"notranslate\">\n",
    "$$ \\frac{dv_x}{dt} = 0 $$\n",
    "</span>\n",
    "<span class=\"notranslate\">\n",
    "$$ \\frac{dx}{dt} = v_x(t) $$\n",
    "</span>\n",
    "And the second equation can be broken as:\n",
    "<span class=\"notranslate\">\n",
    "$$ \\frac{dv_y}{dt} = -g $$\n",
    "</span>\n",
    "<span class=\"notranslate\">\n",
    "$$ \\frac{dy}{dt} = v_y(t) $$\n",
    "</span>\n",
    "\n",
    "You can use any numerical integration method you want (Euler, Runge-Kutta, etc), but here we will use the Euler method. Let's see the solution for the $x(t)$ variable.\n",
    "\n",
    "The derivative of $x(t)$ is given by:  \n",
    "<br>\n",
    "<span class=\"notranslate\">\n",
    "$$ \\frac{dx}{dt} = \\lim\\limits_{\\Delta t \\rightarrow 0} \\frac{x(t+\\Delta t) - x(t)}{\\Delta t} $$\n",
    "</span>\n",
    "\n",
    "Which can be approximated by:   \n",
    "<br>\n",
    "<span class=\"notranslate\">\n",
    "$$ \\frac{dx}{dt} \\approx \\frac{x(t+\\Delta t) - x(t)}{\\Delta t} \\quad \\rightarrow \\quad x(t+\\Delta t) \\approx x(t) + \\Delta t \\frac{dx}{dt} $$\n",
    "</span>\n",
    "\n",
    "So, with the initial conditions of all the variables, we can apply the equation above to find the values of the variables along time (for a revision of Ordinary Differential Equations, see the notebook [Ordinary Differential Equation](https://nbviewer.jupyter.org/github/BMClab/bmc/blob/master/notebooks/OrdinaryDifferentialEquation.ipynb)).  \n",
    "In the cell below, we apply the Euler method for the four first-order differential equations."
   ]
  },
  {
   "cell_type": "code",
   "execution_count": 5,
   "metadata": {
    "ExecuteTime": {
     "end_time": "2021-02-03T11:34:44.850590Z",
     "start_time": "2021-02-03T11:34:44.833639Z"
    },
    "colab": {},
    "colab_type": "code",
    "id": "dMNLst17M8i4",
    "slideshow": {
     "slide_type": "slide"
    }
   },
   "outputs": [],
   "source": [
    "x  = x0\n",
    "y  = y0\n",
    "vx = vx0\n",
    "vy = vy0\n",
    "r  = np.array([x, y])\n",
    "while y >= 0:\n",
    "    dxdt = vx            # 1st equation\n",
    "    x = x + dt * dxdt\n",
    "    dydt = vy            # 2nd equation\n",
    "    y = y + dt * dydt\n",
    "    dvxdt = 0            # 3rd equation\n",
    "    vx = vx + dt * dvxdt\n",
    "    dvydt = -g           # 4th equation\n",
    "    vy = vy + dt * dvydt\n",
    "    r = np.vstack((r, np.array([x, y])))"
   ]
  },
  {
   "cell_type": "markdown",
   "metadata": {},
   "source": [
    "##### Plot"
   ]
  },
  {
   "cell_type": "code",
   "execution_count": 6,
   "metadata": {
    "ExecuteTime": {
     "end_time": "2021-02-03T11:34:44.946866Z",
     "start_time": "2021-02-03T11:34:44.851634Z"
    },
    "colab": {},
    "colab_type": "code",
    "id": "RpDwAX9dM8i7",
    "outputId": "1b690a23-0e59-4ba0-9cc3-cda7f5b4e967",
    "slideshow": {
     "slide_type": "slide"
    }
   },
   "outputs": [
    {
     "data": {
      "image/png": "[encoded data removed]",
      "text/plain": [
       "<Figure size 576x288 with 1 Axes>"
      ]
     },
     "metadata": {
      "needs_background": "light"
     },
     "output_type": "display_data"
    }
   ],
   "source": [
    "plt.figure(figsize=(8, 4))\n",
    "x1n = r[:, 0]\n",
    "y1n = r[:, 1]\n",
    "plt.plot(x1n, y1n, ls='-', lw=6, alpha=1, label='numeric')\n",
    "plt.plot(x1a, y1a, ls=':', lw=4, alpha=.8, label='analytic')\n",
    "plt.xlim(0, 36)\n",
    "plt.ylim(0, 6)\n",
    "plt.title('Ball trajectory')\n",
    "plt.legend()\n",
    "plt.xlabel('x')\n",
    "plt.ylabel('y')\n",
    "plt.show()"
   ]
  },
  {
   "cell_type": "markdown",
   "metadata": {
    "colab_type": "text",
    "id": "nfEL9e-tM8jA",
    "slideshow": {
     "slide_type": "slide"
    }
   },
   "source": [
    "### Example 2: Ball kicked into the air considering the air drag\n",
    "\n",
    "Now, besides the gravity, we consider the drag due to the air resistance ($b$ = 0.006 Ns/m).  \n",
    "First we will consider the drag force  proportional to the speed and opposite direction to the velocity vector.\n",
    "       \n",
    "<figure><center><img src=\"../images/ballGravLinearRes.png\" alt=\"free-body diagram of the ball\" width=\"500\"/><figcaption><i>Figure. Free-body diagram of a ball under the influence of gravity and drag.</i></figcaption></center></figure>\n",
    "\n",
    "So the forces being applied on the ball are:  \n",
    "<br>\n",
    "<span class=\"notranslate\">\n",
    "$$ \\vec{F} = -mg \\; \\hat{\\bf{j}} - b\\vec{v} = -mg \\; \\hat{\\bf{j}} - b\\frac{d\\vec{r}}{dt} = -mg \\;  \\hat{\\bf{j}} - b\\left(\\frac{dx}{dt} \\; \\hat{\\bf{i}}+\\frac{dy}{dt} \\; \\hat{\\bf{j}}\\right) = - b\\frac{dx}{dt} \\; \\hat{\\bf{i}} - \\left(mg + b\\frac{dy}{dt}\\right) \\; \\hat{\\bf{j}} $$\n",
    "</span>\n",
    "\n",
    "Writing down the Newton's second law:  \n",
    "<br>\n",
    "<span class=\"notranslate\">\n",
    "$$ \\vec{F} = m \\frac{d^2\\vec{r}}{dt^2} \\quad \\rightarrow \\quad - b\\frac{dx}{dt} \\; \\hat{\\bf{i}} - \\left(mg + b\\frac{dy}{dt}\\right) \\; \\hat{\\bf{j}} = m\\left(\\frac{d^2x}{dt^2} \\; \\hat{\\bf{i}}+\\frac{d^2y}{dt^2} \\; \\hat{\\bf{j}}\\right) $$\n",
    "</span>\n",
    "\n",
    "Now, we can separate into one equation for each coordinate:  \n",
    "<br>\n",
    "<span class=\"notranslate\">\n",
    "$$ - b\\frac{dx}{dt} = m\\frac{d^2x}{dt^2} \\quad \\rightarrow \\quad \\frac{d^2x}{dt^2} = -\\frac{b}{m} \\frac{dx}{dt} $$\n",
    "</span>\n",
    "<span class=\"notranslate\">\n",
    "$$ -mg - b\\frac{dy}{dt} = m\\frac{d^2y}{dt^2} \\quad \\rightarrow \\quad \\frac{d^2y}{dt^2} = -\\frac{b}{m}\\frac{dy}{dt} - g $$ \n",
    "</span>\n",
    "\n",
    "We can solve these equations analytically, for example, by using Laplace Transform or classical methods to solve linear differential equations."
   ]
  },
  {
   "cell_type": "markdown",
   "metadata": {
    "colab_type": "text",
    "id": "x41TfRSQM8jB",
    "slideshow": {
     "slide_type": "slide"
    }
   },
   "source": [
    "#### Analytical solution\n",
    "\n",
    "The solution of a linear differential equation can be found by finding the natural (or homogeneous) solution and the forced (or non-homogeneous) solution and then adding both solutions.\n",
    "\n",
    "First, we solve the first differential equation ($x$ coordinate). The characteristic polynomial of the equation is:  \n",
    "<br>\n",
    "<span class=\"notranslate\">\n",
    "$$ \\lambda^2 + \\frac{b}{m}\\lambda = 0 $$ \n",
    "</span>\n",
    "\n",
    "The roots of this equation are $\\lambda = 0$ and $\\lambda = -\\frac{b}{m}$, and consequently, its natural modes are:  \n",
    "<br>\n",
    "<span class=\"notranslate\">\n",
    "$$ x_{n_1}(t) = Ae^{0t} = A \\\\\n",
    "x_{n_2}(t) = B e^{-\\frac{b}{m}t} $$ \n",
    "</span>\n",
    "\n",
    "As there is no external forces in the $x$ direction, there is no forced solution. So, the motion of the ball in the $x$ coordinate is:  \n",
    "<br>\n",
    "<span class=\"notranslate\">\n",
    "$$ x(t) = A + Be^{-\\frac{b}{m}t} $$\n",
    "</span>\n",
    "\n",
    "To find the values of the $A$ and $B$ constants, we must use the initial conditions $x(0)$ and $v_x(0)$.  \n",
    "<br>\n",
    "<span class=\"notranslate\">\n",
    "$$ x(0) = 0 = A + B $$\n",
    "</span>\n",
    "<span class=\"notranslate\">\n",
    "$$ v_x(0) = v_{x0} = \\frac{dx(0)}{dt} = -\\frac{Bb}{m}e^{-\\frac{b}{m}0} \\quad \\rightarrow \\quad B = -\\frac{v_{x0}m}{b} \\quad \\rightarrow \\quad A = \\frac{v_{x0}m}{b} $$\n",
    "</span>  \n",
    "\n",
    "So:\n",
    "<span class=\"notranslate\">\n",
    "$$ x(t) = \\frac{v_{x0}m}{b} - \\frac{v_{x0}m}{b}e^{-\\frac{b}{m}t} = \\frac{v_{x0}m}{b}\\left(1-e^{-\\frac{b}{m}t} \\right) $$\n",
    "</span>"
   ]
  },
  {
   "cell_type": "markdown",
   "metadata": {
    "colab_type": "text",
    "id": "RqJr2O4NM8jC",
    "slideshow": {
     "slide_type": "slide"
    }
   },
   "source": [
    "Now, we solve the differential equation for the $y$ coordinate.  \n",
    "First, we find the natural solution, which comprises the solution from the equation without the gravitational force (the force independent of y(t) and its derivatives), in this case:  \n",
    "<br>\n",
    "<span class=\"notranslate\">\n",
    "$$ \\frac{d^2y}{dt^2} = -\\frac{b}{m}\\frac{dy}{dt} $$\n",
    "    \n",
    "</span>\n",
    "The solution of this equation is the same from the $x$ coordinate:  \n",
    "<br>\n",
    "<span class=\"notranslate\">\n",
    "$$ y_n(t) = A + Be^{-\\frac{b}{m}t} $$\n",
    "</span>\n",
    "\n",
    "The forced solution (including the gravitational force, which is constant) happens when every derivative, with the exception of the derivative with the lowest order (in this case order 1 but it could be order 0, i.e. no derivative) goes to zero.  \n",
    "<br>\n",
    "<span class=\"notranslate\">\n",
    "$$\\frac{d^2y}{dt^2} \\quad = \\quad 0 \\quad = \\quad -\\frac{b}{m}\\frac{dy_f}{dt} - g \\quad \\rightarrow \\quad \\frac{dy_f}{dt} = -\\frac{mg}{b} \\quad \\rightarrow \\quad y_f(t) = -\\frac{mg}{b}t $$\n",
    "</span>"
   ]
  },
  {
   "cell_type": "markdown",
   "metadata": {
    "colab_type": "text",
    "id": "5EzIiZbUM8jE",
    "slideshow": {
     "slide_type": "slide"
    }
   },
   "source": [
    "The complete solution of the motion of the ball in the $y$ coordinate is the sum of the natural and forced solutions:  \n",
    "<br>\n",
    "<span class=\"notranslate\">\n",
    "$$ y(t) = A + Be^{-\\frac{b}{m}t} - \\frac{mg}{b}t $$\n",
    "</span>\n",
    "\n",
    "To find the values of the constants A and B, we must use the initial conditions $y(0)$ and $v_y(0)$.  \n",
    "<br>\n",
    "<span class=\"notranslate\">\n",
    "$$ y(0) = 0 = A + B $$\n",
    "</span>\n",
    "<span class=\"notranslate\">\n",
    "$$ v_y(0) = v_{y0} = \\frac{dy(0)}{dt} = - \\frac{Bb}{m} - \\frac{mg}{b} \\\\\n",
    "B = -\\frac{m^2g}{b^2} -\\frac{v_{y0}m}{b} \\\\\n",
    "A = +\\frac{m^2g}{b^2} + \\frac{v_{y0}m}{b} $$\n",
    "</span>\n",
    "\n",
    "So, the motion of the ball in the y coordinate is:  \n",
    "<br>\n",
    "<span class=\"notranslate\">\n",
    "$$ y(t) = \\left(\\frac{m^2g}{b^2} + \\frac{v_{y0}m}{b}\\right) - \\left(\\frac{m^2g}{b^2} + \\frac{v_{y0}m}{b}\\right)e^{-\\frac{b}{m}t} -\\frac{mg}{b}t \\\\\n",
    "y(t) = \\left(\\frac{m^2g}{b^2} + \\frac{v_{y0}m}{b}\\right)\\left(1 - e^{-\\frac{b}{m}t}\\right) - \\frac{mg}{b}t $$\n",
    "</span>"
   ]
  },
  {
   "cell_type": "code",
   "execution_count": 7,
   "metadata": {
    "ExecuteTime": {
     "end_time": "2021-02-03T11:34:44.950227Z",
     "start_time": "2021-02-03T11:34:44.947812Z"
    }
   },
   "outputs": [],
   "source": [
    "b = 0.006  # [Ns/m]\n",
    "t = np.arange(0, 2.05, 0.01)\n",
    "x2a = vx0*m/b*(1 - np.exp(-b/m*t))\n",
    "y2a = (vy0*m/b + g*m**2/b**2) * (1 - np.exp(-b/m*t)) - g*m/b*t"
   ]
  },
  {
   "cell_type": "markdown",
   "metadata": {
    "ExecuteTime": {
     "end_time": "2021-02-03T02:48:34.422833Z",
     "start_time": "2021-02-03T02:48:34.418277Z"
    }
   },
   "source": [
    "##### Plot"
   ]
  },
  {
   "cell_type": "code",
   "execution_count": 8,
   "metadata": {
    "ExecuteTime": {
     "end_time": "2021-02-03T11:34:45.028311Z",
     "start_time": "2021-02-03T11:34:44.951473Z"
    },
    "colab": {},
    "colab_type": "code",
    "id": "04ZSdYNWM8jF",
    "outputId": "9ea68054-1836-4455-f488-59e61bb184db",
    "slideshow": {
     "slide_type": "slide"
    }
   },
   "outputs": [
    {
     "data": {
      "image/png": "[encoded data removed]",
      "text/plain": [
       "<Figure size 576x288 with 1 Axes>"
      ]
     },
     "metadata": {
      "needs_background": "light"
     },
     "output_type": "display_data"
    }
   ],
   "source": [
    "plt.figure(figsize=(8, 4))\n",
    "plt.plot(x2a, y2a, lw=4)\n",
    "plt.xlim(0, 36)\n",
    "plt.ylim(0, 6)\n",
    "plt.title('Ball trajectory')\n",
    "plt.xlabel('x')\n",
    "plt.ylabel('y')\n",
    "plt.show()"
   ]
  },
  {
   "cell_type": "markdown",
   "metadata": {
    "colab_type": "text",
    "id": "fjWZclG7M8jK",
    "slideshow": {
     "slide_type": "slide"
    }
   },
   "source": [
    "#### Numerical solution\n",
    "\n",
    "Now, we will solve the same situation using a numerical method (Euler method).  \n",
    "We start from the equations previously found for each coordinate:  \n",
    "<br>\n",
    "<span class=\"notranslate\">\n",
    "$$ \\frac{d^2x}{dt^2} = -\\frac{b}{m} \\frac{dx}{dt} $$\n",
    "</span>\n",
    "<span class=\"notranslate\">\n",
    "$$ \\frac{d^2y}{dt^2} = -\\frac{b}{m}\\frac{dy}{dt} - g $$\n",
    "</span>\n",
    "\n",
    "We can separate each equation into two first order equations and apply the Euler method:  \n",
    "<br>\n",
    "<span class=\"notranslate\">\n",
    "$$ \\frac{dv_x}{dt} = -\\frac{b}{m} v_x $$\n",
    "</span>\n",
    "<span class=\"notranslate\">\n",
    "$$ \\frac{dx}{dt} = v_x $$\n",
    "</span>\n",
    "<span class=\"notranslate\">\n",
    "$$ \\frac{dv_y}{dt} = -\\frac{b}{m}v_y - g $$\n",
    "</span>\n",
    "<span class=\"notranslate\">\n",
    "$$ \\frac{dy}{dt} = v_y $$\n",
    "</span>"
   ]
  },
  {
   "cell_type": "code",
   "execution_count": 9,
   "metadata": {
    "ExecuteTime": {
     "end_time": "2021-02-03T11:34:45.046249Z",
     "start_time": "2021-02-03T11:34:45.029352Z"
    },
    "colab": {},
    "colab_type": "code",
    "id": "YkEz1B5VM8jL",
    "slideshow": {
     "slide_type": "slide"
    }
   },
   "outputs": [],
   "source": [
    "x  = x0\n",
    "y  = y0\n",
    "vx = vx0\n",
    "vy = vy0\n",
    "r  = np.array([x, y])\n",
    "while y >= 0:\n",
    "    dxdt = vx\n",
    "    x = x + dt * dxdt\n",
    "    dydt = vy\n",
    "    y = y + dt * dydt\n",
    "    dvxdt = -b/m*vx\n",
    "    vx = vx + dt * dvxdt\n",
    "    dvydt = -g - b/m*vy\n",
    "    vy = vy + dt * dvydt\n",
    "    r = np.vstack((r, np.array([x, y])))"
   ]
  },
  {
   "cell_type": "markdown",
   "metadata": {},
   "source": [
    "##### Plot"
   ]
  },
  {
   "cell_type": "code",
   "execution_count": 10,
   "metadata": {
    "ExecuteTime": {
     "end_time": "2021-02-03T11:34:45.139457Z",
     "start_time": "2021-02-03T11:34:45.047193Z"
    },
    "colab": {},
    "colab_type": "code",
    "id": "-UgCUusuM8jO",
    "outputId": "27e3ee61-eb8a-4c9b-9ff1-69def6ce0b6a",
    "slideshow": {
     "slide_type": "slide"
    }
   },
   "outputs": [
    {
     "data": {
      "image/png": "[encoded data removed]",
      "text/plain": [
       "<Figure size 576x288 with 1 Axes>"
      ]
     },
     "metadata": {
      "needs_background": "light"
     },
     "output_type": "display_data"
    }
   ],
   "source": [
    "plt.figure(figsize=(8, 4))\n",
    "x2n = r[:, 0]\n",
    "y2n = r[:, 1]\n",
    "plt.plot(x2n, y2n, ls='-', lw=6, alpha=1, label='numeric')\n",
    "plt.plot(x2a, y2a, ls=':', lw=4, alpha=.8, label='analytic')\n",
    "plt.xlim(0, 36)\n",
    "plt.ylim(0, 6)\n",
    "plt.title('Ball trajectory')\n",
    "plt.legend()\n",
    "plt.xlabel('x')\n",
    "plt.ylabel('y')\n",
    "plt.show()"
   ]
  },
  {
   "cell_type": "markdown",
   "metadata": {
    "colab_type": "text",
    "id": "M_NMu46AM8jU",
    "slideshow": {
     "slide_type": "slide"
    }
   },
   "source": [
    "### Example 3: Ball kicked into the air considering the air drag proportional to square of speed\n",
    "\n",
    "Now, we will consider the drag force due to the air resistance proportional to the square of speed and still in the opposite direction of the velocity vector. \n",
    "           \n",
    "<figure><center><img src=\"../images/ballGravSquareRes.png\" alt=\"free-body diagram of the ball\" width=\"500\"/><figcaption><i>Figure. Free-body diagram of a ball under the influence of gravity and drag proportional to the square of speed.</i></figcaption></center></figure>"
   ]
  },
  {
   "cell_type": "markdown",
   "metadata": {
    "colab_type": "text",
    "id": "36ViR3o1M8jU"
   },
   "source": [
    "So the forces being applied on the ball are (for a revision of Time-varying frames and the meaning of the $\\hat{\\bf{e_t}}$, see [Time-varying frames notebook](https://nbviewer.jupyter.org/github/BMClab/bmc/blob/master/notebooks/Time-varying%20frames.ipynb)):  \n",
    "<br>\n",
    "<span class=\"notranslate\">\n",
    "$$ \\vec{F} = -mg \\; \\hat{\\bf{j}} - bv^2\\hat{\\bf{e_t}} \\\\\n",
    "\\vec{F} = -mg \\; \\hat{\\bf{j}} - b (v_x^2+v_y^2) \\frac{v_x \\; \\hat{\\bf{i}} + v_y \\; \\hat{\\bf{j}}}{\\sqrt{v_x^2+v_y^2}} \\\\\n",
    "\\vec{F} = -mg \\; \\hat{\\bf{j}} - b \\sqrt{v_x^2+v_y^2} \\,(v_x \\; \\hat{\\bf{i}}+v_y \\; \\hat{\\bf{j}}) \\\\\n",
    "\\vec{F} = -mg \\; \\hat{\\bf{j}} - b \\sqrt{\\left(\\frac{dx}{dt} \\right)^2+\\left(\\frac{dy}{dt} \\right)^2} \\,\\left(\\frac{dx}{dt} \\hat{\\bf{i}} + \\frac{dy}{dt} \\; \\hat{\\bf{j}}\\right) $$\n",
    "</span>  \n",
    "\n",
    "Writing down the Newton's second law:  \n",
    "<br>\n",
    "<span class=\"notranslate\">\n",
    "$$ \\vec{F} = m \\frac{d^2\\vec{r}}{dt^2} \\\\\n",
    "-mg \\; \\hat{\\bf{j}} - b \\sqrt{\\left(\\frac{dx}{dt} \\right)^2+\\left(\\frac{dy}{dt} \\right)^2} \\,\\left(\\frac{dx}{dt} \\hat{\\bf{i}}+\\frac{dy}{dt}\\hat{\\bf{j}}\\right) = m\\left(\\frac{d^2x}{dt^2}\\hat{\\bf{i}}+\\frac{d^2y}{dt^2}\\hat{\\bf{j}}\\right) $$\n",
    "</span>  \n",
    "\n",
    "Now, we can separate into one equation for each coordinate:  \n",
    "<br>\n",
    "<span class=\"notranslate\">\n",
    "$$ - b \\sqrt{\\left(\\frac{dx}{dt} \\right)^2+\\left(\\frac{dy}{dt} \\right)^2} \\,\\frac{dx}{dt} = m\\frac{d^2x}{dt^2} \\quad \\rightarrow \\\\\n",
    "\\frac{d^2x}{dt^2} = - \\frac{b}{m} \\sqrt{\\left(\\frac{dx}{dt} \\right)^2+\\left(\\frac{dy}{dt} \\right)^2} \\,\\frac{dx}{dt} $$\n",
    "</span>\n",
    "<span class=\"notranslate\">\n",
    "$$ -mg - b \\sqrt{\\left(\\frac{dx}{dt} \\right)^2+\\left(\\frac{dy}{dt} \\right)^2} \\,\\frac{dy}{dt} = m\\frac{d^2y}{dt^2} \\quad \\rightarrow \\\\\n",
    "\\frac{d^2y}{dt^2} = - \\frac{b}{m} \\sqrt{\\left(\\frac{dx}{dt} \\right)^2 + \\left(\\frac{dy}{dt} \\right)^2} \\,\\frac{dy}{dt} -g $$\n",
    "</span>  \n",
    "\n",
    "These equations are very difficult to solve analytically, but they can be easily  solved by using numerical methods. Below we  will use the same numerical method (Euler method) to solve these equations.  \n",
    "For that, again we must break each equation into two first-order differential equations:  \n",
    "<br>\n",
    "<span class=\"notranslate\">\n",
    "$$ \\frac{dv_x}{dt} = - \\frac{b}{m} \\sqrt{v_x^2+v_y^2} \\,v_x $$\n",
    "</span>\n",
    "<span class=\"notranslate\">\n",
    "$$ \\frac{dx}{dt} = v_x $$\n",
    "</span>\n",
    "<span class=\"notranslate\">\n",
    "$$ \\frac{dv_y}{dt} = - \\frac{b}{m} \\sqrt{v_x^2+v_y^2} \\,v_y -g $$\n",
    "</span>\n",
    "<span class=\"notranslate\">\n",
    "$$ \\frac{dy}{dt} = v_y $$\n",
    "</span>  \n",
    "\n",
    "Now, we can apply the Euler method to find a solution. "
   ]
  },
  {
   "cell_type": "code",
   "execution_count": 11,
   "metadata": {
    "ExecuteTime": {
     "end_time": "2021-02-03T11:34:45.163640Z",
     "start_time": "2021-02-03T11:34:45.140363Z"
    },
    "colab": {},
    "colab_type": "code",
    "id": "QyHkIliGM8jV",
    "outputId": "09a23149-de85-41e7-9282-169a7c0f158c",
    "slideshow": {
     "slide_type": "slide"
    }
   },
   "outputs": [],
   "source": [
    "x  = x0\n",
    "y  = y0\n",
    "vx = vx0\n",
    "vy = vy0\n",
    "r  = np.array([x, y])\n",
    "while y >= 0:\n",
    "    dxdt = vx\n",
    "    x = x + dt * dxdt\n",
    "    dydt = vy\n",
    "    y = y + dt * dydt\n",
    "    dvxdt = -b/m * np.sqrt(vx**2 + vy**2)*vx\n",
    "    vx = vx + dt * dvxdt\n",
    "    dvydt = -b/m * np.sqrt(vx**2 + vy**2)*vy - g\n",
    "    vy = vy + dt * dvydt\n",
    "    r = np.vstack((r, np.array([x, y])))"
   ]
  },
  {
   "cell_type": "code",
   "execution_count": 12,
   "metadata": {
    "ExecuteTime": {
     "end_time": "2021-02-03T11:34:45.241333Z",
     "start_time": "2021-02-03T11:34:45.164841Z"
    }
   },
   "outputs": [
    {
     "data": {
      "image/png": "[encoded data removed]",
      "text/plain": [
       "<Figure size 576x288 with 1 Axes>"
      ]
     },
     "metadata": {
      "needs_background": "light"
     },
     "output_type": "display_data"
    }
   ],
   "source": [
    "plt.figure(figsize=(8, 4))\n",
    "x3n = r[:, 0]\n",
    "y3n = r[:, 1]\n",
    "plt.plot(x3n, y3n, lw=4)\n",
    "plt.xlim(0, 36)\n",
    "plt.ylim(0, 6)\n",
    "plt.title('Ball trajectory')\n",
    "plt.xlabel('x')\n",
    "plt.ylabel('y')\n",
    "plt.show()"
   ]
  },
  {
   "cell_type": "markdown",
   "metadata": {},
   "source": [
    "#### All numerical solutions plotted together"
   ]
  },
  {
   "cell_type": "code",
   "execution_count": 13,
   "metadata": {
    "ExecuteTime": {
     "end_time": "2021-02-03T11:34:45.358740Z",
     "start_time": "2021-02-03T11:34:45.242186Z"
    }
   },
   "outputs": [
    {
     "data": {
      "image/png": "[encoded data removed]",
      "text/plain": [
       "<Figure size 576x288 with 1 Axes>"
      ]
     },
     "metadata": {
      "needs_background": "light"
     },
     "output_type": "display_data"
    }
   ],
   "source": [
    "plt.figure(figsize=(8, 4))\n",
    "plt.plot(x1n, y1n, lw=4, c='g', label='$g$')\n",
    "plt.plot(x2n, y2n, lw=4, c='b', label='$g+bv$')\n",
    "plt.plot(x3n, y3n, lw=4, c='r', label='$g+bv^2$')\n",
    "plt.xlim(0, 36)\n",
    "plt.ylim(0, 6)\n",
    "plt.title('Ball trajectory')\n",
    "plt.xlabel('x')\n",
    "plt.ylabel('y')\n",
    "plt.legend(loc='best', frameon=False)\n",
    "plt.show()"
   ]
  },
  {
   "cell_type": "markdown",
   "metadata": {},
   "source": [
    "## Further reading"
   ]
  },
  {
   "cell_type": "markdown",
   "metadata": {},
   "source": [
    "- Read chapter 0, What is mechanics, from Ruina and Rudra's book.  \n",
    "- Read pages 478-494 in chapter 10, Dynamics in 1D, from Ruina and Rudra's book.  \n",
    "- Read chapter 13 from Hibbeler's book."
   ]
  },
  {
   "cell_type": "markdown",
   "metadata": {},
   "source": [
    "## Video lectures on the internet\n",
    "\n",
    "- Khan Academy: [Forces and Newton's laws of motion](https://www.khanacademy.org/science/ap-physics-1/ap-forces-newtons-laws) ([Forças e as Leis do Movimento de Newton](https://pt.khanacademy.org/science/physics/forces-newtons-laws))  "
   ]
  },
  {
   "cell_type": "markdown",
   "metadata": {
    "colab_type": "text",
    "id": "R8JH_WGNM8ja",
    "slideshow": {
     "slide_type": "slide"
    }
   },
   "source": [
    "## Problems\n",
    "\n",
    "1. Solve exercises 12.1.16, 12.1.19, 12.1.24, 12.1.29, 12.1.30, 12.1.31(a, b, d) and 12.1.32 from Ruina and Pratap's book (2019).  \n",
    "2. Consider a block with mass of 1 kg attached to a spring hanging from a ceiling (the spring constant k=100 N/m). At t=0 s, the spring is stretched by 0.1 m from the equilibrium position of the block+spring system and then it's released (the initial velocity is not specified). Find the motion of the block.  "
   ]
  },
  {
   "cell_type": "markdown",
   "metadata": {
    "colab_type": "text",
    "id": "3l-W0R08M8jb"
   },
   "source": [
    "## References\n",
    "\n",
    "- Hibbeler (2010) Engineering Mechanics: Dynamics. 12th edition. (Hibbeler (2011) Dinâmica: Mecânica para Engenharia. 12a edição).\n",
    "- Ruina A, Rudra P (2019) [Introduction to Statics and Dynamics](http://ruina.tam.cornell.edu/Book/index.html). Oxford University Press.  \n",
    "- Taylor JR (2005) [Classical Mechanics](https://books.google.com.br/books?id=P1kCtNr-pJsC). University Science Books."
   ]
  }
 ],
 "metadata": {
  "colab": {
   "collapsed_sections": [],
   "name": "Copy of newtonLawForParticles.ipynb",
   "provenance": [],
   "version": "0.3.2"
  },
  "hide_input": false,
  "kernelspec": {
   "display_name": "Python 3",
   "language": "python",
   "name": "python3"
  },
  "language_info": {
   "codemirror_mode": {
    "name": "ipython",
    "version": 3
   },
   "file_extension": ".py",
   "mimetype": "text/x-python",
   "name": "python",
   "nbconvert_exporter": "python",
   "pygments_lexer": "ipython3",
   "version": "3.8.6"
  },
  "latex_envs": {
   "LaTeX_envs_menu_present": true,
   "autoclose": false,
   "autocomplete": true,
   "bibliofile": "biblio.bib",
   "cite_by": "apalike",
   "current_citInitial": 1,
   "eqLabelWithNumbers": true,
   "eqNumInitial": 1,
   "hotkeys": {
    "equation": "Ctrl-E",
    "itemize": "Ctrl-I"
   },
   "labels_anchors": false,
   "latex_user_defs": false,
   "report_style_numbering": false,
   "user_envs_cfg": false
  },
  "nbTranslate": {
   "displayLangs": [
    "*"
   ],
   "hotkey": "alt-t",
   "langInMainMenu": true,
   "sourceLang": "en",
   "targetLang": "fr",
   "useGoogleTranslate": true
  },
  "toc": {
   "base_numbering": 1,
   "nav_menu": {},
   "number_sections": true,
   "sideBar": true,
   "skip_h1_title": true,
   "title_cell": "Contents",
   "title_sidebar": "Contents",
   "toc_cell": true,
   "toc_position": {},
   "toc_section_display": true,
   "toc_window_display": false
  },
  "varInspector": {
   "cols": {
    "lenName": 16,
    "lenType": 16,
    "lenVar": 40
   },
   "kernels_config": {
    "python": {
     "delete_cmd_postfix": "",
     "delete_cmd_prefix": "del ",
     "library": "var_list.py",
     "varRefreshCmd": "print(var_dic_list())"
    },
    "r": {
     "delete_cmd_postfix": ") ",
     "delete_cmd_prefix": "rm(",
     "library": "var_list.r",
     "varRefreshCmd": "cat(var_dic_list()) "
    }
   },
   "types_to_exclude": [
    "module",
    "function",
    "builtin_function_or_method",
    "instance",
    "_Feature"
   ],
   "window_display": false
  }
 },
 "nbformat": 4,
 "nbformat_minor": 4
}
