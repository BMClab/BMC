{
 "cells": [
  {
   "cell_type": "markdown",
   "metadata": {},
   "source": [
    "> # Select data vectors by similarity using a metric score\n",
    "\n",
    "> Marcos Duarte  \n",
    "> [Laboratory of Biomechanics and Motor Control](https://bmclab.pesquisa.ufabc.edu.br/)  \n",
    "> Federal University of ABC, Brazil"
   ]
  },
  {
   "cell_type": "code",
   "execution_count": 1,
   "metadata": {
    "ExecuteTime": {
     "end_time": "2019-11-20T20:19:47.223181Z",
     "start_time": "2019-11-20T20:19:47.054140Z"
    },
    "editable": true,
    "slideshow": {
     "slide_type": ""
    },
    "tags": []
   },
   "outputs": [
    {
     "name": "stdout",
     "output_type": "stream",
     "text": [
      "Last updated: 2023-08-03 17:42:12\n",
      "\n",
      "Python implementation: CPython\n",
      "Python version       : 3.11.4\n",
      "IPython version      : 8.14.0\n",
      "\n",
      "Compiler    : GCC 12.2.0\n",
      "OS          : Linux\n",
      "Release     : 6.2.0-26-generic\n",
      "Machine     : x86_64\n",
      "Processor   : x86_64\n",
      "CPU cores   : 16\n",
      "Architecture: 64bit\n",
      "\n",
      "sys       : 3.11.4 | packaged by conda-forge | (main, Jun 10 2023, 18:08:17) [GCC 12.2.0]\n",
      "numpy     : 1.25.2\n",
      "matplotlib: 3.7.2\n",
      "\n"
     ]
    }
   ],
   "source": [
    "import numpy as np\n",
    "import matplotlib.pyplot as plt\n",
    "import sys\n",
    "sys.path.insert(1, r'./../functions')\n",
    "from simila import similarity, mse\n",
    "\n",
    "np.set_printoptions(precision=3)\n",
    "\n",
    "%load_ext line_profiler\n",
    "%load_ext watermark\n",
    "%watermark -u -t -d -m -v --iversions"
   ]
  },
  {
   "cell_type": "code",
   "execution_count": 2,
   "metadata": {},
   "outputs": [
    {
     "name": "stdout",
     "output_type": "stream",
     "text": [
      "Help on function similarity in module simila:\n",
      "\n",
      "similarity(y: numpy.ndarray, axis1: int = 0, axis2: int = 1, threshold: float = 0, nmin: int = 3, recursive: bool = True, metric: <built-in function callable> = <function mse at 0x7f2349eaf9c0>, drop=False, msg: bool = True, **kwargs: <built-in function callable>) -> tuple[numpy.ndarray, numpy.ndarray, numpy.ndarray, numpy.ndarray]\n",
      "    Select data vectors by similarity using a metric score.\n",
      "    \n",
      "    Parameters\n",
      "    ----------\n",
      "    y : numpy array\n",
      "        Array for the calculation of mse w.r.t. to a central statistics.\n",
      "    axis1 : integer, optional (default = 0)\n",
      "        Axis to slice `y` ndarray in the calculation of mse.\n",
      "    axis2 : integer, optional (default = 1)\n",
      "        Axis to slice `y` ndarray in the calculation of the `central`.\n",
      "    threshold : float, optional (default = 0)\n",
      "        If greater than 0, vector with mse above it will be discarded.\n",
      "        If 0, threshold will be automatically calculated as the\n",
      "        minimum of [q[1] + 1.5*(q[2]-q[0]), score[-2], 3], where q's are the\n",
      "        quantiles and score[-2] is the before-last largest score of `metric`\n",
      "        among vectors calculated at the first time, not updated by `recursive`\n",
      "        option.\n",
      "    nmin : integer, optional (default = 3)\n",
      "        If greater than 0, minumum number of vectors to keep.\n",
      "        If lower than 0, maximum number of vectors to discard.\n",
      "    recursive :bool, optional (default = True)\n",
      "        Whether to calculate similarity `metric` recursevely, updating the score\n",
      "        calculation each time a vector is discarded.\n",
      "        With `recursive` True, the output `scores` will contain at each row\n",
      "        the updated score values for the used `metric` for each data vector.\n",
      "        The first row will contain the calculated original scores before any\n",
      "        vector was discarded. On the subsequent rows, the vector discarded is\n",
      "        represented by a NaN value and the kept vectors by their updated scores.\n",
      "        The last row will contain the updated scores of the final vectors kept.\n",
      "        With the `recursive` False, the comparison of score values with `threshold`\n",
      "        are made only once and vectors are discarded accordingly at once.\n",
      "        In this case, the output `scores` will contain only two rows, the\n",
      "        first row will contain the calculated original scores before any vectors\n",
      "        were discarded. At the second row, the vectors discarded are represented\n",
      "        with NaN values and the kept vectors by their updated scores.\n",
      "    metric : optional (default=mse)\n",
      "        Function to use as metric to compute similarity.\n",
      "    drop : bool, optional (default = False)\n",
      "        Whether to drop (delete) the discarded vectors from `y` in the output.\n",
      "        If False, the values of the vectors discarded will be replaced by nans\n",
      "        and the returned array will have the same dimensions as the original\n",
      "        array.\n",
      "    msg : bool, optional (default = True)\n",
      "        Whether to print some messages.\n",
      "    kwargs : optional\n",
      "        Options for the metric function (e.g., see `mse` function).\n",
      "    \n",
      "    Returns\n",
      "    -------\n",
      "    y : numpy array\n",
      "        Array similar to input `y` but with vectors discarded (deleted) if\n",
      "        option `drop` is True or with all values of vectors discarded replaced\n",
      "        by nans if option `drop` is False.\n",
      "    ikept : numpy array\n",
      "        Indexes of kept vectors.\n",
      "    inotkept : numpy array\n",
      "        Indexes of not kept (discarded or replaced by nan) vectors.\n",
      "    scores : 2-D numpy array\n",
      "        Metric score values of each vector (as columns) for each round of\n",
      "        vector selection (one row per round plus the final values).\n",
      "    \n",
      "    References\n",
      "    ----------\n",
      "    .. [1] https://nbviewer.org/github/BMClab/BMC/blob/master/notebooks/Similarity.ipynb\n",
      "    \n",
      "    Examples\n",
      "    --------\n",
      "    >>> import numpy as np\n",
      "    >>> import matplotlib.pyplot as plt\n",
      "    >>> rng = np.random.default_rng()\n",
      "    >>> t, n = 100, 10\n",
      "    >>> y = rng.random((t, n))\n",
      "    >>> y +=  np.atleast_2d(2*np.sin(2*np.pi*np.linspace(0, 1, t))).T\n",
      "    >>> for i in range(0, n, 2):\n",
      "    >>>    j = rng.integers(t-20)\n",
      "    >>>    p = rng.integers(20)\n",
      "    >>>    y[j:j+p, i] = y[j:j+p, i] + rng.integers(10) - 5\n",
      "    >>>    y[:, i] += rng.integers(4) - 2\n",
      "    >>> ys, ikept, inotkept, scores = similarity(y)\n",
      "    >>> fig, axs = plt.subplots(2, 1, sharex=True)\n",
      "    >>> axs[0].plot(y, label=list(range(n)))\n",
      "    >>> axs[0].legend(loc=(1.01, 0))\n",
      "    >>> axs[1].plot(ys, label= ikept.tolist())\n",
      "    >>> axs[1].legend(loc=(1.01, 0))\n",
      "    >>> plt.show()\n",
      "    \n",
      "    Version history\n",
      "    ---------------\n",
      "    '1.0.0':\n",
      "        First release version\n",
      "\n"
     ]
    }
   ],
   "source": [
    "help(similarity)"
   ]
  },
  {
   "cell_type": "code",
   "execution_count": 3,
   "metadata": {},
   "outputs": [
    {
     "name": "stdout",
     "output_type": "stream",
     "text": [
      "Help on function mse in module simila:\n",
      "\n",
      "mse(y: numpy.ndarray, axis1: int = 0, axis2: int = 1, central: <built-in function callable> = <function nanmedian at 0x7f23e46a8730>, normalization: <built-in function callable> = <function nanmedian at 0x7f23e46a8730>) -> numpy.ndarray\n",
      "    Mean Squared Error of `y` w.r.t. `central` across axis2 over axis1.\n",
      "    \n",
      "    Parameters\n",
      "    ----------\n",
      "    y : numpy array\n",
      "        an at least 2D array of data for the calculation of mean squared error\n",
      "        w.r.t. to a `central` statistics.\n",
      "    axis1 : integer, optional (default = 0)\n",
      "        axis to slice `y` ndarray in the calculation of mse.\n",
      "    axis2 : integer, optional (default = 1)\n",
      "        axis to slice `y` ndarray in the calculation of the `central`.\n",
      "    central : Python function, optional (default = np.nanmedian)\n",
      "        function to calculate statistics on `y` w.r.t. mse is computed.\n",
      "    normalization : Python function, optional (default = np.nanmedian)\n",
      "        function to normalize the calculated mse values\n",
      "    \n",
      "    Returns\n",
      "    -------\n",
      "    score : numpy array\n",
      "        Mean Squared Error values\n",
      "    \n",
      "    References\n",
      "    ----------\n",
      "    .. [1] https://nbviewer.org/github/BMClab/BMC/blob/master/notebooks/Similarity.ipynb\n",
      "    \n",
      "    Examples\n",
      "    --------\n",
      "    >>> import numpy as np\n",
      "    >>> rng = np.random.default_rng()\n",
      "    >>> y = rng.random((100, 10))\n",
      "    >>> y +=  np.atleast_2d(np.sin(2*np.pi*np.linspace(0, 1, 100))).T\n",
      "    >>> mse(y, axis1=0, axis2=1, central=np.nanmedian, normalization=np.nanmedian)\n",
      "    \n",
      "    Version history\n",
      "    ---------------\n",
      "    '1.0.0':\n",
      "        First release version\n",
      "\n"
     ]
    }
   ],
   "source": [
    "help(mse)"
   ]
  },
  {
   "cell_type": "markdown",
   "metadata": {
    "editable": true,
    "slideshow": {
     "slide_type": ""
    },
    "tags": []
   },
   "source": [
    "### Example"
   ]
  },
  {
   "cell_type": "code",
   "execution_count": 4,
   "metadata": {
    "editable": true,
    "slideshow": {
     "slide_type": ""
    },
    "tags": []
   },
   "outputs": [
    {
     "name": "stdout",
     "output_type": "stream",
     "text": [
      "Calculated threshold: 3.0\n",
      "Vectors discarded (in dimension 1, n=5): [6 8 4 0 2]\n"
     ]
    },
    {
     "data": {
      "image/png": "[encoded data removed]",
      "text/plain": [
       "<Figure size 640x480 with 2 Axes>"
      ]
     },
     "metadata": {},
     "output_type": "display_data"
    }
   ],
   "source": [
    ">>> import numpy as np\n",
    ">>> import matplotlib.pyplot as plt\n",
    ">>> rng = np.random.default_rng()\n",
    ">>> t, n = 100, 10\n",
    ">>> y = rng.random((t, n))\n",
    ">>> y +=  np.atleast_2d(2*np.sin(2*np.pi*np.linspace(0, 1, t))).T\n",
    ">>> for i in range(0, n, 2):\n",
    ">>>    j = rng.integers(t-20)\n",
    ">>>    p = rng.integers(20)\n",
    ">>>    y[j:j+p, i] = y[j:j+p, i] + rng.integers(10) - 5\n",
    ">>>    y[:, i] += rng.integers(4) - 2\n",
    ">>> ys, ikept, inotkept, score_all = similarity(y, drop=True)\n",
    ">>> fig, axs = plt.subplots(2, 1, sharex=True)\n",
    ">>> axs[0].plot(y, label=list(range(n)))\n",
    ">>> axs[0].legend(loc=(1.01, 0))\n",
    ">>> axs[1].plot(ys, label= ikept.tolist())\n",
    ">>> axs[1].legend(loc=(1.01, 0))\n",
    ">>> plt.show()"
   ]
  },
  {
   "cell_type": "code",
   "execution_count": 5,
   "metadata": {},
   "outputs": [
    {
     "name": "stdout",
     "output_type": "stream",
     "text": [
      "Calculated threshold: 3.0\n",
      "Vectors discarded (in dimension 1, n=5): [6 8 4 0 2]\n"
     ]
    }
   ],
   "source": [
    "ys, ikept, inotkept, scores = similarity(y, threshold=0, nmin=3, recursive=True, metric=mse,\n",
    "                                         msg=1, central=np.nanmedian, normalization=np.nanmedian)"
   ]
  },
  {
   "cell_type": "code",
   "execution_count": 6,
   "metadata": {},
   "outputs": [
    {
     "data": {
      "text/plain": [
       "(100, 10)"
      ]
     },
     "execution_count": 6,
     "metadata": {},
     "output_type": "execute_result"
    }
   ],
   "source": [
    "ys.shape"
   ]
  },
  {
   "cell_type": "code",
   "execution_count": 7,
   "metadata": {},
   "outputs": [
    {
     "data": {
      "text/plain": [
       "array([1, 3, 5, 7, 9])"
      ]
     },
     "execution_count": 7,
     "metadata": {},
     "output_type": "execute_result"
    }
   ],
   "source": [
    "ikept"
   ]
  },
  {
   "cell_type": "code",
   "execution_count": 8,
   "metadata": {},
   "outputs": [
    {
     "data": {
      "text/plain": [
       "array([6, 8, 4, 0, 2])"
      ]
     },
     "execution_count": 8,
     "metadata": {},
     "output_type": "execute_result"
    }
   ],
   "source": [
    "inotkept"
   ]
  },
  {
   "cell_type": "code",
   "execution_count": 9,
   "metadata": {},
   "outputs": [
    {
     "data": {
      "text/plain": [
       "array([[ 3.25 ,  0.18 ,  1.744,  0.225,  3.229,  0.256, 11.539,  0.226,\n",
       "         7.93 ,  0.188],\n",
       "       [10.239,  0.69 ,  5.985,  0.897, 12.778,  1.   ,    nan,  0.778,\n",
       "        26.967,  0.706],\n",
       "       [13.952,  0.751,  7.43 ,  0.927, 14.074,  1.062,    nan,  0.938,\n",
       "           nan,  0.773],\n",
       "       [11.992,  0.8  ,  6.945,  1.   ,    nan,  1.146,    nan,  0.902,\n",
       "           nan,  0.822],\n",
       "       [   nan,  0.716,  8.191,  0.99 ,    nan,  1.194,    nan,  1.01 ,\n",
       "           nan,  0.824],\n",
       "       [   nan,  0.896,    nan,  1.344,    nan,  1.37 ,    nan,  0.974,\n",
       "           nan,  1.   ]])"
      ]
     },
     "execution_count": 9,
     "metadata": {},
     "output_type": "execute_result"
    }
   ],
   "source": [
    "scores"
   ]
  },
  {
   "cell_type": "code",
   "execution_count": 10,
   "metadata": {},
   "outputs": [
    {
     "name": "stdout",
     "output_type": "stream",
     "text": [
      "Calculated threshold: 3.0\n",
      "Vectors discarded (in dimension 1, n=5): [6 8 4 0 2]\n"
     ]
    }
   ],
   "source": [
    "ys, ikept, inotkept, scores = similarity(y, threshold=0, nmin=3, recursive=True, metric=mse,\n",
    "                                         drop=True, msg=1, central=np.nanmedian, normalization=np.nanmedian)"
   ]
  },
  {
   "cell_type": "code",
   "execution_count": 11,
   "metadata": {},
   "outputs": [
    {
     "data": {
      "text/plain": [
       "(100, 5)"
      ]
     },
     "execution_count": 11,
     "metadata": {},
     "output_type": "execute_result"
    }
   ],
   "source": [
    "ys.shape"
   ]
  },
  {
   "cell_type": "code",
   "execution_count": 15,
   "metadata": {},
   "outputs": [
    {
     "name": "stdout",
     "output_type": "stream",
     "text": [
      "Calculated threshold: 3.0\n",
      "Vectors discarded (in dimension 1, n=4): [4 0 2 8]\n"
     ]
    }
   ],
   "source": [
    "ys, ikept, inotkept, scores = similarity(y, threshold=0, nmin=3, recursive=False, metric=mse,\n",
    "                                         msg=1, central=np.nanmedian, normalization=np.nanmedian)"
   ]
  },
  {
   "cell_type": "markdown",
   "metadata": {},
   "source": [
    "## Function profiling"
   ]
  },
  {
   "cell_type": "code",
   "execution_count": 12,
   "metadata": {
    "editable": true,
    "slideshow": {
     "slide_type": ""
    },
    "tags": []
   },
   "outputs": [
    {
     "name": "stdout",
     "output_type": "stream",
     "text": [
      "2.27 ms ± 34.4 µs per loop (mean ± std. dev. of 7 runs, 100 loops each)\n"
     ]
    }
   ],
   "source": [
    "%%timeit\n",
    "ys, ikept, inotkept, score_all = similarity(y, recursive=True, msg=0)"
   ]
  },
  {
   "cell_type": "code",
   "execution_count": 13,
   "metadata": {},
   "outputs": [
    {
     "name": "stdout",
     "output_type": "stream",
     "text": [
      "844 µs ± 4.97 µs per loop (mean ± std. dev. of 7 runs, 1,000 loops each)\n"
     ]
    }
   ],
   "source": [
    "%%timeit\n",
    "ys, ikept, inotkept, score_all = similarity(y, recursive=False, msg=0)"
   ]
  },
  {
   "cell_type": "code",
   "execution_count": 16,
   "metadata": {},
   "outputs": [
    {
     "data": {
      "text/plain": [
       "Timer unit: 1e-09 s\n",
       "\n",
       "Total time: 0.00614427 s\n",
       "File: /home/marcos/adrive/Python/BMC/notebooks/./../functions/simila.py\n",
       "Function: similarity at line 65\n",
       "\n",
       "Line #      Hits         Time  Per Hit   % Time  Line Contents\n",
       "==============================================================\n",
       "    65                                           def similarity(y: np.ndarray, axis1: int=0, axis2: int=1, threshold: float=0,\n",
       "    66                                                          nmin: int=3, recursive: bool=True, metric: callable=mse,\n",
       "    67                                                          drop=False, msg: bool=True, **kwargs: callable\n",
       "    68                                                          ) ->tuple[np.ndarray, np.ndarray, np.ndarray, np.ndarray]:\n",
       "    69                                           \n",
       "    70                                               \"\"\"Select data vectors by similarity using a metric score.\n",
       "    71                                           \n",
       "    72                                               Parameters\n",
       "    73                                               ----------\n",
       "    74                                               y : numpy array\n",
       "    75                                                   Array for the calculation of mse w.r.t. to a central statistics.\n",
       "    76                                               axis1 : integer, optional (default = 0)\n",
       "    77                                                   Axis to slice `y` ndarray in the calculation of mse.\n",
       "    78                                               axis2 : integer, optional (default = 1)\n",
       "    79                                                   Axis to slice `y` ndarray in the calculation of the `central`.\n",
       "    80                                               threshold : float, optional (default = 0)\n",
       "    81                                                   If greater than 0, vector with mse above it will be discarded.\n",
       "    82                                                   If 0, threshold will be automatically calculated as the\n",
       "    83                                                   minimum of [q[1] + 1.5*(q[2]-q[0]), score[-2], 3], where q's are the\n",
       "    84                                                   quantiles and score[-2] is the before-last largest score of `metric`\n",
       "    85                                                   among vectors calculated at the first time, not updated by `recursive`\n",
       "    86                                                   option.\n",
       "    87                                               nmin : integer, optional (default = 3)\n",
       "    88                                                   If greater than 0, minumum number of vectors to keep.\n",
       "    89                                                   If lower than 0, maximum number of vectors to discard.\n",
       "    90                                               recursive :bool, optional (default = True)\n",
       "    91                                                   Whether to calculate similarity `metric` recursevely, updating the score\n",
       "    92                                                   calculation each time a vector is discarded.\n",
       "    93                                                   With `recursive` True, the output `scores` will contain at each row\n",
       "    94                                                   the updated score values for the used `metric` for each data vector.\n",
       "    95                                                   The first row will contain the calculated original scores before any\n",
       "    96                                                   vector was discarded. On the subsequent rows, the vector discarded is\n",
       "    97                                                   represented by a NaN value and the kept vectors by their updated scores.\n",
       "    98                                                   The last row will contain the updated scores of the final vectors kept.\n",
       "    99                                                   With the `recursive` False, the comparison of score values with `threshold`\n",
       "   100                                                   are made only once and vectors are discarded accordingly at once.\n",
       "   101                                                   In this case, the output `scores` will contain only two rows, the\n",
       "   102                                                   first row will contain the calculated original scores before any vectors\n",
       "   103                                                   were discarded. At the second row, the vectors discarded are represented\n",
       "   104                                                   with NaN values and the kept vectors by their updated scores.\n",
       "   105                                               metric : optional (default=mse)\n",
       "   106                                                   Function to use as metric to compute similarity.\n",
       "   107                                               drop : bool, optional (default = False)\n",
       "   108                                                   Whether to drop (delete) the discarded vectors from `y` in the output.\n",
       "   109                                                   If False, the values of the vectors discarded will be replaced by nans\n",
       "   110                                                   and the returned array will have the same dimensions as the original\n",
       "   111                                                   array.\n",
       "   112                                               msg : bool, optional (default = True)\n",
       "   113                                                   Whether to print some messages.\n",
       "   114                                               kwargs : optional\n",
       "   115                                                   Options for the metric function (e.g., see `mse` function).\n",
       "   116                                           \n",
       "   117                                               Returns\n",
       "   118                                               -------\n",
       "   119                                               y : numpy array\n",
       "   120                                                   Array similar to input `y` but with vectors discarded (deleted) if\n",
       "   121                                                   option `drop` is True or with all values of vectors discarded replaced\n",
       "   122                                                   by nans if option `drop` is False.\n",
       "   123                                               ikept : numpy array\n",
       "   124                                                   Indexes of kept vectors.\n",
       "   125                                               inotkept : numpy array\n",
       "   126                                                   Indexes of not kept (discarded or replaced by nan) vectors.\n",
       "   127                                               scores : 2-D numpy array\n",
       "   128                                                   Metric score values of each vector (as columns) for each round of\n",
       "   129                                                   vector selection (one row per round plus the final values).\n",
       "   130                                           \n",
       "   131                                               References\n",
       "   132                                               ----------\n",
       "   133                                               .. [1] https://nbviewer.org/github/BMClab/BMC/blob/master/notebooks/Similarity.ipynb\n",
       "   134                                           \n",
       "   135                                               Examples\n",
       "   136                                               --------\n",
       "   137                                               >>> import numpy as np\n",
       "   138                                               >>> import matplotlib.pyplot as plt\n",
       "   139                                               >>> rng = np.random.default_rng()\n",
       "   140                                               >>> t, n = 100, 10\n",
       "   141                                               >>> y = rng.random((t, n))\n",
       "   142                                               >>> y +=  np.atleast_2d(2*np.sin(2*np.pi*np.linspace(0, 1, t))).T\n",
       "   143                                               >>> for i in range(0, n, 2):\n",
       "   144                                               >>>    j = rng.integers(t-20)\n",
       "   145                                               >>>    p = rng.integers(20)\n",
       "   146                                               >>>    y[j:j+p, i] = y[j:j+p, i] + rng.integers(10) - 5\n",
       "   147                                               >>>    y[:, i] += rng.integers(4) - 2\n",
       "   148                                               >>> ys, ikept, inotkept, scores = similarity(y)\n",
       "   149                                               >>> fig, axs = plt.subplots(2, 1, sharex=True)\n",
       "   150                                               >>> axs[0].plot(y, label=list(range(n)))\n",
       "   151                                               >>> axs[0].legend(loc=(1.01, 0))\n",
       "   152                                               >>> axs[1].plot(ys, label= ikept.tolist())\n",
       "   153                                               >>> axs[1].legend(loc=(1.01, 0))\n",
       "   154                                               >>> plt.show()\n",
       "   155                                           \n",
       "   156                                               Version history\n",
       "   157                                               ---------------\n",
       "   158                                               '1.0.0':\n",
       "   159                                                   First release version\n",
       "   160                                               \"\"\"\n",
       "   161                                           \n",
       "   162                                           \n",
       "   163         1       2406.0   2406.0      0.0      if y.ndim < 2:\n",
       "   164                                                   raise ValueError('The input array must be at least a 2-D array.')\n",
       "   165         1      15033.0  15033.0      0.2      y = y.copy()\n",
       "   166         1    2173861.0 2173861.0     35.4      score = metric(y, axis1=axis1, axis2=axis2, **kwargs)\n",
       "   167         1      12392.0  12392.0      0.2      scores = np.atleast_2d(score)\n",
       "   168         1       6137.0   6137.0      0.1      ikept = np.where(~np.isnan(score))[0]  # indexes of kept vectors\n",
       "   169                                               # indexes of not kept (discarded) vectors\n",
       "   170         1       2513.0   2513.0      0.0      inotkept = np.where(np.isnan(score))[0]\n",
       "   171         1      11433.0  11433.0      0.2      idx = np.argsort(score)\n",
       "   172         1       1307.0   1307.0      0.0      score = score[idx]\n",
       "   173         1       4785.0   4785.0      0.1      nkept = np.count_nonzero(~np.isnan(score))  # number of kept vectors\n",
       "   174         1        459.0    459.0      0.0      if nkept < 3:\n",
       "   175                                                   raise ValueError('The input array must have at least 3 valid vectors.')\n",
       "   176         1        304.0    304.0      0.0      if nmin < 0:\n",
       "   177                                                   nmin = np.max([3, nkept + nmin])\n",
       "   178         1        259.0    259.0      0.0      if threshold == 0:\n",
       "   179         1     299887.0 299887.0      4.9          q = np.nanquantile(a=score, q=[.25, .50, .75])\n",
       "   180         1      18147.0  18147.0      0.3          threshold = np.min([q[1] + 1.5*(q[2]-q[0]), score[-2], 3])\n",
       "   181         1        232.0    232.0      0.0          if msg:\n",
       "   182                                                       print(f'Calculated threshold: {threshold}')\n",
       "   183         1        264.0    264.0      0.0      if not recursive:  # discard all vectors at once\n",
       "   184                                                   idx2 = np.nonzero(score > threshold)[0]  # vectors to discard\n",
       "   185                                                   if len(idx2) > 0:\n",
       "   186                                                       if nkept > nmin:  # keep at least nmin vectors\n",
       "   187                                                           inotkept = np.r_[inotkept, idx[idx2[-(y.shape[axis2] - nmin):]][::-1]]\n",
       "   188                                                           y.swapaxes(0, axis2)[inotkept, ...] = np.nan\n",
       "   189                                                           score = metric(y, axis1=axis1, axis2=axis2, **kwargs)\n",
       "   190                                                           scores = np.vstack((scores, score))\n",
       "   191                                               else:  # discard vectors with largest updated score one by one\n",
       "   192         5       5037.0   1007.4      0.1          while nkept > nmin and score[nkept-1] > threshold:\n",
       "   193         5     138342.0  27668.4      2.3              inotkept = np.r_[inotkept, idx[nkept-1]]\n",
       "   194         5      14630.0   2926.0      0.2              y.swapaxes(0, axis2)[inotkept[-1], ...] = np.nan\n",
       "   195         5    3187195.0 637439.0     51.9              score = metric(y, axis1=axis1, axis2=axis2, **kwargs)\n",
       "   196         5      72821.0  14564.2      1.2              scores = np.vstack((scores, score))\n",
       "   197         5      28120.0   5624.0      0.5              idx = np.argsort(score)\n",
       "   198         5       3832.0    766.4      0.1              score = score[idx]\n",
       "   199         5       1270.0    254.0      0.0              nkept = nkept - 1\n",
       "   200                                           \n",
       "   201         1        417.0    417.0      0.0      if len(inotkept):\n",
       "   202         1     142533.0 142533.0      2.3          ikept = np.setdiff1d(ikept, inotkept)\n",
       "   203         1        251.0    251.0      0.0          if drop:\n",
       "   204                                                       y = y.swapaxes(0, axis2)[ikept, ...].swapaxes(0, axis2)\n",
       "   205         1        180.0    180.0      0.0          if msg:\n",
       "   206                                                       print(\n",
       "   207                                                           f'Vectors discarded (in dimension {axis2}, n={len(inotkept)}): {inotkept}')\n",
       "   208                                           \n",
       "   209         1        221.0    221.0      0.0      return y, ikept, inotkept, scores"
      ]
     },
     "metadata": {},
     "output_type": "display_data"
    }
   ],
   "source": [
    "%lprun -f similarity similarity(y, msg=0)"
   ]
  },
  {
   "cell_type": "markdown",
   "metadata": {},
   "source": [
    "## Function `similarity`"
   ]
  },
  {
   "cell_type": "code",
   "execution_count": 18,
   "metadata": {},
   "outputs": [],
   "source": [
    "# %load ./../functions/simila.py\n",
    "\"\"\"Select data vectors by similarity using a metric score.\n",
    "\"\"\"\n",
    "\n",
    "__author__ = 'Marcos Duarte, https://github.com/demotu/BMC'\n",
    "__version__ = 'similarity.py v.1.0.0 20123/07/31'\n",
    "__license__ = \"MIT\"\n",
    "\n",
    "import numpy as np\n",
    "\n",
    "\n",
    "def mse(y: np.ndarray, axis1: int=0, axis2: int=1, central: callable=np.nanmedian,\n",
    "         normalization: callable=np.nanmedian\n",
    "         ) -> np.ndarray:\n",
    "    \"\"\"Mean Squared Error of `y` w.r.t. `central` across axis2 over axis1.\n",
    "\n",
    "    Parameters\n",
    "    ----------\n",
    "    y : numpy array\n",
    "        an at least 2D array of data for the calculation of mean squared error\n",
    "        w.r.t. to a `central` statistics.\n",
    "    axis1 : integer, optional (default = 0)\n",
    "        axis to slice `y` ndarray in the calculation of mse.\n",
    "    axis2 : integer, optional (default = 1)\n",
    "        axis to slice `y` ndarray in the calculation of the `central`.\n",
    "    central : Python function, optional (default = np.nanmedian)\n",
    "        function to calculate statistics on `y` w.r.t. mse is computed.\n",
    "    normalization : Python function, optional (default = np.nanmedian)\n",
    "        function to normalize the calculated mse values\n",
    "\n",
    "    Returns\n",
    "    -------\n",
    "    score : numpy array\n",
    "        Mean Squared Error values\n",
    "\n",
    "    References\n",
    "    ----------\n",
    "    .. [1] https://nbviewer.org/github/BMClab/BMC/blob/master/notebooks/Similarity.ipynb\n",
    "\n",
    "    Examples\n",
    "    --------\n",
    "    >>> import numpy as np\n",
    "    >>> rng = np.random.default_rng()\n",
    "    >>> y = rng.random((100, 10))\n",
    "    >>> y +=  np.atleast_2d(np.sin(2*np.pi*np.linspace(0, 1, 100))).T\n",
    "    >>> mse(y, axis1=0, axis2=1, central=np.nanmedian, normalization=np.nanmedian)\n",
    "\n",
    "    Version history\n",
    "    ---------------\n",
    "    '1.0.0':\n",
    "        First release version\n",
    "    \"\"\"\n",
    "\n",
    "\n",
    "    score = np.empty((y.shape[axis2]))\n",
    "    score.fill(np.nan)\n",
    "    idx = np.where(~np.all(np.isnan(y), axis=axis1))[0]  # masked array is slow\n",
    "    y = y.swapaxes(0, axis2)[idx, ...].swapaxes(0, axis2)  # faster than .take\n",
    "    score[idx] = np.nanmean((y - central(y, axis=axis2, keepdims=True))**2,\n",
    "                            axis=axis1)\n",
    "    if normalization is not None:\n",
    "        score = score/normalization(score)\n",
    "    return score\n",
    "\n",
    "\n",
    "def similarity(y: np.ndarray, axis1: int=0, axis2: int=1, threshold: float=0,\n",
    "               nmin: int=3, recursive: bool=True, metric: callable=mse,\n",
    "               drop=False, msg: bool=True, **kwargs: callable\n",
    "               ) ->tuple[np.ndarray, np.ndarray, np.ndarray, np.ndarray]:\n",
    "\n",
    "    \"\"\"Select data vectors by similarity using a metric score.\n",
    "\n",
    "    Parameters\n",
    "    ----------\n",
    "    y : numpy array\n",
    "        Array for the calculation of mse w.r.t. to a central statistics.\n",
    "    axis1 : integer, optional (default = 0)\n",
    "        Axis to slice `y` ndarray in the calculation of mse.\n",
    "    axis2 : integer, optional (default = 1)\n",
    "        Axis to slice `y` ndarray in the calculation of the `central`.\n",
    "    threshold : float, optional (default = 0)\n",
    "        If greater than 0, vector with mse above it will be discarded.\n",
    "        If 0, threshold will be automatically calculated as the\n",
    "        minimum of [q[1] + 1.5*(q[2]-q[0]), score[-2], 3], where q's are the\n",
    "        quantiles and score[-2] is the before-last largest score of `metric`\n",
    "        among vectors calculated at the first time, not updated by `recursive`\n",
    "        option.\n",
    "    nmin : integer, optional (default = 3)\n",
    "        If greater than 0, minumum number of vectors to keep.\n",
    "        If lower than 0, maximum number of vectors to discard.\n",
    "    recursive :bool, optional (default = True)\n",
    "        Whether to calculate similarity `metric` recursevely, updating the score\n",
    "        calculation each time a vector is discarded.\n",
    "        With `recursive` True, the output `scores` will contain at each row\n",
    "        the updated score values for the used `metric` for each data vector.\n",
    "        The first row will contain the calculated original scores before any\n",
    "        vector was discarded. On the subsequent rows, the vector discarded is\n",
    "        represented by a NaN value and the kept vectors by their updated scores.\n",
    "        The last row will contain the updated scores of the final vectors kept.\n",
    "        With the `recursive` False, the comparison of score values with `threshold`\n",
    "        are made only once and vectors are discarded accordingly at once.\n",
    "        In this case, the output `scores` will contain only two rows, the\n",
    "        first row will contain the calculated original scores before any vectors\n",
    "        were discarded. At the second row, the vectors discarded are represented\n",
    "        with NaN values and the kept vectors by their updated scores.\n",
    "    metric : optional (default=mse)\n",
    "        Function to use as metric to compute similarity.\n",
    "    drop : bool, optional (default = False)\n",
    "        Whether to drop (delete) the discarded vectors from `y` in the output.\n",
    "        If False, the values of the vectors discarded will be replaced by nans\n",
    "        and the returned array will have the same dimensions as the original\n",
    "        array.\n",
    "    msg : bool, optional (default = True)\n",
    "        Whether to print some messages.\n",
    "    kwargs : optional\n",
    "        Options for the metric function (e.g., see `mse` function).\n",
    "\n",
    "    Returns\n",
    "    -------\n",
    "    y : numpy array\n",
    "        Array similar to input `y` but with vectors discarded (deleted) if\n",
    "        option `drop` is True or with all values of vectors discarded replaced\n",
    "        by nans if option `drop` is False.\n",
    "    ikept : numpy array\n",
    "        Indexes of kept vectors.\n",
    "    inotkept : numpy array\n",
    "        Indexes of not kept (discarded or replaced by nan) vectors.\n",
    "    scores : 2-D numpy array\n",
    "        Metric score values of each vector (as columns) for each round of\n",
    "        vector selection (one row per round plus the final values).\n",
    "\n",
    "    References\n",
    "    ----------\n",
    "    .. [1] https://nbviewer.org/github/BMClab/BMC/blob/master/notebooks/Similarity.ipynb\n",
    "\n",
    "    Examples\n",
    "    --------\n",
    "    >>> import numpy as np\n",
    "    >>> import matplotlib.pyplot as plt\n",
    "    >>> rng = np.random.default_rng()\n",
    "    >>> t, n = 100, 10\n",
    "    >>> y = rng.random((t, n))\n",
    "    >>> y +=  np.atleast_2d(2*np.sin(2*np.pi*np.linspace(0, 1, t))).T\n",
    "    >>> for i in range(0, n, 2):\n",
    "    >>>    j = rng.integers(t-20)\n",
    "    >>>    p = rng.integers(20)\n",
    "    >>>    y[j:j+p, i] = y[j:j+p, i] + rng.integers(10) - 5\n",
    "    >>>    y[:, i] += rng.integers(4) - 2\n",
    "    >>> ys, ikept, inotkept, scores = similarity(y)\n",
    "    >>> fig, axs = plt.subplots(2, 1, sharex=True)\n",
    "    >>> axs[0].plot(y, label=list(range(n)))\n",
    "    >>> axs[0].legend(loc=(1.01, 0))\n",
    "    >>> axs[1].plot(ys, label= ikept.tolist())\n",
    "    >>> axs[1].legend(loc=(1.01, 0))\n",
    "    >>> plt.show()\n",
    "\n",
    "    Version history\n",
    "    ---------------\n",
    "    '1.0.0':\n",
    "        First release version\n",
    "    \"\"\"\n",
    "\n",
    "\n",
    "    if y.ndim < 2:\n",
    "        raise ValueError('The input array must be at least a 2-D array.')\n",
    "    y = y.copy()\n",
    "    score = metric(y, axis1=axis1, axis2=axis2, **kwargs)\n",
    "    scores = np.atleast_2d(score)\n",
    "    ikept = np.where(~np.isnan(score))[0]  # indexes of kept vectors\n",
    "    # indexes of not kept (discarded) vectors\n",
    "    inotkept = np.where(np.isnan(score))[0]\n",
    "    idx = np.argsort(score)\n",
    "    score = score[idx]\n",
    "    nkept = np.count_nonzero(~np.isnan(score))  # number of kept vectors\n",
    "    if nkept < 3:\n",
    "        raise ValueError('The input array must have at least 3 valid vectors.')\n",
    "    if nmin < 0:\n",
    "        nmin = np.max([3, nkept + nmin])\n",
    "    if threshold == 0:\n",
    "        q = np.nanquantile(a=score, q=[.25, .50, .75])\n",
    "        threshold = np.min([q[1] + 1.5*(q[2]-q[0]), score[-2], 3])\n",
    "        if msg:\n",
    "            print(f'Calculated threshold: {threshold}')\n",
    "    if not recursive:  # discard all vectors at once\n",
    "        idx2 = np.nonzero(score > threshold)[0]  # vectors to discard\n",
    "        if len(idx2) > 0:\n",
    "            if nkept > nmin:  # keep at least nmin vectors\n",
    "                inotkept = np.r_[inotkept, idx[idx2[-(y.shape[axis2] - nmin):]][::-1]]\n",
    "                y.swapaxes(0, axis2)[inotkept, ...] = np.nan\n",
    "                score = metric(y, axis1=axis1, axis2=axis2, **kwargs)\n",
    "                scores = np.vstack((scores, score))\n",
    "    else:  # discard vectors with largest updated score one by one\n",
    "        while nkept > nmin and score[nkept-1] > threshold:\n",
    "            inotkept = np.r_[inotkept, idx[nkept-1]]\n",
    "            y.swapaxes(0, axis2)[inotkept[-1], ...] = np.nan\n",
    "            score = metric(y, axis1=axis1, axis2=axis2, **kwargs)\n",
    "            scores = np.vstack((scores, score))\n",
    "            idx = np.argsort(score)\n",
    "            score = score[idx]\n",
    "            nkept = nkept - 1\n",
    "\n",
    "    if len(inotkept):\n",
    "        ikept = np.setdiff1d(ikept, inotkept)\n",
    "        if drop:\n",
    "            y = y.swapaxes(0, axis2)[ikept, ...].swapaxes(0, axis2)\n",
    "        if msg:\n",
    "            print(\n",
    "                f'Vectors discarded (in dimension {axis2}, n={len(inotkept)}): {inotkept}')\n",
    "\n",
    "    return y, ikept, inotkept, scores\n"
   ]
  },
  {
   "cell_type": "code",
   "execution_count": null,
   "metadata": {},
   "outputs": [],
   "source": []
  }
 ],
 "metadata": {
  "anaconda-cloud": {},
  "hide_input": false,
  "kernelspec": {
   "display_name": "Python 3 (ipykernel)",
   "language": "python",
   "name": "python3"
  },
  "language_info": {
   "codemirror_mode": {
    "name": "ipython",
    "version": 3
   },
   "file_extension": ".py",
   "mimetype": "text/x-python",
   "name": "python",
   "nbconvert_exporter": "python",
   "pygments_lexer": "ipython3",
   "version": "3.11.4"
  },
  "nbTranslate": {
   "displayLangs": [
    "*"
   ],
   "hotkey": "alt-t",
   "langInMainMenu": true,
   "sourceLang": "en",
   "targetLang": "fr",
   "useGoogleTranslate": true
  },
  "varInspector": {
   "cols": {
    "lenName": 16,
    "lenType": 16,
    "lenVar": 40
   },
   "kernels_config": {
    "python": {
     "delete_cmd_postfix": "",
     "delete_cmd_prefix": "del ",
     "library": "var_list.py",
     "varRefreshCmd": "print(var_dic_list())"
    },
    "r": {
     "delete_cmd_postfix": ") ",
     "delete_cmd_prefix": "rm(",
     "library": "var_list.r",
     "varRefreshCmd": "cat(var_dic_list()) "
    }
   },
   "types_to_exclude": [
    "module",
    "function",
    "builtin_function_or_method",
    "instance",
    "_Feature"
   ],
   "window_display": false
  },
  "widgets": {
   "application/vnd.jupyter.widget-state+json": {
    "state": {},
    "version_major": 2,
    "version_minor": 0
   }
  }
 },
 "nbformat": 4,
 "nbformat_minor": 4
}
