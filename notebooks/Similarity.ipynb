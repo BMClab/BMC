{
 "cells": [
  {
   "cell_type": "markdown",
   "metadata": {},
   "source": [
    "> # Select data vectors by similarity using a metric score\n",
    "\n",
    "> Marcos Duarte  \n",
    "> [Laboratory of Biomechanics and Motor Control](https://bmclab.pesquisa.ufabc.edu.br/)  \n",
    "> Federal University of ABC, Brazil"
   ]
  },
  {
   "cell_type": "code",
   "execution_count": 2,
   "metadata": {
    "ExecuteTime": {
     "end_time": "2019-11-20T20:19:47.223181Z",
     "start_time": "2019-11-20T20:19:47.054140Z"
    },
    "editable": true,
    "slideshow": {
     "slide_type": ""
    },
    "tags": []
   },
   "outputs": [
    {
     "name": "stdout",
     "output_type": "stream",
     "text": [
      "Last updated: 2023-08-03 01:27:05\n",
      "\n",
      "Python implementation: CPython\n",
      "Python version       : 3.11.4\n",
      "IPython version      : 8.14.0\n",
      "\n",
      "Compiler    : GCC 12.2.0\n",
      "OS          : Linux\n",
      "Release     : 6.2.0-26-generic\n",
      "Machine     : x86_64\n",
      "Processor   : x86_64\n",
      "CPU cores   : 16\n",
      "Architecture: 64bit\n",
      "\n",
      "sys       : 3.11.4 | packaged by conda-forge | (main, Jun 10 2023, 18:08:17) [GCC 12.2.0]\n",
      "matplotlib: 3.7.2\n",
      "numpy     : 1.25.1\n",
      "\n"
     ]
    }
   ],
   "source": [
    "import numpy as np\n",
    "import matplotlib.pyplot as plt\n",
    "import sys\n",
    "sys.path.insert(1, r'./../functions')\n",
    "from simila import similarity, mse\n",
    "\n",
    "np.set_printoptions(precision=3)\n",
    "\n",
    "%load_ext line_profiler\n",
    "%load_ext watermark\n",
    "%watermark -u -t -d -m -v --iversions"
   ]
  },
  {
   "cell_type": "code",
   "execution_count": 3,
   "metadata": {},
   "outputs": [
    {
     "name": "stdout",
     "output_type": "stream",
     "text": [
      "Help on function similarity in module simila:\n",
      "\n",
      "similarity(y: numpy.ndarray, axis1: int = 0, axis2: int = 1, threshold: float = 0, nmin: int = 3, recursive: bool = True, metric: <built-in function callable> = <function mse at 0x7f759b97bd80>, drop=False, msg: bool = True, **kwargs: <built-in function callable>) -> tuple[numpy.ndarray, numpy.ndarray, numpy.ndarray, numpy.ndarray]\n",
      "    Select data vectors by similarity using a metric score.\n",
      "    \n",
      "    Parameters\n",
      "    ----------\n",
      "    y : numpy array\n",
      "        Array for the calculation of mse w.r.t. to a central statistics.\n",
      "    axis1 : integer, optional (default = 0)\n",
      "        Axis to slice `y` ndarray in the calculation of mse.\n",
      "    axis2 : integer, optional (default = 1)\n",
      "        Axis to slice `y` ndarray in the calculation of the `central`.\n",
      "    threshold : float, optional (default = 0)\n",
      "        If greater than 0, vector with mse above it will be discarded.\n",
      "        If 0, threshold will be automatically calculated as the\n",
      "        minimum of [q[1] + 1.5*(q[2]-q[0]), score[-2], 3], where q's are the\n",
      "        quantiles and score[-2] is the before-last largest score of `metric`\n",
      "        among vectors calculated at the first time, not updated by `recursive`\n",
      "        option.\n",
      "    nmin : integer, optional (default = 3)\n",
      "        If greater than 0, minumum number of vectors to keep.\n",
      "        If lower than 0, maximum number of vectors to discard.\n",
      "    recursive :bool, optional (default = True)\n",
      "        Whether to calculate similarity `metric` recursevely, updating the score\n",
      "        calculation each time a vector is discarded.\n",
      "        With `recursive` True, the output `scores` will contain at each row\n",
      "        the updated score values for the used `metric` for each data vector.\n",
      "        The first row will contain the calculated original scores before any\n",
      "        vector was discarded. On the subsequent rows, the vector discarded is\n",
      "        represented by a NaN value and the kept vectors by their updated scores.\n",
      "        The last row will contain the updated scores of the final vectors kept.\n",
      "        With the `recursive` False, the comparison of score values with `threshold`\n",
      "        are made only once and vectors are discarded accordingly at once.\n",
      "        In this case, the output `scores` will contain only two rows, the\n",
      "        first row will contain the calculated original scores before any vectors\n",
      "        were discarded. At the second row, the vectors discarded are represented\n",
      "        with NaN values and the kept vectors by their updated scores.\n",
      "    metric : optional (default=mse)\n",
      "        Function to use as metric to compute similarity.\n",
      "    drop : bool, optional (default = False)\n",
      "        Whether to drop (delete) the discarded vectors from `y` in the output.\n",
      "    msg : bool, optional (default = True)\n",
      "        Whether to print some messages.\n",
      "    kwargs : optional\n",
      "        Options for the metric function (e.g., see `mse` function).\n",
      "    \n",
      "    Returns\n",
      "    -------\n",
      "    y : numpy array\n",
      "        Array similar to input `y` but with vectors discarded.\n",
      "    ikept : numpy array\n",
      "        Indexes of kept vectors.\n",
      "    inotkept : numpy array\n",
      "        Indexes of not kept (discarded) vectors.\n",
      "    scores : 2-D numpy array\n",
      "        Metric score values of each vector (as columns) for each round of\n",
      "        vector selection (one row per round plus the final values).\n",
      "    \n",
      "    References\n",
      "    ----------\n",
      "    .. [1] https://nbviewer.org/github/BMClab/BMC/blob/master/notebooks/Similarity.ipynb\n",
      "    \n",
      "    Examples\n",
      "    --------\n",
      "    >>> import numpy as np\n",
      "    >>> import matplotlib.pyplot as plt\n",
      "    >>> rng = np.random.default_rng()\n",
      "    >>> t, n = 100, 10\n",
      "    >>> y = rng.random((t, n))\n",
      "    >>> y +=  np.atleast_2d(2*np.sin(2*np.pi*np.linspace(0, 1, t))).T\n",
      "    >>> for i in range(0, n, 2):\n",
      "    >>>    j = rng.integers(t-20)\n",
      "    >>>    p = rng.integers(20)\n",
      "    >>>    y[j:j+p, i] = y[j:j+p, i] + rng.integers(10) - 5\n",
      "    >>>    y[:, i] += rng.integers(4) - 2\n",
      "    >>> ys, ikept, inotkept, scores = similarity(y)\n",
      "    >>> fig, axs = plt.subplots(2, 1, sharex=True)\n",
      "    >>> axs[0].plot(y, label=list(range(n)))\n",
      "    >>> axs[0].legend(loc=(1.01, 0))\n",
      "    >>> axs[1].plot(ys, label= ikept.tolist())\n",
      "    >>> axs[1].legend(loc=(1.01, 0))\n",
      "    >>> plt.show()\n",
      "    \n",
      "    Version history\n",
      "    ---------------\n",
      "    '1.0.0':\n",
      "        First release version\n",
      "\n"
     ]
    }
   ],
   "source": [
    "help(similarity)"
   ]
  },
  {
   "cell_type": "code",
   "execution_count": 4,
   "metadata": {},
   "outputs": [
    {
     "name": "stdout",
     "output_type": "stream",
     "text": [
      "Help on function mse in module simila:\n",
      "\n",
      "mse(y: numpy.ndarray, axis1: int = 0, axis2: int = 1, central: <built-in function callable> = <function nanmedian at 0x7f758869bcf0>, normalization: <built-in function callable> = <function nanmedian at 0x7f758869bcf0>) -> numpy.ndarray\n",
      "    Mean Squared Error of `y` w.r.t. `central` across axis2 over axis1.\n",
      "    \n",
      "    Parameters\n",
      "    ----------\n",
      "    y : numpy array\n",
      "        an at least 2D array of data for the calculation of mean squared error\n",
      "        w.r.t. to a `central` statistics.\n",
      "    axis1 : integer, optional (default = 0)\n",
      "        axis to slice `y` ndarray in the calculation of mse.\n",
      "    axis2 : integer, optional (default = 1)\n",
      "        axis to slice `y` ndarray in the calculation of the `central`.\n",
      "    central : Python function, optional (default = np.nanmedian)\n",
      "        function to calculate statistics on `y` w.r.t. mse is computed.\n",
      "    normalization : Python function, optional (default = np.nanmedian)\n",
      "        function to normalize the calculated mse values\n",
      "    \n",
      "    Returns\n",
      "    -------\n",
      "    score : numpy array\n",
      "        Mean Squared Error values\n",
      "    \n",
      "    References\n",
      "    ----------\n",
      "    .. [1] https://nbviewer.org/github/BMClab/BMC/blob/master/notebooks/Similarity.ipynb\n",
      "    \n",
      "    Examples\n",
      "    --------\n",
      "    >>> import numpy as np\n",
      "    >>> rng = np.random.default_rng()\n",
      "    >>> y = rng.random((100, 10))\n",
      "    >>> y +=  np.atleast_2d(np.sin(2*np.pi*np.linspace(0, 1, 100))).T\n",
      "    >>> mse(y, axis1=0, axis2=1, central=np.nanmedian, normalization=np.nanmedian)\n",
      "    \n",
      "    Version history\n",
      "    ---------------\n",
      "    '1.0.0':\n",
      "        First release version\n",
      "\n"
     ]
    }
   ],
   "source": [
    "help(mse)"
   ]
  },
  {
   "cell_type": "markdown",
   "metadata": {
    "editable": true,
    "slideshow": {
     "slide_type": ""
    },
    "tags": []
   },
   "source": [
    "### Example"
   ]
  },
  {
   "cell_type": "code",
   "execution_count": 6,
   "metadata": {
    "editable": true,
    "slideshow": {
     "slide_type": ""
    },
    "tags": []
   },
   "outputs": [
    {
     "name": "stdout",
     "output_type": "stream",
     "text": [
      "Calculated threshold: 3.0\n",
      "Vectors discarded (in dimension 1, n=4): [4 2 0 8]\n"
     ]
    },
    {
     "data": {
      "image/png": "[encoded data removed]",
      "text/plain": [
       "<Figure size 640x480 with 2 Axes>"
      ]
     },
     "metadata": {},
     "output_type": "display_data"
    }
   ],
   "source": [
    ">>> import numpy as np\n",
    ">>> import matplotlib.pyplot as plt\n",
    ">>> rng = np.random.default_rng()\n",
    ">>> t, n = 100, 10\n",
    ">>> y = rng.random((t, n))\n",
    ">>> y +=  np.atleast_2d(2*np.sin(2*np.pi*np.linspace(0, 1, t))).T\n",
    ">>> for i in range(0, n, 2):\n",
    ">>>    j = rng.integers(t-20)\n",
    ">>>    p = rng.integers(20)\n",
    ">>>    y[j:j+p, i] = y[j:j+p, i] + rng.integers(10) - 5\n",
    ">>>    y[:, i] += rng.integers(4) - 2\n",
    ">>> ys, ikept, inotkept, score_all = similarity(y, drop=True)\n",
    ">>> fig, axs = plt.subplots(2, 1, sharex=True)\n",
    ">>> axs[0].plot(y, label=list(range(n)))\n",
    ">>> axs[0].legend(loc=(1.01, 0))\n",
    ">>> axs[1].plot(ys, label= ikept.tolist())\n",
    ">>> axs[1].legend(loc=(1.01, 0))\n",
    ">>> plt.show()"
   ]
  },
  {
   "cell_type": "code",
   "execution_count": 8,
   "metadata": {},
   "outputs": [
    {
     "name": "stdout",
     "output_type": "stream",
     "text": [
      "Calculated threshold: 3.0\n",
      "Vectors discarded (in dimension 1, n=4): [4 2 0 8]\n"
     ]
    }
   ],
   "source": [
    "ys, ikept, inotkept, scores = similarity(y, threshold=0, nmin=3, recursive=True, metric=mse,\n",
    "                                         msg=1, central=np.nanmedian, normalization=np.nanmedian)"
   ]
  },
  {
   "cell_type": "code",
   "execution_count": 9,
   "metadata": {},
   "outputs": [
    {
     "data": {
      "text/plain": [
       "(100, 10)"
      ]
     },
     "execution_count": 9,
     "metadata": {},
     "output_type": "execute_result"
    }
   ],
   "source": [
    "ys.shape"
   ]
  },
  {
   "cell_type": "code",
   "execution_count": 10,
   "metadata": {},
   "outputs": [
    {
     "data": {
      "text/plain": [
       "array([1, 3, 5, 6, 7, 9])"
      ]
     },
     "execution_count": 10,
     "metadata": {},
     "output_type": "execute_result"
    }
   ],
   "source": [
    "ikept"
   ]
  },
  {
   "cell_type": "code",
   "execution_count": 11,
   "metadata": {},
   "outputs": [
    {
     "data": {
      "text/plain": [
       "array([4, 2, 0, 8])"
      ]
     },
     "execution_count": 11,
     "metadata": {},
     "output_type": "execute_result"
    }
   ],
   "source": [
    "inotkept"
   ]
  },
  {
   "cell_type": "code",
   "execution_count": 12,
   "metadata": {},
   "outputs": [
    {
     "data": {
      "text/plain": [
       "array([[18.53 ,  0.982, 15.879,  0.928, 81.278,  0.817,  1.018,  0.863,\n",
       "        15.681,  0.974],\n",
       "       [16.163,  1.   , 16.65 ,  0.913,    nan,  0.813,  1.102,  0.968,\n",
       "        13.054,  0.994],\n",
       "       [13.27 ,  1.008,    nan,  0.827,    nan,  0.938,  1.135,  0.968,\n",
       "        10.032,  0.992],\n",
       "       [   nan,  1.047,    nan,  0.935,    nan,  0.857,  1.109,  0.969,\n",
       "        13.155,  1.   ],\n",
       "       [   nan,  1.069,    nan,  0.98 ,    nan,  0.876,  1.069,  0.905,\n",
       "           nan,  1.02 ]])"
      ]
     },
     "execution_count": 12,
     "metadata": {},
     "output_type": "execute_result"
    }
   ],
   "source": [
    "scores"
   ]
  },
  {
   "cell_type": "code",
   "execution_count": 13,
   "metadata": {},
   "outputs": [
    {
     "name": "stdout",
     "output_type": "stream",
     "text": [
      "Calculated threshold: 3.0\n",
      "Vectors discarded (in dimension 1, n=4): [4 2 0 8]\n"
     ]
    }
   ],
   "source": [
    "ys, ikept, inotkept, scores = similarity(y, threshold=0, nmin=3, recursive=True, metric=mse,\n",
    "                                         drop=True, msg=1, central=np.nanmedian, normalization=np.nanmedian)"
   ]
  },
  {
   "cell_type": "code",
   "execution_count": 14,
   "metadata": {},
   "outputs": [
    {
     "data": {
      "text/plain": [
       "(100, 6)"
      ]
     },
     "execution_count": 14,
     "metadata": {},
     "output_type": "execute_result"
    }
   ],
   "source": [
    "ys.shape"
   ]
  },
  {
   "cell_type": "code",
   "execution_count": 15,
   "metadata": {},
   "outputs": [
    {
     "name": "stdout",
     "output_type": "stream",
     "text": [
      "Calculated threshold: 3.0\n",
      "Vectors discarded (in dimension 1, n=4): [4 0 2 8]\n"
     ]
    }
   ],
   "source": [
    "ys, ikept, inotkept, scores = similarity(y, threshold=0, nmin=3, recursive=False, metric=mse,\n",
    "                                         msg=1, central=np.nanmedian, normalization=np.nanmedian)"
   ]
  },
  {
   "cell_type": "markdown",
   "metadata": {},
   "source": [
    "## Function profiling"
   ]
  },
  {
   "cell_type": "code",
   "execution_count": 16,
   "metadata": {
    "editable": true,
    "slideshow": {
     "slide_type": ""
    },
    "tags": []
   },
   "outputs": [
    {
     "name": "stdout",
     "output_type": "stream",
     "text": [
      "1.89 ms ± 10.6 µs per loop (mean ± std. dev. of 7 runs, 1,000 loops each)\n"
     ]
    }
   ],
   "source": [
    "%%timeit\n",
    "ys, ikept, inotkept, score_all = similarity(y, msg=0)"
   ]
  },
  {
   "cell_type": "code",
   "execution_count": 17,
   "metadata": {},
   "outputs": [
    {
     "data": {
      "text/plain": [
       "Timer unit: 1e-09 s\n",
       "\n",
       "Total time: 0.00429593 s\n",
       "File: /home/marcos/adrive/Python/BMC/notebooks/./../functions/simila.py\n",
       "Function: similarity at line 65\n",
       "\n",
       "Line #      Hits         Time  Per Hit   % Time  Line Contents\n",
       "==============================================================\n",
       "    65                                           def similarity(y: np.ndarray, axis1: int=0, axis2: int=1, threshold: float=0,\n",
       "    66                                                          nmin: int=3, recursive: bool=True, metric: callable=mse,\n",
       "    67                                                          drop=False, msg: bool=True, **kwargs: callable\n",
       "    68                                                          ) ->tuple[np.ndarray, np.ndarray, np.ndarray, np.ndarray]:\n",
       "    69                                           \n",
       "    70                                               \"\"\"Select data vectors by similarity using a metric score.\n",
       "    71                                           \n",
       "    72                                               Parameters\n",
       "    73                                               ----------\n",
       "    74                                               y : numpy array\n",
       "    75                                                   Array for the calculation of mse w.r.t. to a central statistics.\n",
       "    76                                               axis1 : integer, optional (default = 0)\n",
       "    77                                                   Axis to slice `y` ndarray in the calculation of mse.\n",
       "    78                                               axis2 : integer, optional (default = 1)\n",
       "    79                                                   Axis to slice `y` ndarray in the calculation of the `central`.\n",
       "    80                                               threshold : float, optional (default = 0)\n",
       "    81                                                   If greater than 0, vector with mse above it will be discarded.\n",
       "    82                                                   If 0, threshold will be automatically calculated as the\n",
       "    83                                                   minimum of [q[1] + 1.5*(q[2]-q[0]), score[-2], 3], where q's are the\n",
       "    84                                                   quantiles and score[-2] is the before-last largest score of `metric`\n",
       "    85                                                   among vectors calculated at the first time, not updated by `recursive`\n",
       "    86                                                   option.\n",
       "    87                                               nmin : integer, optional (default = 3)\n",
       "    88                                                   If greater than 0, minumum number of vectors to keep.\n",
       "    89                                                   If lower than 0, maximum number of vectors to discard.\n",
       "    90                                               recursive :bool, optional (default = True)\n",
       "    91                                                   Whether to calculate similarity `metric` recursevely, updating the score\n",
       "    92                                                   calculation each time a vector is discarded.\n",
       "    93                                                   With `recursive` True, the output `scores` will contain at each row\n",
       "    94                                                   the updated score values for the used `metric` for each data vector.\n",
       "    95                                                   The first row will contain the calculated original scores before any\n",
       "    96                                                   vector was discarded. On the subsequent rows, the vector discarded is\n",
       "    97                                                   represented by a NaN value and the kept vectors by their updated scores.\n",
       "    98                                                   The last row will contain the updated scores of the final vectors kept.\n",
       "    99                                                   With the `recursive` False, the comparison of score values with `threshold`\n",
       "   100                                                   are made only once and vectors are discarded accordingly at once.\n",
       "   101                                                   In this case, the output `scores` will contain only two rows, the\n",
       "   102                                                   first row will contain the calculated original scores before any vectors\n",
       "   103                                                   were discarded. At the second row, the vectors discarded are represented\n",
       "   104                                                   with NaN values and the kept vectors by their updated scores.\n",
       "   105                                               metric : optional (default=mse)\n",
       "   106                                                   Function to use as metric to compute similarity.\n",
       "   107                                               drop : bool, optional (default = False)\n",
       "   108                                                   Whether to drop (delete) the discarded vectors from `y` in the output.\n",
       "   109                                               msg : bool, optional (default = True)\n",
       "   110                                                   Whether to print some messages.\n",
       "   111                                               kwargs : optional\n",
       "   112                                                   Options for the metric function (e.g., see `mse` function).\n",
       "   113                                           \n",
       "   114                                               Returns\n",
       "   115                                               -------\n",
       "   116                                               y : numpy array\n",
       "   117                                                   Array similar to input `y` but with vectors discarded.\n",
       "   118                                               ikept : numpy array\n",
       "   119                                                   Indexes of kept vectors.\n",
       "   120                                               inotkept : numpy array\n",
       "   121                                                   Indexes of not kept (discarded) vectors.\n",
       "   122                                               scores : 2-D numpy array\n",
       "   123                                                   Metric score values of each vector (as columns) for each round of\n",
       "   124                                                   vector selection (one row per round plus the final values).\n",
       "   125                                           \n",
       "   126                                               References\n",
       "   127                                               ----------\n",
       "   128                                               .. [1] https://nbviewer.org/github/BMClab/BMC/blob/master/notebooks/Similarity.ipynb\n",
       "   129                                           \n",
       "   130                                               Examples\n",
       "   131                                               --------\n",
       "   132                                               >>> import numpy as np\n",
       "   133                                               >>> import matplotlib.pyplot as plt\n",
       "   134                                               >>> rng = np.random.default_rng()\n",
       "   135                                               >>> t, n = 100, 10\n",
       "   136                                               >>> y = rng.random((t, n))\n",
       "   137                                               >>> y +=  np.atleast_2d(2*np.sin(2*np.pi*np.linspace(0, 1, t))).T\n",
       "   138                                               >>> for i in range(0, n, 2):\n",
       "   139                                               >>>    j = rng.integers(t-20)\n",
       "   140                                               >>>    p = rng.integers(20)\n",
       "   141                                               >>>    y[j:j+p, i] = y[j:j+p, i] + rng.integers(10) - 5\n",
       "   142                                               >>>    y[:, i] += rng.integers(4) - 2\n",
       "   143                                               >>> ys, ikept, inotkept, scores = similarity(y)\n",
       "   144                                               >>> fig, axs = plt.subplots(2, 1, sharex=True)\n",
       "   145                                               >>> axs[0].plot(y, label=list(range(n)))\n",
       "   146                                               >>> axs[0].legend(loc=(1.01, 0))\n",
       "   147                                               >>> axs[1].plot(ys, label= ikept.tolist())\n",
       "   148                                               >>> axs[1].legend(loc=(1.01, 0))\n",
       "   149                                               >>> plt.show()\n",
       "   150                                           \n",
       "   151                                               Version history\n",
       "   152                                               ---------------\n",
       "   153                                               '1.0.0':\n",
       "   154                                                   First release version\n",
       "   155                                               \"\"\"\n",
       "   156                                           \n",
       "   157                                           \n",
       "   158         1       1459.0   1459.0      0.0      if y.ndim < 2:\n",
       "   159                                                   raise ValueError('The input array must be at least a 2-D array.')\n",
       "   160         1       7638.0   7638.0      0.2      y = y.copy()\n",
       "   161         1    1496523.0 1496523.0     34.8      score = metric(y, axis1=axis1, axis2=axis2, **kwargs)\n",
       "   162         1       7885.0   7885.0      0.2      scores = np.atleast_2d(score)\n",
       "   163         1       3950.0   3950.0      0.1      ikept = np.where(~np.isnan(score))[0]  # indexes of kept vectors\n",
       "   164                                               # indexes of not kept (discarded) vectors\n",
       "   165         1       1783.0   1783.0      0.0      inotkept = np.where(np.isnan(score))[0]\n",
       "   166         1       6400.0   6400.0      0.1      idx = np.argsort(score)\n",
       "   167         1        837.0    837.0      0.0      score = score[idx]\n",
       "   168         1       3305.0   3305.0      0.1      nkept = np.count_nonzero(~np.isnan(score))  # number of kept vectors\n",
       "   169         1        316.0    316.0      0.0      if nkept < 3:\n",
       "   170                                                   raise ValueError('The input array must have at least 3 valid vectors.')\n",
       "   171         1        207.0    207.0      0.0      if nmin < 0:\n",
       "   172                                                   nmin = np.max([3, nkept + nmin])\n",
       "   173         1        158.0    158.0      0.0      if threshold == 0:\n",
       "   174         1     177740.0 177740.0      4.1          q = np.nanquantile(a=score, q=[.25, .50, .75])\n",
       "   175         1      15245.0  15245.0      0.4          threshold = np.min([q[1] + 1.5*(q[2]-q[0]), score[-2], 3])\n",
       "   176         1        255.0    255.0      0.0          if msg:\n",
       "   177                                                       print(f'Calculated threshold: {threshold}')\n",
       "   178         1        196.0    196.0      0.0      if not recursive:  # discard all vectors at once\n",
       "   179                                                   idx2 = np.nonzero(score > threshold)[0]  # vectors to discard\n",
       "   180                                                   if len(idx2) > 0:\n",
       "   181                                                       if nkept > nmin:  # keep at least nmin vectors\n",
       "   182                                                           inotkept = np.r_[inotkept, idx[idx2[-(y.shape[axis2] - nmin):]][::-1]]\n",
       "   183                                                           y.swapaxes(0, axis2)[inotkept, ...] = np.nan\n",
       "   184                                                           score = metric(y, axis1=axis1, axis2=axis2, **kwargs)\n",
       "   185                                                           scores = np.vstack((scores, score))\n",
       "   186                                                       elif msg:\n",
       "   187                                                           pass\n",
       "   188                                                           #print(\n",
       "   189                                                           #    f'Number of vectors to discard is greater than number to keep ({nkept}).')\n",
       "   190                                               else:  # discard vectors with largest updated score one by one\n",
       "   191         4       3766.0    941.5      0.1          while nkept > nmin and score[nkept-1] > threshold:\n",
       "   192         4     105870.0  26467.5      2.5              inotkept = np.r_[inotkept, idx[nkept-1]]\n",
       "   193         4      11953.0   2988.2      0.3              y.swapaxes(0, axis2)[inotkept[-1], ...] = np.nan\n",
       "   194         4    2242860.0 560715.0     52.2              score = metric(y, axis1=axis1, axis2=axis2, **kwargs)\n",
       "   195         4      50267.0  12566.8      1.2              scores = np.vstack((scores, score))\n",
       "   196         4      21830.0   5457.5      0.5              idx = np.argsort(score)\n",
       "   197         4       3138.0    784.5      0.1              score = score[idx]\n",
       "   198         4       1029.0    257.2      0.0              nkept = nkept - 1\n",
       "   199         1        189.0    189.0      0.0          if msg and nkept == nmin and score[nkept-1] > threshold:\n",
       "   200                                                       pass\n",
       "   201                                                       #print(\n",
       "   202                                                       #    f'Number of vectors to discard is greater than number to keep ({nkept}).')\n",
       "   203                                           \n",
       "   204         1        410.0    410.0      0.0      if len(inotkept):\n",
       "   205         1     130138.0 130138.0      3.0          ikept = np.setdiff1d(ikept, inotkept)\n",
       "   206         1        223.0    223.0      0.0          if drop:\n",
       "   207                                                       y = y.swapaxes(0, axis2)[ikept, ...].swapaxes(0, axis2)\n",
       "   208         1        166.0    166.0      0.0          if msg:\n",
       "   209                                                       print(\n",
       "   210                                                           f'Vectors discarded (in dimension {axis2}, n={len(inotkept)}): {inotkept}')\n",
       "   211                                           \n",
       "   212         1        192.0    192.0      0.0      return y, ikept, inotkept, scores"
      ]
     },
     "metadata": {},
     "output_type": "display_data"
    }
   ],
   "source": [
    "%lprun -f similarity similarity(y, msg=0)"
   ]
  },
  {
   "cell_type": "markdown",
   "metadata": {},
   "source": [
    "## Function `similarity`"
   ]
  },
  {
   "cell_type": "code",
   "execution_count": 19,
   "metadata": {},
   "outputs": [],
   "source": [
    "# %load ./../functions/simila.py\n",
    "\"\"\"Select data vectors by similarity using a metric score.\n",
    "\"\"\"\n",
    "\n",
    "__author__ = 'Marcos Duarte, https://github.com/demotu/BMC'\n",
    "__version__ = 'similarity.py v.1.0.0 20123/07/31'\n",
    "__license__ = \"MIT\"\n",
    "\n",
    "import numpy as np\n",
    "\n",
    "\n",
    "def mse(y: np.ndarray, axis1: int=0, axis2: int=1, central: callable=np.nanmedian,\n",
    "         normalization: callable=np.nanmedian\n",
    "         ) -> np.ndarray:\n",
    "    \"\"\"Mean Squared Error of `y` w.r.t. `central` across axis2 over axis1.\n",
    "\n",
    "    Parameters\n",
    "    ----------\n",
    "    y : numpy array\n",
    "        an at least 2D array of data for the calculation of mean squared error\n",
    "        w.r.t. to a `central` statistics.\n",
    "    axis1 : integer, optional (default = 0)\n",
    "        axis to slice `y` ndarray in the calculation of mse.\n",
    "    axis2 : integer, optional (default = 1)\n",
    "        axis to slice `y` ndarray in the calculation of the `central`.\n",
    "    central : Python function, optional (default = np.nanmedian)\n",
    "        function to calculate statistics on `y` w.r.t. mse is computed.\n",
    "    normalization : Python function, optional (default = np.nanmedian)\n",
    "        function to normalize the calculated mse values\n",
    "\n",
    "    Returns\n",
    "    -------\n",
    "    score : numpy array\n",
    "        Mean Squared Error values\n",
    "\n",
    "    References\n",
    "    ----------\n",
    "    .. [1] https://nbviewer.org/github/BMClab/BMC/blob/master/notebooks/Similarity.ipynb\n",
    "\n",
    "    Examples\n",
    "    --------\n",
    "    >>> import numpy as np\n",
    "    >>> rng = np.random.default_rng()\n",
    "    >>> y = rng.random((100, 10))\n",
    "    >>> y +=  np.atleast_2d(np.sin(2*np.pi*np.linspace(0, 1, 100))).T\n",
    "    >>> mse(y, axis1=0, axis2=1, central=np.nanmedian, normalization=np.nanmedian)\n",
    "\n",
    "    Version history\n",
    "    ---------------\n",
    "    '1.0.0':\n",
    "        First release version\n",
    "    \"\"\"\n",
    "\n",
    "\n",
    "    score = np.empty((y.shape[axis2]))\n",
    "    score.fill(np.nan)\n",
    "    idx = np.where(~np.all(np.isnan(y), axis=axis1))[0]  # masked array is slow\n",
    "    y = y.swapaxes(0, axis2)[idx, ...].swapaxes(0, axis2)  # faster than .take\n",
    "    score[idx] = np.nanmean((y - central(y, axis=axis2, keepdims=True))**2,\n",
    "                            axis=axis1)\n",
    "    if normalization is not None:\n",
    "        score = score/normalization(score)\n",
    "    return score\n",
    "\n",
    "\n",
    "def similarity(y: np.ndarray, axis1: int=0, axis2: int=1, threshold: float=0,\n",
    "               nmin: int=3, recursive: bool=True, metric: callable=mse,\n",
    "               drop=False, msg: bool=True, **kwargs: callable\n",
    "               ) ->tuple[np.ndarray, np.ndarray, np.ndarray, np.ndarray]:\n",
    "\n",
    "    \"\"\"Select data vectors by similarity using a metric score.\n",
    "\n",
    "    Parameters\n",
    "    ----------\n",
    "    y : numpy array\n",
    "        Array for the calculation of mse w.r.t. to a central statistics.\n",
    "    axis1 : integer, optional (default = 0)\n",
    "        Axis to slice `y` ndarray in the calculation of mse.\n",
    "    axis2 : integer, optional (default = 1)\n",
    "        Axis to slice `y` ndarray in the calculation of the `central`.\n",
    "    threshold : float, optional (default = 0)\n",
    "        If greater than 0, vector with mse above it will be discarded.\n",
    "        If 0, threshold will be automatically calculated as the\n",
    "        minimum of [q[1] + 1.5*(q[2]-q[0]), score[-2], 3], where q's are the\n",
    "        quantiles and score[-2] is the before-last largest score of `metric`\n",
    "        among vectors calculated at the first time, not updated by `recursive`\n",
    "        option.\n",
    "    nmin : integer, optional (default = 3)\n",
    "        If greater than 0, minumum number of vectors to keep.\n",
    "        If lower than 0, maximum number of vectors to discard.\n",
    "    recursive :bool, optional (default = True)\n",
    "        Whether to calculate similarity `metric` recursevely, updating the score\n",
    "        calculation each time a vector is discarded.\n",
    "        With `recursive` True, the output `scores` will contain at each row\n",
    "        the updated score values for the used `metric` for each data vector.\n",
    "        The first row will contain the calculated original scores before any\n",
    "        vector was discarded. On the subsequent rows, the vector discarded is\n",
    "        represented by a NaN value and the kept vectors by their updated scores.\n",
    "        The last row will contain the updated scores of the final vectors kept.\n",
    "        With the `recursive` False, the comparison of score values with `threshold`\n",
    "        are made only once and vectors are discarded accordingly at once.\n",
    "        In this case, the output `scores` will contain only two rows, the\n",
    "        first row will contain the calculated original scores before any vectors\n",
    "        were discarded. At the second row, the vectors discarded are represented\n",
    "        with NaN values and the kept vectors by their updated scores.\n",
    "    metric : optional (default=mse)\n",
    "        Function to use as metric to compute similarity.\n",
    "    drop : bool, optional (default = False)\n",
    "        Whether to drop (delete) the discarded vectors from `y` in the output.\n",
    "    msg : bool, optional (default = True)\n",
    "        Whether to print some messages.\n",
    "    kwargs : optional\n",
    "        Options for the metric function (e.g., see `mse` function).\n",
    "\n",
    "    Returns\n",
    "    -------\n",
    "    y : numpy array\n",
    "        Array similar to input `y` but with vectors discarded.\n",
    "    ikept : numpy array\n",
    "        Indexes of kept vectors.\n",
    "    inotkept : numpy array\n",
    "        Indexes of not kept (discarded) vectors.\n",
    "    scores : 2-D numpy array\n",
    "        Metric score values of each vector (as columns) for each round of\n",
    "        vector selection (one row per round plus the final values).\n",
    "\n",
    "    References\n",
    "    ----------\n",
    "    .. [1] https://nbviewer.org/github/BMClab/BMC/blob/master/notebooks/Similarity.ipynb\n",
    "\n",
    "    Examples\n",
    "    --------\n",
    "    >>> import numpy as np\n",
    "    >>> import matplotlib.pyplot as plt\n",
    "    >>> rng = np.random.default_rng()\n",
    "    >>> t, n = 100, 10\n",
    "    >>> y = rng.random((t, n))\n",
    "    >>> y +=  np.atleast_2d(2*np.sin(2*np.pi*np.linspace(0, 1, t))).T\n",
    "    >>> for i in range(0, n, 2):\n",
    "    >>>    j = rng.integers(t-20)\n",
    "    >>>    p = rng.integers(20)\n",
    "    >>>    y[j:j+p, i] = y[j:j+p, i] + rng.integers(10) - 5\n",
    "    >>>    y[:, i] += rng.integers(4) - 2\n",
    "    >>> ys, ikept, inotkept, scores = similarity(y)\n",
    "    >>> fig, axs = plt.subplots(2, 1, sharex=True)\n",
    "    >>> axs[0].plot(y, label=list(range(n)))\n",
    "    >>> axs[0].legend(loc=(1.01, 0))\n",
    "    >>> axs[1].plot(ys, label= ikept.tolist())\n",
    "    >>> axs[1].legend(loc=(1.01, 0))\n",
    "    >>> plt.show()\n",
    "\n",
    "    Version history\n",
    "    ---------------\n",
    "    '1.0.0':\n",
    "        First release version\n",
    "    \"\"\"\n",
    "\n",
    "\n",
    "    if y.ndim < 2:\n",
    "        raise ValueError('The input array must be at least a 2-D array.')\n",
    "    y = y.copy()\n",
    "    score = metric(y, axis1=axis1, axis2=axis2, **kwargs)\n",
    "    scores = np.atleast_2d(score)\n",
    "    ikept = np.where(~np.isnan(score))[0]  # indexes of kept vectors\n",
    "    # indexes of not kept (discarded) vectors\n",
    "    inotkept = np.where(np.isnan(score))[0]\n",
    "    idx = np.argsort(score)\n",
    "    score = score[idx]\n",
    "    nkept = np.count_nonzero(~np.isnan(score))  # number of kept vectors\n",
    "    if nkept < 3:\n",
    "        raise ValueError('The input array must have at least 3 valid vectors.')\n",
    "    if nmin < 0:\n",
    "        nmin = np.max([3, nkept + nmin])\n",
    "    if threshold == 0:\n",
    "        q = np.nanquantile(a=score, q=[.25, .50, .75])\n",
    "        threshold = np.min([q[1] + 1.5*(q[2]-q[0]), score[-2], 3])\n",
    "        if msg:\n",
    "            print(f'Calculated threshold: {threshold}')\n",
    "    if not recursive:  # discard all vectors at once\n",
    "        idx2 = np.nonzero(score > threshold)[0]  # vectors to discard\n",
    "        if len(idx2) > 0:\n",
    "            if nkept > nmin:  # keep at least nmin vectors\n",
    "                inotkept = np.r_[inotkept, idx[idx2[-(y.shape[axis2] - nmin):]][::-1]]\n",
    "                y.swapaxes(0, axis2)[inotkept, ...] = np.nan\n",
    "                score = metric(y, axis1=axis1, axis2=axis2, **kwargs)\n",
    "                scores = np.vstack((scores, score))\n",
    "            elif msg:\n",
    "                pass\n",
    "                #print(\n",
    "                #    f'Number of vectors to discard is greater than number to keep ({nkept}).')\n",
    "    else:  # discard vectors with largest updated score one by one\n",
    "        while nkept > nmin and score[nkept-1] > threshold:\n",
    "            inotkept = np.r_[inotkept, idx[nkept-1]]\n",
    "            y.swapaxes(0, axis2)[inotkept[-1], ...] = np.nan\n",
    "            score = metric(y, axis1=axis1, axis2=axis2, **kwargs)\n",
    "            scores = np.vstack((scores, score))\n",
    "            idx = np.argsort(score)\n",
    "            score = score[idx]\n",
    "            nkept = nkept - 1\n",
    "        if msg and nkept == nmin and score[nkept-1] > threshold:\n",
    "            pass\n",
    "            #print(\n",
    "            #    f'Number of vectors to discard is greater than number to keep ({nkept}).')\n",
    "\n",
    "    if len(inotkept):\n",
    "        ikept = np.setdiff1d(ikept, inotkept)\n",
    "        if drop:\n",
    "            y = y.swapaxes(0, axis2)[ikept, ...].swapaxes(0, axis2)\n",
    "        if msg:\n",
    "            print(\n",
    "                f'Vectors discarded (in dimension {axis2}, n={len(inotkept)}): {inotkept}')\n",
    "\n",
    "    return y, ikept, inotkept, scores\n"
   ]
  },
  {
   "cell_type": "code",
   "execution_count": null,
   "metadata": {},
   "outputs": [],
   "source": []
  }
 ],
 "metadata": {
  "anaconda-cloud": {},
  "hide_input": false,
  "kernelspec": {
   "display_name": "Python 3 (ipykernel)",
   "language": "python",
   "name": "python3"
  },
  "language_info": {
   "codemirror_mode": {
    "name": "ipython",
    "version": 3
   },
   "file_extension": ".py",
   "mimetype": "text/x-python",
   "name": "python",
   "nbconvert_exporter": "python",
   "pygments_lexer": "ipython3",
   "version": "3.11.4"
  },
  "nbTranslate": {
   "displayLangs": [
    "*"
   ],
   "hotkey": "alt-t",
   "langInMainMenu": true,
   "sourceLang": "en",
   "targetLang": "fr",
   "useGoogleTranslate": true
  },
  "varInspector": {
   "cols": {
    "lenName": 16,
    "lenType": 16,
    "lenVar": 40
   },
   "kernels_config": {
    "python": {
     "delete_cmd_postfix": "",
     "delete_cmd_prefix": "del ",
     "library": "var_list.py",
     "varRefreshCmd": "print(var_dic_list())"
    },
    "r": {
     "delete_cmd_postfix": ") ",
     "delete_cmd_prefix": "rm(",
     "library": "var_list.r",
     "varRefreshCmd": "cat(var_dic_list()) "
    }
   },
   "types_to_exclude": [
    "module",
    "function",
    "builtin_function_or_method",
    "instance",
    "_Feature"
   ],
   "window_display": false
  },
  "widgets": {
   "application/vnd.jupyter.widget-state+json": {
    "state": {},
    "version_major": 2,
    "version_minor": 0
   }
  }
 },
 "nbformat": 4,
 "nbformat_minor": 4
}
