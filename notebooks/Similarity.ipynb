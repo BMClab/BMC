{
 "cells": [
  {
   "cell_type": "markdown",
   "metadata": {},
   "source": [
    "> # Select data vectors by similarity using a metric score\n",
    "\n",
    "> Marcos Duarte  \n",
    "> [Laboratory of Biomechanics and Motor Control](https://bmclab.pesquisa.ufabc.edu.br/)  \n",
    "> Federal University of ABC, Brazil"
   ]
  },
  {
   "cell_type": "code",
   "execution_count": 1,
   "metadata": {
    "ExecuteTime": {
     "end_time": "2019-11-20T20:19:47.223181Z",
     "start_time": "2019-11-20T20:19:47.054140Z"
    },
    "editable": true,
    "slideshow": {
     "slide_type": ""
    },
    "tags": []
   },
   "outputs": [
    {
     "name": "stdout",
     "output_type": "stream",
     "text": [
      "Last updated: 2023-08-01 23:05:49\n",
      "\n",
      "Python implementation: CPython\n",
      "Python version       : 3.11.4\n",
      "IPython version      : 8.14.0\n",
      "\n",
      "Compiler    : GCC 12.2.0\n",
      "OS          : Linux\n",
      "Release     : 6.2.0-26-generic\n",
      "Machine     : x86_64\n",
      "Processor   : x86_64\n",
      "CPU cores   : 16\n",
      "Architecture: 64bit\n",
      "\n",
      "matplotlib: 3.7.2\n",
      "numpy     : 1.25.1\n",
      "sys       : 3.11.4 | packaged by conda-forge | (main, Jun 10 2023, 18:08:17) [GCC 12.2.0]\n",
      "\n"
     ]
    }
   ],
   "source": [
    "import numpy as np\n",
    "import matplotlib.pyplot as plt\n",
    "import sys\n",
    "sys.path.insert(1, r'./../functions')\n",
    "from similarity import similarity, mse_\n",
    "\n",
    "np.set_printoptions(precision=3)\n",
    "\n",
    "%load_ext line_profiler\n",
    "%load_ext watermark\n",
    "%watermark -u -t -d -m -v --iversions"
   ]
  },
  {
   "cell_type": "code",
   "execution_count": 2,
   "metadata": {},
   "outputs": [
    {
     "name": "stdout",
     "output_type": "stream",
     "text": [
      "Help on function similarity in module similarity:\n",
      "\n",
      "similarity(y: numpy.ndarray, axis1: int = 0, axis2: int = 1, threshold: float = 0, nmin: int = 3, recursive: bool = True, metric: <built-in function callable> = <function mse_ at 0x7fca60d1b420>, msg: bool = True, **kwargs: <built-in function callable>) -> tuple[numpy.ndarray, numpy.ndarray, numpy.ndarray, numpy.ndarray]\n",
      "    Select data vectors by similarity using a metric score.\n",
      "    \n",
      "    Parameters\n",
      "    ----------\n",
      "    y : numpy array\n",
      "        Array for the calculation of mse w.r.t. to a central statistics.\n",
      "    axis1 : integer, optional (default = 0)\n",
      "        Axis to slice `y` ndarray in the calculation of mse.\n",
      "    axis2 : integer, optional (default = 1)\n",
      "        Axis to slice `y` ndarray in the calculation of the `central`.\n",
      "    threshold : float, optional (default = 0)\n",
      "        If greater than 0, vector with mse above it will be discarded.\n",
      "        If 0, threshold will be automatically calculated as the\n",
      "        minimum of [q[1] + 1.5*(q[2]-q[0]), score[-2], 3], where q's are the\n",
      "        quantiles and score[-2] is the before-last largest score of `metric`\n",
      "        among vectors calculated at the first time, not updated by `recursive`\n",
      "        option.\n",
      "    nmin : integer, optional (default = 3)\n",
      "        If greater than 0, minumum number of vectors to keep.\n",
      "        If lower than 0, maximum number of vectors to discard.\n",
      "    recursive :bool, optional (default = True)\n",
      "        Whether to calculate similarity `metric` recursevely, updating the score\n",
      "        calculation each time a vector is discarded.\n",
      "        With `recursive` True, the output `scores` will contain at each row\n",
      "        the updated score values for the used `metric` for each data vector.\n",
      "        The first row will contain the calculated original scores before any\n",
      "        vector was discarded. On the subsequent rows, the vector discarded is\n",
      "        represented by a NaN value and the kept vectors by their updated scores.\n",
      "        The last row will contain the updated scores of the final vectors kept.\n",
      "        With the `recursive` False, the comparison of score values with `threshold`\n",
      "        are made only once and vectors are discarded accordingly at once.\n",
      "        In this case, the output `scores` will contain only two rows, the\n",
      "        first row will contain the calculated original scores before any vectors\n",
      "        were discarded. At the second row, the vectors discarded are represented\n",
      "        with NaN values and the kept vectors by their updated scores.\n",
      "    metric : optional (default=mse_)\n",
      "        Function to use as metric to compute similarity.\n",
      "    msg : bool, optional (default = True)\n",
      "        Whether to print some messages.\n",
      "    kwargs : optional\n",
      "        Options for the metric function (e.g., see `_mse` function).\n",
      "    \n",
      "    Returns\n",
      "    -------\n",
      "    y : numpy array\n",
      "        Array similar to input `y` but with vectors discarded.\n",
      "    ikept : numpy array\n",
      "        Indexes of kept vectors.\n",
      "    inotkept : numpy array\n",
      "        Indexes of not kept (discarded) vectors.\n",
      "    scores : 2-D numpy array\n",
      "        Metric score values of each vector (as columns) for each round of\n",
      "        vector selection (one row per round plus the final values).\n",
      "    \n",
      "    References\n",
      "    ----------\n",
      "    .. [1] https://nbviewer.org/github/BMClab/BMC/blob/master/notebooks/Similarity.ipynb\n",
      "    \n",
      "    Examples\n",
      "    --------\n",
      "    >>> import numpy as np\n",
      "    >>> import matplotlib.pyplot as plt\n",
      "    >>> rng = np.random.default_rng()\n",
      "    >>> t, n = 100, 10\n",
      "    >>> y = rng.random((t, n))\n",
      "    >>> y +=  np.atleast_2d(2*np.sin(2*np.pi*np.linspace(0, 1, t))).T\n",
      "    >>> for i in range(0, n, 2):\n",
      "    >>>    j = rng.integers(t-20)\n",
      "    >>>    p = rng.integers(20)\n",
      "    >>>    y[j:j+p, i] = y[j:j+p, i] + rng.integers(10) - 5\n",
      "    >>>    y[:, i] += rng.integers(4) - 2\n",
      "    >>> ys, ikept, inotkept, scores = similarity(y)\n",
      "    >>> fig, axs = plt.subplots(2, 1, sharex=True)\n",
      "    >>> axs[0].plot(y, label=list(range(n)))\n",
      "    >>> axs[0].legend(loc=(1.01, 0))\n",
      "    >>> axs[1].plot(ys, label= ikept.tolist())\n",
      "    >>> axs[1].legend(loc=(1.01, 0))\n",
      "    >>> plt.show()\n",
      "    \n",
      "    Version history\n",
      "    ---------------\n",
      "    '1.0.0':\n",
      "        First release version\n",
      "\n"
     ]
    }
   ],
   "source": [
    "help(similarity)"
   ]
  },
  {
   "cell_type": "markdown",
   "metadata": {
    "editable": true,
    "slideshow": {
     "slide_type": ""
    },
    "tags": []
   },
   "source": [
    "### Example"
   ]
  },
  {
   "cell_type": "code",
   "execution_count": 3,
   "metadata": {
    "editable": true,
    "slideshow": {
     "slide_type": ""
    },
    "tags": []
   },
   "outputs": [
    {
     "name": "stdout",
     "output_type": "stream",
     "text": [
      "Calculated threshold: 3.0\n",
      "Vectors discarded (in dimension 1, n=5): [4 2 6 8 0]\n"
     ]
    },
    {
     "data": {
      "image/png": "[encoded data removed]",
      "text/plain": [
       "<Figure size 640x480 with 2 Axes>"
      ]
     },
     "metadata": {},
     "output_type": "display_data"
    }
   ],
   "source": [
    ">>> import numpy as np\n",
    ">>> import matplotlib.pyplot as plt\n",
    ">>> rng = np.random.default_rng()\n",
    ">>> t, n = 100, 10\n",
    ">>> y = rng.random((t, n))\n",
    ">>> y +=  np.atleast_2d(2*np.sin(2*np.pi*np.linspace(0, 1, t))).T\n",
    ">>> for i in range(0, n, 2):\n",
    ">>>    j = rng.integers(t-20)\n",
    ">>>    p = rng.integers(20)\n",
    ">>>    y[j:j+p, i] = y[j:j+p, i] + rng.integers(10) - 5\n",
    ">>>    y[:, i] += rng.integers(4) - 2\n",
    ">>> ys, ikept, inotkept, score_all = similarity(y)\n",
    ">>> fig, axs = plt.subplots(2, 1, sharex=True)\n",
    ">>> axs[0].plot(y, label=list(range(n)))\n",
    ">>> axs[0].legend(loc=(1.01, 0))\n",
    ">>> axs[1].plot(ys, label= ikept.tolist())\n",
    ">>> axs[1].legend(loc=(1.01, 0))\n",
    ">>> plt.show()"
   ]
  },
  {
   "cell_type": "code",
   "execution_count": 4,
   "metadata": {},
   "outputs": [
    {
     "name": "stdout",
     "output_type": "stream",
     "text": [
      "Calculated threshold: 3.0\n",
      "Vectors discarded (in dimension 1, n=5): [4 2 6 8 0]\n"
     ]
    }
   ],
   "source": [
    "ys, ikept, inotkept, scores = similarity(y, threshold=0, nmin=3, recursive=True, metric=mse_,\n",
    "                                         msg=1, central=np.nanmedian, normalization=np.nanmedian)"
   ]
  },
  {
   "cell_type": "code",
   "execution_count": 5,
   "metadata": {},
   "outputs": [
    {
     "data": {
      "text/plain": [
       "(100, 5)"
      ]
     },
     "execution_count": 5,
     "metadata": {},
     "output_type": "execute_result"
    }
   ],
   "source": [
    "ys.shape"
   ]
  },
  {
   "cell_type": "code",
   "execution_count": 6,
   "metadata": {},
   "outputs": [
    {
     "data": {
      "text/plain": [
       "array([1, 3, 5, 7, 9])"
      ]
     },
     "execution_count": 6,
     "metadata": {},
     "output_type": "execute_result"
    }
   ],
   "source": [
    "ikept"
   ]
  },
  {
   "cell_type": "code",
   "execution_count": 7,
   "metadata": {},
   "outputs": [
    {
     "data": {
      "text/plain": [
       "array([4, 2, 6, 8, 0])"
      ]
     },
     "execution_count": 7,
     "metadata": {},
     "output_type": "execute_result"
    }
   ],
   "source": [
    "inotkept"
   ]
  },
  {
   "cell_type": "code",
   "execution_count": 8,
   "metadata": {},
   "outputs": [
    {
     "data": {
      "text/plain": [
       "array([[ 1.764,  0.205, 14.473,  0.17 , 18.362,  0.209,  9.315,  0.207,\n",
       "         2.828,  0.236],\n",
       "       [ 7.232,  0.786, 59.048,  0.691,    nan,  1.   , 36.248,  0.794,\n",
       "         9.583,  0.914],\n",
       "       [ 7.488,  0.817,    nan,  0.833,    nan,  1.07 , 36.797,  0.856,\n",
       "         8.355,  0.93 ],\n",
       "       [ 8.527,  0.901,    nan,  0.878,    nan,  1.062,    nan,  0.807,\n",
       "        10.089,  1.   ],\n",
       "       [ 9.793,  1.008,    nan,  0.845,    nan,  0.992,    nan,  0.921,\n",
       "           nan,  1.069],\n",
       "       [   nan,  1.124,    nan,  0.815,    nan,  0.922,    nan,  1.024,\n",
       "           nan,  1.   ]])"
      ]
     },
     "execution_count": 8,
     "metadata": {},
     "output_type": "execute_result"
    }
   ],
   "source": [
    "scores"
   ]
  },
  {
   "cell_type": "code",
   "execution_count": 9,
   "metadata": {},
   "outputs": [
    {
     "data": {
      "text/plain": [
       "array([ 1.764,  0.205, 14.473,  0.17 , 18.362,  0.209,  9.315,  0.207,\n",
       "        2.828,  0.236])"
      ]
     },
     "execution_count": 9,
     "metadata": {},
     "output_type": "execute_result"
    }
   ],
   "source": [
    "scores[0, :]"
   ]
  },
  {
   "cell_type": "code",
   "execution_count": 10,
   "metadata": {},
   "outputs": [
    {
     "data": {
      "text/plain": [
       "array([ 7.232,  0.786, 59.048,  0.691,    nan,  1.   , 36.248,  0.794,\n",
       "        9.583,  0.914])"
      ]
     },
     "execution_count": 10,
     "metadata": {},
     "output_type": "execute_result"
    }
   ],
   "source": [
    "scores[1]"
   ]
  },
  {
   "cell_type": "markdown",
   "metadata": {},
   "source": [
    "## Function profiling"
   ]
  },
  {
   "cell_type": "code",
   "execution_count": 11,
   "metadata": {
    "editable": true,
    "slideshow": {
     "slide_type": ""
    },
    "tags": []
   },
   "outputs": [
    {
     "name": "stdout",
     "output_type": "stream",
     "text": [
      "2.23 ms ± 11.7 µs per loop (mean ± std. dev. of 7 runs, 100 loops each)\n"
     ]
    }
   ],
   "source": [
    "%%timeit\n",
    "ys, ikept, inotkept, score_all = similarity(y, msg=0)"
   ]
  },
  {
   "cell_type": "code",
   "execution_count": 12,
   "metadata": {},
   "outputs": [
    {
     "data": {
      "text/plain": [
       "Timer unit: 1e-09 s\n",
       "\n",
       "Total time: 0.0057253 s\n",
       "File: /home/marcos/adrive/Python/BMC/notebooks/./../functions/similarity.py\n",
       "Function: similarity at line 64\n",
       "\n",
       "Line #      Hits         Time  Per Hit   % Time  Line Contents\n",
       "==============================================================\n",
       "    64                                           def similarity(y: np.ndarray, axis1: int=0, axis2: int=1, threshold: float=0,\n",
       "    65                                                          nmin: int=3, recursive: bool=True, metric: callable=mse_,\n",
       "    66                                                          msg: bool=True, **kwargs: callable) -> tuple[np.ndarray, np.ndarray,\n",
       "    67                                                                                                       np.ndarray, np.ndarray]:\n",
       "    68                                               \"\"\"Select data vectors by similarity using a metric score.\n",
       "    69                                           \n",
       "    70                                               Parameters\n",
       "    71                                               ----------\n",
       "    72                                               y : numpy array\n",
       "    73                                                   Array for the calculation of mse w.r.t. to a central statistics.\n",
       "    74                                               axis1 : integer, optional (default = 0)\n",
       "    75                                                   Axis to slice `y` ndarray in the calculation of mse.\n",
       "    76                                               axis2 : integer, optional (default = 1)\n",
       "    77                                                   Axis to slice `y` ndarray in the calculation of the `central`.\n",
       "    78                                               threshold : float, optional (default = 0)\n",
       "    79                                                   If greater than 0, vector with mse above it will be discarded.\n",
       "    80                                                   If 0, threshold will be automatically calculated as the\n",
       "    81                                                   minimum of [q[1] + 1.5*(q[2]-q[0]), score[-2], 3], where q's are the\n",
       "    82                                                   quantiles and score[-2] is the before-last largest score of `metric`\n",
       "    83                                                   among vectors calculated at the first time, not updated by `recursive`\n",
       "    84                                                   option.\n",
       "    85                                               nmin : integer, optional (default = 3)\n",
       "    86                                                   If greater than 0, minumum number of vectors to keep.\n",
       "    87                                                   If lower than 0, maximum number of vectors to discard.\n",
       "    88                                               recursive :bool, optional (default = True)\n",
       "    89                                                   Whether to calculate similarity `metric` recursevely, updating the score\n",
       "    90                                                   calculation each time a vector is discarded.\n",
       "    91                                                   With `recursive` True, the output `scores` will contain at each row\n",
       "    92                                                   the updated score values for the used `metric` for each data vector.\n",
       "    93                                                   The first row will contain the calculated original scores before any\n",
       "    94                                                   vector was discarded. On the subsequent rows, the vector discarded is\n",
       "    95                                                   represented by a NaN value and the kept vectors by their updated scores.\n",
       "    96                                                   The last row will contain the updated scores of the final vectors kept.\n",
       "    97                                                   With the `recursive` False, the comparison of score values with `threshold`\n",
       "    98                                                   are made only once and vectors are discarded accordingly at once.\n",
       "    99                                                   In this case, the output `scores` will contain only two rows, the\n",
       "   100                                                   first row will contain the calculated original scores before any vectors\n",
       "   101                                                   were discarded. At the second row, the vectors discarded are represented\n",
       "   102                                                   with NaN values and the kept vectors by their updated scores.\n",
       "   103                                               metric : optional (default=mse_)\n",
       "   104                                                   Function to use as metric to compute similarity.\n",
       "   105                                               msg : bool, optional (default = True)\n",
       "   106                                                   Whether to print some messages.\n",
       "   107                                               kwargs : optional\n",
       "   108                                                   Options for the metric function (e.g., see `_mse` function).\n",
       "   109                                           \n",
       "   110                                               Returns\n",
       "   111                                               -------\n",
       "   112                                               y : numpy array\n",
       "   113                                                   Array similar to input `y` but with vectors discarded.\n",
       "   114                                               ikept : numpy array\n",
       "   115                                                   Indexes of kept vectors.\n",
       "   116                                               inotkept : numpy array\n",
       "   117                                                   Indexes of not kept (discarded) vectors.\n",
       "   118                                               scores : 2-D numpy array\n",
       "   119                                                   Metric score values of each vector (as columns) for each round of\n",
       "   120                                                   vector selection (one row per round plus the final values).\n",
       "   121                                           \n",
       "   122                                               References\n",
       "   123                                               ----------\n",
       "   124                                               .. [1] https://nbviewer.org/github/BMClab/BMC/blob/master/notebooks/Similarity.ipynb\n",
       "   125                                           \n",
       "   126                                               Examples\n",
       "   127                                               --------\n",
       "   128                                               >>> import numpy as np\n",
       "   129                                               >>> import matplotlib.pyplot as plt\n",
       "   130                                               >>> rng = np.random.default_rng()\n",
       "   131                                               >>> t, n = 100, 10\n",
       "   132                                               >>> y = rng.random((t, n))\n",
       "   133                                               >>> y +=  np.atleast_2d(2*np.sin(2*np.pi*np.linspace(0, 1, t))).T\n",
       "   134                                               >>> for i in range(0, n, 2):\n",
       "   135                                               >>>    j = rng.integers(t-20)\n",
       "   136                                               >>>    p = rng.integers(20)\n",
       "   137                                               >>>    y[j:j+p, i] = y[j:j+p, i] + rng.integers(10) - 5\n",
       "   138                                               >>>    y[:, i] += rng.integers(4) - 2\n",
       "   139                                               >>> ys, ikept, inotkept, scores = similarity(y)\n",
       "   140                                               >>> fig, axs = plt.subplots(2, 1, sharex=True)\n",
       "   141                                               >>> axs[0].plot(y, label=list(range(n)))\n",
       "   142                                               >>> axs[0].legend(loc=(1.01, 0))\n",
       "   143                                               >>> axs[1].plot(ys, label= ikept.tolist())\n",
       "   144                                               >>> axs[1].legend(loc=(1.01, 0))\n",
       "   145                                               >>> plt.show()\n",
       "   146                                           \n",
       "   147                                               Version history\n",
       "   148                                               ---------------\n",
       "   149                                               '1.0.0':\n",
       "   150                                                   First release version\n",
       "   151                                               \"\"\"\n",
       "   152                                           \n",
       "   153                                           \n",
       "   154         1       1318.0   1318.0      0.0      if y.ndim < 2:\n",
       "   155                                                   raise ValueError('The input array must be at least a 2-D array.')\n",
       "   156         1       7047.0   7047.0      0.1      y = y.copy()\n",
       "   157         1    1132223.0 1132223.0     19.8      score = metric(y, axis1=axis1, axis2=axis2, **kwargs)\n",
       "   158         1       7063.0   7063.0      0.1      scores = np.atleast_2d(score)\n",
       "   159         1       3893.0   3893.0      0.1      ikept = np.where(~np.isnan(score))[0]  # indexes of kept vectors\n",
       "   160                                               # indexes of not kept (discarded) vectors\n",
       "   161         1       1614.0   1614.0      0.0      inotkept = np.where(np.isnan(score))[0]\n",
       "   162         1       6628.0   6628.0      0.1      idx = np.argsort(score)\n",
       "   163         1        760.0    760.0      0.0      score = score[idx]\n",
       "   164         1       3145.0   3145.0      0.1      nkept = np.count_nonzero(~np.isnan(score))  # number of kept vectors\n",
       "   165         1        332.0    332.0      0.0      if nkept < 3:\n",
       "   166                                                   raise ValueError('The input array must have at least 3 valid vectors.')\n",
       "   167         1        220.0    220.0      0.0      if nmin < 0:\n",
       "   168                                                   nmin = np.max([3, nkept + nmin])\n",
       "   169         1        157.0    157.0      0.0      if threshold == 0:\n",
       "   170         1     380408.0 380408.0      6.6          q = np.nanquantile(a=score, q=[.25, .50, .75])\n",
       "   171         1      15685.0  15685.0      0.3          threshold = np.min([q[1] + 1.5*(q[2]-q[0]), score[-2], 3])\n",
       "   172         1        211.0    211.0      0.0          if msg:\n",
       "   173                                                       print(f'Calculated threshold: {threshold}')\n",
       "   174         1        207.0    207.0      0.0      if not recursive:  # discard all vectors at once\n",
       "   175                                                   idx2 = np.nonzero(score > threshold)[0]  # vectors to discard\n",
       "   176                                                   if len(idx2) > 0:\n",
       "   177                                                       if nkept > nmin:  # keep at least nmin vectors\n",
       "   178                                                           inotkept = np.r_[inotkept, idx[idx2[-(y.shape[axis2] - nmin):]][::-1]]\n",
       "   179                                                           y.swapaxes(0, axis2)[inotkept, ...] = np.nan\n",
       "   180                                                           score = metric(y, axis1=axis1, axis2=axis2, **kwargs)\n",
       "   181                                                           scores = np.vstack((scores, score))\n",
       "   182                                                       elif msg:\n",
       "   183                                                           print(\n",
       "   184                                                               f'Number of vectors to discard is greater than number to keep ({nkept}).')\n",
       "   185                                               else:  # discard vectors with largest updated score one by one\n",
       "   186         5       5124.0   1024.8      0.1          while nkept > nmin and score[nkept-1] > threshold:\n",
       "   187         5     146978.0  29395.6      2.6              inotkept = np.r_[inotkept, idx[nkept-1]]\n",
       "   188         5      15675.0   3135.0      0.3              y.swapaxes(0, axis2)[inotkept[-1], ...] = np.nan\n",
       "   189         5    3683617.0 736723.4     64.3              score = metric(y, axis1=axis1, axis2=axis2, **kwargs)\n",
       "   190         5      78161.0  15632.2      1.4              scores = np.vstack((scores, score))\n",
       "   191         5      69102.0  13820.4      1.2              idx = np.argsort(score)\n",
       "   192         5       4241.0    848.2      0.1              score = score[idx]\n",
       "   193         5       1504.0    300.8      0.0              nkept = nkept - 1\n",
       "   194         1        191.0    191.0      0.0          if msg and nkept == nmin and score[nkept-1] > threshold:\n",
       "   195                                                       print(\n",
       "   196                                                           f'Number of vectors to discard is greater than number to keep ({nkept}).')\n",
       "   197                                           \n",
       "   198         1        547.0    547.0      0.0      if len(inotkept):\n",
       "   199         1     152143.0 152143.0      2.7          ikept = np.setdiff1d(ikept, inotkept)\n",
       "   200         1       6691.0   6691.0      0.1          y = y.swapaxes(0, axis2)[ikept, ...].swapaxes(0, axis2)\n",
       "   201         1        203.0    203.0      0.0          if msg:\n",
       "   202                                                       print(\n",
       "   203                                                           f'Vectors discarded (in dimension {axis2}, n={len(inotkept)}): {inotkept}')\n",
       "   204                                           \n",
       "   205         1        208.0    208.0      0.0      return y, ikept, inotkept, scores"
      ]
     },
     "metadata": {},
     "output_type": "display_data"
    }
   ],
   "source": [
    "%lprun -f similarity similarity(y, msg=0)"
   ]
  },
  {
   "cell_type": "markdown",
   "metadata": {},
   "source": [
    "## Function `similarity`"
   ]
  },
  {
   "cell_type": "code",
   "execution_count": 14,
   "metadata": {},
   "outputs": [],
   "source": [
    "# %load ./../functions/similarity.py\n",
    "\"\"\"Select data vectors by similarity using a metric score.\n",
    "\"\"\"\n",
    "\n",
    "__author__ = 'Marcos Duarte, https://github.com/demotu/BMC'\n",
    "__version__ = 'similarity.py v.1.0.0 20123/07/31'\n",
    "__license__ = \"MIT\"\n",
    "\n",
    "import numpy as np\n",
    "\n",
    "\n",
    "def mse_(y: np.ndarray, axis1: int=0, axis2: int=1, central: callable=np.nanmedian,\n",
    "         normalization: callable=np.nanmedian) -> np.ndarray:\n",
    "    \"\"\"Mean Squared Error of `y` w.r.t. `central` across axis2 over axis1.\n",
    "\n",
    "    Parameters\n",
    "    ----------\n",
    "    y : numpy array\n",
    "        an at least 2D array of data for the calculation of mean squared error\n",
    "        w.r.t. to a `central` statistics.\n",
    "    axis1 : integer, optional (default = 0)\n",
    "        axis to slice `y` ndarray in the calculation of mse.\n",
    "    axis2 : integer, optional (default = 1)\n",
    "        axis to slice `y` ndarray in the calculation of the `central`.\n",
    "    central : Python function, optional (default = np.nanmedian)\n",
    "        function to calculate statistics on `y` w.r.t. mse is computed.\n",
    "    normalization : Python function, optional (default = np.nanmedian)\n",
    "        function to normalize the calculated mse values\n",
    "\n",
    "    Returns\n",
    "    -------\n",
    "    score : numpy array\n",
    "        Mean Squared Error values\n",
    "\n",
    "    References\n",
    "    ----------\n",
    "    .. [1] https://nbviewer.org/github/BMClab/BMC/blob/master/notebooks/Similarity.ipynb\n",
    "\n",
    "    Examples\n",
    "    --------\n",
    "    >>> import numpy as np\n",
    "    >>> rng = np.random.default_rng()\n",
    "    >>> y = rng.random((100, 10))\n",
    "    >>> y +=  np.atleast_2d(np.sin(2*np.pi*np.linspace(0, 1, 100))).T\n",
    "    >>> mse_(y, axis1=0, axis2=1, central=np.nanmedian, normalization=np.nanmedian)\n",
    "\n",
    "    Version history\n",
    "    ---------------\n",
    "    '1.0.0':\n",
    "        First release version\n",
    "    \"\"\"\n",
    "\n",
    "\n",
    "    score = np.empty((y.shape[axis2]))\n",
    "    score.fill(np.nan)\n",
    "    idx = np.where(~np.all(np.isnan(y), axis=axis1))[0]  # masked array is slow\n",
    "    y = y.swapaxes(0, axis2)[idx, ...].swapaxes(0, axis2)  # faster than .take\n",
    "    score[idx] = np.nanmean((y - central(y, axis=axis2, keepdims=True))**2,\n",
    "                            axis=axis1)\n",
    "    if normalization is not None:\n",
    "        score = score/normalization(score)\n",
    "    return score\n",
    "\n",
    "\n",
    "def similarity(y: np.ndarray, axis1: int=0, axis2: int=1, threshold: float=0,\n",
    "               nmin: int=3, recursive: bool=True, metric: callable=mse_,\n",
    "               msg: bool=True, **kwargs: callable) -> tuple[np.ndarray, np.ndarray,\n",
    "                                                            np.ndarray, np.ndarray]:\n",
    "    \"\"\"Select data vectors by similarity using a metric score.\n",
    "\n",
    "    Parameters\n",
    "    ----------\n",
    "    y : numpy array\n",
    "        Array for the calculation of mse w.r.t. to a central statistics.\n",
    "    axis1 : integer, optional (default = 0)\n",
    "        Axis to slice `y` ndarray in the calculation of mse.\n",
    "    axis2 : integer, optional (default = 1)\n",
    "        Axis to slice `y` ndarray in the calculation of the `central`.\n",
    "    threshold : float, optional (default = 0)\n",
    "        If greater than 0, vector with mse above it will be discarded.\n",
    "        If 0, threshold will be automatically calculated as the\n",
    "        minimum of [q[1] + 1.5*(q[2]-q[0]), score[-2], 3], where q's are the\n",
    "        quantiles and score[-2] is the before-last largest score of `metric`\n",
    "        among vectors calculated at the first time, not updated by `recursive`\n",
    "        option.\n",
    "    nmin : integer, optional (default = 3)\n",
    "        If greater than 0, minumum number of vectors to keep.\n",
    "        If lower than 0, maximum number of vectors to discard.\n",
    "    recursive :bool, optional (default = True)\n",
    "        Whether to calculate similarity `metric` recursevely, updating the score\n",
    "        calculation each time a vector is discarded.\n",
    "        With `recursive` True, the output `scores` will contain at each row\n",
    "        the updated score values for the used `metric` for each data vector.\n",
    "        The first row will contain the calculated original scores before any\n",
    "        vector was discarded. On the subsequent rows, the vector discarded is\n",
    "        represented by a NaN value and the kept vectors by their updated scores.\n",
    "        The last row will contain the updated scores of the final vectors kept.\n",
    "        With the `recursive` False, the comparison of score values with `threshold`\n",
    "        are made only once and vectors are discarded accordingly at once.\n",
    "        In this case, the output `scores` will contain only two rows, the\n",
    "        first row will contain the calculated original scores before any vectors\n",
    "        were discarded. At the second row, the vectors discarded are represented\n",
    "        with NaN values and the kept vectors by their updated scores.\n",
    "    metric : optional (default=mse_)\n",
    "        Function to use as metric to compute similarity.\n",
    "    msg : bool, optional (default = True)\n",
    "        Whether to print some messages.\n",
    "    kwargs : optional\n",
    "        Options for the metric function (e.g., see `_mse` function).\n",
    "\n",
    "    Returns\n",
    "    -------\n",
    "    y : numpy array\n",
    "        Array similar to input `y` but with vectors discarded.\n",
    "    ikept : numpy array\n",
    "        Indexes of kept vectors.\n",
    "    inotkept : numpy array\n",
    "        Indexes of not kept (discarded) vectors.\n",
    "    scores : 2-D numpy array\n",
    "        Metric score values of each vector (as columns) for each round of\n",
    "        vector selection (one row per round plus the final values).\n",
    "\n",
    "    References\n",
    "    ----------\n",
    "    .. [1] https://nbviewer.org/github/BMClab/BMC/blob/master/notebooks/Similarity.ipynb\n",
    "\n",
    "    Examples\n",
    "    --------\n",
    "    >>> import numpy as np\n",
    "    >>> import matplotlib.pyplot as plt\n",
    "    >>> rng = np.random.default_rng()\n",
    "    >>> t, n = 100, 10\n",
    "    >>> y = rng.random((t, n))\n",
    "    >>> y +=  np.atleast_2d(2*np.sin(2*np.pi*np.linspace(0, 1, t))).T\n",
    "    >>> for i in range(0, n, 2):\n",
    "    >>>    j = rng.integers(t-20)\n",
    "    >>>    p = rng.integers(20)\n",
    "    >>>    y[j:j+p, i] = y[j:j+p, i] + rng.integers(10) - 5\n",
    "    >>>    y[:, i] += rng.integers(4) - 2\n",
    "    >>> ys, ikept, inotkept, scores = similarity(y)\n",
    "    >>> fig, axs = plt.subplots(2, 1, sharex=True)\n",
    "    >>> axs[0].plot(y, label=list(range(n)))\n",
    "    >>> axs[0].legend(loc=(1.01, 0))\n",
    "    >>> axs[1].plot(ys, label= ikept.tolist())\n",
    "    >>> axs[1].legend(loc=(1.01, 0))\n",
    "    >>> plt.show()\n",
    "\n",
    "    Version history\n",
    "    ---------------\n",
    "    '1.0.0':\n",
    "        First release version\n",
    "    \"\"\"\n",
    "\n",
    "\n",
    "    if y.ndim < 2:\n",
    "        raise ValueError('The input array must be at least a 2-D array.')\n",
    "    y = y.copy()\n",
    "    score = metric(y, axis1=axis1, axis2=axis2, **kwargs)\n",
    "    scores = np.atleast_2d(score)\n",
    "    ikept = np.where(~np.isnan(score))[0]  # indexes of kept vectors\n",
    "    # indexes of not kept (discarded) vectors\n",
    "    inotkept = np.where(np.isnan(score))[0]\n",
    "    idx = np.argsort(score)\n",
    "    score = score[idx]\n",
    "    nkept = np.count_nonzero(~np.isnan(score))  # number of kept vectors\n",
    "    if nkept < 3:\n",
    "        raise ValueError('The input array must have at least 3 valid vectors.')\n",
    "    if nmin < 0:\n",
    "        nmin = np.max([3, nkept + nmin])\n",
    "    if threshold == 0:\n",
    "        q = np.nanquantile(a=score, q=[.25, .50, .75])\n",
    "        threshold = np.min([q[1] + 1.5*(q[2]-q[0]), score[-2], 3])\n",
    "        if msg:\n",
    "            print(f'Calculated threshold: {threshold}')\n",
    "    if not recursive:  # discard all vectors at once\n",
    "        idx2 = np.nonzero(score > threshold)[0]  # vectors to discard\n",
    "        if len(idx2) > 0:\n",
    "            if nkept > nmin:  # keep at least nmin vectors\n",
    "                inotkept = np.r_[inotkept, idx[idx2[-(y.shape[axis2] - nmin):]][::-1]]\n",
    "                y.swapaxes(0, axis2)[inotkept, ...] = np.nan\n",
    "                score = metric(y, axis1=axis1, axis2=axis2, **kwargs)\n",
    "                scores = np.vstack((scores, score))\n",
    "            elif msg:\n",
    "                print(\n",
    "                    f'Number of vectors to discard is greater than number to keep ({nkept}).')\n",
    "    else:  # discard vectors with largest updated score one by one\n",
    "        while nkept > nmin and score[nkept-1] > threshold:\n",
    "            inotkept = np.r_[inotkept, idx[nkept-1]]\n",
    "            y.swapaxes(0, axis2)[inotkept[-1], ...] = np.nan\n",
    "            score = metric(y, axis1=axis1, axis2=axis2, **kwargs)\n",
    "            scores = np.vstack((scores, score))\n",
    "            idx = np.argsort(score)\n",
    "            score = score[idx]\n",
    "            nkept = nkept - 1\n",
    "        if msg and nkept == nmin and score[nkept-1] > threshold:\n",
    "            print(\n",
    "                f'Number of vectors to discard is greater than number to keep ({nkept}).')\n",
    "\n",
    "    if len(inotkept):\n",
    "        ikept = np.setdiff1d(ikept, inotkept)\n",
    "        y = y.swapaxes(0, axis2)[ikept, ...].swapaxes(0, axis2)\n",
    "        if msg:\n",
    "            print(\n",
    "                f'Vectors discarded (in dimension {axis2}, n={len(inotkept)}): {inotkept}')\n",
    "\n",
    "    return y, ikept, inotkept, scores\n"
   ]
  },
  {
   "cell_type": "code",
   "execution_count": null,
   "metadata": {},
   "outputs": [],
   "source": []
  }
 ],
 "metadata": {
  "anaconda-cloud": {},
  "hide_input": false,
  "kernelspec": {
   "display_name": "Python 3 (ipykernel)",
   "language": "python",
   "name": "python3"
  },
  "language_info": {
   "codemirror_mode": {
    "name": "ipython",
    "version": 3
   },
   "file_extension": ".py",
   "mimetype": "text/x-python",
   "name": "python",
   "nbconvert_exporter": "python",
   "pygments_lexer": "ipython3",
   "version": "3.11.4"
  },
  "nbTranslate": {
   "displayLangs": [
    "*"
   ],
   "hotkey": "alt-t",
   "langInMainMenu": true,
   "sourceLang": "en",
   "targetLang": "fr",
   "useGoogleTranslate": true
  },
  "varInspector": {
   "cols": {
    "lenName": 16,
    "lenType": 16,
    "lenVar": 40
   },
   "kernels_config": {
    "python": {
     "delete_cmd_postfix": "",
     "delete_cmd_prefix": "del ",
     "library": "var_list.py",
     "varRefreshCmd": "print(var_dic_list())"
    },
    "r": {
     "delete_cmd_postfix": ") ",
     "delete_cmd_prefix": "rm(",
     "library": "var_list.r",
     "varRefreshCmd": "cat(var_dic_list()) "
    }
   },
   "types_to_exclude": [
    "module",
    "function",
    "builtin_function_or_method",
    "instance",
    "_Feature"
   ],
   "window_display": false
  },
  "widgets": {
   "application/vnd.jupyter.widget-state+json": {
    "state": {},
    "version_major": 2,
    "version_minor": 0
   }
  }
 },
 "nbformat": 4,
 "nbformat_minor": 4
}
