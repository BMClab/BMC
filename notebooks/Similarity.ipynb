{
 "cells": [
  {
   "cell_type": "markdown",
   "metadata": {},
   "source": [
    "> # Select data vectors by similarity using a metric score\n",
    "\n",
    "> Marcos Duarte  \n",
    "> [Laboratory of Biomechanics and Motor Control](https://bmclab.pesquisa.ufabc.edu.br/)  \n",
    "> Federal University of ABC, Brazil"
   ]
  },
  {
   "cell_type": "code",
   "execution_count": 1,
   "metadata": {
    "ExecuteTime": {
     "end_time": "2019-11-20T20:19:47.223181Z",
     "start_time": "2019-11-20T20:19:47.054140Z"
    },
    "editable": true,
    "slideshow": {
     "slide_type": ""
    },
    "tags": []
   },
   "outputs": [
    {
     "name": "stdout",
     "output_type": "stream",
     "text": [
      "Last updated: 2023-08-04 13:03:36\n",
      "\n",
      "Python implementation: CPython\n",
      "Python version       : 3.11.4\n",
      "IPython version      : 8.14.0\n",
      "\n",
      "Compiler    : GCC 12.2.0\n",
      "OS          : Linux\n",
      "Release     : 6.2.0-26-generic\n",
      "Machine     : x86_64\n",
      "Processor   : x86_64\n",
      "CPU cores   : 16\n",
      "Architecture: 64bit\n",
      "\n",
      "sys       : 3.11.4 | packaged by conda-forge | (main, Jun 10 2023, 18:08:17) [GCC 12.2.0]\n",
      "matplotlib: 3.7.2\n",
      "numpy     : 1.25.2\n",
      "\n"
     ]
    }
   ],
   "source": [
    "import numpy as np\n",
    "import matplotlib.pyplot as plt\n",
    "import sys\n",
    "sys.path.insert(1, r'./../functions')\n",
    "from simila import similarity, mse\n",
    "\n",
    "%load_ext autoreload\n",
    "%autoreload 2\n",
    "\n",
    "%load_ext line_profiler\n",
    "%load_ext watermark\n",
    "%watermark -u -t -d -m -v --iversions\n",
    "\n",
    "np.set_printoptions(precision=3)"
   ]
  },
  {
   "cell_type": "code",
   "execution_count": 2,
   "metadata": {},
   "outputs": [
    {
     "name": "stdout",
     "output_type": "stream",
     "text": [
      "Help on function similarity in module simila:\n",
      "\n",
      "similarity(y: numpy.ndarray, axis1: int = 0, axis2: int = 1, threshold: float = 0, nmin: int = 3, repeat: bool = True, metric: Callable = <function mse at 0x7f7620e69c60>, drop=True, msg: bool = True, **kwargs: Callable) -> tuple[numpy.ndarray, numpy.ndarray, numpy.ndarray, numpy.ndarray]\n",
      "    Select vectors in numpy.ndarray by their similarity using a metric score.\n",
      "    \n",
      "    Parameters\n",
      "    ----------\n",
      "    y : numpy.ndarray\n",
      "        Array for the calculation of mse w.r.t. to a central statistics.\n",
      "    axis1 : integer, optional, default = 0\n",
      "        Axis to slice `y` ndarray in the calculation of mse.\n",
      "    axis2 : integer, optional, default = 1\n",
      "        Axis to slice `y` ndarray in the calculation of the `central`.\n",
      "    threshold : float, optional, default = 0\n",
      "        If greater than 0, vector with mse above it will be discarded.\n",
      "        If 0, threshold will be automatically calculated as the\n",
      "        minimum of [q[1] + 1.5*(q[2]-q[0]), score[-2], 3], where q's are the\n",
      "        quantiles and score[-2] is the before-last largest score of `metric`\n",
      "        among vectors calculated at the first time, not updated by `repeat`\n",
      "        option.\n",
      "    nmin : integer, optional, default = 3\n",
      "        If greater than 0, minumum number of vectors to keep.\n",
      "        If lower than 0, maximum number of vectors to discard.\n",
      "    repeat :bool, optional, default = True\n",
      "        Whether to calculate similarity `metric` repeatedly, updating the\n",
      "        score calculation each time a vector is discarded.\n",
      "        With `repeat` True, the output `scores` will contain at each row\n",
      "        the updated score values for the used `metric` for each data vector.\n",
      "        The first row will contain the calculated original scores before any\n",
      "        vector was discarded. On the next equent rows, the vectors discarded\n",
      "        are represented by NaN values and the kept vectors by their updated\n",
      "        scores.\n",
      "        The last row will contain the updated scores of the final vectors kept.\n",
      "        With the `repeat` False, the comparison of score values with\n",
      "        `threshold` are made only once and vectors are discarded accordingly at\n",
      "        once. In this case, the output `scores` will contain only two rows, the\n",
      "        first row will contain the calculated original scores before any\n",
      "        vectors were discarded. At the second row, the vectors discarded are\n",
      "        represented with NaN values and the kept vectors by their updated\n",
      "        scores.\n",
      "    metric : optional, default=mse\n",
      "        Function to use as metric to compute similarity.\n",
      "    drop : bool, optional, default = True\n",
      "        Whether to drop (delete) the discarded vectors from `y` in the output.\n",
      "        If False, the values of the vectors discarded will be replaced by nans\n",
      "        and the returned array will have the same dimensions as the original\n",
      "        array.\n",
      "    msg : bool, optional, default = True\n",
      "        Whether to print some messages.\n",
      "    kwargs : optional\n",
      "        Options for the metric function (e.g., see `mse` function).\n",
      "    \n",
      "    Returns\n",
      "    -------\n",
      "    y : numpy.ndarray\n",
      "        Array similar to input `y` but with vectors discarded (deleted) if\n",
      "        option `drop` is True or with all values of vectors discarded replaced\n",
      "        by nans if option `drop` is False.\n",
      "    ikept : numpy.ndarray\n",
      "        Indexes of kept vectors.\n",
      "    inotkept : numpy.ndarray\n",
      "        Indexes of not kept (discarded or replaced by nan) vectors.\n",
      "    scores : 2-D numpy.ndarray\n",
      "        Metric score values of each vector (as columns) for each round of\n",
      "        vector selection (one row per round plus the final values).\n",
      "    \n",
      "    References\n",
      "    ----------\n",
      "    .. [1] https://nbviewer.org/github/BMClab/BMC/blob/master/notebooks/Similarity.ipynb\n",
      "    \n",
      "    Examples\n",
      "    --------\n",
      "    >>> import matplotlib.pyplot as plt\n",
      "    >>> rng = np.random.default_rng()\n",
      "    >>> t, n = 100, 10\n",
      "    >>> y = rng.random((t, n)) / 2\n",
      "    >>> y +=  np.atleast_2d(2*np.sin(2*np.pi*np.linspace(0, 1, t))).T\n",
      "    >>> for i in range(0, n, 2):\n",
      "    >>>    j = rng.integers(t-20)\n",
      "    >>>    p = rng.integers(20)\n",
      "    >>>    y[j:j+p, i] = y[j:j+p, i] + rng.integers(10) - 5\n",
      "    >>>    y[:, i] += rng.integers(4) - 2\n",
      "    >>> ys, ikept, inotkept, scores = similarity(y)\n",
      "    >>> fig, axs = plt.subplots(2, 1, sharex=True)\n",
      "    >>> axs[0].plot(y, label=list(range(n)))\n",
      "    >>> axs[0].legend(loc=(1.01, 0))\n",
      "    >>> axs[1].plot(ys, label= ikept.tolist())\n",
      "    >>> axs[1].legend(loc=(1.01, 0))\n",
      "    >>> plt.show()\n",
      "    \n",
      "    Version history\n",
      "    ---------------\n",
      "    '1.0.0':\n",
      "        First release version\n",
      "\n"
     ]
    }
   ],
   "source": [
    "help(similarity)"
   ]
  },
  {
   "cell_type": "code",
   "execution_count": 3,
   "metadata": {},
   "outputs": [
    {
     "name": "stdout",
     "output_type": "stream",
     "text": [
      "Help on function mse in module simila:\n",
      "\n",
      "mse(y: numpy.ndarray, axis1: int = 0, axis2: int = 1, central: Callable = <function nanmedian at 0x7f76cc111f70>, normalization: Callable = <function nanmedian at 0x7f76cc111f70>) -> numpy.ndarray\n",
      "    Mean Squared Error of `y` w.r.t. `central` across `axis2` over `axis1`.\n",
      "    \n",
      "    Parameters\n",
      "    ----------\n",
      "    y : numpy.ndarray\n",
      "        At least a 2-D array of data for the calculation of mean squared error\n",
      "        w.r.t. to a `central` statistics of the data.\n",
      "    axis1 : integer, optional, default = 0\n",
      "        Axis to slice `y` ndarray in the calculation of mse.\n",
      "    axis2 : integer, optional, default = 1\n",
      "        Axis to slice `y` ndarray in the calculation of the `central`.\n",
      "    central : Python function, optional, default = np.nanmedian\n",
      "        Function to calculate statistics on `y` w.r.t. mse is computed.\n",
      "    normalization : Python function, optional, default = np.nanmedian\n",
      "        Function to normalize the calculated mse values\n",
      "    \n",
      "    Returns\n",
      "    -------\n",
      "    score : numpy.ndarray\n",
      "        Mean Squared Error values\n",
      "    \n",
      "    References\n",
      "    ----------\n",
      "    .. [1] https://nbviewer.org/github/BMClab/BMC/blob/master/notebooks/Similarity.ipynb\n",
      "    \n",
      "    Examples\n",
      "    --------\n",
      "    >>> import numpy as np\n",
      "    >>> rng = np.random.default_rng()\n",
      "    >>> y = rng.random((100, 10))\n",
      "    >>> y +=  np.atleast_2d(np.sin(2*np.pi*np.linspace(0, 1, 100))).T\n",
      "    >>> mse(y, axis1=0, axis2=1, central=np.nanmedian, normalization=np.nanmedian)\n",
      "    \n",
      "    Version history\n",
      "    ---------------\n",
      "    '1.0.0':\n",
      "        First release version\n",
      "\n"
     ]
    }
   ],
   "source": [
    "help(mse)"
   ]
  },
  {
   "cell_type": "markdown",
   "metadata": {
    "editable": true,
    "slideshow": {
     "slide_type": ""
    },
    "tags": []
   },
   "source": [
    "### Example"
   ]
  },
  {
   "cell_type": "code",
   "execution_count": 4,
   "metadata": {
    "editable": true,
    "slideshow": {
     "slide_type": ""
    },
    "tags": []
   },
   "outputs": [
    {
     "name": "stdout",
     "output_type": "stream",
     "text": [
      "Calculated threshold: 3.0\n",
      "Vectors discarded (dimension 1, n=5): [8 2 4 6 0]\n"
     ]
    },
    {
     "data": {
      "image/png": "[encoded data removed]",
      "text/plain": [
       "<Figure size 640x480 with 2 Axes>"
      ]
     },
     "metadata": {},
     "output_type": "display_data"
    }
   ],
   "source": [
    ">>> import numpy as np\n",
    ">>> import matplotlib.pyplot as plt\n",
    ">>> rng = np.random.default_rng()\n",
    ">>> t, n = 100, 10\n",
    ">>> y = rng.random((t, n)) / 2\n",
    ">>> y +=  np.atleast_2d(2*np.sin(2*np.pi*np.linspace(0, 1, t))).T\n",
    ">>> for i in range(0, n, 2):\n",
    ">>>    j = rng.integers(t-20)\n",
    ">>>    p = rng.integers(20)\n",
    ">>>    y[j:j+p, i] = y[j:j+p, i] + rng.integers(10) - 5\n",
    ">>>    y[:, i] += rng.integers(4) - 2\n",
    ">>> ys, ikept, inotkept, scores = similarity(y)\n",
    ">>> fig, axs = plt.subplots(2, 1, sharex=True)\n",
    ">>> axs[0].plot(y, label=list(range(n)))\n",
    ">>> axs[0].legend(loc=(1.01, 0))\n",
    ">>> axs[1].plot(ys, label= ikept.tolist())\n",
    ">>> axs[1].legend(loc=(1.01, 0))\n",
    ">>> plt.show()"
   ]
  },
  {
   "cell_type": "code",
   "execution_count": 5,
   "metadata": {},
   "outputs": [
    {
     "name": "stdout",
     "output_type": "stream",
     "text": [
      "Calculated threshold: 3.0\n",
      "Vectors discarded (dimension 1, n=5): [8 2 4 6 0]\n"
     ]
    }
   ],
   "source": [
    "ys, ikept, inotkept, scores = similarity(y, threshold=0, nmin=3, repeat=True, metric=mse,\n",
    "                                         msg=1, central=np.nanmedian, normalization=np.nanmedian)"
   ]
  },
  {
   "cell_type": "code",
   "execution_count": 6,
   "metadata": {},
   "outputs": [
    {
     "data": {
      "text/plain": [
       "(100, 5)"
      ]
     },
     "execution_count": 6,
     "metadata": {},
     "output_type": "execute_result"
    }
   ],
   "source": [
    "ys.shape"
   ]
  },
  {
   "cell_type": "code",
   "execution_count": 7,
   "metadata": {},
   "outputs": [
    {
     "data": {
      "text/plain": [
       "array([1, 3, 5, 7, 9])"
      ]
     },
     "execution_count": 7,
     "metadata": {},
     "output_type": "execute_result"
    }
   ],
   "source": [
    "ikept"
   ]
  },
  {
   "cell_type": "code",
   "execution_count": 8,
   "metadata": {},
   "outputs": [
    {
     "data": {
      "text/plain": [
       "array([8, 2, 4, 6, 0])"
      ]
     },
     "execution_count": 8,
     "metadata": {},
     "output_type": "execute_result"
    }
   ],
   "source": [
    "inotkept"
   ]
  },
  {
   "cell_type": "code",
   "execution_count": 9,
   "metadata": {},
   "outputs": [
    {
     "data": {
      "text/plain": [
       "array([[ 1.886,  0.093,  6.797,  0.072,  4.543,  0.114,  2.538,  0.078,\n",
       "        32.195,  0.083],\n",
       "       [13.325,  0.867, 48.672,  0.585, 31.507,  1.   , 19.727,  0.658,\n",
       "           nan,  0.749],\n",
       "       [18.193,  0.93 ,    nan,  0.687, 43.345,  1.07 , 24.483,  0.698,\n",
       "           nan,  0.804],\n",
       "       [23.176,  1.   ,    nan,  0.907,    nan,  1.224, 28.235,  0.909,\n",
       "           nan,  0.953],\n",
       "       [23.779,  1.017,    nan,  0.983,    nan,  1.408,    nan,  0.861,\n",
       "           nan,  0.959],\n",
       "       [   nan,  1.021,    nan,  0.908,    nan,  1.214,    nan,  0.814,\n",
       "           nan,  1.   ]])"
      ]
     },
     "execution_count": 9,
     "metadata": {},
     "output_type": "execute_result"
    }
   ],
   "source": [
    "scores"
   ]
  },
  {
   "cell_type": "code",
   "execution_count": 10,
   "metadata": {},
   "outputs": [
    {
     "name": "stdout",
     "output_type": "stream",
     "text": [
      "Calculated threshold: 3.0\n",
      "Vectors discarded (dimension 1, n=5): [8 2 4 6 0]\n"
     ]
    }
   ],
   "source": [
    "ys, ikept, inotkept, scores = similarity(y, threshold=0, nmin=3, repeat=True, metric=mse,\n",
    "                                         drop=False, msg=True, central=np.nanmedian, normalization=np.nanmedian)"
   ]
  },
  {
   "cell_type": "code",
   "execution_count": 11,
   "metadata": {},
   "outputs": [
    {
     "data": {
      "text/plain": [
       "(100, 10)"
      ]
     },
     "execution_count": 11,
     "metadata": {},
     "output_type": "execute_result"
    }
   ],
   "source": [
    "ys.shape"
   ]
  },
  {
   "cell_type": "code",
   "execution_count": 12,
   "metadata": {},
   "outputs": [
    {
     "name": "stdout",
     "output_type": "stream",
     "text": [
      "Calculated threshold: 3.0\n",
      "Vectors discarded (dimension 1, n=3): [8 2 4]\n"
     ]
    }
   ],
   "source": [
    "ys, ikept, inotkept, scores = similarity(y, threshold=0, nmin=3, repeat=False, metric=mse,\n",
    "                                         msg=True, central=np.nanmedian, normalization=np.nanmedian)"
   ]
  },
  {
   "cell_type": "markdown",
   "metadata": {},
   "source": [
    "## Function profiling"
   ]
  },
  {
   "cell_type": "code",
   "execution_count": 13,
   "metadata": {
    "editable": true,
    "slideshow": {
     "slide_type": ""
    },
    "tags": []
   },
   "outputs": [
    {
     "name": "stdout",
     "output_type": "stream",
     "text": [
      "3.75 ms ± 15.3 µs per loop (mean ± std. dev. of 7 runs, 100 loops each)\n"
     ]
    }
   ],
   "source": [
    "%%timeit\n",
    "ys, ikept, inotkept, score_all = similarity(y, repeat=True, msg=False)"
   ]
  },
  {
   "cell_type": "code",
   "execution_count": 14,
   "metadata": {},
   "outputs": [
    {
     "name": "stdout",
     "output_type": "stream",
     "text": [
      "1.26 ms ± 7.2 µs per loop (mean ± std. dev. of 7 runs, 1,000 loops each)\n"
     ]
    }
   ],
   "source": [
    "%%timeit\n",
    "ys, ikept, inotkept, score_all = similarity(y, repeat=False, msg=False)"
   ]
  },
  {
   "cell_type": "code",
   "execution_count": 15,
   "metadata": {},
   "outputs": [
    {
     "data": {
      "text/plain": [
       "Timer unit: 1e-09 s\n",
       "\n",
       "Total time: 0.0100404 s\n",
       "File: /home/marcos/adrive/Python/BMC/notebooks/./../functions/simila.py\n",
       "Function: similarity at line 77\n",
       "\n",
       "Line #      Hits         Time  Per Hit   % Time  Line Contents\n",
       "==============================================================\n",
       "    77                                           def similarity(y: np.ndarray, axis1: int = 0, axis2: int = 1, threshold: float = 0,\n",
       "    78                                                          nmin: int = 3, repeat: bool = True, metric: Callable = mse,\n",
       "    79                                                          drop=True, msg: bool = True, **kwargs: Callable\n",
       "    80                                                          ) -> tuple[np.ndarray, np.ndarray, np.ndarray, np.ndarray]:\n",
       "    81                                           \n",
       "    82                                               \"\"\"Select vectors in numpy.ndarray by their similarity using a metric score.\n",
       "    83                                           \n",
       "    84                                               Parameters\n",
       "    85                                               ----------\n",
       "    86                                               y : numpy.ndarray\n",
       "    87                                                   Array for the calculation of mse w.r.t. to a central statistics.\n",
       "    88                                               axis1 : integer, optional, default = 0\n",
       "    89                                                   Axis to slice `y` ndarray in the calculation of mse.\n",
       "    90                                               axis2 : integer, optional, default = 1\n",
       "    91                                                   Axis to slice `y` ndarray in the calculation of the `central`.\n",
       "    92                                               threshold : float, optional, default = 0\n",
       "    93                                                   If greater than 0, vector with mse above it will be discarded.\n",
       "    94                                                   If 0, threshold will be automatically calculated as the\n",
       "    95                                                   minimum of [q[1] + 1.5*(q[2]-q[0]), score[-2], 3], where q's are the\n",
       "    96                                                   quantiles and score[-2] is the before-last largest score of `metric`\n",
       "    97                                                   among vectors calculated at the first time, not updated by `repeat`\n",
       "    98                                                   option.\n",
       "    99                                               nmin : integer, optional, default = 3\n",
       "   100                                                   If greater than 0, minumum number of vectors to keep.\n",
       "   101                                                   If lower than 0, maximum number of vectors to discard.\n",
       "   102                                               repeat :bool, optional, default = True\n",
       "   103                                                   Whether to calculate similarity `metric` repeatedly, updating the\n",
       "   104                                                   score calculation each time a vector is discarded.\n",
       "   105                                                   With `repeat` True, the output `scores` will contain at each row\n",
       "   106                                                   the updated score values for the used `metric` for each data vector.\n",
       "   107                                                   The first row will contain the calculated original scores before any\n",
       "   108                                                   vector was discarded. On the next equent rows, the vectors discarded\n",
       "   109                                                   are represented by NaN values and the kept vectors by their updated\n",
       "   110                                                   scores.\n",
       "   111                                                   The last row will contain the updated scores of the final vectors kept.\n",
       "   112                                                   With the `repeat` False, the comparison of score values with\n",
       "   113                                                   `threshold` are made only once and vectors are discarded accordingly at\n",
       "   114                                                   once. In this case, the output `scores` will contain only two rows, the\n",
       "   115                                                   first row will contain the calculated original scores before any\n",
       "   116                                                   vectors were discarded. At the second row, the vectors discarded are\n",
       "   117                                                   represented with NaN values and the kept vectors by their updated\n",
       "   118                                                   scores.\n",
       "   119                                               metric : optional, default=mse\n",
       "   120                                                   Function to use as metric to compute similarity.\n",
       "   121                                               drop : bool, optional, default = True\n",
       "   122                                                   Whether to drop (delete) the discarded vectors from `y` in the output.\n",
       "   123                                                   If False, the values of the vectors discarded will be replaced by nans\n",
       "   124                                                   and the returned array will have the same dimensions as the original\n",
       "   125                                                   array.\n",
       "   126                                               msg : bool, optional, default = True\n",
       "   127                                                   Whether to print some messages.\n",
       "   128                                               kwargs : optional\n",
       "   129                                                   Options for the metric function (e.g., see `mse` function).\n",
       "   130                                           \n",
       "   131                                               Returns\n",
       "   132                                               -------\n",
       "   133                                               y : numpy.ndarray\n",
       "   134                                                   Array similar to input `y` but with vectors discarded (deleted) if\n",
       "   135                                                   option `drop` is True or with all values of vectors discarded replaced\n",
       "   136                                                   by nans if option `drop` is False.\n",
       "   137                                               ikept : numpy.ndarray\n",
       "   138                                                   Indexes of kept vectors.\n",
       "   139                                               inotkept : numpy.ndarray\n",
       "   140                                                   Indexes of not kept (discarded or replaced by nan) vectors.\n",
       "   141                                               scores : 2-D numpy.ndarray\n",
       "   142                                                   Metric score values of each vector (as columns) for each round of\n",
       "   143                                                   vector selection (one row per round plus the final values).\n",
       "   144                                           \n",
       "   145                                               References\n",
       "   146                                               ----------\n",
       "   147                                               .. [1] https://nbviewer.org/github/BMClab/BMC/blob/master/notebooks/Similarity.ipynb\n",
       "   148                                           \n",
       "   149                                               Examples\n",
       "   150                                               --------\n",
       "   151                                               >>> import matplotlib.pyplot as plt\n",
       "   152                                               >>> rng = np.random.default_rng()\n",
       "   153                                               >>> t, n = 100, 10\n",
       "   154                                               >>> y = rng.random((t, n)) / 2\n",
       "   155                                               >>> y +=  np.atleast_2d(2*np.sin(2*np.pi*np.linspace(0, 1, t))).T\n",
       "   156                                               >>> for i in range(0, n, 2):\n",
       "   157                                               >>>    j = rng.integers(t-20)\n",
       "   158                                               >>>    p = rng.integers(20)\n",
       "   159                                               >>>    y[j:j+p, i] = y[j:j+p, i] + rng.integers(10) - 5\n",
       "   160                                               >>>    y[:, i] += rng.integers(4) - 2\n",
       "   161                                               >>> ys, ikept, inotkept, scores = similarity(y)\n",
       "   162                                               >>> fig, axs = plt.subplots(2, 1, sharex=True)\n",
       "   163                                               >>> axs[0].plot(y, label=list(range(n)))\n",
       "   164                                               >>> axs[0].legend(loc=(1.01, 0))\n",
       "   165                                               >>> axs[1].plot(ys, label= ikept.tolist())\n",
       "   166                                               >>> axs[1].legend(loc=(1.01, 0))\n",
       "   167                                               >>> plt.show()\n",
       "   168                                           \n",
       "   169                                               Version history\n",
       "   170                                               ---------------\n",
       "   171                                               '1.0.0':\n",
       "   172                                                   First release version\n",
       "   173                                               \"\"\"\n",
       "   174                                           \n",
       "   175         1      10076.0  10076.0      0.1      logger.debug('Similarity...')\n",
       "   176                                           \n",
       "   177         1       1143.0   1143.0      0.0      if y.ndim < 2:\n",
       "   178                                                   raise ValueError('The input array must be at least a 2-D array.')\n",
       "   179         1      13942.0  13942.0      0.1      y = y.copy()\n",
       "   180         1    1584806.0 1584806.0     15.8      score = metric(y, axis1=axis1, axis2=axis2, **kwargs)\n",
       "   181         1       8050.0   8050.0      0.1      scores = np.atleast_2d(score)\n",
       "   182         1       4492.0   4492.0      0.0      ikept = np.where(~np.isnan(score))[0]  # indexes of kept vectors\n",
       "   183         1       1836.0   1836.0      0.0      inotkept = np.where(np.isnan(score))[0]  # indexes of discarded vectors\n",
       "   184         1       7935.0   7935.0      0.1      idx = np.argsort(score)\n",
       "   185         1        924.0    924.0      0.0      score = score[idx]\n",
       "   186         1       3743.0   3743.0      0.0      nkept = np.count_nonzero(~np.isnan(score))  # number of kept vectors\n",
       "   187         1        652.0    652.0      0.0      if nkept < 3:\n",
       "   188                                                   logger.debug(f'nkept: {nkept}')\n",
       "   189                                                   raise ValueError('The input array must have at least 3 valid vectors.')\n",
       "   190         1        308.0    308.0      0.0      if nmin < 0:\n",
       "   191                                                   nmin = np.max([3, nkept + nmin])\n",
       "   192         1        162.0    162.0      0.0      if threshold == 0:\n",
       "   193         1     188849.0 188849.0      1.9          q = np.nanquantile(a=score, q=[.25, .50, .75])\n",
       "   194         1      13844.0  13844.0      0.1          threshold = np.min([q[1] + 1.5*(q[2]-q[0]), score[-2], 3.])\n",
       "   195         1        214.0    214.0      0.0          if msg:\n",
       "   196                                                       print(f'Calculated threshold: {threshold}')\n",
       "   197         1        317.0    317.0      0.0      if not repeat:  # discard all vectors at once\n",
       "   198                                                   idx2 = np.nonzero(score > threshold)[0]  # vectors to discard\n",
       "   199                                                   if len(idx2) > 0:\n",
       "   200                                                       if nkept > nmin:  # keep at least nmin vectors\n",
       "   201                                                           inotkept = np.r_[inotkept, idx[idx2[-(y.shape[axis2] - nmin):]][::-1]]\n",
       "   202                                                           y.swapaxes(0, axis2)[inotkept, ...] = np.nan\n",
       "   203                                                           score = metric(y, axis1=axis1, axis2=axis2, **kwargs)\n",
       "   204                                                           logger.debug(f'not repeat - score: {score}')\n",
       "   205                                                           scores = np.vstack((scores, score))\n",
       "   206                                               else:  # discard vector with largest updated score one by one\n",
       "   207         5       6079.0   1215.8      0.1          while nkept > nmin and score[nkept-1] > threshold:\n",
       "   208         5     168708.0  33741.6      1.7              inotkept = np.r_[inotkept, idx[nkept-1]]\n",
       "   209         5      19875.0   3975.0      0.2              y.swapaxes(0, axis2)[inotkept[-1], ...] = np.nan\n",
       "   210         5    6213065.0 1242613.0     61.9              score = metric(y, axis1=axis1, axis2=axis2, **kwargs)\n",
       "   211         5      91349.0  18269.8      0.9              scores = np.vstack((scores, score))\n",
       "   212         5      39498.0   7899.6      0.4              idx = np.argsort(score)\n",
       "   213         5       5707.0   1141.4      0.1              score = score[idx]\n",
       "   214         5       1703.0    340.6      0.0              nkept = nkept - 1\n",
       "   215         5    1457538.0 291507.6     14.5              logger.debug(f'repeat - nkept: {nkept}, score: {score}')\n",
       "   216                                           \n",
       "   217         1        547.0    547.0      0.0      if len(inotkept):\n",
       "   218         1     186002.0 186002.0      1.9          ikept = np.setdiff1d(ikept, inotkept)\n",
       "   219         1        296.0    296.0      0.0          if drop:\n",
       "   220         1       8294.0   8294.0      0.1              y = y.swapaxes(0, axis2)[ikept, ...].swapaxes(0, axis2)\n",
       "   221         1        185.0    185.0      0.0          if msg:\n",
       "   222                                                       print(\n",
       "   223                                                             f'Vectors discarded (dimension {axis2}, n={len(inotkept)}): {inotkept}')\n",
       "   224                                           \n",
       "   225         1        279.0    279.0      0.0      return y, ikept, inotkept, scores"
      ]
     },
     "metadata": {},
     "output_type": "display_data"
    }
   ],
   "source": [
    "%lprun -f similarity similarity(y, msg=False)"
   ]
  },
  {
   "cell_type": "markdown",
   "metadata": {},
   "source": [
    "## Function `similarity`"
   ]
  },
  {
   "cell_type": "code",
   "execution_count": 17,
   "metadata": {},
   "outputs": [],
   "source": [
    "# %load ./../functions/simila.py\n",
    "\"\"\"Select data vectors by similarity using a metric score.\n",
    "\"\"\"\n",
    "\n",
    "from typing import Callable\n",
    "import numpy as np\n",
    "import logging\n",
    "\n",
    "__author__ = 'Marcos Duarte, https://github.com/demotu/BMC'\n",
    "__version__ = 'simila.py v.1.0.0 20123/07/31'\n",
    "__license__ = \"MIT\"\n",
    "\n",
    "# set logger and configure it not to confuse with matplotlib debug messages\n",
    "logger = logging.getLogger(__name__)\n",
    "logger.setLevel(20)  # 0: NOTSET, 10: DEBUG, 20: INFO, 30: WARNING, 40: ERROR, 50: CRITICAL\n",
    "ch = logging.StreamHandler()\n",
    "formatter = logging.Formatter('{name}: {levelname}: {message}', style='{')\n",
    "ch.setFormatter(formatter)\n",
    "logger.addHandler(ch)\n",
    "\n",
    "\n",
    "def mse(y: np.ndarray, axis1: int = 0, axis2: int = 1, central: Callable = np.nanmedian,\n",
    "        normalization: Callable = np.nanmedian\n",
    "        ) -> np.ndarray:\n",
    "    \"\"\"Mean Squared Error of `y` w.r.t. `central` across `axis2` over `axis1`.\n",
    "\n",
    "    Parameters\n",
    "    ----------\n",
    "    y : numpy.ndarray\n",
    "        At least a 2-D array of data for the calculation of mean squared error\n",
    "        w.r.t. to a `central` statistics of the data.\n",
    "    axis1 : integer, optional, default = 0\n",
    "        Axis to slice `y` ndarray in the calculation of mse.\n",
    "    axis2 : integer, optional, default = 1\n",
    "        Axis to slice `y` ndarray in the calculation of the `central`.\n",
    "    central : Python function, optional, default = np.nanmedian\n",
    "        Function to calculate statistics on `y` w.r.t. mse is computed.\n",
    "    normalization : Python function, optional, default = np.nanmedian\n",
    "        Function to normalize the calculated mse values\n",
    "\n",
    "    Returns\n",
    "    -------\n",
    "    score : numpy.ndarray\n",
    "        Mean Squared Error values\n",
    "\n",
    "    References\n",
    "    ----------\n",
    "    .. [1] https://nbviewer.org/github/BMClab/BMC/blob/master/notebooks/Similarity.ipynb\n",
    "\n",
    "    Examples\n",
    "    --------\n",
    "    >>> import numpy as np\n",
    "    >>> rng = np.random.default_rng()\n",
    "    >>> y = rng.random((100, 10))\n",
    "    >>> y +=  np.atleast_2d(np.sin(2*np.pi*np.linspace(0, 1, 100))).T\n",
    "    >>> mse(y, axis1=0, axis2=1, central=np.nanmedian, normalization=np.nanmedian)\n",
    "\n",
    "    Version history\n",
    "    ---------------\n",
    "    '1.0.0':\n",
    "        First release version\n",
    "    \"\"\"\n",
    "\n",
    "    logger.debug('mse...')\n",
    "\n",
    "    score = np.empty((y.shape[axis2]))\n",
    "    score.fill(np.nan)\n",
    "    idx = np.where(~np.all(np.isnan(y), axis=axis1))[0]  # masked array is slow\n",
    "    y = y.swapaxes(0, axis2)[idx, ...].swapaxes(0, axis2)  # faster than .take\n",
    "    score[idx] = np.nanmean((y - central(y, axis=axis2, keepdims=True))**2, axis=axis1)\n",
    "    if normalization is not None:\n",
    "        score = score/normalization(score)\n",
    "    logger.debug(f'idx: {idx}, score: {score}')\n",
    "\n",
    "    return score\n",
    "\n",
    "\n",
    "def similarity(y: np.ndarray, axis1: int = 0, axis2: int = 1, threshold: float = 0,\n",
    "               nmin: int = 3, repeat: bool = True, metric: Callable = mse,\n",
    "               drop=True, msg: bool = True, **kwargs: Callable\n",
    "               ) -> tuple[np.ndarray, np.ndarray, np.ndarray, np.ndarray]:\n",
    "\n",
    "    \"\"\"Select vectors in numpy.ndarray by their similarity using a metric score.\n",
    "\n",
    "    Parameters\n",
    "    ----------\n",
    "    y : numpy.ndarray\n",
    "        Array for the calculation of mse w.r.t. to a central statistics.\n",
    "    axis1 : integer, optional, default = 0\n",
    "        Axis to slice `y` ndarray in the calculation of mse.\n",
    "    axis2 : integer, optional, default = 1\n",
    "        Axis to slice `y` ndarray in the calculation of the `central`.\n",
    "    threshold : float, optional, default = 0\n",
    "        If greater than 0, vector with mse above it will be discarded.\n",
    "        If 0, threshold will be automatically calculated as the\n",
    "        minimum of [q[1] + 1.5*(q[2]-q[0]), score[-2], 3], where q's are the\n",
    "        quantiles and score[-2] is the before-last largest score of `metric`\n",
    "        among vectors calculated at the first time, not updated by `repeat`\n",
    "        option.\n",
    "    nmin : integer, optional, default = 3\n",
    "        If greater than 0, minumum number of vectors to keep.\n",
    "        If lower than 0, maximum number of vectors to discard.\n",
    "    repeat :bool, optional, default = True\n",
    "        Whether to calculate similarity `metric` repeatedly, updating the\n",
    "        score calculation each time a vector is discarded.\n",
    "        With `repeat` True, the output `scores` will contain at each row\n",
    "        the updated score values for the used `metric` for each data vector.\n",
    "        The first row will contain the calculated original scores before any\n",
    "        vector was discarded. On the next equent rows, the vectors discarded\n",
    "        are represented by NaN values and the kept vectors by their updated\n",
    "        scores.\n",
    "        The last row will contain the updated scores of the final vectors kept.\n",
    "        With the `repeat` False, the comparison of score values with\n",
    "        `threshold` are made only once and vectors are discarded accordingly at\n",
    "        once. In this case, the output `scores` will contain only two rows, the\n",
    "        first row will contain the calculated original scores before any\n",
    "        vectors were discarded. At the second row, the vectors discarded are\n",
    "        represented with NaN values and the kept vectors by their updated\n",
    "        scores.\n",
    "    metric : optional, default=mse\n",
    "        Function to use as metric to compute similarity.\n",
    "    drop : bool, optional, default = True\n",
    "        Whether to drop (delete) the discarded vectors from `y` in the output.\n",
    "        If False, the values of the vectors discarded will be replaced by nans\n",
    "        and the returned array will have the same dimensions as the original\n",
    "        array.\n",
    "    msg : bool, optional, default = True\n",
    "        Whether to print some messages.\n",
    "    kwargs : optional\n",
    "        Options for the metric function (e.g., see `mse` function).\n",
    "\n",
    "    Returns\n",
    "    -------\n",
    "    y : numpy.ndarray\n",
    "        Array similar to input `y` but with vectors discarded (deleted) if\n",
    "        option `drop` is True or with all values of vectors discarded replaced\n",
    "        by nans if option `drop` is False.\n",
    "    ikept : numpy.ndarray\n",
    "        Indexes of kept vectors.\n",
    "    inotkept : numpy.ndarray\n",
    "        Indexes of not kept (discarded or replaced by nan) vectors.\n",
    "    scores : 2-D numpy.ndarray\n",
    "        Metric score values of each vector (as columns) for each round of\n",
    "        vector selection (one row per round plus the final values).\n",
    "\n",
    "    References\n",
    "    ----------\n",
    "    .. [1] https://nbviewer.org/github/BMClab/BMC/blob/master/notebooks/Similarity.ipynb\n",
    "\n",
    "    Examples\n",
    "    --------\n",
    "    >>> import matplotlib.pyplot as plt\n",
    "    >>> rng = np.random.default_rng()\n",
    "    >>> t, n = 100, 10\n",
    "    >>> y = rng.random((t, n)) / 2\n",
    "    >>> y +=  np.atleast_2d(2*np.sin(2*np.pi*np.linspace(0, 1, t))).T\n",
    "    >>> for i in range(0, n, 2):\n",
    "    >>>    j = rng.integers(t-20)\n",
    "    >>>    p = rng.integers(20)\n",
    "    >>>    y[j:j+p, i] = y[j:j+p, i] + rng.integers(10) - 5\n",
    "    >>>    y[:, i] += rng.integers(4) - 2\n",
    "    >>> ys, ikept, inotkept, scores = similarity(y)\n",
    "    >>> fig, axs = plt.subplots(2, 1, sharex=True)\n",
    "    >>> axs[0].plot(y, label=list(range(n)))\n",
    "    >>> axs[0].legend(loc=(1.01, 0))\n",
    "    >>> axs[1].plot(ys, label= ikept.tolist())\n",
    "    >>> axs[1].legend(loc=(1.01, 0))\n",
    "    >>> plt.show()\n",
    "\n",
    "    Version history\n",
    "    ---------------\n",
    "    '1.0.0':\n",
    "        First release version\n",
    "    \"\"\"\n",
    "\n",
    "    logger.debug('Similarity...')\n",
    "\n",
    "    if y.ndim < 2:\n",
    "        raise ValueError('The input array must be at least a 2-D array.')\n",
    "    y = y.copy()\n",
    "    score = metric(y, axis1=axis1, axis2=axis2, **kwargs)\n",
    "    scores = np.atleast_2d(score)\n",
    "    ikept = np.where(~np.isnan(score))[0]  # indexes of kept vectors\n",
    "    inotkept = np.where(np.isnan(score))[0]  # indexes of discarded vectors\n",
    "    idx = np.argsort(score)\n",
    "    score = score[idx]\n",
    "    nkept = np.count_nonzero(~np.isnan(score))  # number of kept vectors\n",
    "    if nkept < 3:\n",
    "        logger.debug(f'nkept: {nkept}')\n",
    "        raise ValueError('The input array must have at least 3 valid vectors.')\n",
    "    if nmin < 0:\n",
    "        nmin = np.max([3, nkept + nmin])\n",
    "    if threshold == 0:\n",
    "        q = np.nanquantile(a=score, q=[.25, .50, .75])\n",
    "        threshold = np.min([q[1] + 1.5*(q[2]-q[0]), score[-2], 3.])\n",
    "        if msg:\n",
    "            print(f'Calculated threshold: {threshold}')\n",
    "    if not repeat:  # discard all vectors at once\n",
    "        idx2 = np.nonzero(score > threshold)[0]  # vectors to discard\n",
    "        if len(idx2) > 0:\n",
    "            if nkept > nmin:  # keep at least nmin vectors\n",
    "                inotkept = np.r_[inotkept, idx[idx2[-(y.shape[axis2] - nmin):]][::-1]]\n",
    "                y.swapaxes(0, axis2)[inotkept, ...] = np.nan\n",
    "                score = metric(y, axis1=axis1, axis2=axis2, **kwargs)\n",
    "                logger.debug(f'not repeat - score: {score}')\n",
    "                scores = np.vstack((scores, score))\n",
    "    else:  # discard vector with largest updated score one by one\n",
    "        while nkept > nmin and score[nkept-1] > threshold:\n",
    "            inotkept = np.r_[inotkept, idx[nkept-1]]\n",
    "            y.swapaxes(0, axis2)[inotkept[-1], ...] = np.nan\n",
    "            score = metric(y, axis1=axis1, axis2=axis2, **kwargs)\n",
    "            scores = np.vstack((scores, score))\n",
    "            idx = np.argsort(score)\n",
    "            score = score[idx]\n",
    "            nkept = nkept - 1\n",
    "            logger.debug(f'repeat - nkept: {nkept}, score: {score}')\n",
    "\n",
    "    if len(inotkept):\n",
    "        ikept = np.setdiff1d(ikept, inotkept)\n",
    "        if drop:\n",
    "            y = y.swapaxes(0, axis2)[ikept, ...].swapaxes(0, axis2)\n",
    "        if msg:\n",
    "            print(\n",
    "                  f'Vectors discarded (dimension {axis2}, n={len(inotkept)}): {inotkept}')\n",
    "\n",
    "    return y, ikept, inotkept, scores\n"
   ]
  },
  {
   "cell_type": "code",
   "execution_count": null,
   "metadata": {},
   "outputs": [],
   "source": []
  }
 ],
 "metadata": {
  "anaconda-cloud": {},
  "hide_input": false,
  "kernelspec": {
   "display_name": "Python 3 (ipykernel)",
   "language": "python",
   "name": "python3"
  },
  "language_info": {
   "codemirror_mode": {
    "name": "ipython",
    "version": 3
   },
   "file_extension": ".py",
   "mimetype": "text/x-python",
   "name": "python",
   "nbconvert_exporter": "python",
   "pygments_lexer": "ipython3",
   "version": "3.11.4"
  },
  "nbTranslate": {
   "displayLangs": [
    "*"
   ],
   "hotkey": "alt-t",
   "langInMainMenu": true,
   "sourceLang": "en",
   "targetLang": "fr",
   "useGoogleTranslate": true
  },
  "varInspector": {
   "cols": {
    "lenName": 16,
    "lenType": 16,
    "lenVar": 40
   },
   "kernels_config": {
    "python": {
     "delete_cmd_postfix": "",
     "delete_cmd_prefix": "del ",
     "library": "var_list.py",
     "varRefreshCmd": "print(var_dic_list())"
    },
    "r": {
     "delete_cmd_postfix": ") ",
     "delete_cmd_prefix": "rm(",
     "library": "var_list.r",
     "varRefreshCmd": "cat(var_dic_list()) "
    }
   },
   "types_to_exclude": [
    "module",
    "function",
    "builtin_function_or_method",
    "instance",
    "_Feature"
   ],
   "window_display": false
  },
  "widgets": {
   "application/vnd.jupyter.widget-state+json": {
    "state": {},
    "version_major": 2,
    "version_minor": 0
   }
  }
 },
 "nbformat": 4,
 "nbformat_minor": 4
}
