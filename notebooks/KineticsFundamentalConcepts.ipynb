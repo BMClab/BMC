{
 "cells": [
  {
   "cell_type": "markdown",
   "metadata": {
    "colab_type": "text",
    "id": "ZhJwhjmOM8ie",
    "slideshow": {
     "slide_type": "slide"
    }
   },
   "source": [
    "# Kinetics: fundamental concepts\n",
    "\n",
    "> Marcos Duarte  \n",
    "> [Laboratory of Biomechanics and Motor Control](http://pesquisa.ufabc.edu.br/bmclab)  \n",
    "> Federal University of ABC, Brazil"
   ]
  },
  {
   "cell_type": "markdown",
   "metadata": {},
   "source": [
    "Kinetics is the branch of classical mechanics that is concerned with the relationship between the motion of bodies and its causes, namely forces and torques ([Encyclopædia Britannica Online](https://www.britannica.com/science/kinetics)).  \n",
    "Kinetics, as used in Biomechanics, also includes the study of statics, the study of equilibrium and its relation to forces and torques (one can treat equilibrium as a special case of motion, where the velocity is zero). This is different than the nowadays most common ramification of Mechanics in Statics and Dynamics, and Dynamics in Kinematics and Kinetics ([Introduction to Biomechanics](http://nbviewer.jupyter.org/github/demotu/BMC/blob/master/notebooks/Biomechanics.ipynb#On-the-branches-of-Mechanics-and-Biomechanics-I))."
   ]
  },
  {
   "cell_type": "markdown",
   "metadata": {
    "toc": true
   },
   "source": [
    "<h1>Contents<span class=\"tocSkip\"></span></h1>\n",
    "<div class=\"toc\"><ul class=\"toc-item\"><li><span><a href=\"#Python-setup\" data-toc-modified-id=\"Python-setup-1\"><span class=\"toc-item-num\">1&nbsp;&nbsp;</span>Python setup</a></span></li><li><span><a href=\"#The-development-of-the-laws-of-motion-of-bodies\" data-toc-modified-id=\"The-development-of-the-laws-of-motion-of-bodies-2\"><span class=\"toc-item-num\">2&nbsp;&nbsp;</span>The development of the laws of motion of bodies</a></span></li><li><span><a href=\"#Newton's-laws-of-motion\" data-toc-modified-id=\"Newton's-laws-of-motion-3\"><span class=\"toc-item-num\">3&nbsp;&nbsp;</span>Newton's laws of motion</a></span></li><li><span><a href=\"#Linear-momentum\" data-toc-modified-id=\"Linear-momentum-4\"><span class=\"toc-item-num\">4&nbsp;&nbsp;</span>Linear momentum</a></span></li><li><span><a href=\"#Impulse\" data-toc-modified-id=\"Impulse-5\"><span class=\"toc-item-num\">5&nbsp;&nbsp;</span>Impulse</a></span></li><li><span><a href=\"#Force\" data-toc-modified-id=\"Force-6\"><span class=\"toc-item-num\">6&nbsp;&nbsp;</span>Force</a></span></li><li><span><a href=\"#Work\" data-toc-modified-id=\"Work-7\"><span class=\"toc-item-num\">7&nbsp;&nbsp;</span>Work</a></span></li><li><span><a href=\"#Mechanical-energy\" data-toc-modified-id=\"Mechanical-energy-8\"><span class=\"toc-item-num\">8&nbsp;&nbsp;</span>Mechanical energy</a></span><ul class=\"toc-item\"><li><span><a href=\"#Kinetic-energy\" data-toc-modified-id=\"Kinetic-energy-8.1\"><span class=\"toc-item-num\">8.1&nbsp;&nbsp;</span>Kinetic energy</a></span></li><li><span><a href=\"#Potential-energy\" data-toc-modified-id=\"Potential-energy-8.2\"><span class=\"toc-item-num\">8.2&nbsp;&nbsp;</span>Potential energy</a></span></li><li><span><a href=\"#Power\" data-toc-modified-id=\"Power-8.3\"><span class=\"toc-item-num\">8.3&nbsp;&nbsp;</span>Power</a></span></li></ul></li><li><span><a href=\"#Angular-momentum\" data-toc-modified-id=\"Angular-momentum-9\"><span class=\"toc-item-num\">9&nbsp;&nbsp;</span>Angular momentum</a></span></li><li><span><a href=\"#Torque-(moment-of-force)\" data-toc-modified-id=\"Torque-(moment-of-force)-10\"><span class=\"toc-item-num\">10&nbsp;&nbsp;</span>Torque (moment of force)</a></span></li><li><span><a href=\"#Mechanical-energy-for-angular-motion\" data-toc-modified-id=\"Mechanical-energy-for-angular-motion-11\"><span class=\"toc-item-num\">11&nbsp;&nbsp;</span>Mechanical energy for angular motion</a></span><ul class=\"toc-item\"><li><span><a href=\"#Kinetic-energy\" data-toc-modified-id=\"Kinetic-energy-11.1\"><span class=\"toc-item-num\">11.1&nbsp;&nbsp;</span>Kinetic energy</a></span></li><li><span><a href=\"#Work\" data-toc-modified-id=\"Work-11.2\"><span class=\"toc-item-num\">11.2&nbsp;&nbsp;</span>Work</a></span></li><li><span><a href=\"#Power\" data-toc-modified-id=\"Power-11.3\"><span class=\"toc-item-num\">11.3&nbsp;&nbsp;</span>Power</a></span></li></ul></li><li><span><a href=\"#Principles-of-conservation\" data-toc-modified-id=\"Principles-of-conservation-12\"><span class=\"toc-item-num\">12&nbsp;&nbsp;</span>Principles of conservation</a></span><ul class=\"toc-item\"><li><span><a href=\"#Principle-of-conservation-of-linear-momentum\" data-toc-modified-id=\"Principle-of-conservation-of-linear-momentum-12.1\"><span class=\"toc-item-num\">12.1&nbsp;&nbsp;</span>Principle of conservation of linear momentum</a></span></li><li><span><a href=\"#Principle-of-conservation-of-angular-momentum\" data-toc-modified-id=\"Principle-of-conservation-of-angular-momentum-12.2\"><span class=\"toc-item-num\">12.2&nbsp;&nbsp;</span>Principle of conservation of angular momentum</a></span></li><li><span><a href=\"#Principle-of-conservation-of-mechanical-energy\" data-toc-modified-id=\"Principle-of-conservation-of-mechanical-energy-12.3\"><span class=\"toc-item-num\">12.3&nbsp;&nbsp;</span>Principle of conservation of mechanical energy</a></span><ul class=\"toc-item\"><li><span><a href=\"#Conservative-forces\" data-toc-modified-id=\"Conservative-forces-12.3.1\"><span class=\"toc-item-num\">12.3.1&nbsp;&nbsp;</span>Conservative forces</a></span></li></ul></li></ul></li><li><span><a href=\"#Further-reading\" data-toc-modified-id=\"Further-reading-13\"><span class=\"toc-item-num\">13&nbsp;&nbsp;</span>Further reading</a></span></li><li><span><a href=\"#Video-lectures-on-the-internet\" data-toc-modified-id=\"Video-lectures-on-the-internet-14\"><span class=\"toc-item-num\">14&nbsp;&nbsp;</span>Video lectures on the internet</a></span></li><li><span><a href=\"#References\" data-toc-modified-id=\"References-15\"><span class=\"toc-item-num\">15&nbsp;&nbsp;</span>References</a></span></li></ul></div>"
   ]
  },
  {
   "cell_type": "markdown",
   "metadata": {},
   "source": [
    "## Python setup"
   ]
  },
  {
   "cell_type": "code",
   "execution_count": 1,
   "metadata": {
    "ExecuteTime": {
     "end_time": "2021-02-03T11:34:44.530557Z",
     "start_time": "2021-02-03T11:34:44.104775Z"
    }
   },
   "outputs": [],
   "source": [
    "import numpy as np\n",
    "import matplotlib.pyplot as plt\n",
    "import seaborn as sns\n",
    "%matplotlib inline\n",
    "sns.set_context('notebook', font_scale=1.2)"
   ]
  },
  {
   "cell_type": "markdown",
   "metadata": {},
   "source": [
    "## The development of the laws of motion of bodies  \n",
    "\n",
    "\"The theoretical development of the laws of motion of bodies is a problem of such interest and importance that it has engaged the attention of all the most eminent mathematicians since the invention of dynamics as a mathematical science by Galileo, and especially since the wonderful extension which was given to that science by Newton.\"\n",
    "\n",
    "&#8212; Hamilton, 1834 (apud Taylor, 2005).  "
   ]
  },
  {
   "cell_type": "markdown",
   "metadata": {},
   "source": [
    "## Newton's laws of motion\n",
    "\n",
    "The Newton's laws of motion describe the relationship between the forces acting on a body and the resultant linear motion due to those forces:\n",
    "\n",
    "- **First law**: An object will remain at rest or in uniform motion in a straight line unless an external force acts on the body.\n",
    "- **Second law**: The acceleration of an object is directly proportional to the net force acting on the object and inversely proportional to the mass of the object: $\\vec{F} = m \\vec{a}$.\n",
    "- **Third law**: Whenever an object exerts a force $\\vec{F}_1$ (action) on a second object, this second object simultaneously exerts a force $\\vec{F}_2$ on the first object with the same magnitude but opposite direction (reaction): $\\vec{F}_2 = −\\vec{F}_1.$\n",
    "\n",
    "These three statements are astonishing in their simplicity and how much of knowledge they empower.   \n",
    "Isaac Newton was born in 1943 and his works that resulted in these equations and other discoveries were mostly done in the years of 1666 and 1667, when he was only 24 years old!  \n",
    "\n",
    "Here are these three laws in Newton's own words (from page 83 of Book I in the first American edition of the [*Philosophiæ Naturalis Principia Mathematica*](http://archive.org/details/newtonspmathema00newtrich):\n",
    "\n",
    "> LAW I.    \n",
    "> *Every body perseveres in its state of rest, or of uniform motion in a right line, unless it is compelled to change that state by forces impressed thereon.*   \n",
    "> LAW II.    \n",
    "> *The alteration of motion is ever proportional to the motive force impressed; and is made in the direction of the right line in which that force is impressed.*   \n",
    "> LAW III.   \n",
    "> *To every action there is always opposed an equal reaction: or the mutual actions of two bodies upon each other are always equal, and directed to contrary parts.*   \n",
    "\n",
    "And Newton carefully defined mass, motion, and force in the first page of the book I (page 73 of the [*Principia*](http://archive.org/details/newtonspmathema00newtrich)):  \n",
    "\n",
    "> DEFINITION I.   \n",
    "> *The quantity of matter is the measure of the same, arising from its density and bulk conjunctly.*   \n",
    "> ...It is this quantity that I mean hereafter everywhere under the name of body or mass.   \n",
    "> DEFINITION II.   \n",
    "> *The quantity of motion is the measure of the same, arising from the velocity and quantity of matter conjunctly.*    \n",
    "> The motion of the whole is the sum of the motions of all the parts; and therefore in a body double in quantity, with equal velocity, the motion is double; with twice the velocity, it is quadruple.   \n",
    "> DEFINITION IV.   \n",
    "> *An impressed force is an action exerted upon a body, in order to change its state, either of rest, or of moving uniformly forward in a right line.*"
   ]
  },
  {
   "cell_type": "markdown",
   "metadata": {},
   "source": [
    "## Linear momentum\n",
    "\n",
    "From Definition II above, we can see that Newton defined as motion what we know today as linear momentum, the product between mass and velocity:\n",
    "\n",
    "$$ \\vec{p} = m\\vec{v} $$\n",
    "\n",
    "So, in his second law, *alteration of motion is ever proportional to the motive force impressed*, if we understand that it was implicit that the *alteration* occurs in a certain time (or we can understand *force impressed* as force during a certain  time), Newton actually stated:\n",
    "\n",
    "$$ \\vec{F} = \\frac{\\Delta\\vec{p}}{\\Delta t} \\;\\;\\;\\;\\;\\; \\text{or}\\;\\;\\;\\;\\;\\; \\vec{F}\\Delta t = \\Delta\\vec{p}$$\n",
    "\n",
    "What is equivalent to $\\vec{F} = m\\vec{a} \\; $ if mass is constant."
   ]
  },
  {
   "cell_type": "markdown",
   "metadata": {},
   "source": [
    "## Impulse\n",
    "\n",
    "The mechanical linear impulse is a related concept and it can be derived from the second law of motion:\n",
    "\n",
    "$$ \\vec{Imp} = \\vec{F}\\Delta t = m\\Delta\\vec{v} $$\n",
    "\n",
    "And if the force varies with time:\n",
    "\n",
    "$$ \\vec{Imp} = \\sum_t \\vec{F}(t)\\Delta t $$\n",
    "\n",
    "or using [infinitesimal calculus](http://en.wikipedia.org/wiki/Infinitesimal_calculus) (that it was independently developed by Newton himself and Leibniz):\n",
    "\n",
    "$$ \\vec{Imp} = \\int_t \\vec{F}(t)dt $$\n",
    "\n",
    "The concept of impulse due to a force that varies with time is often applied in biomechanics because it is common to measure forces (for example, with force plates) during human movement.  \n",
    "When such varying force is measured, the impulse can be calculated as the area under the force-versus-time curve:"
   ]
  },
  {
   "cell_type": "code",
   "execution_count": 2,
   "metadata": {
    "ExecuteTime": {
     "end_time": "2021-02-03T11:34:44.747485Z",
     "start_time": "2021-02-03T11:34:44.531765Z"
    }
   },
   "outputs": [
    {
     "data": {
      "image/png": "[encoded data removed]",
      "text/plain": [
       "<Figure size 800x500 with 1 Axes>"
      ]
     },
     "metadata": {},
     "output_type": "display_data"
    }
   ],
   "source": [
    "# simulate some data:\n",
    "t = np.arange(0, 1.01, 0.01)\n",
    "f = 1000*(-t**3+t**2)\n",
    "# plot:\n",
    "plt.rc('axes',  labelsize=16) \n",
    "plt.rc('xtick', labelsize=14) \n",
    "plt.rc('ytick', labelsize=14)\n",
    "hfig, hax = plt.subplots(1,1, figsize=(8,5))\n",
    "hax.plot(t, f, linewidth=3)\n",
    "hax.set_xlim(-.1, 1.1)\n",
    "hax.grid()\n",
    "hax.set_ylabel('Force [N]')\n",
    "hax.set_xlabel('Time [s]')\n",
    "plt.fill(t, f, 'b', alpha=0.3)\n",
    "# area (impulse) with the trapz numerical integration method:\n",
    "from scipy.integrate import trapz\n",
    "imp = trapz(f, t)\n",
    "# plot a rectangle for the mean impulse value:\n",
    "plt.fill(np.array([t[0], t[0], t[-1], t[-1]]),\n",
    "         np.array([0, imp, imp, 0]/(t[-1]-t[0])), 'r', alpha=0.3)\n",
    "s = '$i=F\\Delta t = %.1f Ns$'%imp \n",
    "plt.text(.4, 40, s, fontsize=18,\n",
    "         bbox=dict(facecolor='white', edgecolor='white'));"
   ]
  },
  {
   "cell_type": "markdown",
   "metadata": {},
   "source": [
    "## Force\n",
    "\n",
    "There are many manifestations of force we may experience during movement: gravitational, friction, ground reaction force, muscle force, buoyancy, elastic force, and other less visible such as electromagnetic, nuclear, etc. But in reality, all these different forces can be grouped in only four fundamental forces:\n",
    "\n",
    "- Strong force: hold the nucleus of an atom together. Range of action is $10^{-15}$ m. \n",
    "- Weak force: force acting between particles of the nucleus. Range of action is $10^{-18}$ m.\n",
    "- Electromagnetic force: forces between electrical charges and the magnetic forces.\n",
    "- Gravity force: forces between masses; is the weakest of the four fundamental forces.\n",
    "\n",
    "In mechanics, forces can be classified as either contact or body forces. The contact force acts at the point of contact between two bodies. The body force acts on the entire body with no contact (e.g., gravity and electromagnetic forces).   \n",
    "In biomechanics, another useful classification is to divide the forces in either external or internal in relation to the human body. External forces result from interactions with an external body or environment (e.g., gravity and ground reaction forces). Internal forces result from interactions inside the body (e.g., the forces between bones)."
   ]
  },
  {
   "cell_type": "markdown",
   "metadata": {},
   "source": [
    "## Work\n",
    "\n",
    "The mechanical work of a force done on a body is the product between the component of the force in the direction of the resultant motion and the displacement: \n",
    "\n",
    "$$ W = \\vec{F} \\cdot \\Delta\\vec{x} $$\n",
    "\n",
    "Where the symbol $\\cdot$ stands for the [scalar product](http://nbviewer.ipython.org/github/demotu/BMC/blob/master/notebooks/ScalarVector.ipynb) mathematical function.\n",
    "\n",
    "Mechanical work can also be understood as the amount of mechanical energy transferred into or out of a system."
   ]
  },
  {
   "cell_type": "markdown",
   "metadata": {},
   "source": [
    "## Mechanical energy\n",
    "\n",
    "Mechanical energy is the sum of kinetic and potential energies.\n",
    "\n",
    "### Kinetic energy\n",
    "\n",
    "$$ E_k = \\frac{1}{2}mv^2 $$\n",
    "\n",
    "The linear momentum and the kinetic energy are related by:\n",
    "\n",
    "$$ \\vec{p} = \\frac{\\partial E_k}{\\partial\\vec{v}} $$\n",
    "\n",
    "### Potential energy\n",
    "\n",
    "The potential energy due to the gravitational force at the Earth's surface is:\n",
    "\n",
    "$$ E_p = mgh $$\n",
    "\n",
    "The potential energy stored in a spring is:\n",
    "\n",
    "$$ E_p = \\frac{1}{2}Kx^2 $$\n",
    "\n",
    "### Power \n",
    " \n",
    "$$ P = \\frac{\\Delta E}{\\Delta t} \\quad \\text{and} \\quad P = \\vec{F} \\cdot \\vec{v} $$"
   ]
  },
  {
   "cell_type": "markdown",
   "metadata": {},
   "source": [
    "## Angular momentum\n",
    "\n",
    "In analogy to the linear momentum, the angular momentum is the quantity of movement of a particle rotating around an axis at a distance $\\vec{r}$:\n",
    "\n",
    "$$ \\vec{L} = \\vec{r} \\times \\vec{p} $$\n",
    "\n",
    "For a particle rotating around an axis, the angular momentum can be expressed as:\n",
    "\n",
    "$$ \\vec{L} = I \\vec{\\omega} $$\n",
    "\n",
    "Where $I$ is the rotational inertia or moment of inertia of the particle around the axis."
   ]
  },
  {
   "cell_type": "markdown",
   "metadata": {},
   "source": [
    "## Torque (moment of force)\n",
    "\n",
    "In analogy to the second Newton's law for the linear case, torque or moment of force (or simply moment) is the time derivative of angular momentum:\n",
    "\n",
    "$$ \\vec{M} = \\frac{d\\vec{L}}{dt} = \\frac{d}{dt}(\\vec{r} \\times \\vec{p}) = \\frac{d\\vec{r}}{dt} \\times \\vec{p} + \\vec{r} \\times \\frac{d\\vec{p}}{dt} = 0 + \\vec{r} \\times \\vec{F} $$\n",
    "\n",
    "$$ \\vec{M} = \\vec{r} \\times \\vec{F} $$\n",
    "\n",
    "$$ \\vec{M} = (r_x\\:\\mathbf{\\hat{i}}+r_y\\:\\mathbf{\\hat{j}}+r_z\\:\\mathbf{\\hat{k}}) \\times  (F_x\\:\\mathbf{\\hat{i}}+F_y\\:\\mathbf{\\hat{j}}+F_z\\:\\mathbf{\\hat{k}}) $$\n",
    "\n",
    "Where the symbol $\\times$ stands for the [cross product](http://nbviewer.ipython.org/github/demotu/BMC/blob/master/notebooks/ScalarVector.ipynb) mathematical function.   \n",
    "The moment of force can be calculated as the determinant of the following matrix:\n",
    "\n",
    "$$ \\vec{M} = \\begin{bmatrix}\n",
    "\\mathbf{\\hat{i}} & \\mathbf{\\hat{j}} & \\mathbf{\\hat{k}} \\\\ \n",
    "r_x & r_y & r_z \\\\\n",
    "F_x & F_y & F_z \n",
    "\\end{bmatrix} $$\n",
    "\n",
    "$$ \\vec{M} = (r_yF_z-r_zF_y)\\mathbf{\\hat{i}}+(r_zF_x-r_xF_z)\\mathbf{\\hat{j}}+(r_xF_y-r_yF_x)\\mathbf{\\hat{k}} $$\n",
    "\n",
    "The moment of force can also be calculated by the geometric equivalent formula:\n",
    "\n",
    "$$ \\vec{M} = \\vec{r} \\times \\vec{F} = ||\\vec{r}||\\:||\\vec{F}||\\:sin(\\theta) $$\n",
    "\n",
    "Where $\\theta$ is the angle between the vectors $\\vec{r}$ and $\\vec{F}$. \n",
    "\n",
    "The animation below (from [Wikipedia](http://en.wikipedia.org/wiki/File:Torque_animation.gif)) illustrates the relationship between force ($\\vec{F}$), torque ($\\tau$), and momentum vectors ($\\mathbf{p}$ and $\\vec{L}$):   \n",
    "\n",
    "<figure><img src=\"http://upload.wikimedia.org/wikipedia/commons/0/09/Torque_animation.gif\" alt=\"Torque animation\" width=\"300\"/><figcaption><center><i>Figure. Relationship between force ($\\mathbf{F}$), torque ($\\tau$), and momentum vectors ($\\mathbf{p}$ and $\\mathbf{L}$) (from [Wikipedia](http://en.wikipedia.org/wiki/File:Torque_animation.gif)).</i></center></figcaption></figure>"
   ]
  },
  {
   "cell_type": "markdown",
   "metadata": {},
   "source": [
    "## Mechanical energy for angular motion\n",
    " \n",
    "### Kinetic energy\n",
    " \n",
    "$$ E_k = \\frac{1}{2}I\\omega^2 $$\n",
    "\n",
    "### Work\n",
    " \n",
    "$$ W = \\vec{M} \\cdot \\Delta\\vec{\\theta} $$\n",
    " \n",
    "### Power\n",
    " \n",
    "$$ P = \\frac{\\Delta E}{\\Delta t} \\quad \\text{and} \\quad P = \\vec{M} \\cdot \\vec{\\omega} $$"
   ]
  },
  {
   "cell_type": "markdown",
   "metadata": {},
   "source": [
    "## Principles of conservation\n",
    "\n",
    "### Principle of conservation of linear momentum\n",
    "\n",
    "> *In a closed system with no external forces acting upon it, the total linear momentum of this system is constant.*\n",
    "\n",
    "### Principle of conservation of angular momentum\n",
    "\n",
    "> *In a closed system with no external forces acting upon it, the total angular momentum of this system is constant.*\n",
    "\n",
    "### Principle of conservation of mechanical energy\n",
    "\n",
    "> *In a closed system with no external forces acting upon it, the mechanical energy of this system is constant if only conservative forces act in this system.*\n",
    "\n",
    "\n",
    "#### Conservative forces\n",
    "\n",
    "A force is said to be conservative if this force produces the same work regardless of its trajectory between two points, if not the force is said to be non-conservative. Mathematically, the force $\\vec{F}$ is conservative if:\n",
    "\n",
    "$$ \\oint \\vec{F} \\cdot d\\vec{s} = 0 $$\n",
    "\n",
    "The gravitational force and the elastic force of an ideal spring are examples of conservative forces but friction force is not conservative. The forces generated by our muscles are also not conservative."
   ]
  },
  {
   "cell_type": "markdown",
   "metadata": {},
   "source": [
    "## Further reading"
   ]
  },
  {
   "cell_type": "markdown",
   "metadata": {},
   "source": [
    "- Read chapter 0, What is mechanics, from Ruina and Rudra's book.  "
   ]
  },
  {
   "cell_type": "markdown",
   "metadata": {},
   "source": [
    "## Video lectures on the internet\n",
    "\n",
    "- MIT OpenCourseWare: [History of Dynamics; Motion in Moving Reference Frames](https://youtu.be/GUvoVvXwoOQ)  \n",
    "- Fisica Universitária: [O que é a Mecânica](https://youtu.be/T10lXTek_JE)"
   ]
  },
  {
   "cell_type": "markdown",
   "metadata": {
    "colab_type": "text",
    "id": "3l-W0R08M8jb"
   },
   "source": [
    "## References\n",
    "\n",
    "- Hibbeler (2010) Engineering Mechanics: Dynamics. 12th edition. (Hibbeler (2011) Dinâmica: Mecânica para Engenharia. 12a edição).\n",
    "- Ruina A, Rudra P (2019) [Introduction to Statics and Dynamics](http://ruina.tam.cornell.edu/Book/index.html). Oxford University Press.  \n",
    "- Taylor JR (2005) [Classical Mechanics](https://books.google.com.br/books?id=P1kCtNr-pJsC). University Science Books."
   ]
  }
 ],
 "metadata": {
  "colab": {
   "collapsed_sections": [],
   "name": "Copy of newtonLawForParticles.ipynb",
   "provenance": [],
   "version": "0.3.2"
  },
  "hide_input": false,
  "kernelspec": {
   "display_name": "Python 3 (ipykernel)",
   "language": "python",
   "name": "python3"
  },
  "language_info": {
   "codemirror_mode": {
    "name": "ipython",
    "version": 3
   },
   "file_extension": ".py",
   "mimetype": "text/x-python",
   "name": "python",
   "nbconvert_exporter": "python",
   "pygments_lexer": "ipython3",
   "version": "3.9.16"
  },
  "latex_envs": {
   "LaTeX_envs_menu_present": true,
   "autoclose": false,
   "autocomplete": true,
   "bibliofile": "biblio.bib",
   "cite_by": "apalike",
   "current_citInitial": 1,
   "eqLabelWithNumbers": true,
   "eqNumInitial": 1,
   "hotkeys": {
    "equation": "Ctrl-E",
    "itemize": "Ctrl-I"
   },
   "labels_anchors": false,
   "latex_user_defs": false,
   "report_style_numbering": false,
   "user_envs_cfg": false
  },
  "nbTranslate": {
   "displayLangs": [
    "*"
   ],
   "hotkey": "alt-t",
   "langInMainMenu": true,
   "sourceLang": "en",
   "targetLang": "fr",
   "useGoogleTranslate": true
  },
  "toc": {
   "base_numbering": 1,
   "nav_menu": {},
   "number_sections": true,
   "sideBar": true,
   "skip_h1_title": true,
   "title_cell": "Contents",
   "title_sidebar": "Contents",
   "toc_cell": true,
   "toc_position": {},
   "toc_section_display": true,
   "toc_window_display": false
  },
  "varInspector": {
   "cols": {
    "lenName": 16,
    "lenType": 16,
    "lenVar": 40
   },
   "kernels_config": {
    "python": {
     "delete_cmd_postfix": "",
     "delete_cmd_prefix": "del ",
     "library": "var_list.py",
     "varRefreshCmd": "print(var_dic_list())"
    },
    "r": {
     "delete_cmd_postfix": ") ",
     "delete_cmd_prefix": "rm(",
     "library": "var_list.r",
     "varRefreshCmd": "cat(var_dic_list()) "
    }
   },
   "types_to_exclude": [
    "module",
    "function",
    "builtin_function_or_method",
    "instance",
    "_Feature"
   ],
   "window_display": false
  }
 },
 "nbformat": 4,
 "nbformat_minor": 4
}
