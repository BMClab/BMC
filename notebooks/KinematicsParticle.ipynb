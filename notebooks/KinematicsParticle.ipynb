{
  "cells": [
    {
      "cell_type": "markdown",
      "metadata": {
        "id": "PdleV478DnIu"
      },
      "source": [
        "# Kinematics of particle\n",
        "\n",
        "> Marcos Duarte, Renato Naville Watanabe  \n",
        "> [Laboratory of Biomechanics and Motor Control](https://bmclab.pesquisa.ufabc.edu.br)  \n",
        "> Federal University of ABC, Brazil"
      ]
    },
    {
      "cell_type": "markdown",
      "metadata": {
        "id": "3z2quwjuDnIy"
      },
      "source": [
        "<div style=\"background-color:#F1F1F1;border:1px solid black;padding:10px;\">\n",
        "    <figure><img src=\"https://github.com/BMClab/BMC/blob/master/images/usain_bolt_berlin2009.png?raw=1\" width=700 alt=\"Momentary velocity vs location for Usain Bolt\"/><figcaption><center><br><i><b>Figure. Momentary velocity vs location for Usain Bolt in the men’s 100m final at the IAAF World Championships in Athletics, Berlin 2009. This measurement represents the velocity of the body (considered as a particle) and was measured with a laser radar. From <a href=\"http://www.meathathletics.ie/devathletes/pdf/Biomechanics%20of%20Sprints.pdf\">Graubner and Nixdorf (2011)</a>.</b></i></center></figcaption></figure>\n",
        " </div>"
      ]
    },
    {
      "cell_type": "markdown",
      "metadata": {
        "toc": true,
        "id": "P4qSUMLfDnIz"
      },
      "source": [
        "<h1>Contents<span class=\"tocSkip\"></span></h1>\n",
        "<div class=\"toc\"><ul class=\"toc-item\"><li><span><a href=\"#Python-setup\" data-toc-modified-id=\"Python-setup-1\"><span class=\"toc-item-num\">1&nbsp;&nbsp;</span>Python setup</a></span></li><li><span><a href=\"#Biomechanics-&amp;-Mechanics\" data-toc-modified-id=\"Biomechanics-&amp;-Mechanics-2\"><span class=\"toc-item-num\">2&nbsp;&nbsp;</span>Biomechanics &amp; Mechanics</a></span></li><li><span><a href=\"#Kinematics\" data-toc-modified-id=\"Kinematics-3\"><span class=\"toc-item-num\">3&nbsp;&nbsp;</span>Kinematics</a></span><ul class=\"toc-item\"><li><span><a href=\"#Vectors-in-Kinematics\" data-toc-modified-id=\"Vectors-in-Kinematics-3.1\"><span class=\"toc-item-num\">3.1&nbsp;&nbsp;</span>Vectors in Kinematics</a></span></li></ul></li><li><span><a href=\"#Position\" data-toc-modified-id=\"Position-4\"><span class=\"toc-item-num\">4&nbsp;&nbsp;</span>Position</a></span></li><li><span><a href=\"#Basis\" data-toc-modified-id=\"Basis-5\"><span class=\"toc-item-num\">5&nbsp;&nbsp;</span>Basis</a></span></li><li><span><a href=\"#Displacement\" data-toc-modified-id=\"Displacement-6\"><span class=\"toc-item-num\">6&nbsp;&nbsp;</span>Displacement</a></span></li><li><span><a href=\"#Velocity\" data-toc-modified-id=\"Velocity-7\"><span class=\"toc-item-num\">7&nbsp;&nbsp;</span>Velocity</a></span></li><li><span><a href=\"#Acceleration\" data-toc-modified-id=\"Acceleration-8\"><span class=\"toc-item-num\">8&nbsp;&nbsp;</span>Acceleration</a></span></li><li><span><a href=\"#The-antiderivative\" data-toc-modified-id=\"The-antiderivative-9\"><span class=\"toc-item-num\">9&nbsp;&nbsp;</span>The antiderivative</a></span></li><li><span><a href=\"#Some-cases-of-motion-of-a-particle\" data-toc-modified-id=\"Some-cases-of-motion-of-a-particle-10\"><span class=\"toc-item-num\">10&nbsp;&nbsp;</span>Some cases of motion of a particle</a></span><ul class=\"toc-item\"><li><ul class=\"toc-item\"><li><span><a href=\"#Particle-at-rest\" data-toc-modified-id=\"Particle-at-rest-10.0.1\"><span class=\"toc-item-num\">10.0.1&nbsp;&nbsp;</span>Particle at rest</a></span></li><li><span><a href=\"#Particle-at-constant-speed\" data-toc-modified-id=\"Particle-at-constant-speed-10.0.2\"><span class=\"toc-item-num\">10.0.2&nbsp;&nbsp;</span>Particle at constant speed</a></span></li><li><span><a href=\"#Particle-at-constant-acceleration\" data-toc-modified-id=\"Particle-at-constant-acceleration-10.0.3\"><span class=\"toc-item-num\">10.0.3&nbsp;&nbsp;</span>Particle at constant acceleration</a></span></li></ul></li><li><span><a href=\"#Values-for-the-mechanical-quantities\" data-toc-modified-id=\"Values-for-the-mechanical-quantities-10.1\"><span class=\"toc-item-num\">10.1&nbsp;&nbsp;</span>Values for the mechanical quantities</a></span></li><li><span><a href=\"#Visual-representation-of-these-cases\" data-toc-modified-id=\"Visual-representation-of-these-cases-10.2\"><span class=\"toc-item-num\">10.2&nbsp;&nbsp;</span>Visual representation of these cases</a></span></li></ul></li><li><span><a href=\"#Symbolic-programming\" data-toc-modified-id=\"Symbolic-programming-11\"><span class=\"toc-item-num\">11&nbsp;&nbsp;</span>Symbolic programming</a></span></li><li><span><a href=\"#Kinematics-of-human-movement\" data-toc-modified-id=\"Kinematics-of-human-movement-12\"><span class=\"toc-item-num\">12&nbsp;&nbsp;</span>Kinematics of human movement</a></span><ul class=\"toc-item\"><li><span><a href=\"#Kinematics-of-the-100-m-race\" data-toc-modified-id=\"Kinematics-of-the-100-m-race-12.1\"><span class=\"toc-item-num\">12.1&nbsp;&nbsp;</span>Kinematics of the 100-m race</a></span></li></ul></li><li><span><a href=\"#More-examples\" data-toc-modified-id=\"More-examples-13\"><span class=\"toc-item-num\">13&nbsp;&nbsp;</span>More examples</a></span></li><li><span><a href=\"#Further-reading\" data-toc-modified-id=\"Further-reading-14\"><span class=\"toc-item-num\">14&nbsp;&nbsp;</span>Further reading</a></span></li><li><span><a href=\"#Video-lectures-on-the-Internet\" data-toc-modified-id=\"Video-lectures-on-the-Internet-15\"><span class=\"toc-item-num\">15&nbsp;&nbsp;</span>Video lectures on the Internet</a></span></li><li><span><a href=\"#Problems\" data-toc-modified-id=\"Problems-16\"><span class=\"toc-item-num\">16&nbsp;&nbsp;</span>Problems</a></span></li><li><span><a href=\"#References\" data-toc-modified-id=\"References-17\"><span class=\"toc-item-num\">17&nbsp;&nbsp;</span>References</a></span></li></ul></div>"
      ]
    },
    {
      "cell_type": "markdown",
      "metadata": {
        "id": "cFoLLOP2DnI1"
      },
      "source": [
        "## Python setup"
      ]
    },
    {
      "cell_type": "code",
      "execution_count": 1,
      "metadata": {
        "ExecuteTime": {
          "end_time": "2021-10-16T00:12:06.145171Z",
          "start_time": "2021-10-16T00:12:05.900880Z"
        },
        "id": "vx5Gjo5rDnI1"
      },
      "outputs": [],
      "source": [
        "import numpy as np\n",
        "import matplotlib.pyplot as plt\n",
        "%matplotlib inline"
      ]
    },
    {
      "cell_type": "markdown",
      "metadata": {
        "id": "RFjJVb2UDnI3"
      },
      "source": [
        "## Biomechanics & Mechanics\n",
        "\n",
        "**A good knowledge of Mechanics is a necessary condition, although not sufficient!, to master Biomechanics**\n",
        "\n",
        "For this reason, we will review principles of Classical Mechanics in the context of Biomechanics.  \n",
        "\n",
        "The book [*Introduction to Statics and Dynamics*](http://ruina.tam.cornell.edu/Book/index.html), written by Andy Ruina and Rudra Pratap, is an excellent reference (a rigorous and yet didactic presentation of Mechanics for undergraduate students) on Classical Mechanics. The preface and first chapter of the book are a good read on how someone should study Mechanics. You should read them!\n",
        "\n",
        "The book [*Cinemática e Dinâmica para Engenharia*](https://www.grupogen.com.br/e-book-cinematica-e-dinamica-para-engenharia), available only in Portuguese, written by Domingos Rade, is also a good book on mechanics, and in fact the sequence of topics covered in this book is closer to the sequence we adopted in our Biomechanics I and II courses.\n",
        "\n",
        "We will refer to these two books in case you want to study more about the subjects covered here.  \n",
        "Most of the content in this notebook is covered in chapter 12 of the [Ruina and Rudra's book](http://ruina.tam.cornell.edu/Book/index.html) and in chapter 1 of the Rade's book. \n",
        "\n",
        "As we argued in the notebook [Biomechanics](http://nbviewer.jupyter.org/github/demotu/BMC/blob/master/notebooks/Biomechanics.ipynb), we will start with a branch of Classical Mechanics that is simpler to measure its related quantities on biological systems, the Kinematics.  \n",
        "\n",
        "There are some relevant cases in the study of human movement where modeling the human body or one of its segments as a particle might be all we need to explore the phenomenon. The concept of kinematics of a particle, for instance, can be applied to study the performance in the 100-m race; to describe spatial and temporal characteristics of a movement pattern, and to conjecture about how voluntary movements are planned (the minimum jerk hypothesis).  \n",
        "\n",
        "Now, let's review the concept of kinematics of a particle and later apply to the study of human movement."
      ]
    },
    {
      "cell_type": "markdown",
      "metadata": {
        "id": "67L2d49pDnI4"
      },
      "source": [
        "## Kinematics\n",
        "\n",
        "**Kinematics** is the branch of Classical Mechanics that describes the motion of objects without consideration of the causes of motion ([Wikipedia](http://en.wikipedia.org/wiki/Kinematics)).  \n",
        "\n",
        "Kinematics of a particle is the description of the motion when the object is considered a particle.  \n",
        "\n",
        "A particle as a physical object does not exist in nature; it is a simplification to understand the motion of a body or it is a conceptual definition such as the center of mass of a system of objects."
      ]
    },
    {
      "cell_type": "markdown",
      "metadata": {
        "id": "MR3kjyncDnI5"
      },
      "source": [
        "### Vectors in Kinematics\n",
        "\n",
        "Some mechanical quantities in Kinematics (position and its derivatives) are represented as vectors and others, such as time and distance, are scalars.  \n",
        "A vector in Mechanics is a physical quantity with magnitude, direction, and satisfies some elementary vector arithmetic, whereas a scalar is a physical quantity that is fully expressed by a magnitude (a number) only.  \n",
        "\n",
        "For a review about scalars and vectors, see chapter 1 of [Ruina and Rudra's book](http://ruina.tam.cornell.edu/Book/index.html).  \n",
        "\n",
        " For how to use Python to work with scalars and vectors, see the notebook [Scalar and Vector](http://nbviewer.jupyter.org/github/BMCLab/BMC/blob/master/notebooks/ScalarVector.ipynb)."
      ]
    },
    {
      "cell_type": "markdown",
      "metadata": {
        "id": "yKb0RRJfDnI6"
      },
      "source": [
        "## Position\n",
        "\n",
        "Consider a point in the three-dimensional Euclidean space described in a Cartesian coordinate system (see the notebook [Frame of reference](http://nbviewer.jupyter.org/github/demotu/BMC/blob/master/notebooks/ReferenceFrame.ipynb) for an introduction on coordinate systems in Mechanics and Biomechanics):  \n",
        "<br>\n",
        "<figure><img src=\"https://github.com/BMClab/BMC/blob/master/images/vector3Dijk.png?raw=1\" width=350/><figcaption><center><i>Figure. Representation of a point $\\mathbf{P}$ and its position vector $\\overrightarrow{\\mathbf{r}}$ in a Cartesian coordinate system. The versors <span class=\"notranslate\">$\\hat{\\mathbf{i}},\\, \\hat{\\mathbf{j}},\\, \\hat{\\mathbf{k}}\\,$ </span> form a basis for this coordinate system and are usually represented in the color sequence RGB (red, green, blue) for easier visualization.</i></center></figcaption></figure>  "
      ]
    },
    {
      "cell_type": "markdown",
      "metadata": {
        "id": "04mjNRf2DnI7"
      },
      "source": [
        "The position of this point in space can be represented as a triple of values each representing the coordinate at each axis of the Cartesian coordinate system following the $ \\mathbf{X, Y, Z} $ convention order (which is omitted):\n",
        "\n",
        "<span class=\"notranslate\">\n",
        "\\begin{equation}\n",
        "(x,\\, y,\\, z)\n",
        "\\label{eq_xyz}\n",
        "\\end{equation}\n",
        "</span>"
      ]
    },
    {
      "cell_type": "markdown",
      "metadata": {
        "id": "k-tE51YtDnI7"
      },
      "source": [
        "The position of a particle in space can also be represented by a vector in the Cartesian coordinate system, with the origin of the vector at the origin of the coordinate system and the tip of the vector at the point position:\n",
        "\n",
        "<span class=\"notranslate\">\n",
        "\\begin{equation}\n",
        "\\overrightarrow{\\mathbf{r}}(t) = x\\,\\hat{\\mathbf{i}} + y\\,\\hat{\\mathbf{j}} + z\\,\\hat{\\mathbf{k}}\n",
        "\\label{eq_rxyz}\n",
        "\\end{equation}    \n",
        "</span>\n",
        "\n",
        "Where <span class=\"notranslate\"> $\\hat{\\mathbf{i}},\\, \\hat{\\mathbf{j}},\\, \\hat{\\mathbf{k}}\\,$ </span> are unit vectors in the directions of the axes $ \\mathbf{X, Y, Z} $. \n",
        "\n",
        "For a review on vectors, see the notebook [Scalar and vector](http://nbviewer.ipython.org/github/demotu/BMC/blob/master/notebooks/ScalarVector.ipynb)."
      ]
    },
    {
      "cell_type": "markdown",
      "metadata": {
        "id": "0yW1Hcy_DnI8"
      },
      "source": [
        "With this new notation, the coordinates of a point representing the position of a particle that vary with time would be expressed by the following position vector $\\overrightarrow{\\mathbf{r}}(t)$:   \n",
        "\n",
        "<span class=\"notranslate\">\n",
        "\\begin{equation}\n",
        "\\overrightarrow{\\mathbf{r}}(t) = x(t)\\,\\hat{\\mathbf{i}} + y(t)\\,\\hat{\\mathbf{j}} + z(t)\\,\\hat{\\mathbf{k}}\n",
        "\\label{eq_rxyzijk}\n",
        "\\end{equation}\n",
        "</span>"
      ]
    },
    {
      "cell_type": "markdown",
      "metadata": {
        "id": "J3fKhK-3DnI8"
      },
      "source": [
        "A vector can also be represented in matrix form:\n",
        "\n",
        "<span class=\"notranslate\">\n",
        "\\begin{equation}\n",
        "\\overrightarrow{\\mathbf{r}}(t) = \\begin{bmatrix} x(t) \\\\y(t) \\\\z(t) \\end{bmatrix}\n",
        "\\label{eq_rxyzmatrix}\n",
        "\\end{equation}\n",
        "</span>"
      ]
    },
    {
      "cell_type": "markdown",
      "metadata": {
        "id": "MPBxiqMBDnI9"
      },
      "source": [
        "And the unit vectors in each Cartesian coordinate in matrix form are given by:\n",
        "\n",
        "<span class=\"notranslate\">\n",
        "\\begin{equation}\n",
        "\\hat{\\mathbf{i}} = \\begin{bmatrix}1\\\\0\\\\0 \\end{bmatrix},\\; \\hat{\\mathbf{j}} = \\begin{bmatrix}0\\\\1\\\\0 \\end{bmatrix},\\; \\hat{\\mathbf{k}} = \\begin{bmatrix} 0 \\\\ 0 \\\\ 1 \\end{bmatrix}\n",
        "\\label{eq_ijk}\n",
        "\\end{equation}\n",
        "</span>"
      ]
    },
    {
      "cell_type": "markdown",
      "metadata": {
        "id": "mHDusQAFDnI9"
      },
      "source": [
        "## Basis\n",
        "\n",
        "In [linear algebra](http://en.wikipedia.org/wiki/Linear_algebra), a set of unit linearly independent vectors as the three vectors above (orthogonal in the Euclidean space) that can represent any vector via [linear combination](http://en.wikipedia.org/wiki/Linear_combination) is called a basis. A basis is the foundation of creating a reference frame and we will study how to do that other time. "
      ]
    },
    {
      "cell_type": "markdown",
      "metadata": {
        "id": "xbEqEJjsDnI9"
      },
      "source": [
        "## Displacement\n",
        "\n",
        "The shortest distance between two positions of a particle. \n",
        "\n",
        "As the difference between two vectors, displacement is also a vector quantity.\n",
        "\n",
        "<span class=\"notranslate\">\n",
        "\\begin{equation}\n",
        "\\mathbf{\\overrightarrow{d}} = \\mathbf{\\overrightarrow{r}_2} - \\mathbf{\\overrightarrow{r}_1}\n",
        "\\label{eq_distance}\n",
        "\\end{equation}\n",
        "</span>\n",
        "\n",
        "<figure><img src=\"https://github.com/BMClab/BMC/blob/master/images/displacement.png?raw=1\" width=450/><figcaption><center><i>Figure. Representation of the displacement vector $\\mathbf{\\overrightarrow{d}}$ between two positions $\\mathbf{\\overrightarrow{r}_1}$ and $\\mathbf{\\overrightarrow{r}_2}$.</i></center></figcaption></figure>  "
      ]
    },
    {
      "cell_type": "markdown",
      "metadata": {
        "id": "ouI8zbCmDnI-"
      },
      "source": [
        "## Velocity\n",
        "\n",
        "Velocity is the rate (with respect to time) of change of the position of a particle.  \n",
        "\n",
        "The average velocity between two instants is:\n",
        "\n",
        "<span class=\"notranslate\">\n",
        "\\begin{equation}\n",
        "\\overrightarrow{\\mathbf{v}}(t) = \\frac{\\overrightarrow{\\mathbf{r}}(t_2)-\\overrightarrow{\\mathbf{r}}(t_1)}{t_2-t_1} = \\frac{\\Delta \\overrightarrow{\\mathbf{r}}}{\\Delta t}\n",
        "\\label{eq_velocity}\n",
        "\\end{equation}\n",
        "</span>    \n",
        "\n",
        "The instantaneous velocity of the particle is obtained when $\\Delta t$ approaches to zero, which from calculus is the first-order [derivative](http://en.wikipedia.org/wiki/Derivative) of the position vector:\n",
        "\n",
        "<span class=\"notranslate\">\n",
        "\\begin{equation}\n",
        "\\overrightarrow{\\mathbf{v}}(t) = \\lim_{\\Delta t \\to 0} \\frac{\\Delta \\overrightarrow{\\mathbf{r}}}{\\Delta t} = \\lim_{\\Delta t \\to 0} \\frac{\\overrightarrow{\\mathbf{r}}(t+\\Delta t)-\\overrightarrow{\\mathbf{r}}(t)}{\\Delta t} = \\frac{\\mathrm{d}\\overrightarrow{\\mathbf{r}}}{dt}\n",
        "\\label{eq_velocityderiv}\n",
        "\\end{equation}\n",
        "</span> \n",
        "\n",
        "For the movement of a particle described with respect to an [inertial Frame of reference](http://nbviewer.jupyter.org/github/demotu/BMC/blob/master/notebooks/ReferenceFrame.ipynb), the derivative of a vector is obtained by differentiating each vector component of the Cartesian coordinates (since the base versors <span class=\"notranslate\"> $\\hat{\\mathbf{i}}, \\hat{\\mathbf{j}}, \\hat{\\mathbf{k}}$ </span> are constant):   \n",
        "\n",
        "<span class=\"notranslate\">\n",
        "\\begin{equation}\n",
        "\\overrightarrow{\\mathbf{v}}(t) = \\frac{\\mathrm{d}\\overrightarrow{\\mathbf{r}}(t)}{dt} = \\frac{\\mathrm{d}x(t)}{\\mathrm{d}t}\\hat{\\mathbf{i}} + \\frac{\\mathrm{d}y(t)}{\\mathrm{d}t}\\hat{\\mathbf{j}} + \\frac{\\mathrm{d}z(t)}{\\mathrm{d}t}\\hat{\\mathbf{k}}\n",
        "\\label{eq_velocityderiv2}\n",
        "\\end{equation}\n",
        "</span>\n",
        "\n",
        "Or in matrix form (and using the Newton's notation for differentiation):\n",
        "\n",
        "<span class=\"notranslate\">\n",
        "\\begin{equation} \n",
        "\\overrightarrow{\\mathbf{v}}(t) = \\begin{bmatrix}\n",
        "\\dot x(t) \\\\\n",
        "\\dot y(t) \\\\\n",
        "\\dot z(t)\n",
        "\\end{bmatrix}\n",
        "\\label{eq_velocityderiv3}\n",
        "\\end{equation}\n",
        "</span>"
      ]
    },
    {
      "cell_type": "markdown",
      "metadata": {
        "id": "8T6OCR1lDnI-"
      },
      "source": [
        "## Acceleration  \n",
        "\n",
        "Acceleration is the rate (with respect to time) of change of the velocity of a particle, which can also be given by the second-order rate of change of the position.\n",
        "\n",
        "The average acceleration between two instants is:\n",
        "\n",
        "<span class=\"notranslate\">\n",
        "\\begin{equation}\n",
        "\\overrightarrow{\\mathbf{a}}(t) = \\frac{\\overrightarrow{\\mathbf{v}}(t_2)-\\overrightarrow{\\mathbf{v}}(t_1)}{t_2-t_1} = \\frac{\\Delta \\overrightarrow{\\mathbf{v}}}{\\Delta t}\n",
        "\\label{eq_acc}\n",
        "\\end{equation}\n",
        "</span>\n",
        "\n",
        "Likewise, instantaneous acceleration is the first-order derivative of the velocity or the second-order derivative of the position vector:   \n",
        "\n",
        "<span class=\"notranslate\">\n",
        "\\begin{equation} \n",
        "\\overrightarrow{\\mathbf{a}}(t) = \\frac{\\mathrm{d}\\overrightarrow{\\mathbf{v}}(t)}{\\mathrm{d}t} = \\frac{\\mathrm{d}^2\\overrightarrow{\\mathbf{r}}(t)}{\\mathrm{d}t^2} = \\frac{\\mathrm{d}^2x(t)}{\\mathrm{d}t^2}\\hat{\\mathbf{i}} + \\frac{\\mathrm{d}^2y(t)}{\\mathrm{d}t^2}\\hat{\\mathbf{j}} + \\frac{\\mathrm{d}^2z(t)}{\\mathrm{d}t^2}\\hat{\\mathbf{k}}\n",
        "\\label{eq_accderiv}\n",
        "\\end{equation}\n",
        "</span>\n",
        "\n",
        "And in matrix form:\n",
        "\n",
        "<span class=\"notranslate\">\n",
        "\\begin{equation} \n",
        "\\overrightarrow{\\mathbf{a}}(t) = \\begin{bmatrix}\n",
        "\\ddot x(t) \\\\\n",
        "\\ddot y(t) \\\\\n",
        "\\ddot z(t)\n",
        "\\end{bmatrix}\n",
        "\\label{eq_accderiv2}\n",
        "\\end{equation}\n",
        "</span>"
      ]
    },
    {
      "cell_type": "markdown",
      "metadata": {
        "id": "5KQj-kJ3DnI-"
      },
      "source": [
        "For curiosity, see [Notation for differentiation](https://en.wikipedia.org/wiki/Notation_for_differentiation) on the origin of the different notations for differentiation.\n",
        "\n",
        "When the base versors change in time, for instance when the basis is attached to a rotating frame or reference, the components of the vector’s derivative is not the derivatives of its components; we will also have to consider the derivative of the basis with respect to time."
      ]
    },
    {
      "cell_type": "markdown",
      "metadata": {
        "id": "ozi7lb-oDnI_"
      },
      "source": [
        "## The antiderivative\n",
        "\n",
        "As the acceleration is the derivative of the velocity which is the derivative of position, the inverse mathematical operation is the [antiderivative](http://en.wikipedia.org/wiki/Antiderivative) (or integral):\n",
        "\n",
        "<span class=\"notranslate\">\n",
        "\\begin{equation} \n",
        "\\begin{array}{l l}\n",
        "\\mathbf{r}(t) = \\mathbf{r}_0 + \\int \\mathbf{v}(t) \\:\\mathrm{d}t \\\\\n",
        "\\mathbf{v}(t) = \\mathbf{v}_0 + \\int \\mathbf{a}(t) \\:\\mathrm{d}t \n",
        "\\end{array}\n",
        "\\label{eq_antiderivative}\n",
        "\\end{equation}\n",
        "</span>"
      ]
    },
    {
      "cell_type": "markdown",
      "metadata": {
        "id": "vqEhK3toDnI_"
      },
      "source": [
        "## Some cases of motion of a particle\n",
        "\n",
        "To deduce some trivial cases of motion of a particle (at rest, at constant speed, and at constant acceleration), we can start from the equation for its position and differentiate it to obtain expressions for the velocity and acceleration or the inverse approach, start with the equation for acceleration, and then integrate it to obtain the velocity and position of the particle. Both approachs are valid in Mechanics. For the present case, it probaly makes more sense to start with the expression for acceleration.\n",
        "\n",
        "#### Particle at rest\n",
        "\n",
        "<span class=\"notranslate\">\n",
        "\\begin{equation} \n",
        "\\begin{array}{l l}\n",
        "\\overrightarrow{\\mathbf{a}}(t) = 0 \\\\\n",
        "\\overrightarrow{\\mathbf{v}}(t) = 0 \\\\\n",
        "\\overrightarrow{\\mathbf{r}}(t) = \\overrightarrow{\\mathbf{r}}_0\n",
        "\\end{array}\n",
        "\\label{eq_rest}\n",
        "\\end{equation}\n",
        "</span>"
      ]
    },
    {
      "cell_type": "markdown",
      "metadata": {
        "id": "A2CDyS05DnI_"
      },
      "source": [
        "#### Particle at constant speed\n",
        "\n",
        "<span class=\"notranslate\">\n",
        "\\begin{equation} \n",
        "\\begin{array}{l l}\n",
        "\\overrightarrow{\\mathbf{a}}(t) = 0 \\\\\n",
        "\\overrightarrow{\\mathbf{v}}(t) = \\overrightarrow{\\mathbf{v}}_0 \\\\\n",
        "\\overrightarrow{\\mathbf{r}}(t) = \\overrightarrow{\\mathbf{r}}_0 + \\overrightarrow{\\mathbf{v}}_0t\n",
        "\\end{array}\n",
        "\\label{eq_constantspeed}\n",
        "\\end{equation}\n",
        "</span>"
      ]
    },
    {
      "cell_type": "markdown",
      "metadata": {
        "id": "HklnapTXDnJA"
      },
      "source": [
        "#### Particle at constant acceleration\n",
        "\n",
        "<span class=\"notranslate\">\n",
        "\\begin{equation} \n",
        "\\begin{array}{l l}\n",
        "\\overrightarrow{\\mathbf{a}}(t) = \\overrightarrow{\\mathbf{a}}_0 \\\\\n",
        "\\overrightarrow{\\mathbf{v}}(t) = \\overrightarrow{\\mathbf{v}}_0 + \\overrightarrow{\\mathbf{a}}_0t \\\\\n",
        "\\overrightarrow{\\mathbf{r}}(t) = \\overrightarrow{\\mathbf{r}}_0 + \\overrightarrow{\\mathbf{v}}_0t + \n",
        "\\frac{1}{2}\\overrightarrow{\\mathbf{a}}_0 t^2 \n",
        "\\end{array}\n",
        "\\label{eq_constantacceleration}\n",
        "\\end{equation}\n",
        "</span>"
      ]
    },
    {
      "cell_type": "markdown",
      "metadata": {
        "id": "qoJu_CDlDnJA"
      },
      "source": [
        "### Values for the mechanical quantities"
      ]
    },
    {
      "cell_type": "code",
      "execution_count": 3,
      "metadata": {
        "ExecuteTime": {
          "end_time": "2021-10-16T00:12:09.878569Z",
          "start_time": "2021-10-16T00:12:09.875239Z"
        },
        "id": "zg77xmo-DnJA",
        "outputId": "89bd1ce1-1daf-4292-8840-87dcc5bc0efd",
        "colab": {
          "base_uri": "https://localhost:8080/"
        }
      },
      "outputs": [
        {
          "output_type": "stream",
          "name": "stdout",
          "text": [
            "t: [0.   0.02 0.04 0.06 0.08 0.1  0.12 0.14 0.16 0.18 0.2  0.22 0.24 0.26\n",
            " 0.28 0.3  0.32 0.34 0.36 0.38 0.4  0.42 0.44 0.46 0.48 0.5  0.52 0.54\n",
            " 0.56 0.58 0.6  0.62 0.64 0.66 0.68 0.7  0.72 0.74 0.76 0.78 0.8  0.82\n",
            " 0.84 0.86 0.88 0.9  0.92 0.94 0.96 0.98 1.   1.02 1.04 1.06 1.08 1.1\n",
            " 1.12 1.14 1.16 1.18 1.2  1.22 1.24 1.26 1.28 1.3  1.32 1.34 1.36 1.38\n",
            " 1.4  1.42 1.44 1.46 1.48 1.5  1.52 1.54 1.56 1.58 1.6  1.62 1.64 1.66\n",
            " 1.68 1.7  1.72 1.74 1.76 1.78 1.8  1.82 1.84 1.86 1.88 1.9  1.92 1.94\n",
            " 1.96 1.98 2.  ]\n",
            "r: [ 1.      1.0408  1.0832  1.1272  1.1728  1.22    1.2688  1.3192  1.3712\n",
            "  1.4248  1.48    1.5368  1.5952  1.6552  1.7168  1.78    1.8448  1.9112\n",
            "  1.9792  2.0488  2.12    2.1928  2.2672  2.3432  2.4208  2.5     2.5808\n",
            "  2.6632  2.7472  2.8328  2.92    3.0088  3.0992  3.1912  3.2848  3.38\n",
            "  3.4768  3.5752  3.6752  3.7768  3.88    3.9848  4.0912  4.1992  4.3088\n",
            "  4.42    4.5328  4.6472  4.7632  4.8808  5.      5.1208  5.2432  5.3672\n",
            "  5.4928  5.62    5.7488  5.8792  6.0112  6.1448  6.28    6.4168  6.5552\n",
            "  6.6952  6.8368  6.98    7.1248  7.2712  7.4192  7.5688  7.72    7.8728\n",
            "  8.0272  8.1832  8.3408  8.5     8.6608  8.8232  8.9872  9.1528  9.32\n",
            "  9.4888  9.6592  9.8312 10.0048 10.18   10.3568 10.5352 10.7152 10.8968\n",
            " 11.08   11.2648 11.4512 11.6392 11.8288 12.02   12.2128 12.4072 12.6032\n",
            " 12.8008 13.    ]\n"
          ]
        }
      ],
      "source": [
        "t = np.linspace(0, 2, 101)\n",
        "print('t:', t)\n",
        "\n",
        "r0 = 1\n",
        "v0 = 2\n",
        "a0 = 4\n",
        "r = r0 + v0*t + 1/2*a0*t**2\n",
        "print('r:', r)"
      ]
    },
    {
      "cell_type": "markdown",
      "metadata": {
        "id": "7IhewV2PDnJB"
      },
      "source": [
        "### Visual representation of these cases"
      ]
    },
    {
      "cell_type": "code",
      "execution_count": 4,
      "metadata": {
        "ExecuteTime": {
          "end_time": "2021-10-16T00:13:05.314319Z",
          "start_time": "2021-10-16T00:13:05.227480Z"
        },
        "id": "swkO6jogDnJB",
        "outputId": "d8f53b9c-067e-433c-e119-36ec69858343",
        "colab": {
          "base_uri": "https://localhost:8080/",
          "height": 265
        }
      },
      "outputs": [
        {
          "output_type": "display_data",
          "data": {
            "text/plain": [
              "<Figure size 432x288 with 1 Axes>"
            ],
            "image/png": "[encoded data removed]"
          },
          "metadata": {
            "needs_background": "light"
          }
        }
      ],
      "source": [
        "# a simple plot\n",
        "plt.plot(t, r);"
      ]
    },
    {
      "cell_type": "code",
      "execution_count": 5,
      "metadata": {
        "ExecuteTime": {
          "end_time": "2021-10-16T00:12:10.063562Z",
          "start_time": "2021-10-16T00:12:10.063554Z"
        },
        "id": "ftS4MfqRDnJC",
        "outputId": "54f6f152-6c76-4189-8437-4e2082b2e675",
        "colab": {
          "base_uri": "https://localhost:8080/",
          "height": 497
        }
      },
      "outputs": [
        {
          "output_type": "display_data",
          "data": {
            "text/plain": [
              "<Figure size 1008x504 with 9 Axes>"
            ],
            "image/png": "[encoded data removed]"
          },
          "metadata": {
            "needs_background": "light"
          }
        }
      ],
      "source": [
        "# a more decorated plot\n",
        "plt.rc('axes',  labelsize=14,  titlesize=14) \n",
        "plt.rc('xtick', labelsize=10)\n",
        "plt.rc('ytick', labelsize=10) \n",
        "f, axarr = plt.subplots(3, 3, sharex = True, sharey = True, figsize=(14,7))\n",
        "plt.suptitle('Scalar kinematics of a particle', fontsize=20);\n",
        "\n",
        "tones = np.ones(np.size(t))\n",
        "\n",
        "axarr[0, 0].set_title('at rest', fontsize=14);\n",
        "axarr[0, 0].plot(t, r0*tones, 'g', linewidth=4, label='$r(t)=1$')\n",
        "axarr[1, 0].plot(t,  0*tones, 'b', linewidth=4, label='$v(t)=0$')\n",
        "axarr[2, 0].plot(t,  0*tones, 'r', linewidth=4, label='$a(t)=0$')\n",
        "axarr[0, 0].set_ylabel('r(t) [m]')\n",
        "axarr[1, 0].set_ylabel('v(t) [m/s]')\n",
        "axarr[2, 0].set_ylabel('a(t) [m/s$^2$]')\n",
        "\n",
        "axarr[0, 1].set_title('at constant speed');\n",
        "axarr[0, 1].plot(t, r0*tones+v0*t, 'g', linewidth=4, label='$r(t)=1+2t$')\n",
        "axarr[1, 1].plot(t, v0*tones,      'b', linewidth=4, label='$v(t)=2$')\n",
        "axarr[2, 1].plot(t,  0*tones,      'r', linewidth=4, label='$a(t)=0$')\n",
        "\n",
        "axarr[0, 2].set_title('at constant acceleration');\n",
        "axarr[0, 2].plot(t, r0*tones+v0*t+1/2.*a0*t**2,'g', linewidth=4,\n",
        "                 label='$r(t)=1+2t+\\\\frac{1}{2}4t^2$')\n",
        "axarr[1, 2].plot(t, v0*tones+a0*t,             'b', linewidth=4,\n",
        "                 label='$v(t)=2+4t$')\n",
        "axarr[2, 2].plot(t, a0*tones,                  'r', linewidth=4,\n",
        "                 label='$a(t)=4$')\n",
        "\n",
        "for i in range(3): \n",
        "    axarr[2, i].set_xlabel('Time [s]');\n",
        "    for j in range(3):\n",
        "        axarr[i,j].set_ylim((-.2, 10))\n",
        "        axarr[i,j].legend(loc = 'upper left', frameon=True, framealpha = 0.9, fontsize=14)\n",
        "        \n",
        "plt.subplots_adjust(hspace=0.09, wspace=0.07)"
      ]
    },
    {
      "cell_type": "markdown",
      "metadata": {
        "id": "etd7IGRJDnJC"
      },
      "source": [
        "## Symbolic programming\n",
        "\n",
        "We can use [Sympy](http://www.sympy.org/en/index.html), a Python library for symbolic mathematics, to deduce the expressions for the cases of motion of a particle we just visualized.  \n",
        "Let's show how to integrate with Sympy for the case of particle with constant acceleration:"
      ]
    },
    {
      "cell_type": "code",
      "execution_count": null,
      "metadata": {
        "ExecuteTime": {
          "end_time": "2021-10-16T00:12:10.396031Z",
          "start_time": "2021-10-16T00:12:10.179336Z"
        },
        "id": "Cda9l5jXDnJC"
      },
      "outputs": [],
      "source": [
        "import sympy as sym\n",
        "sym.init_printing(use_latex='mathjax')  # print pretty symbols\n",
        "\n",
        "t = sym.symbols('t', real=True)\n",
        "r0, v0, a0 = sym.symbols('r0, v0, a0', real=True, constant=True)"
      ]
    },
    {
      "cell_type": "code",
      "execution_count": null,
      "metadata": {
        "ExecuteTime": {
          "end_time": "2021-10-16T00:12:10.530627Z",
          "start_time": "2021-10-16T00:12:10.397043Z"
        },
        "id": "VNAyl0DoDnJD",
        "outputId": "97db626a-cfbe-4e3d-f2b2-e20c6a6b5566"
      },
      "outputs": [
        {
          "data": {
            "text/latex": [
              "$\\displaystyle a_{0} t + v_{0}$"
            ],
            "text/plain": [
              "a₀⋅t + v₀"
            ]
          },
          "execution_count": 67,
          "metadata": {},
          "output_type": "execute_result"
        }
      ],
      "source": [
        "v = sym.integrate(a0, t) + v0  # a constant has to be added\n",
        "v"
      ]
    },
    {
      "cell_type": "code",
      "execution_count": null,
      "metadata": {
        "ExecuteTime": {
          "end_time": "2021-10-16T00:12:10.540922Z",
          "start_time": "2021-10-16T00:12:10.534677Z"
        },
        "id": "aVJrwFSODnJD",
        "outputId": "dccc2f9b-c5f8-48dc-87b8-e4061c0f6e20"
      },
      "outputs": [
        {
          "data": {
            "text/latex": [
              "$\\displaystyle \\frac{a_{0} t^{2}}{2} + r_{0} + t v_{0}$"
            ],
            "text/plain": [
              "    2            \n",
              "a₀⋅t             \n",
              "───── + r₀ + t⋅v₀\n",
              "  2              "
            ]
          },
          "execution_count": 68,
          "metadata": {},
          "output_type": "execute_result"
        }
      ],
      "source": [
        "r = sym.integrate(v, t) + r0  # a constant has to be added\n",
        "r"
      ]
    },
    {
      "cell_type": "markdown",
      "metadata": {
        "id": "o7ey6LtjDnJD"
      },
      "source": [
        "We can also plot a symbolic expression in a given range after we substitute the symbolic variables with numbers:"
      ]
    },
    {
      "cell_type": "code",
      "execution_count": null,
      "metadata": {
        "id": "uyHPWpYDDnJD",
        "outputId": "a48024d4-9c1b-4251-b965-e290a220bc54"
      },
      "outputs": [
        {
          "data": {
            "image/png": "[encoded data removed]",
            "text/plain": [
              "<Figure size 500x300 with 1 Axes>"
            ]
          },
          "metadata": {},
          "output_type": "display_data"
        }
      ],
      "source": [
        "from sympy.plotting import plot\n",
        "\n",
        "r_n = r.subs({r0:1, v0:2, a0:4})  # r0=1 ... does not work!\n",
        "\n",
        "plot(r_n, (t, 0, 2), xlim=(0, 2), ylim=(0, 10), axis_center=(0, 0), line_color='g',\n",
        "     xlabel='Time [s]', ylabel='r(t) [m]', legend=True,\n",
        "     title='Scalar kinematics of a particle at constant acceleration',\n",
        "     backend='matplotlib', size=(5, 3));"
      ]
    },
    {
      "cell_type": "markdown",
      "metadata": {
        "id": "3-YPLaU_DnJD"
      },
      "source": [
        "## Kinematics of human movement"
      ]
    },
    {
      "cell_type": "markdown",
      "metadata": {
        "id": "PjIoDB4zDnJE"
      },
      "source": [
        "### Kinematics of the 100-m race\n",
        "\n",
        "An example where the analysis of some aspects of the human body movement can be reduced to the analysis of a particle is the study of the Biomechanics of the 100-m race. \n",
        "\n",
        "A technical report with the kinematic data for the 100-m world record by Usain Bolt can be downloaded from the [website for Research Projects](http://www.iaaf.org/development/research) from the International Association of Athletics Federations.  \n",
        "[Here is a direct link for that report](http://www.iaaf.org/download/download?filename=76ade5f9-75a0-4fda-b9bf-1b30be6f60d2.pdf&urlSlug=1-biomechanics-report-wc-berlin-2009-sprint). In particular, the following table shows the data for the three medalists in that race:  \n",
        "<br>\n",
        "<figure><img src=\"https://github.com/BMClab/BMC/blob/master/images/Berlin2009_100m.png?raw=1\" width=700 alt=\"partial times of the 100m-race at Berlin 2009\"/><figcaption><center><i>Figure. Data from the three medalists of the 100-m dash in Berlin, 2009 (<a href=\"http://www.iaaf.org/download/download?filename=76ade5f9-75a0-4fda-b9bf-1b30be6f60d2.pdf&urlSlug=1-biomechanics-report-wc-berlin-2009-sprint)\">IAAF report</a>).</i></center></figcaption></figure>\n",
        "\n",
        "The column **RT** in the table above refers to the reaction time of each athlete. The IAAF has a very strict rule about reaction time: any athlete with a reaction time less than 100 ms is disqualified from the competition! See the website [Reaction Times and Sprint False Starts](http://condellpark.com/kd/reactiontime.htm) for a discussion about this rule.\n",
        "\n",
        "You can measure your own reaction time in a simple way visiting this website: [http://www.humanbenchmark.com/tests/reactiontime](http://www.humanbenchmark.com/tests/reactiontime).\n",
        "\n",
        "The article [A Kinematics Analysis Of Three Best 100 M Performances Ever](http://www.ncbi.nlm.nih.gov/pmc/articles/PMC3661886/) by Krzysztof and Mero presents a detailed kinematic analysis of 100-m races.  "
      ]
    },
    {
      "cell_type": "markdown",
      "metadata": {
        "id": "F2i-uf2-DnJE"
      },
      "source": [
        "## More examples\n",
        "\n",
        " - If you have access to the Rade's book, study the examples 1.3, 1.5 and 1.7.  \n",
        " - From Ruina's book, study the samples 12.2 and 12.3."
      ]
    },
    {
      "cell_type": "markdown",
      "metadata": {
        "id": "RxCzkwMmDnJE"
      },
      "source": [
        "## Further reading\n",
        "\n",
        " - Read the preface and first chapter of the [Ruina and Rudra's book](http://ruina.tam.cornell.edu/Book/index.html) about how someone should study Mechanics.  \n",
        " - See the notebook [Spatial and temporal characteristics](http://nbviewer.jupyter.org/github/demotu/BMC/blob/master/notebooks/SpatialTemporalCharacteristcs.ipynb) about how the simple measurement of spatial and temporal kinematic variables can be very useful to describe the human gait.  \n",
        " - See the notebook [The minimum jerk hypothesis](http://nbviewer.jupyter.org/github/demotu/BMC/blob/master/notebooks/MinimumJerkHypothesis.ipynb) about the conjecture that movements are performed (organized) with the smoothest trajectory possible.  "
      ]
    },
    {
      "cell_type": "markdown",
      "metadata": {
        "id": "kdSzIYg9DnJE"
      },
      "source": [
        "## Video lectures on the Internet\n",
        "\n",
        " - Khan Academy: [One-dimensional motion](https://www.khanacademy.org/science/ap-physics-1/ap-one-dimensional-motion)  \n",
        " - [Powers of 10, Units, Dimensions, Uncertainties, Scaling Arguments](https://youtu.be/GtOGurrUPmQ)  \n",
        " - [1D Kinematics - Speed, Velocity, Acceleration](https://youtu.be/q9IWoQ199_o)  "
      ]
    },
    {
      "cell_type": "markdown",
      "metadata": {
        "id": "2W_A-TVQDnJF"
      },
      "source": [
        "## Problems\n",
        "\n",
        "1. Answer the 12 questions of the [Khan Academy's test on one-dimensional motion](https://www.khanacademy.org/science/ap-physics-1/ap-one-dimensional-motion/test/ap-one-dimensional-motion-unit-test?modal=1).  \n",
        "\n",
        "2. Consider the data for the three medalists of the 100-m dash in Berlin, 2009, shown previously.  \n",
        "   a. Calculate the average velocity and acceleration.   \n",
        "   b. Plot the graphs for the displacement, velocity, and acceleration versus time.   \n",
        "   c. Plot the graphs velocity and acceleration versus partial distance (every 20m).   \n",
        "   d. Calculate the average velocity and average acceleration and the instants and values of the peak velocity and peak acceleration.  \n",
        "\n",
        "3. The article \"Biomechanical Analysis of the Sprint and Hurdles Events at the 2009 IAAF World Championships in Athletics\" by Graubner and Nixdorf lists the 10-m split times for the three medalists of the 100-m dash in Berlin, 2009 and is shown below.  \n",
        "   a. Repeat the same calculations performed in problem 2 and compare the results. \n",
        "<br>\n",
        "<figure><img src=\"https://github.com/BMClab/BMC/blob/master/images/Berlin2009_100m_10.png?raw=1\" width=600 alt=\"partial times of the 100m-race at Berlin 2009\"/></figure>  \n",
        "<br>   \n",
        "\n",
        "4. On an Olympic athletics track, runners A and B start running from the same position on the track, but in opposite directions. If $\\lVert v_A \\rVert=4$ m/s and $\\lVert v_B \\rVert=6$ m/s, how far from the starting line will the runners meet?\n",
        "\n",
        "5. A body attached to a spring has its position (in cm) described by the equation $x(t) = 2\\sin(4\\pi t + \\pi/4)$.   \n",
        "   a. Calculate the equation for the body velocity and acceleration.   \n",
        "   b. Plot the position, velocity, and acceleration in the interval [0, 1] s.\n",
        "   \n",
        "6. [Ex. 1.2, Rade's book] The rectilinear motion of a particle is given by $x(t) = –12t^3 + 15t^2 + 5t + 2$ [s; m]. Calculate:  \n",
        "   a. Velocity and acceleration of the particle as a function of time. Solution: $v(t)=-36t^2+30t+5$ [s; m/s], $a(t)=-72t+30$ [s; m/s2].  \n",
        "   b. Total distance traveled by the particle in the interval $0 \\leq t \\leq 4$ s. Solution: $\\Delta_{0-4}=524.02$m.  \n",
        "   c. Maximum value of the velocity module reached by the particle in the interval $0 \\leq t \\leq 4$ s. Solution: $\\lVert v_{max} \\rVert=451.0$m/s.  \n",
        "   d. Plots of the position, velocity and acceleration of the particle in the interval $0 \\leq t \\leq 4$ s. \n",
        "   \n",
        "7. [Ex. 1.4, Rade's book] A stone is released from the opening of a well, and the noise from its fall to the bottom is heard 4 seconds later. Knowing that the speed of sound in air is 340 m/s, determine the depth of the well. Solution: $h=70.55$m.  \n",
        "\n",
        "8. [Ex. 12.1.11 Ruina's book] The position of a particle is given by $\\overrightarrow{\\mathbf{r}}(t)=(t^2\\hat{\\mathbf{i}}+e^{t}\\hat{\\mathbf{j}})$.    \n",
        "    a. Calculate the velocity and acceleration of the particle as functions of time.   \n",
        "    b. Draw the path of the particle and show the vectors $\\overrightarrow{\\mathbf{v}}(t)$ and $\\overrightarrow{\\mathbf{a}}(t)$ at $t=1$s.\n",
        "\n",
        "9. Sometimes all we have access to is the image with plotted data that interests us. For example, the first figure shown in this Notebook contains velocity versus position data for Usain Bolt's 100m sprint at a much higher resolution than the numerical data shown here. If we want to access numerical data from an image, it is possible to extract this information using some software to automatically identify points of interest. If points cannot be extracted automatically, you may need to do it manually. The [WebPlotDigitizer](https://automeris.io/WebPlotDigitizer/) software is one such tool. Try using it to extract the data from the quoted figure. Note: it won't be easy; you may have to do this manually. Anyway, know that such a tool exists.\n",
        "\n",
        "10. There are some nice free software that can be used for the kinematic analysis of human motion. Some of them are: [Kinovea](http://www.kinovea.org/), [Tracker](http://www.cabrillo.edu/~dbrown/tracker/), and [SkillSpector](http://video4coach.com/index.php?option=com_content&task=view&id=13&Itemid=45). Visit their websites and explore these software to understand in which biomechanical applications they could be used.  "
      ]
    },
    {
      "cell_type": "markdown",
      "metadata": {
        "id": "hnjwWLMjDnJF"
      },
      "source": [
        "## References\n",
        "\n",
        "- Graubner R, Nixdorf E (2011) [Biomechanical Analysis of the Sprint and Hurdles Events at the 2009 IAAF World Championships in Athletics ](http://www.meathathletics.ie/devathletes/pdf/Biomechanics%20of%20Sprints.pdf). [New Studies in Athletics](http://www.iaaf.org/development/new-studies-in-athletics), 1/2, 19-53.\n",
        "- Krzysztof M, Antti Mero A (2013) [A Kinematics Analysis Of Three Best 100 M Performances Ever](http://www.ncbi.nlm.nih.gov/pmc/articles/PMC3661886/). Journal of Human Kinetics, 36, 149–160.\n",
        "- [Research Projects](http://www.iaaf.org/development/research) from the International Association of Athletics Federations.  \n",
        "- Rade D (2017) [Cinemática e Dinâmica para Engenharia](https://www.grupogen.com.br/e-book-cinematica-e-dinamica-para-engenharia). Grupo GEN.\n",
        "- Ruina A, Rudra P (2019) [Introduction to Statics and Dynamics](http://ruina.tam.cornell.edu/Book/index.html). Oxford University Press.  "
      ]
    }
  ],
  "metadata": {
    "anaconda-cloud": {},
    "hide_input": false,
    "kernelspec": {
      "display_name": "Python 3 (ipykernel)",
      "language": "python",
      "name": "python3"
    },
    "language_info": {
      "codemirror_mode": {
        "name": "ipython",
        "version": 3
      },
      "file_extension": ".py",
      "mimetype": "text/x-python",
      "name": "python",
      "nbconvert_exporter": "python",
      "pygments_lexer": "ipython3",
      "version": "3.9.13"
    },
    "latex_envs": {
      "LaTeX_envs_menu_present": true,
      "autoclose": false,
      "autocomplete": true,
      "bibliofile": "biblio.bib",
      "cite_by": "apalike",
      "current_citInitial": 1,
      "eqLabelWithNumbers": true,
      "eqNumInitial": 1,
      "hotkeys": {
        "equation": "Ctrl-E",
        "itemize": "Ctrl-I"
      },
      "labels_anchors": false,
      "latex_user_defs": false,
      "report_style_numbering": false,
      "user_envs_cfg": false
    },
    "nbTranslate": {
      "displayLangs": [
        "*"
      ],
      "hotkey": "alt-t",
      "langInMainMenu": true,
      "sourceLang": "en",
      "targetLang": "fr",
      "useGoogleTranslate": true
    },
    "toc": {
      "base_numbering": 1,
      "nav_menu": {},
      "number_sections": true,
      "sideBar": true,
      "skip_h1_title": true,
      "title_cell": "Contents",
      "title_sidebar": "Contents",
      "toc_cell": true,
      "toc_position": {},
      "toc_section_display": true,
      "toc_window_display": false
    },
    "varInspector": {
      "cols": {
        "lenName": 16,
        "lenType": 16,
        "lenVar": 40
      },
      "kernels_config": {
        "python": {
          "delete_cmd_postfix": "",
          "delete_cmd_prefix": "del ",
          "library": "var_list.py",
          "varRefreshCmd": "print(var_dic_list())"
        },
        "r": {
          "delete_cmd_postfix": ") ",
          "delete_cmd_prefix": "rm(",
          "library": "var_list.r",
          "varRefreshCmd": "cat(var_dic_list()) "
        }
      },
      "types_to_exclude": [
        "module",
        "function",
        "builtin_function_or_method",
        "instance",
        "_Feature"
      ],
      "window_display": false
    },
    "colab": {
      "provenance": []
    }
  },
  "nbformat": 4,
  "nbformat_minor": 0
}