{
 "cells": [
  {
   "cell_type": "markdown",
   "metadata": {},
   "source": [
    "# Lagrangian mechanics\n",
    "\n",
    "> Marcos Duarte  \n",
    "> [Laboratory of Biomechanics and Motor Control](http://pesquisa.ufabc.edu.br/bmclab)  \n",
    "> Federal University of ABC, Brazil"
   ]
  },
  {
   "cell_type": "markdown",
   "metadata": {},
   "source": [
    "## The development of the laws of motion of bodies \n",
    "\n",
    "> \"The theoretical development of the laws of motion of bodies is a problem of such interest and importance that it has engaged the attention of all the most eminent mathematicians since the invention of dynamics as a mathematical science by Galileo, and especially since the wonderful extension which was given to that science by Newton.  \n",
    "> Among the successors of those illustrious men, Lagrange has perhaps done more than any other analyst to give extent and harmony to such deductive researches, by showing that the most varied consequences respecting the motions of systems of bodies may be derived from one radical formula; the beauty of the methods so suiting the dignity of the results as to make of his great work a kind of scientific poem.\"  \n",
    "&#8212; Hamilton, 1834 (apud Taylor, 2005).\n",
    "\n",
    "The [Lagrangian mechanics](https://en.wikipedia.org/wiki/Lagrangian_mechanics) is a formulation of [classical mechanics](https://en.wikipedia.org/wiki/Classical_mechanics) where the [equations of motion](https://en.wikipedia.org/wiki/Equations_of_motion) are obtained from the [kinetic](https://en.wikipedia.org/wiki/Kinetic_energy) and [potential](https://en.wikipedia.org/wiki/Potential_energy) energy of the system (<a href=\"https://en.wikipedia.org/wiki/Scalar_(physics)\">scalar</a> quantities) represented in [generalized coordinates](https://en.wikipedia.org/wiki/Generalized_coordinates) instead of using [Newton's laws of motion](https://en.wikipedia.org/wiki/Newton's_laws_of_motion) to deduce the equations of motion from the [forces](https://en.wikipedia.org/wiki/Force) on the system ([vector](https://en.wikipedia.org/wiki/Euclidean_vector) quantities) represented in [Cartesian coordinates](https://en.wikipedia.org/wiki/Cartesian_coordinate_system). Lagrangian mechanics was introduced by [Joseph-Louis Lagrange](https://en.wikipedia.org/wiki/Joseph-Louis_Lagrange) in the late 18th century.  \n",
    "\n",
    "Let's deduce the Lagrange equations, but first let's review the basics of the Newtonian approach."
   ]
  },
  {
   "cell_type": "markdown",
   "metadata": {},
   "source": [
    "## Review on description of motion \n",
    "\n",
    "One can describe the motion of a particle by specifying its position with respect to a frame of reference in the three-dimensional space as a function of time:\n",
    "\n",
    "\\begin{equation}\n",
    "x(t),\\, y(t),\\, z(t) \\quad \\equiv \\quad x_i(t) \\quad i=1,\\dotsc,3\n",
    "\\label{eq1}\n",
    "\\end{equation}\n",
    "\n",
    "A system of $N$ particles will require $3N$ equations to describe their motion.\n",
    "\n",
    "The basic problem in classical mechanics is to find ways to determine functions such as these, also known as equations of motion, capable of specifying the position of objects over time, for any mechanical situation. Assuming as known the meaning of $x_i(t)$, one can define the components of velocity, $v_i$, and acceleration, $a_i$, at time $t$, as:\n",
    "\n",
    "\\begin{equation} \\begin{array}{rcl}\n",
    "v_i(t) = \\dfrac{\\mathrm d x_i(t)}{\\mathrm d t} = \\dot{x}_i(t) \\\\\n",
    "a_i(t) = \\dfrac{\\mathrm d^2 x_i(t)}{\\mathrm d t^2} = \\dot{v}_i(t)\n",
    "\\label{eq3}\n",
    "\\end{array} \\end{equation}\n",
    "\n",
    "Where we used the Newton's notation for differentiation (also called the dot notation), a dot over the dependent variable. Of note, [Joseph Louis Lagrange](https://pt.wikipedia.org/wiki/Joseph-Louis_Lagrange) introduced the prime mark to denote a derivative: $x'(t)$. Read more about the different notations for differentiation at [Wikipedia](https://en.wikipedia.org/wiki/Notation_for_differentiation).  "
   ]
  },
  {
   "cell_type": "markdown",
   "metadata": {},
   "source": [
    "### Laws of motion\n",
    "\n",
    "The [Newton's laws of motion](https://en.wikipedia.org/wiki/Newton's_laws_of_motion) laid the foundation for classical mechanics. They describe the relationship between the motion of a body and the possible forces acting upon it.\n",
    "\n",
    "In Newtonian mechanics, the body's linear momentum is defined as:\n",
    " \n",
    "\\begin{equation}\n",
    "\\mathbf{p} = m\\mathbf{v}\n",
    "\\label{eq5}\n",
    "\\end{equation}\n",
    "\n",
    "If the mass of the body is constant, remember that Newton's second law can be expressed by:\n",
    "\n",
    "\\begin{equation}\n",
    "\\mathbf{F} = \\frac{\\mathrm d \\mathbf{p}}{\\mathrm d t}=\\frac{\\mathrm d \\big(m\\mathbf{v}\\big)}{\\mathrm d t} = m\\mathbf{a}\n",
    "\\label{eq6}\n",
    "\\end{equation}\n",
    "\n",
    "Using Newton's second law, to determine the position of the body we will have to solve the following second order ordinary differential equation:\n",
    "\n",
    "\\begin{equation}\n",
    "\\frac{\\mathrm d^2 x_i(t)}{\\mathrm d t^2} = \\frac{\\mathbf{F}}{m}\n",
    "\\label{eqa7}\n",
    "\\end{equation}\n",
    "\n",
    "Which has the general solution:\n",
    "\n",
    "\\begin{equation}\n",
    "\\mathbf{x}(t) = \\int\\!\\bigg(\\int\\frac{\\mathbf{F}}{m} \\mathrm{d}t\\bigg)\\mathrm{d}t\n",
    "\\label{eq8}\n",
    "\\end{equation}"
   ]
  },
  {
   "cell_type": "markdown",
   "metadata": {},
   "source": [
    "### Mechanical energy\n",
    "\n",
    "A related physical quantity is the mechanical energy, which is the sum of kinetic and potential energies.  \n",
    "The kinetic energy, $T$ of a particle is given by:\n",
    "\n",
    "\\begin{equation}\n",
    "T = \\frac{1}{2}mv^2\n",
    "\\label{eq9}\n",
    "\\end{equation}\n",
    "\n",
    "The kinetic energy of a particle can be expressed in terms of its linear momentum:\n",
    "\n",
    "\\begin{equation}\n",
    "T = \\frac{p^2}{2m}\n",
    "\\label{eq10}\n",
    "\\end{equation}\n",
    "\n",
    "And for a given coordinate of the particle's motion, its linear momentum can be obtained from its kinetic energy by:\n",
    "\n",
    "\\begin{equation}\n",
    "p_i = \\frac{\\partial T}{\\partial v_i}\n",
    "\\label{eq11}\n",
    "\\end{equation}\n",
    "\n",
    "The potential energy, $V$ is the stored energy of a particle and its formulation is dependent on the force acting on the particle. For example, for a conservative force dependent solely on the particle position, such as due to the gravitational field near the Earth  surface or due to a linear spring, force and potential energy are related by:\n",
    "\n",
    "\\begin{equation}\n",
    "\\mathbf{F} = - \\frac{\\partial \\mathbf{V}}{\\partial x}\n",
    "\\label{eq12}\n",
    "\\end{equation}"
   ]
  },
  {
   "cell_type": "markdown",
   "metadata": {},
   "source": [
    "## Lagrange's equation in Cartesian Coordinates\n",
    "\n",
    "The Lagrangian mechanics can be formulated independent of the Newtonian mechanics and Cartesian coordinates; in fact  Joseph-Louis Lagrange this new formalism from the [principle of least action](http://nbviewer.jupyter.org/github/BMClab/bmc/blob/master/notebooks/principle_of_least_action.ipynb).\n",
    "\n",
    "For simplicity, let's first deduce the Lagrange's equation for a particle in Cartesian Coordinates and from Newton's second law.\n",
    "\n",
    "Because we want to deduce the laws of motion based on the mechanical energy of the particle, one can see that the time derivative of the expression for the linear momentum as a function of the kinetic energy, cf. Eq. (\\ref{eq11}), is equal to the force acting on the particle and we can substitute the force in Newton's second law by this term:\n",
    "\n",
    "\\begin{equation} \n",
    "\\frac{\\mathrm d }{\\mathrm d t}\\bigg(\\frac{\\partial T}{\\partial \\dot x}\\bigg) = m\\ddot x \n",
    "\\label{eq13}\n",
    "\\end{equation}\n",
    "\n",
    "We saw that a conservative force can also be expressed in terms of the potential energy of the particle, cf. Eq. (\\ref{eq12}); substituting the right side of the equation above by this expression, we have:\n",
    "\n",
    "\\begin{equation} \n",
    "\\frac{\\mathrm d }{\\mathrm d t}\\bigg(\\frac{\\partial T}{\\partial \\dot x}\\bigg) = -\\frac{\\partial V}{\\partial x} \n",
    "\\label{eq14}\n",
    "\\end{equation}\n",
    "\n",
    "Using the fact that:\n",
    "\n",
    "\\begin{equation} \n",
    "\\frac{\\partial T}{\\partial x} = 0 \\quad and \\quad \\frac{\\partial V}{\\partial \\dot x} = 0 \n",
    "\\label{eq15}\n",
    "\\end{equation}\n",
    "\n",
    "We can write:\n",
    "\n",
    "\\begin{equation} \n",
    "\\frac{\\mathrm d }{\\mathrm d t}\\bigg(\\frac{\\partial (T-V)}{\\partial \\dot x}\\bigg) - \\frac{\\partial (T-V)}{\\partial x} = 0 \n",
    "\\label{eq16}\n",
    "\\end{equation}\n",
    "\n",
    "Defining the Lagrange or Lagrangian function, $\\mathcal{L}$, as the difference between the kinetic and potential energy in the system:\n",
    "\n",
    "\\begin{equation} \n",
    "\\mathcal{L}(x,\\dot x, t) = T - V \n",
    "\\label{eq17}\n",
    "\\end{equation}\n",
    "\n",
    "We have the Lagrange's equation in Cartesian Coordinates for a conservative force acting on a particle:\n",
    "\n",
    "\\begin{equation} \n",
    "\\frac{\\mathrm d }{\\mathrm d t}\\bigg(\\frac{\\partial \\mathcal{L}}{\\partial \\dot x}\\bigg) - \\frac{\\partial \\mathcal{L}}{\\partial x} = 0 \n",
    "\\label{eq18}\n",
    "\\end{equation}\n",
    "\n",
    "Once all derivatives of the Lagrangian function are calculated, this equation will be the equation of motion for the particle. If there are $N$ independent particles in a three-dimensional space, there will be $3N$ equations for the system.  \n",
    "The set of equations above for a system are known as Euler–Lagrange equations, or Lagrange's equations of the second kind.\n",
    "\n",
    "Let's see some simple examples of the Lagrange's equation in Cartesian Coordinates just to consolidate what was deduced above. The real application of Lagrangian mechanics is in generalized coordinates, what will see after these examples."
   ]
  },
  {
   "cell_type": "code",
   "execution_count": 1,
   "metadata": {
    "ExecuteTime": {
     "end_time": "2020-03-10T00:59:56.620558Z",
     "start_time": "2020-03-10T00:59:56.153651Z"
    }
   },
   "outputs": [],
   "source": [
    "# Set up the environment\n",
    "import numpy as np\n",
    "%matplotlib inline\n",
    "import matplotlib.pyplot as plt\n",
    "import seaborn as sns\n",
    "%matplotlib inline\n",
    "sns.set_context('notebook', font_scale=1.2, rc={\"lines.linewidth\": 2})"
   ]
  },
  {
   "cell_type": "markdown",
   "metadata": {},
   "source": [
    "### Example 1: Particle moving under the influence of a conservative force\n",
    "\n",
    "Let's deduce the equation of motion using the Lagrangian mechanics for a particle with mass $m$ moving in the 3D space under the influence of a [conservative force](https://en.wikipedia.org/wiki/Conservative_force).  \n",
    "The Lagrangian $(\\mathcal{L} = T - V)$ of the particle is:\n",
    "\n",
    "\\begin{equation} \n",
    "\\mathcal{L}(x,y,z,\\dot x,\\dot y,\\dot z, t) = \\frac{1}{2}m(\\dot x^2(t) + \\dot y^2(t) + \\dot z^2(t)) - V(x(t),y(t),z(t)) \n",
    "\\end{equation}\n",
    "\n",
    "The equations of motion for the particle are found by applying the Lagrange's equation for each coordinate. \n",
    "\n",
    "For the x coordinate:\n",
    "\n",
    "\\begin{equation} \n",
    "\\frac{\\mathrm d }{\\mathrm d t}\\left( {\\frac{\\partial \\mathcal{L}}{\\partial \\dot{x}}} \n",
    "\\right) = \\frac{\\partial \\mathcal{L}}{\\partial x } \n",
    "\\end{equation}\n",
    "\n",
    "And the derivatives of $\\mathcal{L}$ are given by:\n",
    "\n",
    "\\begin{equation} \\begin{array}{rcl}\n",
    "&\\dfrac{\\partial \\mathcal{L}}{\\partial x} &=& -\\dfrac{\\partial \\mathbf{V}}{\\partial x} \\\\\n",
    "&\\dfrac{\\partial \\mathcal{L}}{\\partial \\dot{x}} &=& m\\dot{x} \\\\\n",
    "&\\dfrac{\\mathrm d }{\\mathrm d t}\\left( {\\dfrac{\\partial \\mathcal{L}}{\\partial \\dot{x}}} \\right) &=& m\\ddot{x} \n",
    "\\end{array} \\end{equation}\n",
    "\n",
    "hence:\n",
    "\n",
    "\\begin{equation} \n",
    "m\\ddot{x} = -\\frac{\\partial \\mathbf{V}}{\\partial x} \n",
    "\\end{equation}\n",
    "\n",
    "and similarly for the $y$ and $z$ coordinates.\n",
    "\n",
    "For instance, if the conservative force is due to the gravitational field near Earth's surface $(\\mathbf{V}=[0, mgy, 0])$, the Lagrange's equations (the equations of motion) are:\n",
    "\n",
    "\\begin{equation} \\begin{array}{rcl}\n",
    "m\\ddot{x} &=& -\\dfrac{\\partial (0)}{\\partial x} = 0 \\\\\n",
    "m\\ddot{y} &=& -\\dfrac{\\partial (mgy)}{\\partial y} = -mg \\\\\n",
    "m\\ddot{z} &=& -\\dfrac{\\partial (0)}{\\partial z} = 0 \n",
    "\\end{array} \\end{equation}"
   ]
  },
  {
   "cell_type": "markdown",
   "metadata": {},
   "source": [
    "### Example 2: Ideal mass-spring system\n",
    "\n",
    "<figure><img src=\"./../images/massspring_lagrange.png\" width=\"220\" alt=\"mass spring\" style=\"float:right;margin: 0px 20px 10px 20px;\"/></figure>\n",
    "\n",
    "Consider a system with a mass $m$ attached to an ideal spring (massless) with spring constant $k$ at the horizontal direction $x$. If the system is perturbed (a force is momentarily applied to the mass), we know the mass will oscillate around the rest position of the spring. Let's deduce the equation of motion for this system using the Lagrangian mechanics.  \n",
    "The Lagrangian $(\\mathcal{L} = T - V)$ of the system is: \n",
    "\n",
    "\\begin{equation} \n",
    "\\mathcal{L}(x,\\dot x, t) = \\frac{1}{2}m\\dot x^2(t) - \\frac{1}{2}kx^2(t)\n",
    "\\end{equation}\n",
    "\n",
    "The derivatives of $L$ are given by:\n",
    "\n",
    "\\begin{equation} \\begin{array}{rcl}\n",
    "&\\dfrac{\\partial \\mathcal{L}}{\\partial x} &=& -kx \\\\\n",
    "&\\dfrac{\\partial \\mathcal{L}}{\\partial \\dot{x}} &=& m\\dot{x} \\\\\n",
    "&\\dfrac{\\mathrm d }{\\mathrm d t}\\left( {\\dfrac{\\partial \\mathcal{L}}{\\partial \\dot{x}}} \\right) &=& m\\ddot{x} \n",
    "\\end{array} \\end{equation}\n",
    "\n",
    "And the Lagrange's equation (the equation of motion) is:\n",
    "\n",
    "\\begin{equation}\n",
    "m\\ddot{x} + kx = 0\n",
    "\\end{equation}"
   ]
  },
  {
   "cell_type": "markdown",
   "metadata": {},
   "source": [
    "## Generalized coordinates\n",
    "\n",
    "The direct application of Newton's laws to mechanical systems results in a set of equations of motion in terms of Cartesian coordinates of each of the particles that make up the system. In many cases, this is not the most convenient coordinate system to solve the problem or describe the movement of the system. For example, in problems involving many particles, it may be convenient to choose a system that includes the coordinate of the center of mass. Another example is a serial chain of rigid links, such as a member of the human body or from a robot manipulator, it may be simpler to describe the positions of each link by the angles between links.  \n",
    "\n",
    "Coordinate systems such as these are referred as [generalized coordinates](https://en.wikipedia.org/wiki/Generalized_coordinates). Generalized coordinates uniquely specify the positions of the particles in a system. Although there may be several generalized coordinates to describe a system, usually a judicious choice of generalized coordinates provides the minimum number of independent coordinates that define the configuration of a system (which is the number of <a href=\"https://en.wikipedia.org/wiki/Degrees_of_freedom_(mechanics)\">degrees of freedom</a> of the system), turning the problem simpler to solve.  \n",
    "\n",
    "Being a little more technical, according to [Wikipedia](https://en.wikipedia.org/wiki/Configuration_space_(physics)):  \n",
    "\"In classical mechanics, the parameters that define the configuration of a system are called generalized coordinates, and the vector space defined by these coordinates is called the configuration space of the physical system. It is often the case that these parameters satisfy mathematical constraints, such that the set of actual configurations of the system is a manifold in the space of generalized coordinates. This manifold is called the configuration manifold of the system.\"\n",
    "\n",
    "In problems where it is desired to use generalized coordinates, one can write Newton's equations of motion in terms of Cartesian coordinates and then transform them into generalized coordinates. However, it would be desirable and convenient to have a general method that would directly establish the equations of motion in terms of a set of convenient generalized coordinates. In addition, general methods for writing, and perhaps solving, the equations of motion in terms of any coordinate system would also be desirable. The [Lagrangian mechanics](https://en.wikipedia.org/wiki/Lagrangian_mechanics) is such a method."
   ]
  },
  {
   "cell_type": "markdown",
   "metadata": {},
   "source": [
    "### Lagrange's equation in generalized coordinates\n",
    "\n",
    "We have deduced the Lagrange's equation in Cartesian Coordinates from the Newton's law just because it was a simple form of getting to the final equations. But, by no means the Lagrangian Mechanics should be viewed as a consequence of Newton's laws and specific to Cartesian Coordinates. The Lagrangian Mechanics could be deduced completely independent of Newton's law.  \n",
    "\n",
    "The Lagrange's equation can be expressed in terms of generalized coordinates what makes the Lagrangian formalism even more powerful. In fact, we will have the same equation as we deduced before (the only explicit difference will be that we will use $q_i$ instead of the Cartesian coordinate).  \n",
    "See [this notebook](http://nbviewer.jupyter.org/github/BMClab/bmc/blob/master/notebooks/lagrangian_mechanics_generalized.ipynb) for a deduction of the Lagrange's equation in generalized coordinates.\n",
    "\n",
    "Defining the Lagrange or Lagrangian function of a system with $N$ generalized coordinates:\n",
    "\n",
    "\\begin{equation} \n",
    "\\mathcal{L} \\equiv \\mathcal{L}(q_1,\\dotsc,q_{N} ,\\dot{q}_1,\\dotsc,\\dot{q}_{N} ) = T - V \n",
    "\\label{eq46}\n",
    "\\end{equation}\n",
    "\n",
    "We have the Lagrange's equation:\n",
    "\n",
    "\\begin{equation} \n",
    "\\frac{\\mathrm d }{\\mathrm d t}\\left( {\\frac{\\partial \\mathcal{L}}{\\partial \\dot{q}_i }} \n",
    "\\right)-\\frac{\\partial \\mathcal{L}}{\\partial q_i } = Q_{NCi} \\quad i=1,\\dotsc,N\n",
    "\\label{eq47}\n",
    "\\end{equation}\n",
    "\n",
    "Where $Q_{NCi}$ is the generalized force due to a non-conservative force, any force that can't be expressed in terms of a potential.  \n",
    "\n",
    "Once all derivatives of the Lagrangian function are calculated, this equation will be the equation of motion for each particle. If there are $N$ generalized coordinates to define the configuration of a system, there will be $N$ equations for the system.\n",
    "\n",
    "The set of equations above for a system are known as Euler–Lagrange equations, or Lagrange's equations of the second kind."
   ]
  },
  {
   "cell_type": "markdown",
   "metadata": {},
   "source": [
    "### Example 3: Simple pendulum under the influence of gravity\n",
    "\n",
    "<figure><img src=\"./../images/simplependulum_lagrange.png\" width=\"220\" alt=\"simple pendulum\" style=\"float:right;margin: 10px 50px 10px 50px;\"/></figure>\n",
    "\n",
    "Consider a pendulum with a massless rod of length $d$ and a mass $m$ at the extremity swinging in a plane forming the angle $\\theta$ with vertical, $g=10 m/s^2$ and the origin of the coordinate system at the point of the pendulum suspension.  \n",
    "\n",
    "Although the pendulum moves at the plane, it only has one degree of freedom, which can be described by the angle $\\theta$, the generalized coordinate. It is not difficult to find the equation of motion using Newton's law, but let's find it using the Lagrangian mechanics. \n",
    "\n",
    "The kinetic energy is:\n",
    "\n",
    "\\begin{equation}\n",
    "T = \\frac{1}{2}md^2\\dot\\theta^2\n",
    "\\end{equation}\n",
    "\n",
    "And the potential energy is:\n",
    "\n",
    "\\begin{equation}\n",
    "V = -mgd\\cos\\theta\n",
    "\\end{equation}\n",
    "\n",
    "The Lagrangian function is:\n",
    "\n",
    "\\begin{equation}\n",
    "\\mathcal{L}(\\theta, \\dot\\theta, t) = \\frac{1}{2}md^2\\dot\\theta^2(t) + mgd\\cos\\theta(t)\n",
    "\\end{equation}\n",
    "\n",
    "And the derivatives are given by:\n",
    "\n",
    "\\begin{equation} \\begin{array}{rcl}\n",
    "&\\dfrac{\\partial \\mathcal{L}}{\\partial \\theta} &=& -mgd\\sin\\theta \\\\\n",
    "&\\dfrac{\\partial \\mathcal{L}}{\\partial \\dot{\\theta}} &=& md^2\\dot{\\theta} \\\\\n",
    "&\\dfrac{\\mathrm d }{\\mathrm d t}\\left( {\\dfrac{\\partial \\mathcal{L}}{\\partial \\dot{\\theta}}} \\right) &=& md^2\\ddot{\\theta}\n",
    "\\end{array} \\end{equation}\n",
    "\n",
    "Finally, the Lagrange's equation (the equation of motion) is:\n",
    "\n",
    "\\begin{equation}\n",
    "md^2\\ddot\\theta + mgd\\sin\\theta = 0\n",
    "\\end{equation}"
   ]
  },
  {
   "cell_type": "markdown",
   "metadata": {},
   "source": [
    "#### Example 3a: Numerical solution of the equation of motion for the simple pendulum\n",
    "\n",
    "A classical approach to solve the equation of motion for the simple pendulum is to consider the motion for small angles where $\\sin\\theta \\approx \\theta$ and the differential equation is linearized to $d\\ddot\\theta + g\\theta = 0$. This equation has an analytical solution of the type $\\theta(t) = A \\sin(\\omega t + \\phi)$, where $\\omega = \\sqrt{g/d}$ and $A$ and $\\phi$ are constants related to the initial position and velocity.  \n",
    "Let's solve the differential equation for the pendulum numerically using the [Euler’s method](https://nbviewer.jupyter.org/github/demotu/BMC/blob/master/notebooks/OrdinaryDifferentialEquation.ipynb#Euler-method).  \n",
    "Remember that we have to (1) transform the second-order ODE into two coupled first-order ODEs, (2) approximate the derivative of each variable by its discrete first order difference and (3) write equation to calculate the variable in a recursive way, updating its value with an equation based on the first order difference.  \n",
    "In Python:  "
   ]
  },
  {
   "cell_type": "code",
   "execution_count": 2,
   "metadata": {
    "ExecuteTime": {
     "end_time": "2020-03-10T00:59:56.625820Z",
     "start_time": "2020-03-10T00:59:56.621808Z"
    }
   },
   "outputs": [],
   "source": [
    "def pendulum_euler(T, y0, v0, h):\n",
    "    \"\"\"\n",
    "    Two coupled first-order ODEs for the pendulum (y=theta and v is a new variable):\n",
    "        dydt = v\n",
    "        dvdt = -g/d * y\n",
    "    Two equations to update the values of the variables based on first-order difference:\n",
    "        y[n+1] = y[n] + h*v[n]\n",
    "        v[n+1] = v[n] + h*dvdt[n]\n",
    "    \"\"\"\n",
    "    \n",
    "    N = int(np.ceil(T/h))\n",
    "    y, v = np.zeros(N), np.zeros(N)\n",
    "    y[0], v[0] = y0, v0\n",
    "    d = 2    # length of the pendulum in m\n",
    "    g = 10   # acceleration of gravity in m/s2\n",
    "    \n",
    "    for i in range(N-1):\n",
    "        y[i+1] = y[i] + h*v[i]\n",
    "        v[i+1] = v[i] + h*(-g/d*y[i])\n",
    "    t = np.linspace(0, T, N, endpoint=False)\n",
    "        \n",
    "    return t, y, v"
   ]
  },
  {
   "cell_type": "code",
   "execution_count": 3,
   "metadata": {
    "ExecuteTime": {
     "end_time": "2020-03-10T00:59:56.630486Z",
     "start_time": "2020-03-10T00:59:56.627558Z"
    }
   },
   "outputs": [],
   "source": [
    "def plot(t, y, v):\n",
    "    \"\"\"\n",
    "    Plot data\n",
    "    \"\"\"\n",
    "    fig, ax = plt.subplots(1, 1, figsize=(8, 3))\n",
    "    ax.plot(t, y, 'b', label='Position')\n",
    "    ax.plot(t, v, 'r', label='Velocity')\n",
    "    ax.legend()\n",
    "    plt.show()"
   ]
  },
  {
   "cell_type": "code",
   "execution_count": 4,
   "metadata": {
    "ExecuteTime": {
     "end_time": "2020-03-10T00:59:56.798445Z",
     "start_time": "2020-03-10T00:59:56.631666Z"
    }
   },
   "outputs": [
    {
     "data": {
      "image/png": "[encoded data removed]",
      "text/plain": [
       "<Figure size 576x216 with 1 Axes>"
      ]
     },
     "metadata": {
      "needs_background": "light"
     },
     "output_type": "display_data"
    }
   ],
   "source": [
    "T, y0, v0, h = 10, 45*np.pi/180, 0, .001\n",
    "t, theta, vtheta = pendulum_euler(T, y0, v0, h)\n",
    "plot(t, theta, vtheta)"
   ]
  },
  {
   "cell_type": "markdown",
   "metadata": {},
   "source": [
    "### Example 4: Simple pendulum on moving cart\n",
    "\n",
    "<figure><img src=\"./../images/masspend_lagrange.png\" width=\"250\" alt=\"cart pendulum\" style=\"float:right;margin: 10px 50px 10px 50px;\"/></figure>\n",
    "\n",
    "Consider a simple pendulum with massless rod of length $d$ and mass $m$ at the extremity of the rod forming an angle $\\theta$ with the vertical direction under the action of gravity and $g=10 m/s^2$. The pendulum swings freely from a cart with mass $M$ that moves at the horizontal direction pushed by a force $F_x$.  \n",
    "Let's use the Lagrangian mechanics to derive the equations of motion for the system.\n",
    "\n",
    "From the figure on the right, because of the constraints introduced by the constant length of the rod and the motion the cart can perform, good generalized coordinates to describe the configuration of the system are $x$ and $\\theta$. Let's use these coordinates.\n",
    "\n",
    "The positions of the cart (c) and of the pendulum tip (p) are:  \n",
    "\n",
    "$ x_c = x $  \n",
    "$ y_c = 0 $  \n",
    " \n",
    "$ x_p = x + d \\sin \\theta $  \n",
    "$ y_p = -d \\cos \\theta $  \n",
    "\n",
    "The velocities of the cart and of the pendulum are:  \n",
    "\n",
    "$ \\dot{x}_c = \\dot{x} $  \n",
    "$ \\dot{y}_c = 0 $ \n",
    "\n",
    "$ \\dot{x}_p = \\dot{x} + d \\dot{\\theta} \\cos \\theta $  \n",
    "$ \\dot{y}_p = d \\dot{\\theta} \\sin \\theta $  \n",
    "\n",
    "The kinetic energy of the system is:\n",
    "\n",
    "\\begin{equation}\n",
    "T = \\frac{1}{2} M \\big(\\dot x_c^2 + \\dot y_c^2 \\big) + \\frac{1}{2}m\\,\\big( \\dot x_p^2 + \\dot y_p^2 \\big) \n",
    "\\end{equation}\n",
    "\n",
    "And the potential energy of the system is:\n",
    "\n",
    "\\begin{equation}\n",
    "V = M g y_c + m g y_p \n",
    "\\end{equation}\n",
    "\n",
    "The Lagrangian function is:\n",
    "\n",
    "\\begin{equation}\\begin{array}{rcl}\n",
    "\\mathcal{L} &=& \\frac{1}{2} M \\dot x^2 + \\frac{1}{2}m\\,\\bigg[ \\big(\\dot{x} + d \\dot{\\theta} \\cos\\theta \\big)^2 + \\big(d \\dot{\\theta} \\sin \\theta \\big)^2 \\bigg] + m g d \\cos \\theta \\\\\n",
    "&=& \\frac{1}{2} (M+m) \\dot x^2 + m\\dot{x}d\\dot{\\theta}\\cos\\theta + \\frac{1}{2}md^2\\dot{\\theta}^2 + m g d \\cos \\theta \n",
    "\\end{array}\\end{equation}\n",
    "\n",
    "The derivatives w.r.t. $x$ are:\n",
    "\n",
    "\\begin{equation}\\begin{array}{rcl}\n",
    "\\dfrac{\\partial \\mathcal{L}}{\\partial x} &=& 0 \\\\\n",
    "\\dfrac{\\partial \\mathcal{L}}{\\partial \\dot{x}} &=& (M+m) \\dot{x} + m d \\dot{\\theta} \\cos \\theta \\\\\n",
    "\\dfrac{\\mathrm d }{\\mathrm d t}\\left( {\\dfrac{\\partial \\mathcal{L}}{\\partial \\dot{x}}} \\right) &=& (M+m)\\ddot{x} + m d \\ddot{\\theta} \\cos \\theta - m d \\dot{\\theta}^2 \\sin \\theta\n",
    "\\end{array}\\end{equation}\n",
    "\n",
    "The derivatives w.r.t. $\\theta$ are:\n",
    "\n",
    "\\begin{equation}\\begin{array}{rcl}\n",
    "\\dfrac{\\partial \\mathcal{L}}{\\partial \\theta} &=& -m\\dot{x}d\\dot{\\theta}\\sin\\theta - mgd\\sin\\theta \\\\\n",
    "\\dfrac{\\partial \\mathcal{L}}{\\partial \\dot{\\theta}} &=& m\\dot{x}d\\cos\\theta + md^2\\dot{\\theta} \\\\\n",
    "\\dfrac{\\mathrm d }{\\mathrm d t}\\left( {\\dfrac{\\partial \\mathcal{L}}{\\partial \\dot{\\theta}}} \\right) &=& m\\ddot{x}d\\cos\\theta - m\\dot{x}d\\dot{\\theta}\\sin\\theta + md^2\\ddot{\\theta}\n",
    "\\end{array}\\end{equation}\n",
    "\n",
    "Finally, the Lagrange's equations (the equations of motion) are:\n",
    "\n",
    "\\begin{equation}\\begin{array}{rcl}\n",
    "(M+m)\\ddot{x} + md\\big(\\ddot{\\theta} \\cos\\theta - \\dot{\\theta}^2 \\sin\\theta\\big) = F_x \\\\\n",
    "\\ddot{\\theta} + \\dfrac{\\ddot{x}}{d}\\cos\\theta + \\dfrac{g}{d}\\sin\\theta = 0\n",
    "\\end{array}\\end{equation}"
   ]
  },
  {
   "cell_type": "markdown",
   "metadata": {},
   "source": [
    "[Clik here for solutions to this problem using the Newtonian and Lagrangian approaches and how this system of two coupled second order differential equations can be rearranged for its numerical solution](http://www.emomi.com/download/neumann/pendulum_cart.html)."
   ]
  },
  {
   "cell_type": "markdown",
   "metadata": {},
   "source": [
    "### Example 5: Double pendulum under the influence of gravity\n",
    "\n",
    "<figure><img src=\"./../images/doublependulum_lagrange.png\" width=\"200\" alt=\"double pendulum\" style=\"float:right;margin: 10px 50px 10px 50px;\"/></figure>\n",
    "\n",
    "Consider a double pendulum (one pendulum attached to another) with massless rods of length $d_1$ and $d_2$ and masses $m_1$ and $m_2$ at the extremities of each rod swinging in a plane forming the angles $\\theta_1$ and $\\theta_2$ with vertical and $g=10 m/s^2$.  \n",
    "This case could be solved using Newtonian mechanics, but it's not simple (e.g., see [this link](http://www.myphysicslab.com/pendulum/double-pendulum/double-pendulum-en.html)). Instead, let's use the Lagrangian mechanics to derive the equations of motion for each pendulum.  \n",
    "The system has two degrees of freedom and we need two generalized coordinates ($\\theta_1, \\theta_2$) to describe the system's configuration.\n",
    "\n",
    "The position of masses $m_1$ and $m_2$ are:  \n",
    "\n",
    "$x_1 = d_1\\sin\\theta_1$  \n",
    "$y_1 = -d_1\\cos\\theta_1$  \n",
    "\n",
    "$x_2 = d_1\\sin\\theta_1 + d_2\\sin\\theta_2$  \n",
    "$y_2 = -d_1\\cos\\theta_1 - d_2\\cos\\theta_2$  \n",
    "\n",
    "The kinetic and potential energies of the system are:\n",
    "\n",
    "$ T = \\frac{1}{2}m_1(\\dot x_1^2 + \\dot y_1^2) + \\frac{1}{2}m_2(\\dot x_2^2 + \\dot y_2^2) $\n",
    "\n",
    "$ V = m_1gy_1 + m_2gy_2 $\n",
    "\n",
    "Let's use Sympy to help us; in fact we could solve this problem entirely in Sympy, see [Lagrange’s method in Sympy](http://docs.sympy.org/latest/modules/physics/mechanics/lagrange.html), but for now let's do just the derivatives.  \n",
    "\n",
    "Let's import Sympy libraries and define some variables:"
   ]
  },
  {
   "cell_type": "code",
   "execution_count": 5,
   "metadata": {
    "ExecuteTime": {
     "end_time": "2020-03-10T00:59:57.200723Z",
     "start_time": "2020-03-10T00:59:56.799457Z"
    }
   },
   "outputs": [],
   "source": [
    "from sympy import Symbol, symbols, cos, sin, Matrix, simplify, Eq, latex, expand\n",
    "from sympy.physics.mechanics import dynamicsymbols, mlatex, init_vprinting\n",
    "init_vprinting()\n",
    "from IPython.display import display, Math\n",
    "\n",
    "t = Symbol('t')\n",
    "d1, d2, m1, m2, g = symbols('d1 d2 m1 m2 g', positive=True)\n",
    "a1, a2 = dynamicsymbols('theta1 theta2')"
   ]
  },
  {
   "cell_type": "markdown",
   "metadata": {},
   "source": [
    "The positions and velocities of masses $m_1$ and $m_2$ are: "
   ]
  },
  {
   "cell_type": "code",
   "execution_count": 6,
   "metadata": {
    "ExecuteTime": {
     "end_time": "2020-03-10T00:59:57.226044Z",
     "start_time": "2020-03-10T00:59:57.201671Z"
    }
   },
   "outputs": [
    {
     "data": {
      "text/latex": [
       "$\\displaystyle x_1=d_{1} \\operatorname{sin}\\left(\\theta_{1}\\right)\\quad \\text{and} \\quad \\dot{x}_1=d_{1} \\operatorname{cos}\\left(\\theta_{1}\\right) \\dot{\\theta}_{1}$"
      ],
      "text/plain": [
       "<IPython.core.display.Math object>"
      ]
     },
     "metadata": {},
     "output_type": "display_data"
    },
    {
     "data": {
      "text/latex": [
       "$\\displaystyle y_1=- d_{1} \\operatorname{cos}\\left(\\theta_{1}\\right)\\quad \\text{and} \\quad \\dot{y}_1=d_{1} \\operatorname{sin}\\left(\\theta_{1}\\right) \\dot{\\theta}_{1}$"
      ],
      "text/plain": [
       "<IPython.core.display.Math object>"
      ]
     },
     "metadata": {},
     "output_type": "display_data"
    },
    {
     "data": {
      "text/latex": [
       "$\\displaystyle x_2=d_{1} \\operatorname{sin}\\left(\\theta_{1}\\right) + d_{2} \\operatorname{sin}\\left(\\theta_{2}\\right)\\quad \\text{and} \\quad \\dot{x}_2=d_{1} \\operatorname{cos}\\left(\\theta_{1}\\right) \\dot{\\theta}_{1} + d_{2} \\operatorname{cos}\\left(\\theta_{2}\\right) \\dot{\\theta}_{2}$"
      ],
      "text/plain": [
       "<IPython.core.display.Math object>"
      ]
     },
     "metadata": {},
     "output_type": "display_data"
    },
    {
     "data": {
      "text/latex": [
       "$\\displaystyle y_2=- d_{1} \\operatorname{cos}\\left(\\theta_{1}\\right) - d_{2} \\operatorname{cos}\\left(\\theta_{2}\\right)\\quad \\text{and} \\quad \\dot{y}_2=d_{1} \\operatorname{sin}\\left(\\theta_{1}\\right) \\dot{\\theta}_{1} + d_{2} \\operatorname{sin}\\left(\\theta_{2}\\right) \\dot{\\theta}_{2}$"
      ],
      "text/plain": [
       "<IPython.core.display.Math object>"
      ]
     },
     "metadata": {},
     "output_type": "display_data"
    }
   ],
   "source": [
    "x1, y1 = d1*sin(a1), -d1*cos(a1)\n",
    "x2, y2 = d1*sin(a1) + d2*sin(a2), -d1*cos(a1) - d2*cos(a2)\n",
    "x1d, y1d = x1.diff(t), y1.diff(t)\n",
    "x2d, y2d = x2.diff(t), y2.diff(t)\n",
    "\n",
    "display(Math(r'x_1=' + mlatex(x1) + r'\\quad \\text{and} \\quad \\dot{x}_1=' + mlatex(x1d)))\n",
    "display(Math(r'y_1=' + mlatex(y1) + r'\\quad \\text{and} \\quad \\dot{y}_1=' + mlatex(y1d)))\n",
    "display(Math(r'x_2=' + mlatex(x2) + r'\\quad \\text{and} \\quad \\dot{x}_2=' + mlatex(x2d)))\n",
    "display(Math(r'y_2=' + mlatex(y2) + r'\\quad \\text{and} \\quad \\dot{y}_2=' + mlatex(y2d)))"
   ]
  },
  {
   "cell_type": "markdown",
   "metadata": {},
   "source": [
    "The kinetic and potential energies of the system are:"
   ]
  },
  {
   "cell_type": "code",
   "execution_count": 7,
   "metadata": {
    "ExecuteTime": {
     "end_time": "2020-03-10T00:59:58.191975Z",
     "start_time": "2020-03-10T00:59:57.227123Z"
    }
   },
   "outputs": [
    {
     "data": {
      "text/latex": [
       "$\\displaystyle T=\\frac{d_{1}^{2} m_{1} \\dot{\\theta}_{1}^{2}}{2} + \\frac{m_{2} \\left(d_{1}^{2} \\dot{\\theta}_{1}^{2} + 2 d_{1} d_{2} \\operatorname{cos}\\left(\\theta_{1} - \\theta_{2}\\right) \\dot{\\theta}_{1} \\dot{\\theta}_{2} + d_{2}^{2} \\dot{\\theta}_{2}^{2}\\right)}{2}$"
      ],
      "text/plain": [
       "<IPython.core.display.Math object>"
      ]
     },
     "metadata": {},
     "output_type": "display_data"
    },
    {
     "data": {
      "text/latex": [
       "$\\displaystyle V=- g \\left(d_{1} m_{1} \\operatorname{cos}\\left(\\theta_{1}\\right) + d_{1} m_{2} \\operatorname{cos}\\left(\\theta_{1}\\right) + d_{2} m_{2} \\operatorname{cos}\\left(\\theta_{2}\\right)\\right)$"
      ],
      "text/plain": [
       "<IPython.core.display.Math object>"
      ]
     },
     "metadata": {},
     "output_type": "display_data"
    }
   ],
   "source": [
    "T = m1*(x1d**2 + y1d**2)/2 + m2*(x2d**2 + y2d**2)/2\n",
    "V = m1*g*y1 + m2*g*y2\n",
    "\n",
    "display(Math(r'T=' + mlatex(simplify(T))))\n",
    "display(Math(r'V=' + mlatex(simplify(V))))"
   ]
  },
  {
   "cell_type": "markdown",
   "metadata": {},
   "source": [
    "The Lagrangian function is:"
   ]
  },
  {
   "cell_type": "code",
   "execution_count": 8,
   "metadata": {
    "ExecuteTime": {
     "end_time": "2020-03-10T00:59:58.979648Z",
     "start_time": "2020-03-10T00:59:58.193564Z"
    }
   },
   "outputs": [
    {
     "data": {
      "text/latex": [
       "$\\displaystyle \\mathcal{L}=\\frac{d_{1}^{2} m_{1} \\dot{\\theta}_{1}^{2}}{2} + d_{1} g m_{1} \\operatorname{cos}\\left(\\theta_{1}\\right) + g m_{2} \\left(d_{1} \\operatorname{cos}\\left(\\theta_{1}\\right) + d_{2} \\operatorname{cos}\\left(\\theta_{2}\\right)\\right) + \\frac{m_{2} \\left(d_{1}^{2} \\dot{\\theta}_{1}^{2} + 2 d_{1} d_{2} \\operatorname{cos}\\left(\\theta_{1} - \\theta_{2}\\right) \\dot{\\theta}_{1} \\dot{\\theta}_{2} + d_{2}^{2} \\dot{\\theta}_{2}^{2}\\right)}{2}$"
      ],
      "text/plain": [
       "<IPython.core.display.Math object>"
      ]
     },
     "metadata": {},
     "output_type": "display_data"
    }
   ],
   "source": [
    "L = T - V\n",
    "\n",
    "display(Math(r'\\mathcal{L}=' + mlatex(simplify(L))))"
   ]
  },
  {
   "cell_type": "markdown",
   "metadata": {},
   "source": [
    "And the derivatives are (let's write a function using Sympy to automate the calculation of the derivatives):"
   ]
  },
  {
   "cell_type": "code",
   "execution_count": 9,
   "metadata": {
    "ExecuteTime": {
     "end_time": "2020-03-10T00:59:58.985151Z",
     "start_time": "2020-03-10T00:59:58.981023Z"
    }
   },
   "outputs": [],
   "source": [
    "def lagrange_terms(L, *q, show=True):\n",
    "    \"\"\"Calculate terms of Lagrange equations given the Lagrangian and q's.\n",
    "    \"\"\"\n",
    "    Lterms = []\n",
    "    for qi in q:\n",
    "        dLdqi = simplify(L.diff(qi))\n",
    "        Lterms.append(dLdqi)\n",
    "        dLdqdi = simplify(L.diff(qi.diff(t)))\n",
    "        Lterms.append(dLdqdi)\n",
    "        dtdLdqdi = simplify(dLdqdi.diff(t))\n",
    "        Lterms.append(dtdLdqdi)\n",
    "        if show:\n",
    "            display(Math(r'\\text{w.r.t. generalized coordinate}\\;%s:'%latex(qi.func)))\n",
    "            display(Math(r'\\quad\\dfrac{\\partial\\mathcal{L}}{\\partial %s}='\n",
    "                         %latex(qi.func) + mlatex(dLdqi)))\n",
    "            display(Math(r'\\quad\\dfrac{\\partial\\mathcal{L}}{\\partial\\dot{%s}}='\n",
    "                         %latex(qi.func) + mlatex(dLdqdi)))\n",
    "            display(Math(r'\\quad\\dfrac{\\mathrm d}{\\mathrm{dt}}\\left({\\dfrac{'+ \n",
    "                         r'\\partial\\mathcal{L}}{\\partial\\dot{%s}}}\\right)='\n",
    "                         %latex(qi.func) + mlatex(dtdLdqdi)))\n",
    "    return Lterms      "
   ]
  },
  {
   "cell_type": "code",
   "execution_count": 10,
   "metadata": {
    "ExecuteTime": {
     "end_time": "2020-03-10T01:00:01.317942Z",
     "start_time": "2020-03-10T00:59:58.986196Z"
    }
   },
   "outputs": [
    {
     "data": {
      "text/latex": [
       "$\\displaystyle \\text{w.r.t. generalized coordinate}\\;\\theta_{1}:$"
      ],
      "text/plain": [
       "<IPython.core.display.Math object>"
      ]
     },
     "metadata": {},
     "output_type": "display_data"
    },
    {
     "data": {
      "text/latex": [
       "$\\displaystyle \\quad\\dfrac{\\partial\\mathcal{L}}{\\partial \\theta_{1}}=- d_{1} \\left(d_{2} m_{2} \\operatorname{sin}\\left(\\theta_{1} - \\theta_{2}\\right) \\dot{\\theta}_{1} \\dot{\\theta}_{2} + g m_{1} \\operatorname{sin}\\left(\\theta_{1}\\right) + g m_{2} \\operatorname{sin}\\left(\\theta_{1}\\right)\\right)$"
      ],
      "text/plain": [
       "<IPython.core.display.Math object>"
      ]
     },
     "metadata": {},
     "output_type": "display_data"
    },
    {
     "data": {
      "text/latex": [
       "$\\displaystyle \\quad\\dfrac{\\partial\\mathcal{L}}{\\partial\\dot{\\theta_{1}}}=d_{1} \\left(d_{1} m_{1} \\dot{\\theta}_{1} + m_{2} \\left(d_{1} \\dot{\\theta}_{1} + d_{2} \\operatorname{cos}\\left(\\theta_{1} - \\theta_{2}\\right) \\dot{\\theta}_{2}\\right)\\right)$"
      ],
      "text/plain": [
       "<IPython.core.display.Math object>"
      ]
     },
     "metadata": {},
     "output_type": "display_data"
    },
    {
     "data": {
      "text/latex": [
       "$\\displaystyle \\quad\\dfrac{\\mathrm d}{\\mathrm{dt}}\\left({\\dfrac{\\partial\\mathcal{L}}{\\partial\\dot{\\theta_{1}}}}\\right)=d_{1} \\left(d_{1} m_{1} \\ddot{\\theta}_{1} + m_{2} \\left(d_{1} \\ddot{\\theta}_{1} - d_{2} \\left(\\dot{\\theta}_{1} - \\dot{\\theta}_{2}\\right) \\operatorname{sin}\\left(\\theta_{1} - \\theta_{2}\\right) \\dot{\\theta}_{2} + d_{2} \\operatorname{cos}\\left(\\theta_{1} - \\theta_{2}\\right) \\ddot{\\theta}_{2}\\right)\\right)$"
      ],
      "text/plain": [
       "<IPython.core.display.Math object>"
      ]
     },
     "metadata": {},
     "output_type": "display_data"
    },
    {
     "data": {
      "text/latex": [
       "$\\displaystyle \\text{w.r.t. generalized coordinate}\\;\\theta_{2}:$"
      ],
      "text/plain": [
       "<IPython.core.display.Math object>"
      ]
     },
     "metadata": {},
     "output_type": "display_data"
    },
    {
     "data": {
      "text/latex": [
       "$\\displaystyle \\quad\\dfrac{\\partial\\mathcal{L}}{\\partial \\theta_{2}}=d_{2} m_{2} \\left(d_{1} \\operatorname{sin}\\left(\\theta_{1} - \\theta_{2}\\right) \\dot{\\theta}_{1} \\dot{\\theta}_{2} - g \\operatorname{sin}\\left(\\theta_{2}\\right)\\right)$"
      ],
      "text/plain": [
       "<IPython.core.display.Math object>"
      ]
     },
     "metadata": {},
     "output_type": "display_data"
    },
    {
     "data": {
      "text/latex": [
       "$\\displaystyle \\quad\\dfrac{\\partial\\mathcal{L}}{\\partial\\dot{\\theta_{2}}}=d_{2} m_{2} \\left(d_{1} \\operatorname{cos}\\left(\\theta_{1} - \\theta_{2}\\right) \\dot{\\theta}_{1} + d_{2} \\dot{\\theta}_{2}\\right)$"
      ],
      "text/plain": [
       "<IPython.core.display.Math object>"
      ]
     },
     "metadata": {},
     "output_type": "display_data"
    },
    {
     "data": {
      "text/latex": [
       "$\\displaystyle \\quad\\dfrac{\\mathrm d}{\\mathrm{dt}}\\left({\\dfrac{\\partial\\mathcal{L}}{\\partial\\dot{\\theta_{2}}}}\\right)=d_{2} m_{2} \\left(- d_{1} \\left(\\dot{\\theta}_{1} - \\dot{\\theta}_{2}\\right) \\operatorname{sin}\\left(\\theta_{1} - \\theta_{2}\\right) \\dot{\\theta}_{1} + d_{1} \\operatorname{cos}\\left(\\theta_{1} - \\theta_{2}\\right) \\ddot{\\theta}_{1} + d_{2} \\ddot{\\theta}_{2}\\right)$"
      ],
      "text/plain": [
       "<IPython.core.display.Math object>"
      ]
     },
     "metadata": {},
     "output_type": "display_data"
    }
   ],
   "source": [
    "Lterms = lagrange_terms(L, a1, a2)"
   ]
  },
  {
   "cell_type": "markdown",
   "metadata": {},
   "source": [
    "Finally, the Lagrange's equations (the equations of motion) are:"
   ]
  },
  {
   "cell_type": "code",
   "execution_count": 11,
   "metadata": {
    "ExecuteTime": {
     "end_time": "2020-03-10T01:00:02.458863Z",
     "start_time": "2020-03-10T01:00:01.319284Z"
    }
   },
   "outputs": [
    {
     "data": {
      "image/png": "[encoded data removed]",
      "text/latex": [
       "$\\displaystyle d_{1} \\left(d_{1} m_{1} \\ddot{\\theta}_{1} + d_{1} m_{2} \\ddot{\\theta}_{1} + d_{2} m_{2} \\operatorname{sin}\\left(\\theta_{1} - \\theta_{2}\\right) \\dot{\\theta}_{2}^{2} + d_{2} m_{2} \\operatorname{cos}\\left(\\theta_{1} - \\theta_{2}\\right) \\ddot{\\theta}_{2} + g m_{1} \\operatorname{sin}\\left(\\theta_{1}\\right) + g m_{2} \\operatorname{sin}\\left(\\theta_{1}\\right)\\right) = 0$"
      ],
      "text/plain": [
       "   ⎛                                           2                              \n",
       "d₁⋅⎝d₁⋅m₁⋅θ₁̈ + d₁⋅m₂⋅θ₁̈ + d₂⋅m₂⋅sin(θ₁ - θ₂)⋅θ₂̇  + d₂⋅m₂⋅cos(θ₁ - θ₂)⋅θ₂̈ +\n",
       "\n",
       "                        ⎞    \n",
       " g⋅m₁⋅sin(θ₁) + g⋅m₂⋅sin(θ₁)⎠ = 0"
      ]
     },
     "metadata": {},
     "output_type": "display_data"
    },
    {
     "data": {
      "image/png": "[encoded data removed]",
      "text/latex": [
       "$\\displaystyle d_{2} m_{2} \\left(- d_{1} \\operatorname{sin}\\left(\\theta_{1} - \\theta_{2}\\right) \\dot{\\theta}_{1}^{2} + d_{1} \\operatorname{cos}\\left(\\theta_{1} - \\theta_{2}\\right) \\ddot{\\theta}_{1} + d_{2} \\ddot{\\theta}_{2} + g \\operatorname{sin}\\left(\\theta_{2}\\right)\\right) = 0$"
      ],
      "text/plain": [
       "      ⎛                    2                                         ⎞    \n",
       "d₂⋅m₂⋅⎝- d₁⋅sin(θ₁ - θ₂)⋅θ₁̇  + d₁⋅cos(θ₁ - θ₂)⋅θ₁̈ + d₂⋅θ₂̈ + g⋅sin(θ₂)⎠ = 0"
      ]
     },
     "metadata": {},
     "output_type": "display_data"
    }
   ],
   "source": [
    "for i in range(int(len(Lterms)/3)):\n",
    "    display(Eq(simplify(Lterms[3*i+2]-Lterms[3*i]), 0))"
   ]
  },
  {
   "cell_type": "markdown",
   "metadata": {},
   "source": [
    "The motion of a double pendulum is very interesting; most of times it presents a chaotic behavior, see for example [https://www.myphysicslab.com/pendulum/double-pendulum-en.html](https://www.myphysicslab.com/pendulum/double-pendulum-en.html)."
   ]
  },
  {
   "cell_type": "markdown",
   "metadata": {},
   "source": [
    "#### Example 5a: Numerical solution of the equation of motion for the double pendulum\n",
    "\n",
    "In order to solve numerically the ODEs for the double pendulum we will transform each equation above into two first ODEs. As the two variables $\\ddot{\\theta_1}$ and $\\ddot{\\theta_2}$ appear in both equations, first we have to rearrange the equations to find expressions for $\\ddot{\\theta_1}$ and $\\ddot{\\theta_2}$. Second, we define two variables and then we can use these equations as we did for the single pendulum.  \n",
    "But we should avoid to use the Euler's method because of the non-negligible error in the numerical integration in this case; more accurate methods such as [Runge-Kutta](https://en.wikipedia.org/wiki/Runge%E2%80%93Kutta_methods) should be employed. "
   ]
  },
  {
   "cell_type": "markdown",
   "metadata": {},
   "source": [
    "### Example 6: Mass attached to a spring on a horizontal plane\n",
    "\n",
    "<figure><img src=\"./../images/ruina_prob13_1_7.png\" width=\"250\" alt=\"mass-spring on a table\" style=\"float:right;margin: 10px 20px 10px 20px;\"/></figure>\n",
    "\n",
    "This is the exercise 13.1.7 of Ruina and Pratap's book:  \n",
    "\"Two ice skaters whirl around one another. They are connected by a linear elastic cord whose center is stationary in space. We wish to consider the motion of one of the skaters by modeling her as a mass m held by a cord that exerts k Newtons for each meter it is extended from the central position.  \n",
    "a) Draw a free-body diagram showing the forces that act on the mass is at an arbitrary position.  \n",
    "b) Write the differential equations that describe the motion.\"\n",
    "\n",
    "Let's solve item b using Lagrangian mechanics.\n",
    "\n",
    "To calculate the potential and kinetic energy of the system, we will need to calculate the position and velocity of the mass. It's convenient to use as generalized coordinates, the radial position $r(t)$ and the angle $\\theta(t)$.\n",
    "\n",
    "Let's use Sympy to make sure our calculus is correct.\n",
    "Declaring our parameters and the Cartesian coordinates:"
   ]
  },
  {
   "cell_type": "code",
   "execution_count": 12,
   "metadata": {
    "ExecuteTime": {
     "end_time": "2020-03-10T01:00:02.469613Z",
     "start_time": "2020-03-10T01:00:02.459824Z"
    }
   },
   "outputs": [],
   "source": [
    "t = Symbol('t')\n",
    "m, k = symbols('m k', positive=True)\n",
    "r, a = dynamicsymbols('r theta')\n",
    "\n",
    "x, y = r*cos(a), r*sin(a)\n",
    "xd, yd = x.diff(t), y.diff(t)"
   ]
  },
  {
   "cell_type": "markdown",
   "metadata": {},
   "source": [
    "The position and velocity of the skater are:"
   ]
  },
  {
   "cell_type": "code",
   "execution_count": 13,
   "metadata": {
    "ExecuteTime": {
     "end_time": "2020-03-10T01:00:02.480133Z",
     "start_time": "2020-03-10T01:00:02.470675Z"
    }
   },
   "outputs": [
    {
     "data": {
      "text/latex": [
       "$\\displaystyle x=r \\operatorname{cos}\\left(\\theta\\right)$"
      ],
      "text/plain": [
       "<IPython.core.display.Math object>"
      ]
     },
     "metadata": {},
     "output_type": "display_data"
    },
    {
     "data": {
      "text/latex": [
       "$\\displaystyle y=r \\operatorname{sin}\\left(\\theta\\right)$"
      ],
      "text/plain": [
       "<IPython.core.display.Math object>"
      ]
     },
     "metadata": {},
     "output_type": "display_data"
    },
    {
     "data": {
      "text/latex": [
       "$\\displaystyle \\dot{x}=- r \\operatorname{sin}\\left(\\theta\\right) \\dot{\\theta} + \\operatorname{cos}\\left(\\theta\\right) \\dot{r}$"
      ],
      "text/plain": [
       "<IPython.core.display.Math object>"
      ]
     },
     "metadata": {},
     "output_type": "display_data"
    },
    {
     "data": {
      "text/latex": [
       "$\\displaystyle \\dot{y}=r \\operatorname{cos}\\left(\\theta\\right) \\dot{\\theta} + \\operatorname{sin}\\left(\\theta\\right) \\dot{r}$"
      ],
      "text/plain": [
       "<IPython.core.display.Math object>"
      ]
     },
     "metadata": {},
     "output_type": "display_data"
    }
   ],
   "source": [
    "display(Math(r'x=' + mlatex(x)))\n",
    "display(Math(r'y=' + mlatex(y)))\n",
    "display(Math(r'\\dot{x}=' + mlatex(xd)))\n",
    "display(Math(r'\\dot{y}=' + mlatex(yd)))"
   ]
  },
  {
   "cell_type": "markdown",
   "metadata": {},
   "source": [
    "So, the kinetic and potential energies of the skater are:"
   ]
  },
  {
   "cell_type": "code",
   "execution_count": 14,
   "metadata": {
    "ExecuteTime": {
     "end_time": "2020-03-10T01:00:02.489038Z",
     "start_time": "2020-03-10T01:00:02.481097Z"
    }
   },
   "outputs": [
    {
     "data": {
      "text/latex": [
       "$\\displaystyle T=\\frac{m \\left(\\left(- r \\operatorname{sin}\\left(\\theta\\right) \\dot{\\theta} + \\operatorname{cos}\\left(\\theta\\right) \\dot{r}\\right)^{2} + \\left(r \\operatorname{cos}\\left(\\theta\\right) \\dot{\\theta} + \\operatorname{sin}\\left(\\theta\\right) \\dot{r}\\right)^{2}\\right)}{2}$"
      ],
      "text/plain": [
       "<IPython.core.display.Math object>"
      ]
     },
     "metadata": {},
     "output_type": "display_data"
    },
    {
     "data": {
      "text/latex": [
       "$\\displaystyle V=\\frac{k r^{2}}{2}$"
      ],
      "text/plain": [
       "<IPython.core.display.Math object>"
      ]
     },
     "metadata": {},
     "output_type": "display_data"
    }
   ],
   "source": [
    "T = m*(xd**2 + yd**2)/2\n",
    "V = (k*r**2)/2\n",
    "\n",
    "display(Math(r'T=' + mlatex(T)))\n",
    "display(Math(r'V=' + mlatex(V)))"
   ]
  },
  {
   "cell_type": "markdown",
   "metadata": {},
   "source": [
    "Which simplifies to:"
   ]
  },
  {
   "cell_type": "code",
   "execution_count": 15,
   "metadata": {
    "ExecuteTime": {
     "end_time": "2020-03-10T01:00:02.672499Z",
     "start_time": "2020-03-10T01:00:02.490055Z"
    }
   },
   "outputs": [
    {
     "data": {
      "text/latex": [
       "$\\displaystyle T=\\frac{m \\left(r^{2} \\dot{\\theta}^{2} + \\dot{r}^{2}\\right)}{2}$"
      ],
      "text/plain": [
       "<IPython.core.display.Math object>"
      ]
     },
     "metadata": {},
     "output_type": "display_data"
    },
    {
     "data": {
      "text/latex": [
       "$\\displaystyle V=\\frac{k r^{2}}{2}$"
      ],
      "text/plain": [
       "<IPython.core.display.Math object>"
      ]
     },
     "metadata": {},
     "output_type": "display_data"
    }
   ],
   "source": [
    "display(Math(r'T=' + mlatex(simplify(T))))\n",
    "display(Math(r'V=' + mlatex(simplify(V))))"
   ]
  },
  {
   "cell_type": "markdown",
   "metadata": {},
   "source": [
    "Where we considered the equilibrium length of the spring as zero.\n",
    "\n",
    "The Lagrangian function is:"
   ]
  },
  {
   "cell_type": "code",
   "execution_count": 16,
   "metadata": {
    "ExecuteTime": {
     "end_time": "2020-03-10T01:00:02.824868Z",
     "start_time": "2020-03-10T01:00:02.673631Z"
    }
   },
   "outputs": [
    {
     "data": {
      "text/latex": [
       "$\\displaystyle \\mathcal{L}=- \\frac{k r^{2}}{2} + \\frac{m \\left(r^{2} \\dot{\\theta}^{2} + \\dot{r}^{2}\\right)}{2}$"
      ],
      "text/plain": [
       "<IPython.core.display.Math object>"
      ]
     },
     "metadata": {},
     "output_type": "display_data"
    }
   ],
   "source": [
    "L = T - V\n",
    "\n",
    "display(Math(r'\\mathcal{L}=' + mlatex(simplify(L))))"
   ]
  },
  {
   "cell_type": "code",
   "execution_count": 17,
   "metadata": {
    "ExecuteTime": {
     "end_time": "2020-03-10T01:00:03.125169Z",
     "start_time": "2020-03-10T01:00:02.825837Z"
    }
   },
   "outputs": [
    {
     "data": {
      "text/latex": [
       "$\\displaystyle \\text{w.r.t. generalized coordinate}\\;r:$"
      ],
      "text/plain": [
       "<IPython.core.display.Math object>"
      ]
     },
     "metadata": {},
     "output_type": "display_data"
    },
    {
     "data": {
      "text/latex": [
       "$\\displaystyle \\quad\\dfrac{\\partial\\mathcal{L}}{\\partial r}=\\left(- k + m \\dot{\\theta}^{2}\\right) r$"
      ],
      "text/plain": [
       "<IPython.core.display.Math object>"
      ]
     },
     "metadata": {},
     "output_type": "display_data"
    },
    {
     "data": {
      "text/latex": [
       "$\\displaystyle \\quad\\dfrac{\\partial\\mathcal{L}}{\\partial\\dot{r}}=m \\dot{r}$"
      ],
      "text/plain": [
       "<IPython.core.display.Math object>"
      ]
     },
     "metadata": {},
     "output_type": "display_data"
    },
    {
     "data": {
      "text/latex": [
       "$\\displaystyle \\quad\\dfrac{\\mathrm d}{\\mathrm{dt}}\\left({\\dfrac{\\partial\\mathcal{L}}{\\partial\\dot{r}}}\\right)=m \\ddot{r}$"
      ],
      "text/plain": [
       "<IPython.core.display.Math object>"
      ]
     },
     "metadata": {},
     "output_type": "display_data"
    },
    {
     "data": {
      "text/latex": [
       "$\\displaystyle \\text{w.r.t. generalized coordinate}\\;\\theta:$"
      ],
      "text/plain": [
       "<IPython.core.display.Math object>"
      ]
     },
     "metadata": {},
     "output_type": "display_data"
    },
    {
     "data": {
      "text/latex": [
       "$\\displaystyle \\quad\\dfrac{\\partial\\mathcal{L}}{\\partial \\theta}=0$"
      ],
      "text/plain": [
       "<IPython.core.display.Math object>"
      ]
     },
     "metadata": {},
     "output_type": "display_data"
    },
    {
     "data": {
      "text/latex": [
       "$\\displaystyle \\quad\\dfrac{\\partial\\mathcal{L}}{\\partial\\dot{\\theta}}=m r^{2} \\dot{\\theta}$"
      ],
      "text/plain": [
       "<IPython.core.display.Math object>"
      ]
     },
     "metadata": {},
     "output_type": "display_data"
    },
    {
     "data": {
      "text/latex": [
       "$\\displaystyle \\quad\\dfrac{\\mathrm d}{\\mathrm{dt}}\\left({\\dfrac{\\partial\\mathcal{L}}{\\partial\\dot{\\theta}}}\\right)=m \\left(r \\ddot{\\theta} + 2 \\dot{r} \\dot{\\theta}\\right) r$"
      ],
      "text/plain": [
       "<IPython.core.display.Math object>"
      ]
     },
     "metadata": {},
     "output_type": "display_data"
    }
   ],
   "source": [
    "Lterms = lagrange_terms(L, r, a)"
   ]
  },
  {
   "cell_type": "markdown",
   "metadata": {},
   "source": [
    "Finally, the Lagrange's equations (the equations of motion) are:"
   ]
  },
  {
   "cell_type": "code",
   "execution_count": 18,
   "metadata": {
    "ExecuteTime": {
     "end_time": "2020-03-10T01:00:03.188651Z",
     "start_time": "2020-03-10T01:00:03.126551Z"
    }
   },
   "outputs": [
    {
     "data": {
      "image/png": "[encoded data removed]",
      "text/latex": [
       "$\\displaystyle k r - m r \\dot{\\theta}^{2} + m \\ddot{r} = 0$"
      ],
      "text/plain": [
       "           2          \n",
       "k⋅r - m⋅r⋅θ̇  + m⋅r̈ = 0"
      ]
     },
     "metadata": {},
     "output_type": "display_data"
    },
    {
     "data": {
      "image/png": "[encoded data removed]",
      "text/latex": [
       "$\\displaystyle m r^{2} \\ddot{\\theta} + 2 m r \\dot{r} \\dot{\\theta} = 0$"
      ],
      "text/plain": [
       "   2                  \n",
       "m⋅r ⋅θ̈ + 2⋅m⋅r⋅ṙ⋅θ̇ = 0"
      ]
     },
     "metadata": {},
     "output_type": "display_data"
    }
   ],
   "source": [
    "for i in range(int(len(Lterms)/3)):\n",
    "    display(Eq(expand(Lterms[3*i+2]-Lterms[3*i]), 0))"
   ]
  },
  {
   "cell_type": "markdown",
   "metadata": {},
   "source": [
    "In Ruina and Pratap's book they give as solution the equation: $2r\\dot{r}\\dot{\\theta} + r^3\\ddot{\\theta}=0$, but  using dimensional analysis we can check the book's solution is not correct."
   ]
  },
  {
   "cell_type": "markdown",
   "metadata": {},
   "source": [
    "### Example 7: Double compound pendulum under the influence of gravity\n",
    "\n",
    "<figure><img src=\"./../images/pendula_lagrange.png\" width=\"200\" alt=\"double pendulum\" style=\"float:right;margin: 10px 50px 10px 50px;\"/></figure>\n",
    "\n",
    "Consider the double compound pendulum shown on the the right with length $d$ and mass $m$ of each rod swinging in a plane forming the angles $\\theta_1$ and $\\theta_2$ with vertical and $g=10 m/s^2$.  \n",
    "The system has two degrees of freedom and we need two generalized coordinates ($\\theta_1, \\theta_2$) to describe the system's configuration.  \n",
    "\n",
    "Let's use the Lagrangian mechanics to derive the equations of motion for each pendulum.  \n",
    "\n",
    "To calculate the potential and kinetic energy of the system, we will need to calculate the position and velocity of each pendulum. Now each pendulum is a rod with distributed mass and we will have to calculate the moment of rotational inertia of the rod. In this case, the kinetic energy of each pendulum will be given as the kinetic energy due to rotation of the pendulum plus the kinetic energy due to the speed of the center of mass of the pendulum, such that the total kinetic energy of the system is:\n",
    "\n",
    "$ T = \\overbrace{\\underbrace{\\frac{1}{2}I_{cm}\\dot\\theta_1^2}_{\\text{rotation}} + \\underbrace{\\frac{1}{2}m(\\dot x_{1,cm}^2 + \\dot y_{1,cm}^2)}_{\\text{translation}}}^{\\text{pendulum 1}} + \\overbrace{\\underbrace{\\frac{1}{2}I_{cm}\\dot\\theta_2^2}_{\\text{rotation}} + \\underbrace{\\frac{1}{2}m(\\dot x_{2,cm}^2 + \\dot y_{2,cm}^2)}_{\\text{translation}}}^{\\text{pendulum 2}} $\n",
    "\n",
    "And the potential energy of the system is:\n",
    "\n",
    "$ V = mg\\big(y_{1,cm} + y_{2,cm}\\big) $\n",
    "\n",
    "Let's use Sympy once again.\n",
    "\n",
    "The position and velocity of the center of mass of the rods $1$ and $2$ are: "
   ]
  },
  {
   "cell_type": "code",
   "execution_count": 19,
   "metadata": {
    "ExecuteTime": {
     "end_time": "2020-03-10T01:00:03.214875Z",
     "start_time": "2020-03-10T01:00:03.189701Z"
    }
   },
   "outputs": [
    {
     "data": {
      "text/latex": [
       "$\\displaystyle x_1=\\frac{d \\operatorname{sin}\\left(\\theta_{1}\\right)}{2}\\quad \\text{and} \\quad \\dot{x}_1=\\frac{d \\operatorname{cos}\\left(\\theta_{1}\\right) \\dot{\\theta}_{1}}{2}$"
      ],
      "text/plain": [
       "<IPython.core.display.Math object>"
      ]
     },
     "metadata": {},
     "output_type": "display_data"
    },
    {
     "data": {
      "text/latex": [
       "$\\displaystyle y_1=- \\frac{d \\operatorname{cos}\\left(\\theta_{1}\\right)}{2}\\quad \\text{and} \\quad \\dot{y}_1=\\frac{d \\operatorname{sin}\\left(\\theta_{1}\\right) \\dot{\\theta}_{1}}{2}$"
      ],
      "text/plain": [
       "<IPython.core.display.Math object>"
      ]
     },
     "metadata": {},
     "output_type": "display_data"
    },
    {
     "data": {
      "text/latex": [
       "$\\displaystyle x_2=d \\operatorname{sin}\\left(\\theta_{1}\\right) + \\frac{d \\operatorname{sin}\\left(\\theta_{2}\\right)}{2}\\quad \\text{and} \\quad \\dot{x}_2=d \\operatorname{cos}\\left(\\theta_{1}\\right) \\dot{\\theta}_{1} + \\frac{d \\operatorname{cos}\\left(\\theta_{2}\\right) \\dot{\\theta}_{2}}{2}$"
      ],
      "text/plain": [
       "<IPython.core.display.Math object>"
      ]
     },
     "metadata": {},
     "output_type": "display_data"
    },
    {
     "data": {
      "text/latex": [
       "$\\displaystyle y_2=- d \\operatorname{cos}\\left(\\theta_{1}\\right) - \\frac{d \\operatorname{cos}\\left(\\theta_{2}\\right)}{2}\\quad \\text{and} \\quad \\dot{y}_2=d \\operatorname{sin}\\left(\\theta_{1}\\right) \\dot{\\theta}_{1} + \\frac{d \\operatorname{sin}\\left(\\theta_{2}\\right) \\dot{\\theta}_{2}}{2}$"
      ],
      "text/plain": [
       "<IPython.core.display.Math object>"
      ]
     },
     "metadata": {},
     "output_type": "display_data"
    }
   ],
   "source": [
    "d, m, g = symbols('d m g', positive=True)\n",
    "a1, a2 = dynamicsymbols('theta1 theta2')\n",
    "I = m*d*d/12\n",
    "\n",
    "x1, y1 = d*sin(a1)/2, -d*cos(a1)/2\n",
    "x2, y2 = d*sin(a1) + d*sin(a2)/2, -d*cos(a1) - d*cos(a2)/2\n",
    "x1d, y1d = x1.diff(t), y1.diff(t)\n",
    "x2d, y2d = x2.diff(t), y2.diff(t)\n",
    "\n",
    "display(Math(r'x_1=' + mlatex(x1) + r'\\quad \\text{and} \\quad \\dot{x}_1=' + mlatex(x1d)))\n",
    "display(Math(r'y_1=' + mlatex(y1) + r'\\quad \\text{and} \\quad \\dot{y}_1=' + mlatex(y1d)))\n",
    "display(Math(r'x_2=' + mlatex(x2) + r'\\quad \\text{and} \\quad \\dot{x}_2=' + mlatex(x2d)))\n",
    "display(Math(r'y_2=' + mlatex(y2) + r'\\quad \\text{and} \\quad \\dot{y}_2=' + mlatex(y2d)))"
   ]
  },
  {
   "cell_type": "markdown",
   "metadata": {},
   "source": [
    "The kinetic and potential energies of the system are:"
   ]
  },
  {
   "cell_type": "code",
   "execution_count": 20,
   "metadata": {
    "ExecuteTime": {
     "end_time": "2020-03-10T01:00:03.652315Z",
     "start_time": "2020-03-10T01:00:03.215832Z"
    }
   },
   "outputs": [
    {
     "data": {
      "text/latex": [
       "$\\displaystyle T=\\frac{d^{2} m \\left(3 \\operatorname{cos}\\left(\\theta_{1} - \\theta_{2}\\right) \\dot{\\theta}_{1} \\dot{\\theta}_{2} + 4 \\dot{\\theta}_{1}^{2} + \\dot{\\theta}_{2}^{2}\\right)}{6}$"
      ],
      "text/plain": [
       "<IPython.core.display.Math object>"
      ]
     },
     "metadata": {},
     "output_type": "display_data"
    },
    {
     "data": {
      "text/latex": [
       "$\\displaystyle V=- \\frac{d g m \\left(3 \\operatorname{cos}\\left(\\theta_{1}\\right) + \\operatorname{cos}\\left(\\theta_{2}\\right)\\right)}{2}$"
      ],
      "text/plain": [
       "<IPython.core.display.Math object>"
      ]
     },
     "metadata": {},
     "output_type": "display_data"
    }
   ],
   "source": [
    "T = I/2*(a1.diff(t))**2 + m*(x1d**2+y1d**2)/2 + I/2*(a2.diff(t))**2 + m*(x2d**2+y2d**2)/2\n",
    "V = m*g*y1 + m*g*y2\n",
    "\n",
    "display(Math(r'T=' + mlatex(simplify(T))))\n",
    "display(Math(r'V=' + mlatex(simplify(V))))"
   ]
  },
  {
   "cell_type": "markdown",
   "metadata": {},
   "source": [
    "The Lagrangian function is:"
   ]
  },
  {
   "cell_type": "code",
   "execution_count": 21,
   "metadata": {
    "ExecuteTime": {
     "end_time": "2020-03-10T01:00:04.173310Z",
     "start_time": "2020-03-10T01:00:03.653318Z"
    }
   },
   "outputs": [
    {
     "data": {
      "text/latex": [
       "$\\displaystyle \\mathcal{L}=\\frac{d m \\left(3 d \\operatorname{cos}\\left(\\theta_{1} - \\theta_{2}\\right) \\dot{\\theta}_{1} \\dot{\\theta}_{2} + 4 d \\dot{\\theta}_{1}^{2} + d \\dot{\\theta}_{2}^{2} + 9 g \\operatorname{cos}\\left(\\theta_{1}\\right) + 3 g \\operatorname{cos}\\left(\\theta_{2}\\right)\\right)}{6}$"
      ],
      "text/plain": [
       "<IPython.core.display.Math object>"
      ]
     },
     "metadata": {},
     "output_type": "display_data"
    }
   ],
   "source": [
    "L = T - V\n",
    "\n",
    "display(Math(r'\\mathcal{L}=' + mlatex(simplify(L))))"
   ]
  },
  {
   "cell_type": "markdown",
   "metadata": {},
   "source": [
    "And the derivatives are (let's use the function to automate this process):"
   ]
  },
  {
   "cell_type": "code",
   "execution_count": 22,
   "metadata": {
    "ExecuteTime": {
     "end_time": "2020-03-10T01:00:05.648664Z",
     "start_time": "2020-03-10T01:00:04.174648Z"
    }
   },
   "outputs": [
    {
     "data": {
      "text/latex": [
       "$\\displaystyle \\text{w.r.t. generalized coordinate}\\;\\theta_{1}:$"
      ],
      "text/plain": [
       "<IPython.core.display.Math object>"
      ]
     },
     "metadata": {},
     "output_type": "display_data"
    },
    {
     "data": {
      "text/latex": [
       "$\\displaystyle \\quad\\dfrac{\\partial\\mathcal{L}}{\\partial \\theta_{1}}=- \\frac{d m \\left(d \\operatorname{sin}\\left(\\theta_{1} - \\theta_{2}\\right) \\dot{\\theta}_{1} \\dot{\\theta}_{2} + 3 g \\operatorname{sin}\\left(\\theta_{1}\\right)\\right)}{2}$"
      ],
      "text/plain": [
       "<IPython.core.display.Math object>"
      ]
     },
     "metadata": {},
     "output_type": "display_data"
    },
    {
     "data": {
      "text/latex": [
       "$\\displaystyle \\quad\\dfrac{\\partial\\mathcal{L}}{\\partial\\dot{\\theta_{1}}}=\\frac{d^{2} m \\left(6 \\operatorname{cos}\\left(\\theta_{1} - \\theta_{2}\\right) \\dot{\\theta}_{2} + 16 \\dot{\\theta}_{1}\\right)}{12}$"
      ],
      "text/plain": [
       "<IPython.core.display.Math object>"
      ]
     },
     "metadata": {},
     "output_type": "display_data"
    },
    {
     "data": {
      "text/latex": [
       "$\\displaystyle \\quad\\dfrac{\\mathrm d}{\\mathrm{dt}}\\left({\\dfrac{\\partial\\mathcal{L}}{\\partial\\dot{\\theta_{1}}}}\\right)=\\frac{d^{2} m \\left(- 3 \\left(\\dot{\\theta}_{1} - \\dot{\\theta}_{2}\\right) \\operatorname{sin}\\left(\\theta_{1} - \\theta_{2}\\right) \\dot{\\theta}_{2} + 3 \\operatorname{cos}\\left(\\theta_{1} - \\theta_{2}\\right) \\ddot{\\theta}_{2} + 8 \\ddot{\\theta}_{1}\\right)}{6}$"
      ],
      "text/plain": [
       "<IPython.core.display.Math object>"
      ]
     },
     "metadata": {},
     "output_type": "display_data"
    },
    {
     "data": {
      "text/latex": [
       "$\\displaystyle \\text{w.r.t. generalized coordinate}\\;\\theta_{2}:$"
      ],
      "text/plain": [
       "<IPython.core.display.Math object>"
      ]
     },
     "metadata": {},
     "output_type": "display_data"
    },
    {
     "data": {
      "text/latex": [
       "$\\displaystyle \\quad\\dfrac{\\partial\\mathcal{L}}{\\partial \\theta_{2}}=\\frac{d m \\left(d \\operatorname{sin}\\left(\\theta_{1} - \\theta_{2}\\right) \\dot{\\theta}_{1} \\dot{\\theta}_{2} - g \\operatorname{sin}\\left(\\theta_{2}\\right)\\right)}{2}$"
      ],
      "text/plain": [
       "<IPython.core.display.Math object>"
      ]
     },
     "metadata": {},
     "output_type": "display_data"
    },
    {
     "data": {
      "text/latex": [
       "$\\displaystyle \\quad\\dfrac{\\partial\\mathcal{L}}{\\partial\\dot{\\theta_{2}}}=\\frac{d^{2} m \\left(6 \\operatorname{cos}\\left(\\theta_{1} - \\theta_{2}\\right) \\dot{\\theta}_{1} + 4 \\dot{\\theta}_{2}\\right)}{12}$"
      ],
      "text/plain": [
       "<IPython.core.display.Math object>"
      ]
     },
     "metadata": {},
     "output_type": "display_data"
    },
    {
     "data": {
      "text/latex": [
       "$\\displaystyle \\quad\\dfrac{\\mathrm d}{\\mathrm{dt}}\\left({\\dfrac{\\partial\\mathcal{L}}{\\partial\\dot{\\theta_{2}}}}\\right)=\\frac{d^{2} m \\left(- 3 \\left(\\dot{\\theta}_{1} - \\dot{\\theta}_{2}\\right) \\operatorname{sin}\\left(\\theta_{1} - \\theta_{2}\\right) \\dot{\\theta}_{1} + 3 \\operatorname{cos}\\left(\\theta_{1} - \\theta_{2}\\right) \\ddot{\\theta}_{1} + 2 \\ddot{\\theta}_{2}\\right)}{6}$"
      ],
      "text/plain": [
       "<IPython.core.display.Math object>"
      ]
     },
     "metadata": {},
     "output_type": "display_data"
    }
   ],
   "source": [
    "Lterms = lagrange_terms(L, a1, a2)"
   ]
  },
  {
   "cell_type": "markdown",
   "metadata": {},
   "source": [
    "Finally, the Lagrange's equations (the equations of motion) are:"
   ]
  },
  {
   "cell_type": "code",
   "execution_count": 23,
   "metadata": {
    "ExecuteTime": {
     "end_time": "2020-03-10T01:00:06.409559Z",
     "start_time": "2020-03-10T01:00:05.651124Z"
    }
   },
   "outputs": [
    {
     "data": {
      "image/png": "[encoded data removed]",
      "text/latex": [
       "$\\displaystyle \\frac{d m \\left(3 d \\operatorname{sin}\\left(\\theta_{1} - \\theta_{2}\\right) \\dot{\\theta}_{2}^{2} + 3 d \\operatorname{cos}\\left(\\theta_{1} - \\theta_{2}\\right) \\ddot{\\theta}_{2} + 8 d \\ddot{\\theta}_{1} + 9 g \\operatorname{sin}\\left(\\theta_{1}\\right)\\right)}{6} = 0$"
      ],
      "text/plain": [
       "    ⎛                   2                                             ⎞    \n",
       "d⋅m⋅⎝3⋅d⋅sin(θ₁ - θ₂)⋅θ₂̇  + 3⋅d⋅cos(θ₁ - θ₂)⋅θ₂̈ + 8⋅d⋅θ₁̈ + 9⋅g⋅sin(θ₁)⎠    \n",
       "─────────────────────────────────────────────────────────────────────── = 0\n",
       "                                   6                                       "
      ]
     },
     "metadata": {},
     "output_type": "display_data"
    },
    {
     "data": {
      "image/png": "[encoded data removed]",
      "text/latex": [
       "$\\displaystyle \\frac{d m \\left(- 3 d \\operatorname{sin}\\left(\\theta_{1} - \\theta_{2}\\right) \\dot{\\theta}_{1}^{2} + 3 d \\operatorname{cos}\\left(\\theta_{1} - \\theta_{2}\\right) \\ddot{\\theta}_{1} + 2 d \\ddot{\\theta}_{2} + 3 g \\operatorname{sin}\\left(\\theta_{2}\\right)\\right)}{6} = 0$"
      ],
      "text/plain": [
       "    ⎛                     2                                             ⎞    \n",
       "d⋅m⋅⎝- 3⋅d⋅sin(θ₁ - θ₂)⋅θ₁̇  + 3⋅d⋅cos(θ₁ - θ₂)⋅θ₁̈ + 2⋅d⋅θ₂̈ + 3⋅g⋅sin(θ₂)⎠    \n",
       "───────────────────────────────────────────────────────────────────────── = 0\n",
       "                                    6                                        "
      ]
     },
     "metadata": {},
     "output_type": "display_data"
    }
   ],
   "source": [
    "for i in range(int(len(Lterms)/3)):\n",
    "    display(Eq(simplify(Lterms[3*i+2]-Lterms[3*i]), 0))"
   ]
  },
  {
   "cell_type": "markdown",
   "metadata": {},
   "source": [
    "### Example 8: Two masses and two springs under the influence of gravity\n",
    "\n",
    "<figure><img src=\"./../images/springs_masses_g.png\" width=\"200\" alt=\"double pendulum\" style=\"float:right;margin: 10px 50px 10px 50px;\"/></figure>\n",
    "\n",
    "Consider a system composed by two masses and two springs attached in series with massless springs under gravity and a force on $m_2$ and $g=10 m/s^2$ as shown in the figure.  \n",
    "The system has two degrees of freedom and we need two generalized coordinates to describe the system's configuration, for example, ${y_1, y_2}$, the positions of masses $m_1, m_2$ w.r.t. the ceiling (the origin).  \n",
    "\n",
    "(We could also have used ${z_1, z_2}$, the position of mass $m_1$ w.r.t. the ceiling and the position of mass $m_2$ w.r.t. the mass $m_1$. But the first set of coordinates would be the only choice if we were solving the problem using Newtonian mechanics because we can only apply Newton's second law to an inertial frame of reference.)\n",
    "\n",
    "The kinetic energy of the system is:\n",
    "\n",
    "$ T = \\frac{1}{2}m_1\\dot y_1^2 + \\frac{1}{2}m_2\\dot y_2^2 $\n",
    "\n",
    "The potential energy of the system is:\n",
    "\n",
    "$ V = \\frac{1}{2}k_1 (y_1-\\ell_1)^2 + \\frac{1}{2}k_2 ((y_2-y_1)-\\ell_2)^2 - m_1gy_1 - m_2g y_2 $\n",
    "\n",
    "Where $\\ell_1, \\ell_2$ are the resting lengths (constants) of the two springs because the elastic potential energy is proportional to the deformation of the spring. For simplicity, let's ignore the resting position of each spring, so:  \n",
    "\n",
    "$ V = \\frac{1}{2}k_1 y_1^2 + \\frac{1}{2}k_2 (y_2-y_1)^2 - m_1gy_1 - m_2g y_2 $\n",
    "\n",
    "Sympy is our friend once again:"
   ]
  },
  {
   "cell_type": "code",
   "execution_count": 24,
   "metadata": {
    "ExecuteTime": {
     "end_time": "2020-03-10T01:00:06.414136Z",
     "start_time": "2020-03-10T01:00:06.411193Z"
    }
   },
   "outputs": [],
   "source": [
    "t = Symbol('t')\n",
    "m1, m2, g, k1, k2 = symbols('m1 m2 g k1 k2', positive=True)\n",
    "y1, y2, F = dynamicsymbols('y1 y2 F')"
   ]
  },
  {
   "cell_type": "markdown",
   "metadata": {},
   "source": [
    "The Lagrangian function is:"
   ]
  },
  {
   "cell_type": "code",
   "execution_count": 25,
   "metadata": {
    "ExecuteTime": {
     "end_time": "2020-03-10T01:00:06.507893Z",
     "start_time": "2020-03-10T01:00:06.415142Z"
    }
   },
   "outputs": [
    {
     "data": {
      "text/latex": [
       "$\\displaystyle \\mathcal{L}=g m_{1} y_{1} + g m_{2} y_{2} - \\frac{k_{1} y^{2}_{1}}{2} - \\frac{k_{2} \\left(y_{1} - y_{2}\\right)^{2}}{2} + \\frac{m_{1} \\dot{y}_{1}^{2}}{2} + \\frac{m_{2} \\dot{y}_{2}^{2}}{2}$"
      ],
      "text/plain": [
       "<IPython.core.display.Math object>"
      ]
     },
     "metadata": {},
     "output_type": "display_data"
    }
   ],
   "source": [
    "y1d, y2d = y1.diff(t), y2.diff(t)\n",
    "\n",
    "T = (m1*y1d**2)/2 + (m2*y2d**2)/2\n",
    "V = (k1*y1**2)/2 + (k2*(y2-y1)**2)/2 - m1*g*y1 - m2*g*y2\n",
    "\n",
    "#display(Math(r'T=' + mlatex(simplify(T))))\n",
    "#display(Math(r'V=' + mlatex(simplify(V))))\n",
    "\n",
    "L = T - V\n",
    "\n",
    "display(Math(r'\\mathcal{L}=' + mlatex(simplify(L))))"
   ]
  },
  {
   "cell_type": "markdown",
   "metadata": {},
   "source": [
    "And the derivatives are (using the function we wrote before to automate this process):"
   ]
  },
  {
   "cell_type": "code",
   "execution_count": 26,
   "metadata": {
    "ExecuteTime": {
     "end_time": "2020-03-10T01:00:06.616299Z",
     "start_time": "2020-03-10T01:00:06.508881Z"
    }
   },
   "outputs": [
    {
     "data": {
      "text/latex": [
       "$\\displaystyle \\text{w.r.t. generalized coordinate}\\;\\operatorname{y_{1}}:$"
      ],
      "text/plain": [
       "<IPython.core.display.Math object>"
      ]
     },
     "metadata": {},
     "output_type": "display_data"
    },
    {
     "data": {
      "text/latex": [
       "$\\displaystyle \\quad\\dfrac{\\partial\\mathcal{L}}{\\partial \\operatorname{y_{1}}}=g m_{1} - k_{1} y_{1} - k_{2} \\left(y_{1} - y_{2}\\right)$"
      ],
      "text/plain": [
       "<IPython.core.display.Math object>"
      ]
     },
     "metadata": {},
     "output_type": "display_data"
    },
    {
     "data": {
      "text/latex": [
       "$\\displaystyle \\quad\\dfrac{\\partial\\mathcal{L}}{\\partial\\dot{\\operatorname{y_{1}}}}=m_{1} \\dot{y}_{1}$"
      ],
      "text/plain": [
       "<IPython.core.display.Math object>"
      ]
     },
     "metadata": {},
     "output_type": "display_data"
    },
    {
     "data": {
      "text/latex": [
       "$\\displaystyle \\quad\\dfrac{\\mathrm d}{\\mathrm{dt}}\\left({\\dfrac{\\partial\\mathcal{L}}{\\partial\\dot{\\operatorname{y_{1}}}}}\\right)=m_{1} \\ddot{y}_{1}$"
      ],
      "text/plain": [
       "<IPython.core.display.Math object>"
      ]
     },
     "metadata": {},
     "output_type": "display_data"
    },
    {
     "data": {
      "text/latex": [
       "$\\displaystyle \\text{w.r.t. generalized coordinate}\\;\\operatorname{y_{2}}:$"
      ],
      "text/plain": [
       "<IPython.core.display.Math object>"
      ]
     },
     "metadata": {},
     "output_type": "display_data"
    },
    {
     "data": {
      "text/latex": [
       "$\\displaystyle \\quad\\dfrac{\\partial\\mathcal{L}}{\\partial \\operatorname{y_{2}}}=g m_{2} + k_{2} \\left(y_{1} - y_{2}\\right)$"
      ],
      "text/plain": [
       "<IPython.core.display.Math object>"
      ]
     },
     "metadata": {},
     "output_type": "display_data"
    },
    {
     "data": {
      "text/latex": [
       "$\\displaystyle \\quad\\dfrac{\\partial\\mathcal{L}}{\\partial\\dot{\\operatorname{y_{2}}}}=m_{2} \\dot{y}_{2}$"
      ],
      "text/plain": [
       "<IPython.core.display.Math object>"
      ]
     },
     "metadata": {},
     "output_type": "display_data"
    },
    {
     "data": {
      "text/latex": [
       "$\\displaystyle \\quad\\dfrac{\\mathrm d}{\\mathrm{dt}}\\left({\\dfrac{\\partial\\mathcal{L}}{\\partial\\dot{\\operatorname{y_{2}}}}}\\right)=m_{2} \\ddot{y}_{2}$"
      ],
      "text/plain": [
       "<IPython.core.display.Math object>"
      ]
     },
     "metadata": {},
     "output_type": "display_data"
    }
   ],
   "source": [
    "Lterms = lagrange_terms(L, y1, y2)"
   ]
  },
  {
   "cell_type": "markdown",
   "metadata": {},
   "source": [
    "Finally, the Lagrange's equations (the equations of motion) are:"
   ]
  },
  {
   "cell_type": "code",
   "execution_count": 27,
   "metadata": {
    "ExecuteTime": {
     "end_time": "2020-03-10T01:00:06.751254Z",
     "start_time": "2020-03-10T01:00:06.617262Z"
    }
   },
   "outputs": [
    {
     "data": {
      "image/png": "[encoded data removed]",
      "text/latex": [
       "$\\displaystyle - g m_{1} + k_{1} y_{1} + k_{2} \\left(y_{1} - y_{2}\\right) + m_{1} \\ddot{y}_{1} = 0$"
      ],
      "text/plain": [
       "-g⋅m₁ + k₁⋅y₁ + k₂⋅(y₁ - y₂) + m₁⋅y₁̈ = 0"
      ]
     },
     "metadata": {},
     "output_type": "display_data"
    },
    {
     "data": {
      "image/png": "[encoded data removed]",
      "text/latex": [
       "$\\displaystyle - g m_{2} - k_{2} \\left(y_{1} - y_{2}\\right) + m_{2} \\ddot{y}_{2} = F$"
      ],
      "text/plain": [
       "-g⋅m₂ - k₂⋅(y₁ - y₂) + m₂⋅y₂̈ = F"
      ]
     },
     "metadata": {},
     "output_type": "display_data"
    }
   ],
   "source": [
    "display(Eq(simplify(Lterms[2]-Lterms[0]), 0))\n",
    "display(Eq(simplify(Lterms[5]-Lterms[3]), F))"
   ]
  },
  {
   "cell_type": "markdown",
   "metadata": {},
   "source": [
    "**Same problem, but with the other set of coordinates**\n",
    "\n",
    "Using ${z_1, z_2}$ as the position of mass $m_1$ w.r.t. the ceiling and the position of mass $m_2$ w.r.t. the mass $m_1$, the solution is:"
   ]
  },
  {
   "cell_type": "code",
   "execution_count": 28,
   "metadata": {
    "ExecuteTime": {
     "end_time": "2020-03-10T01:00:06.921750Z",
     "start_time": "2020-03-10T01:00:06.752228Z"
    }
   },
   "outputs": [
    {
     "data": {
      "text/latex": [
       "$\\displaystyle T=\\frac{m_{1} \\dot{z}_{1}^{2}}{2} + \\frac{m_{2} \\left(\\dot{z}_{1} + \\dot{z}_{2}\\right)^{2}}{2}$"
      ],
      "text/plain": [
       "<IPython.core.display.Math object>"
      ]
     },
     "metadata": {},
     "output_type": "display_data"
    },
    {
     "data": {
      "text/latex": [
       "$\\displaystyle V=- g m_{1} z_{1} - g m_{2} \\left(z_{1} + z_{2}\\right) + \\frac{k_{1} z^{2}_{1}}{2} + \\frac{k_{2} z^{2}_{2}}{2}$"
      ],
      "text/plain": [
       "<IPython.core.display.Math object>"
      ]
     },
     "metadata": {},
     "output_type": "display_data"
    },
    {
     "data": {
      "text/latex": [
       "$\\displaystyle \\mathcal{L}=g m_{1} z_{1} + g m_{2} \\left(z_{1} + z_{2}\\right) - \\frac{k_{1} z^{2}_{1}}{2} - \\frac{k_{2} z^{2}_{2}}{2} + \\frac{m_{1} \\dot{z}_{1}^{2}}{2} + \\frac{m_{2} \\left(\\dot{z}_{1} + \\dot{z}_{2}\\right)^{2}}{2}$"
      ],
      "text/plain": [
       "<IPython.core.display.Math object>"
      ]
     },
     "metadata": {},
     "output_type": "display_data"
    }
   ],
   "source": [
    "z1, z2 = dynamicsymbols('z1 z2')\n",
    "z1d, z2d = z1.diff(t), z2.diff(t)\n",
    "\n",
    "T = (m1*z1d**2)/2 + (m2*(z1d + z2d)**2)/2\n",
    "V = (k1*z1**2)/2 + (k2*z2**2)/2 - m1*g*z1 - m2*g*(z1+z2)\n",
    "\n",
    "display(Math(r'T=' + mlatex(simplify(T))))\n",
    "display(Math(r'V=' + mlatex(simplify(V))))\n",
    "\n",
    "L = T - V\n",
    "\n",
    "display(Math(r'\\mathcal{L}=' + mlatex(simplify(L))))"
   ]
  },
  {
   "cell_type": "code",
   "execution_count": 29,
   "metadata": {
    "ExecuteTime": {
     "end_time": "2020-03-10T01:00:07.053142Z",
     "start_time": "2020-03-10T01:00:06.922705Z"
    }
   },
   "outputs": [
    {
     "data": {
      "text/latex": [
       "$\\displaystyle \\text{w.r.t. generalized coordinate}\\;\\operatorname{z_{1}}:$"
      ],
      "text/plain": [
       "<IPython.core.display.Math object>"
      ]
     },
     "metadata": {},
     "output_type": "display_data"
    },
    {
     "data": {
      "text/latex": [
       "$\\displaystyle \\quad\\dfrac{\\partial\\mathcal{L}}{\\partial \\operatorname{z_{1}}}=g m_{1} + g m_{2} - k_{1} z_{1}$"
      ],
      "text/plain": [
       "<IPython.core.display.Math object>"
      ]
     },
     "metadata": {},
     "output_type": "display_data"
    },
    {
     "data": {
      "text/latex": [
       "$\\displaystyle \\quad\\dfrac{\\partial\\mathcal{L}}{\\partial\\dot{\\operatorname{z_{1}}}}=m_{1} \\dot{z}_{1} + m_{2} \\left(\\dot{z}_{1} + \\dot{z}_{2}\\right)$"
      ],
      "text/plain": [
       "<IPython.core.display.Math object>"
      ]
     },
     "metadata": {},
     "output_type": "display_data"
    },
    {
     "data": {
      "text/latex": [
       "$\\displaystyle \\quad\\dfrac{\\mathrm d}{\\mathrm{dt}}\\left({\\dfrac{\\partial\\mathcal{L}}{\\partial\\dot{\\operatorname{z_{1}}}}}\\right)=m_{1} \\ddot{z}_{1} + m_{2} \\left(\\ddot{z}_{1} + \\ddot{z}_{2}\\right)$"
      ],
      "text/plain": [
       "<IPython.core.display.Math object>"
      ]
     },
     "metadata": {},
     "output_type": "display_data"
    },
    {
     "data": {
      "text/latex": [
       "$\\displaystyle \\text{w.r.t. generalized coordinate}\\;\\operatorname{z_{2}}:$"
      ],
      "text/plain": [
       "<IPython.core.display.Math object>"
      ]
     },
     "metadata": {},
     "output_type": "display_data"
    },
    {
     "data": {
      "text/latex": [
       "$\\displaystyle \\quad\\dfrac{\\partial\\mathcal{L}}{\\partial \\operatorname{z_{2}}}=g m_{2} - k_{2} z_{2}$"
      ],
      "text/plain": [
       "<IPython.core.display.Math object>"
      ]
     },
     "metadata": {},
     "output_type": "display_data"
    },
    {
     "data": {
      "text/latex": [
       "$\\displaystyle \\quad\\dfrac{\\partial\\mathcal{L}}{\\partial\\dot{\\operatorname{z_{2}}}}=m_{2} \\left(\\dot{z}_{1} + \\dot{z}_{2}\\right)$"
      ],
      "text/plain": [
       "<IPython.core.display.Math object>"
      ]
     },
     "metadata": {},
     "output_type": "display_data"
    },
    {
     "data": {
      "text/latex": [
       "$\\displaystyle \\quad\\dfrac{\\mathrm d}{\\mathrm{dt}}\\left({\\dfrac{\\partial\\mathcal{L}}{\\partial\\dot{\\operatorname{z_{2}}}}}\\right)=m_{2} \\left(\\ddot{z}_{1} + \\ddot{z}_{2}\\right)$"
      ],
      "text/plain": [
       "<IPython.core.display.Math object>"
      ]
     },
     "metadata": {},
     "output_type": "display_data"
    }
   ],
   "source": [
    "Lterms = lagrange_terms(L, z1, z2)"
   ]
  },
  {
   "cell_type": "markdown",
   "metadata": {},
   "source": [
    "Finally, the Lagrange's equations (the equations of motion) are:"
   ]
  },
  {
   "cell_type": "code",
   "execution_count": 30,
   "metadata": {
    "ExecuteTime": {
     "end_time": "2020-03-10T01:00:07.153953Z",
     "start_time": "2020-03-10T01:00:07.054078Z"
    }
   },
   "outputs": [
    {
     "data": {
      "image/png": "[encoded data removed]",
      "text/latex": [
       "$\\displaystyle - g m_{1} - g m_{2} + k_{1} z_{1} + m_{1} \\ddot{z}_{1} + m_{2} \\left(\\ddot{z}_{1} + \\ddot{z}_{2}\\right) = F$"
      ],
      "text/plain": [
       "-g⋅m₁ - g⋅m₂ + k₁⋅z₁ + m₁⋅z₁̈ + m₂⋅(z₁̈ + z₂̈) = F"
      ]
     },
     "metadata": {},
     "output_type": "display_data"
    },
    {
     "data": {
      "image/png": "[encoded data removed]",
      "text/latex": [
       "$\\displaystyle - g m_{2} + k_{2} z_{2} + m_{2} \\left(\\ddot{z}_{1} + \\ddot{z}_{2}\\right) = F$"
      ],
      "text/plain": [
       "-g⋅m₂ + k₂⋅z₂ + m₂⋅(z₁̈ + z₂̈) = F"
      ]
     },
     "metadata": {},
     "output_type": "display_data"
    }
   ],
   "source": [
    "display(Eq(simplify(Lterms[2]-Lterms[0]), F))\n",
    "display(Eq(simplify(Lterms[5]-Lterms[3]), F))"
   ]
  },
  {
   "cell_type": "markdown",
   "metadata": {},
   "source": [
    "The solutions using the two sets of coordinates seem different; the reader is invited to verify that in fact they are the same (remember that $y_1 = z_1,\\, y_2 = z_1+z_2,\\, \\ddot{y}_2 = \\ddot{z}_1+\\ddot{z}_2$)."
   ]
  },
  {
   "cell_type": "markdown",
   "metadata": {},
   "source": [
    "**Same problem, but considering the spring resting length**  \n",
    "And here is the solution considering the rest length of the spring:"
   ]
  },
  {
   "cell_type": "code",
   "execution_count": 31,
   "metadata": {
    "ExecuteTime": {
     "end_time": "2020-03-10T01:00:07.495409Z",
     "start_time": "2020-03-10T01:00:07.154846Z"
    }
   },
   "outputs": [
    {
     "data": {
      "text/latex": [
       "$\\displaystyle \\mathcal{L}=g m_{1} y_{1} + g m_{2} y_{2} - \\frac{k_{1} \\left(\\ell_{1} - y_{1}\\right)^{2}}{2} - \\frac{k_{2} \\left(\\ell_{2} + y_{1} - y_{2}\\right)^{2}}{2} + \\frac{m_{1} \\dot{y}_{1}^{2}}{2} + \\frac{m_{2} \\dot{y}_{2}^{2}}{2}$"
      ],
      "text/plain": [
       "<IPython.core.display.Math object>"
      ]
     },
     "metadata": {},
     "output_type": "display_data"
    },
    {
     "data": {
      "image/png": "[encoded data removed]",
      "text/latex": [
       "$\\displaystyle - g m_{1} - k_{1} \\left(\\ell_{1} - y_{1}\\right) + k_{2} \\left(\\ell_{2} + y_{1} - y_{2}\\right) + m_{1} \\ddot{y}_{1} = 0$"
      ],
      "text/plain": [
       "-g⋅m₁ - k₁⋅(ell₁ - y₁) + k₂⋅(ell₂ + y₁ - y₂) + m₁⋅y₁̈ = 0"
      ]
     },
     "metadata": {},
     "output_type": "display_data"
    },
    {
     "data": {
      "image/png": "[encoded data removed]",
      "text/latex": [
       "$\\displaystyle - g m_{2} - k_{2} \\left(\\ell_{2} + y_{1} - y_{2}\\right) + m_{2} \\ddot{y}_{2} = F$"
      ],
      "text/plain": [
       "-g⋅m₂ - k₂⋅(ell₂ + y₁ - y₂) + m₂⋅y₂̈ = F"
      ]
     },
     "metadata": {},
     "output_type": "display_data"
    }
   ],
   "source": [
    "t = Symbol('t')\n",
    "m1, m2, g, k1, k2 = symbols('m1 m2 g k1 k2', positive=True)\n",
    "y1, y2, l1, l2, F = dynamicsymbols('y1 y2 ell1 ell2 F')\n",
    "\n",
    "y1d, y2d = y1.diff(t), y2.diff(t)\n",
    "T = (m1*y1d**2)/2 + (m2*y2d**2)/2\n",
    "V = (k1*(y1-l1)**2)/2 + (k2*((y2-y1)-l2)**2)/2 - m1*g*y1 - m2*g*y2\n",
    "\n",
    "L = T - V\n",
    "display(Math(r'\\mathcal{L}=' + mlatex(simplify(L))))\n",
    "\n",
    "Lterms = lagrange_terms(L, y1, y2, show=False)\n",
    "\n",
    "display(Eq(simplify(Lterms[2]-Lterms[0]), 0))\n",
    "display(Eq(simplify(Lterms[5]-Lterms[3]), F))"
   ]
  },
  {
   "cell_type": "markdown",
   "metadata": {},
   "source": [
    "## Non-conservative forces\n",
    "\n",
    "The dissipation energy of a non-conservative system with a non-conservative force (e.g., the viscous force from a damper, which is proportional to velocity) can be expressed as:\n",
    "\n",
    "\\begin{equation} \n",
    "D_i = \\frac{1}{2}C \\, \\dot{q}_i^2\n",
    "\\label{dissipation}\n",
    "\\end{equation}\n",
    "\n",
    "And the Lagrange's equation can be extended to include such non-conservative force in the following way: \n",
    "\n",
    "\\begin{equation} \n",
    "\\frac{\\mathrm d }{\\mathrm d t}\\left( {\\frac{\\partial \\mathcal{L}}{\\partial \\dot{q}_i }} \n",
    "\\right)-\\frac{\\partial \\mathcal{L}}{\\partial q_i } + \\frac{\\partial D_i}{\\partial \\dot{q}_i }= 0\n",
    "\\label{lagrange_dissip}\n",
    "\\end{equation}"
   ]
  },
  {
   "cell_type": "markdown",
   "metadata": {},
   "source": [
    "### Example 9: Mass-spring-damper system\n",
    "\n",
    "<figure><img src=\"./../images/mass_spring_damper.png\" width=\"200\" alt=\"mass-spring-damper system\" style=\"float:right;margin: 10px 50px 10px 50px;\"/></figure>\n",
    "\n",
    "Consider a mass-spring-damper system with an external force acting on the mass.  \n",
    "The massless spring has a stiffness coefficient $k$ and length at rest $x_0$.  \n",
    "The massless damper has a damping coefficient $b$.  \n",
    "For simplicity, consider that the system starts at the resting position of the spring ($x=0$ at $x_0$).  \n",
    "The system has one degree of freedom and we need only one generalized coordinate ($x$) to describe the system's configuration.  \n",
    "\n",
    "Let's use the Lagrangian mechanics to derive the equations of motion for the system.\n",
    "\n",
    "The kinetic energy of the system is:\n",
    "\n",
    "\\begin{equation}\n",
    "T = \\frac{1}{2} m \\dot x^2\n",
    "\\end{equation}\n",
    "\n",
    "The potential energy of the system is:\n",
    "\n",
    "\\begin{equation}\n",
    "V = \\frac{1}{2} k x^2\n",
    "\\end{equation}\n",
    "\n",
    "The Lagrangian function is:\n",
    "\n",
    "\\begin{equation} \n",
    "\\mathcal{L} = \\frac{1}{2} m \\dot x^2 - \\frac{1}{2} k x^2\n",
    "\\end{equation}\n",
    "\n",
    "The dissipation energy of the system is:\n",
    "\n",
    "\\begin{equation}\n",
    "D = \\frac{1}{2} b \\dot x^2\n",
    "\\end{equation}\n",
    "\n",
    "Calculating all the terms in the Lagrange's equation for a dissipative process (cf. Eq. (\\ref{lagrange_dissip})), the classical equation for a mass-spring-damper system can be found:  \n",
    "\n",
    "\\begin{equation}\n",
    "m\\ddot{x} + b\\dot{x} + kx = F(t)\n",
    "\\end{equation}"
   ]
  },
  {
   "cell_type": "markdown",
   "metadata": {},
   "source": [
    "### Example 10: Mass-spring-damper system with gravity\n",
    "\n",
    "<figure><img src=\"./../images/mass_spring_damper_gravity.png\" width=\"220\" alt=\"mass-spring-damper system\" style=\"float:right;margin: 10px 50px 10px 50px;\"/></figure>\n",
    "\n",
    "Consider a mass-spring-damper system under the action of the gravitational force ($g=10 m/s^2$) and an external force acting on the mass.  \n",
    "The massless spring has a stiffness coefficient $k$ and length at rest $y_0$.  \n",
    "The massless damper has a damping coefficient $b$.  \n",
    "The gravitational force acts downwards and it is negative (see figure).\n",
    "For simplicity, consider that the system starts at the resting position of the spring ($y=0$ at $y_0$).  \n",
    "The system has one degree of freedom and we need only one generalized coordinate ($y$) to describe the system's configuration.  \n",
    "\n",
    "Let's use the Lagrangian mechanics to derive the equations of motion for the system.\n",
    "\n",
    "The kinetic energy of the system is:\n",
    "\n",
    "\\begin{equation}\n",
    "T = \\frac{1}{2} m \\dot y^2\n",
    "\\end{equation}\n",
    "\n",
    "The potential energy of the system is:\n",
    "\n",
    "\\begin{equation}\n",
    "V = \\frac{1}{2} k y^2 + m g y\n",
    "\\end{equation}\n",
    "\n",
    "The Lagrangian function is:\n",
    "\n",
    "\\begin{equation} \n",
    "\\mathcal{L} = \\frac{1}{2} m \\dot y^2 - \\frac{1}{2} k y^2 - m g y\n",
    "\\end{equation}\n",
    "\n",
    "The dissipation energy of the system is:\n",
    "\n",
    "\\begin{equation}\n",
    "D = \\frac{1}{2} b \\dot y^2\n",
    "\\end{equation}\n",
    "\n",
    "The derivatives of the Lagrangian w.r.t. $y$ and $t$ are:\n",
    "\n",
    "\\begin{equation}\\begin{array}{rcl}\n",
    "\\dfrac{\\partial \\mathcal{L}}{\\partial y} &=& -ky - mg \\\\\n",
    "\\dfrac{\\partial \\mathcal{L}}{\\partial \\dot{y}} &=& m \\dot{y} \\\\\n",
    "\\dfrac{\\mathrm d }{\\mathrm d t}\\left( {\\dfrac{\\partial \\mathcal{L}}{\\partial \\dot{y}}} \\right) &=& m\\ddot{y} \n",
    "\\end{array}\\end{equation}\n",
    "\n",
    "The derivative of the dissipation energy w.r.t. $\\dot{y}$ is:\n",
    "\n",
    "\\begin{equation}\n",
    "\\frac{\\partial D_i}{\\partial \\dot{y}_i } = b \\dot y\n",
    "\\end{equation}\n",
    "\n",
    "Substituting all these terms in the Lagrange's equation: \n",
    "\n",
    "\\begin{equation} \n",
    "\\frac{\\mathrm d }{\\mathrm d t}\\left( {\\frac{\\partial \\mathcal{L}}{\\partial \\dot{q}_i }} \n",
    "\\right)-\\frac{\\partial \\mathcal{L}}{\\partial q_i } + \\frac{\\partial D_i}{\\partial \\dot{q}_i } = Q_{NCi}\n",
    "\\label{lagrange_dissip2}\n",
    "\\end{equation}\n",
    "\n",
    "Results in:\n",
    "\n",
    "\\begin{equation}\n",
    "m\\ddot{y} + b\\dot{y} + ky + mg = F_0 \\cos(\\omega t)\n",
    "\\end{equation}"
   ]
  },
  {
   "cell_type": "markdown",
   "metadata": {},
   "source": [
    "#### Example 10a: Numerical solution of the equation of motion for mass-spring-damper system\n",
    "\n",
    "Let's solve the differential equation for the pendulum numerically using the [Euler’s method](https://nbviewer.jupyter.org/github/demotu/BMC/blob/master/notebooks/OrdinaryDifferentialEquation.ipynb#Euler-method).  \n",
    "Remember that we have to (1) transform the second-order ODE into two coupled first-order ODEs, (2) approximate the derivative of each variable by its discrete first order difference and (3) write equation to calculate the variable in a recursive way, updating its value with an equation based on the first order difference.  \n",
    "In Python:  "
   ]
  },
  {
   "cell_type": "code",
   "execution_count": 32,
   "metadata": {
    "ExecuteTime": {
     "end_time": "2020-03-10T01:00:07.500775Z",
     "start_time": "2020-03-10T01:00:07.496430Z"
    }
   },
   "outputs": [],
   "source": [
    "def msdg_euler(T, y0, v0, h):\n",
    "    \"\"\"\n",
    "    Two coupled first-order ODEs for the pendulum (v is a new variable):\n",
    "        dydt = v\n",
    "        dvdt = (F0*np.cos(omega*t) - b*v - k*y - m*g)/m\n",
    "    Two equations to update the values of the variables based on first-order difference:\n",
    "        y[n+1] = y[n] + h*v[n]\n",
    "        v[n+1] = v[n] + h*dvdt[n]\n",
    "    \"\"\"\n",
    "    \n",
    "    N = int(np.ceil(T/h))\n",
    "    y, v = np.zeros(N), np.zeros(N)\n",
    "    y[0], v[0] = y0, v0\n",
    "    m = 1    # mass, kg\n",
    "    k = 100  # spring coefficient, N/m\n",
    "    b = 2    # damping coefficient, N/m/s\n",
    "    F0 = 1   # external force, N\n",
    "    w = 1    # angular frequency, Hz\n",
    "    g = 10   # acceleration of gravity, m/s2\n",
    "    \n",
    "    t = np.linspace(0, T, N, endpoint=False)\n",
    "    \n",
    "    F = F0*np.cos(w*t)\n",
    "    \n",
    "    for i in range(N-1):\n",
    "        y[i+1] = y[i] + h*v[i]\n",
    "        v[i+1] = v[i] + h*((F[i] - b*v[i] - k*y[i] - m*g)/m)\n",
    " \n",
    "    return t, y, v"
   ]
  },
  {
   "cell_type": "code",
   "execution_count": 33,
   "metadata": {
    "ExecuteTime": {
     "end_time": "2020-03-10T01:00:07.505390Z",
     "start_time": "2020-03-10T01:00:07.501760Z"
    }
   },
   "outputs": [],
   "source": [
    "def plot(t, y, v):\n",
    "    \"\"\"\n",
    "    Plot data\n",
    "    \"\"\"\n",
    "    fig, ax1 = plt.subplots(1, 1, figsize=(8, 3))\n",
    "    ax1.set_title('Simulation of mass-spring-damper system under gravity and external force')\n",
    "    ax1.plot(t, y, 'b', label='Position')\n",
    "    ax1.set_xlabel('Time (s)')\n",
    "    ax1.set_ylabel('Position (m)', color='b')\n",
    "    ax1.tick_params('y', colors='b')\n",
    "    ax2 = ax1.twinx()\n",
    "    ax2.plot(t, v, 'r', label='Velocity')\n",
    "    ax2.set_ylabel('Velocity (m/s)', color='r')\n",
    "    ax2.tick_params('y', colors='r')    \n",
    "    plt.tight_layout()\n",
    "    plt.show()"
   ]
  },
  {
   "cell_type": "code",
   "execution_count": 34,
   "metadata": {
    "ExecuteTime": {
     "end_time": "2020-03-10T01:00:07.654921Z",
     "start_time": "2020-03-10T01:00:07.506460Z"
    }
   },
   "outputs": [
    {
     "data": {
      "image/png": "[encoded data removed]",
      "text/plain": [
       "<Figure size 576x216 with 2 Axes>"
      ]
     },
     "metadata": {
      "needs_background": "light"
     },
     "output_type": "display_data"
    }
   ],
   "source": [
    "T, y0, v0, h = 10, .1, 0, .01\n",
    "t, y, v = msdg_euler(T, y0, v0, h)\n",
    "plot(t, y, v)"
   ]
  },
  {
   "cell_type": "markdown",
   "metadata": {},
   "source": [
    "## Forces of constraint\n",
    "\n",
    "The fact the Lagrangian formalism uses generalized coordinates means that in a system with constraints we typically have fewer coordinates (in turn, fewer equations of motion) and we don't need to worry about forces of constraint that we would have to consider in the Newtonian formalism.  \n",
    "However, when we do want to determine a force of constraint, using Lagrangian formalism in fact will be disadvantageous! Let's see now one way of determining a force of constraint using Lagrangian formalism. The trick is to postpone the consideration that there is a constraint in the system; this will increase the number of generalized coordinates but will allow the determination of a force of constraint. \n",
    "Let's exemplify this approach determining the tension at the rod in the simple pendulum under the influence of gravity we saw earlier."
   ]
  },
  {
   "cell_type": "markdown",
   "metadata": {},
   "source": [
    "### Example 11: Force of constraint in a simple pendulum under the influence of gravity\n",
    "\n",
    "<figure><img src=\"./../images/simplependulum_lagrange.png\" width=\"220\" alt=\"simple pendulum\" style=\"float:right;margin: 10px 50px 10px 50px;\"/></figure>\n",
    "\n",
    "Consider a pendulum with a massless rod of length $d$ and a mass $m$ at the extremity swinging in a plane forming the angle $\\theta$ with vertical and $g=10 m/s^2$.  \n",
    "\n",
    "Although the pendulum moves at the plane, it only has one degree of freedom, which can be described by the angle $\\theta$, the generalized coordinate. But because we want to determine the force of constraint tension at the rod, let's also consider for now the variable $r$ for the 'varying' length of the rod (instead of the constant $d$).  \n",
    "\n",
    "In this case, the kinetic energy of the system will be:\n",
    "\n",
    "\\begin{equation}\n",
    "T = \\frac{1}{2}mr^2\\dot\\theta^2 + \\frac{1}{2}m\\dot r^2\n",
    "\\end{equation}\n",
    "\n",
    "And for the potential energy we will also have to consider the constraining potential, $V_r(r(t))$:\n",
    "\n",
    "\\begin{equation}\n",
    "V = -mgr\\cos\\theta + V_r(r(t))\n",
    "\\end{equation}\n",
    "\n",
    "The Lagrangian function is:\n",
    "\n",
    "\\begin{equation}\n",
    "\\mathcal{L}(\\theta, \\dot\\theta, t) = \\frac{1}{2}m(\\dot r^2(t) + r^2(t)\\,\\dot\\theta^2(t)) + mgr(t)\\cos\\theta(t) - V_r(r(t))\n",
    "\\end{equation}\n",
    "\n",
    "The derivatives w.r.t. $\\theta$ are:\n",
    "\n",
    "\\begin{equation} \\begin{array}{rcl}\n",
    "&\\dfrac{\\partial \\mathcal{L}}{\\partial \\theta} &=& -mgr\\sin\\theta \\\\\n",
    "&\\dfrac{\\partial \\mathcal{L}}{\\partial \\dot{\\theta}} &=& mr^2\\dot{\\theta} \\\\\n",
    "&\\dfrac{\\mathrm d }{\\mathrm d t}\\left( {\\dfrac{\\partial \\mathcal{L}}{\\partial \\dot{\\theta}}} \\right) &=& 2mr\\dot{r}\\dot{\\theta} + mr^2\\ddot{\\theta}\n",
    "\\end{array} \\end{equation}\n",
    "\n",
    "The derivatives w.r.t. $r$ are:\n",
    "\n",
    "\\begin{equation} \\begin{array}{rcl}\n",
    "&\\dfrac{\\partial \\mathcal{L}}{\\partial r} &=& mr \\dot\\theta^2 + mg\\cos\\theta - \\dot{V}_r(r) \\\\\n",
    "&\\dfrac{\\partial \\mathcal{L}}{\\partial \\dot{r}} &=& m\\dot r \\\\\n",
    "&\\dfrac{\\mathrm d }{\\mathrm d t}\\left( {\\dfrac{\\partial \\mathcal{L}}{\\partial \\dot{r}}} \\right) &=& m\\ddot{r}\n",
    "\\end{array} \\end{equation}\n",
    "\n",
    "The Lagrange's equations (the equations of motion) are:\n",
    "\n",
    "\\begin{equation} \\begin{array}{rcl}\n",
    "&2mr\\dot{r}\\dot{\\theta} + mr^2\\ddot{\\theta} + mgr\\sin\\theta &=& 0 \\\\\n",
    "&m\\ddot{r} - mr \\dot\\theta^2 - mg\\cos\\theta + \\dot{V}_r(r) &=& 0 \\\\\n",
    "\\end{array} \\end{equation}\n",
    "\n",
    "Now, we will apply the constraint condition, $r(t)=d$. This means that $\\dot{r}=\\ddot{r}=0$.  \n",
    "\n",
    "With this constraint applied, the first Lagrange's equation is the equation for the simple pendulum:\n",
    "\n",
    "\\begin{equation}\n",
    "md^2\\ddot{\\theta} + mgd\\sin\\theta = 0\n",
    "\\end{equation}\n",
    "\n",
    "The second equation yields:\n",
    "\n",
    "\\begin{equation}\n",
    "-\\dfrac{\\mathrm d V_r}{\\mathrm d r}\\bigg{\\rvert}_{r=d} = - md \\dot\\theta^2 - mg\\cos\\theta\n",
    "\\end{equation}\n",
    "\n",
    "But the tension force, $F_T$, is by definition equal to the gradient of the constraining potential, so:\n",
    "\n",
    "\\begin{equation}\n",
    "F_T = - md \\dot\\theta^2 - mg\\cos\\theta\n",
    "\\end{equation}\n",
    "\n",
    "As expected, the tension at the rod is proportional to the centripetal and the gravitational forces."
   ]
  },
  {
   "cell_type": "markdown",
   "metadata": {},
   "source": [
    "### Example 12: Lagrangian formalism for RLC eletrical circuits\n",
    "\n",
    "<figure><img src=\"https://upload.wikimedia.org/wikipedia/en/thumb/6/65/Mobility_analogy_resonator_vertical.svg/198px-Mobility_analogy_resonator_vertical.svg.png\" width=\"150\" alt=\"RLC analogy\" style=\"float:right;margin: 10px 10px 10px 10px;\"/></figure>\n",
    "\n",
    "It's possible to solve a RLC (Resistance-Inductance-Capacitance) electrical circuit using the Lagrangian formalism as an analogy with a mass-spring-damper system.  \n",
    "\n",
    "In such analogy, the electrical charge is equivalent to position, current to velocity, inductance to mass, inverse of the capacitance to spring constant, resistance to damper constant (a dissipative element), and a generator would be analog to an external force actuating on the system. See the [Wikipedia](https://en.wikipedia.org/wiki/Mechanical%E2%80%93electrical_analogies) and [this paper](https://arxiv.org/pdf/1711.10245.pdf) for more details on this analogy.\n",
    "\n",
    "Let's see how to deduce the equivalent of equation of motion for a RLC series circuit (the Kirchhoff’s Voltage Law (KVL) equation).\n",
    "\n",
    "<figure><img src=\"https://upload.wikimedia.org/wikipedia/commons/thumb/f/fb/RLC_series_circuit_v1.svg/173px-RLC_series_circuit_v1.svg.png\" width=\"140\" alt=\"RLC circuit\" style=\"float:right;margin: 0px 10px 0px 10px;\"/></figure>\n",
    "\n",
    "For a series RLC circuit, consider the following notation:  \n",
    "$q$: charge  \n",
    "$\\dot{q}$: current admitted through the circuit  \n",
    "$R$: effective resistance of the combined load, source, and components    \n",
    "$C$: capacitance of the capacitor component  \n",
    "$L$: inductance of the inductor component  \n",
    "$u$: voltage source powering the circuit  \n",
    "$P$: power dissipated by the resistance  \n",
    "\n",
    "So, the equivalents of kinetic and potential energies are:  \n",
    "$T = \\frac{1}{2}L\\dot{q}^2$  \n",
    "$V = \\frac{1}{2C}q^2$  \n",
    "With a dissipative element:  \n",
    "$P = \\frac{1}{2}R\\dot{q}^2$  \n",
    "And the Lagrangian function is:  \n",
    "$\\mathcal{L} = \\frac{1}{2}L\\dot{q}^2 - \\frac{1}{2C}q^2$  \n",
    "\n",
    "Calculating the derivatives and substituting them in the Lagrange equation, we will have:  \n",
    "\n",
    "\\begin{equation}\n",
    "L \\ddot{q} + R\\dot{q} + \\frac{q}{C} = u(t)\n",
    "\\end{equation}\n",
    "\n",
    "Replacing $\\dot{q}$ by $i$ and considering $v_c = q/C$ for a capacitor, we have the familar KVL equation:\n",
    "\n",
    "\\begin{equation}\n",
    "L \\frac{\\mathrm d i}{\\mathrm d t} + v_c + Ri = u(t)\n",
    "\\end{equation}"
   ]
  },
  {
   "cell_type": "markdown",
   "metadata": {},
   "source": [
    "## Considerations on the Lagrangian mechanics\n",
    "\n",
    "The Lagrangian mechanics does not constitute a new theory in classical mechanics; the results of a Lagrangian or Newtonian analysis must be the same for any mechanical system, only the method used to obtain the results is different. \n",
    "\n",
    "We are accustomed to think of mechanical systems in terms of vector quantities such as force, velocity, angular momentum, torque, etc., but in the Lagrangian formalism the equations of motion are obtained entirely in terms of the kinetic and potential energies (scalar operations) in the configuration space. Another important aspect of the force vs. energy analogy is that in situations where it is not possible to make explicit all the forces acting on the body, it is still possible to obtain expressions for the kinetic and potential energies. \n",
    "\n",
    "In fact, the concept of force does not enter into Lagrangian mechanics. This is an important property of the method. Since energy is a scalar quantity, the Lagrangian function for a system is invariant for coordinate transformations. Therefore, it is possible to move from a certain configuration space (in which the equations of motion can be somewhat complicated) to a space that can be chosen to allow maximum simplification of the problem. "
   ]
  },
  {
   "cell_type": "markdown",
   "metadata": {},
   "source": [
    "## Convention to report the equations of motion\n",
    "\n",
    "There is an elegant form to display the equations of motion using generalized coordinates $q_i$ grouping the terms proportional to common quantities in matrices, see for example, Craig (2005, page 180), Pandy (2001), and Zatsiorsky (2002, page 383):\n",
    "\n",
    "\\begin{equation}\n",
    "\\quad M(q_i)\\ddot{q_i} + C(q_i,\\dot{q}_i) + G(q_i) = Q(q_i,\\dot{q}_i)\n",
    "\\label{}\n",
    "\\end{equation}\n",
    "\n",
    "Where, for a system with $N$ generalized coordinates:  \n",
    "- $M$ is the inertia matrix ($NxN$);  \n",
    "- $\\ddot{q_i}$ is a matrix ($Nx1$ of generalized accelerations);  \n",
    "- $C$ is a matrix ($Nx1$) of [centripetal](http://en.wikipedia.org/wiki/Centripetal_force) and [Coriolis](http://en.wikipedia.org/wiki/Coriolis_effect) generalized forces;  \n",
    "- $G$ is a matrix ($Nx1$) of  gravitational generalized forces;  \n",
    "- $Q$ is a matrix ($Nx1$) of external generalized forces. \n",
    "\n",
    "The reader is invited to express the equations of motion from the examples above in this form."
   ]
  },
  {
   "cell_type": "markdown",
   "metadata": {},
   "source": [
    "## Problems\n",
    "\n",
    "1. Derive the Lagrange's equation (the equation of motion) for a mass-spring system where the spring is attached to the ceiling and the mass in hanging in the vertical.  \n",
    "<figure><img src=\"./../images/springgravity.png\" width=\"200\" alt=\"mass-spring with gravity\"/></figure>\n",
    "2. Derive the Lagrange's equation for an inverted pendulum in the vertical.  \n",
    "<figure><img src=\"./../images/invpendulum2.png\" width=\"200\" alt=\"inverted pendulum\"/></figure>\n",
    "3. Derive the Lagrange's equation for the following system:  \n",
    "<figure><img src=\"./../images/massessprings_lagrange.png\" width=\"280\" alt=\"two masses and two springs\"/></figure>\n",
    "4. Derive the Lagrange's equation for a spring pendulum, a simple pendulum where a mass $m$ is attached to a massless spring with spring constant $k$ and length at rest $d_0$.  \n",
    "<figure><img src=\"./../images/pendulumspring.png\" width=\"200\" alt=\"mass-spring pendulum\"/></figure>\n",
    "5. Derive the Lagrange's equation for the system shown below.  \n",
    "<figure><img src=\"./../images/pendulumramp.png\" width=\"250\" alt=\"pendulum on a ramp\"/></figure>  \n",
    "6. Derive the Lagrange's equation for the following Atwood machine (consider that $m_1 > m_2$, i.e., the pulley will rotate counter-clockwise, and that moving down is in the positive direction):  \n",
    "<figure><img src=\"./../images/atwood_machine.png\" width=\"125\" alt=\"Atwood machine\"/></figure>   \n",
    "7. Write computer programs (in Python!) to solve numerically the equations of motion from the problems above.  "
   ]
  },
  {
   "cell_type": "markdown",
   "metadata": {},
   "source": [
    "## References\n",
    " \n",
    "- Marion JB (1970) [Classical Dynamics of particles and systems](https://books.google.com.br/books?id=Ss43BQAAQBAJ), 2nd ed., Academic Press.  \n",
    "- Synge JL (1949) [Principles of Mechanics](https://books.google.com.br/books?id=qsYfENCRG5QC), 2nd ed., McGraw-hill.  \n",
    "- Taylor J (2005) [Classical Mechanics](https://archive.org/details/JohnTaylorClassicalMechanics). University Science Books.  "
   ]
  }
 ],
 "metadata": {
  "anaconda-cloud": {},
  "hide_input": false,
  "kernelspec": {
   "display_name": "Python 3",
   "language": "python",
   "name": "python3"
  },
  "language_info": {
   "codemirror_mode": {
    "name": "ipython",
    "version": 3
   },
   "file_extension": ".py",
   "mimetype": "text/x-python",
   "name": "python",
   "nbconvert_exporter": "python",
   "pygments_lexer": "ipython3",
   "version": "3.6.10"
  },
  "latex_envs": {
   "LaTeX_envs_menu_present": true,
   "autocomplete": true,
   "bibliofile": "biblio.bib",
   "cite_by": "apalike",
   "current_citInitial": 1,
   "eqLabelWithNumbers": true,
   "eqNumInitial": 1,
   "hotkeys": {
    "equation": "Ctrl-E",
    "itemize": "Ctrl-I"
   },
   "labels_anchors": false,
   "latex_user_defs": false,
   "report_style_numbering": false,
   "user_envs_cfg": false
  },
  "nbTranslate": {
   "displayLangs": [
    "*"
   ],
   "hotkey": "alt-t",
   "langInMainMenu": true,
   "sourceLang": "en",
   "targetLang": "pt",
   "useGoogleTranslate": true
  },
  "toc": {
   "base_numbering": 1,
   "nav_menu": {},
   "number_sections": true,
   "sideBar": true,
   "skip_h1_title": false,
   "title_cell": "Table of Contents",
   "title_sidebar": "Contents",
   "toc_cell": false,
   "toc_position": {},
   "toc_section_display": true,
   "toc_window_display": false
  },
  "toc-autonumbering": false,
  "toc-showcode": false,
  "toc-showmarkdowntxt": false,
  "varInspector": {
   "cols": {
    "lenName": 16,
    "lenType": 16,
    "lenVar": 40
   },
   "kernels_config": {
    "python": {
     "delete_cmd_postfix": "",
     "delete_cmd_prefix": "del ",
     "library": "var_list.py",
     "varRefreshCmd": "print(var_dic_list())"
    },
    "r": {
     "delete_cmd_postfix": ") ",
     "delete_cmd_prefix": "rm(",
     "library": "var_list.r",
     "varRefreshCmd": "cat(var_dic_list()) "
    }
   },
   "types_to_exclude": [
    "module",
    "function",
    "builtin_function_or_method",
    "instance",
    "_Feature"
   ],
   "window_display": false
  }
 },
 "nbformat": 4,
 "nbformat_minor": 4
}
