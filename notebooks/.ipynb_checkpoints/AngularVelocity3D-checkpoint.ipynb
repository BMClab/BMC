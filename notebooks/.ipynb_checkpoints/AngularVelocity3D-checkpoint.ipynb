{
 "cells": [
  {
   "cell_type": "markdown",
   "metadata": {
    "slideshow": {
     "slide_type": "slide"
    }
   },
   "source": [
    "# Angular velocity in 3D movements\n",
    "\n",
    "> Renato Naville Watanabe  \n",
    "> Laboratory of Biomechanics and Motor Control ([http://pesquisa.ufabc.edu.br/bmclab](http://pesquisa.ufabc.edu.br/bmclab))  \n",
    "> Federal University of ABC, Brazil"
   ]
  },
  {
   "cell_type": "markdown",
   "metadata": {
    "slideshow": {
     "slide_type": "slide"
    }
   },
   "source": [
    "An usual problem found in Biomechanics (and Mechanics in general) is to find the angular velocity of an object. We consider that a basis <span class=\"notranslate\">\n",
    "$\\hat{\\boldsymbol e_1}$, $\\hat{\\boldsymbol  e_2}$</span> and  <span class=\"notranslate\">$\\hat{\\boldsymbol  e_3}$</span> is attached to the body and is known. To learn how to find a basis of a frame of reference, see [this notebook](https://nbviewer.jupyter.org/github/BMClab/bmc/blob/master/notebooks/ReferenceFrame.ipynb).\n",
    "\n",
    "<figure><img src=\"../images/3DbodyrefMove.png\\\" width=800 />"
   ]
  },
  {
   "cell_type": "markdown",
   "metadata": {
    "slideshow": {
     "slide_type": "slide"
    }
   },
   "source": [
    "## Axis of rotation\n",
    "\n",
    "As in the planar movement, the angular velocity is a vector perpendicular to the rotation. The line in the direction of the angular velocity vector is known as the axis of rotation. \n",
    "\n",
    "The rotation beween two frames of reference is characterized by the rotation matrix $R$ obtained by stacking the versors  <span class=\"notranslate\">$\\hat{\\boldsymbol e_1}$, $\\hat{\\boldsymbol e_2}$</span> and  <span class=\"notranslate\">$\\hat{\\boldsymbol e_3}$</span> in each column of the matrix (for a revision on rotation matrices see [this](https://nbviewer.jupyter.org/github/bmclab/bmc/blob/master/notebooks/Transformation2D.ipynb) and [this](https://nbviewer.jupyter.org/github/bmclab/bmc/blob/master/notebooks/Transformation3D.ipynb) notebooks). \n",
    "\n",
    "A vector in the direction of the axis of rotation is a vector that does not changes the position after the rotation. That is:\n",
    "\n",
    " <span class=\"notranslate\">\n",
    "\\begin{equation}\n",
    "v = Rv\n",
    "\\end{equation}\n",
    "</span>\n",
    "\n",
    "\n",
    "This vector is the eigenvector of the rotation matrix  <span class=\"notranslate\">$R$</span> with eigenvalue equal to one.  "
   ]
  },
  {
   "cell_type": "markdown",
   "metadata": {
    "slideshow": {
     "slide_type": "slide"
    }
   },
   "source": [
    "Below the yellow arrow indicates the axis of rotation of the rotation between the position of the reference frame   <span class=\"notranslate\">$\\hat{\\boldsymbol i}$, $\\hat{\\boldsymbol j}$</span> and  <span class=\"notranslate\">$\\hat{\\boldsymbol k}$</span> and the reference frame of  <span class=\"notranslate\">$\\hat{\\boldsymbol e_1}$, $\\hat{\\boldsymbol e_2}$</span> and  <span class=\"notranslate\">$\\hat{\\boldsymbol e_3}$</span>."
   ]
  },
  {
   "cell_type": "code",
   "execution_count": 22,
   "metadata": {
    "slideshow": {
     "slide_type": "fragment"
    }
   },
   "outputs": [
    {
     "data": {
      "application/javascript": [
       "/* Put everything inside the global mpl namespace */\n",
       "window.mpl = {};\n",
       "\n",
       "\n",
       "mpl.get_websocket_type = function() {\n",
       "    if (typeof(WebSocket) !== 'undefined') {\n",
       "        return WebSocket;\n",
       "    } else if (typeof(MozWebSocket) !== 'undefined') {\n",
       "        return MozWebSocket;\n",
       "    } else {\n",
       "        alert('Your browser does not have WebSocket support. ' +\n",
       "              'Please try Chrome, Safari or Firefox ≥ 6. ' +\n",
       "              'Firefox 4 and 5 are also supported but you ' +\n",
       "              'have to enable WebSockets in about:config.');\n",
       "    };\n",
       "}\n",
       "\n",
       "mpl.figure = function(figure_id, websocket, ondownload, parent_element) {\n",
       "    this.id = figure_id;\n",
       "\n",
       "    this.ws = websocket;\n",
       "\n",
       "    this.supports_binary = (this.ws.binaryType != undefined);\n",
       "\n",
       "    if (!this.supports_binary) {\n",
       "        var warnings = document.getElementById(\"mpl-warnings\");\n",
       "        if (warnings) {\n",
       "            warnings.style.display = 'block';\n",
       "            warnings.textContent = (\n",
       "                \"This browser does not support binary websocket messages. \" +\n",
       "                    \"Performance may be slow.\");\n",
       "        }\n",
       "    }\n",
       "\n",
       "    this.imageObj = new Image();\n",
       "\n",
       "    this.context = undefined;\n",
       "    this.message = undefined;\n",
       "    this.canvas = undefined;\n",
       "    this.rubberband_canvas = undefined;\n",
       "    this.rubberband_context = undefined;\n",
       "    this.format_dropdown = undefined;\n",
       "\n",
       "    this.image_mode = 'full';\n",
       "\n",
       "    this.root = $('<div/>');\n",
       "    this._root_extra_style(this.root)\n",
       "    this.root.attr('style', 'display: inline-block');\n",
       "\n",
       "    $(parent_element).append(this.root);\n",
       "\n",
       "    this._init_header(this);\n",
       "    this._init_canvas(this);\n",
       "    this._init_toolbar(this);\n",
       "\n",
       "    var fig = this;\n",
       "\n",
       "    this.waiting = false;\n",
       "\n",
       "    this.ws.onopen =  function () {\n",
       "            fig.send_message(\"supports_binary\", {value: fig.supports_binary});\n",
       "            fig.send_message(\"send_image_mode\", {});\n",
       "            if (mpl.ratio != 1) {\n",
       "                fig.send_message(\"set_dpi_ratio\", {'dpi_ratio': mpl.ratio});\n",
       "            }\n",
       "            fig.send_message(\"refresh\", {});\n",
       "        }\n",
       "\n",
       "    this.imageObj.onload = function() {\n",
       "            if (fig.image_mode == 'full') {\n",
       "                // Full images could contain transparency (where diff images\n",
       "                // almost always do), so we need to clear the canvas so that\n",
       "                // there is no ghosting.\n",
       "                fig.context.clearRect(0, 0, fig.canvas.width, fig.canvas.height);\n",
       "            }\n",
       "            fig.context.drawImage(fig.imageObj, 0, 0);\n",
       "        };\n",
       "\n",
       "    this.imageObj.onunload = function() {\n",
       "        fig.ws.close();\n",
       "    }\n",
       "\n",
       "    this.ws.onmessage = this._make_on_message_function(this);\n",
       "\n",
       "    this.ondownload = ondownload;\n",
       "}\n",
       "\n",
       "mpl.figure.prototype._init_header = function() {\n",
       "    var titlebar = $(\n",
       "        '<div class=\"ui-dialog-titlebar ui-widget-header ui-corner-all ' +\n",
       "        'ui-helper-clearfix\"/>');\n",
       "    var titletext = $(\n",
       "        '<div class=\"ui-dialog-title\" style=\"width: 100%; ' +\n",
       "        'text-align: center; padding: 3px;\"/>');\n",
       "    titlebar.append(titletext)\n",
       "    this.root.append(titlebar);\n",
       "    this.header = titletext[0];\n",
       "}\n",
       "\n",
       "\n",
       "\n",
       "mpl.figure.prototype._canvas_extra_style = function(canvas_div) {\n",
       "\n",
       "}\n",
       "\n",
       "\n",
       "mpl.figure.prototype._root_extra_style = function(canvas_div) {\n",
       "\n",
       "}\n",
       "\n",
       "mpl.figure.prototype._init_canvas = function() {\n",
       "    var fig = this;\n",
       "\n",
       "    var canvas_div = $('<div/>');\n",
       "\n",
       "    canvas_div.attr('style', 'position: relative; clear: both; outline: 0');\n",
       "\n",
       "    function canvas_keyboard_event(event) {\n",
       "        return fig.key_event(event, event['data']);\n",
       "    }\n",
       "\n",
       "    canvas_div.keydown('key_press', canvas_keyboard_event);\n",
       "    canvas_div.keyup('key_release', canvas_keyboard_event);\n",
       "    this.canvas_div = canvas_div\n",
       "    this._canvas_extra_style(canvas_div)\n",
       "    this.root.append(canvas_div);\n",
       "\n",
       "    var canvas = $('<canvas/>');\n",
       "    canvas.addClass('mpl-canvas');\n",
       "    canvas.attr('style', \"left: 0; top: 0; z-index: 0; outline: 0\")\n",
       "\n",
       "    this.canvas = canvas[0];\n",
       "    this.context = canvas[0].getContext(\"2d\");\n",
       "\n",
       "    var backingStore = this.context.backingStorePixelRatio ||\n",
       "\tthis.context.webkitBackingStorePixelRatio ||\n",
       "\tthis.context.mozBackingStorePixelRatio ||\n",
       "\tthis.context.msBackingStorePixelRatio ||\n",
       "\tthis.context.oBackingStorePixelRatio ||\n",
       "\tthis.context.backingStorePixelRatio || 1;\n",
       "\n",
       "    mpl.ratio = (window.devicePixelRatio || 1) / backingStore;\n",
       "\n",
       "    var rubberband = $('<canvas/>');\n",
       "    rubberband.attr('style', \"position: absolute; left: 0; top: 0; z-index: 1;\")\n",
       "\n",
       "    var pass_mouse_events = true;\n",
       "\n",
       "    canvas_div.resizable({\n",
       "        start: function(event, ui) {\n",
       "            pass_mouse_events = false;\n",
       "        },\n",
       "        resize: function(event, ui) {\n",
       "            fig.request_resize(ui.size.width, ui.size.height);\n",
       "        },\n",
       "        stop: function(event, ui) {\n",
       "            pass_mouse_events = true;\n",
       "            fig.request_resize(ui.size.width, ui.size.height);\n",
       "        },\n",
       "    });\n",
       "\n",
       "    function mouse_event_fn(event) {\n",
       "        if (pass_mouse_events)\n",
       "            return fig.mouse_event(event, event['data']);\n",
       "    }\n",
       "\n",
       "    rubberband.mousedown('button_press', mouse_event_fn);\n",
       "    rubberband.mouseup('button_release', mouse_event_fn);\n",
       "    // Throttle sequential mouse events to 1 every 20ms.\n",
       "    rubberband.mousemove('motion_notify', mouse_event_fn);\n",
       "\n",
       "    rubberband.mouseenter('figure_enter', mouse_event_fn);\n",
       "    rubberband.mouseleave('figure_leave', mouse_event_fn);\n",
       "\n",
       "    canvas_div.on(\"wheel\", function (event) {\n",
       "        event = event.originalEvent;\n",
       "        event['data'] = 'scroll'\n",
       "        if (event.deltaY < 0) {\n",
       "            event.step = 1;\n",
       "        } else {\n",
       "            event.step = -1;\n",
       "        }\n",
       "        mouse_event_fn(event);\n",
       "    });\n",
       "\n",
       "    canvas_div.append(canvas);\n",
       "    canvas_div.append(rubberband);\n",
       "\n",
       "    this.rubberband = rubberband;\n",
       "    this.rubberband_canvas = rubberband[0];\n",
       "    this.rubberband_context = rubberband[0].getContext(\"2d\");\n",
       "    this.rubberband_context.strokeStyle = \"#000000\";\n",
       "\n",
       "    this._resize_canvas = function(width, height) {\n",
       "        // Keep the size of the canvas, canvas container, and rubber band\n",
       "        // canvas in synch.\n",
       "        canvas_div.css('width', width)\n",
       "        canvas_div.css('height', height)\n",
       "\n",
       "        canvas.attr('width', width * mpl.ratio);\n",
       "        canvas.attr('height', height * mpl.ratio);\n",
       "        canvas.attr('style', 'width: ' + width + 'px; height: ' + height + 'px;');\n",
       "\n",
       "        rubberband.attr('width', width);\n",
       "        rubberband.attr('height', height);\n",
       "    }\n",
       "\n",
       "    // Set the figure to an initial 600x600px, this will subsequently be updated\n",
       "    // upon first draw.\n",
       "    this._resize_canvas(600, 600);\n",
       "\n",
       "    // Disable right mouse context menu.\n",
       "    $(this.rubberband_canvas).bind(\"contextmenu\",function(e){\n",
       "        return false;\n",
       "    });\n",
       "\n",
       "    function set_focus () {\n",
       "        canvas.focus();\n",
       "        canvas_div.focus();\n",
       "    }\n",
       "\n",
       "    window.setTimeout(set_focus, 100);\n",
       "}\n",
       "\n",
       "mpl.figure.prototype._init_toolbar = function() {\n",
       "    var fig = this;\n",
       "\n",
       "    var nav_element = $('<div/>');\n",
       "    nav_element.attr('style', 'width: 100%');\n",
       "    this.root.append(nav_element);\n",
       "\n",
       "    // Define a callback function for later on.\n",
       "    function toolbar_event(event) {\n",
       "        return fig.toolbar_button_onclick(event['data']);\n",
       "    }\n",
       "    function toolbar_mouse_event(event) {\n",
       "        return fig.toolbar_button_onmouseover(event['data']);\n",
       "    }\n",
       "\n",
       "    for(var toolbar_ind in mpl.toolbar_items) {\n",
       "        var name = mpl.toolbar_items[toolbar_ind][0];\n",
       "        var tooltip = mpl.toolbar_items[toolbar_ind][1];\n",
       "        var image = mpl.toolbar_items[toolbar_ind][2];\n",
       "        var method_name = mpl.toolbar_items[toolbar_ind][3];\n",
       "\n",
       "        if (!name) {\n",
       "            // put a spacer in here.\n",
       "            continue;\n",
       "        }\n",
       "        var button = $('<button/>');\n",
       "        button.addClass('ui-button ui-widget ui-state-default ui-corner-all ' +\n",
       "                        'ui-button-icon-only');\n",
       "        button.attr('role', 'button');\n",
       "        button.attr('aria-disabled', 'false');\n",
       "        button.click(method_name, toolbar_event);\n",
       "        button.mouseover(tooltip, toolbar_mouse_event);\n",
       "\n",
       "        var icon_img = $('<span/>');\n",
       "        icon_img.addClass('ui-button-icon-primary ui-icon');\n",
       "        icon_img.addClass(image);\n",
       "        icon_img.addClass('ui-corner-all');\n",
       "\n",
       "        var tooltip_span = $('<span/>');\n",
       "        tooltip_span.addClass('ui-button-text');\n",
       "        tooltip_span.html(tooltip);\n",
       "\n",
       "        button.append(icon_img);\n",
       "        button.append(tooltip_span);\n",
       "\n",
       "        nav_element.append(button);\n",
       "    }\n",
       "\n",
       "    var fmt_picker_span = $('<span/>');\n",
       "\n",
       "    var fmt_picker = $('<select/>');\n",
       "    fmt_picker.addClass('mpl-toolbar-option ui-widget ui-widget-content');\n",
       "    fmt_picker_span.append(fmt_picker);\n",
       "    nav_element.append(fmt_picker_span);\n",
       "    this.format_dropdown = fmt_picker[0];\n",
       "\n",
       "    for (var ind in mpl.extensions) {\n",
       "        var fmt = mpl.extensions[ind];\n",
       "        var option = $(\n",
       "            '<option/>', {selected: fmt === mpl.default_extension}).html(fmt);\n",
       "        fmt_picker.append(option);\n",
       "    }\n",
       "\n",
       "    // Add hover states to the ui-buttons\n",
       "    $( \".ui-button\" ).hover(\n",
       "        function() { $(this).addClass(\"ui-state-hover\");},\n",
       "        function() { $(this).removeClass(\"ui-state-hover\");}\n",
       "    );\n",
       "\n",
       "    var status_bar = $('<span class=\"mpl-message\"/>');\n",
       "    nav_element.append(status_bar);\n",
       "    this.message = status_bar[0];\n",
       "}\n",
       "\n",
       "mpl.figure.prototype.request_resize = function(x_pixels, y_pixels) {\n",
       "    // Request matplotlib to resize the figure. Matplotlib will then trigger a resize in the client,\n",
       "    // which will in turn request a refresh of the image.\n",
       "    this.send_message('resize', {'width': x_pixels, 'height': y_pixels});\n",
       "}\n",
       "\n",
       "mpl.figure.prototype.send_message = function(type, properties) {\n",
       "    properties['type'] = type;\n",
       "    properties['figure_id'] = this.id;\n",
       "    this.ws.send(JSON.stringify(properties));\n",
       "}\n",
       "\n",
       "mpl.figure.prototype.send_draw_message = function() {\n",
       "    if (!this.waiting) {\n",
       "        this.waiting = true;\n",
       "        this.ws.send(JSON.stringify({type: \"draw\", figure_id: this.id}));\n",
       "    }\n",
       "}\n",
       "\n",
       "\n",
       "mpl.figure.prototype.handle_save = function(fig, msg) {\n",
       "    var format_dropdown = fig.format_dropdown;\n",
       "    var format = format_dropdown.options[format_dropdown.selectedIndex].value;\n",
       "    fig.ondownload(fig, format);\n",
       "}\n",
       "\n",
       "\n",
       "mpl.figure.prototype.handle_resize = function(fig, msg) {\n",
       "    var size = msg['size'];\n",
       "    if (size[0] != fig.canvas.width || size[1] != fig.canvas.height) {\n",
       "        fig._resize_canvas(size[0], size[1]);\n",
       "        fig.send_message(\"refresh\", {});\n",
       "    };\n",
       "}\n",
       "\n",
       "mpl.figure.prototype.handle_rubberband = function(fig, msg) {\n",
       "    var x0 = msg['x0'] / mpl.ratio;\n",
       "    var y0 = (fig.canvas.height - msg['y0']) / mpl.ratio;\n",
       "    var x1 = msg['x1'] / mpl.ratio;\n",
       "    var y1 = (fig.canvas.height - msg['y1']) / mpl.ratio;\n",
       "    x0 = Math.floor(x0) + 0.5;\n",
       "    y0 = Math.floor(y0) + 0.5;\n",
       "    x1 = Math.floor(x1) + 0.5;\n",
       "    y1 = Math.floor(y1) + 0.5;\n",
       "    var min_x = Math.min(x0, x1);\n",
       "    var min_y = Math.min(y0, y1);\n",
       "    var width = Math.abs(x1 - x0);\n",
       "    var height = Math.abs(y1 - y0);\n",
       "\n",
       "    fig.rubberband_context.clearRect(\n",
       "        0, 0, fig.canvas.width, fig.canvas.height);\n",
       "\n",
       "    fig.rubberband_context.strokeRect(min_x, min_y, width, height);\n",
       "}\n",
       "\n",
       "mpl.figure.prototype.handle_figure_label = function(fig, msg) {\n",
       "    // Updates the figure title.\n",
       "    fig.header.textContent = msg['label'];\n",
       "}\n",
       "\n",
       "mpl.figure.prototype.handle_cursor = function(fig, msg) {\n",
       "    var cursor = msg['cursor'];\n",
       "    switch(cursor)\n",
       "    {\n",
       "    case 0:\n",
       "        cursor = 'pointer';\n",
       "        break;\n",
       "    case 1:\n",
       "        cursor = 'default';\n",
       "        break;\n",
       "    case 2:\n",
       "        cursor = 'crosshair';\n",
       "        break;\n",
       "    case 3:\n",
       "        cursor = 'move';\n",
       "        break;\n",
       "    }\n",
       "    fig.rubberband_canvas.style.cursor = cursor;\n",
       "}\n",
       "\n",
       "mpl.figure.prototype.handle_message = function(fig, msg) {\n",
       "    fig.message.textContent = msg['message'];\n",
       "}\n",
       "\n",
       "mpl.figure.prototype.handle_draw = function(fig, msg) {\n",
       "    // Request the server to send over a new figure.\n",
       "    fig.send_draw_message();\n",
       "}\n",
       "\n",
       "mpl.figure.prototype.handle_image_mode = function(fig, msg) {\n",
       "    fig.image_mode = msg['mode'];\n",
       "}\n",
       "\n",
       "mpl.figure.prototype.updated_canvas_event = function() {\n",
       "    // Called whenever the canvas gets updated.\n",
       "    this.send_message(\"ack\", {});\n",
       "}\n",
       "\n",
       "// A function to construct a web socket function for onmessage handling.\n",
       "// Called in the figure constructor.\n",
       "mpl.figure.prototype._make_on_message_function = function(fig) {\n",
       "    return function socket_on_message(evt) {\n",
       "        if (evt.data instanceof Blob) {\n",
       "            /* FIXME: We get \"Resource interpreted as Image but\n",
       "             * transferred with MIME type text/plain:\" errors on\n",
       "             * Chrome.  But how to set the MIME type?  It doesn't seem\n",
       "             * to be part of the websocket stream */\n",
       "            evt.data.type = \"image/png\";\n",
       "\n",
       "            /* Free the memory for the previous frames */\n",
       "            if (fig.imageObj.src) {\n",
       "                (window.URL || window.webkitURL).revokeObjectURL(\n",
       "                    fig.imageObj.src);\n",
       "            }\n",
       "\n",
       "            fig.imageObj.src = (window.URL || window.webkitURL).createObjectURL(\n",
       "                evt.data);\n",
       "            fig.updated_canvas_event();\n",
       "            fig.waiting = false;\n",
       "            return;\n",
       "        }\n",
       "        else if (typeof evt.data === 'string' && evt.data.slice(0, 21) == \"data:image/png;base64\") {\n",
       "            fig.imageObj.src = evt.data;\n",
       "            fig.updated_canvas_event();\n",
       "            fig.waiting = false;\n",
       "            return;\n",
       "        }\n",
       "\n",
       "        var msg = JSON.parse(evt.data);\n",
       "        var msg_type = msg['type'];\n",
       "\n",
       "        // Call the  \"handle_{type}\" callback, which takes\n",
       "        // the figure and JSON message as its only arguments.\n",
       "        try {\n",
       "            var callback = fig[\"handle_\" + msg_type];\n",
       "        } catch (e) {\n",
       "            console.log(\"No handler for the '\" + msg_type + \"' message type: \", msg);\n",
       "            return;\n",
       "        }\n",
       "\n",
       "        if (callback) {\n",
       "            try {\n",
       "                // console.log(\"Handling '\" + msg_type + \"' message: \", msg);\n",
       "                callback(fig, msg);\n",
       "            } catch (e) {\n",
       "                console.log(\"Exception inside the 'handler_\" + msg_type + \"' callback:\", e, e.stack, msg);\n",
       "            }\n",
       "        }\n",
       "    };\n",
       "}\n",
       "\n",
       "// from http://stackoverflow.com/questions/1114465/getting-mouse-location-in-canvas\n",
       "mpl.findpos = function(e) {\n",
       "    //this section is from http://www.quirksmode.org/js/events_properties.html\n",
       "    var targ;\n",
       "    if (!e)\n",
       "        e = window.event;\n",
       "    if (e.target)\n",
       "        targ = e.target;\n",
       "    else if (e.srcElement)\n",
       "        targ = e.srcElement;\n",
       "    if (targ.nodeType == 3) // defeat Safari bug\n",
       "        targ = targ.parentNode;\n",
       "\n",
       "    // jQuery normalizes the pageX and pageY\n",
       "    // pageX,Y are the mouse positions relative to the document\n",
       "    // offset() returns the position of the element relative to the document\n",
       "    var x = e.pageX - $(targ).offset().left;\n",
       "    var y = e.pageY - $(targ).offset().top;\n",
       "\n",
       "    return {\"x\": x, \"y\": y};\n",
       "};\n",
       "\n",
       "/*\n",
       " * return a copy of an object with only non-object keys\n",
       " * we need this to avoid circular references\n",
       " * http://stackoverflow.com/a/24161582/3208463\n",
       " */\n",
       "function simpleKeys (original) {\n",
       "  return Object.keys(original).reduce(function (obj, key) {\n",
       "    if (typeof original[key] !== 'object')\n",
       "        obj[key] = original[key]\n",
       "    return obj;\n",
       "  }, {});\n",
       "}\n",
       "\n",
       "mpl.figure.prototype.mouse_event = function(event, name) {\n",
       "    var canvas_pos = mpl.findpos(event)\n",
       "\n",
       "    if (name === 'button_press')\n",
       "    {\n",
       "        this.canvas.focus();\n",
       "        this.canvas_div.focus();\n",
       "    }\n",
       "\n",
       "    var x = canvas_pos.x * mpl.ratio;\n",
       "    var y = canvas_pos.y * mpl.ratio;\n",
       "\n",
       "    this.send_message(name, {x: x, y: y, button: event.button,\n",
       "                             step: event.step,\n",
       "                             guiEvent: simpleKeys(event)});\n",
       "\n",
       "    /* This prevents the web browser from automatically changing to\n",
       "     * the text insertion cursor when the button is pressed.  We want\n",
       "     * to control all of the cursor setting manually through the\n",
       "     * 'cursor' event from matplotlib */\n",
       "    event.preventDefault();\n",
       "    return false;\n",
       "}\n",
       "\n",
       "mpl.figure.prototype._key_event_extra = function(event, name) {\n",
       "    // Handle any extra behaviour associated with a key event\n",
       "}\n",
       "\n",
       "mpl.figure.prototype.key_event = function(event, name) {\n",
       "\n",
       "    // Prevent repeat events\n",
       "    if (name == 'key_press')\n",
       "    {\n",
       "        if (event.which === this._key)\n",
       "            return;\n",
       "        else\n",
       "            this._key = event.which;\n",
       "    }\n",
       "    if (name == 'key_release')\n",
       "        this._key = null;\n",
       "\n",
       "    var value = '';\n",
       "    if (event.ctrlKey && event.which != 17)\n",
       "        value += \"ctrl+\";\n",
       "    if (event.altKey && event.which != 18)\n",
       "        value += \"alt+\";\n",
       "    if (event.shiftKey && event.which != 16)\n",
       "        value += \"shift+\";\n",
       "\n",
       "    value += 'k';\n",
       "    value += event.which.toString();\n",
       "\n",
       "    this._key_event_extra(event, name);\n",
       "\n",
       "    this.send_message(name, {key: value,\n",
       "                             guiEvent: simpleKeys(event)});\n",
       "    return false;\n",
       "}\n",
       "\n",
       "mpl.figure.prototype.toolbar_button_onclick = function(name) {\n",
       "    if (name == 'download') {\n",
       "        this.handle_save(this, null);\n",
       "    } else {\n",
       "        this.send_message(\"toolbar_button\", {name: name});\n",
       "    }\n",
       "};\n",
       "\n",
       "mpl.figure.prototype.toolbar_button_onmouseover = function(tooltip) {\n",
       "    this.message.textContent = tooltip;\n",
       "};\n",
       "mpl.toolbar_items = [[\"Home\", \"Reset original view\", \"fa fa-home icon-home\", \"home\"], [\"Back\", \"Back to previous view\", \"fa fa-arrow-left icon-arrow-left\", \"back\"], [\"Forward\", \"Forward to next view\", \"fa fa-arrow-right icon-arrow-right\", \"forward\"], [\"\", \"\", \"\", \"\"], [\"Pan\", \"Pan axes with left mouse, zoom with right\", \"fa fa-arrows icon-move\", \"pan\"], [\"Zoom\", \"Zoom to rectangle\", \"fa fa-square-o icon-check-empty\", \"zoom\"], [\"\", \"\", \"\", \"\"], [\"Download\", \"Download plot\", \"fa fa-floppy-o icon-save\", \"download\"]];\n",
       "\n",
       "mpl.extensions = [\"eps\", \"jpeg\", \"pdf\", \"png\", \"ps\", \"raw\", \"svg\", \"tif\"];\n",
       "\n",
       "mpl.default_extension = \"png\";var comm_websocket_adapter = function(comm) {\n",
       "    // Create a \"websocket\"-like object which calls the given IPython comm\n",
       "    // object with the appropriate methods. Currently this is a non binary\n",
       "    // socket, so there is still some room for performance tuning.\n",
       "    var ws = {};\n",
       "\n",
       "    ws.close = function() {\n",
       "        comm.close()\n",
       "    };\n",
       "    ws.send = function(m) {\n",
       "        //console.log('sending', m);\n",
       "        comm.send(m);\n",
       "    };\n",
       "    // Register the callback with on_msg.\n",
       "    comm.on_msg(function(msg) {\n",
       "        //console.log('receiving', msg['content']['data'], msg);\n",
       "        // Pass the mpl event to the overridden (by mpl) onmessage function.\n",
       "        ws.onmessage(msg['content']['data'])\n",
       "    });\n",
       "    return ws;\n",
       "}\n",
       "\n",
       "mpl.mpl_figure_comm = function(comm, msg) {\n",
       "    // This is the function which gets called when the mpl process\n",
       "    // starts-up an IPython Comm through the \"matplotlib\" channel.\n",
       "\n",
       "    var id = msg.content.data.id;\n",
       "    // Get hold of the div created by the display call when the Comm\n",
       "    // socket was opened in Python.\n",
       "    var element = $(\"#\" + id);\n",
       "    var ws_proxy = comm_websocket_adapter(comm)\n",
       "\n",
       "    function ondownload(figure, format) {\n",
       "        window.open(figure.imageObj.src);\n",
       "    }\n",
       "\n",
       "    var fig = new mpl.figure(id, ws_proxy,\n",
       "                           ondownload,\n",
       "                           element.get(0));\n",
       "\n",
       "    // Call onopen now - mpl needs it, as it is assuming we've passed it a real\n",
       "    // web socket which is closed, not our websocket->open comm proxy.\n",
       "    ws_proxy.onopen();\n",
       "\n",
       "    fig.parent_element = element.get(0);\n",
       "    fig.cell_info = mpl.find_output_cell(\"<div id='\" + id + \"'></div>\");\n",
       "    if (!fig.cell_info) {\n",
       "        console.error(\"Failed to find cell for figure\", id, fig);\n",
       "        return;\n",
       "    }\n",
       "\n",
       "    var output_index = fig.cell_info[2]\n",
       "    var cell = fig.cell_info[0];\n",
       "\n",
       "};\n",
       "\n",
       "mpl.figure.prototype.handle_close = function(fig, msg) {\n",
       "    var width = fig.canvas.width/mpl.ratio\n",
       "    fig.root.unbind('remove')\n",
       "\n",
       "    // Update the output cell to use the data from the current canvas.\n",
       "    fig.push_to_output();\n",
       "    var dataURL = fig.canvas.toDataURL();\n",
       "    // Re-enable the keyboard manager in IPython - without this line, in FF,\n",
       "    // the notebook keyboard shortcuts fail.\n",
       "    IPython.keyboard_manager.enable()\n",
       "    $(fig.parent_element).html('<img src=\"' + dataURL + '\" width=\"' + width + '\">');\n",
       "    fig.close_ws(fig, msg);\n",
       "}\n",
       "\n",
       "mpl.figure.prototype.close_ws = function(fig, msg){\n",
       "    fig.send_message('closing', msg);\n",
       "    // fig.ws.close()\n",
       "}\n",
       "\n",
       "mpl.figure.prototype.push_to_output = function(remove_interactive) {\n",
       "    // Turn the data on the canvas into data in the output cell.\n",
       "    var width = this.canvas.width/mpl.ratio\n",
       "    var dataURL = this.canvas.toDataURL();\n",
       "    this.cell_info[1]['text/html'] = '<img src=\"' + dataURL + '\" width=\"' + width + '\">';\n",
       "}\n",
       "\n",
       "mpl.figure.prototype.updated_canvas_event = function() {\n",
       "    // Tell IPython that the notebook contents must change.\n",
       "    IPython.notebook.set_dirty(true);\n",
       "    this.send_message(\"ack\", {});\n",
       "    var fig = this;\n",
       "    // Wait a second, then push the new image to the DOM so\n",
       "    // that it is saved nicely (might be nice to debounce this).\n",
       "    setTimeout(function () { fig.push_to_output() }, 1000);\n",
       "}\n",
       "\n",
       "mpl.figure.prototype._init_toolbar = function() {\n",
       "    var fig = this;\n",
       "\n",
       "    var nav_element = $('<div/>');\n",
       "    nav_element.attr('style', 'width: 100%');\n",
       "    this.root.append(nav_element);\n",
       "\n",
       "    // Define a callback function for later on.\n",
       "    function toolbar_event(event) {\n",
       "        return fig.toolbar_button_onclick(event['data']);\n",
       "    }\n",
       "    function toolbar_mouse_event(event) {\n",
       "        return fig.toolbar_button_onmouseover(event['data']);\n",
       "    }\n",
       "\n",
       "    for(var toolbar_ind in mpl.toolbar_items){\n",
       "        var name = mpl.toolbar_items[toolbar_ind][0];\n",
       "        var tooltip = mpl.toolbar_items[toolbar_ind][1];\n",
       "        var image = mpl.toolbar_items[toolbar_ind][2];\n",
       "        var method_name = mpl.toolbar_items[toolbar_ind][3];\n",
       "\n",
       "        if (!name) { continue; };\n",
       "\n",
       "        var button = $('<button class=\"btn btn-default\" href=\"#\" title=\"' + name + '\"><i class=\"fa ' + image + ' fa-lg\"></i></button>');\n",
       "        button.click(method_name, toolbar_event);\n",
       "        button.mouseover(tooltip, toolbar_mouse_event);\n",
       "        nav_element.append(button);\n",
       "    }\n",
       "\n",
       "    // Add the status bar.\n",
       "    var status_bar = $('<span class=\"mpl-message\" style=\"text-align:right; float: right;\"/>');\n",
       "    nav_element.append(status_bar);\n",
       "    this.message = status_bar[0];\n",
       "\n",
       "    // Add the close button to the window.\n",
       "    var buttongrp = $('<div class=\"btn-group inline pull-right\"></div>');\n",
       "    var button = $('<button class=\"btn btn-mini btn-primary\" href=\"#\" title=\"Stop Interaction\"><i class=\"fa fa-power-off icon-remove icon-large\"></i></button>');\n",
       "    button.click(function (evt) { fig.handle_close(fig, {}); } );\n",
       "    button.mouseover('Stop Interaction', toolbar_mouse_event);\n",
       "    buttongrp.append(button);\n",
       "    var titlebar = this.root.find($('.ui-dialog-titlebar'));\n",
       "    titlebar.prepend(buttongrp);\n",
       "}\n",
       "\n",
       "mpl.figure.prototype._root_extra_style = function(el){\n",
       "    var fig = this\n",
       "    el.on(\"remove\", function(){\n",
       "\tfig.close_ws(fig, {});\n",
       "    });\n",
       "}\n",
       "\n",
       "mpl.figure.prototype._canvas_extra_style = function(el){\n",
       "    // this is important to make the div 'focusable\n",
       "    el.attr('tabindex', 0)\n",
       "    // reach out to IPython and tell the keyboard manager to turn it's self\n",
       "    // off when our div gets focus\n",
       "\n",
       "    // location in version 3\n",
       "    if (IPython.notebook.keyboard_manager) {\n",
       "        IPython.notebook.keyboard_manager.register_events(el);\n",
       "    }\n",
       "    else {\n",
       "        // location in version 2\n",
       "        IPython.keyboard_manager.register_events(el);\n",
       "    }\n",
       "\n",
       "}\n",
       "\n",
       "mpl.figure.prototype._key_event_extra = function(event, name) {\n",
       "    var manager = IPython.notebook.keyboard_manager;\n",
       "    if (!manager)\n",
       "        manager = IPython.keyboard_manager;\n",
       "\n",
       "    // Check for shift+enter\n",
       "    if (event.shiftKey && event.which == 13) {\n",
       "        this.canvas_div.blur();\n",
       "        event.shiftKey = false;\n",
       "        // Send a \"J\" for go to next cell\n",
       "        event.which = 74;\n",
       "        event.keyCode = 74;\n",
       "        manager.command_mode();\n",
       "        manager.handle_keydown(event);\n",
       "    }\n",
       "}\n",
       "\n",
       "mpl.figure.prototype.handle_save = function(fig, msg) {\n",
       "    fig.ondownload(fig, null);\n",
       "}\n",
       "\n",
       "\n",
       "mpl.find_output_cell = function(html_output) {\n",
       "    // Return the cell and output element which can be found *uniquely* in the notebook.\n",
       "    // Note - this is a bit hacky, but it is done because the \"notebook_saving.Notebook\"\n",
       "    // IPython event is triggered only after the cells have been serialised, which for\n",
       "    // our purposes (turning an active figure into a static one), is too late.\n",
       "    var cells = IPython.notebook.get_cells();\n",
       "    var ncells = cells.length;\n",
       "    for (var i=0; i<ncells; i++) {\n",
       "        var cell = cells[i];\n",
       "        if (cell.cell_type === 'code'){\n",
       "            for (var j=0; j<cell.output_area.outputs.length; j++) {\n",
       "                var data = cell.output_area.outputs[j];\n",
       "                if (data.data) {\n",
       "                    // IPython >= 3 moved mimebundle to data attribute of output\n",
       "                    data = data.data;\n",
       "                }\n",
       "                if (data['text/html'] == html_output) {\n",
       "                    return [cell, data, j];\n",
       "                }\n",
       "            }\n",
       "        }\n",
       "    }\n",
       "}\n",
       "\n",
       "// Register the function which deals with the matplotlib target/channel.\n",
       "// The kernel may be null if the page has been refreshed.\n",
       "if (IPython.notebook.kernel != null) {\n",
       "    IPython.notebook.kernel.comm_manager.register_target('matplotlib', mpl.mpl_figure_comm);\n",
       "}\n"
      ],
      "text/plain": [
       "<IPython.core.display.Javascript object>"
      ]
     },
     "metadata": {},
     "output_type": "display_data"
    },
    {
     "data": {
      "text/html": [
       "<img src=\"data:image/png;base64,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\" width=\"500\">"
      ],
      "text/plain": [
       "<IPython.core.display.HTML object>"
      ]
     },
     "metadata": {},
     "output_type": "display_data"
    },
    {
     "data": {
      "text/plain": [
       "<CCSbasis.CCSbasis at 0x7f7155a5b9e8>"
      ]
     },
     "execution_count": 22,
     "metadata": {},
     "output_type": "execute_result"
    }
   ],
   "source": [
    "from IPython.core.display import Math, display\n",
    "import sympy as sym\n",
    "import sys\n",
    "sys.path.insert(1, r'./../functions')  # add to pythonpath\n",
    "%matplotlib notebook\n",
    "from CCSbasis import CCSbasis\n",
    "import numpy as np\n",
    "\n",
    "\n",
    "a, b, g = sym.symbols('alpha, beta, gamma')\n",
    "\n",
    "# Elemental rotation matrices of xyz in relation to XYZ:\n",
    "RX = sym.Matrix([[1, 0, 0], [0, sym.cos(a), -sym.sin(a)], [0, sym.sin(a), sym.cos(a)]])\n",
    "RY = sym.Matrix([[sym.cos(b), 0, sym.sin(b)], [0, 1, 0], [-sym.sin(b), 0, sym.cos(b)]])\n",
    "RZ = sym.Matrix([[sym.cos(g), -sym.sin(g), 0], [sym.sin(g), sym.cos(g), 0], [0, 0, 1]])\n",
    "\n",
    "# Rotation matrix of xyz in relation to XYZ:\n",
    "R = RY@RX@RZ\n",
    "R = sym.lambdify((a, b, g), R, 'numpy')\n",
    "\n",
    "alpha = np.pi/4\n",
    "beta = np.pi/4\n",
    "gamma = np.pi/4\n",
    "\n",
    "R = R(alpha, beta, gamma)\n",
    "\n",
    "e1 = np.array([[1,0,0]])\n",
    "e2 = np.array([[0,1,0]])\n",
    "e3 = np.array([[0,0,1]])\n",
    "\n",
    "basis = np.vstack((e1,e2,e3))\n",
    "basisRot = R@basis\n",
    "lv, v = np.linalg.eig(R)\n",
    "\n",
    "axisOfRotation = [np.real(np.squeeze(v[:,np.abs(lv-1)<1e-6]))]\n",
    "\n",
    "\n",
    "CCSbasis(Oijk=np.array([0,0,0]), Oxyz=np.array([0,0,0]), ijk=basis.T, xyz=basisRot.T, \n",
    "         vector=True, point = axisOfRotation)\n"
   ]
  },
  {
   "cell_type": "markdown",
   "metadata": {
    "slideshow": {
     "slide_type": "slide"
    }
   },
   "source": [
    "## Computing the angular velocity\n",
    "\n",
    "The angular velocity $\\vec{\\boldsymbol\\omega}$ is in the direction of the axis of rotation (hence it is parallel to the axis of rotation) and can be described in the basis fixed in the body:\n",
    "\n",
    "<span class=\"notranslate\">\n",
    "\\begin{equation}\n",
    "    \\vec{\\boldsymbol{\\omega}} = \\omega_1\\hat{\\boldsymbol{e_1}} + \\omega_2\\hat{\\boldsymbol{e_2}} + \\omega_3\\hat{\\boldsymbol{e_3}}  \n",
    "\\end{equation}\n",
    "</span>\n",
    "\n",
    "So, we must find  <span class=\"notranslate\">$\\omega_1$, $\\omega_2$</span> and  <span class=\"notranslate\">$\\omega_3$</span>."
   ]
  },
  {
   "cell_type": "markdown",
   "metadata": {
    "slideshow": {
     "slide_type": "slide"
    }
   },
   "source": [
    "First we will express the angular velocity  <span class=\"notranslate\">$\\vec{\\boldsymbol{\\omega}}$</span> in  terms of these derivatives. \n",
    "\n",
    "Remember that the angular velocity is described as a vector in the orthogonal plane of the rotation. (<span class=\"notranslate\">$\\vec{\\boldsymbol{\\omega_1}} = \\frac{d\\theta_1}{dt}\\hat{\\boldsymbol{e_1}}$, $\\vec{\\boldsymbol{\\omega_2}} = \\frac{d\\theta_2}{dt}\\hat{\\boldsymbol{e_2}}$</span> and  <span class=\"notranslate\">$\\vec{\\boldsymbol{\\omega_3}} = \\frac{d\\theta_3}{dt}\\hat{\\boldsymbol{e_3}}$</span>). "
   ]
  },
  {
   "cell_type": "markdown",
   "metadata": {
    "slideshow": {
     "slide_type": "fragment"
    }
   },
   "source": [
    "Note also that the derivative of the angle  <span class=\"notranslate\">$\\theta_1$</span> can be described as the projection of the vector  <span class=\"notranslate\">$\\frac{d\\hat{\\boldsymbol{e_2}}}{dt}$</span> on the vector  <span class=\"notranslate\">$\\hat{\\boldsymbol{e_3}}$</span>. "
   ]
  },
  {
   "cell_type": "markdown",
   "metadata": {
    "slideshow": {
     "slide_type": "fragment"
    }
   },
   "source": [
    "This can be written by using the scalar product between these vectors:  <span class=\"notranslate\">$\\frac{d\\theta_1}{dt} = \\frac{d\\hat{\\boldsymbol{e_2}}}{dt}\\cdot \\hat{\\boldsymbol{e_3}}$</span>. \n",
    "<figure><img src=\"../images/derivVersor.png\\\" width=400 />\n",
    "    \n",
    "    "
   ]
  },
  {
   "cell_type": "markdown",
   "metadata": {
    "slideshow": {
     "slide_type": "fragment"
    }
   },
   "source": [
    "Similarly, the same is valid for the angles in the other two directions:  <span class=\"notranslate\">$\\frac{d\\theta_2}{dt} = \\frac{d\\hat{\\boldsymbol{e_3}}}{dt}\\cdot \\hat{\\boldsymbol{e_1}}$</span> and  <span class=\"notranslate\">$\\frac{d\\theta_3}{dt} = \\frac{d\\hat{\\boldsymbol{e_1}}}{dt}\\cdot \\hat{\\boldsymbol{e_2}}$</span>.\n"
   ]
  },
  {
   "cell_type": "markdown",
   "metadata": {
    "slideshow": {
     "slide_type": "slide"
    }
   },
   "source": [
    "So, we can write the angular velocity as:\n",
    "\n",
    " <span class=\"notranslate\">\n",
    "\\begin{equation}\n",
    "    \\vec{\\boldsymbol{\\omega}} =  \\left(\\frac{d\\hat{\\boldsymbol{e_2}}}{dt}\\cdot \\hat{\\boldsymbol{e_3}}\\right) \\hat{\\boldsymbol{e_1}} + \\left(\\frac{d\\hat{\\boldsymbol{e_3}}}{dt}\\cdot \\hat{\\boldsymbol{e_1}}\\right) \\hat{\\boldsymbol{e_2}} + \\left(\\frac{d\\hat{\\boldsymbol{e_1}}}{dt}\\cdot \\hat{\\boldsymbol{e_2}}\\right) \\hat{\\boldsymbol{e_3}}\n",
    "\\end{equation}\n",
    "</span>"
   ]
  },
  {
   "cell_type": "markdown",
   "metadata": {
    "slideshow": {
     "slide_type": "slide"
    }
   },
   "source": [
    "Note that the angular velocity $\\vec{\\boldsymbol\\omega}$ is expressed in the reference frame of the object. If you want it described as a linear combination of the versors of the global basis $\\hat{\\boldsymbol{i}}$, $\\hat{\\boldsymbol{j}}$ and $\\hat{\\boldsymbol{k}}$, just multiply the vector $\\vec{\\boldsymbol\\omega}$ by the rotation matrix formed by stacking each versor in a column of the rotation matrix (for a revision on rotation matrices see [this](https://nbviewer.jupyter.org/github/bmclab/bmc/blob/master/notebooks/Transformation2D.ipynb) and [this](https://nbviewer.jupyter.org/github/bmclab/bmc/blob/master/notebooks/Transformation3D.ipynb) notebooks)."
   ]
  },
  {
   "cell_type": "markdown",
   "metadata": {
    "slideshow": {
     "slide_type": "slide"
    }
   },
   "source": [
    "### 1 ) 3D pendulum bar\n",
    "\n",
    "At the file '../data/3Dpendulum.txt' there are 3 seconds of data of 3 points of a three-dimensional cylindrical pendulum. It can move in every direction and has a motor at the upper part of the cylindrical bar producing torques to move the bar. \n",
    " \n",
    "The point m1 is at the upper part of the cylinder and is the origin of the system. \n",
    " \n",
    "The point m2 is at the center of mass of the cylinder. \n",
    " \n",
    "The point m3 is a point at the surface of the cylinder. \n",
    "\n",
    "Below we compute its angular velocity.\n",
    "\n",
    "First we load the file."
   ]
  },
  {
   "cell_type": "code",
   "execution_count": 24,
   "metadata": {
    "slideshow": {
     "slide_type": "slide"
    }
   },
   "outputs": [],
   "source": [
    "import numpy as np\n",
    "import matplotlib.pyplot as plt\n",
    "np.set_printoptions(precision=4, suppress=True)\n",
    "%matplotlib notebook\n",
    "plt.rc('text', usetex=True)\n",
    "plt.rc('font', family='serif')\n",
    "\n",
    "data = np.loadtxt('../data/3dPendulum.txt', skiprows=1, delimiter = ',')"
   ]
  },
  {
   "cell_type": "markdown",
   "metadata": {
    "slideshow": {
     "slide_type": "slide"
    }
   },
   "source": [
    "And separate each mark in a variable."
   ]
  },
  {
   "cell_type": "code",
   "execution_count": 25,
   "metadata": {
    "slideshow": {
     "slide_type": "fragment"
    }
   },
   "outputs": [],
   "source": [
    "t = data[:,0]\n",
    "m1 = data[:,1:4]\n",
    "m2 = data[:,4:7]\n",
    "m3 = data[:,7:]\n",
    "dt = t[1]"
   ]
  },
  {
   "cell_type": "markdown",
   "metadata": {
    "slideshow": {
     "slide_type": "slide"
    }
   },
   "source": [
    "Now, we form the basis  <span class=\"notranslate\">$\\hat{\\boldsymbol e_1}$, $\\hat{\\boldsymbol e_2}$</span> and  <span class=\"notranslate\">$\\hat{\\boldsymbol e_3}$</span>."
   ]
  },
  {
   "cell_type": "code",
   "execution_count": 26,
   "metadata": {
    "slideshow": {
     "slide_type": "fragment"
    }
   },
   "outputs": [],
   "source": [
    "V1 = m2 - m1\n",
    "e1 = V1/np.linalg.norm(V1,axis=1,keepdims=True)\n",
    "\n",
    "V2 = m3-m2\n",
    "\n",
    "V3 = np.cross(V2,V1)\n",
    "e2 = V3/np.linalg.norm(V3,axis=1,keepdims=True)\n",
    "\n",
    "e3 = np.cross(e1,e2)"
   ]
  },
  {
   "cell_type": "markdown",
   "metadata": {
    "slideshow": {
     "slide_type": "slide"
    }
   },
   "source": [
    "Below, we compute the derivative of each of the versors."
   ]
  },
  {
   "cell_type": "code",
   "execution_count": 27,
   "metadata": {
    "slideshow": {
     "slide_type": "fragment"
    }
   },
   "outputs": [],
   "source": [
    "de1dt = np.diff(e1, axis=0)/dt\n",
    "de2dt = np.diff(e2, axis=0)/dt\n",
    "de3dt = np.diff(e3, axis=0)/dt"
   ]
  },
  {
   "cell_type": "markdown",
   "metadata": {
    "slideshow": {
     "slide_type": "slide"
    }
   },
   "source": [
    "Here we compute each of the components  <span class=\"notranslate\">$\\omega_1$, $\\omega_2$</span> and  <span class=\"notranslate\">$\\omega_3$</span> of the angular velocity  <span class=\"notranslate\">$\\vec{\\boldsymbol \\omega}$</span> by using the scalar product."
   ]
  },
  {
   "cell_type": "code",
   "execution_count": 28,
   "metadata": {
    "slideshow": {
     "slide_type": "fragment"
    }
   },
   "outputs": [],
   "source": [
    "omega1 = np.sum(de2dt*e3[0:-1,:], axis = 1).reshape(-1,1)\n",
    "omega2 = np.sum(de3dt*e1[0:-1,:], axis = 1).reshape(-1,1)\n",
    "omega3 = np.sum(de1dt*e2[0:-1,:], axis = 1).reshape(-1,1)"
   ]
  },
  {
   "cell_type": "markdown",
   "metadata": {
    "slideshow": {
     "slide_type": "slide"
    }
   },
   "source": [
    "Finally, the angular velocity vector  <span class=\"notranslate\">$\\vec{\\boldsymbol \\omega}$</span> is formed by stacking the three components together."
   ]
  },
  {
   "cell_type": "code",
   "execution_count": 7,
   "metadata": {
    "slideshow": {
     "slide_type": "fragment"
    }
   },
   "outputs": [],
   "source": [
    "omega = np.hstack((omega1, omega2, omega3))"
   ]
  },
  {
   "cell_type": "markdown",
   "metadata": {
    "slideshow": {
     "slide_type": "slide"
    }
   },
   "source": [
    "## Problems\n",
    "\n",
    "1) Initially, the lateral malleolus, medial malleolus, fibular head and medial condyle of the leg have the following positions (described in the laboratory coordinate system with coordinates  𝑥,𝑦,𝑧  in cm, the  𝑥  axis points forward and the  𝑦  axes points upward): lateral malleolus (lm = [2.92, 10.10, 18.85]), medial malleolus (mm = [2.71, 10.22, 26.52]), fibular head (fh = [5.05, 41.90, 15.41]), and medial condyle (mc = [8.29, 41.88, 26.52]). After 0.05 seconds the markers have the following positions: lateral malleolus (lm = [2.95, 10.19, 18.41]), medial malleolus (mm = [3.16, 10.04, 26.10]), fibular head (fh = [4.57, 42.13, 15.97]), and medial condyle (mc = [8.42, 41.76, 26.90]). \n",
    "\n",
    "Find the angular velocity of of the leg."
   ]
  },
  {
   "cell_type": "markdown",
   "metadata": {
    "slideshow": {
     "slide_type": "slide"
    }
   },
   "source": [
    "## References\n",
    "\n",
    "\n",
    "- Kane T, Levinson D (1985) [Dynamics: Theory and Applications](https://ecommons.cornell.edu/handle/1813/638). McGraw-Hill, Inc\n"
   ]
  }
 ],
 "metadata": {
  "celltoolbar": "Slideshow",
  "kernelspec": {
   "display_name": "Python 3",
   "language": "python",
   "name": "python3"
  },
  "language_info": {
   "codemirror_mode": {
    "name": "ipython",
    "version": 3
   },
   "file_extension": ".py",
   "mimetype": "text/x-python",
   "name": "python",
   "nbconvert_exporter": "python",
   "pygments_lexer": "ipython3",
   "version": "3.6.10"
  },
  "nbTranslate": {
   "displayLangs": [
    "*"
   ],
   "hotkey": "alt-t",
   "langInMainMenu": true,
   "sourceLang": "en",
   "targetLang": "fr",
   "useGoogleTranslate": true
  },
  "toc": {
   "base_numbering": 1,
   "nav_menu": {},
   "number_sections": true,
   "sideBar": true,
   "skip_h1_title": false,
   "title_cell": "Table of Contents",
   "title_sidebar": "Contents",
   "toc_cell": false,
   "toc_position": {},
   "toc_section_display": true,
   "toc_window_display": false
  },
  "varInspector": {
   "cols": {
    "lenName": 16,
    "lenType": 16,
    "lenVar": 40
   },
   "kernels_config": {
    "python": {
     "delete_cmd_postfix": "",
     "delete_cmd_prefix": "del ",
     "library": "var_list.py",
     "varRefreshCmd": "print(var_dic_list())"
    },
    "r": {
     "delete_cmd_postfix": ") ",
     "delete_cmd_prefix": "rm(",
     "library": "var_list.r",
     "varRefreshCmd": "cat(var_dic_list()) "
    }
   },
   "types_to_exclude": [
    "module",
    "function",
    "builtin_function_or_method",
    "instance",
    "_Feature"
   ],
   "window_display": false
  }
 },
 "nbformat": 4,
 "nbformat_minor": 2
}
