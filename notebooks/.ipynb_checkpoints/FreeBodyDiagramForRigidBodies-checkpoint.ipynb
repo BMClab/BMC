{
 "cells": [
  {
   "cell_type": "markdown",
   "metadata": {
    "slideshow": {
     "slide_type": "slide"
    }
   },
   "source": [
    "# Free Body Diagram for Rigid Bodies <a class=\"tocSkip\">\n",
    "\n",
    "Renato Naville Watanabe"
   ]
  },
  {
   "cell_type": "markdown",
   "metadata": {
    "toc": 1
   },
   "source": [
    "<h1>Table of Contents<span class=\"tocSkip\"></span></h1>\n",
    "<div class=\"toc\"><ul class=\"toc-item\"><li><span><a href=\"#Equivalent-systems\" data-toc-modified-id=\"Equivalent-systems-1\"><span class=\"toc-item-num\">1&nbsp;&nbsp;</span>Equivalent systems</a></span></li><li><span><a href=\"#Steps-to-draw-a-free-body-diagram\" data-toc-modified-id=\"Steps-to-draw-a-free-body-diagram-2\"><span class=\"toc-item-num\">2&nbsp;&nbsp;</span>Steps to draw a free-body diagram</a></span></li><li><span><a href=\"#Examples\" data-toc-modified-id=\"Examples-3\"><span class=\"toc-item-num\">3&nbsp;&nbsp;</span>Examples</a></span><ul class=\"toc-item\"><li><span><a href=\"#Horizontal-fixed-bar\" data-toc-modified-id=\"Horizontal-fixed-bar-3.1\"><span class=\"toc-item-num\">3.1&nbsp;&nbsp;</span>Horizontal fixed bar</a></span></li><li><span><a href=\"#Rotating-ball-with-drag-force\" data-toc-modified-id=\"Rotating-ball-with-drag-force-3.2\"><span class=\"toc-item-num\">3.2&nbsp;&nbsp;</span>Rotating ball with drag force</a></span></li><li><span><a href=\"#Pendulum\" data-toc-modified-id=\"Pendulum-3.3\"><span class=\"toc-item-num\">3.3&nbsp;&nbsp;</span>Pendulum</a></span><ul class=\"toc-item\"><li><span><a href=\"#Free-body-diagram\" data-toc-modified-id=\"Free-body-diagram-3.3.1\"><span class=\"toc-item-num\">3.3.1&nbsp;&nbsp;</span>Free-body diagram</a></span></li><li><span><a href=\"#Sum-of-the-forces-and-moments\" data-toc-modified-id=\"Sum-of-the-forces-and-moments-3.3.2\"><span class=\"toc-item-num\">3.3.2&nbsp;&nbsp;</span>Sum of the forces and moments</a></span></li><li><span><a href=\"#Second-Newton-Euler-law\" data-toc-modified-id=\"Second-Newton-Euler-law-3.3.3\"><span class=\"toc-item-num\">3.3.3&nbsp;&nbsp;</span>Second Newton-Euler law</a></span></li><li><span><a href=\"#Kinematics\" data-toc-modified-id=\"Kinematics-3.3.4\"><span class=\"toc-item-num\">3.3.4&nbsp;&nbsp;</span>Kinematics</a></span></li><li><span><a href=\"#Sum-of-the-moments\" data-toc-modified-id=\"Sum-of-the-moments-3.3.5\"><span class=\"toc-item-num\">3.3.5&nbsp;&nbsp;</span>Sum of the moments</a></span></li><li><span><a href=\"#Derivative-of-the-angular-momentum\" data-toc-modified-id=\"Derivative-of-the-angular-momentum-3.3.6\"><span class=\"toc-item-num\">3.3.6&nbsp;&nbsp;</span>Derivative of the angular momentum</a></span></li><li><span><a href=\"#The-equation-of-motion\" data-toc-modified-id=\"The-equation-of-motion-3.3.7\"><span class=\"toc-item-num\">3.3.7&nbsp;&nbsp;</span>The equation of motion</a></span></li></ul></li><li><span><a href=\"#Inverted-Pendulum\" data-toc-modified-id=\"Inverted-Pendulum-3.4\"><span class=\"toc-item-num\">3.4&nbsp;&nbsp;</span>Inverted Pendulum</a></span><ul class=\"toc-item\"><li><span><a href=\"#Free-body-diagram\" data-toc-modified-id=\"Free-body-diagram-3.4.1\"><span class=\"toc-item-num\">3.4.1&nbsp;&nbsp;</span>Free-body diagram</a></span></li><li><span><a href=\"#Sum-of-the-forces-and-moments\" data-toc-modified-id=\"Sum-of-the-forces-and-moments-3.4.2\"><span class=\"toc-item-num\">3.4.2&nbsp;&nbsp;</span>Sum of the forces and moments</a></span></li><li><span><a href=\"#Second-Newton-Euler-law\" data-toc-modified-id=\"Second-Newton-Euler-law-3.4.3\"><span class=\"toc-item-num\">3.4.3&nbsp;&nbsp;</span>Second Newton-Euler law</a></span></li><li><span><a href=\"#Kinematics\" data-toc-modified-id=\"Kinematics-3.4.4\"><span class=\"toc-item-num\">3.4.4&nbsp;&nbsp;</span>Kinematics</a></span></li><li><span><a href=\"#Sum-of-the-moments\" data-toc-modified-id=\"Sum-of-the-moments-3.4.5\"><span class=\"toc-item-num\">3.4.5&nbsp;&nbsp;</span>Sum of the moments</a></span></li><li><span><a href=\"#Derivative-of-the-angular-momentum\" data-toc-modified-id=\"Derivative-of-the-angular-momentum-3.4.6\"><span class=\"toc-item-num\">3.4.6&nbsp;&nbsp;</span>Derivative of the angular momentum</a></span></li><li><span><a href=\"#The-equation-of-motion\" data-toc-modified-id=\"The-equation-of-motion-3.4.7\"><span class=\"toc-item-num\">3.4.7&nbsp;&nbsp;</span>The equation of motion</a></span></li></ul></li><li><span><a href=\"#Human-quiet-standing\" data-toc-modified-id=\"Human-quiet-standing-3.5\"><span class=\"toc-item-num\">3.5&nbsp;&nbsp;</span>Human quiet standing</a></span><ul class=\"toc-item\"><li><span><a href=\"#Free-body-diagram\" data-toc-modified-id=\"Free-body-diagram-3.5.1\"><span class=\"toc-item-num\">3.5.1&nbsp;&nbsp;</span>Free-body diagram</a></span></li><li><span><a href=\"#Sum-of-the-moments\" data-toc-modified-id=\"Sum-of-the-moments-3.5.2\"><span class=\"toc-item-num\">3.5.2&nbsp;&nbsp;</span>Sum of the moments</a></span></li><li><span><a href=\"#Second-Newton-Euler-law\" data-toc-modified-id=\"Second-Newton-Euler-law-3.5.3\"><span class=\"toc-item-num\">3.5.3&nbsp;&nbsp;</span>Second Newton-Euler law</a></span></li><li><span><a href=\"#Kinematics\" data-toc-modified-id=\"Kinematics-3.5.4\"><span class=\"toc-item-num\">3.5.4&nbsp;&nbsp;</span>Kinematics</a></span></li><li><span><a href=\"#Sum-of-the-moments\" data-toc-modified-id=\"Sum-of-the-moments-3.5.5\"><span class=\"toc-item-num\">3.5.5&nbsp;&nbsp;</span>Sum of the moments</a></span></li></ul></li><li><span><a href=\"#Derivative-of-the-angular-momentum\" data-toc-modified-id=\"Derivative-of-the-angular-momentum-3.6\"><span class=\"toc-item-num\">3.6&nbsp;&nbsp;</span>Derivative of the angular momentum</a></span><ul class=\"toc-item\"><li><span><a href=\"#The-equation-of-motion\" data-toc-modified-id=\"The-equation-of-motion-3.6.1\"><span class=\"toc-item-num\">3.6.1&nbsp;&nbsp;</span>The equation of motion</a></span></li></ul></li><li><span><a href=\"#Force-platform-(position-of-the-center-of-pressure)\" data-toc-modified-id=\"Force-platform-(position-of-the-center-of-pressure)-3.7\"><span class=\"toc-item-num\">3.7&nbsp;&nbsp;</span>Force platform (position of the center of pressure)</a></span><ul class=\"toc-item\"><li><span><a href=\"#Free-body-diagram\" data-toc-modified-id=\"Free-body-diagram-3.7.1\"><span class=\"toc-item-num\">3.7.1&nbsp;&nbsp;</span>Free-body diagram</a></span></li></ul></li><li><span><a href=\"#Standing-dummy-(from-Ruina-and-Pratap-book)\" data-toc-modified-id=\"Standing-dummy-(from-Ruina-and-Pratap-book)-3.8\"><span class=\"toc-item-num\">3.8&nbsp;&nbsp;</span>Standing dummy (from Ruina and Pratap book)</a></span><ul class=\"toc-item\"><li><span><a href=\"#Free-body-diagram\" data-toc-modified-id=\"Free-body-diagram-3.8.1\"><span class=\"toc-item-num\">3.8.1&nbsp;&nbsp;</span>Free-body diagram</a></span></li><li><span><a href=\"#Kinematics\" data-toc-modified-id=\"Kinematics-3.8.2\"><span class=\"toc-item-num\">3.8.2&nbsp;&nbsp;</span>Kinematics</a></span></li><li><span><a href=\"#Sum-of-the-moments\" data-toc-modified-id=\"Sum-of-the-moments-3.8.3\"><span class=\"toc-item-num\">3.8.3&nbsp;&nbsp;</span>Sum of the moments</a></span></li><li><span><a href=\"#Derivative-of-the-angular-momentum\" data-toc-modified-id=\"Derivative-of-the-angular-momentum-3.8.4\"><span class=\"toc-item-num\">3.8.4&nbsp;&nbsp;</span>Derivative of the angular momentum</a></span></li><li><span><a href=\"#The-equation-of-motion\" data-toc-modified-id=\"The-equation-of-motion-3.8.5\"><span class=\"toc-item-num\">3.8.5&nbsp;&nbsp;</span>The equation of motion</a></span></li></ul></li><li><span><a href=\"#Double-pendulum-with-actuators\" data-toc-modified-id=\"Double-pendulum-with-actuators-3.9\"><span class=\"toc-item-num\">3.9&nbsp;&nbsp;</span>Double pendulum with actuators</a></span><ul class=\"toc-item\"><li><span><a href=\"#Free-body-diagram\" data-toc-modified-id=\"Free-body-diagram-3.9.1\"><span class=\"toc-item-num\">3.9.1&nbsp;&nbsp;</span>Free-body diagram</a></span></li><li><span><a href=\"#Definition-of-versors\" data-toc-modified-id=\"Definition-of-versors-3.9.2\"><span class=\"toc-item-num\">3.9.2&nbsp;&nbsp;</span>Definition of versors</a></span></li><li><span><a href=\"#Kinematics\" data-toc-modified-id=\"Kinematics-3.9.3\"><span class=\"toc-item-num\">3.9.3&nbsp;&nbsp;</span>Kinematics</a></span></li><li><span><a href=\"#Sum-of-the-moments-of-the-lower-bar-around-O2\" data-toc-modified-id=\"Sum-of-the-moments-of-the-lower-bar-around-O2-3.9.4\"><span class=\"toc-item-num\">3.9.4&nbsp;&nbsp;</span>Sum of the moments of the lower bar around O2</a></span></li><li><span><a href=\"#Derivative-of-angular-momentum-of-the-lower-bar-around-O2\" data-toc-modified-id=\"Derivative-of-angular-momentum-of-the-lower-bar-around-O2-3.9.5\"><span class=\"toc-item-num\">3.9.5&nbsp;&nbsp;</span>Derivative of angular momentum of the lower bar around O2</a></span></li></ul></li><li><span><a href=\"#Sum-of-moments-of-the-upper-bar-around-O1\" data-toc-modified-id=\"Sum-of-moments-of-the-upper-bar-around-O1-3.10\"><span class=\"toc-item-num\">3.10&nbsp;&nbsp;</span>Sum of moments of the upper bar around O1</a></span></li><li><span><a href=\"#Derivative-of-angular-momentum-of-the-upper-bar-around-O1\" data-toc-modified-id=\"Derivative-of-angular-momentum-of-the-upper-bar-around-O1-3.11\"><span class=\"toc-item-num\">3.11&nbsp;&nbsp;</span>Derivative of angular momentum of the upper bar around O1</a></span></li><li><span><a href=\"#The-equations-of-motion\" data-toc-modified-id=\"The-equations-of-motion-3.12\"><span class=\"toc-item-num\">3.12&nbsp;&nbsp;</span>The equations of motion</a></span></li><li><span><a href=\"#Problems\" data-toc-modified-id=\"Problems-3.13\"><span class=\"toc-item-num\">3.13&nbsp;&nbsp;</span>Problems</a></span></li><li><span><a href=\"#References\" data-toc-modified-id=\"References-3.14\"><span class=\"toc-item-num\">3.14&nbsp;&nbsp;</span>References</a></span></li></ul></li></ul></div>"
   ]
  },
  {
   "cell_type": "code",
   "execution_count": 2,
   "metadata": {
    "ExecuteTime": {
     "end_time": "2020-04-25T12:50:56.183891Z",
     "start_time": "2020-04-25T12:50:55.880963Z"
    },
    "slideshow": {
     "slide_type": "skip"
    }
   },
   "outputs": [],
   "source": [
    "import numpy as np\n",
    "import matplotlib.pyplot as plt\n",
    "%matplotlib notebook"
   ]
  },
  {
   "cell_type": "markdown",
   "metadata": {
    "slideshow": {
     "slide_type": "slide"
    }
   },
   "source": [
    "## Equivalent systems\n",
    "\n",
    "\n",
    "A set of forces and moments is considered equivalent if its resultant force and sum of the moments computed relative to a given point are the same. Normally, we want to reduce all the forces and moments being applied to a body into a single force and a single moment.\n",
    "\n",
    "We have done this with particles for the resultant force. The resultant force is simply the sum of all the forces being applied to the body.\n",
    "\n",
    "<span class=\"notranslate\">\n",
    "\\begin{equation}\n",
    "    \\vec{F} = \\sum\\limits_{i=1}^n \\vec{F_i}\n",
    "\\end{equation}\n",
    "</span>\n",
    "\n",
    "\n",
    "where <span class=\"notranslate\">$\\vec{F_i}$</span> is each force applied to the body.\n",
    "\n",
    "Similarly, the total moment applied to the body relative to a point O is:\n",
    "\n",
    "<span class=\"notranslate\">\n",
    "\\begin{equation}\n",
    "    \\vec{M_O} = \\sum\\limits_{i}\\vec{r_{i/O}} \\times \\vec{F_i}\n",
    "\\end{equation}\n",
    "</span>\n",
    "\n",
    "where <span class=\"notranslate\">$\\vec{r_{i/O}}$</span> is the vector from the point O to the point where the force <span class=\"notranslate\">$\\vec{\\bf{F_i}}$</span> is being applied.\n",
    "\n",
    "But where the resultant force should be applied in the body? If the resultant force were applied to any point different from the point O, it would produce an additional  moment to the body relative to point O. So, the resultant force must be applied to the point O.\n",
    "\n",
    "So, any set of forces can be reduced to a moment relative to a chosen point O and a resultant force applied to the point O.  \n",
    "\n",
    "To compute the resultant force and moment relative to another point O', the new moment is:\n",
    "\n",
    "<span class=\"notranslate\">\n",
    "\\begin{equation}\n",
    "    \\vec{M_{O'}} = \\vec{M_O} + \\vec{r_{O'/O}} \\times \\vec{F}\n",
    "\\end{equation}\n",
    "</span>\n",
    "\n",
    "And the resultant force is the same.\n",
    "\n",
    "It is worth to note that if the resultant force  <span class=\"notranslate\">$\\vec{F}$</span> is zero, than the moment is the same relative to any point.\n",
    "\n",
    "<figure><img src=\"./../images/equivalentSystem.png\" width=850/></figure>"
   ]
  },
  {
   "cell_type": "markdown",
   "metadata": {
    "slideshow": {
     "slide_type": "slide"
    }
   },
   "source": [
    "## Steps to draw a free-body diagram\n",
    "\n",
    "The steps to draw the free-body diagram of a body is very similar to the case of particles.\n",
    "\n",
    "1 - Draw separately each object considered in the problem. How you separate depends on what questions you want to answer."
   ]
  },
  {
   "cell_type": "markdown",
   "metadata": {
    "slideshow": {
     "slide_type": "slide"
    }
   },
   "source": [
    "2 - Identify the forces acting on each object. If you are analyzing more than one object, remember the third Newton law (action and reaction), and identify where the reaction of a force is being applied. Whenever a movement of translation of the body is constrained, a force at the direction of the constraint must exist."
   ]
  },
  {
   "cell_type": "markdown",
   "metadata": {
    "slideshow": {
     "slide_type": "slide"
    }
   },
   "source": [
    "3 - Identify the moments acting on each object. In the case you are analyzing more than one object, you must consider the  action and reaction law (third Newton-Euler law). Whenever a movement of rotation of the body is constrained, a moment at the direction of the constraint must exist."
   ]
  },
  {
   "cell_type": "markdown",
   "metadata": {
    "slideshow": {
     "slide_type": "slide"
    }
   },
   "source": [
    "4 - Draw all the identified forces, representing them as vectors. The vectors should be represented with the origin in the object. "
   ]
  },
  {
   "cell_type": "markdown",
   "metadata": {
    "slideshow": {
     "slide_type": "slide"
    }
   },
   "source": [
    "5 - Draw all the identified moments, representing them as vectors. In planar movements, the moments we be orthogonal to the considered plane. In these cases, normally the moment vectors are represented as curved arrows."
   ]
  },
  {
   "cell_type": "markdown",
   "metadata": {
    "slideshow": {
     "slide_type": "slide"
    }
   },
   "source": [
    "6 - If necessary, you should represent the reference frame (or references frames in case you use more than one reference frame) in the free-body diagram."
   ]
  },
  {
   "cell_type": "markdown",
   "metadata": {
    "slideshow": {
     "slide_type": "slide"
    }
   },
   "source": [
    "7 - After this, you can solve the problem using the First and Second Newton-Euler  Laws (see, e.g,  [Newton-Euler Laws](newton_euler_equations.ipynb)) to find the motion of the body.\n",
    "\n",
    "<span class=\"notranslate\">\n",
    "\\begin{equation}\n",
    "    \\vec{F} = m\\vec{a_{cm}} = m\\frac{d^2\\vec{r_{cm}}}{dt^2}\n",
    "\\end{equation}\n",
    "\n",
    "\\begin{equation}\n",
    "    \\vec{M_O} = I_{zz}^{cm}\\vec{\\alpha} + m \\vec{r_{cm/O}} \\times \\vec{a_{cm}}=I_{zz}^{cm}\\vec{\\frac{d^2\\theta}{dt^2}} + m \\vec{r_{cm/O}} \\times \\frac{d^2\\vec{r_{cm}}}{dt^2}\n",
    "\\end{equation}\n",
    "</span>"
   ]
  },
  {
   "cell_type": "markdown",
   "metadata": {
    "slideshow": {
     "slide_type": "slide"
    }
   },
   "source": [
    "## Examples\n",
    "\n",
    "Below, we will see some examples of how to draw the free-body diagram and obtain the equation of motion."
   ]
  },
  {
   "cell_type": "markdown",
   "metadata": {
    "slideshow": {
     "slide_type": "slide"
    }
   },
   "source": [
    "### Horizontal fixed bar \n",
    "\n",
    "The first example is an example of statics. The bar has no velocity and no acceleration.\n",
    "\n",
    "<figure><img src=\"../images/bar1.png\\\" width=200 />\n",
    "\n"
   ]
  },
  {
   "cell_type": "markdown",
   "metadata": {
    "slideshow": {
     "slide_type": "slide"
    }
   },
   "source": [
    "The free-body diagram of the bar is depicted below. At the point where the bar is connected to the wall, there is a force $\\vec{F_1}$ constraining the translation movement of the point O and a moment $\\vec{M}$ constraining the rotation of the bar.\n",
    "\n",
    "<figure><img src=\"../images/bar1FBD.png\\\" width=250 />"
   ]
  },
  {
   "cell_type": "markdown",
   "metadata": {
    "slideshow": {
     "slide_type": "slide"
    }
   },
   "source": [
    "The resultant force being applied to the bar is:\n",
    "\n",
    "<span class=\"notranslate\">\n",
    "$$\n",
    "\\vec{F} = -mg\\hat{\\bf{j}} + \\vec{F_1}\n",
    "$$\n",
    "</span>\n",
    "\n",
    "And the total moment in the z direction around the point O is:\n",
    "\n",
    "<span class=\"notranslate\">\n",
    "$$\n",
    "\\vec{M_O} = \\vec{r_{C/O}}\\times-mg\\hat{\\bf{j}} + \\vec{M}\n",
    "$$\n",
    "</span>\n",
    "\n",
    "The vector from the point O to the point C is given by <span class=\"notranslate\">$\\vec{r_{C/O}} =\\frac{l}{2}\\hat{\\bf{i}}$</span>. \n",
    "\n",
    "As the bar is fixed, all the accelerations are zero. So we can find the forces and the moment at the constraint.\n",
    "\n",
    "<span class=\"notranslate\">\n",
    "$$\n",
    "\\vec{F} = \\vec{0}\n",
    "$$\n",
    "</span>\n",
    "\n",
    "<span class=\"notranslate\">\n",
    "$$\n",
    "-mg\\hat{\\bf{j}} + \\vec{F_1} = \\vec{0}\n",
    "$$  \n",
    "</span>\n",
    "\n",
    "<span class=\"notranslate\">\n",
    "$$\n",
    "\\vec{F_1} = mg\\hat{\\bf{j}}\n",
    "$$\n",
    "</span>\n",
    "\n",
    "<span class=\"notranslate\">\n",
    "$$\n",
    "\\vec{M_O} = \\vec{0}\n",
    "$$\n",
    "</span>\n",
    "\n",
    "<span class=\"notranslate\">\n",
    "$$\n",
    "\\vec{r_{C/O}}\\times-mg\\hat{\\bf{j}} + \\vec{M} = \\vec{0} \n",
    "$$\n",
    "</span>\n",
    "\n",
    "<span class=\"notranslate\">\n",
    "$$\n",
    "\\frac{l}{2}\\hat{\\bf{i}}\\times-mg\\hat{\\bf{j}} + \\vec{M} = \\vec{0}\n",
    "$$ \n",
    "</span>\n",
    "\n",
    "<span class=\"notranslate\">\n",
    "$$\n",
    "-\\frac{mgl}{2}\\hat{\\bf{k}} + \\vec{M} = \\vec{0} \n",
    "$$ \n",
    "</span>\n",
    "\n",
    "<span class=\"notranslate\">\n",
    "$$\n",
    "\\vec{M} = \\frac{mgl}{2}\\hat{\\bf{k}} \n",
    "$$\n",
    "</span>"
   ]
  },
  {
   "cell_type": "markdown",
   "metadata": {
    "slideshow": {
     "slide_type": "slide"
    }
   },
   "source": [
    "### Rotating ball with drag force  \n",
    "\n",
    "\n",
    "A basketball has a mass $m = 0.63$ kg and radius equal $R = 12$ cm. A basketball player shots the ball from the free-throw line (4.6 m from the basket) with a speed of 9.5 m/s, angle of 51 degrees with the court, height of 2 m and angular velocity of 42 rad/s. At the ball is acting a drag force proportional to the modulus of the ball velocity in the opposite direction of the velocity and a drag moment, proportional and in the opposite direction of the angular velocity of the ball. Consider the moment of inertia of the ball as $I_{zz}^{cm} = \\frac{2mR^2}{3}$.\n",
    "\n",
    "Below is depicted the free-body diagram of the ball.\n",
    "\n",
    "<figure><img src=\"../images/ballRotDrag.png\\\" width=250 />"
   ]
  },
  {
   "cell_type": "markdown",
   "metadata": {
    "slideshow": {
     "slide_type": "slide"
    }
   },
   "source": [
    "The resultant force being applied at the ball is:\n",
    "\n",
    "<span class=\"notranslate\">\n",
    "$$\n",
    "    \\vec{F} = -mg\\hat{\\bf{j}} - b_l\\vec{v} + b_m\\omega\\hat{\\bf{k}}\\times \\vec{v} = -mg\\hat{\\bf{j}} - b_l\\frac{d\\vec{r}}{dt} \n",
    "$$\n",
    "</span>\n",
    "\n",
    "<span class=\"notranslate\">\n",
    "$$\n",
    "    \\vec{M_C} = - b_r\\omega\\hat{\\bf{k}}=- b_r\\frac{d\\theta}{dt}\\hat{\\bf{k}}\n",
    "$$\n",
    "</span>\n",
    "\n",
    "<span class=\"notranslate\">\n",
    "$$\n",
    "    \\frac{d\\vec{H_C}}{dt} = I_{zz}^{C}\\frac{d^2\\theta}{dt^2}\\hat{\\bf{k}}\n",
    "$$\n",
    "</span>\n",
    "\n",
    "So, by the second Newton-Euler law:\n",
    "\n",
    "<span class=\"notranslate\">\n",
    "$$\n",
    "    \\frac{d\\vec{H_C}}{dt}=\\vec{M_C}\n",
    "$$\n",
    "\n",
    "\n",
    "\n",
    "$$\n",
    "    I_{zz}^{C}\\frac{d^2\\theta}{dt^2} = - b_r\\frac{d\\theta}{dt}\n",
    "$$\n",
    "</span>\n",
    "and by the first Newton-Euler law (for a revision on Newton-Euler laws, [see this notebook](newton_euler_equations.ipynb)):\n",
    "\n",
    "<span class=\"notranslate\">\n",
    "$$\n",
    "    m\\frac{d\\vec{r}}{dt}=\\vec{F} \\rightarrow \\frac{d\\vec{r}}{dt} = -g\\hat{\\bf{j}} - \\frac{b_l}{m}\\frac{d\\vec{r}}{dt} \n",
    "$$\n",
    "</span>"
   ]
  },
  {
   "cell_type": "markdown",
   "metadata": {
    "slideshow": {
     "slide_type": "slide"
    }
   },
   "source": [
    "So, we can split the differential equations above in three equations:\n",
    "\n",
    "<span class=\"notranslate\">\n",
    "$$\n",
    "    \\frac{d^2\\theta}{dt^2} = - \\frac{b_r}{I_{zz}^{C}}\\frac{d\\theta}{dt}\n",
    "$$\n",
    "\n",
    "$$\n",
    "    \\frac{d^2x}{dt^2} = - \\frac{b_l}{m}\\frac{dx}{dt} \n",
    "$$\n",
    "\n",
    "$$\n",
    "    \\frac{d^2y}{dt^2} = -g - \\frac{b_l}{m}\\frac{dy}{dt} \n",
    "$$\n",
    "</span>"
   ]
  },
  {
   "cell_type": "markdown",
   "metadata": {
    "slideshow": {
     "slide_type": "slide"
    }
   },
   "source": [
    "To solve these equations numerically, we can split each of these equations in first-order equations and the use a numerical method to integrate them. The first-order equations we be written in a matrix form, considering the moment of inertia of the ball as \n",
    "<span class=\"notranslate\"> $I_{zz}^{C}=\\frac{2mR^2}{3}$:\n",
    "\n",
    "$$\n",
    "    \\left[\\begin{array}{c}\\frac{d\\omega}{dt}\\\\\\frac{dv_x}{dt}\\\\\\frac{dv_y}{dt}\\\\\\frac{d\\theta}{dt}\\\\\\frac{dx}{dt}\\\\\\frac{dy}{dt} \\end{array}\\right] = \\left[\\begin{array}{c}- \\frac{3b_r}{2mR^2}\\omega\\\\- \\frac{b_l}{m}v_x\\\\-g - \\frac{b_l}{m}v_y\\\\\\omega\\\\v_x\\\\v_y\\end{array}\\right] \n",
    "$$\n",
    "</span>\n",
    "\n",
    "Below, the equations were solved numerically by using the Euler method (for a revision on numerical methods to solve ordinary differential equations, [see this notebook](OrdinaryDifferentialEquation.ipynb))."
   ]
  },
  {
   "cell_type": "code",
   "execution_count": 3,
   "metadata": {
    "ExecuteTime": {
     "end_time": "2020-04-25T12:51:01.951822Z",
     "start_time": "2020-04-25T12:51:01.797736Z"
    },
    "slideshow": {
     "slide_type": "slide"
    }
   },
   "outputs": [
    {
     "data": {
      "application/javascript": [
       "/* Put everything inside the global mpl namespace */\n",
       "window.mpl = {};\n",
       "\n",
       "\n",
       "mpl.get_websocket_type = function() {\n",
       "    if (typeof(WebSocket) !== 'undefined') {\n",
       "        return WebSocket;\n",
       "    } else if (typeof(MozWebSocket) !== 'undefined') {\n",
       "        return MozWebSocket;\n",
       "    } else {\n",
       "        alert('Your browser does not have WebSocket support. ' +\n",
       "              'Please try Chrome, Safari or Firefox ≥ 6. ' +\n",
       "              'Firefox 4 and 5 are also supported but you ' +\n",
       "              'have to enable WebSockets in about:config.');\n",
       "    };\n",
       "}\n",
       "\n",
       "mpl.figure = function(figure_id, websocket, ondownload, parent_element) {\n",
       "    this.id = figure_id;\n",
       "\n",
       "    this.ws = websocket;\n",
       "\n",
       "    this.supports_binary = (this.ws.binaryType != undefined);\n",
       "\n",
       "    if (!this.supports_binary) {\n",
       "        var warnings = document.getElementById(\"mpl-warnings\");\n",
       "        if (warnings) {\n",
       "            warnings.style.display = 'block';\n",
       "            warnings.textContent = (\n",
       "                \"This browser does not support binary websocket messages. \" +\n",
       "                    \"Performance may be slow.\");\n",
       "        }\n",
       "    }\n",
       "\n",
       "    this.imageObj = new Image();\n",
       "\n",
       "    this.context = undefined;\n",
       "    this.message = undefined;\n",
       "    this.canvas = undefined;\n",
       "    this.rubberband_canvas = undefined;\n",
       "    this.rubberband_context = undefined;\n",
       "    this.format_dropdown = undefined;\n",
       "\n",
       "    this.image_mode = 'full';\n",
       "\n",
       "    this.root = $('<div/>');\n",
       "    this._root_extra_style(this.root)\n",
       "    this.root.attr('style', 'display: inline-block');\n",
       "\n",
       "    $(parent_element).append(this.root);\n",
       "\n",
       "    this._init_header(this);\n",
       "    this._init_canvas(this);\n",
       "    this._init_toolbar(this);\n",
       "\n",
       "    var fig = this;\n",
       "\n",
       "    this.waiting = false;\n",
       "\n",
       "    this.ws.onopen =  function () {\n",
       "            fig.send_message(\"supports_binary\", {value: fig.supports_binary});\n",
       "            fig.send_message(\"send_image_mode\", {});\n",
       "            if (mpl.ratio != 1) {\n",
       "                fig.send_message(\"set_dpi_ratio\", {'dpi_ratio': mpl.ratio});\n",
       "            }\n",
       "            fig.send_message(\"refresh\", {});\n",
       "        }\n",
       "\n",
       "    this.imageObj.onload = function() {\n",
       "            if (fig.image_mode == 'full') {\n",
       "                // Full images could contain transparency (where diff images\n",
       "                // almost always do), so we need to clear the canvas so that\n",
       "                // there is no ghosting.\n",
       "                fig.context.clearRect(0, 0, fig.canvas.width, fig.canvas.height);\n",
       "            }\n",
       "            fig.context.drawImage(fig.imageObj, 0, 0);\n",
       "        };\n",
       "\n",
       "    this.imageObj.onunload = function() {\n",
       "        fig.ws.close();\n",
       "    }\n",
       "\n",
       "    this.ws.onmessage = this._make_on_message_function(this);\n",
       "\n",
       "    this.ondownload = ondownload;\n",
       "}\n",
       "\n",
       "mpl.figure.prototype._init_header = function() {\n",
       "    var titlebar = $(\n",
       "        '<div class=\"ui-dialog-titlebar ui-widget-header ui-corner-all ' +\n",
       "        'ui-helper-clearfix\"/>');\n",
       "    var titletext = $(\n",
       "        '<div class=\"ui-dialog-title\" style=\"width: 100%; ' +\n",
       "        'text-align: center; padding: 3px;\"/>');\n",
       "    titlebar.append(titletext)\n",
       "    this.root.append(titlebar);\n",
       "    this.header = titletext[0];\n",
       "}\n",
       "\n",
       "\n",
       "\n",
       "mpl.figure.prototype._canvas_extra_style = function(canvas_div) {\n",
       "\n",
       "}\n",
       "\n",
       "\n",
       "mpl.figure.prototype._root_extra_style = function(canvas_div) {\n",
       "\n",
       "}\n",
       "\n",
       "mpl.figure.prototype._init_canvas = function() {\n",
       "    var fig = this;\n",
       "\n",
       "    var canvas_div = $('<div/>');\n",
       "\n",
       "    canvas_div.attr('style', 'position: relative; clear: both; outline: 0');\n",
       "\n",
       "    function canvas_keyboard_event(event) {\n",
       "        return fig.key_event(event, event['data']);\n",
       "    }\n",
       "\n",
       "    canvas_div.keydown('key_press', canvas_keyboard_event);\n",
       "    canvas_div.keyup('key_release', canvas_keyboard_event);\n",
       "    this.canvas_div = canvas_div\n",
       "    this._canvas_extra_style(canvas_div)\n",
       "    this.root.append(canvas_div);\n",
       "\n",
       "    var canvas = $('<canvas/>');\n",
       "    canvas.addClass('mpl-canvas');\n",
       "    canvas.attr('style', \"left: 0; top: 0; z-index: 0; outline: 0\")\n",
       "\n",
       "    this.canvas = canvas[0];\n",
       "    this.context = canvas[0].getContext(\"2d\");\n",
       "\n",
       "    var backingStore = this.context.backingStorePixelRatio ||\n",
       "\tthis.context.webkitBackingStorePixelRatio ||\n",
       "\tthis.context.mozBackingStorePixelRatio ||\n",
       "\tthis.context.msBackingStorePixelRatio ||\n",
       "\tthis.context.oBackingStorePixelRatio ||\n",
       "\tthis.context.backingStorePixelRatio || 1;\n",
       "\n",
       "    mpl.ratio = (window.devicePixelRatio || 1) / backingStore;\n",
       "\n",
       "    var rubberband = $('<canvas/>');\n",
       "    rubberband.attr('style', \"position: absolute; left: 0; top: 0; z-index: 1;\")\n",
       "\n",
       "    var pass_mouse_events = true;\n",
       "\n",
       "    canvas_div.resizable({\n",
       "        start: function(event, ui) {\n",
       "            pass_mouse_events = false;\n",
       "        },\n",
       "        resize: function(event, ui) {\n",
       "            fig.request_resize(ui.size.width, ui.size.height);\n",
       "        },\n",
       "        stop: function(event, ui) {\n",
       "            pass_mouse_events = true;\n",
       "            fig.request_resize(ui.size.width, ui.size.height);\n",
       "        },\n",
       "    });\n",
       "\n",
       "    function mouse_event_fn(event) {\n",
       "        if (pass_mouse_events)\n",
       "            return fig.mouse_event(event, event['data']);\n",
       "    }\n",
       "\n",
       "    rubberband.mousedown('button_press', mouse_event_fn);\n",
       "    rubberband.mouseup('button_release', mouse_event_fn);\n",
       "    // Throttle sequential mouse events to 1 every 20ms.\n",
       "    rubberband.mousemove('motion_notify', mouse_event_fn);\n",
       "\n",
       "    rubberband.mouseenter('figure_enter', mouse_event_fn);\n",
       "    rubberband.mouseleave('figure_leave', mouse_event_fn);\n",
       "\n",
       "    canvas_div.on(\"wheel\", function (event) {\n",
       "        event = event.originalEvent;\n",
       "        event['data'] = 'scroll'\n",
       "        if (event.deltaY < 0) {\n",
       "            event.step = 1;\n",
       "        } else {\n",
       "            event.step = -1;\n",
       "        }\n",
       "        mouse_event_fn(event);\n",
       "    });\n",
       "\n",
       "    canvas_div.append(canvas);\n",
       "    canvas_div.append(rubberband);\n",
       "\n",
       "    this.rubberband = rubberband;\n",
       "    this.rubberband_canvas = rubberband[0];\n",
       "    this.rubberband_context = rubberband[0].getContext(\"2d\");\n",
       "    this.rubberband_context.strokeStyle = \"#000000\";\n",
       "\n",
       "    this._resize_canvas = function(width, height) {\n",
       "        // Keep the size of the canvas, canvas container, and rubber band\n",
       "        // canvas in synch.\n",
       "        canvas_div.css('width', width)\n",
       "        canvas_div.css('height', height)\n",
       "\n",
       "        canvas.attr('width', width * mpl.ratio);\n",
       "        canvas.attr('height', height * mpl.ratio);\n",
       "        canvas.attr('style', 'width: ' + width + 'px; height: ' + height + 'px;');\n",
       "\n",
       "        rubberband.attr('width', width);\n",
       "        rubberband.attr('height', height);\n",
       "    }\n",
       "\n",
       "    // Set the figure to an initial 600x600px, this will subsequently be updated\n",
       "    // upon first draw.\n",
       "    this._resize_canvas(600, 600);\n",
       "\n",
       "    // Disable right mouse context menu.\n",
       "    $(this.rubberband_canvas).bind(\"contextmenu\",function(e){\n",
       "        return false;\n",
       "    });\n",
       "\n",
       "    function set_focus () {\n",
       "        canvas.focus();\n",
       "        canvas_div.focus();\n",
       "    }\n",
       "\n",
       "    window.setTimeout(set_focus, 100);\n",
       "}\n",
       "\n",
       "mpl.figure.prototype._init_toolbar = function() {\n",
       "    var fig = this;\n",
       "\n",
       "    var nav_element = $('<div/>');\n",
       "    nav_element.attr('style', 'width: 100%');\n",
       "    this.root.append(nav_element);\n",
       "\n",
       "    // Define a callback function for later on.\n",
       "    function toolbar_event(event) {\n",
       "        return fig.toolbar_button_onclick(event['data']);\n",
       "    }\n",
       "    function toolbar_mouse_event(event) {\n",
       "        return fig.toolbar_button_onmouseover(event['data']);\n",
       "    }\n",
       "\n",
       "    for(var toolbar_ind in mpl.toolbar_items) {\n",
       "        var name = mpl.toolbar_items[toolbar_ind][0];\n",
       "        var tooltip = mpl.toolbar_items[toolbar_ind][1];\n",
       "        var image = mpl.toolbar_items[toolbar_ind][2];\n",
       "        var method_name = mpl.toolbar_items[toolbar_ind][3];\n",
       "\n",
       "        if (!name) {\n",
       "            // put a spacer in here.\n",
       "            continue;\n",
       "        }\n",
       "        var button = $('<button/>');\n",
       "        button.addClass('ui-button ui-widget ui-state-default ui-corner-all ' +\n",
       "                        'ui-button-icon-only');\n",
       "        button.attr('role', 'button');\n",
       "        button.attr('aria-disabled', 'false');\n",
       "        button.click(method_name, toolbar_event);\n",
       "        button.mouseover(tooltip, toolbar_mouse_event);\n",
       "\n",
       "        var icon_img = $('<span/>');\n",
       "        icon_img.addClass('ui-button-icon-primary ui-icon');\n",
       "        icon_img.addClass(image);\n",
       "        icon_img.addClass('ui-corner-all');\n",
       "\n",
       "        var tooltip_span = $('<span/>');\n",
       "        tooltip_span.addClass('ui-button-text');\n",
       "        tooltip_span.html(tooltip);\n",
       "\n",
       "        button.append(icon_img);\n",
       "        button.append(tooltip_span);\n",
       "\n",
       "        nav_element.append(button);\n",
       "    }\n",
       "\n",
       "    var fmt_picker_span = $('<span/>');\n",
       "\n",
       "    var fmt_picker = $('<select/>');\n",
       "    fmt_picker.addClass('mpl-toolbar-option ui-widget ui-widget-content');\n",
       "    fmt_picker_span.append(fmt_picker);\n",
       "    nav_element.append(fmt_picker_span);\n",
       "    this.format_dropdown = fmt_picker[0];\n",
       "\n",
       "    for (var ind in mpl.extensions) {\n",
       "        var fmt = mpl.extensions[ind];\n",
       "        var option = $(\n",
       "            '<option/>', {selected: fmt === mpl.default_extension}).html(fmt);\n",
       "        fmt_picker.append(option);\n",
       "    }\n",
       "\n",
       "    // Add hover states to the ui-buttons\n",
       "    $( \".ui-button\" ).hover(\n",
       "        function() { $(this).addClass(\"ui-state-hover\");},\n",
       "        function() { $(this).removeClass(\"ui-state-hover\");}\n",
       "    );\n",
       "\n",
       "    var status_bar = $('<span class=\"mpl-message\"/>');\n",
       "    nav_element.append(status_bar);\n",
       "    this.message = status_bar[0];\n",
       "}\n",
       "\n",
       "mpl.figure.prototype.request_resize = function(x_pixels, y_pixels) {\n",
       "    // Request matplotlib to resize the figure. Matplotlib will then trigger a resize in the client,\n",
       "    // which will in turn request a refresh of the image.\n",
       "    this.send_message('resize', {'width': x_pixels, 'height': y_pixels});\n",
       "}\n",
       "\n",
       "mpl.figure.prototype.send_message = function(type, properties) {\n",
       "    properties['type'] = type;\n",
       "    properties['figure_id'] = this.id;\n",
       "    this.ws.send(JSON.stringify(properties));\n",
       "}\n",
       "\n",
       "mpl.figure.prototype.send_draw_message = function() {\n",
       "    if (!this.waiting) {\n",
       "        this.waiting = true;\n",
       "        this.ws.send(JSON.stringify({type: \"draw\", figure_id: this.id}));\n",
       "    }\n",
       "}\n",
       "\n",
       "\n",
       "mpl.figure.prototype.handle_save = function(fig, msg) {\n",
       "    var format_dropdown = fig.format_dropdown;\n",
       "    var format = format_dropdown.options[format_dropdown.selectedIndex].value;\n",
       "    fig.ondownload(fig, format);\n",
       "}\n",
       "\n",
       "\n",
       "mpl.figure.prototype.handle_resize = function(fig, msg) {\n",
       "    var size = msg['size'];\n",
       "    if (size[0] != fig.canvas.width || size[1] != fig.canvas.height) {\n",
       "        fig._resize_canvas(size[0], size[1]);\n",
       "        fig.send_message(\"refresh\", {});\n",
       "    };\n",
       "}\n",
       "\n",
       "mpl.figure.prototype.handle_rubberband = function(fig, msg) {\n",
       "    var x0 = msg['x0'] / mpl.ratio;\n",
       "    var y0 = (fig.canvas.height - msg['y0']) / mpl.ratio;\n",
       "    var x1 = msg['x1'] / mpl.ratio;\n",
       "    var y1 = (fig.canvas.height - msg['y1']) / mpl.ratio;\n",
       "    x0 = Math.floor(x0) + 0.5;\n",
       "    y0 = Math.floor(y0) + 0.5;\n",
       "    x1 = Math.floor(x1) + 0.5;\n",
       "    y1 = Math.floor(y1) + 0.5;\n",
       "    var min_x = Math.min(x0, x1);\n",
       "    var min_y = Math.min(y0, y1);\n",
       "    var width = Math.abs(x1 - x0);\n",
       "    var height = Math.abs(y1 - y0);\n",
       "\n",
       "    fig.rubberband_context.clearRect(\n",
       "        0, 0, fig.canvas.width / mpl.ratio, fig.canvas.height / mpl.ratio);\n",
       "\n",
       "    fig.rubberband_context.strokeRect(min_x, min_y, width, height);\n",
       "}\n",
       "\n",
       "mpl.figure.prototype.handle_figure_label = function(fig, msg) {\n",
       "    // Updates the figure title.\n",
       "    fig.header.textContent = msg['label'];\n",
       "}\n",
       "\n",
       "mpl.figure.prototype.handle_cursor = function(fig, msg) {\n",
       "    var cursor = msg['cursor'];\n",
       "    switch(cursor)\n",
       "    {\n",
       "    case 0:\n",
       "        cursor = 'pointer';\n",
       "        break;\n",
       "    case 1:\n",
       "        cursor = 'default';\n",
       "        break;\n",
       "    case 2:\n",
       "        cursor = 'crosshair';\n",
       "        break;\n",
       "    case 3:\n",
       "        cursor = 'move';\n",
       "        break;\n",
       "    }\n",
       "    fig.rubberband_canvas.style.cursor = cursor;\n",
       "}\n",
       "\n",
       "mpl.figure.prototype.handle_message = function(fig, msg) {\n",
       "    fig.message.textContent = msg['message'];\n",
       "}\n",
       "\n",
       "mpl.figure.prototype.handle_draw = function(fig, msg) {\n",
       "    // Request the server to send over a new figure.\n",
       "    fig.send_draw_message();\n",
       "}\n",
       "\n",
       "mpl.figure.prototype.handle_image_mode = function(fig, msg) {\n",
       "    fig.image_mode = msg['mode'];\n",
       "}\n",
       "\n",
       "mpl.figure.prototype.updated_canvas_event = function() {\n",
       "    // Called whenever the canvas gets updated.\n",
       "    this.send_message(\"ack\", {});\n",
       "}\n",
       "\n",
       "// A function to construct a web socket function for onmessage handling.\n",
       "// Called in the figure constructor.\n",
       "mpl.figure.prototype._make_on_message_function = function(fig) {\n",
       "    return function socket_on_message(evt) {\n",
       "        if (evt.data instanceof Blob) {\n",
       "            /* FIXME: We get \"Resource interpreted as Image but\n",
       "             * transferred with MIME type text/plain:\" errors on\n",
       "             * Chrome.  But how to set the MIME type?  It doesn't seem\n",
       "             * to be part of the websocket stream */\n",
       "            evt.data.type = \"image/png\";\n",
       "\n",
       "            /* Free the memory for the previous frames */\n",
       "            if (fig.imageObj.src) {\n",
       "                (window.URL || window.webkitURL).revokeObjectURL(\n",
       "                    fig.imageObj.src);\n",
       "            }\n",
       "\n",
       "            fig.imageObj.src = (window.URL || window.webkitURL).createObjectURL(\n",
       "                evt.data);\n",
       "            fig.updated_canvas_event();\n",
       "            fig.waiting = false;\n",
       "            return;\n",
       "        }\n",
       "        else if (typeof evt.data === 'string' && evt.data.slice(0, 21) == \"data:image/png;base64\") {\n",
       "            fig.imageObj.src = evt.data;\n",
       "            fig.updated_canvas_event();\n",
       "            fig.waiting = false;\n",
       "            return;\n",
       "        }\n",
       "\n",
       "        var msg = JSON.parse(evt.data);\n",
       "        var msg_type = msg['type'];\n",
       "\n",
       "        // Call the  \"handle_{type}\" callback, which takes\n",
       "        // the figure and JSON message as its only arguments.\n",
       "        try {\n",
       "            var callback = fig[\"handle_\" + msg_type];\n",
       "        } catch (e) {\n",
       "            console.log(\"No handler for the '\" + msg_type + \"' message type: \", msg);\n",
       "            return;\n",
       "        }\n",
       "\n",
       "        if (callback) {\n",
       "            try {\n",
       "                // console.log(\"Handling '\" + msg_type + \"' message: \", msg);\n",
       "                callback(fig, msg);\n",
       "            } catch (e) {\n",
       "                console.log(\"Exception inside the 'handler_\" + msg_type + \"' callback:\", e, e.stack, msg);\n",
       "            }\n",
       "        }\n",
       "    };\n",
       "}\n",
       "\n",
       "// from http://stackoverflow.com/questions/1114465/getting-mouse-location-in-canvas\n",
       "mpl.findpos = function(e) {\n",
       "    //this section is from http://www.quirksmode.org/js/events_properties.html\n",
       "    var targ;\n",
       "    if (!e)\n",
       "        e = window.event;\n",
       "    if (e.target)\n",
       "        targ = e.target;\n",
       "    else if (e.srcElement)\n",
       "        targ = e.srcElement;\n",
       "    if (targ.nodeType == 3) // defeat Safari bug\n",
       "        targ = targ.parentNode;\n",
       "\n",
       "    // jQuery normalizes the pageX and pageY\n",
       "    // pageX,Y are the mouse positions relative to the document\n",
       "    // offset() returns the position of the element relative to the document\n",
       "    var x = e.pageX - $(targ).offset().left;\n",
       "    var y = e.pageY - $(targ).offset().top;\n",
       "\n",
       "    return {\"x\": x, \"y\": y};\n",
       "};\n",
       "\n",
       "/*\n",
       " * return a copy of an object with only non-object keys\n",
       " * we need this to avoid circular references\n",
       " * http://stackoverflow.com/a/24161582/3208463\n",
       " */\n",
       "function simpleKeys (original) {\n",
       "  return Object.keys(original).reduce(function (obj, key) {\n",
       "    if (typeof original[key] !== 'object')\n",
       "        obj[key] = original[key]\n",
       "    return obj;\n",
       "  }, {});\n",
       "}\n",
       "\n",
       "mpl.figure.prototype.mouse_event = function(event, name) {\n",
       "    var canvas_pos = mpl.findpos(event)\n",
       "\n",
       "    if (name === 'button_press')\n",
       "    {\n",
       "        this.canvas.focus();\n",
       "        this.canvas_div.focus();\n",
       "    }\n",
       "\n",
       "    var x = canvas_pos.x * mpl.ratio;\n",
       "    var y = canvas_pos.y * mpl.ratio;\n",
       "\n",
       "    this.send_message(name, {x: x, y: y, button: event.button,\n",
       "                             step: event.step,\n",
       "                             guiEvent: simpleKeys(event)});\n",
       "\n",
       "    /* This prevents the web browser from automatically changing to\n",
       "     * the text insertion cursor when the button is pressed.  We want\n",
       "     * to control all of the cursor setting manually through the\n",
       "     * 'cursor' event from matplotlib */\n",
       "    event.preventDefault();\n",
       "    return false;\n",
       "}\n",
       "\n",
       "mpl.figure.prototype._key_event_extra = function(event, name) {\n",
       "    // Handle any extra behaviour associated with a key event\n",
       "}\n",
       "\n",
       "mpl.figure.prototype.key_event = function(event, name) {\n",
       "\n",
       "    // Prevent repeat events\n",
       "    if (name == 'key_press')\n",
       "    {\n",
       "        if (event.which === this._key)\n",
       "            return;\n",
       "        else\n",
       "            this._key = event.which;\n",
       "    }\n",
       "    if (name == 'key_release')\n",
       "        this._key = null;\n",
       "\n",
       "    var value = '';\n",
       "    if (event.ctrlKey && event.which != 17)\n",
       "        value += \"ctrl+\";\n",
       "    if (event.altKey && event.which != 18)\n",
       "        value += \"alt+\";\n",
       "    if (event.shiftKey && event.which != 16)\n",
       "        value += \"shift+\";\n",
       "\n",
       "    value += 'k';\n",
       "    value += event.which.toString();\n",
       "\n",
       "    this._key_event_extra(event, name);\n",
       "\n",
       "    this.send_message(name, {key: value,\n",
       "                             guiEvent: simpleKeys(event)});\n",
       "    return false;\n",
       "}\n",
       "\n",
       "mpl.figure.prototype.toolbar_button_onclick = function(name) {\n",
       "    if (name == 'download') {\n",
       "        this.handle_save(this, null);\n",
       "    } else {\n",
       "        this.send_message(\"toolbar_button\", {name: name});\n",
       "    }\n",
       "};\n",
       "\n",
       "mpl.figure.prototype.toolbar_button_onmouseover = function(tooltip) {\n",
       "    this.message.textContent = tooltip;\n",
       "};\n",
       "mpl.toolbar_items = [[\"Home\", \"Reset original view\", \"fa fa-home icon-home\", \"home\"], [\"Back\", \"Back to previous view\", \"fa fa-arrow-left icon-arrow-left\", \"back\"], [\"Forward\", \"Forward to next view\", \"fa fa-arrow-right icon-arrow-right\", \"forward\"], [\"\", \"\", \"\", \"\"], [\"Pan\", \"Pan axes with left mouse, zoom with right\", \"fa fa-arrows icon-move\", \"pan\"], [\"Zoom\", \"Zoom to rectangle\", \"fa fa-square-o icon-check-empty\", \"zoom\"], [\"\", \"\", \"\", \"\"], [\"Download\", \"Download plot\", \"fa fa-floppy-o icon-save\", \"download\"]];\n",
       "\n",
       "mpl.extensions = [\"eps\", \"jpeg\", \"pdf\", \"png\", \"ps\", \"raw\", \"svg\", \"tif\"];\n",
       "\n",
       "mpl.default_extension = \"png\";var comm_websocket_adapter = function(comm) {\n",
       "    // Create a \"websocket\"-like object which calls the given IPython comm\n",
       "    // object with the appropriate methods. Currently this is a non binary\n",
       "    // socket, so there is still some room for performance tuning.\n",
       "    var ws = {};\n",
       "\n",
       "    ws.close = function() {\n",
       "        comm.close()\n",
       "    };\n",
       "    ws.send = function(m) {\n",
       "        //console.log('sending', m);\n",
       "        comm.send(m);\n",
       "    };\n",
       "    // Register the callback with on_msg.\n",
       "    comm.on_msg(function(msg) {\n",
       "        //console.log('receiving', msg['content']['data'], msg);\n",
       "        // Pass the mpl event to the overridden (by mpl) onmessage function.\n",
       "        ws.onmessage(msg['content']['data'])\n",
       "    });\n",
       "    return ws;\n",
       "}\n",
       "\n",
       "mpl.mpl_figure_comm = function(comm, msg) {\n",
       "    // This is the function which gets called when the mpl process\n",
       "    // starts-up an IPython Comm through the \"matplotlib\" channel.\n",
       "\n",
       "    var id = msg.content.data.id;\n",
       "    // Get hold of the div created by the display call when the Comm\n",
       "    // socket was opened in Python.\n",
       "    var element = $(\"#\" + id);\n",
       "    var ws_proxy = comm_websocket_adapter(comm)\n",
       "\n",
       "    function ondownload(figure, format) {\n",
       "        window.open(figure.imageObj.src);\n",
       "    }\n",
       "\n",
       "    var fig = new mpl.figure(id, ws_proxy,\n",
       "                           ondownload,\n",
       "                           element.get(0));\n",
       "\n",
       "    // Call onopen now - mpl needs it, as it is assuming we've passed it a real\n",
       "    // web socket which is closed, not our websocket->open comm proxy.\n",
       "    ws_proxy.onopen();\n",
       "\n",
       "    fig.parent_element = element.get(0);\n",
       "    fig.cell_info = mpl.find_output_cell(\"<div id='\" + id + \"'></div>\");\n",
       "    if (!fig.cell_info) {\n",
       "        console.error(\"Failed to find cell for figure\", id, fig);\n",
       "        return;\n",
       "    }\n",
       "\n",
       "    var output_index = fig.cell_info[2]\n",
       "    var cell = fig.cell_info[0];\n",
       "\n",
       "};\n",
       "\n",
       "mpl.figure.prototype.handle_close = function(fig, msg) {\n",
       "    var width = fig.canvas.width/mpl.ratio\n",
       "    fig.root.unbind('remove')\n",
       "\n",
       "    // Update the output cell to use the data from the current canvas.\n",
       "    fig.push_to_output();\n",
       "    var dataURL = fig.canvas.toDataURL();\n",
       "    // Re-enable the keyboard manager in IPython - without this line, in FF,\n",
       "    // the notebook keyboard shortcuts fail.\n",
       "    IPython.keyboard_manager.enable()\n",
       "    $(fig.parent_element).html('<img src=\"' + dataURL + '\" width=\"' + width + '\">');\n",
       "    fig.close_ws(fig, msg);\n",
       "}\n",
       "\n",
       "mpl.figure.prototype.close_ws = function(fig, msg){\n",
       "    fig.send_message('closing', msg);\n",
       "    // fig.ws.close()\n",
       "}\n",
       "\n",
       "mpl.figure.prototype.push_to_output = function(remove_interactive) {\n",
       "    // Turn the data on the canvas into data in the output cell.\n",
       "    var width = this.canvas.width/mpl.ratio\n",
       "    var dataURL = this.canvas.toDataURL();\n",
       "    this.cell_info[1]['text/html'] = '<img src=\"' + dataURL + '\" width=\"' + width + '\">';\n",
       "}\n",
       "\n",
       "mpl.figure.prototype.updated_canvas_event = function() {\n",
       "    // Tell IPython that the notebook contents must change.\n",
       "    IPython.notebook.set_dirty(true);\n",
       "    this.send_message(\"ack\", {});\n",
       "    var fig = this;\n",
       "    // Wait a second, then push the new image to the DOM so\n",
       "    // that it is saved nicely (might be nice to debounce this).\n",
       "    setTimeout(function () { fig.push_to_output() }, 1000);\n",
       "}\n",
       "\n",
       "mpl.figure.prototype._init_toolbar = function() {\n",
       "    var fig = this;\n",
       "\n",
       "    var nav_element = $('<div/>');\n",
       "    nav_element.attr('style', 'width: 100%');\n",
       "    this.root.append(nav_element);\n",
       "\n",
       "    // Define a callback function for later on.\n",
       "    function toolbar_event(event) {\n",
       "        return fig.toolbar_button_onclick(event['data']);\n",
       "    }\n",
       "    function toolbar_mouse_event(event) {\n",
       "        return fig.toolbar_button_onmouseover(event['data']);\n",
       "    }\n",
       "\n",
       "    for(var toolbar_ind in mpl.toolbar_items){\n",
       "        var name = mpl.toolbar_items[toolbar_ind][0];\n",
       "        var tooltip = mpl.toolbar_items[toolbar_ind][1];\n",
       "        var image = mpl.toolbar_items[toolbar_ind][2];\n",
       "        var method_name = mpl.toolbar_items[toolbar_ind][3];\n",
       "\n",
       "        if (!name) { continue; };\n",
       "\n",
       "        var button = $('<button class=\"btn btn-default\" href=\"#\" title=\"' + name + '\"><i class=\"fa ' + image + ' fa-lg\"></i></button>');\n",
       "        button.click(method_name, toolbar_event);\n",
       "        button.mouseover(tooltip, toolbar_mouse_event);\n",
       "        nav_element.append(button);\n",
       "    }\n",
       "\n",
       "    // Add the status bar.\n",
       "    var status_bar = $('<span class=\"mpl-message\" style=\"text-align:right; float: right;\"/>');\n",
       "    nav_element.append(status_bar);\n",
       "    this.message = status_bar[0];\n",
       "\n",
       "    // Add the close button to the window.\n",
       "    var buttongrp = $('<div class=\"btn-group inline pull-right\"></div>');\n",
       "    var button = $('<button class=\"btn btn-mini btn-primary\" href=\"#\" title=\"Stop Interaction\"><i class=\"fa fa-power-off icon-remove icon-large\"></i></button>');\n",
       "    button.click(function (evt) { fig.handle_close(fig, {}); } );\n",
       "    button.mouseover('Stop Interaction', toolbar_mouse_event);\n",
       "    buttongrp.append(button);\n",
       "    var titlebar = this.root.find($('.ui-dialog-titlebar'));\n",
       "    titlebar.prepend(buttongrp);\n",
       "}\n",
       "\n",
       "mpl.figure.prototype._root_extra_style = function(el){\n",
       "    var fig = this\n",
       "    el.on(\"remove\", function(){\n",
       "\tfig.close_ws(fig, {});\n",
       "    });\n",
       "}\n",
       "\n",
       "mpl.figure.prototype._canvas_extra_style = function(el){\n",
       "    // this is important to make the div 'focusable\n",
       "    el.attr('tabindex', 0)\n",
       "    // reach out to IPython and tell the keyboard manager to turn it's self\n",
       "    // off when our div gets focus\n",
       "\n",
       "    // location in version 3\n",
       "    if (IPython.notebook.keyboard_manager) {\n",
       "        IPython.notebook.keyboard_manager.register_events(el);\n",
       "    }\n",
       "    else {\n",
       "        // location in version 2\n",
       "        IPython.keyboard_manager.register_events(el);\n",
       "    }\n",
       "\n",
       "}\n",
       "\n",
       "mpl.figure.prototype._key_event_extra = function(event, name) {\n",
       "    var manager = IPython.notebook.keyboard_manager;\n",
       "    if (!manager)\n",
       "        manager = IPython.keyboard_manager;\n",
       "\n",
       "    // Check for shift+enter\n",
       "    if (event.shiftKey && event.which == 13) {\n",
       "        this.canvas_div.blur();\n",
       "        // select the cell after this one\n",
       "        var index = IPython.notebook.find_cell_index(this.cell_info[0]);\n",
       "        IPython.notebook.select(index + 1);\n",
       "    }\n",
       "}\n",
       "\n",
       "mpl.figure.prototype.handle_save = function(fig, msg) {\n",
       "    fig.ondownload(fig, null);\n",
       "}\n",
       "\n",
       "\n",
       "mpl.find_output_cell = function(html_output) {\n",
       "    // Return the cell and output element which can be found *uniquely* in the notebook.\n",
       "    // Note - this is a bit hacky, but it is done because the \"notebook_saving.Notebook\"\n",
       "    // IPython event is triggered only after the cells have been serialised, which for\n",
       "    // our purposes (turning an active figure into a static one), is too late.\n",
       "    var cells = IPython.notebook.get_cells();\n",
       "    var ncells = cells.length;\n",
       "    for (var i=0; i<ncells; i++) {\n",
       "        var cell = cells[i];\n",
       "        if (cell.cell_type === 'code'){\n",
       "            for (var j=0; j<cell.output_area.outputs.length; j++) {\n",
       "                var data = cell.output_area.outputs[j];\n",
       "                if (data.data) {\n",
       "                    // IPython >= 3 moved mimebundle to data attribute of output\n",
       "                    data = data.data;\n",
       "                }\n",
       "                if (data['text/html'] == html_output) {\n",
       "                    return [cell, data, j];\n",
       "                }\n",
       "            }\n",
       "        }\n",
       "    }\n",
       "}\n",
       "\n",
       "// Register the function which deals with the matplotlib target/channel.\n",
       "// The kernel may be null if the page has been refreshed.\n",
       "if (IPython.notebook.kernel != null) {\n",
       "    IPython.notebook.kernel.comm_manager.register_target('matplotlib', mpl.mpl_figure_comm);\n",
       "}\n"
      ],
      "text/plain": [
       "<IPython.core.display.Javascript object>"
      ]
     },
     "metadata": {},
     "output_type": "display_data"
    },
    {
     "data": {
      "text/html": [
       "<img src=\"data:image/png;base64,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\" width=\"640\">"
      ],
      "text/plain": [
       "<IPython.core.display.HTML object>"
      ]
     },
     "metadata": {},
     "output_type": "display_data"
    }
   ],
   "source": [
    "m = 0.63\n",
    "R = 0.12\n",
    "I = 2.0/3*m*R**2\n",
    "\n",
    "\n",
    "bl = 0.5\n",
    "br = 0.001\n",
    "g = 9.81\n",
    "\n",
    "\n",
    "x0 = 0\n",
    "y0 = 2\n",
    "\n",
    "v0 = 9.5\n",
    "angle = 51*np.pi/180.0\n",
    "\n",
    "vx0 = v0*np.cos(angle)\n",
    "vy0 = v0*np.sin(angle)\n",
    "\n",
    "dt = 0.001\n",
    "t = np.arange(0, 2.1, dt)\n",
    "\n",
    "x = x0\n",
    "y = y0\n",
    "vx = vx0\n",
    "vy = vy0\n",
    "\n",
    "omega = 42\n",
    "theta = 0\n",
    "\n",
    "\n",
    "r = np.array([x,y])\n",
    "ballAngle = np.array([theta])\n",
    "\n",
    "state = np.array([omega, vx, vy, theta, x, y])\n",
    "\n",
    "while state[4]<=4.6:\n",
    "\n",
    "    dstatedt = np.array([-br/I*state[0],-bl/m*state[1], -g-bl/m*state[2],state[0], state[1], state[2] ])\n",
    "    state = state + dt * dstatedt\n",
    "    \n",
    "    r = np.vstack((r, [state[4], state[5]]))\n",
    "    ballAngle = np.vstack((ballAngle, [state[3]]))\n",
    "    \n",
    "    \n",
    "plt.figure()\n",
    "plt.plot(r[0:-1:50,0], r[0:-1:50,1], 'o', color = np.array([1, 0.6,0]), markerSize =10)\n",
    "plt.plot(np.array([4, 4.45]), np.array([3.05, 3.05]))\n",
    "for i in range(len(r[0:-1:50,0])):\n",
    "    plt.plot(r[i*50,0]+np.array([-0.05*(np.cos(ballAngle[i*50])-np.sin(ballAngle[i*50])), 0.05*(np.cos(ballAngle[i*50])-np.sin(ballAngle[i*50]))]), \n",
    "             r[i*50,1] + np.array([-0.05*(np.sin(ballAngle[i*50])+np.cos(ballAngle[i*50])), 0.05*(np.sin(ballAngle[i*50])+np.cos(ballAngle[i*50]))]),'k')\n",
    "plt.ylim((0,4.5))\n",
    "plt.show()"
   ]
  },
  {
   "cell_type": "markdown",
   "metadata": {},
   "source": [
    "Above is the trajectory of the ball until it reaches the basket (height of 3.05 m, marked with a blue line)."
   ]
  },
  {
   "cell_type": "markdown",
   "metadata": {
    "slideshow": {
     "slide_type": "slide"
    }
   },
   "source": [
    "### Pendulum \n",
    "\n",
    "Now, we will analyze a pendulum. It consists of a bar with its upper part linked to a hinge.\n",
    "\n",
    "<figure><img src=\"../images/pendulum.png\\\" width=350 />\n",
    "    \n"
   ]
  },
  {
   "cell_type": "markdown",
   "metadata": {
    "slideshow": {
     "slide_type": "slide"
    }
   },
   "source": [
    "#### Free-body diagram\n",
    "\n",
    "Below is the free-body diagram of the bar. On the center of mass of the bar is acting the gravitational force. On the point O, where there is a hinge, a force $\\vec{\\bf{F_1}}$ restrains the point to translate. As the hinge does not constrains a rotational movement of the bar, there is no moment applied by the hinge. \n",
    "\n",
    "<figure><img src=\"../images/pendulumFBD.png\\\" width=300 />"
   ]
  },
  {
   "cell_type": "markdown",
   "metadata": {
    "slideshow": {
     "slide_type": "slide"
    }
   },
   "source": [
    "#### Sum of the forces and moments\n",
    "\n",
    "To find the equation of motion of the bar we can use the second Newton-Euler law. So, we must find the sum of the moments and the resultant force being applied to the bar. The sum of moments could be computed relative to any point, but if we choose the fixed point O, it is easier because we can ignore the force <span class=\"notranslate\">$\\vec{\\bf{F_1}}$</span>.\n",
    "\n",
    "The moment around the fixed point is:\n",
    "\n",
    "<span class=\"notranslate\">\n",
    "\\begin{equation}\n",
    "    \\vec{M_O} = \\vec{r_{cm/O}} \\times (-mg\\hat{\\bf{j}})\n",
    "\\end{equation}\n",
    "</span>\n",
    "\n",
    "The resultant force applied in the bar is:\n",
    "\n",
    "<span class=\"notranslate\">\n",
    "\\begin{equation}\n",
    "        \\vec{F} = -mg\\hat{\\bf{j}} + \\vec{F_1}\n",
    "\\end{equation}\n",
    "</span>"
   ]
  },
  {
   "cell_type": "markdown",
   "metadata": {
    "slideshow": {
     "slide_type": "slide"
    }
   },
   "source": [
    "#### Second Newton-Euler law\n",
    "\n",
    "The second Newton-Euler law is:\n",
    "\n",
    "<span class=\"notranslate\">\n",
    "$$\\vec{M_O} = \\frac{d\\vec{H_O}}{dt} $$\n",
    "</span>\n",
    "    \n",
    "The angular momentum derivative of the bar around point O is:\n",
    "\n",
    "<span class=\"notranslate\">\n",
    "$$\n",
    "    \\frac{d\\vec{\\bf{H_O}}}{dt} = I_{zz}^{cm} \\frac{d^2\\theta}{dt^2} \\hat{\\bf{k}}  + m \\vec{r_{cm/O}} \\times \\vec{a_{cm}}\n",
    "$$\n",
    "</span>"
   ]
  },
  {
   "cell_type": "markdown",
   "metadata": {
    "slideshow": {
     "slide_type": "slide"
    }
   },
   "source": [
    "#### Kinematics\n",
    "\n",
    "The vector from point O to the center of mass is:\n",
    "\n",
    "<span class=\"notranslate\">\n",
    "$$\n",
    "    \\vec{r_{cm/O}} = \\frac{l}{2}\\sin{\\theta}\\hat{\\bf{i}}-\\frac{l}{2}\\cos{\\theta}\\hat{\\bf{j}}\n",
    "$$\n",
    "</span>\n",
    "\n",
    "The position of the center of mass is, considering the point O as the origin, equal to <span class=\"notranslate\">$\\vec{\\bf{r_{cm/O}}}$</span>. So, the center of mass acceleration is obtained by deriving it twice. \n",
    "\n",
    "<span class=\"notranslate\">\n",
    "$$\n",
    "    \\vec{v_{cm}} = \\frac{\\vec{r_{cm/O}}}{dt} = \\frac{l}{2}(\\cos{\\theta}\\hat{\\bf{i}}+\\sin{\\theta}\\hat{\\bf{j}})\\frac{d\\theta}{dt}\n",
    "$$ \n",
    "    \n",
    "\n",
    "$$\n",
    "\\vec{a_{cm}} = \\frac{l}{2}(-\\sin{\\theta}\\hat{\\bf{i}}+\\cos{\\theta}\\hat{\\bf{j}})\\left(\\frac{d\\theta}{dt}\\right)^2 + \\frac{l}{2}(\\cos{\\theta}\\hat{\\bf{i}}+\\sin{\\theta}\\hat{\\bf{j}})\\frac{d^2\\theta}{dt^2}   \n",
    "$$\n",
    "</span>"
   ]
  },
  {
   "cell_type": "markdown",
   "metadata": {
    "slideshow": {
     "slide_type": "slide"
    }
   },
   "source": [
    "#### Sum of the moments\n",
    "\n",
    "So, the moment around the point O:\n",
    "\n",
    "\\begin{equation}\n",
    "    \\vec{M_O} = \\vec{r_{cm/O}} \\times (-mg\\hat{\\bf{j}}) = \\left(\\frac{l}{2}\\sin{\\theta}\\hat{\\bf{i}}-\\frac{l}{2}\\cos{\\theta}\\hat{\\bf{j}}\\right) \\times (-mg\\hat{\\bf{j}}) = \\frac{-mgl}{2}\\sin{\\theta}\\hat{\\bf{k}}\n",
    "\\end{equation}"
   ]
  },
  {
   "cell_type": "markdown",
   "metadata": {
    "slideshow": {
     "slide_type": "slide"
    }
   },
   "source": [
    "#### Derivative of the angular momentum\n",
    "\n",
    "And the derivative of the angular momentum is:\n",
    "\n",
    "<span class=\"notranslate\">\n",
    "\\begin{equation}\n",
    "    \\frac{d\\vec{H_O}}{dt} = I_{zz}^{cm} \\frac{d^2\\theta}{dt^2}\\hat{\\bf{k}}  + m \\frac{l}{2}(\\sin{\\theta}\\hat{\\bf{i}}-\\cos{\\theta}\\hat{\\bf{j}}) \\times \\left[ \\frac{l}{2}(-\\sin{\\theta}\\hat{\\bf{i}}+\\cos{\\theta}\\hat{\\bf{j}})\\left(\\frac{d\\theta}{dt}\\right)^2 + \\frac{l}{2}(\\cos{\\theta}\\hat{\\bf{i}}+\\sin{\\theta}\\hat{\\bf{j}})\\frac{d^2\\theta}{dt^2}    \\right] = I_{zz}^{cm} \\frac{d^2\\theta}{dt^2}\\hat{\\bf{k}}  + m \\frac{l^2}{4}\\frac{d^2\\theta}{dt^2} \\hat{\\bf{k}}  =\\left(I_{zz}^{cm} + \\frac{ml^2}{4}\\right)\\frac{d^2\\theta}{dt^2} \\hat{\\bf{k}}\n",
    "\\end{equation}\n",
    "</span>"
   ]
  },
  {
   "cell_type": "markdown",
   "metadata": {
    "slideshow": {
     "slide_type": "slide"
    }
   },
   "source": [
    "#### The equation of motion\n",
    "\n",
    "Now, by using the Newton-Euler laws, we can obtain the differential equation that describes the bar angle along time:\n",
    "\n",
    "<span class=\"notranslate\">\n",
    "\\begin{equation}\n",
    "    \\frac{d\\vec{H_O}}{dt} = \\vec{M_O} \\rightarrow \\frac{-mgl}{2}\\sin{\\theta} = \\left(I_{zz}^{cm} + \\frac{ml^2}{4}\\right)\\frac{d^2\\theta}{dt^2} \\rightarrow \\frac{d^2\\theta}{dt^2} = \\frac{-2mgl}{\\left(4I_{zz}^{cm} + ml^2\\right)}\\sin{\\theta}\n",
    "\\end{equation}\n",
    "</span>\n",
    "\n",
    "The moment of inertia of the bar relative to its center of mass is <span class=\"notranslate\">$I_{zz}^{cm} = \\frac{ml^2}{12}$</span> (for a revision on moment of inertia see [this notebook](CenterOfMassAndMomentOfInertia.ipynb)).  So, the equation of motion of the pendulum is:\n",
    "\n",
    "<span class=\"notranslate\">\n",
    "\\begin{equation}\n",
    "    \\frac{d^2\\theta}{dt^2} = \\frac{-3g}{2l}\\sin{\\theta}\n",
    "\\end{equation}\n",
    "</span>"
   ]
  },
  {
   "cell_type": "markdown",
   "metadata": {
    "slideshow": {
     "slide_type": "slide"
    }
   },
   "source": [
    "### Inverted Pendulum\n",
    "\n",
    "At this example we analyze the inverted pendulum. It consists of a bar with its lowest extremity linked to a hinge.\n",
    "\n",
    "<figure><img src=\"../images/invertedPendulum.png\\\" width=350 />\n",
    "    "
   ]
  },
  {
   "cell_type": "markdown",
   "metadata": {
    "slideshow": {
     "slide_type": "slide"
    }
   },
   "source": [
    "#### Free-body diagram\n",
    "\n",
    "The free-body diagram of the bar is depicted below. At the point where the bar is linked to the hinge, a force <span class=\"notranslate\">$\\vec{F_1}$</span> acts at the bar due to the restraint of the translation imposed to the point O by the hinge. Additionally, the gravitational force acts at the center of mass of the bar.\n",
    "   \n",
    "<figure><img src=\"../images/invertedPendulumFBD.png\\\" width=300 />"
   ]
  },
  {
   "cell_type": "markdown",
   "metadata": {
    "slideshow": {
     "slide_type": "slide"
    }
   },
   "source": [
    "#### Sum of the forces and moments\n",
    "\n",
    "Similarly to pendulum, in this case we can find the equation of motion of the bar by using the second Newton-Euler law. To do that we must find the sum of the moments and the resultant force being applied to the bar. The sum of moments could be computed relative to any point, but if we choose the fixed point O, it is easier because we can ignore the force <span class=\"notranslate\">$\\vec{F_1}$</span>.\n",
    "\n",
    "The moment around the fixed point is:\n",
    "\n",
    "<span class=\"notranslate\">\n",
    "\\begin{equation}\n",
    "    \\vec{M_O} = \\vec{r_{cm/O}} \\times (-mg\\hat{\\bf{j}})\n",
    "\\end{equation}\n",
    "</span>\n",
    "\n",
    "The resultant force applied in the bar is:\n",
    "\n",
    "<span class=\"notranslate\">\n",
    "\\begin{equation}\n",
    "        \\vec{F} = -mg\\hat{\\bf{j}} + \\vec{F_1}\n",
    "\\end{equation}\n",
    "</span>"
   ]
  },
  {
   "cell_type": "markdown",
   "metadata": {
    "slideshow": {
     "slide_type": "slide"
    }
   },
   "source": [
    "#### Second Newton-Euler law\n",
    "\n",
    "The second Newton-Euler law is:\n",
    "\n",
    "<span class=\"notranslate\">\n",
    "$$\\vec{M_O} = \\frac{d\\vec{H_O}}{dt} $$\n",
    "</span>\n",
    "\n",
    "The angular momentum derivative of the bar around point O is:\n",
    "\n",
    "<span class=\"notranslate\">\n",
    "\\begin{equation}\n",
    "    \\frac{d\\vec{H_O}}{dt} = I_{zz}^{cm} \\frac{d^2\\theta}{dt^2} \\hat{\\bf{k}}  + m \\vec{r_{cm/O}} \\times \\vec{a_{cm}}\n",
    "\\end{equation}\n",
    "</span>"
   ]
  },
  {
   "cell_type": "markdown",
   "metadata": {
    "slideshow": {
     "slide_type": "slide"
    }
   },
   "source": [
    "#### Kinematics\n",
    "\n",
    "The equations above are exactly the same of the pendulum example. The difference is in the kinematics of the bar. Now,the vector from point O to the center of mass is:\n",
    "\n",
    "<span class=\"notranslate\">\n",
    "$$\n",
    "    \\vec{r_{cm/O}} = -\\frac{l}{2}\\sin{\\theta}\\hat{\\bf{i}}+\\frac{l}{2}\\cos{\\theta}\\hat{\\bf{j}}\n",
    "$$\n",
    "</span>\n",
    "\n",
    "\n",
    "The position of the center of mass of the bar is equal to the vector <span class=\"notranslate\">$\\vec{\\bf{r_{cm/O}}}$</span>, since the point O is with velocity zero relative to the global reference frame. So the center of mass acceleration can be obtained by deriving this vector twice:\n",
    "\n",
    "<span class=\"notranslate\">\n",
    "$$\n",
    "    \\vec{v_{cm}} = \\frac{\\vec{r_{cm/O}}}{dt} = -\\frac{l}{2}(\\cos{\\theta}\\hat{\\bf{i}}+\\sin{\\theta}\\hat{\\bf{j}})\\frac{d\\theta}{dt} \n",
    "$$\n",
    "    \n",
    "$$\n",
    "\\vec{a_{cm}} = \\frac{l}{2}(\\sin{\\theta}\\hat{\\bf{i}}-\\cos{\\theta}\\hat{\\bf{j}})\\left(\\frac{d\\theta}{dt}\\right)^2 - \\frac{l}{2}(\\cos{\\theta}\\hat{\\bf{i}}+\\sin{\\theta}\\hat{\\bf{j}})\\frac{d^2\\theta}{dt^2}   \n",
    "$$\n",
    "</span>"
   ]
  },
  {
   "cell_type": "markdown",
   "metadata": {
    "slideshow": {
     "slide_type": "slide"
    }
   },
   "source": [
    "#### Sum of the moments\n",
    "\n",
    "\n",
    "So, the moment around the point O is:\n",
    "\n",
    "<span class=\"notranslate\">\n",
    "$$\n",
    "\\vec{M_O} = \\vec{r_{cm/O}} \\times (-mg\\hat{\\bf{j}}) = \\left(-\\frac{l}{2}\\sin{\\theta}\\hat{\\bf{i}}+\\frac{l}{2}\\cos{\\theta}\\hat{\\bf{j}}\\right) \\times (-mg\\hat{\\bf{j}}) = \\frac{mgl}{2}\\sin{\\theta} \\hat{\\bf{k}}\n",
    "$$\n",
    "</span>\n",
    "    "
   ]
  },
  {
   "cell_type": "markdown",
   "metadata": {
    "slideshow": {
     "slide_type": "slide"
    }
   },
   "source": [
    "\n",
    "#### Derivative of the angular momentum\n",
    "\n",
    "\n",
    "And the derivative of the angular momentum is:\n",
    "\n",
    "<span class=\"notranslate\">\n",
    "$$\n",
    "    \\frac{d\\vec{H_O}}{dt} = I_{zz}^{cm} \\frac{d^2\\theta}{dt^2} \\hat{\\bf{k}}  + m \\left(-\\frac{l}{2}\\sin{\\theta}\\hat{\\bf{i}}+\\frac{l}{2}\\cos{\\theta}\\hat{\\bf{j}}\\right) \\times \\left[\\frac{l}{2}(\\sin{\\theta}\\hat{\\bf{i}}-\\cos{\\theta}\\hat{\\bf{j}})\\left(\\frac{d\\theta}{dt}\\right)^2 - \\frac{l}{2}(\\cos{\\theta}\\hat{\\bf{i}}+\\sin{\\theta}\\hat{\\bf{j}})\\frac{d^2\\theta}{dt^2}\\right] = I_{zz}^{cm} \\frac{d^2\\theta}{dt^2} \\hat{\\bf{k}}  + m \\frac{l^2}{4}\\frac{d^2\\theta}{dt^2}\\hat{\\bf{k}} = \\left(I_{zz}^{cm} +  \\frac{ml^2}{4}\\right)\\frac{d^2\\theta}{dt^2}\\hat{\\bf{k}}\n",
    "$$\n",
    "</span>"
   ]
  },
  {
   "cell_type": "markdown",
   "metadata": {
    "slideshow": {
     "slide_type": "slide"
    }
   },
   "source": [
    "#### The equation of motion\n",
    "\n",
    "\n",
    "By using the Newton-Euler laws, we can find the equation of motion of the bar:\n",
    "\n",
    "<span class=\"notranslate\">\n",
    "\\begin{equation}\n",
    "    \\frac{d\\vec{H_O}}{dt} = \\vec{M_O} \\rightarrow \\left(I_{zz}^{cm} +  \\frac{ml^2}{4}\\right)\\frac{d^2\\theta}{dt^2} = \\frac{mgl}{2}\\sin{\\theta} \\rightarrow \\frac{d^2\\theta}{dt^2} = \\frac{2mgl}{\\left(4I_{zz}^{cm} + ml^2\\right)}\\sin(\\theta)\n",
    "\\end{equation}\n",
    "</span>\n",
    "\n",
    "The moment of inertia of the bar is <span class=\"notranslate\">$I_{zz}^{cm} = \\frac{ml^2}{12}$</span>. So, the equation of motion of the bar is:\n",
    "\n",
    "<span class=\"notranslate\">\n",
    "\\begin{equation}\n",
    "    \\frac{d^2\\theta}{dt^2} = \\frac{3g}{2l}\\sin(\\theta)\n",
    "\\end{equation}\n",
    "</span>"
   ]
  },
  {
   "cell_type": "markdown",
   "metadata": {
    "slideshow": {
     "slide_type": "slide"
    }
   },
   "source": [
    "### Human quiet standing \n",
    "\n",
    "A very simple model of the human quiet standing (and still today frequently used) is to use an inverted pendulum to model the human body. On [this notebook](http://nbviewer.jupyter.org/github/demotu/BMC/blob/master/notebooks/IP_Model.ipynb) there is a more comprehensive explanation of human standing.\n",
    "\n",
    "<figure><img src=\"../images/quietStanding.png\\\" width=350 /></figure> \n",
    "\n",
    "Adapted from [Elias, Watanabe and Kohn (2014)](https://journals.plos.org/ploscompbiol/article?id=10.1371/journal.pcbi.1003944)."
   ]
  },
  {
   "cell_type": "markdown",
   "metadata": {
    "slideshow": {
     "slide_type": "slide"
    }
   },
   "source": [
    "#### Free-body diagram\n",
    "\n",
    "Below is depicted the free-body diagram of the foot and the rest of the body. At the ankle joint there is a constraint to the translation of the ankle joint. So, a force $\\vec{\\bf{F_1}}$ is applied to the body at the ankle joint. By the third Newton law, a force  $-\\vec{\\bf{F_1}}$ is applied to the foot at the ankle joint. At the center of mass of the body and of the foot, gravitational forces are applied. Additionally, a ground reaction force is applied to the foot at the center of pressure of the forces applied at the foot.\n",
    "\n",
    "Additionally, a moment <span class=\"notranslate\">$\\vec{T_A}$</span> is applied at the body and its reaction is applied to the foot. This moment <span class=\"notranslate\">$\\vec{T_A}$</span> comes from the muscles around the ankle joint. It is usual in Biomechanics to represent the net torque generated by all the muscles on a single joint as a single moment applied to the body. \n",
    "    \n",
    "<figure><img src=\"../images/quietStandingFBD.png\\\" width=300 /></figure>"
   ]
  },
  {
   "cell_type": "markdown",
   "metadata": {
    "slideshow": {
     "slide_type": "slide"
    }
   },
   "source": [
    "#### Sum of the moments\n",
    "\n",
    "The process to obtain the equation of motion of the body is very similar to the pendulums. The moment around the ankle being applied to the body is:\n",
    "\n",
    "<span class=\"notranslate\">\n",
    "\\begin{equation}\n",
    "    \\vec{M_A} = \\vec{T_A} + \\vec{r_{cm/A}} \\times (-m_Bg\\hat{\\bf{j}})\n",
    "\\end{equation}\n",
    "</span>"
   ]
  },
  {
   "cell_type": "markdown",
   "metadata": {
    "slideshow": {
     "slide_type": "slide"
    }
   },
   "source": [
    "#### Second Newton-Euler law\n",
    "\n",
    "And the derivative of the angular momentum is:\n",
    "\n",
    "<span class=\"notranslate\">\n",
    "$$\n",
    "    \\frac{d\\vec{H_A}}{dt} = I_{zz}^{cm}\\frac{d\\theta_A}{dt} + m\\vec{r_{cm/A}} \\times \\vec{a_{cm}}\n",
    "$$\n",
    "</span>"
   ]
  },
  {
   "cell_type": "markdown",
   "metadata": {
    "slideshow": {
     "slide_type": "slide"
    }
   },
   "source": [
    "#### Kinematics\n",
    "\n",
    "To find the kinematics of the bar, we could do the same procedure we have used in the pendulum and inverted pendulum examples, but this time we will use polar coordinates (for a revision on polar coordinates, see [Polar coordinates notebook](PolarCoordinates.ipynb)). \n",
    "\n",
    "<span class=\"notranslate\">\n",
    "$$\n",
    "    \\vec{r_{cm/A}} = \\vec{r_{cm}} = h_G\\hat{\\bf{e_r}}\n",
    "$$\n",
    "    \n",
    "$$\n",
    "\\vec{v_{cm}} = h_G\\frac{d\\theta_A}{dt}\\hat{\\bf{e_\\theta}}\n",
    "$$\n",
    "    \n",
    "$$\n",
    "\\vec{a_{cm}} = -h_G\\left(\\frac{d\\theta_A}{dt}\\right)^2\\hat{\\bf{e_r}} + h_G\\frac{d^2\\theta_A}{dt^2}\\hat{\\bf{e_\\theta}}\n",
    "$$\n",
    "</span>\n",
    "\n",
    "where <span class=\"notranslate\">$\\hat{\\bf{e_r}} = -\\sin(\\theta_A)\\hat{\\bf{i}} + \\cos(\\theta_A)\\hat{\\bf{j}}$</span> and <span class=\"notranslate\">$\\hat{\\bf{e_\\theta}} = -\\cos(\\theta_A)\\hat{\\bf{i}} - \\sin(\\theta_A)\\hat{\\bf{j}}$</span>"
   ]
  },
  {
   "cell_type": "markdown",
   "metadata": {
    "slideshow": {
     "slide_type": "slide"
    }
   },
   "source": [
    "#### Sum of the moments\n",
    "\n",
    "Having the kinematics computed, we can go back to the moment and derivative of the angular momentum:\n",
    "\n",
    "<span class=\"notranslate\">\n",
    "$$\n",
    "\\vec{M_A} =  \\vec{T_A} + h_G\\hat{\\bf{e_r}} \\times (-m_Bg\\hat{\\bf{j}}) = T_A\\hat{\\bf{k}} + h_Gm_Bg\\sin(\\theta_A)\\hat{\\bf{k}}\n",
    "$$\n",
    "</span>"
   ]
  },
  {
   "cell_type": "markdown",
   "metadata": {
    "slideshow": {
     "slide_type": "slide"
    }
   },
   "source": [
    "### Derivative of the angular momentum\n",
    "\n",
    "\\begin{equation}\n",
    "    \\frac{d\\vec{\\bf{H_A}}}{dt} = I_{zz}^{cm}\\frac{d^2\\theta_A}{dt^2} \\hat{\\bf{k}} + mh_G\\hat{\\bf{e_r}} \\times \\left(-h_G\\left(\\frac{d^2\\theta_A}{dt^2}\\right)^2\\hat{\\bf{e_r}} + h_G\\frac{d^2\\theta_A}{dt^2}\\hat{\\bf{e_\\theta}}\\right) = I_{zz}^{cm}\\frac{d^2\\theta_A}{dt^2}\\hat{\\bf{k}} + mh_G^2\\frac{d^2\\theta_A}{dt^2}\\hat{\\bf{k}} = \\left(I_{zz}^{cm} + mh_G^2\\right)\\frac{d^2\\theta_A}{dt^2}\\hat{\\bf{k}}\n",
    "\\end{equation}"
   ]
  },
  {
   "cell_type": "markdown",
   "metadata": {
    "slideshow": {
     "slide_type": "slide"
    }
   },
   "source": [
    "#### The equation of motion\n",
    "\n",
    "By using the Newton-Euler equations, we can now find the equation of motion of the body during quiet standing:\n",
    "\n",
    "<span class=\"notranslate\">\n",
    "$$\n",
    "    \\vec{M_A}=\\frac{d\\vec{H_A}}{dt} \n",
    "$$\n",
    "    \n",
    "$$\n",
    "\\left(I_{zz}^{cm} + mh_G^2\\right)\\frac{d^2\\theta_A}{dt^2} =  T_A + h_Gm_B g\\sin(\\theta_A) \n",
    "$$\n",
    "    \n",
    "$$\n",
    "\\frac{d^2\\theta_A}{dt^2} = \\frac{h_Gm_B g}{I_{zz}^{cm} + mh_G^2}\\sin(\\theta_A)+ \\frac{T_A}{I_{zz}^{cm} + m_Bh_G^2}\n",
    "$$\n",
    "</span>\n",
    "\n",
    "If we consider the body as a rigid uniform bar, the moment of inertia is <span class=\"notranslate\">$I_{zz}^{cm} = \\frac{m_Bh_G^2}{3}$</span>. So, the equation of motion of the body is:\n",
    "\n",
    "<span class=\"notranslate\">\n",
    "$$\n",
    "    \\frac{d^2\\theta_A}{dt^2} = \\frac{3 g}{4h_g}\\sin(\\theta_A)+ \\frac{3 T_A}{4m_bh_G^2}\n",
    "$$\n",
    "</span>"
   ]
  },
  {
   "cell_type": "markdown",
   "metadata": {
    "slideshow": {
     "slide_type": "slide"
    }
   },
   "source": [
    "### Force platform (position of the center of pressure)\n",
    "\n",
    "\n",
    "From the same example above, now we will find the position of the center of pressure ($COP_x$) during the quiet standing. The $COP_x$ is the point where the ground reaction force is being applied. The point O is linked to the ground in a way that it constraints the translation and rotation movement of the platform and is located at known distance $y_0$ below the ground. Also, it is in the point O that sensors of force and moments are located. \n",
    "\n",
    "\n",
    "<figure><img src=\"../images/forcePlatform2DS.png\\\" width=350 />"
   ]
  },
  {
   "cell_type": "markdown",
   "metadata": {
    "slideshow": {
     "slide_type": "slide"
    }
   },
   "source": [
    "#### Free-body diagram\n",
    "\n",
    "The free-body diagram of the foot and the force platform is depicted below.\n",
    "\n",
    "<figure><img src=\"../images/forcePlatform2D.png\\\" width=350 />"
   ]
  },
  {
   "cell_type": "markdown",
   "metadata": {
    "slideshow": {
     "slide_type": "slide"
    }
   },
   "source": [
    "In the platform , the distance <span class=\"notranslate\">$y_0$</span> is known. As the platform is in equilibrium its derivative of the angular momentum is zero. Now, we must find the sum of the moments. As we can choose any point, we will choose, the point where the force <span class=\"notranslate\">$\\vec{\\bf{F}}$</span> is being applied, and equal it to zero.\n",
    "\n",
    "<span class=\"notranslate\">\n",
    "\\begin{equation}\n",
    "    \\vec{M} + \\vec{r_{COP/O}} \\times (-\\vec{GRF}) = 0\n",
    "\\end{equation}\n",
    "</span>\n",
    "\n",
    "The vector <span class=\"notranslate\">$\\vec{\\bf{r_{COP/O}}}$</span> is:\n",
    "\n",
    "<span class=\"notranslate\">\n",
    "\\begin{equation}\n",
    "\\vec{r_{COP/O}} = COP_x \\hat{\\bf{i}} + y_0 \\hat{\\bf{j}}\n",
    "\\end{equation}\n",
    "</span>\n",
    "\n",
    "So, from the equation of the sum of the moments we can isolate the postion of the center of pressure:\n",
    "\n",
    "<span class=\"notranslate\">\n",
    "\\begin{equation}\n",
    "    M - COP_x GRF_y + y_0 GRF_x = 0 \\rightarrow COP_x = \\frac{M+y_0 GRF_x}{GRF_y}\n",
    "\\end{equation}\n",
    "</span>\n",
    "    \n",
    "Using the expression above, we can track the position of the center of pressure during an experiment."
   ]
  },
  {
   "cell_type": "markdown",
   "metadata": {
    "slideshow": {
     "slide_type": "slide"
    }
   },
   "source": [
    "### Standing dummy (from Ruina and Pratap book)\n",
    "\n",
    "A standing dummy is modeled as having massless rigid circular feet of radius $R$ rigidly attached to their\n",
    "uniform rigid body of length <span class=\"notranslate\">$L$</span> and mass <span class=\"notranslate\">$m$</span>. The feet do not slip on the floor.\n",
    "\n",
    "<figure><img src=\"../images/rocker.png\\\" width=550 />\n",
    "  "
   ]
  },
  {
   "cell_type": "markdown",
   "metadata": {
    "slideshow": {
     "slide_type": "slide"
    }
   },
   "source": [
    "  \n",
    "#### Free-body diagram\n",
    "\n",
    "Below is depicted the fee-body diagram. The point C is the point of contact with the ground. Note that this point changes its position along time, but instantly it has velocity zero.\n",
    "\n",
    "<figure><img src=\"../images/rockerFBD.png\\\" width=550 />\n",
    " "
   ]
  },
  {
   "cell_type": "markdown",
   "metadata": {
    "slideshow": {
     "slide_type": "slide"
    }
   },
   "source": [
    "#### Kinematics\n",
    "\n",
    "Using the versors:\n",
    "\n",
    "<span class=\"notranslate\">\n",
    "$$ \n",
    "\\hat{\\bf{e_r}} = -\\sin(\\theta_A)\\hat{\\bf{i}} + \\cos(\\theta_A)\\hat{\\bf{j}}\n",
    "$$\n",
    "$$\n",
    "\\hat{\\bf{e_\\theta}} = -\\cos(\\theta_A)\\hat{\\bf{i}} - \\sin(\\theta_A)\\hat{\\bf{j}}\n",
    "$$\n",
    "</span>\n",
    "\n",
    "The vector from the point C to the center of mass is:\n",
    "\n",
    "<span class=\"notranslate\">\n",
    "$$\n",
    "\\vec{r_{cm/C}} = R\\hat{\\bf{j}} + \\left(\\frac{L}{2} - R \\right)\\hat{\\bf{e_r}}\n",
    "$$\n",
    "</span>\n",
    "\n",
    "The position of the center of mass, relative to the origin is different from $\\vec{r_{cm/C}}$. We can consider the origin of the system as the point of contact with the ground when the standing dummy is at the vertical position.\n",
    "\n",
    "<span class=\"notranslate\">\n",
    "$$\n",
    "\\vec{r_{cm}} = -R\\theta\\hat{\\bf{i}} + R\\hat{\\bf{j}} + \\left(\\frac{L}{2} - R \\right)\\hat{\\bf{e_r}}\n",
    "$$\n",
    "    \n",
    "\n",
    "$$\n",
    "\\vec{v_{cm}} = -R\\dot{\\theta}\\hat{\\bf{i}} + \\left(\\frac{L}{2} - R \\right)\\dot{\\theta}\\hat{\\bf{e_\\theta}}\n",
    "$$\n",
    "\n",
    "$$\n",
    "\\vec{a_{cm}} = -R\\ddot{\\theta}\\hat{\\bf{i}} + \\left(\\frac{L}{2} - R \\right)\\ddot{\\theta}\\hat{\\bf{e_\\theta}} - \\left(\\frac{L}{2} - R \\right)\\dot{\\theta}^2\\hat{\\bf{e_r}}\n",
    "$$\n",
    "</span>\n",
    "\n"
   ]
  },
  {
   "cell_type": "markdown",
   "metadata": {
    "slideshow": {
     "slide_type": "slide"
    }
   },
   "source": [
    "#### Sum of the moments\n",
    "\n",
    "\n",
    "So, the moment around the point C is:\n",
    "\n",
    "<span class=\"notranslate\">\n",
    "$$\n",
    "\\vec{M_C} = \\vec{r_{cm/C}} \\times (-mg\\hat{\\bf{j}}) = \\left[R\\hat{\\bf{j}} + \\left(\\frac{L}{2} - R \\right)\\hat{\\bf{e_r}} \\right] \\times (-mg\\hat{\\bf{j}})\n",
    "$$\n",
    "\n",
    "$$\n",
    "\\vec{M_C} = mg\\left(\\frac{L}{2} - R \\right)\\sin{\\theta}\n",
    "$$\n",
    "</span>"
   ]
  },
  {
   "cell_type": "markdown",
   "metadata": {
    "slideshow": {
     "slide_type": "slide"
    }
   },
   "source": [
    "#### Derivative of the angular momentum\n",
    "\n",
    "<span class=\"notranslate\">\n",
    "$$\n",
    "    \\frac{d\\vec{H_C}}{dt} = I_{zz}^{cm}\\ddot{\\theta} \\hat{\\bf{k}} + m\\vec{\\bf{r_{cm/C}}} \\times \\vec{\\bf{a_{cm}}} =  \\left[mR\\hat{\\bf{j}} + m\\left(\\frac{L}{2} - R \\right)\\hat{\\bf{e_r}}\\right] \\times \\left[-R\\ddot{\\theta}\\hat{\\bf{i}} + \\left(\\frac{L}{2} - R \\right)\\ddot{\\theta}\\hat{\\bf{e_\\theta}} - \\left(\\frac{L}{2} - R \\right)\\dot{\\theta}^2\\hat{\\bf{e_r}}\\right]\n",
    "$$\n",
    "\n",
    "$$\n",
    "\\frac{d\\vec{H_C}}{dt} = \\left(I_{zz}^{cm}\\ddot{\\theta} + mR^2\\ddot{\\theta} + mR\\left(\\frac{L}{2} - mR \\right)\\ddot{\\theta}\\cos{\\theta} - mR\\left(\\frac{L}{2} - mR \\right)\\dot{\\theta}^2\\sin{\\theta} + mR\\ddot{\\theta}\\left(\\frac{L}{2} - R \\right)\\cos{\\theta}+m\\left(\\frac{L}{2} - R \\right)^2\\ddot{\\theta}\\right)\\hat{\\bf{k}} = \\left(I_{zz}^{cm}\\ddot{\\theta}+mR^2\\ddot{\\theta} + 2mR\\left(\\frac{L}{2} - R \\right)\\ddot{\\theta}\\cos{\\theta} - mR\\left(\\frac{L}{2} - R \\right)\\dot{\\theta}^2\\sin{\\theta} + m\\left(\\frac{L}{2} - R \\right)^2\\ddot{\\theta}\\right)\\hat{\\bf{k}} = \\left(I_{zz}^{cm}\\ddot{\\theta} + mR^2\\ddot{\\theta} + m\\left(RL - 2R^2 \\right)\\ddot{\\theta}\\cos{\\theta} - m\\left(\\frac{RL}{2} - R^2 \\right)\\dot{\\theta}^2\\sin{\\theta} + m\\left(\\frac{L^2}{4} - LR + R^2 \\right)\\ddot{\\theta}\\right)\\hat{\\bf{k}}\n",
    "$$\n",
    "\n",
    "$$\n",
    "\\frac{d\\vec{H_C}}{dt} = \\left(I_{zz}^{cm}+2mR^2 + mRL\\cos{\\theta} - 2mR^2\\cos{\\theta} + m\\frac{L^2}{4}-mLR\\right)\\ddot{\\theta} - m\\left(\\frac{RL}{2} - R^2 \\right)\\dot{\\theta}^2\\sin{\\theta}\n",
    "$$\n",
    "</span>\n",
    "\n",
    "Considering the moment of inertia of the bar as <span class=\"notranslate\">$I_{zz}^{cm} = \\frac{mL^2}{12}$</span>:\n",
    "\n",
    "<span class=\"notranslate\">\n",
    "$$\n",
    "\\frac{d\\vec{H_C}}{dt} = \\left(\\frac{mL^2}{12}+2mR^2 + mRL\\cos{\\theta} - 2mR^2\\cos{\\theta} + \\frac{mL^2}{4}-mLR\\right)\\ddot{\\theta} - m\\left(\\frac{RL}{2} - R^2 \\right)\\dot{\\theta}^2\\sin{\\theta}\n",
    "$$\n",
    "\n",
    "$$\n",
    "\\frac{d\\vec{H_C}}{dt} = \\left(\\frac{mL^2}{3}+(2mR^2- mRL)(1-\\cos{\\theta})\\right)\\ddot{\\theta} - m\\left(\\frac{RL}{2} - R^2 \\right)\\dot{\\theta}^2\\sin{\\theta}\n",
    "$$\n",
    "</span>"
   ]
  },
  {
   "cell_type": "markdown",
   "metadata": {
    "slideshow": {
     "slide_type": "slide"
    }
   },
   "source": [
    "#### The equation of motion\n",
    "\n",
    "By the second Newton-Euler law:\n",
    "\n",
    "<span class=\"notranslate\">\n",
    "$$\n",
    "\\left(2mL^2+(12mR^2- 6mRL)(1-\\cos{\\theta})\\right)\\ddot{\\theta} - m\\left(3RL - 6R^2 \\right)\\dot{\\theta}^2\\sin{\\theta} = mg\\left(3L - 6R \\right)\\sin{\\theta}\n",
    "$$\n",
    "\n",
    "$$\n",
    "\\left(2L^2+(12R^2- 6RL)(1-\\cos{\\theta})\\right)\\ddot{\\theta} = g\\left(3L - 6R \\right)\\sin{\\theta} + \\left(3RL - 6R^2 \\right)\\dot{\\theta}^2\\sin{\\theta}\n",
    "$$\n",
    "    \n",
    "$$\n",
    "\\ddot{\\theta} = \\frac{3\\left(L - 2R \\right)\\sin{\\theta}\\left(g + R\\dot{\\theta}^2\\right)}{2L^2+(12R^2- 6RL)(1-\\cos{\\theta})}\n",
    "$$\n",
    "</span>\n"
   ]
  },
  {
   "cell_type": "markdown",
   "metadata": {
    "slideshow": {
     "slide_type": "slide"
    }
   },
   "source": [
    "### Double pendulum with actuators\n",
    "\n",
    "The figure below shows a  double pendulum. This model can represent, for example, the arm and forearm of a subject.\n",
    "\n",
    "<figure><img src=\"../images/doublePendulum.png\\\" width=350 />\n",
    "    "
   ]
  },
  {
   "cell_type": "markdown",
   "metadata": {
    "slideshow": {
     "slide_type": "slide"
    }
   },
   "source": [
    "#### Free-body diagram\n",
    "\n",
    "The free-body diagrams of both bars are depicted below. There are constraint  forces at all joints and moments from the muscles from both joints. \n",
    "    \n",
    "<figure><img src=\"../images/doublePendulumFBD.png\\\" width=800 />"
   ]
  },
  {
   "cell_type": "markdown",
   "metadata": {
    "slideshow": {
     "slide_type": "slide"
    }
   },
   "source": [
    "#### Definition of versors\n",
    "\n",
    "The versors <span class=\"notranslate\">$\\hat{\\bf{e_{R_1}}}$, $\\hat{\\bf{e_{R_2}}}$, $\\hat{\\bf{e_{\\theta_1}}}$</span> and <span class=\"notranslate\">$\\hat{\\bf{e_{\\theta_2}}}$</span> are defined as:\n",
    "\n",
    "<span class=\"notranslate\">\n",
    "\\begin{equation}\n",
    "    \\hat{\\bf{e_{R_1}}} = \\sin(\\theta_1) \\hat{\\bf{i}} - \\cos(\\theta_1) \\hat{\\bf{j}} \n",
    "\\end{equation}\n",
    "\n",
    "\\begin{equation}\n",
    "    \\hat{\\bf{e_{\\theta_1}}} = \\cos(\\theta_1) \\hat{\\bf{i}} + \\sin(\\theta_1) \\hat{\\bf{j}} \n",
    "\\end{equation}\n",
    "\n",
    "\\begin{equation}\n",
    "    \\hat{\\bf{e_{R_2}}} = \\sin(\\theta_2) \\hat{\\bf{i}} - \\cos(\\theta_2) \\hat{\\bf{j}} \n",
    "\\end{equation}\n",
    "\n",
    "\\begin{equation}\n",
    "    \\hat{\\bf{e_{\\theta_2}}} = \\cos(\\theta_2) \\hat{\\bf{i}} + \\sin(\\theta_2) \\hat{\\bf{j}} \n",
    "\\end{equation}\n",
    "</span>"
   ]
  },
  {
   "cell_type": "markdown",
   "metadata": {},
   "source": [
    "#### Kinematics\n",
    "\n",
    "<span class=\"notranslate\">\n",
    "$$\\vec{r_{C1/O1}} = \\frac{l_1}{2}  \\hat{\\bf{e_{R_1}}}$$\n",
    "\n",
    "$$\\vec{r_{O2/O1}} = l_1\\hat{\\bf{e_{R_1}}}$$\n",
    "\n",
    "$$\\vec{r_{C1}} = \\vec{r_{C1/O1}} = \\frac{l_1}{2}  \\hat{\\bf{e_{R_1}}} $$\n",
    "\n",
    "$$\\vec{v_{C1}} = \\frac{l_1}{2}\\frac{d\\theta_1}{dt}\\hat{\\bf{e_{\\theta_1}}} $$\n",
    "\n",
    "$$\\vec{a_{C1}} = -\\frac{l_1}{2}\\left(\\frac{d\\theta_1}{dt}\\right)^2 \\hat{\\bf{e_{R_1}}} + \\frac{l_1}{2}\\frac{d^2\\theta_1}{dt^2} \\hat{\\bf{e_{\\theta_1}}}$$\n",
    "\n",
    "$$\n",
    "\\vec{r_{C2/O2}} = \\frac{l_2}{2}\\hat{\\bf{e_{R_2}}} \n",
    "$$\n",
    "\n",
    "$$\n",
    "\\vec{r_{C2}} = \\vec{r_{O2/O1}} + \\vec{r_{C2/O2}} =  l_1\\hat{\\bf{e_{R_1}}} + \\frac{l_2}{2}\\hat{\\bf{e_{R_2}}} \n",
    "$$\n",
    "\n",
    "$$\n",
    "\\vec{v_{C2}} = l_1\\frac{d\\theta_1}{dt}\\hat{\\bf{e_{\\theta_1}}} + \\frac{l_2}{2}\\frac{d\\theta_1}{dt}\\hat{\\bf{e_{\\theta_2}}} \n",
    "$$\n",
    "\n",
    "$$\n",
    "\\vec{a_{C2}} = -l_1\\left(\\frac{d\\theta_1}{dt}\\right)^2 \\hat{\\bf{e_{R_1}}} + l_1\\frac{d^2\\theta_1}{dt^2} \\hat{\\bf{e_{\\theta_1}}} -\\frac{l_2}{2}\\left(\\frac{d\\theta_2}{dt}\\right)^2 \\hat{\\bf{e_{R_2}}} + \\frac{l_2}{2}\\frac{d^2\\theta_2}{dt^2} \\hat{\\bf{e_{\\theta_2}}}\n",
    "$$\n",
    "</span>\n"
   ]
  },
  {
   "cell_type": "markdown",
   "metadata": {
    "slideshow": {
     "slide_type": "slide"
    }
   },
   "source": [
    "#### Sum of the moments of the lower bar around O2\n",
    "\n",
    "First, we can analyze the the sum of the moments and the derivative of the angular momentum at the lower bar relative to the point O2.\n",
    "\n",
    "<span class=\"notranslate\">\n",
    "\\begin{equation}\n",
    "    \\vec{M_{O2}} = \\vec{r_{C2/O2}} \\times (-m_2g\\hat{\\bf{j}}) + \\vec{M_{12}} =  \\frac{l_2}{2}   \\hat{\\bf{e_{R_2}}} \\times (-m_2g\\hat{\\bf{j}}) + \\vec{M_{12}} = -\\frac{m_2gl_2}{2}\\sin(\\theta_2)\\hat{\\bf{k}} + \\vec{M_{12}}\n",
    "\\end{equation}\n",
    "</span>"
   ]
  },
  {
   "cell_type": "markdown",
   "metadata": {
    "slideshow": {
     "slide_type": "slide"
    }
   },
   "source": [
    "#### Derivative of angular momentum of the lower bar around O2\n",
    "\n",
    "<span class=\"notranslate\">\n",
    "\\begin{equation}\n",
    "    \\frac{d\\vec{H_{O2}}}{dt} = I_{zz}^{C2} \\frac{d^2\\theta_2}{dt^2} + m_2 \\vec{r_{C2/O2}} \\times \\vec{a_{C2}} = I_{zz}^{C2} \\frac{d^2\\theta_2}{dt^2} + m_2 \\frac{l_2}{2}  \\hat{\\bf{e_{R_2}}} \\times \\left[-l_1\\left(\\frac{d\\theta_1}{dt}\\right)^2 \\hat{\\bf{e_{R_1}}} + l_1\\frac{d^2\\theta_1}{dt^2} \\hat{\\bf{e_{\\theta_1}}} -\\frac{l_2}{2}\\left(\\frac{d\\theta_2}{dt}\\right)^2 \\hat{\\bf{e_{R_2}}} + \\frac{l_2}{2}\\frac{d^2\\theta_2}{dt^2} \\hat{\\bf{e_{\\theta_2}}}\\right] \n",
    "\\end{equation}\n",
    "</span>\n",
    "\n",
    "To complete the computation of the derivative of the angular momentum we must find the products <span class=\"notranslate\">\n",
    "$\\hat{\\bf{e_{R_2}}} \\times \\hat{\\bf{e_{R_1}}} $,  $\\hat{\\bf{e_{R_2}}} \\times \\hat{\\bf{e_{\\theta_1}}}$</span> and <span class=\"notranslate\">\n",
    "$\\hat{\\bf{e_{R_1}}} \\times \\hat{\\bf{e_{\\theta_2}}}$</span>:\n",
    "\n",
    "<span class=\"notranslate\">\n",
    "\\begin{equation}\n",
    "    \\hat{\\bf{e_{R_2}}} \\times \\hat{\\bf{e_{\\theta_1}}} = \\left[\\begin{array}{c}\\sin(\\theta_2)\\\\-\\cos(\\theta_2)\\end{array}\\right] \\times \\left[\\begin{array}{c}\\cos(\\theta_1)\\\\\\sin(\\theta_1)\\end{array}\\right] = \\sin(\\theta_1)\\sin(\\theta_2)+\\cos(\\theta_1)\\cos(\\theta_2) = \\cos(\\theta_1-\\theta_2)\n",
    "\\end{equation}\n",
    "\n",
    "\\begin{equation}\n",
    "    \\hat{\\bf{e_{R_2}}} \\times \\hat{\\bf{e_{R_1}}} = \\left[\\begin{array}{c}\\sin(\\theta_2)\\\\-\\cos(\\theta_2)\\end{array}\\right] \\times \\left[\\begin{array}{c}\\sin(\\theta_1)\\\\-\\cos(\\theta_1)\\end{array}\\right] = -\\sin(\\theta_2)\\cos(\\theta_1)+\\cos(\\theta_2)\\sin(\\theta_1) = \\sin(\\theta_1-\\theta_2)\n",
    "\\end{equation}\n",
    "\n",
    "\\begin{equation}\n",
    "    \\hat{\\bf{e_{R_1}}} \\times \\hat{\\bf{e_{\\theta_2}}} =\\left[\\begin{array}{c}\\sin(\\theta_1)\\\\-\\cos(\\theta_1)\\end{array}\\right] \\times \\left[\\begin{array}{c}\\cos(\\theta_2)\\\\\\sin(\\theta_2)\\end{array}\\right] = \\sin(\\theta_2)\\sin(\\theta_1)+\\cos(\\theta_2)\\cos(\\theta_1) = \\cos(\\theta_1-\\theta_2)\n",
    "\\end{equation}\n",
    "</span>\n",
    "    \n",
    "So, the derivative of the angular momentum is:\n",
    "\n",
    "<span class=\"notranslate\">\n",
    "\\begin{align}\n",
    "\\begin{split}\n",
    "    \\frac{d\\vec{H_{O2}}}{dt} &=  I_{zz}^{C2} \\frac{d^2\\theta_2}{dt^2} - \\frac{m_2l_1l_2}{2}\\left(\\frac{d\\theta_1}{dt}\\right)^2 \\sin(\\theta_1-\\theta_2) + \\frac{m_2l_1l_2}{2}\\frac{d^2\\theta_1}{dt^2} \\cos(\\theta_1-\\theta_2) + \\frac{m_2l_2^2}{4}\\frac{d^2\\theta_2}{dt^2} \\\\\n",
    "    &=  \\frac{m_2l_1l_2}{2}\\cos(\\theta_1-\\theta_2)\\frac{d^2\\theta_1}{dt^2} + \\left(I_{zz}^{C2} + \\frac{m_2l_2^2}{4} \\right)\\frac{d^2\\theta_2}{dt^2}- \\frac{m_2l_1l_2}{2}\\left(\\frac{d\\theta_1}{dt}\\right)^2 \\sin(\\theta_1-\\theta_2) \n",
    "    \\end{split}\n",
    "\\end{align}\n",
    "</span>"
   ]
  },
  {
   "cell_type": "markdown",
   "metadata": {
    "slideshow": {
     "slide_type": "slide"
    }
   },
   "source": [
    "### Sum of moments of the upper bar around O1\n",
    "\n",
    "Now we can analyze the sum of the moments and the derivative of the angular momentum at the upper bar. They will be computed relative to the point O1. \n",
    "\n",
    "<span class=\"notranslate\">\n",
    "$$\n",
    "    \\vec{\\M_{O1}} = \\vec{\\r_{C1/O1}} \\times (-m_1g\\hat{\\bf{j}}) + \\vec{r_{O2/O1}} \\times (-\\vec{F_{12}}) + \\vec{M_{1}} - \\vec{M_{12}} = \\frac{l_1}{2}  \\hat{\\bf{e_{R_1}}}  \\times (-m_1g\\hat{\\bf{j}}) + l_1\\hat{\\bf{e_{R_1}}} \\times (-\\vec{F_{12}}) + \\vec{M_{1}} - \\vec{M_{12}}\n",
    "$$\n",
    "$$\n",
    "\\vec{M_{O1}}= \\frac{-m_1gl_1}{2}\\sin(\\theta_1)\\hat{\\bf{k}} + l_1\\hat{\\bf{e_{R_1}}} \\times (-\\vec{F_{12}}) + \\vec{M_{1}} - \\vec{M_{12}}\n",
    "$$\n",
    "</span>\n",
    "\n",
    "It remains to find the force <span class=\"notranslate\">\n",
    "$\\vec{F_{12}}$</span> that is in the sum of moment of the upper bar. It can be found by finding the resultant force in the lower bar and use the First Newton-Euler law:\n",
    "\n",
    "<span class=\"notranslate\">\n",
    "$$\n",
    "    \\vec{F_{12}} - m_2g \\hat{\\bf{j}} = m\\vec{a_{C2}}\n",
    "$$\n",
    "$$\\vec{F_{12}}  =  m_2g \\hat{\\bf{j}}  + m_2\\left[-l_1\\left(\\frac{d\\theta_1}{dt}\\right)^2 \\hat{\\bf{e_{R_1}}} + l_1\\frac{d^2\\theta_1}{dt^2} \\hat{\\bf{e_{\\theta_1}}} -\\frac{l_2}{2}\\left(\\frac{d\\theta_2}{dt}\\right)^2 \\hat{\\bf{e_{R_2}}} + \\frac{l_2}{2}\\frac{d^2\\theta_2}{dt^2} \\hat{\\bf{e_{\\theta_2}}}\\right] \n",
    "$$\n",
    "</span>\n",
    "\n",
    "Now, we can go back to the moment <span class=\"notranslate\">\n",
    "$\\vec{M_{O1}}$</span>:\n",
    "\n",
    "<span class=\"notranslate\">\n",
    "\\begin{align}\n",
    "    \\begin{split}\n",
    "    \\vec{M_{O1}} &= \\frac{-m_1gl_1}{2}\\sin(\\theta_1)\\hat{\\bf{k}} + l_1\\hat{\\bf{e_{R_1}}} \\times (-\\vec{\\bf{F_{12}}}) + \\vec{M_{1}} - \\vec{M_{12}} \\\\\n",
    "    &= -\\frac{m_1gl_1}{2}\\sin(\\theta_1)\\hat{\\bf{k}} - l_1\\hat{\\bf{e_{R_1}}} \\times   m_2\\left[g \\hat{\\bf{j}}-l_1\\left(\\frac{d\\theta_1}{dt}\\right)^2 \\hat{\\bf{e_{R_1}}} + l_1\\frac{d^2\\theta_1}{dt^2} \\hat{\\bf{e_{\\theta_1}}} -\\frac{l_2}{2}\\left(\\frac{d\\theta_2}{dt}\\right)^2 \\hat{\\bf{e_{R_2}}} + \\frac{l_2}{2}\\frac{d^2\\theta_2}{dt^2} \\hat{\\bf{e_{\\theta_2}}}\\right]  + \\vec{M_{1}} - \\vec{M_{12}} \\\\\n",
    "    &= -\\frac{m_1gl_1}{2}\\sin(\\theta_1)\\hat{\\bf{k}} - m_2l_1g \\sin(\\theta_1)\\hat{\\bf{k}}  - m_2l_1^2\\frac{d^2\\theta_1}{dt^2}\\hat{\\bf{k}}  + \\frac{m_2l_1l_2}{2}\\left(\\frac{d\\theta_2}{dt}\\right)^2 \\sin(\\theta_1-\\theta_2)\\hat{\\bf{k}}  - \\frac{m_2l_1l_2}{2}\\frac{d^2\\theta_2}{dt^2} \\cos(\\theta_1-\\theta_2)\\hat{\\bf{k}}  + M_1\\hat{\\bf{k}}  - M_{12}\\hat{\\bf{k}} \n",
    "    \\end{split}\n",
    "\\end{align}\n",
    "</span>"
   ]
  },
  {
   "cell_type": "markdown",
   "metadata": {
    "slideshow": {
     "slide_type": "slide"
    }
   },
   "source": [
    "### Derivative of angular momentum of the upper bar around O1\n",
    "\n",
    "<span class=\"notranslate\">\n",
    "$$\n",
    "\\frac{d\\vec{H_{O1}}}{dt} = I_{zz}^{C1} \\frac{d^2\\theta_1}{dt^2} + m_1 \\vec{r_{C1/O1}} \\times \\vec{a_{C1}} = I_{zz}^{C1} \\frac{d^2\\theta_1}{dt^2} + m_1 \\frac{l_1}{2}  \\hat{\\bf{e_{R_1}}} \\times \\left[-\\frac{l_1}{2}\\left(\\frac{d\\theta_1}{dt}\\right)^2 \\hat{\\bf{e_{R_1}}} + \\frac{l_1}{2}\\frac{d^2\\theta_1}{dt^2} \\hat{\\bf{e_{\\theta_1}}}\\right]\n",
    "$$\n",
    "$$\n",
    "\\frac{d\\vec{H_{O1}}}{dt} =\\left( I_{zz}^{C1}  + m_1 \\frac{l_1^2}{4}\\right)\\frac{d^2\\theta_1}{dt^2}\n",
    "$$\n",
    "</span>\n",
    "\n"
   ]
  },
  {
   "cell_type": "markdown",
   "metadata": {
    "slideshow": {
     "slide_type": "slide"
    }
   },
   "source": [
    "### The equations of motion\n",
    "\n",
    "Finally, using the second Newton-Euler law for both bars, we can find the equation of motion of both angles:\n",
    "\n",
    "<span class=\"notranslate\">\n",
    "\\begin{equation}\n",
    "    \\frac{d\\vec{H_{O1}}}{dt} = \\vec{M_{O1}} \\rightarrow  \\left( I_{zz}^{C1}  + m_1 \\frac{l_1^2}{4}\\right)\\frac{d^2\\theta_1}{dt^2} =  -\\frac{m_1gl_1}{2}\\sin(\\theta_1)- m_2l_1g \\sin(\\theta_1)  - m_2l_1^2\\frac{d^2\\theta_1}{dt^2}  + \\frac{m_2l_1l_2}{2}\\left(\\frac{d\\theta_2}{dt}\\right)^2 \\sin(\\theta_1-\\theta_2)  - \\frac{m_2l_1l_2}{2}\\frac{d^2\\theta_2}{dt^2} \\cos{(\\theta_1-\\theta_2)}  + M_1 - M_{12} \n",
    "\\end{equation}\n",
    "\n",
    "\\begin{equation}\n",
    "    \\frac{d\\vec{H_{O2}}}{dt} = \\vec{M_{O2}} \\rightarrow \\frac{m_2l_1l_2}{2}\\cos(\\theta_1-\\theta_2)\\frac{d^2\\theta_1}{dt^2} + \\left(I_{zz}^{C2} + \\frac{m_2l_2^2}{4} \\right)\\frac{d^2\\theta_2}{dt^2}- \\frac{m_2l_1l_2}{2}\\left(\\frac{d\\theta_1}{dt}\\right)^2 \\sin(\\theta_1-\\theta_2) = -\\frac{m_2gl_2}{2}\\sin(\\theta_2) + M_{12}\n",
    "\\end{equation}\n",
    "</span>\n",
    "\n",
    "Considering the moment of inertia of the bars as $I_{zz}^{C1}=\\frac{m_1l_1^2}{12}$ and $I_{zz}^{C2}=\\frac{m_2l_2^2}{12}$ the differential equations above are:\n",
    "\n",
    "\\begin{equation}\n",
    "     \\left(\\frac{m_1l_1^2}{3} +m_2l_1^2\\right)\\frac{d^2\\theta_1}{dt^2} + \\frac{m_2l_1l_2}{2} \\cos{(\\theta_1-\\theta_2)\\frac{d^2\\theta_2}{dt^2}}  =  -\\frac{m_1gl_1}{2}\\sin(\\theta_1)- m_2l_1g \\sin(\\theta_1)   + \\frac{m_2l_1l_2}{2}\\left(\\frac{d\\theta_2}{dt}\\right)^2 \\sin(\\theta_1-\\theta_2)  + M_1 - M_{12} \n",
    "\\end{equation}\n",
    "\n",
    "\\begin{equation}\n",
    "    \\frac{m_2l_1l_2}{2}\\cos(\\theta_1-\\theta_2)\\frac{d^2\\theta_1}{dt^2} + \\frac{m_2l_2^2}{3}\\frac{d^2\\theta_2}{dt^2} = -\\frac{m_2gl_2}{2}\\sin(\\theta_2) + \\frac{m_2l_1l_2}{2}\\left(\\frac{d\\theta_1}{dt}\\right)^2 \\sin(\\theta_1-\\theta_2)+ M_{12} \n",
    "\\end{equation}\n",
    "\n",
    "\n",
    "We could isolate the angular accelerations but this would lead to very long equations."
   ]
  },
  {
   "cell_type": "markdown",
   "metadata": {
    "slideshow": {
     "slide_type": "slide"
    }
   },
   "source": [
    "### Problems\n",
    "\n",
    "\n",
    "- Solve the problems 6, 7 and 8 from [this Notebook](FreeBodyDiagram.ipynb).\n",
    "\n",
    "- Solve the problems 16.2.9, 18.3.26, 18.3.29 from Ruina and Pratap book.\n",
    "\n"
   ]
  },
  {
   "cell_type": "markdown",
   "metadata": {
    "slideshow": {
     "slide_type": "slide"
    }
   },
   "source": [
    "### References\n",
    "\n",
    "- Ruina A., Rudra P. (2015) [Introduction to Statics and Dynamics](http://ruina.tam.cornell.edu/Book/index.html). Oxford University Press. \n",
    "\n",
    "- Duarte M. (2017) [Free body diagram](FreeBodyDiagram.ipynb)\n",
    "\n",
    "- Elias, L A, Watanabe, R N, Kohn, A F.(2014) [Spinal Mechanisms May Provide a Combination of Intermittent and Continuous Control of Human Posture: Predictions from a Biologically Based Neuromusculoskeletal Model.](http://dx.doi.org/10.1371/journal.pcbi.1003944) PLOS Computational Biology (Online)\n",
    "\n",
    "- Winter D. A., (2009) Biomechanics and motor control of human movement. John Wiley and Sons.\n",
    "\n",
    "- Duarte M. (2017) [The inverted pendulum model of the human standing](http://nbviewer.jupyter.org/github/demotu/BMC/blob/master/notebooks/IP_Model.ipynb)"
   ]
  }
 ],
 "metadata": {
  "celltoolbar": "Edit Metadata",
  "kernelspec": {
   "display_name": "Python 3",
   "language": "python",
   "name": "python3"
  },
  "language_info": {
   "codemirror_mode": {
    "name": "ipython",
    "version": 3
   },
   "file_extension": ".py",
   "mimetype": "text/x-python",
   "name": "python",
   "nbconvert_exporter": "python",
   "pygments_lexer": "ipython3",
   "version": "3.6.10"
  },
  "latex_envs": {
   "LaTeX_envs_menu_present": true,
   "autoclose": false,
   "autocomplete": true,
   "bibliofile": "biblio.bib",
   "cite_by": "apalike",
   "current_citInitial": 1,
   "eqLabelWithNumbers": true,
   "eqNumInitial": 1,
   "hotkeys": {
    "equation": "Ctrl-E",
    "itemize": "Ctrl-I"
   },
   "labels_anchors": false,
   "latex_user_defs": false,
   "report_style_numbering": false,
   "user_envs_cfg": false
  },
  "nbTranslate": {
   "displayLangs": [
    "*"
   ],
   "hotkey": "alt-t",
   "langInMainMenu": true,
   "sourceLang": "en",
   "targetLang": "pt",
   "useGoogleTranslate": true
  },
  "toc": {
   "base_numbering": 1,
   "nav_menu": {},
   "number_sections": true,
   "sideBar": true,
   "skip_h1_title": false,
   "title_cell": "Table of Contents",
   "title_sidebar": "Contents",
   "toc_cell": true,
   "toc_position": {
    "height": "408px",
    "left": "473px",
    "top": "184px",
    "width": "212px"
   },
   "toc_section_display": true,
   "toc_window_display": true
  },
  "varInspector": {
   "cols": {
    "lenName": 16,
    "lenType": 16,
    "lenVar": 40
   },
   "kernels_config": {
    "python": {
     "delete_cmd_postfix": "",
     "delete_cmd_prefix": "del ",
     "library": "var_list.py",
     "varRefreshCmd": "print(var_dic_list())"
    },
    "r": {
     "delete_cmd_postfix": ") ",
     "delete_cmd_prefix": "rm(",
     "library": "var_list.r",
     "varRefreshCmd": "cat(var_dic_list()) "
    }
   },
   "types_to_exclude": [
    "module",
    "function",
    "builtin_function_or_method",
    "instance",
    "_Feature"
   ],
   "window_display": false
  }
 },
 "nbformat": 4,
 "nbformat_minor": 2
}
