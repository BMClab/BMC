{
 "cells": [
  {
   "cell_type": "markdown",
   "metadata": {
    "slideshow": {
     "slide_type": "slide"
    }
   },
   "source": [
    "# Newton-Euler equations for rigid bodies\n",
    "\n",
    "> Marcos Duarte, Renato Naville Watanabe\n",
    "\n",
    "> Laboratory of Biomechanics and Motor Control ([http://pesquisa.ufabc.edu.br/bmclab](http://pesquisa.ufabc.edu.br/bmclab))  \n",
    "> Federal University of ABC, Brazil"
   ]
  },
  {
   "cell_type": "markdown",
   "metadata": {
    "slideshow": {
     "slide_type": "slide"
    },
    "toc": true
   },
   "source": [
    "<h1>Table of Contents<span class=\"tocSkip\"></span></h1>\n",
    "<div class=\"toc\"><ul class=\"toc-item\"><li><span><a href=\"#Mechanics\" data-toc-modified-id=\"Mechanics-1\"><span class=\"toc-item-num\">1&nbsp;&nbsp;</span>Mechanics</a></span></li><li><span><a href=\"#Recapitulation\" data-toc-modified-id=\"Recapitulation-2\"><span class=\"toc-item-num\">2&nbsp;&nbsp;</span>Recapitulation</a></span><ul class=\"toc-item\"><li><span><a href=\"#Newton's-laws-of-motion\" data-toc-modified-id=\"Newton's-laws-of-motion-2.1\"><span class=\"toc-item-num\">2.1&nbsp;&nbsp;</span>Newton's laws of motion</a></span></li><li><span><a href=\"#Linear-momentum\" data-toc-modified-id=\"Linear-momentum-2.2\"><span class=\"toc-item-num\">2.2&nbsp;&nbsp;</span>Linear momentum</a></span></li><li><span><a href=\"#Angular-momentum\" data-toc-modified-id=\"Angular-momentum-2.3\"><span class=\"toc-item-num\">2.3&nbsp;&nbsp;</span>Angular momentum</a></span></li><li><span><a href=\"#Torque-(moment-of-force)\" data-toc-modified-id=\"Torque-(moment-of-force)-2.4\"><span class=\"toc-item-num\">2.4&nbsp;&nbsp;</span>Torque (moment of force)</a></span></li><li><span><a href=\"#Moment-of-inertia\" data-toc-modified-id=\"Moment-of-inertia-2.5\"><span class=\"toc-item-num\">2.5&nbsp;&nbsp;</span>Moment of inertia</a></span></li></ul></li><li><span><a href=\"#Principle-of-transmissibility-and-Principle-of-moments\" data-toc-modified-id=\"Principle-of-transmissibility-and-Principle-of-moments-3\"><span class=\"toc-item-num\">3&nbsp;&nbsp;</span>Principle of transmissibility and Principle of moments</a></span><ul class=\"toc-item\"><li><span><a href=\"#Principle-of-transmissibility\" data-toc-modified-id=\"Principle-of-transmissibility-3.1\"><span class=\"toc-item-num\">3.1&nbsp;&nbsp;</span>Principle of transmissibility</a></span></li><li><span><a href=\"#Varignon's-Theorem-(Principle-of-Moments)\" data-toc-modified-id=\"Varignon's-Theorem-(Principle-of-Moments)-3.2\"><span class=\"toc-item-num\">3.2&nbsp;&nbsp;</span>Varignon's Theorem (Principle of Moments)</a></span></li></ul></li><li><span><a href=\"#Equivalent-systems\" data-toc-modified-id=\"Equivalent-systems-4\"><span class=\"toc-item-num\">4&nbsp;&nbsp;</span>Equivalent systems</a></span></li><li><span><a href=\"#Mechanics-(dynamics)-of-rigid-bodies\" data-toc-modified-id=\"Mechanics-(dynamics)-of-rigid-bodies-5\"><span class=\"toc-item-num\">5&nbsp;&nbsp;</span>Mechanics (dynamics) of rigid bodies</a></span></li><li><span><a href=\"#Euler's-laws-of-motion-(for-a-rigid-body)\" data-toc-modified-id=\"Euler's-laws-of-motion-(for-a-rigid-body)-6\"><span class=\"toc-item-num\">6&nbsp;&nbsp;</span>Euler's laws of motion (for a rigid body)</a></span><ul class=\"toc-item\"><li><span><a href=\"#Derivation-of-the-Euler's-laws-of-motion\" data-toc-modified-id=\"Derivation-of-the-Euler's-laws-of-motion-6.1\"><span class=\"toc-item-num\">6.1&nbsp;&nbsp;</span>Derivation of the Euler's laws of motion</a></span></li></ul></li><li><span><a href=\"#Problems\" data-toc-modified-id=\"Problems-7\"><span class=\"toc-item-num\">7&nbsp;&nbsp;</span>Problems</a></span></li><li><span><a href=\"#References\" data-toc-modified-id=\"References-8\"><span class=\"toc-item-num\">8&nbsp;&nbsp;</span>References</a></span></li></ul></div>"
   ]
  },
  {
   "cell_type": "markdown",
   "metadata": {
    "slideshow": {
     "slide_type": "skip"
    }
   },
   "source": [
    "## Mechanics\n",
    "\n",
    "In Mechanics we are interested in the study of motion (including deformation) and forces (and the relation between them) of anything in nature.  \n",
    "\n",
    "As a good rule of thumb, we model the phenomenon of interest as simple as possible, with just enough complexity to understand the phenomenon. \n",
    "\n",
    "For example, we could model a person jumping as a particle (the center of gravity, with no size) moving in one direction (the vertical) if all we want is to estimate the jump height and relate that to the external forces to the human body. So, mechanics of a particle might be all we need. \n",
    "\n",
    "However, if the person jumps and performs a somersault, to understand this last part of the motion we have to model the human body as one of more objects which displaces and rotates in two or three dimensions. In this case, we would need what is called mechanics of rigid bodies.\n",
    "\n",
    "If, besides the gross motions of the segments of the body, we are interested in understanding the deformation in the the human body segments and tissues, now we would have to describe the mechanical behavior of the body (e.g., how it deforms) under the action of forces. In this case we would have to include some constitutive laws describing the mechanical properties of the body.\n",
    "\n",
    "In the chapter mechanics of rigid bodies, the body deformation is neglected, i.e., the distance between every pair of points in the body is considered constant. Consequently, the position and orientation of a rigid body can be completely described by a corresponding coordinate system attached to it.\n",
    "\n",
    "Let's review some Newton's laws of motion for a particle and then extend these equations to motion of rigid bodies."
   ]
  },
  {
   "cell_type": "markdown",
   "metadata": {
    "slideshow": {
     "slide_type": "slide"
    }
   },
   "source": [
    "## Recapitulation\n",
    "\n",
    "### Newton's laws of motion\n",
    "\n",
    "The Newton's laws of motion describe the relationship between the forces acting on a body and the resultant linear motion due to those forces:\n",
    "\n",
    "- **First law**: An object will remain at rest or in uniform motion in a straight line unless an external force acts on the body.\n",
    "- **Second law**: The acceleration of an object is directly proportional to the net force acting on the object and inversely proportional to the mass of the object: <span class=\"notranslate\">$\\mathbf{\\vec{F}} = m\\mathbf{\\vec{a}}.$</span>\n",
    "- **Third law**: Whenever an object exerts a force <span class=\"notranslate\">$\\mathbf{\\vec{F}}_1$</span> (action) on a second object, this second object simultaneously exerts a force <span class=\"notranslate\">$\\mathbf{\\vec{F}}_2$</span> on the first object with the same magnitude but opposite direction (reaction): <span class=\"notranslate\">$\\mathbf{\\vec{F}}_2 = −\\mathbf{\\vec{F}}_1.$</span>"
   ]
  },
  {
   "cell_type": "markdown",
   "metadata": {
    "slideshow": {
     "slide_type": "slide"
    }
   },
   "source": [
    "### Linear momentum\n",
    "\n",
    "The linear momentum, or quantity of motion, is defined as the product between mass and velocity:\n",
    "<span class=\"notranslate\">\n",
    "$$ \\mathbf{\\vec{L}} = m\\mathbf{\\vec{v}} $$\n",
    "</span>\n",
    "\n",
    "### Angular momentum\n",
    "\n",
    "In analogy to the linear momentum, the angular momentum is the quantity of movement of a particle rotating around an axis passing through any point O at a distance $\\mathbf{\\vec{r}}$ to the particle:\n",
    "\n",
    "<span class=\"notranslate\">\n",
    "$$ \\mathbf{\\vec{H_O}} = \\mathbf{\\vec{r_{O}}} \\times \\mathbf{\\vec{L}} $$\n",
    "</span>"
   ]
  },
  {
   "cell_type": "markdown",
   "metadata": {
    "slideshow": {
     "slide_type": "slide"
    }
   },
   "source": [
    "### Torque (moment of force)\n",
    "\n",
    "In analogy to the second Newton's law for the linear case, torque or moment of force (or simply moment) is the time derivative of angular momentum:\n",
    "\n",
    "<span class=\"notranslate\">\n",
    "$$ \\mathbf{\\vec{M_O}} = \\frac{d\\mathbf{\\vec{H_O}}}{dt} = \\frac{d}{dt}(\\mathbf{\\mathbf{\\vec{r}} \\times \\mathbf{\\vec{L}}}) = \\frac{d\\mathbf{\\vec{r_O}}}{dt} \\times \\mathbf{\\vec{L}} + \\mathbf{\\vec{r_O}} \\times \\frac{d\\mathbf{\\vec{L}}}{dt} = \\frac{d\\mathbf{\\vec{r_O}}}{dt} \\times (m\\mathbf{\\mathbf{\\vec{v}}}) + \\mathbf{\\vec{r_O}} \\times \\frac{d(m\\mathbf{\\vec{v}})}{dt} = \\mathbf{\\vec{v}} \\times (m\\mathbf{\\mathbf{\\vec{v}}}) + \\mathbf{\\vec{r_O}} \\times \\frac{d(m\\mathbf{\\vec{v}})}{dt} = 0 + \\mathbf{\\vec{r_O}} \\times \\mathbf{\\vec{F}} $$\n",
    "\n",
    "    \n",
    "$$ \\mathbf{\\vec{M_O}} = \\mathbf{\\vec{r_O}} \\times \\mathbf{\\vec{F}} $$\n",
    "\n",
    "$$ \\mathbf{\\vec{M_O}} = (r_{O_x}\\:\\mathbf{\\hat{i}}+r_{O_y}\\:\\mathbf{\\hat{j}}+r_{O_z}\\:\\mathbf{\\hat{k}}) \\times  (F_x\\:\\mathbf{\\hat{i}}+F_y\\:\\mathbf{\\hat{j}}+F_z\\:\\mathbf{\\hat{k}}) $$\n",
    "</span>\n",
    "\n",
    "Where the symbol $\\times$ stands for the [cross product](http://nbviewer.ipython.org/github/demotu/BMC/blob/master/notebooks/ScalarVector.ipynb) mathematical function.   \n",
    "The the moment of force can be calculated as the determinant of the following matrix:\n",
    "\n",
    "<span class=\"notranslate\">\n",
    "$$ \\mathbf{\\vec{M_O}} = \\det \\begin{bmatrix}\n",
    "\\mathbf{\\hat{i}} & \\mathbf{\\hat{j}} & \\mathbf{\\hat{k}} \\\\ \n",
    "r_{O_x} & r_{O_y} & r_{O_z} \\\\\n",
    "F_x & F_y & F_z \n",
    "\\end{bmatrix} $$\n",
    "</span>\n",
    "\n",
    "<span class=\"notranslate\">\n",
    "$$ \\mathbf{\\vec{M_O}} = (r_{O_y}F_z-r_{O_z}F_y)\\mathbf{\\hat{i}}+(r_{O_z}F_x-r_{O_x}F_z)\\mathbf{\\hat{j}}+(r_{O_x}F_y-r_{O_y}F_x)\\mathbf{\\hat{k}} $$\n",
    "</span>"
   ]
  },
  {
   "cell_type": "markdown",
   "metadata": {
    "slideshow": {
     "slide_type": "slide"
    }
   },
   "source": [
    "The magnitude of moment of force can also be calculated by the geometric equivalent formula:\n",
    "\n",
    "<span class=\"notranslate\">\n",
    "$$ ||\\mathbf{\\vec{M_O}}|| = ||\\mathbf{r_O} \\times \\mathbf{\\vec{F}}|| = ||\\mathbf{\\vec{r_O}}||\\:||\\mathbf{\\vec{F}}||\\sin(\\theta) $$\n",
    "</span>\n",
    "\n",
    "Where <span class=\"notranslate\">$\\theta$</span> is the angle between the vectors <span class=\"notranslate\">$\\mathbf{\\vec{r_O}}$</span> and <span class=\"notranslate\">$\\mathbf{\\vec{F}}$<span>. \n",
    "\n",
    "The animation below illustrates the relationship between force, torque, and momentum vectors:   \n",
    "\n",
    " <figure><img src=\"../images/TorqueAnim.gif\" alt=\"Torque animation\" width=\"300\"/><figcaption><center><i>Figure. Relationship between force ($\\mathbf{\\vec{F}}$), torque ($\\mathbf{\\vec{M}}$), linear momentum ($\\mathbf{\\vec{L}}$) and angular momentum ($\\mathbf{\\vec{H}}$). Adapted from [Wikipedia](http://en.wikipedia.org/wiki/File:Torque_animation.gif).</i></center></figcaption></figure>"
   ]
  },
  {
   "cell_type": "markdown",
   "metadata": {
    "slideshow": {
     "slide_type": "slide"
    }
   },
   "source": [
    "### Moment of inertia\n",
    "\n",
    "Let's use the example above, where <span class=\"notranslate\">$\\mathbf{\\vec{r_O}}$</span> and <span class=\"notranslate\">$\\mathbf{\\vec{F}}$</span> are orthogonal and derive an expression for the magnitude of these quantities as the equivalent of Newton's second law for angular motion:\n",
    "\n",
    "<span class=\"notranslate\">\n",
    "$$ M_O = r_OF = r_Oma $$\n",
    "</span>\n",
    "\n",
    "Replacing the linear acceleration $a$ by the angular acceleration $\\alpha$:\n",
    "\n",
    "<span class=\"notranslate\">\n",
    "$$ M_O = r_Omr_O\\alpha = mr_O^2 \\alpha $$\n",
    "</span>\n",
    "\n",
    "In analogy to Newton's second law, where the constant of proportionality between $a$ and $F$ is called inertia (mass), the constant of proportionality between $M_O$ and $\\alpha$ is called rotational inertia or moment of inertia, $I_O=mr_O^2$ for a particle with mass $m$ rotating at a distance $r$ from the center of rotation O."
   ]
  },
  {
   "cell_type": "markdown",
   "metadata": {
    "slideshow": {
     "slide_type": "slide"
    }
   },
   "source": [
    "## Principle of transmissibility and Principle of moments\n",
    "\n",
    "On the effects of forces, there are two important principles:\n",
    "\n",
    "### Principle of transmissibility\n",
    "\n",
    "> *For rigid bodies with no deformation, an external force can be applied at any point on its line of action without changing the resultant effect of the force.*\n",
    "\n",
    "### Varignon's Theorem (Principle of Moments)\n",
    "\n",
    "> *The moment of a force about a point is equal to the sum of moments of the components of the force about the same point.*   \n",
    "Note that the components of the force don't need to be orthogonal."
   ]
  },
  {
   "cell_type": "markdown",
   "metadata": {
    "slideshow": {
     "slide_type": "slide"
    }
   },
   "source": [
    "## Equivalent systems\n",
    "\n",
    "\n",
    "A set of forces and moments is considered equivalent if its resultant force and sum of the moments computed relative to a given point are the same. Normally, we want to reduce all the forces and moments being applied to a body into a single force and a single moment.\n",
    "\n",
    "We have done this with particles for the resultant force. The resultant force is simply the sum of all the forces being applied to the body.\n",
    "\n",
    "<span class=\"notranslate\">\n",
    "\\begin{equation}\n",
    "    \\vec{\\bf{F}} = \\sum\\limits_{i=1}^n \\vec{\\bf{F_i}}\n",
    "\\end{equation}\n",
    "</span>\n",
    "\n",
    "\n",
    "where <span class=\"notranslate\">$\\vec{\\bf{F_i}}$</span> is each force applied to the body."
   ]
  },
  {
   "cell_type": "markdown",
   "metadata": {
    "slideshow": {
     "slide_type": "slide"
    }
   },
   "source": [
    "Similarly, the total moment applied to the body relative to a point O is:\n",
    "\n",
    "<span class=\"notranslate\">\n",
    "\\begin{equation}\n",
    "    \\vec{\\bf{M_O}} = \\sum\\limits_{i}\\vec{\\bf{r_{i/O}}} \\times \\vec{\\bf{F_i}} + \\sum\\limits_{i}\\vec{\\bf{M_{F_i}}}\n",
    "\\end{equation}\n",
    "</span>\n",
    "\n",
    "where <span class=\"notranslate\">$\\vec{\\bf{r_{i/O}}}$</span> is the vector from the point O to the point where the force <span class=\"notranslate\">$\\vec{\\bf{F_i}}$</span> is being applied and $\\vec{\\bf{M_{F_i}}}$ are the free moments. \n",
    "\n",
    "Free moments are moments created by a pair of forces. They do not sum um to the resultant force, since they have have the same magnitude and opposite directions, but create a moment because there is a distance between these forces.\n",
    "\n",
    "<figure><img src=\"./../images/freeMoment.png\" width=500/></figure>\n",
    "\n",
    "But where the resultant force should be applied in the body? If the resultant force were applied to any point different from the point O, it would produce an additional  moment to the body relative to point O. So, the resultant force must be applied to the point O.\n",
    "\n",
    "So, any set of forces can be reduced to a moment relative to a chosen point O and a resultant force applied to the point O.\n",
    "\n",
    "To compute the resultant force and moment relative to another point O', the new moment is:\n",
    "\n",
    "<span class=\"notranslate\">\n",
    "\\begin{equation}\n",
    "    \\vec{\\bf{M_{O'}}} = \\vec{\\bf{M_O}} + \\vec{\\bf{r_{O'/O}}} \\times \\vec{\\bf{F}}\n",
    "\\end{equation}\n",
    "</span>\n",
    "\n",
    "And the resultant force is the same.\n",
    "\n",
    "It is worth to note that if the resultant force  <span class=\"notranslate\">$\\vec{\\bf{F}}$</span> is zero, than the moment is the same relative to any point.\n",
    "\n",
    "<figure><img src=\"./../images/equivalentSystem.png\" width=850/></figure>"
   ]
  },
  {
   "cell_type": "markdown",
   "metadata": {
    "slideshow": {
     "slide_type": "slide"
    }
   },
   "source": [
    "## Mechanics (dynamics) of rigid bodies\n",
    "\n",
    "A [rigid body](https://en.wikipedia.org/wiki/Rigid_body) is a model (an idealization) for a body in which deformation is neglected, i.e., the distance between every pair of points in the body is considered constant. This definition also also implies that the total mass of a rigid body is constant.\n",
    "\n",
    "Consequently, the motion of a rigid body can be completely described by its pose (position and orientation) in space. In a three-dimensional space, at least three coordinates and three angles are necessary to describe the pose of the rigid body, totalizing six degrees of freedom for a rigid body. This also implies that we will need six equations of motion for these components to describe the dynamics of a rigid body."
   ]
  },
  {
   "cell_type": "markdown",
   "metadata": {
    "slideshow": {
     "slide_type": "slide"
    }
   },
   "source": [
    "## Euler's laws of motion (for a rigid body)\n",
    "\n",
    "Euler's laws of motion extend Newton's laws of motion for particles for the motion of a rigid body.\n",
    "\n",
    "**First law**: The linear momentum of a body is equal to the product of the mass of the body and the velocity of its center of mass:   \n",
    "\n",
    "<span class=\"notranslate\">\n",
    "$$ \\mathbf{\\vec{L}} = m\\mathbf{\\vec{v}}_{cm} $$  \n",
    "</span>\n",
    "\n",
    "And calculating the time derivative of this equation:\n",
    "\n",
    "<span class=\"notranslate\">\n",
    "$$ \\mathbf{\\vec{F}} = m\\mathbf{\\vec{a}}_{cm} $$   \n",
    "</span>\n",
    "\n",
    "**Second law**: The rate of change of angular momentum about a point that is fixed in an inertial reference frame is equal to the resultant external moment of force about that point:\n",
    "\n",
    "<span class=\"notranslate\">\n",
    "$$ \\mathbf{\\vec{M_O}} = \\frac{d\\mathbf{\\vec{H_O}}}{dt} $$ \n",
    "</span>"
   ]
  },
  {
   "cell_type": "markdown",
   "metadata": {
    "slideshow": {
     "slide_type": "slide"
    }
   },
   "source": [
    "### Derivation of the Euler's laws of motion\n",
    "\n",
    "**First law**: \n",
    "\n",
    "The sum of the linear momentum of all the particles of a rigid body (considering the body as a discrete sum of elements, but this also holds for the continuous case):\n",
    "\n",
    "<span class=\"notranslate\">\n",
    "$$ \\mathbf{\\vec{L}} = \\sum m_i\\mathbf{\\vec{v}}_i $$ \n",
    "</span>\n",
    "\n",
    "Looking at the definition of center of mass:\n",
    "\n",
    "<span class=\"notranslate\">\n",
    "$$ \\mathbf{\\vec{r}}_{cm} = \\frac{1}{m_{B}}\\sum m_{i}\\mathbf{\\vec{r}}_i \\quad \\text{where} \\quad m_{B} = \\sum m_{i} $$\n",
    "<span>\n",
    "\n",
    "By differentiation, the velocity of the center of mass is:\n",
    "\n",
    "<span class=\"notranslate\">\n",
    "$$ \\mathbf{\\vec{v}}_{cm} = \\frac{1}{m_{B}}\\sum m_{i}\\mathbf{\\vec{v}}_i $$\n",
    "</span>\n",
    "\n",
    "And finally:\n",
    "\n",
    "<span class=\"notranslate\">\n",
    "$$ \\mathbf{\\vec{L}} = m_{B} \\mathbf{\\vec{v}}_{cm} = m_B \\mathbf{\\vec{v}}_{cm} $$\n",
    "</span>"
   ]
  },
  {
   "cell_type": "markdown",
   "metadata": {
    "slideshow": {
     "slide_type": "slide"
    }
   },
   "source": [
    "We can get the second equation of the first law calculating the time derivative of the equation above.  \n",
    "Another way to derive this second equation is considering the effects of all forces acting on each particle of the rigid body and apply Newton's second law to them:\n",
    "\n",
    "<span class=\"notranslate\">\n",
    "$$ \\sum \\mathbf{\\vec{F}}_i = \\sum m_i\\mathbf{\\vec{a}}_i $$\n",
    "</span>\n",
    "    \n",
    "With respect to the origin of these forces, they can be divided in two types: external and internal forces to the rigid body. Internal forces are interaction forces between particles inside the body and because of Newton's third law (action and reaction) they cancel each other. So, the equation above becomes:\n",
    "\n",
    "<span class=\"notranslate\">\n",
    "$$ \\sum \\mathbf{\\vec{F}}_{external} = \\sum m_i\\mathbf{\\vec{a}}_i $$ \n",
    "</span>\n",
    "    \n",
    "But the acceleration of the center of mass is:\n",
    "\n",
    "<span class=\"notranslate\">\n",
    "$$ \\mathbf{\\vec{a}}_{cm} = \\frac{1}{m_B}\\sum m_{i}\\mathbf{\\vec{a}}_i $$\n",
    "</span>\n",
    "\n",
    "And finally:\n",
    "\n",
    "<span class=\"notranslate\">\n",
    "$$ \\mathbf{\\vec{F}} = \\sum \\mathbf{\\vec{F}}_{external} = m_B\\mathbf{\\vec{a}}_{cm} $$\n",
    "</span>\n",
    "\n",
    "This means that for a rigid body the internal forces between the particles of the body do not contribute to changing the total momentum nor changing the acceleration of the center of mass. "
   ]
  },
  {
   "cell_type": "markdown",
   "metadata": {
    "slideshow": {
     "slide_type": "slide"
    }
   },
   "source": [
    "**Second law**: \n",
    "\n",
    "For a complete derivation of the second Euler's law of motion, see for example Taylor (2005) or [http://emweb.unl.edu/NEGAHBAN/EM373/note19/note19.htm](http://emweb.unl.edu/NEGAHBAN/EM373/note19/note19.htm).\n",
    "\n",
    "Let's derive the second Euler's law of motion for a simpler case of a rigid body rotating in a plane.  \n",
    "\n",
    "First, a general consideration about the total angular momentum of a rotting rigid body:  \n",
    "The total angular momentum of a rigid body rotating around a point $O$ can be expressed as the angular momentum of the body center of mass around the point $O$ plus the sum of the angular momentum of each particle around the body center of mass (for a proof see page 368 of Taylor, 2005):\n",
    "\n",
    "<span class=\"notranslate\">\n",
    "$$ \\mathbf{\\vec{H_O}} = \\mathbf{\\vec{r}}_{cm/O} \\times m\\mathbf{\\vec{v}}_{cm/O} + \\sum \\mathbf{\\vec{r}}_{i/cm} \\times m_i\\mathbf{\\vec{v}}_{i/cm} $$\n",
    "</span>\n",
    "\n",
    "For a two-dimensional case, where the rigid body rotates around its own center of mass and also rotates around another parallel axis (fixed), the second term of the right side of the equation above can be simplified to <span class=\"notranslate\">$\\sum (m_i\\mathbf{r}^2_{i/cm}) \\mathbf{\\vec{\\omega}}$</span> and calculating the time derivative of the whole equation,  \n",
    "\n",
    "<span class=\"notranslate\">\n",
    "$$ \\mathbf{\\vec{M_O}} = \\frac{d\\mathbf{\\vec{H_O}}}{dt} \\rightarrow \\mathbf{\\vec{M_O}} = \\frac{d\\left( \\mathbf{\\vec{r}}_{cm/O} \\times m\\mathbf{\\vec{v}}_{cm/O} + \\sum \\mathbf{\\vec{r}}_{i/cm} \\times m_i\\mathbf{\\vec{v}}_{i/cm} \\right)}{dt}$$\n",
    "</span>\n",
    "\n",
    "the second Euler's law of motion simplifies to: \n",
    "\n",
    "<span class=\"notranslate\">\n",
    "$$ \\mathbf{\\vec{M_O}} = \\mathbf{\\vec{r}}_{cm/O} \\times m\\mathbf{\\vec{a}}_{cm} + I_{cm} \\mathbf{\\vec{\\alpha}} $$\n",
    "</span>\n",
    "\n",
    "where <span class=\"notranslate\">$\\mathbf{\\vec{r}}_{cm}$</span> is the position vector of the center of mass with respect to the point $O$ about which moments are summed, <span class=\"notranslate\">$\\mathbf{\\vec{\\alpha}}$</span> is the angular acceleration of the body about its center of mass, and <span class=\"notranslate\">$I_{cm}$</span> is the moment of inertia of the body about its center of mass.\n",
    "\n",
    "If <span class=\"notranslate\">$d$</span> is the (shortest) distance between the point $O$ and the line of the acceleration vector, then the equation above becomes:\n",
    "\n",
    "<span class=\"notranslate\">\n",
    "$$ \\mathbf{M} = ma_{cm}d + I_{cm} \\mathbf{\\alpha} $$\n",
    "</span>\n",
    "    \n",
    "Note that if the acceleration of the center of mass is zero or the sum of moments of force is calculated around the center of mass (then $\\mathbf{r}_{cm}=0$), this case of rotation in a plane simplifies to the well-known simple equation:\n",
    "\n",
    "<span class=\"notranslate\">\n",
    "$$ \\mathbf{\\vec{M_{cm}}} = I_{cm} \\mathbf{\\vec{\\alpha}} $$\n",
    "</span>"
   ]
  },
  {
   "cell_type": "markdown",
   "metadata": {
    "slideshow": {
     "slide_type": "slide"
    }
   },
   "source": [
    "*Three-dimensional case*\n",
    "\n",
    "In the three-dimensional space, if we describe the rotation of a rigid body using a rotating reference frame with axes parallel to the principal axes of inertia (referred by the subscripts 1,2,3) of the body, the Euler's second law becomes:   \n",
    "\n",
    "<span class=\"notranslate\">\n",
    "$$ M_1 = I_1\\dot{\\omega_1} + (I_3-I_2)\\omega_2\\omega_3 $$\n",
    "\n",
    "$$ M_2 = I_2\\dot{\\omega_2} + (I_1-I_3)\\omega_3\\omega_1 $$\n",
    "\n",
    "$$ M_3 = I_3\\dot{\\omega_3} + (I_2-I_1)\\omega_1\\omega_2 $$ \n",
    "</span>"
   ]
  },
  {
   "cell_type": "markdown",
   "metadata": {
    "slideshow": {
     "slide_type": "slide"
    }
   },
   "source": [
    "## Problems\n",
    "\n",
    "1. (Recap.) Solve problems 12.2.1, 12.2..2, 12.2.9, 12.2.11 and 12.2.21 of Ruina and Rudra (2019).\n",
    "\n",
    "2. Calculate the magnitude of the moment about the base point *O* of the 600-N force in five different ways for the structure shown below (hint: use the equation for torque in different ways, and also the principles of moments and of transmissibility).\n",
    "\n",
    "<figure><img src=\"http://ebm.ufabc.edu.br/wp-content/uploads/2013/02/torque2.jpg\" alt=\"Torque\" width=\"250\"/></figure>\n",
    "\n"
   ]
  },
  {
   "cell_type": "markdown",
   "metadata": {
    "slideshow": {
     "slide_type": "slide"
    }
   },
   "source": [
    "## References\n",
    " \n",
    "- Ruina A, Rudra P (2019) [Introduction to Statics and Dynamics](http://ruina.tam.cornell.edu/Book/index.html). Oxford University Press.\n",
    "- Taylor JR (2005) [Classical Mechanics](https://books.google.com.br/books?id=P1kCtNr-pJsC). University Science Books."
   ]
  },
  {
   "cell_type": "code",
   "execution_count": null,
   "metadata": {},
   "outputs": [],
   "source": []
  }
 ],
 "metadata": {
  "anaconda-cloud": {},
  "celltoolbar": "Slideshow",
  "hide_input": false,
  "kernelspec": {
   "display_name": "Python 3",
   "language": "python",
   "name": "python3"
  },
  "language_info": {
   "codemirror_mode": {
    "name": "ipython",
    "version": 3
   },
   "file_extension": ".py",
   "mimetype": "text/x-python",
   "name": "python",
   "nbconvert_exporter": "python",
   "pygments_lexer": "ipython3",
   "version": "3.8.8"
  },
  "nbTranslate": {
   "displayLangs": [
    "*"
   ],
   "hotkey": "alt-t",
   "langInMainMenu": true,
   "sourceLang": "en",
   "targetLang": "pt",
   "useGoogleTranslate": true
  },
  "toc": {
   "base_numbering": 1,
   "nav_menu": {},
   "number_sections": true,
   "sideBar": true,
   "skip_h1_title": true,
   "title_cell": "Table of Contents",
   "title_sidebar": "Contents",
   "toc_cell": true,
   "toc_position": {
    "height": "489px",
    "left": "572px",
    "top": "122px",
    "width": "165px"
   },
   "toc_section_display": true,
   "toc_window_display": true
  },
  "varInspector": {
   "cols": {
    "lenName": 16,
    "lenType": 16,
    "lenVar": 40
   },
   "kernels_config": {
    "python": {
     "delete_cmd_postfix": "",
     "delete_cmd_prefix": "del ",
     "library": "var_list.py",
     "varRefreshCmd": "print(var_dic_list())"
    },
    "r": {
     "delete_cmd_postfix": ") ",
     "delete_cmd_prefix": "rm(",
     "library": "var_list.r",
     "varRefreshCmd": "cat(var_dic_list()) "
    }
   },
   "types_to_exclude": [
    "module",
    "function",
    "builtin_function_or_method",
    "instance",
    "_Feature"
   ],
   "window_display": false
  }
 },
 "nbformat": 4,
 "nbformat_minor": 4
}
