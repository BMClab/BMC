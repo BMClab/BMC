{
 "cells": [
  {
   "cell_type": "markdown",
   "metadata": {
    "slideshow": {
     "slide_type": "slide"
    }
   },
   "source": [
    "# Velocity and Acceleration of a point of a rigid body\n",
    "\n",
    "> Renato Naville Watanabe, Marcos Duarte  \n",
    "> [Laboratory of Biomechanics and Motor Control](http://pesquisa.ufabc.edu.br/bmclab)  \n",
    "> Federal University of ABC, Brazil"
   ]
  },
  {
   "cell_type": "markdown",
   "metadata": {},
   "source": [
    "<h1>Contents<span class=\"tocSkip\"></span></h1>\n",
    "<div class=\"toc\"><ul class=\"toc-item\"><li><span><a href=\"#Python-setup\" data-toc-modified-id=\"Python-setup-1\"><span class=\"toc-item-num\">1&nbsp;&nbsp;</span>Python setup</a></span></li><li><span><a href=\"#Frame-of-reference-attached-to-a-body\" data-toc-modified-id=\"Frame-of-reference-attached-to-a-body-2\"><span class=\"toc-item-num\">2&nbsp;&nbsp;</span>Frame of reference attached to a body</a></span></li><li><span><a href=\"#Position-of-a-point-on-a-rigid-body\" data-toc-modified-id=\"Position-of-a-point-on-a-rigid-body-3\"><span class=\"toc-item-num\">3&nbsp;&nbsp;</span>Position of a point on a rigid body</a></span></li><li><span><a href=\"#Translation-of-a-rigid-body\" data-toc-modified-id=\"Translation-of-a-rigid-body-4\"><span class=\"toc-item-num\">4&nbsp;&nbsp;</span>Translation of a rigid body</a></span></li><li><span><a href=\"#Angular-velocity-of-a-body\" data-toc-modified-id=\"Angular-velocity-of-a-body-5\"><span class=\"toc-item-num\">5&nbsp;&nbsp;</span>Angular velocity of a body</a></span></li><li><span><a href=\"#Velocity-of-a-point-with-no-translation\" data-toc-modified-id=\"Velocity-of-a-point-with-no-translation-6\"><span class=\"toc-item-num\">6&nbsp;&nbsp;</span>Velocity of a point with no translation</a></span></li><li><span><a href=\"#Relative-velocity-of-a-point-on-a-rigid-body-to-another-point\" data-toc-modified-id=\"Relative-velocity-of-a-point-on-a-rigid-body-to-another-point-7\"><span class=\"toc-item-num\">7&nbsp;&nbsp;</span>Relative velocity of a point on a rigid body to another point</a></span></li><li><span><a href=\"#Velocity-of-a-point-on-rigid-body-translating\" data-toc-modified-id=\"Velocity-of-a-point-on-rigid-body-translating-8\"><span class=\"toc-item-num\">8&nbsp;&nbsp;</span>Velocity of a point on rigid body translating</a></span></li><li><span><a href=\"#Acceleration-of-a-point-on-a-rigid-body\" data-toc-modified-id=\"Acceleration-of-a-point-on-a-rigid-body-9\"><span class=\"toc-item-num\">9&nbsp;&nbsp;</span>Acceleration of a point on a rigid body</a></span></li><li><span><a href=\"#Further-reading\" data-toc-modified-id=\"Further-reading-10\"><span class=\"toc-item-num\">10&nbsp;&nbsp;</span>Further reading</a></span></li><li><span><a href=\"#Video-lectures-on-the-Internet\" data-toc-modified-id=\"Video-lectures-on-the-Internet-11\"><span class=\"toc-item-num\">11&nbsp;&nbsp;</span>Video lectures on the Internet</a></span></li><li><span><a href=\"#Problems\" data-toc-modified-id=\"Problems-12\"><span class=\"toc-item-num\">12&nbsp;&nbsp;</span>Problems</a></span></li><li><span><a href=\"#References\" data-toc-modified-id=\"References-13\"><span class=\"toc-item-num\">13&nbsp;&nbsp;</span>References</a></span></li></ul></div>"
   ]
  },
  {
   "cell_type": "markdown",
   "metadata": {
    "slideshow": {
     "slide_type": "subslide"
    }
   },
   "source": [
    "This notebook shows the expressions of  the velocity and acceleration of a point on rigid body, given the angular velocity of the body."
   ]
  },
  {
   "cell_type": "markdown",
   "metadata": {
    "slideshow": {
     "slide_type": "fragment"
    }
   },
   "source": [
    "## Python setup"
   ]
  },
  {
   "cell_type": "code",
   "execution_count": 1,
   "metadata": {
    "slideshow": {
     "slide_type": "slide"
    }
   },
   "outputs": [],
   "source": [
    "import numpy as np\n",
    "import matplotlib.pyplot as plt\n",
    "%matplotlib widget\n",
    "from matplotlib.animation import FuncAnimation\n",
    "from matplotlib.patches import FancyArrowPatch"
   ]
  },
  {
   "cell_type": "markdown",
   "metadata": {
    "slideshow": {
     "slide_type": "slide"
    }
   },
   "source": [
    "## Frame of reference attached to a body\n",
    "\n",
    "The concept of reference frame in Biomechanics and motor control is very important and central to the understanding of human motion. For example, do we see, plan and control the movement of our hand with respect to reference frames within our body or in the environment we move? Or a combination of both?  \n",
    "The figure below, although derived for a robotic system, illustrates well the concept that we might have to deal with multiple coordinate systems.  \n",
    "\n",
    "<div class='center-align'><figure><img src=\"https://raw.githubusercontent.com/demotu/BMC/master/images/coordinatesystems.png\" width=450/><figcaption><center><i>Figure. Multiple coordinate systems for use in robots (figure from Corke (2017)).</i></center></figcaption></figure></div>\n",
    "\n",
    "For three-dimensional motion analysis in Biomechanics, we may use several different references frames for convenience and refer to them as global, laboratory, local, anatomical, or technical reference frames or coordinate systems (we will study this later).  \n",
    "There has been proposed different standardizations on how to define frame of references for the main segments and joints of the human body. For instance, the International Society of Biomechanics has a [page listing standardization proposals](https://isbweb.org/activities/standards) by its standardization committee and subcommittees:"
   ]
  },
  {
   "cell_type": "markdown",
   "metadata": {
    "slideshow": {
     "slide_type": "slide"
    }
   },
   "source": [
    "## Position of a point on a rigid body\n",
    "\n",
    "The description of the position of a point P of a rotating rigid body is given by:\n",
    "\n",
    "<span class=\"notranslate\">\n",
    "\\begin{equation}\n",
    "{\\bf\\vec{r}_{P/O}} = x_{P/O}^*{\\bf\\hat{i}'} + y_{P/O}^*{\\bf\\hat{j}'}\n",
    "\\end{equation}\n",
    "</span>\n",
    "\n",
    "where $x_{P/O}^*$ and $y_{P/O}^*$ are the coordinates of the point P position at a reference state with the versors described as:\n",
    "\n",
    "<span class=\"notranslate\">\n",
    "\\begin{equation}\n",
    "{\\bf\\hat{i}'} = \\cos(\\theta){\\bf\\hat{i}}+\\sin(\\theta){\\bf\\hat{j}}\n",
    "\\end{equation}\n",
    "</span>\n",
    "\n",
    "<span class=\"notranslate\">\n",
    "\\begin{equation}\n",
    "{\\bf\\hat{j}'} = -\\sin(\\theta){\\bf\\hat{i}}+\\cos(\\theta){\\bf\\hat{j}}\n",
    "\\end{equation}\n",
    "</span>\n",
    "\n",
    "\n",
    "<img src=\"../images/rotBody.png\" style=\"width: 1000000px;\">\n",
    "\n",
    "Note that the vector ${\\bf\\vec{r}_{P/O}}$ has always the same description for any point P of the rigid body when described as a linear combination of <span class=\"notranslate\">${\\bf\\hat{i}'}$</span> and <span class=\"notranslate\">${\\bf\\hat{j}'}$</span>.\n"
   ]
  },
  {
   "cell_type": "markdown",
   "metadata": {
    "slideshow": {
     "slide_type": "slide"
    }
   },
   "source": [
    "## Translation of a rigid body\n",
    "\n",
    " Let's consider now the case in which, besides a rotation, a translation of the body happens. This situation is represented in the figure below. In this case, the position of the point P is given by:\n",
    "\n",
    "<span class=\"notranslate\">\n",
    "\\begin{equation}\n",
    "{\\bf\\vec{r}_{P/O}} = {\\bf\\vec{r}_{A/O}}+{\\bf\\vec{r}_{P/A}}= {\\bf\\vec{r}_{A/O}}+x_{P/A}^*{\\bf\\hat{i}'} + y_{P/A}^*{\\bf\\hat{j}'}\n",
    "\\end{equation}\n",
    "</span>\n",
    "\n",
    "<img src=\"../images/rotTrBody.png\" width=1000/>"
   ]
  },
  {
   "cell_type": "markdown",
   "metadata": {
    "slideshow": {
     "slide_type": "slide"
    }
   },
   "source": [
    "## Angular velocity of a body\n",
    "\n",
    "The magnitude of the angular velocity of a rigid  body rotating on a plane is defined as:\n",
    "\n",
    "<span class=\"notranslate\">\n",
    "\\begin{equation}\n",
    "    \\omega = \\frac{d\\theta}{dt}\n",
    "\\end{equation}\n",
    "</span>\n",
    "\n",
    "Usually, it is defined an angular velocity vector perpendicular to the plane where the rotation occurs (in this case the x-y plane) and with magnitude $\\omega$:\n",
    "\n",
    "<span class=\"notranslate\">\n",
    "\\begin{equation}\n",
    "    \\vec{\\bf{\\omega}} = \\omega\\hat{\\bf{k}}\n",
    "\\end{equation}\n",
    "</span>\n",
    "\n",
    "\n",
    "<img src=\"../images/angvel.png\" width=600/>"
   ]
  },
  {
   "cell_type": "markdown",
   "metadata": {
    "slideshow": {
     "slide_type": "slide"
    }
   },
   "source": [
    "## Velocity of a point with no translation"
   ]
  },
  {
   "cell_type": "markdown",
   "metadata": {
    "slideshow": {
     "slide_type": "slide"
    }
   },
   "source": [
    "First we will consider the situation with no translation. The velocity of the point P is given by:\n",
    "\n",
    "<span class=\"notranslate\">\n",
    "\\begin{equation}\n",
    "{\\bf\\vec{v}_{P/O}} = \\frac{d{\\bf\\vec{r}_{P/O}}}{dt} = \\frac{d(x_{P/O}^*{\\bf\\hat{i}'} + y_{P/O}^*{\\bf\\hat{j}'})}{dt}\n",
    "\\end{equation}\n",
    "</span>"
   ]
  },
  {
   "cell_type": "markdown",
   "metadata": {
    "slideshow": {
     "slide_type": "slide"
    }
   },
   "source": [
    "To continue this deduction, we have to find the expression of the derivatives of <span class=\"notranslate\">\n",
    "${\\bf\\hat{i}'}$</span> and <span class=\"notranslate\">${\\bf\\hat{j}'}$</span>. This is very similar to the derivative expressions of ${\\bf\\hat{e_R}}$ and  ${\\bf\\hat{e_\\theta}}$ of [polar basis](http://nbviewer.jupyter.org/github/BMClab/bmc/blob/master/notebooks/PolarBasis.ipynb).\n",
    "\n",
    "<span class=\"notranslate\">\n",
    "\\begin{equation}\n",
    "\\frac{d{\\bf\\hat{i}'}}{dt} = -\\dot{\\theta}\\sin(\\theta){\\bf\\hat{i}}+\\dot{\\theta}\\cos(\\theta){\\bf\\hat{j}} = \\dot{\\theta}{\\bf\\hat{j}'}\n",
    "\\end{equation}\n",
    "</span>\n",
    "\n",
    "<span class=\"notranslate\">\n",
    "\\begin{equation}\n",
    "\\frac{d{\\bf\\hat{j}'}}{dt} = -\\dot{\\theta}\\cos(\\theta){\\bf\\hat{i}}-\\dot{\\theta}\\sin(\\theta){\\bf\\hat{j}} = -\\dot{\\theta}{\\bf\\hat{i}'}\n",
    "\\end{equation}\n",
    "</span>"
   ]
  },
  {
   "cell_type": "markdown",
   "metadata": {
    "slideshow": {
     "slide_type": "slide"
    }
   },
   "source": [
    "Another way to represent the expressions above is by using the vector form to express the angular velocity $\\dot{\\theta}$. It is usual to represent the angular velocity as a vector in the direction ${\\bf\\hat{k}}$: ${\\bf\\vec{\\omega}} = \\dot{\\theta}{\\bf\\hat{k}} = \\omega{\\bf\\hat{k}}$. Using this definition of the angular velocity, we can write the above expressions as:\n",
    "\n",
    "<span class=\"notranslate\">\n",
    "\\begin{equation}\n",
    "\\frac{d{\\bf\\hat{i}'}}{dt} = \\dot{\\theta}{\\bf\\hat{j}'} = \\dot{\\theta} {\\bf\\hat{k}}\\times {\\bf\\hat{i}'} = {\\bf\\vec{\\omega}} \\times {\\bf\\hat{i}'}\n",
    "\\end{equation}\n",
    "</span>\n",
    "\n",
    "<span class=\"notranslate\">\n",
    "\\begin{equation}\n",
    "\\frac{d{\\bf\\hat{j}'}}{dt} = -\\dot{\\theta}{\\bf\\hat{i}'} = \\dot{\\theta} {\\bf\\hat{k}}\\times {\\bf\\hat{j}'} ={\\bf\\vec{\\omega}} \\times {\\bf\\hat{j}'}\n",
    "\\end{equation}\n",
    "</span>"
   ]
  },
  {
   "cell_type": "markdown",
   "metadata": {
    "slideshow": {
     "slide_type": "slide"
    }
   },
   "source": [
    "So, the velocity of the point P in the situation of no translation is:\n",
    "\n",
    "<span class=\"notranslate\">\n",
    "\\begin{equation}\n",
    "{\\bf\\vec{v}_{P/O}} = \\frac{d(x_{P/O}^*{\\bf\\hat{i}'} + y_{P/O}^*{\\bf\\hat{j}'})}{dt} = x_{P/O}^*\\frac{d{\\bf\\hat{i}'}}{dt} + y_{P/O}^*\\frac{d{\\bf\\hat{j}'}}{dt}=x_{P/O}^*{\\bf\\vec{\\omega}} \\times {\\bf\\hat{i}'} + y_{P/O}^*{\\bf\\vec{\\omega}} \\times {\\bf\\hat{j}'} = {\\bf\\vec{\\omega}} \\times \\left(x_{P/O}^*{\\bf\\hat{i}'}\\right) + {\\bf\\vec{\\omega}} \\times \\left(y_{P/O}^*{\\bf\\hat{j}'}\\right) ={\\bf\\vec{\\omega}} \\times \\left(x_{P/O}^*{\\bf\\hat{i}'}+y_{P/O}^*{\\bf\\hat{j}'}\\right)\n",
    "\\end{equation}\n",
    "</span>\n",
    "\n",
    "<span class=\"notranslate\">\n",
    "\\begin{equation}\n",
    "{\\bf\\vec{v}_{P/O}} = {\\bf\\vec{\\omega}} \\times {\\bf{\\vec{r}_{P/O}}}\n",
    "\\end{equation}\n",
    "</span>\n",
    "\n",
    "This expression shows that the velocity vector of any point of a rigid body is orthogonal to the vector linking the point O and the point P.\n",
    "\n",
    "It is worth to note that despite the above expression was deduced for a planar movement, the expression above is general, including three dimensional movements."
   ]
  },
  {
   "cell_type": "markdown",
   "metadata": {
    "slideshow": {
     "slide_type": "slide"
    }
   },
   "source": [
    "## Relative velocity of a point on a rigid body to another point\n",
    "\n",
    "To compute the velocity of a point on a rigid body that is translating, we need to find the expression of the velocity of a point (P) in relation to another point on the body (A). So:\n",
    "\n",
    "<span class=\"notranslate\">\n",
    "\\begin{equation}\n",
    "{\\bf\\vec{v}_{P/A}} = {\\bf\\vec{v}_{P/O}}-{\\bf\\vec{v}_{A/O}} = {\\bf\\vec{\\omega}} \\times {\\bf{\\vec{r}_{P/O}}} - {\\bf\\vec{\\omega}} \\times {\\bf{\\vec{r}_{A/O}}} = {\\bf\\vec{\\omega}} \\times ({\\bf{\\vec{r}_{P/O}}}-{\\bf{\\vec{r}_{A/O}}}) =  {\\bf\\vec{\\omega}} \\times {\\bf{\\vec{r}_{P/A}}}\n",
    "\\end{equation}\n",
    "</span>\n",
    "\n"
   ]
  },
  {
   "cell_type": "markdown",
   "metadata": {
    "slideshow": {
     "slide_type": "slide"
    }
   },
   "source": [
    "## Velocity of a point on rigid body translating\n",
    "\n",
    "The velocity of a point on a rigid body that is translating is given by:\n",
    "\n",
    "<span class=\"notranslate\">\n",
    "\\begin{equation}\n",
    "{\\bf\\vec{v}_{P/O}}  = \\frac{d{\\bf\\vec{r}_{P/O}}}{dt} = \\frac{d({\\bf\\vec{r}_{A/O}}+x_{P/A}^*{\\bf\\hat{i}'} + y_{P/A}^*{\\bf\\hat{j}'})}{dt} = \\frac{d{\\bf\\vec{r}_{A/O}}}{dt}+\\frac{d(x_{P/A}^*{\\bf\\hat{i}'} + y_{P/A}^*{\\bf\\hat{j}'})}{dt} = {\\bf\\vec{v}_{A/O}} + {\\bf\\vec{\\omega}} \\times {\\bf{\\vec{r}_{P/A}}}\n",
    "\\end{equation}\n",
    "</span>"
   ]
  },
  {
   "cell_type": "markdown",
   "metadata": {
    "slideshow": {
     "slide_type": "slide"
    }
   },
   "source": [
    "Below is an example of a body rotating with the angular velocity of $\\omega = \\pi/10$ rad/s and translating at the velocity of <span class=\"notranslate\">\n",
    "${\\bf\\vec{v}} = 0.7 {\\bf\\hat{i}} + 0.5 {\\bf\\hat{j}}$ m/s</span>. The red arrow indicates the velocity of the geometric center of the body and the blue arrow indicates the velocity of the lower point of the body"
   ]
  },
  {
   "cell_type": "code",
   "execution_count": 3,
   "metadata": {
    "slideshow": {
     "slide_type": "slide"
    }
   },
   "outputs": [
    {
     "data": {
      "application/vnd.jupyter.widget-view+json": {
       "model_id": "92b26b24d38f45ae8f0ae60218a5adeb",
       "version_major": 2,
       "version_minor": 0
      },
      "image/png": "[encoded data removed]",
      "text/html": [
       "\n",
       "            <div style=\"display: inline-block;\">\n",
       "                <div class=\"jupyter-widgets widget-label\" style=\"text-align: center;\">\n",
       "                    Figure\n",
       "                </div>\n",
       "                <img src='data:image/png;base64,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' width=500.0/>\n",
       "            </div>\n",
       "        "
      ],
      "text/plain": [
       "Canvas(toolbar=Toolbar(toolitems=[('Home', 'Reset original view', 'home', 'home'), ('Back', 'Back to previous …"
      ]
     },
     "metadata": {},
     "output_type": "display_data"
    }
   ],
   "source": [
    "t = np.linspace(0,13,40)\n",
    "omega = np.pi/10 #[rad/s] \n",
    "voa = np.array([[0.7],[0.5]]) # velocity of center of mass\n",
    "fig = plt.figure()\n",
    "plt.grid()\n",
    "ax = fig.add_axes([0, 0, 1, 1])    \n",
    "ax.axis(\"on\")\n",
    "plt.rcParams['figure.figsize']=5,5\n",
    "def run(i):\n",
    "    ax.clear()\n",
    "    theta = omega * t[i]\n",
    "    phi = np.linspace(0,2*np.pi,100)\n",
    "    B = np.squeeze(np.array([[2*np.cos(phi)],[6*np.sin(phi)]]))\n",
    "    Baum = np.vstack((B,np.ones((1,np.shape(B)[1]))))\n",
    "    roa = voa * t[i]\n",
    "    R = np.array([[np.cos(theta), -np.sin(theta)],[np.sin(theta), np.cos(theta)]])\n",
    "    T = np.vstack((np.hstack((R,roa)), np.array([0,0,1])))\n",
    "    BRot = R@B\n",
    "    BRotTr = T@Baum   \n",
    "    \n",
    "    \n",
    "    \n",
    "    plt.plot(BRotTr[0,:],BRotTr[1,:], roa[0], roa[1],'.')\n",
    "    plt.fill(BRotTr[0,:],BRotTr[1,:], 'g')\n",
    "    \n",
    "    vVoa = FancyArrowPatch(roa.squeeze(), roa.squeeze()+5*voa.squeeze(), mutation_scale=20, \n",
    "                           lw=2, arrowstyle=\"->\", color=\"r\", alpha=1)\n",
    "    ax.add_artist(vVoa)   \n",
    "    \n",
    "    element = 75\n",
    "    \n",
    "    # cross product between omega and r\n",
    "    Vp = voa + np.cross(np.array([0,0,omega]), BRot[:,[element]].T)[:,0:2].T \n",
    "   \n",
    "    vVP = FancyArrowPatch(BRotTr[0:2,element], BRotTr[0:2,element] + 5*Vp.squeeze(),\n",
    "                          mutation_scale=20, \n",
    "                          lw=2, arrowstyle=\"->\", color=\"b\", alpha=1)\n",
    "    ax.add_artist(vVP)\n",
    "    \n",
    "    plt.xlim((-10, 20))\n",
    "    plt.ylim((-10, 20))\n",
    "     \n",
    "ani = FuncAnimation(fig, run, frames = 50, repeat=False,  interval =500)\n",
    "plt.show()\n"
   ]
  },
  {
   "cell_type": "markdown",
   "metadata": {
    "slideshow": {
     "slide_type": "slide"
    }
   },
   "source": [
    "## Acceleration of  a point on a rigid body\n",
    "\n",
    "The acceleration of a point on a rigid body is obtained by deriving the previous expression:\n",
    "\n",
    "<span class=\"notranslate\">\n",
    "\\begin{align}\n",
    "{\\bf\\vec{a}_{P/O}} =& {\\bf\\vec{a}_{A/O}} + \\dot{\\bf\\vec{\\omega}} \\times {\\bf{\\vec{r}_{P/A}}} + {\\bf\\vec{\\omega}} \\times {\\bf{\\vec{v}_{P/A}}} =\\\\\n",
    "    =&{\\bf\\vec{a}_{A/O}} + \\dot{\\bf\\vec{\\omega}} \\times {\\bf{\\vec{r}_{P/A}}} + {\\bf\\vec{\\omega}} \\times ({\\bf\\vec{\\omega}} \\times {\\bf{\\vec{r}_{P/A}}}) =\\\\\n",
    "    =&{\\bf\\vec{a}_{A/O}} + \\ddot{\\theta}\\bf\\hat{k} \\times {\\bf{\\vec{r}_{P/A}}} - \\dot{\\theta}^2{\\bf{\\vec{r}_{P/A}}}\n",
    "\\end{align}\n",
    "</span>\n",
    "\n",
    "The acceleration has three terms:\n",
    "\n",
    "- <span class=\"notranslate\">${\\bf\\vec{a}_{A/O}}$</span> -- the acceleration of the point O.\n",
    "- <span class=\"notranslate\">$\\ddot{\\theta}\\bf\\hat{k} \\times {\\bf{\\vec{r}_{P/A}}}$</span> -- the acceleration of the point P due to the angular acceleration of the body.\n",
    "- <span class=\"notranslate\">$- \\dot{\\theta}^2{\\bf{\\vec{r}_{P/A}}}$</span> -- the acceleration of the point P due to the angular velocity of the body. It is known as centripetal acceleration.\n",
    "\n",
    "\n",
    "\n",
    "Below is an example of a rigid  body with an angular acceleration of <span class=\"notranslate\"> $\\alpha = \\pi/150$ rad/s$^2$ </span> and initial angular velocity of <span class=\"notranslate\">$\\omega_0 = \\pi/100$ rad/s</span>. Consider also that the center of the body accelerates with <span class=\"notranslate\">${\\bf\\vec{a}} = 0.01{\\bf\\hat{i}} + 0.05{\\bf\\hat{j}}$</span>, starting from rest.\n"
   ]
  },
  {
   "cell_type": "code",
   "execution_count": 4,
   "metadata": {
    "scrolled": true,
    "slideshow": {
     "slide_type": "slide"
    }
   },
   "outputs": [
    {
     "data": {
      "application/vnd.jupyter.widget-view+json": {
       "model_id": "7589b186abac4c4896a04dc491ee4ee7",
       "version_major": 2,
       "version_minor": 0
      },
      "image/png": "[encoded data removed]",
      "text/html": [
       "\n",
       "            <div style=\"display: inline-block;\">\n",
       "                <div class=\"jupyter-widgets widget-label\" style=\"text-align: center;\">\n",
       "                    Figure\n",
       "                </div>\n",
       "                <img src='data:image/png;base64,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' width=500.0/>\n",
       "            </div>\n",
       "        "
      ],
      "text/plain": [
       "Canvas(toolbar=Toolbar(toolitems=[('Home', 'Reset original view', 'home', 'home'), ('Back', 'Back to previous …"
      ]
     },
     "metadata": {},
     "output_type": "display_data"
    }
   ],
   "source": [
    "t = np.linspace(0, 20, 40)\n",
    "\n",
    "alpha = np.pi/150 #[rad/s^2] angular acceleration \n",
    "\n",
    "omega0 = np.pi/100 #[rad/s] angular velocity\n",
    "\n",
    "aoa = np.array([[0.01],[0.05]]) # linear acceleration\n",
    "\n",
    "fig = plt.figure()\n",
    "plt.grid()\n",
    "ax = fig.add_axes([0, 0, 1, 1])    \n",
    "ax.axis(\"on\")\n",
    "plt.rcParams['figure.figsize']=5,5\n",
    "theta = 0\n",
    "omega = 0\n",
    "def run(i):\n",
    "    ax.clear()\n",
    "    phi = np.linspace(0,2*np.pi,100)\n",
    "    B = np.squeeze(np.array([[2*np.cos(phi)],[6*np.sin(phi)]]))\n",
    "    Baum = np.vstack((B,np.ones((1,np.shape(B)[1]))))\n",
    "    \n",
    "    omega = alpha*t[i]+omega0 #[rad/s] angular velocity\n",
    "    \n",
    "    theta = alpha/2*t[i]**2 + omega0*t[i] # [rad] angle\n",
    "    \n",
    "    voa = aoa*t[i] # linear velocity\n",
    "    \n",
    "    roa = aoa/2*t[i]**2 # position of the center of the body\n",
    "    \n",
    "    R = np.array([[np.cos(theta), -np.sin(theta)],[np.sin(theta), np.cos(theta)]])\n",
    "    T = np.vstack((np.hstack((R,roa)), np.array([0,0,1])))\n",
    "    BRot = R@B\n",
    "    BRotTr = T@Baum   \n",
    "    \n",
    "    plt.plot(BRotTr[0,:],BRotTr[1,:], roa[0], roa[1],'.')\n",
    "    plt.fill(BRotTr[0,:],BRotTr[1,:],'g')\n",
    "    \n",
    "    element = 75\n",
    "   \n",
    "    ap = (aoa + np.cross(np.array([0,0,alpha]), BRot[:,[element]].T)[:,0:2].T  \n",
    "          - omega**2*BRot[:,[element]])\n",
    "    \n",
    "    vVP = FancyArrowPatch(BRotTr[0:2,element], BRotTr[0:2,element] + 5*ap.squeeze(),\n",
    "                          mutation_scale=20, \n",
    "                          lw=2, arrowstyle=\"->\", color=\"b\", alpha=1)\n",
    "    ax.add_artist(vVP)\n",
    "    \n",
    "    plt.xlim((-10, 20))\n",
    "    plt.ylim((-10, 20))\n",
    "       \n",
    "    \n",
    "\n",
    "ani = FuncAnimation(fig, run, frames=50, repeat=False,  interval=500)\n",
    "plt.show()\n"
   ]
  },
  {
   "cell_type": "markdown",
   "metadata": {
    "slideshow": {
     "slide_type": "slide"
    }
   },
   "source": [
    "## Further reading\n",
    "\n",
    "- Read pages 958-971 of the 18th chapter of the [Ruina and Rudra's book] (http://ruina.tam.cornell.edu/Book/index.html) about circular motion of particle. "
   ]
  },
  {
   "cell_type": "markdown",
   "metadata": {
    "slideshow": {
     "slide_type": "slide"
    }
   },
   "source": [
    "## Video lectures on the Internet\n",
    "\n",
    "- [Kinematics Of Rigid Bodies - General Plane Motion - Solved Problems](https://www.youtube.com/watch?v=4LsLy9iJKFA)\n",
    "- [Kinematics of Rigid Bodies -Translation And Rotation About Fixed Axis - Rectilinear and Rotational](https://www.youtube.com/watch?v=VnzsQmP6eMQ)  "
   ]
  },
  {
   "cell_type": "markdown",
   "metadata": {
    "slideshow": {
     "slide_type": "slide"
    }
   },
   "source": [
    "## Problems\n",
    "\n",
    "- 1. Solve the problems 16.2.5, 16.2.10, 16.2.11 and 16.2.20 from [Ruina and Rudra's book](http://ruina.tam.cornell.edu/Book/index.html).\n",
    "- 2. Solve the problems 17.1.2, 17.1.8, 17.1.9, 17.1.10, 17.1.11 and 17.1.12 from [Ruina and Rudra's book](http://ruina.tam.cornell.edu/Book/index.html).\n",
    "- 3. Solve the problems 2.1, 2.2, 2.7, 2.8, 2.17"
   ]
  },
  {
   "cell_type": "markdown",
   "metadata": {
    "slideshow": {
     "slide_type": "slide"
    }
   },
   "source": [
    "## Reference\n",
    "\n",
    "- Ruina A, Rudra P (2019) [Introduction to Statics and Dynamics](http://ruina.tam.cornell.edu/Book/index.html). Oxford University Press.\n",
    "- Corke P (2017) [Robotics, Vision and Control: Fundamental Algorithms in MATLAB](http://www.petercorke.com/RVC/). 2nd ed. Springer-Verlag Berlin."
   ]
  }
 ],
 "metadata": {
  "celltoolbar": "Slideshow",
  "kernelspec": {
   "display_name": "Python 3 (ipykernel)",
   "language": "python",
   "name": "python3"
  },
  "language_info": {
   "codemirror_mode": {
    "name": "ipython",
    "version": 3
   },
   "file_extension": ".py",
   "mimetype": "text/x-python",
   "name": "python",
   "nbconvert_exporter": "python",
   "pygments_lexer": "ipython3",
   "version": "3.9.13"
  },
  "latex_envs": {
   "LaTeX_envs_menu_present": true,
   "autoclose": false,
   "autocomplete": true,
   "bibliofile": "biblio.bib",
   "cite_by": "apalike",
   "current_citInitial": 1,
   "eqLabelWithNumbers": true,
   "eqNumInitial": 1,
   "hotkeys": {
    "equation": "Ctrl-E",
    "itemize": "Ctrl-I"
   },
   "labels_anchors": false,
   "latex_user_defs": false,
   "report_style_numbering": false,
   "user_envs_cfg": false
  },
  "nbTranslate": {
   "displayLangs": [
    "*"
   ],
   "hotkey": "alt-t",
   "langInMainMenu": true,
   "sourceLang": "en",
   "targetLang": "pt",
   "useGoogleTranslate": true
  },
  "toc": {
   "base_numbering": 1,
   "nav_menu": {},
   "number_sections": true,
   "sideBar": true,
   "skip_h1_title": false,
   "title_cell": "Table of Contents",
   "title_sidebar": "Contents",
   "toc_cell": false,
   "toc_position": {},
   "toc_section_display": true,
   "toc_window_display": false
  },
  "varInspector": {
   "cols": {
    "lenName": 16,
    "lenType": 16,
    "lenVar": 40
   },
   "kernels_config": {
    "python": {
     "delete_cmd_postfix": "",
     "delete_cmd_prefix": "del ",
     "library": "var_list.py",
     "varRefreshCmd": "print(var_dic_list())"
    },
    "r": {
     "delete_cmd_postfix": ") ",
     "delete_cmd_prefix": "rm(",
     "library": "var_list.r",
     "varRefreshCmd": "cat(var_dic_list()) "
    }
   },
   "types_to_exclude": [
    "module",
    "function",
    "builtin_function_or_method",
    "instance",
    "_Feature"
   ],
   "window_display": false
  }
 },
 "nbformat": 4,
 "nbformat_minor": 4
}
