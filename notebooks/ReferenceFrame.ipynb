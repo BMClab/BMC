{
 "cells": [
  {
   "cell_type": "markdown",
   "metadata": {
    "slideshow": {
     "slide_type": "slide"
    }
   },
   "source": [
    "# Frame of reference\n",
    "\n",
    "\n",
    "> Marcos Duarte, Renato Naville Watanabe  \n",
    "> [Laboratory of Biomechanics and Motor Control](http://pesquisa.ufabc.edu.br/bmclab)  \n",
    "> Federal University of ABC, Brazil"
   ]
  },
  {
   "cell_type": "markdown",
   "metadata": {
    "slideshow": {
     "slide_type": "skip"
    }
   },
   "source": [
    "<a href=\"http://en.wikipedia.org/wiki/Motion_(physics)\">Motion</a> (a change of position in space with respect to time) is not an absolute concept; a reference is needed to describe the motion of the object in relation to this reference. Likewise, the state of such reference cannot be absolute in space and so motion is relative.    \n",
    "A [frame of reference](http://en.wikipedia.org/wiki/Frame_of_reference) is the place with respect to we choose to describe the motion of an object. In this reference frame, we define a [coordinate system](http://en.wikipedia.org/wiki/Coordinate_system) (a set of axes) within which we measure the motion of an object (but frame of reference and coordinate system are often used interchangeably).  \n",
    "\n",
    "Often, the choice of reference frame and coordinate system is made by convenience. However, there is an important distinction between reference frames when we deal with the dynamics of motion, where we are interested to understand the forces related to the motion of the object. In dynamics, we refer to [inertial frame of reference](http://en.wikipedia.org/wiki/Inertial_frame_of_reference) (a.k.a., Galilean reference frame) when the Newton's laws of motion in their simple form are valid in this frame and to non-inertial frame of reference when the Newton's laws in their simple form are not valid (in such reference frame, fictitious accelerations/forces appear). An inertial reference frame is at rest or moves at constant speed (because there is no absolute rest!), whereas a non-inertial reference frame is under acceleration (with respect to an inertial reference frame).\n",
    "\n",
    "The concept of frame of reference has changed drastically since Aristotle, Galileo, Newton, and Einstein. To read more about that and its philosophical implications, see [Space and Time: Inertial Frames](http://plato.stanford.edu/entries/spacetime-iframes/)."
   ]
  },
  {
   "cell_type": "markdown",
   "metadata": {
    "slideshow": {
     "slide_type": "slide"
    }
   },
   "source": [
    "## Frame of reference for human motion analysis\n",
    "\n",
    "In anatomy, we use a simplified reference frame composed by perpendicular planes to provide a standard reference for qualitatively describing the structures and movements of the human body, as shown in the next figure.\n",
    "\n",
    "<div class='center-align'><figure><img src=\"http://upload.wikimedia.org/wikipedia/commons/3/34/BodyPlanes.jpg\" width=\"300\" alt=\"Anatomical body position\"/><figcaption><center><i>Figure. Anatomical body position and body planes (<a href=\"http://en.wikipedia.org/wiki/Human_anatomical_terms\" target=\"_blank\">image from Wikipedia</a>).</i></center></figcaption> </figure></div> "
   ]
  },
  {
   "cell_type": "markdown",
   "metadata": {
    "slideshow": {
     "slide_type": "slide"
    }
   },
   "source": [
    "## Cartesian coordinate system\n",
    "\n",
    "As we perceive the surrounding space as three-dimensional, a convenient coordinate system is the [Cartesian coordinate system](http://en.wikipedia.org/wiki/Cartesian_coordinate_system) in the [Euclidean space](http://en.wikipedia.org/wiki/Euclidean_space) with three orthogonal axes as shown below. The axes directions are commonly defined by the [right-hand rule](http://en.wikipedia.org/wiki/Right-hand_rule) and attributed the letters X, Y, Z. The orthogonality of the Cartesian coordinate system is convenient for its use in classical mechanics, most of the times the structure of space is assumed having the [Euclidean geometry](http://en.wikipedia.org/wiki/Euclidean_geometry) and as consequence, the motion in different directions are independent of each other.  \n",
    "\n",
    "<div class='center-align'><figure><img src=\"https://raw.githubusercontent.com/demotu/BMC/master/images/CCS.png\" width=350/><figcaption><center><i>Figure. A point in three-dimensional Euclidean space described in a Cartesian coordinate system.</i></center></figcaption> </figure></div>"
   ]
  },
  {
   "cell_type": "markdown",
   "metadata": {
    "slideshow": {
     "slide_type": "slide"
    }
   },
   "source": [
    "### Standardizations in movement analysis\n",
    "\n",
    "The concept of reference frame in Biomechanics and motor control is very important and central to the understanding of human motion. For example, do we see, plan and control the movement of our hand with respect to reference frames within our body or in the environment we move? Or a combination of both?  \n",
    "The figure below, although derived for a robotic system, illustrates well the concept that we might have to deal with multiple coordinate systems.  \n",
    "\n",
    "<div class='center-align'><figure><img src=\"https://raw.githubusercontent.com/demotu/BMC/master/images/coordinatesystems.png\" width=450/><figcaption><center><i>Figure. Multiple coordinate systems for use in robots (figure from Corke (2017)).</i></center></figcaption></figure></div>\n",
    "\n",
    "For three-dimensional motion analysis in Biomechanics, we may use several different references frames for convenience and refer to them as global, laboratory, local, anatomical, or technical reference frames or coordinate systems (we will study this later).  \n",
    "There has been proposed different standardizations on how to define frame of references for the main segments and joints of the human body. For instance, the International Society of Biomechanics has a [page listing standardization proposals](https://isbweb.org/activities/standards) by its standardization committee and subcommittees:"
   ]
  },
  {
   "cell_type": "code",
   "execution_count": 1,
   "metadata": {
    "ExecuteTime": {
     "end_time": "2021-11-03T20:48:31.724735Z",
     "start_time": "2021-11-03T20:48:31.716733Z"
    },
    "scrolled": false,
    "slideshow": {
     "slide_type": "skip"
    }
   },
   "outputs": [
    {
     "data": {
      "text/html": [
       "\n",
       "        <iframe\n",
       "            width=\"100%\"\n",
       "            height=\"400\"\n",
       "            src=\"https://isbweb.org/activities/standards\"\n",
       "            frameborder=\"0\"\n",
       "            allowfullscreen\n",
       "            \n",
       "        ></iframe>\n",
       "        "
      ],
      "text/plain": [
       "<IPython.lib.display.IFrame at 0x7f85a8041130>"
      ]
     },
     "execution_count": 1,
     "metadata": {},
     "output_type": "execute_result"
    }
   ],
   "source": [
    "from IPython.display import IFrame\n",
    "IFrame('https://isbweb.org/activities/standards', width='100%', height=400)"
   ]
  },
  {
   "cell_type": "markdown",
   "metadata": {
    "slideshow": {
     "slide_type": "slide"
    }
   },
   "source": [
    " Another initiative for the standardization of references frames is from the [Virtual Animation of the Kinematics of the Human for Industrial, Educational and Research Purposes (VAKHUM)](https://github.com/BMClab/BMC/blob/master/courses/refs/VAKHUM.pdf) project."
   ]
  },
  {
   "cell_type": "markdown",
   "metadata": {
    "slideshow": {
     "slide_type": "slide"
    }
   },
   "source": [
    "## Determination of a coordinate system\n",
    "\n",
    "In Biomechanics, we may use different coordinate systems for convenience and refer to them as global, laboratory, local, anatomical, or technical reference frames or coordinate systems. For example, in a standard gait analysis, we define a global or laboratory coordinate system and a different coordinate system for each segment of the body to be able to describe the motion of a segment in relation to anatomical axes of another segment. To define this anatomical coordinate system, we need to place markers on anatomical landmarks on each segment. We also may use other markers (technical markers) on the segment to improve the motion analysis and then we will also have to define a technical coordinate system for each segment.\n",
    "\n",
    "As we perceive the surrounding space as three-dimensional, a convenient coordinate system to use is the [Cartesian coordinate system](http://en.wikipedia.org/wiki/Cartesian_coordinate_system) with three orthogonal axes in the [Euclidean space](http://en.wikipedia.org/wiki/Euclidean_space). From [linear algebra](http://en.wikipedia.org/wiki/Linear_algebra), a set of unit linearly independent vectors (orthogonal in the Euclidean space and each with norm (length) equals to one) that can represent any vector via [linear combination](http://en.wikipedia.org/wiki/Linear_combination) is called a <a href=\"http://en.wikipedia.org/wiki/Basis_(linear_algebra)\">basis</a> (or orthonormal basis). The figure below shows a point and its position vector in the Cartesian coordinate system and the corresponding versors (unit vectors) of the basis for this coordinate system. See the notebook [Scalar and vector](http://nbviewer.ipython.org/github/demotu/BMC/blob/master/notebooks/ScalarVector.ipynb) for a description on vectors.  \n",
    "\n",
    "<div class='center-align'><figure><img src=\"https://raw.githubusercontent.com/demotu/BMC/master/images/vector3Dijk.png\" width=350/><figcaption><center><i>Figure. Representation of a point **P** and its position vector $\\overrightarrow{\\mathbf{r}}$ in a Cartesian coordinate system. The versors $\\hat{\\mathbf{i}}, \\hat{\\mathbf{j}}, \\hat{\\mathbf{k}}$ form a basis for this coordinate system and are usually represented in the color sequence RGB (red, green, blue) for easier visualization.</i></center></figcaption></figure></div>\n",
    "\n",
    "One can see that the versors of the basis shown in the figure above have the following coordinates in the Cartesian coordinate system:\n",
    "\n",
    "<span class=\"notranslate\">\n",
    "\\begin{equation}\n",
    "\\hat{\\mathbf{i}} = \\begin{bmatrix}1\\\\0\\\\0 \\end{bmatrix}, \\quad \\hat{\\mathbf{j}} = \\begin{bmatrix}0\\\\1\\\\0 \\end{bmatrix}, \\quad \\hat{\\mathbf{k}} = \\begin{bmatrix} 0 \\\\ 0 \\\\ 1 \\end{bmatrix}\n",
    "\\end{equation}\n",
    "</span>\n",
    "\n",
    "Using the notation described in the figure above, the position vector $\\overrightarrow{\\mathbf{r}}$ (or the point $\\overrightarrow{\\mathbf{P}}$) can be expressed as:\n",
    "\n",
    "<span class=\"notranslate\">\n",
    "\\begin{equation}\n",
    "\\overrightarrow{\\mathbf{r}} = x\\hat{\\mathbf{i}} + y\\hat{\\mathbf{j}} + z\\hat{\\mathbf{k}}\n",
    "\\end{equation}\n",
    "</span>"
   ]
  },
  {
   "cell_type": "markdown",
   "metadata": {
    "slideshow": {
     "slide_type": "slide"
    }
   },
   "source": [
    "### Definition of a basis\n",
    "\n",
    "The mathematical problem of determination of a coordinate system is to find a basis and an origin for it (a basis is only a set of vectors, with no origin). There are different methods to calculate a basis given a set of points (coordinates), for example, one  can use the scalar product or the cross product for this problem."
   ]
  },
  {
   "cell_type": "markdown",
   "metadata": {
    "slideshow": {
     "slide_type": "slide"
    }
   },
   "source": [
    "### Using the cross product\n",
    "\n",
    "Let's now define a basis using a common method in motion analysis (employing the cross product):  \n",
    "Given the coordinates of three noncollinear points in 3D space (points that do not all lie on the same line), $\\overrightarrow{\\mathbf{m}}_1, \\overrightarrow{\\mathbf{m}}_2, \\overrightarrow{\\mathbf{m}}_3$, which would represent the positions of markers captured from a motion analysis session, a basis can be found following these steps:"
   ]
  },
  {
   "cell_type": "markdown",
   "metadata": {
    "slideshow": {
     "slide_type": "slide"
    }
   },
   "source": [
    "1. First axis, $\\overrightarrow{\\mathbf{v}}_1$, the vector $\\overrightarrow{\\mathbf{m}}_2-\\overrightarrow{\\mathbf{m}}_1$ (or any other vector difference);   "
   ]
  },
  {
   "cell_type": "markdown",
   "metadata": {
    "slideshow": {
     "slide_type": "slide"
    }
   },
   "source": [
    "2. Second axis, $\\overrightarrow{\\mathbf{v}}_2$, the cross or vector product between the vectors $\\overrightarrow{\\mathbf{v}}_1$ and $\\overrightarrow{\\mathbf{m}}_3-\\overrightarrow{\\mathbf{m}}_1$ (or $\\overrightarrow{\\mathbf{m}}_3-\\overrightarrow{\\mathbf{m}}_2$);  "
   ]
  },
  {
   "cell_type": "markdown",
   "metadata": {
    "slideshow": {
     "slide_type": "slide"
    }
   },
   "source": [
    "3. Third axis, $\\overrightarrow{\\mathbf{v}}_3$, the cross product between the vectors $\\overrightarrow{\\mathbf{v}}_1$ and $\\overrightarrow{\\mathbf{v}}_2$.  "
   ]
  },
  {
   "cell_type": "markdown",
   "metadata": {
    "slideshow": {
     "slide_type": "slide"
    }
   },
   "source": [
    "4. Make all vectors to have norm 1 dividing each vector by its norm."
   ]
  },
  {
   "cell_type": "markdown",
   "metadata": {
    "slideshow": {
     "slide_type": "slide"
    }
   },
   "source": [
    "The positions of the points used to construct a coordinate system have, by definition, to be specified in relation to an already existing coordinate system. In motion analysis, this coordinate system is the coordinate system from the motion capture system and it is established in the calibration phase. In this phase, the positions of markers placed on an object with perpendicular axes and known distances between the markers are captured and used as the reference (laboratory) coordinate system."
   ]
  },
  {
   "cell_type": "markdown",
   "metadata": {
    "slideshow": {
     "slide_type": "slide"
    }
   },
   "source": [
    "For example, given the positions $\\overrightarrow{\\mathbf{m}}_1 = [1,2,5], \\overrightarrow{\\mathbf{m}}_2 = [2,3,3], \\overrightarrow{\\mathbf{m}}_3 = [4,0,2]$, a basis can be found with:"
   ]
  },
  {
   "cell_type": "code",
   "execution_count": 2,
   "metadata": {
    "ExecuteTime": {
     "end_time": "2021-11-03T20:48:32.335476Z",
     "start_time": "2021-11-03T20:48:32.228129Z"
    },
    "slideshow": {
     "slide_type": "slide"
    }
   },
   "outputs": [
    {
     "name": "stdout",
     "output_type": "stream",
     "text": [
      "Versors: \n",
      "e1 = [ 0.40824829  0.40824829 -0.81649658] \n",
      "e2 = [-0.76834982 -0.32929278 -0.5488213 ] \n",
      "e3 = [-0.49292179  0.85141036  0.17924429]\n",
      "\n",
      "Norm of each versor: \n",
      "||e1|| = 1.0 \n",
      "||e2|| = 1.0 \n",
      "||e3|| = 1.0\n",
      "\n",
      "Test of orthogonality (cross product between versors): \n",
      "e1 x e2: 1.0 \n",
      "e1 x e3: 1.0000000000000002 \n",
      "e2 x e3: 0.9999999999999999\n"
     ]
    }
   ],
   "source": [
    "import numpy as np\n",
    "\n",
    "m1 = np.array([1, 2, 5])\n",
    "m2 = np.array([2, 3, 3])\n",
    "m3 = np.array([4, 0, 2])\n",
    "\n",
    "v1 = m2 - m1                # first axis\n",
    "v2 = np.cross(v1, m3 - m1)  # second axis\n",
    "v3 = np.cross(v1, v2)       # third axis\n",
    "\n",
    "# Vector normalization\n",
    "e1 = v1/np.linalg.norm(v1)\n",
    "e2 = v2/np.linalg.norm(v2)\n",
    "e3 = v3/np.linalg.norm(v3)\n",
    "\n",
    "print('Versors:', '\\ne1 =', e1, '\\ne2 =', e2, '\\ne3 =', e3)\n",
    "\n",
    "print('\\nNorm of each versor:',\n",
    "      '\\n||e1|| =', np.linalg.norm(e1),\n",
    "      '\\n||e2|| =', np.linalg.norm(e2),\n",
    "      '\\n||e3|| =', np.linalg.norm(e3))\n",
    "\n",
    "print('\\nTest of orthogonality (cross product between versors):',\n",
    "      '\\ne1 x e2:', np.linalg.norm(np.cross(e1, e2)),\n",
    "      '\\ne1 x e3:', np.linalg.norm(np.cross(e1, e3)),\n",
    "      '\\ne2 x e3:', np.linalg.norm(np.cross(e2, e3)))"
   ]
  },
  {
   "cell_type": "markdown",
   "metadata": {
    "slideshow": {
     "slide_type": "slide"
    }
   },
   "source": [
    "To define a coordinate system using the calculated basis, we also need to define an origin. In principle, we could use any point as origin, but if the calculated coordinate system should follow anatomical conventions, e.g., the coordinate system origin should be at a joint center, we will have to calculate the basis and origin according to standards used in motion analysis as discussed before.   \n",
    "\n",
    "If the coordinate system is a technical basis and not anatomic-based, a common procedure in motion analysis is to define the origin for the coordinate system as the centroid (average) position among the markers at the reference frame. Using the average position across markers potentially reduces the effect of noise (for example, from soft tissue artifact) on the calculation.  \n",
    "\n",
    "For the markers in the example above, the origin of the coordinate system will be:"
   ]
  },
  {
   "cell_type": "code",
   "execution_count": 3,
   "metadata": {
    "ExecuteTime": {
     "end_time": "2021-11-03T20:48:32.338801Z",
     "start_time": "2021-11-03T20:48:32.336445Z"
    },
    "slideshow": {
     "slide_type": "slide"
    }
   },
   "outputs": [
    {
     "name": "stdout",
     "output_type": "stream",
     "text": [
      "Origin:  [2.33333333 1.66666667 3.33333333]\n"
     ]
    }
   ],
   "source": [
    "origin = np.mean((m1, m2, m3), axis=0)\n",
    "print('Origin: ', origin)"
   ]
  },
  {
   "cell_type": "markdown",
   "metadata": {
    "slideshow": {
     "slide_type": "slide"
    }
   },
   "source": [
    "Let's plot the coordinate system and the basis using the custom Python function `CCS.py`:"
   ]
  },
  {
   "cell_type": "code",
   "execution_count": 4,
   "metadata": {
    "ExecuteTime": {
     "end_time": "2021-11-03T20:48:32.521673Z",
     "start_time": "2021-11-03T20:48:32.356441Z"
    },
    "slideshow": {
     "slide_type": "slide"
    }
   },
   "outputs": [],
   "source": [
    "import sys\n",
    "sys.path.insert(1, r'./../functions')  # add to pythonpath\n",
    "from CCS import CCS"
   ]
  },
  {
   "cell_type": "code",
   "execution_count": 5,
   "metadata": {
    "ExecuteTime": {
     "end_time": "2021-11-03T20:48:32.524979Z",
     "start_time": "2021-11-03T20:48:32.522731Z"
    },
    "slideshow": {
     "slide_type": "slide"
    }
   },
   "outputs": [],
   "source": [
    "markers = np.vstack((m1, m2, m3))\n",
    "basis = np.vstack((e1, e2, e3))"
   ]
  },
  {
   "cell_type": "markdown",
   "metadata": {
    "slideshow": {
     "slide_type": "slide"
    }
   },
   "source": [
    "Create figure in this page (inline):\n"
   ]
  },
  {
   "cell_type": "code",
   "execution_count": 6,
   "metadata": {
    "ExecuteTime": {
     "end_time": "2021-11-03T20:48:32.577014Z",
     "start_time": "2021-11-03T20:48:32.526033Z"
    },
    "slideshow": {
     "slide_type": "-"
    }
   },
   "outputs": [
    {
     "data": {
      "application/javascript": [
       "/* Put everything inside the global mpl namespace */\n",
       "/* global mpl */\n",
       "window.mpl = {};\n",
       "\n",
       "mpl.get_websocket_type = function () {\n",
       "    if (typeof WebSocket !== 'undefined') {\n",
       "        return WebSocket;\n",
       "    } else if (typeof MozWebSocket !== 'undefined') {\n",
       "        return MozWebSocket;\n",
       "    } else {\n",
       "        alert(\n",
       "            'Your browser does not have WebSocket support. ' +\n",
       "                'Please try Chrome, Safari or Firefox ≥ 6. ' +\n",
       "                'Firefox 4 and 5 are also supported but you ' +\n",
       "                'have to enable WebSockets in about:config.'\n",
       "        );\n",
       "    }\n",
       "};\n",
       "\n",
       "mpl.figure = function (figure_id, websocket, ondownload, parent_element) {\n",
       "    this.id = figure_id;\n",
       "\n",
       "    this.ws = websocket;\n",
       "\n",
       "    this.supports_binary = this.ws.binaryType !== undefined;\n",
       "\n",
       "    if (!this.supports_binary) {\n",
       "        var warnings = document.getElementById('mpl-warnings');\n",
       "        if (warnings) {\n",
       "            warnings.style.display = 'block';\n",
       "            warnings.textContent =\n",
       "                'This browser does not support binary websocket messages. ' +\n",
       "                'Performance may be slow.';\n",
       "        }\n",
       "    }\n",
       "\n",
       "    this.imageObj = new Image();\n",
       "\n",
       "    this.context = undefined;\n",
       "    this.message = undefined;\n",
       "    this.canvas = undefined;\n",
       "    this.rubberband_canvas = undefined;\n",
       "    this.rubberband_context = undefined;\n",
       "    this.format_dropdown = undefined;\n",
       "\n",
       "    this.image_mode = 'full';\n",
       "\n",
       "    this.root = document.createElement('div');\n",
       "    this.root.setAttribute('style', 'display: inline-block');\n",
       "    this._root_extra_style(this.root);\n",
       "\n",
       "    parent_element.appendChild(this.root);\n",
       "\n",
       "    this._init_header(this);\n",
       "    this._init_canvas(this);\n",
       "    this._init_toolbar(this);\n",
       "\n",
       "    var fig = this;\n",
       "\n",
       "    this.waiting = false;\n",
       "\n",
       "    this.ws.onopen = function () {\n",
       "        fig.send_message('supports_binary', { value: fig.supports_binary });\n",
       "        fig.send_message('send_image_mode', {});\n",
       "        if (fig.ratio !== 1) {\n",
       "            fig.send_message('set_dpi_ratio', { dpi_ratio: fig.ratio });\n",
       "        }\n",
       "        fig.send_message('refresh', {});\n",
       "    };\n",
       "\n",
       "    this.imageObj.onload = function () {\n",
       "        if (fig.image_mode === 'full') {\n",
       "            // Full images could contain transparency (where diff images\n",
       "            // almost always do), so we need to clear the canvas so that\n",
       "            // there is no ghosting.\n",
       "            fig.context.clearRect(0, 0, fig.canvas.width, fig.canvas.height);\n",
       "        }\n",
       "        fig.context.drawImage(fig.imageObj, 0, 0);\n",
       "    };\n",
       "\n",
       "    this.imageObj.onunload = function () {\n",
       "        fig.ws.close();\n",
       "    };\n",
       "\n",
       "    this.ws.onmessage = this._make_on_message_function(this);\n",
       "\n",
       "    this.ondownload = ondownload;\n",
       "};\n",
       "\n",
       "mpl.figure.prototype._init_header = function () {\n",
       "    var titlebar = document.createElement('div');\n",
       "    titlebar.classList =\n",
       "        'ui-dialog-titlebar ui-widget-header ui-corner-all ui-helper-clearfix';\n",
       "    var titletext = document.createElement('div');\n",
       "    titletext.classList = 'ui-dialog-title';\n",
       "    titletext.setAttribute(\n",
       "        'style',\n",
       "        'width: 100%; text-align: center; padding: 3px;'\n",
       "    );\n",
       "    titlebar.appendChild(titletext);\n",
       "    this.root.appendChild(titlebar);\n",
       "    this.header = titletext;\n",
       "};\n",
       "\n",
       "mpl.figure.prototype._canvas_extra_style = function (_canvas_div) {};\n",
       "\n",
       "mpl.figure.prototype._root_extra_style = function (_canvas_div) {};\n",
       "\n",
       "mpl.figure.prototype._init_canvas = function () {\n",
       "    var fig = this;\n",
       "\n",
       "    var canvas_div = (this.canvas_div = document.createElement('div'));\n",
       "    canvas_div.setAttribute(\n",
       "        'style',\n",
       "        'border: 1px solid #ddd;' +\n",
       "            'box-sizing: content-box;' +\n",
       "            'clear: both;' +\n",
       "            'min-height: 1px;' +\n",
       "            'min-width: 1px;' +\n",
       "            'outline: 0;' +\n",
       "            'overflow: hidden;' +\n",
       "            'position: relative;' +\n",
       "            'resize: both;'\n",
       "    );\n",
       "\n",
       "    function on_keyboard_event_closure(name) {\n",
       "        return function (event) {\n",
       "            return fig.key_event(event, name);\n",
       "        };\n",
       "    }\n",
       "\n",
       "    canvas_div.addEventListener(\n",
       "        'keydown',\n",
       "        on_keyboard_event_closure('key_press')\n",
       "    );\n",
       "    canvas_div.addEventListener(\n",
       "        'keyup',\n",
       "        on_keyboard_event_closure('key_release')\n",
       "    );\n",
       "\n",
       "    this._canvas_extra_style(canvas_div);\n",
       "    this.root.appendChild(canvas_div);\n",
       "\n",
       "    var canvas = (this.canvas = document.createElement('canvas'));\n",
       "    canvas.classList.add('mpl-canvas');\n",
       "    canvas.setAttribute('style', 'box-sizing: content-box;');\n",
       "\n",
       "    this.context = canvas.getContext('2d');\n",
       "\n",
       "    var backingStore =\n",
       "        this.context.backingStorePixelRatio ||\n",
       "        this.context.webkitBackingStorePixelRatio ||\n",
       "        this.context.mozBackingStorePixelRatio ||\n",
       "        this.context.msBackingStorePixelRatio ||\n",
       "        this.context.oBackingStorePixelRatio ||\n",
       "        this.context.backingStorePixelRatio ||\n",
       "        1;\n",
       "\n",
       "    this.ratio = (window.devicePixelRatio || 1) / backingStore;\n",
       "\n",
       "    var rubberband_canvas = (this.rubberband_canvas = document.createElement(\n",
       "        'canvas'\n",
       "    ));\n",
       "    rubberband_canvas.setAttribute(\n",
       "        'style',\n",
       "        'box-sizing: content-box; position: absolute; left: 0; top: 0; z-index: 1;'\n",
       "    );\n",
       "\n",
       "    // Apply a ponyfill if ResizeObserver is not implemented by browser.\n",
       "    if (this.ResizeObserver === undefined) {\n",
       "        if (window.ResizeObserver !== undefined) {\n",
       "            this.ResizeObserver = window.ResizeObserver;\n",
       "        } else {\n",
       "            var obs = _JSXTOOLS_RESIZE_OBSERVER({});\n",
       "            this.ResizeObserver = obs.ResizeObserver;\n",
       "        }\n",
       "    }\n",
       "\n",
       "    this.resizeObserverInstance = new this.ResizeObserver(function (entries) {\n",
       "        var nentries = entries.length;\n",
       "        for (var i = 0; i < nentries; i++) {\n",
       "            var entry = entries[i];\n",
       "            var width, height;\n",
       "            if (entry.contentBoxSize) {\n",
       "                if (entry.contentBoxSize instanceof Array) {\n",
       "                    // Chrome 84 implements new version of spec.\n",
       "                    width = entry.contentBoxSize[0].inlineSize;\n",
       "                    height = entry.contentBoxSize[0].blockSize;\n",
       "                } else {\n",
       "                    // Firefox implements old version of spec.\n",
       "                    width = entry.contentBoxSize.inlineSize;\n",
       "                    height = entry.contentBoxSize.blockSize;\n",
       "                }\n",
       "            } else {\n",
       "                // Chrome <84 implements even older version of spec.\n",
       "                width = entry.contentRect.width;\n",
       "                height = entry.contentRect.height;\n",
       "            }\n",
       "\n",
       "            // Keep the size of the canvas and rubber band canvas in sync with\n",
       "            // the canvas container.\n",
       "            if (entry.devicePixelContentBoxSize) {\n",
       "                // Chrome 84 implements new version of spec.\n",
       "                canvas.setAttribute(\n",
       "                    'width',\n",
       "                    entry.devicePixelContentBoxSize[0].inlineSize\n",
       "                );\n",
       "                canvas.setAttribute(\n",
       "                    'height',\n",
       "                    entry.devicePixelContentBoxSize[0].blockSize\n",
       "                );\n",
       "            } else {\n",
       "                canvas.setAttribute('width', width * fig.ratio);\n",
       "                canvas.setAttribute('height', height * fig.ratio);\n",
       "            }\n",
       "            canvas.setAttribute(\n",
       "                'style',\n",
       "                'width: ' + width + 'px; height: ' + height + 'px;'\n",
       "            );\n",
       "\n",
       "            rubberband_canvas.setAttribute('width', width);\n",
       "            rubberband_canvas.setAttribute('height', height);\n",
       "\n",
       "            // And update the size in Python. We ignore the initial 0/0 size\n",
       "            // that occurs as the element is placed into the DOM, which should\n",
       "            // otherwise not happen due to the minimum size styling.\n",
       "            if (fig.ws.readyState == 1 && width != 0 && height != 0) {\n",
       "                fig.request_resize(width, height);\n",
       "            }\n",
       "        }\n",
       "    });\n",
       "    this.resizeObserverInstance.observe(canvas_div);\n",
       "\n",
       "    function on_mouse_event_closure(name) {\n",
       "        return function (event) {\n",
       "            return fig.mouse_event(event, name);\n",
       "        };\n",
       "    }\n",
       "\n",
       "    rubberband_canvas.addEventListener(\n",
       "        'mousedown',\n",
       "        on_mouse_event_closure('button_press')\n",
       "    );\n",
       "    rubberband_canvas.addEventListener(\n",
       "        'mouseup',\n",
       "        on_mouse_event_closure('button_release')\n",
       "    );\n",
       "    rubberband_canvas.addEventListener(\n",
       "        'dblclick',\n",
       "        on_mouse_event_closure('dblclick')\n",
       "    );\n",
       "    // Throttle sequential mouse events to 1 every 20ms.\n",
       "    rubberband_canvas.addEventListener(\n",
       "        'mousemove',\n",
       "        on_mouse_event_closure('motion_notify')\n",
       "    );\n",
       "\n",
       "    rubberband_canvas.addEventListener(\n",
       "        'mouseenter',\n",
       "        on_mouse_event_closure('figure_enter')\n",
       "    );\n",
       "    rubberband_canvas.addEventListener(\n",
       "        'mouseleave',\n",
       "        on_mouse_event_closure('figure_leave')\n",
       "    );\n",
       "\n",
       "    canvas_div.addEventListener('wheel', function (event) {\n",
       "        if (event.deltaY < 0) {\n",
       "            event.step = 1;\n",
       "        } else {\n",
       "            event.step = -1;\n",
       "        }\n",
       "        on_mouse_event_closure('scroll')(event);\n",
       "    });\n",
       "\n",
       "    canvas_div.appendChild(canvas);\n",
       "    canvas_div.appendChild(rubberband_canvas);\n",
       "\n",
       "    this.rubberband_context = rubberband_canvas.getContext('2d');\n",
       "    this.rubberband_context.strokeStyle = '#000000';\n",
       "\n",
       "    this._resize_canvas = function (width, height, forward) {\n",
       "        if (forward) {\n",
       "            canvas_div.style.width = width + 'px';\n",
       "            canvas_div.style.height = height + 'px';\n",
       "        }\n",
       "    };\n",
       "\n",
       "    // Disable right mouse context menu.\n",
       "    this.rubberband_canvas.addEventListener('contextmenu', function (_e) {\n",
       "        event.preventDefault();\n",
       "        return false;\n",
       "    });\n",
       "\n",
       "    function set_focus() {\n",
       "        canvas.focus();\n",
       "        canvas_div.focus();\n",
       "    }\n",
       "\n",
       "    window.setTimeout(set_focus, 100);\n",
       "};\n",
       "\n",
       "mpl.figure.prototype._init_toolbar = function () {\n",
       "    var fig = this;\n",
       "\n",
       "    var toolbar = document.createElement('div');\n",
       "    toolbar.classList = 'mpl-toolbar';\n",
       "    this.root.appendChild(toolbar);\n",
       "\n",
       "    function on_click_closure(name) {\n",
       "        return function (_event) {\n",
       "            return fig.toolbar_button_onclick(name);\n",
       "        };\n",
       "    }\n",
       "\n",
       "    function on_mouseover_closure(tooltip) {\n",
       "        return function (event) {\n",
       "            if (!event.currentTarget.disabled) {\n",
       "                return fig.toolbar_button_onmouseover(tooltip);\n",
       "            }\n",
       "        };\n",
       "    }\n",
       "\n",
       "    fig.buttons = {};\n",
       "    var buttonGroup = document.createElement('div');\n",
       "    buttonGroup.classList = 'mpl-button-group';\n",
       "    for (var toolbar_ind in mpl.toolbar_items) {\n",
       "        var name = mpl.toolbar_items[toolbar_ind][0];\n",
       "        var tooltip = mpl.toolbar_items[toolbar_ind][1];\n",
       "        var image = mpl.toolbar_items[toolbar_ind][2];\n",
       "        var method_name = mpl.toolbar_items[toolbar_ind][3];\n",
       "\n",
       "        if (!name) {\n",
       "            /* Instead of a spacer, we start a new button group. */\n",
       "            if (buttonGroup.hasChildNodes()) {\n",
       "                toolbar.appendChild(buttonGroup);\n",
       "            }\n",
       "            buttonGroup = document.createElement('div');\n",
       "            buttonGroup.classList = 'mpl-button-group';\n",
       "            continue;\n",
       "        }\n",
       "\n",
       "        var button = (fig.buttons[name] = document.createElement('button'));\n",
       "        button.classList = 'mpl-widget';\n",
       "        button.setAttribute('role', 'button');\n",
       "        button.setAttribute('aria-disabled', 'false');\n",
       "        button.addEventListener('click', on_click_closure(method_name));\n",
       "        button.addEventListener('mouseover', on_mouseover_closure(tooltip));\n",
       "\n",
       "        var icon_img = document.createElement('img');\n",
       "        icon_img.src = '_images/' + image + '.png';\n",
       "        icon_img.srcset = '_images/' + image + '_large.png 2x';\n",
       "        icon_img.alt = tooltip;\n",
       "        button.appendChild(icon_img);\n",
       "\n",
       "        buttonGroup.appendChild(button);\n",
       "    }\n",
       "\n",
       "    if (buttonGroup.hasChildNodes()) {\n",
       "        toolbar.appendChild(buttonGroup);\n",
       "    }\n",
       "\n",
       "    var fmt_picker = document.createElement('select');\n",
       "    fmt_picker.classList = 'mpl-widget';\n",
       "    toolbar.appendChild(fmt_picker);\n",
       "    this.format_dropdown = fmt_picker;\n",
       "\n",
       "    for (var ind in mpl.extensions) {\n",
       "        var fmt = mpl.extensions[ind];\n",
       "        var option = document.createElement('option');\n",
       "        option.selected = fmt === mpl.default_extension;\n",
       "        option.innerHTML = fmt;\n",
       "        fmt_picker.appendChild(option);\n",
       "    }\n",
       "\n",
       "    var status_bar = document.createElement('span');\n",
       "    status_bar.classList = 'mpl-message';\n",
       "    toolbar.appendChild(status_bar);\n",
       "    this.message = status_bar;\n",
       "};\n",
       "\n",
       "mpl.figure.prototype.request_resize = function (x_pixels, y_pixels) {\n",
       "    // Request matplotlib to resize the figure. Matplotlib will then trigger a resize in the client,\n",
       "    // which will in turn request a refresh of the image.\n",
       "    this.send_message('resize', { width: x_pixels, height: y_pixels });\n",
       "};\n",
       "\n",
       "mpl.figure.prototype.send_message = function (type, properties) {\n",
       "    properties['type'] = type;\n",
       "    properties['figure_id'] = this.id;\n",
       "    this.ws.send(JSON.stringify(properties));\n",
       "};\n",
       "\n",
       "mpl.figure.prototype.send_draw_message = function () {\n",
       "    if (!this.waiting) {\n",
       "        this.waiting = true;\n",
       "        this.ws.send(JSON.stringify({ type: 'draw', figure_id: this.id }));\n",
       "    }\n",
       "};\n",
       "\n",
       "mpl.figure.prototype.handle_save = function (fig, _msg) {\n",
       "    var format_dropdown = fig.format_dropdown;\n",
       "    var format = format_dropdown.options[format_dropdown.selectedIndex].value;\n",
       "    fig.ondownload(fig, format);\n",
       "};\n",
       "\n",
       "mpl.figure.prototype.handle_resize = function (fig, msg) {\n",
       "    var size = msg['size'];\n",
       "    if (size[0] !== fig.canvas.width || size[1] !== fig.canvas.height) {\n",
       "        fig._resize_canvas(size[0], size[1], msg['forward']);\n",
       "        fig.send_message('refresh', {});\n",
       "    }\n",
       "};\n",
       "\n",
       "mpl.figure.prototype.handle_rubberband = function (fig, msg) {\n",
       "    var x0 = msg['x0'] / fig.ratio;\n",
       "    var y0 = (fig.canvas.height - msg['y0']) / fig.ratio;\n",
       "    var x1 = msg['x1'] / fig.ratio;\n",
       "    var y1 = (fig.canvas.height - msg['y1']) / fig.ratio;\n",
       "    x0 = Math.floor(x0) + 0.5;\n",
       "    y0 = Math.floor(y0) + 0.5;\n",
       "    x1 = Math.floor(x1) + 0.5;\n",
       "    y1 = Math.floor(y1) + 0.5;\n",
       "    var min_x = Math.min(x0, x1);\n",
       "    var min_y = Math.min(y0, y1);\n",
       "    var width = Math.abs(x1 - x0);\n",
       "    var height = Math.abs(y1 - y0);\n",
       "\n",
       "    fig.rubberband_context.clearRect(\n",
       "        0,\n",
       "        0,\n",
       "        fig.canvas.width / fig.ratio,\n",
       "        fig.canvas.height / fig.ratio\n",
       "    );\n",
       "\n",
       "    fig.rubberband_context.strokeRect(min_x, min_y, width, height);\n",
       "};\n",
       "\n",
       "mpl.figure.prototype.handle_figure_label = function (fig, msg) {\n",
       "    // Updates the figure title.\n",
       "    fig.header.textContent = msg['label'];\n",
       "};\n",
       "\n",
       "mpl.figure.prototype.handle_cursor = function (fig, msg) {\n",
       "    var cursor = msg['cursor'];\n",
       "    switch (cursor) {\n",
       "        case 0:\n",
       "            cursor = 'pointer';\n",
       "            break;\n",
       "        case 1:\n",
       "            cursor = 'default';\n",
       "            break;\n",
       "        case 2:\n",
       "            cursor = 'crosshair';\n",
       "            break;\n",
       "        case 3:\n",
       "            cursor = 'move';\n",
       "            break;\n",
       "    }\n",
       "    fig.rubberband_canvas.style.cursor = cursor;\n",
       "};\n",
       "\n",
       "mpl.figure.prototype.handle_message = function (fig, msg) {\n",
       "    fig.message.textContent = msg['message'];\n",
       "};\n",
       "\n",
       "mpl.figure.prototype.handle_draw = function (fig, _msg) {\n",
       "    // Request the server to send over a new figure.\n",
       "    fig.send_draw_message();\n",
       "};\n",
       "\n",
       "mpl.figure.prototype.handle_image_mode = function (fig, msg) {\n",
       "    fig.image_mode = msg['mode'];\n",
       "};\n",
       "\n",
       "mpl.figure.prototype.handle_history_buttons = function (fig, msg) {\n",
       "    for (var key in msg) {\n",
       "        if (!(key in fig.buttons)) {\n",
       "            continue;\n",
       "        }\n",
       "        fig.buttons[key].disabled = !msg[key];\n",
       "        fig.buttons[key].setAttribute('aria-disabled', !msg[key]);\n",
       "    }\n",
       "};\n",
       "\n",
       "mpl.figure.prototype.handle_navigate_mode = function (fig, msg) {\n",
       "    if (msg['mode'] === 'PAN') {\n",
       "        fig.buttons['Pan'].classList.add('active');\n",
       "        fig.buttons['Zoom'].classList.remove('active');\n",
       "    } else if (msg['mode'] === 'ZOOM') {\n",
       "        fig.buttons['Pan'].classList.remove('active');\n",
       "        fig.buttons['Zoom'].classList.add('active');\n",
       "    } else {\n",
       "        fig.buttons['Pan'].classList.remove('active');\n",
       "        fig.buttons['Zoom'].classList.remove('active');\n",
       "    }\n",
       "};\n",
       "\n",
       "mpl.figure.prototype.updated_canvas_event = function () {\n",
       "    // Called whenever the canvas gets updated.\n",
       "    this.send_message('ack', {});\n",
       "};\n",
       "\n",
       "// A function to construct a web socket function for onmessage handling.\n",
       "// Called in the figure constructor.\n",
       "mpl.figure.prototype._make_on_message_function = function (fig) {\n",
       "    return function socket_on_message(evt) {\n",
       "        if (evt.data instanceof Blob) {\n",
       "            var img = evt.data;\n",
       "            if (img.type !== 'image/png') {\n",
       "                /* FIXME: We get \"Resource interpreted as Image but\n",
       "                 * transferred with MIME type text/plain:\" errors on\n",
       "                 * Chrome.  But how to set the MIME type?  It doesn't seem\n",
       "                 * to be part of the websocket stream */\n",
       "                img.type = 'image/png';\n",
       "            }\n",
       "\n",
       "            /* Free the memory for the previous frames */\n",
       "            if (fig.imageObj.src) {\n",
       "                (window.URL || window.webkitURL).revokeObjectURL(\n",
       "                    fig.imageObj.src\n",
       "                );\n",
       "            }\n",
       "\n",
       "            fig.imageObj.src = (window.URL || window.webkitURL).createObjectURL(\n",
       "                img\n",
       "            );\n",
       "            fig.updated_canvas_event();\n",
       "            fig.waiting = false;\n",
       "            return;\n",
       "        } else if (\n",
       "            typeof evt.data === 'string' &&\n",
       "            evt.data.slice(0, 21) === 'data:image/png;base64'\n",
       "        ) {\n",
       "            fig.imageObj.src = evt.data;\n",
       "            fig.updated_canvas_event();\n",
       "            fig.waiting = false;\n",
       "            return;\n",
       "        }\n",
       "\n",
       "        var msg = JSON.parse(evt.data);\n",
       "        var msg_type = msg['type'];\n",
       "\n",
       "        // Call the  \"handle_{type}\" callback, which takes\n",
       "        // the figure and JSON message as its only arguments.\n",
       "        try {\n",
       "            var callback = fig['handle_' + msg_type];\n",
       "        } catch (e) {\n",
       "            console.log(\n",
       "                \"No handler for the '\" + msg_type + \"' message type: \",\n",
       "                msg\n",
       "            );\n",
       "            return;\n",
       "        }\n",
       "\n",
       "        if (callback) {\n",
       "            try {\n",
       "                // console.log(\"Handling '\" + msg_type + \"' message: \", msg);\n",
       "                callback(fig, msg);\n",
       "            } catch (e) {\n",
       "                console.log(\n",
       "                    \"Exception inside the 'handler_\" + msg_type + \"' callback:\",\n",
       "                    e,\n",
       "                    e.stack,\n",
       "                    msg\n",
       "                );\n",
       "            }\n",
       "        }\n",
       "    };\n",
       "};\n",
       "\n",
       "// from http://stackoverflow.com/questions/1114465/getting-mouse-location-in-canvas\n",
       "mpl.findpos = function (e) {\n",
       "    //this section is from http://www.quirksmode.org/js/events_properties.html\n",
       "    var targ;\n",
       "    if (!e) {\n",
       "        e = window.event;\n",
       "    }\n",
       "    if (e.target) {\n",
       "        targ = e.target;\n",
       "    } else if (e.srcElement) {\n",
       "        targ = e.srcElement;\n",
       "    }\n",
       "    if (targ.nodeType === 3) {\n",
       "        // defeat Safari bug\n",
       "        targ = targ.parentNode;\n",
       "    }\n",
       "\n",
       "    // pageX,Y are the mouse positions relative to the document\n",
       "    var boundingRect = targ.getBoundingClientRect();\n",
       "    var x = e.pageX - (boundingRect.left + document.body.scrollLeft);\n",
       "    var y = e.pageY - (boundingRect.top + document.body.scrollTop);\n",
       "\n",
       "    return { x: x, y: y };\n",
       "};\n",
       "\n",
       "/*\n",
       " * return a copy of an object with only non-object keys\n",
       " * we need this to avoid circular references\n",
       " * http://stackoverflow.com/a/24161582/3208463\n",
       " */\n",
       "function simpleKeys(original) {\n",
       "    return Object.keys(original).reduce(function (obj, key) {\n",
       "        if (typeof original[key] !== 'object') {\n",
       "            obj[key] = original[key];\n",
       "        }\n",
       "        return obj;\n",
       "    }, {});\n",
       "}\n",
       "\n",
       "mpl.figure.prototype.mouse_event = function (event, name) {\n",
       "    var canvas_pos = mpl.findpos(event);\n",
       "\n",
       "    if (name === 'button_press') {\n",
       "        this.canvas.focus();\n",
       "        this.canvas_div.focus();\n",
       "    }\n",
       "\n",
       "    var x = canvas_pos.x * this.ratio;\n",
       "    var y = canvas_pos.y * this.ratio;\n",
       "\n",
       "    this.send_message(name, {\n",
       "        x: x,\n",
       "        y: y,\n",
       "        button: event.button,\n",
       "        step: event.step,\n",
       "        guiEvent: simpleKeys(event),\n",
       "    });\n",
       "\n",
       "    /* This prevents the web browser from automatically changing to\n",
       "     * the text insertion cursor when the button is pressed.  We want\n",
       "     * to control all of the cursor setting manually through the\n",
       "     * 'cursor' event from matplotlib */\n",
       "    event.preventDefault();\n",
       "    return false;\n",
       "};\n",
       "\n",
       "mpl.figure.prototype._key_event_extra = function (_event, _name) {\n",
       "    // Handle any extra behaviour associated with a key event\n",
       "};\n",
       "\n",
       "mpl.figure.prototype.key_event = function (event, name) {\n",
       "    // Prevent repeat events\n",
       "    if (name === 'key_press') {\n",
       "        if (event.key === this._key) {\n",
       "            return;\n",
       "        } else {\n",
       "            this._key = event.key;\n",
       "        }\n",
       "    }\n",
       "    if (name === 'key_release') {\n",
       "        this._key = null;\n",
       "    }\n",
       "\n",
       "    var value = '';\n",
       "    if (event.ctrlKey && event.key !== 'Control') {\n",
       "        value += 'ctrl+';\n",
       "    }\n",
       "    else if (event.altKey && event.key !== 'Alt') {\n",
       "        value += 'alt+';\n",
       "    }\n",
       "    else if (event.shiftKey && event.key !== 'Shift') {\n",
       "        value += 'shift+';\n",
       "    }\n",
       "\n",
       "    value += 'k' + event.key;\n",
       "\n",
       "    this._key_event_extra(event, name);\n",
       "\n",
       "    this.send_message(name, { key: value, guiEvent: simpleKeys(event) });\n",
       "    return false;\n",
       "};\n",
       "\n",
       "mpl.figure.prototype.toolbar_button_onclick = function (name) {\n",
       "    if (name === 'download') {\n",
       "        this.handle_save(this, null);\n",
       "    } else {\n",
       "        this.send_message('toolbar_button', { name: name });\n",
       "    }\n",
       "};\n",
       "\n",
       "mpl.figure.prototype.toolbar_button_onmouseover = function (tooltip) {\n",
       "    this.message.textContent = tooltip;\n",
       "};\n",
       "\n",
       "///////////////// REMAINING CONTENT GENERATED BY embed_js.py /////////////////\n",
       "// prettier-ignore\n",
       "var _JSXTOOLS_RESIZE_OBSERVER=function(A){var t,i=new WeakMap,n=new WeakMap,a=new WeakMap,r=new WeakMap,o=new Set;function s(e){if(!(this instanceof s))throw new TypeError(\"Constructor requires 'new' operator\");i.set(this,e)}function h(){throw new TypeError(\"Function is not a constructor\")}function c(e,t,i,n){e=0 in arguments?Number(arguments[0]):0,t=1 in arguments?Number(arguments[1]):0,i=2 in arguments?Number(arguments[2]):0,n=3 in arguments?Number(arguments[3]):0,this.right=(this.x=this.left=e)+(this.width=i),this.bottom=(this.y=this.top=t)+(this.height=n),Object.freeze(this)}function d(){t=requestAnimationFrame(d);var s=new WeakMap,p=new Set;o.forEach((function(t){r.get(t).forEach((function(i){var r=t instanceof window.SVGElement,o=a.get(t),d=r?0:parseFloat(o.paddingTop),f=r?0:parseFloat(o.paddingRight),l=r?0:parseFloat(o.paddingBottom),u=r?0:parseFloat(o.paddingLeft),g=r?0:parseFloat(o.borderTopWidth),m=r?0:parseFloat(o.borderRightWidth),w=r?0:parseFloat(o.borderBottomWidth),b=u+f,F=d+l,v=(r?0:parseFloat(o.borderLeftWidth))+m,W=g+w,y=r?0:t.offsetHeight-W-t.clientHeight,E=r?0:t.offsetWidth-v-t.clientWidth,R=b+v,z=F+W,M=r?t.width:parseFloat(o.width)-R-E,O=r?t.height:parseFloat(o.height)-z-y;if(n.has(t)){var k=n.get(t);if(k[0]===M&&k[1]===O)return}n.set(t,[M,O]);var S=Object.create(h.prototype);S.target=t,S.contentRect=new c(u,d,M,O),s.has(i)||(s.set(i,[]),p.add(i)),s.get(i).push(S)}))})),p.forEach((function(e){i.get(e).call(e,s.get(e),e)}))}return s.prototype.observe=function(i){if(i instanceof window.Element){r.has(i)||(r.set(i,new Set),o.add(i),a.set(i,window.getComputedStyle(i)));var n=r.get(i);n.has(this)||n.add(this),cancelAnimationFrame(t),t=requestAnimationFrame(d)}},s.prototype.unobserve=function(i){if(i instanceof window.Element&&r.has(i)){var n=r.get(i);n.has(this)&&(n.delete(this),n.size||(r.delete(i),o.delete(i))),n.size||r.delete(i),o.size||cancelAnimationFrame(t)}},A.DOMRectReadOnly=c,A.ResizeObserver=s,A.ResizeObserverEntry=h,A}; // eslint-disable-line\n",
       "mpl.toolbar_items = [[\"Home\", \"Reset original view\", \"fa fa-home icon-home\", \"home\"], [\"Back\", \"Back to previous view\", \"fa fa-arrow-left icon-arrow-left\", \"back\"], [\"Forward\", \"Forward to next view\", \"fa fa-arrow-right icon-arrow-right\", \"forward\"], [\"\", \"\", \"\", \"\"], [\"Pan\", \"Left button pans, Right button zooms\\nx/y fixes axis, CTRL fixes aspect\", \"fa fa-arrows icon-move\", \"pan\"], [\"Zoom\", \"Zoom to rectangle\\nx/y fixes axis, CTRL fixes aspect\", \"fa fa-square-o icon-check-empty\", \"zoom\"], [\"\", \"\", \"\", \"\"], [\"Download\", \"Download plot\", \"fa fa-floppy-o icon-save\", \"download\"]];\n",
       "\n",
       "mpl.extensions = [\"eps\", \"jpeg\", \"pgf\", \"pdf\", \"png\", \"ps\", \"raw\", \"svg\", \"tif\"];\n",
       "\n",
       "mpl.default_extension = \"png\";/* global mpl */\n",
       "\n",
       "var comm_websocket_adapter = function (comm) {\n",
       "    // Create a \"websocket\"-like object which calls the given IPython comm\n",
       "    // object with the appropriate methods. Currently this is a non binary\n",
       "    // socket, so there is still some room for performance tuning.\n",
       "    var ws = {};\n",
       "\n",
       "    ws.binaryType = comm.kernel.ws.binaryType;\n",
       "    ws.readyState = comm.kernel.ws.readyState;\n",
       "    function updateReadyState(_event) {\n",
       "        if (comm.kernel.ws) {\n",
       "            ws.readyState = comm.kernel.ws.readyState;\n",
       "        } else {\n",
       "            ws.readyState = 3; // Closed state.\n",
       "        }\n",
       "    }\n",
       "    comm.kernel.ws.addEventListener('open', updateReadyState);\n",
       "    comm.kernel.ws.addEventListener('close', updateReadyState);\n",
       "    comm.kernel.ws.addEventListener('error', updateReadyState);\n",
       "\n",
       "    ws.close = function () {\n",
       "        comm.close();\n",
       "    };\n",
       "    ws.send = function (m) {\n",
       "        //console.log('sending', m);\n",
       "        comm.send(m);\n",
       "    };\n",
       "    // Register the callback with on_msg.\n",
       "    comm.on_msg(function (msg) {\n",
       "        //console.log('receiving', msg['content']['data'], msg);\n",
       "        var data = msg['content']['data'];\n",
       "        if (data['blob'] !== undefined) {\n",
       "            data = {\n",
       "                data: new Blob(msg['buffers'], { type: data['blob'] }),\n",
       "            };\n",
       "        }\n",
       "        // Pass the mpl event to the overridden (by mpl) onmessage function.\n",
       "        ws.onmessage(data);\n",
       "    });\n",
       "    return ws;\n",
       "};\n",
       "\n",
       "mpl.mpl_figure_comm = function (comm, msg) {\n",
       "    // This is the function which gets called when the mpl process\n",
       "    // starts-up an IPython Comm through the \"matplotlib\" channel.\n",
       "\n",
       "    var id = msg.content.data.id;\n",
       "    // Get hold of the div created by the display call when the Comm\n",
       "    // socket was opened in Python.\n",
       "    var element = document.getElementById(id);\n",
       "    var ws_proxy = comm_websocket_adapter(comm);\n",
       "\n",
       "    function ondownload(figure, _format) {\n",
       "        window.open(figure.canvas.toDataURL());\n",
       "    }\n",
       "\n",
       "    var fig = new mpl.figure(id, ws_proxy, ondownload, element);\n",
       "\n",
       "    // Call onopen now - mpl needs it, as it is assuming we've passed it a real\n",
       "    // web socket which is closed, not our websocket->open comm proxy.\n",
       "    ws_proxy.onopen();\n",
       "\n",
       "    fig.parent_element = element;\n",
       "    fig.cell_info = mpl.find_output_cell(\"<div id='\" + id + \"'></div>\");\n",
       "    if (!fig.cell_info) {\n",
       "        console.error('Failed to find cell for figure', id, fig);\n",
       "        return;\n",
       "    }\n",
       "    fig.cell_info[0].output_area.element.on(\n",
       "        'cleared',\n",
       "        { fig: fig },\n",
       "        fig._remove_fig_handler\n",
       "    );\n",
       "};\n",
       "\n",
       "mpl.figure.prototype.handle_close = function (fig, msg) {\n",
       "    var width = fig.canvas.width / fig.ratio;\n",
       "    fig.cell_info[0].output_area.element.off(\n",
       "        'cleared',\n",
       "        fig._remove_fig_handler\n",
       "    );\n",
       "    fig.resizeObserverInstance.unobserve(fig.canvas_div);\n",
       "\n",
       "    // Update the output cell to use the data from the current canvas.\n",
       "    fig.push_to_output();\n",
       "    var dataURL = fig.canvas.toDataURL();\n",
       "    // Re-enable the keyboard manager in IPython - without this line, in FF,\n",
       "    // the notebook keyboard shortcuts fail.\n",
       "    IPython.keyboard_manager.enable();\n",
       "    fig.parent_element.innerHTML =\n",
       "        '<img src=\"' + dataURL + '\" width=\"' + width + '\">';\n",
       "    fig.close_ws(fig, msg);\n",
       "};\n",
       "\n",
       "mpl.figure.prototype.close_ws = function (fig, msg) {\n",
       "    fig.send_message('closing', msg);\n",
       "    // fig.ws.close()\n",
       "};\n",
       "\n",
       "mpl.figure.prototype.push_to_output = function (_remove_interactive) {\n",
       "    // Turn the data on the canvas into data in the output cell.\n",
       "    var width = this.canvas.width / this.ratio;\n",
       "    var dataURL = this.canvas.toDataURL();\n",
       "    this.cell_info[1]['text/html'] =\n",
       "        '<img src=\"' + dataURL + '\" width=\"' + width + '\">';\n",
       "};\n",
       "\n",
       "mpl.figure.prototype.updated_canvas_event = function () {\n",
       "    // Tell IPython that the notebook contents must change.\n",
       "    IPython.notebook.set_dirty(true);\n",
       "    this.send_message('ack', {});\n",
       "    var fig = this;\n",
       "    // Wait a second, then push the new image to the DOM so\n",
       "    // that it is saved nicely (might be nice to debounce this).\n",
       "    setTimeout(function () {\n",
       "        fig.push_to_output();\n",
       "    }, 1000);\n",
       "};\n",
       "\n",
       "mpl.figure.prototype._init_toolbar = function () {\n",
       "    var fig = this;\n",
       "\n",
       "    var toolbar = document.createElement('div');\n",
       "    toolbar.classList = 'btn-toolbar';\n",
       "    this.root.appendChild(toolbar);\n",
       "\n",
       "    function on_click_closure(name) {\n",
       "        return function (_event) {\n",
       "            return fig.toolbar_button_onclick(name);\n",
       "        };\n",
       "    }\n",
       "\n",
       "    function on_mouseover_closure(tooltip) {\n",
       "        return function (event) {\n",
       "            if (!event.currentTarget.disabled) {\n",
       "                return fig.toolbar_button_onmouseover(tooltip);\n",
       "            }\n",
       "        };\n",
       "    }\n",
       "\n",
       "    fig.buttons = {};\n",
       "    var buttonGroup = document.createElement('div');\n",
       "    buttonGroup.classList = 'btn-group';\n",
       "    var button;\n",
       "    for (var toolbar_ind in mpl.toolbar_items) {\n",
       "        var name = mpl.toolbar_items[toolbar_ind][0];\n",
       "        var tooltip = mpl.toolbar_items[toolbar_ind][1];\n",
       "        var image = mpl.toolbar_items[toolbar_ind][2];\n",
       "        var method_name = mpl.toolbar_items[toolbar_ind][3];\n",
       "\n",
       "        if (!name) {\n",
       "            /* Instead of a spacer, we start a new button group. */\n",
       "            if (buttonGroup.hasChildNodes()) {\n",
       "                toolbar.appendChild(buttonGroup);\n",
       "            }\n",
       "            buttonGroup = document.createElement('div');\n",
       "            buttonGroup.classList = 'btn-group';\n",
       "            continue;\n",
       "        }\n",
       "\n",
       "        button = fig.buttons[name] = document.createElement('button');\n",
       "        button.classList = 'btn btn-default';\n",
       "        button.href = '#';\n",
       "        button.title = name;\n",
       "        button.innerHTML = '<i class=\"fa ' + image + ' fa-lg\"></i>';\n",
       "        button.addEventListener('click', on_click_closure(method_name));\n",
       "        button.addEventListener('mouseover', on_mouseover_closure(tooltip));\n",
       "        buttonGroup.appendChild(button);\n",
       "    }\n",
       "\n",
       "    if (buttonGroup.hasChildNodes()) {\n",
       "        toolbar.appendChild(buttonGroup);\n",
       "    }\n",
       "\n",
       "    // Add the status bar.\n",
       "    var status_bar = document.createElement('span');\n",
       "    status_bar.classList = 'mpl-message pull-right';\n",
       "    toolbar.appendChild(status_bar);\n",
       "    this.message = status_bar;\n",
       "\n",
       "    // Add the close button to the window.\n",
       "    var buttongrp = document.createElement('div');\n",
       "    buttongrp.classList = 'btn-group inline pull-right';\n",
       "    button = document.createElement('button');\n",
       "    button.classList = 'btn btn-mini btn-primary';\n",
       "    button.href = '#';\n",
       "    button.title = 'Stop Interaction';\n",
       "    button.innerHTML = '<i class=\"fa fa-power-off icon-remove icon-large\"></i>';\n",
       "    button.addEventListener('click', function (_evt) {\n",
       "        fig.handle_close(fig, {});\n",
       "    });\n",
       "    button.addEventListener(\n",
       "        'mouseover',\n",
       "        on_mouseover_closure('Stop Interaction')\n",
       "    );\n",
       "    buttongrp.appendChild(button);\n",
       "    var titlebar = this.root.querySelector('.ui-dialog-titlebar');\n",
       "    titlebar.insertBefore(buttongrp, titlebar.firstChild);\n",
       "};\n",
       "\n",
       "mpl.figure.prototype._remove_fig_handler = function (event) {\n",
       "    var fig = event.data.fig;\n",
       "    if (event.target !== this) {\n",
       "        // Ignore bubbled events from children.\n",
       "        return;\n",
       "    }\n",
       "    fig.close_ws(fig, {});\n",
       "};\n",
       "\n",
       "mpl.figure.prototype._root_extra_style = function (el) {\n",
       "    el.style.boxSizing = 'content-box'; // override notebook setting of border-box.\n",
       "};\n",
       "\n",
       "mpl.figure.prototype._canvas_extra_style = function (el) {\n",
       "    // this is important to make the div 'focusable\n",
       "    el.setAttribute('tabindex', 0);\n",
       "    // reach out to IPython and tell the keyboard manager to turn it's self\n",
       "    // off when our div gets focus\n",
       "\n",
       "    // location in version 3\n",
       "    if (IPython.notebook.keyboard_manager) {\n",
       "        IPython.notebook.keyboard_manager.register_events(el);\n",
       "    } else {\n",
       "        // location in version 2\n",
       "        IPython.keyboard_manager.register_events(el);\n",
       "    }\n",
       "};\n",
       "\n",
       "mpl.figure.prototype._key_event_extra = function (event, _name) {\n",
       "    var manager = IPython.notebook.keyboard_manager;\n",
       "    if (!manager) {\n",
       "        manager = IPython.keyboard_manager;\n",
       "    }\n",
       "\n",
       "    // Check for shift+enter\n",
       "    if (event.shiftKey && event.which === 13) {\n",
       "        this.canvas_div.blur();\n",
       "        // select the cell after this one\n",
       "        var index = IPython.notebook.find_cell_index(this.cell_info[0]);\n",
       "        IPython.notebook.select(index + 1);\n",
       "    }\n",
       "};\n",
       "\n",
       "mpl.figure.prototype.handle_save = function (fig, _msg) {\n",
       "    fig.ondownload(fig, null);\n",
       "};\n",
       "\n",
       "mpl.find_output_cell = function (html_output) {\n",
       "    // Return the cell and output element which can be found *uniquely* in the notebook.\n",
       "    // Note - this is a bit hacky, but it is done because the \"notebook_saving.Notebook\"\n",
       "    // IPython event is triggered only after the cells have been serialised, which for\n",
       "    // our purposes (turning an active figure into a static one), is too late.\n",
       "    var cells = IPython.notebook.get_cells();\n",
       "    var ncells = cells.length;\n",
       "    for (var i = 0; i < ncells; i++) {\n",
       "        var cell = cells[i];\n",
       "        if (cell.cell_type === 'code') {\n",
       "            for (var j = 0; j < cell.output_area.outputs.length; j++) {\n",
       "                var data = cell.output_area.outputs[j];\n",
       "                if (data.data) {\n",
       "                    // IPython >= 3 moved mimebundle to data attribute of output\n",
       "                    data = data.data;\n",
       "                }\n",
       "                if (data['text/html'] === html_output) {\n",
       "                    return [cell, data, j];\n",
       "                }\n",
       "            }\n",
       "        }\n",
       "    }\n",
       "};\n",
       "\n",
       "// Register the function which deals with the matplotlib target/channel.\n",
       "// The kernel may be null if the page has been refreshed.\n",
       "if (IPython.notebook.kernel !== null) {\n",
       "    IPython.notebook.kernel.comm_manager.register_target(\n",
       "        'matplotlib',\n",
       "        mpl.mpl_figure_comm\n",
       "    );\n",
       "}\n"
      ],
      "text/plain": [
       "<IPython.core.display.Javascript object>"
      ]
     },
     "metadata": {},
     "output_type": "display_data"
    },
    {
     "data": {
      "text/html": [
       "<img src=\"data:image/png;base64,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\" width=\"500\">"
      ],
      "text/plain": [
       "<IPython.core.display.HTML object>"
      ]
     },
     "metadata": {},
     "output_type": "display_data"
    }
   ],
   "source": [
    "%matplotlib notebook\n",
    "\n",
    "CCS(xyz=[], Oijk=origin, ijk=basis, point=markers, vector=True);"
   ]
  },
  {
   "cell_type": "markdown",
   "metadata": {
    "slideshow": {
     "slide_type": "slide"
    }
   },
   "source": [
    "### Gram–Schmidt process\n",
    "\n",
    "Another classical procedure in mathematics, employing the scalar product, is known as the [Gram–Schmidt process](http://en.wikipedia.org/wiki/Gram%E2%80%93Schmidt_process). See the notebook [Scalar and Vector](http://nbviewer.jupyter.org/github/bmclab/BMC/blob/master/notebooks/ScalarVector.ipynb) for a demonstration of the Gram–Schmidt process and how to implement it in Python.\n",
    "\n",
    "The [Gram–Schmidt process](http://en.wikipedia.org/wiki/Gram%E2%80%93Schmidt_process) is a method for orthonormalizing (orthogonal unit versors) a set of vectors using the scalar product. The Gram–Schmidt process works for any number of vectors.   \n",
    "\n",
    "For example, given three vectors, <span class=\"notranslate\">\n",
    "$\\overrightarrow{\\mathbf{a}}, \\overrightarrow{\\mathbf{b}}, \\overrightarrow{\\mathbf{c}}$</span>, in the 3D space, a basis $\\{\\hat{e}_a, \\hat{e}_b, \\hat{e}_c\\}$ can be found using the Gram–Schmidt process by: "
   ]
  },
  {
   "cell_type": "markdown",
   "metadata": {
    "slideshow": {
     "slide_type": "slide"
    }
   },
   "source": [
    "The first versor is in the <span class=\"notranslate\">\n",
    "$\\overrightarrow{\\mathbf{a}}$</span> direction (or in the direction of any of the other vectors):  \n",
    "\n",
    "<span class=\"notranslate\">\n",
    "\\begin{equation}\n",
    "\\hat{e}_a = \\frac{\\overrightarrow{\\mathbf{a}}}{||\\overrightarrow{\\mathbf{a}}||}\n",
    "\\end{equation}\n",
    "</span>"
   ]
  },
  {
   "cell_type": "markdown",
   "metadata": {
    "slideshow": {
     "slide_type": "slide"
    }
   },
   "source": [
    "The second versor, orthogonal to $\\hat{e}_a$, can be found considering we can express vector $\\overrightarrow{\\mathbf{b}}$ in terms of the $\\hat{e}_a$ direction as:  \n",
    "\n",
    "$$ \\overrightarrow{\\mathbf{b}} = \\overrightarrow{\\mathbf{b}}^\\| + \\overrightarrow{\\mathbf{b}}^\\bot $$\n",
    "\n",
    "Then:\n",
    "\n",
    "$$ \\overrightarrow{\\mathbf{b}}^\\bot = \\overrightarrow{\\mathbf{b}} - \\overrightarrow{\\mathbf{b}}^\\| = \\overrightarrow{\\mathbf{b}} - (\\overrightarrow{\\mathbf{b}} \\cdot \\hat{e}_a ) \\hat{e}_a $$\n",
    "\n",
    "Finally:\n",
    "\n",
    "$$ \\hat{e}_b = \\frac{\\overrightarrow{\\mathbf{b}}^\\bot}{||\\overrightarrow{\\mathbf{b}}^\\bot||} $$"
   ]
  },
  {
   "cell_type": "markdown",
   "metadata": {
    "slideshow": {
     "slide_type": "slide"
    }
   },
   "source": [
    "The third versor, orthogonal to $\\{\\hat{e}_a, \\hat{e}_b\\}$, can be found expressing the vector $\\overrightarrow{\\mathbf{C}}$ in terms of $\\hat{e}_a$ and $\\hat{e}_b$ directions as:\n",
    "\n",
    "$$ \\overrightarrow{\\mathbf{c}} = \\overrightarrow{\\mathbf{c}}^\\| + \\overrightarrow{\\mathbf{c}}^\\bot $$\n",
    "\n",
    "Then:\n",
    "\n",
    "$$ \\overrightarrow{\\mathbf{c}}^\\bot = \\overrightarrow{\\mathbf{c}} - \\overrightarrow{\\mathbf{c}}^\\| $$\n",
    "\n",
    "Where:\n",
    "\n",
    "$$ \\overrightarrow{\\mathbf{c}}^\\| = (\\overrightarrow{\\mathbf{c}} \\cdot \\hat{e}_a ) \\hat{e}_a + (\\overrightarrow{\\mathbf{c}} \\cdot \\hat{e}_b ) \\hat{e}_b $$\n",
    "\n",
    "Finally:\n",
    "\n",
    "$$ \\hat{e}_c = \\frac{\\overrightarrow{\\mathbf{c}}^\\bot}{||\\overrightarrow{\\mathbf{c}}^\\bot||} $$"
   ]
  },
  {
   "cell_type": "markdown",
   "metadata": {
    "slideshow": {
     "slide_type": "slide"
    }
   },
   "source": [
    "Let's implement the Gram–Schmidt process in Python.\n",
    "\n",
    "For example, consider the positions (vectors) <span class=\"notranslate\">\n",
    "$\\overrightarrow{\\mathbf{a}} = [1,2,0], \\overrightarrow{\\mathbf{b}} = [0,1,3], \\overrightarrow{\\mathbf{c}} = [1,0,1]$</span>:"
   ]
  },
  {
   "cell_type": "markdown",
   "metadata": {
    "slideshow": {
     "slide_type": "slide"
    }
   },
   "source": [
    "The first versor is:"
   ]
  },
  {
   "cell_type": "code",
   "execution_count": 7,
   "metadata": {
    "ExecuteTime": {
     "end_time": "2021-11-03T20:48:32.642088Z",
     "start_time": "2021-11-03T20:48:32.639472Z"
    }
   },
   "outputs": [
    {
     "name": "stdout",
     "output_type": "stream",
     "text": [
      "[0.18257419 0.36514837 0.91287093]\n"
     ]
    }
   ],
   "source": [
    "ea = m1/np.linalg.norm(m1)\n",
    "print(ea)"
   ]
  },
  {
   "cell_type": "markdown",
   "metadata": {
    "slideshow": {
     "slide_type": "slide"
    }
   },
   "source": [
    "The second versor is:"
   ]
  },
  {
   "cell_type": "code",
   "execution_count": 8,
   "metadata": {
    "ExecuteTime": {
     "end_time": "2021-11-03T20:48:32.679949Z",
     "start_time": "2021-11-03T20:48:32.677122Z"
    }
   },
   "outputs": [
    {
     "name": "stdout",
     "output_type": "stream",
     "text": [
      "[ 0.59020849  0.70186955 -0.39878952]\n"
     ]
    }
   ],
   "source": [
    "eb = m2 - np.dot(m2, ea)*ea\n",
    "eb = eb/np.linalg.norm(eb)\n",
    "print(eb)"
   ]
  },
  {
   "cell_type": "markdown",
   "metadata": {
    "slideshow": {
     "slide_type": "slide"
    }
   },
   "source": [
    "And the third version is:"
   ]
  },
  {
   "cell_type": "code",
   "execution_count": 9,
   "metadata": {
    "ExecuteTime": {
     "end_time": "2021-11-03T20:48:32.717176Z",
     "start_time": "2021-11-03T20:48:32.714462Z"
    }
   },
   "outputs": [
    {
     "name": "stdout",
     "output_type": "stream",
     "text": [
      "[ 0.78633365 -0.61159284  0.08737041]\n"
     ]
    }
   ],
   "source": [
    "ec = m3 - np.dot(m3, ea)*ea - np.dot(m3, eb)*eb\n",
    "ec = ec/np.linalg.norm(ec)\n",
    "print(ec)"
   ]
  },
  {
   "cell_type": "markdown",
   "metadata": {
    "slideshow": {
     "slide_type": "slide"
    }
   },
   "source": [
    "Let's check the orthonormality between these versors:"
   ]
  },
  {
   "cell_type": "code",
   "execution_count": 10,
   "metadata": {
    "ExecuteTime": {
     "end_time": "2021-11-03T20:48:32.756772Z",
     "start_time": "2021-11-03T20:48:32.751744Z"
    }
   },
   "outputs": [
    {
     "name": "stdout",
     "output_type": "stream",
     "text": [
      " Versors: \n",
      "ea = [0.18257419 0.36514837 0.91287093] \n",
      "eb = [ 0.59020849  0.70186955 -0.39878952] \n",
      "ec = [ 0.78633365 -0.61159284  0.08737041]\n",
      "\n",
      " Norm of each versor: \n",
      " ||ea|| = 1.0 \n",
      " ||eb|| = 1.0 \n",
      " ||ec|| = 1.0\n",
      "\n",
      " Test of orthogonality (scalar product between versors): \n",
      " ea . eb: -3.3306690738754696e-16 \n",
      " eb . ec: 6.245004513516506e-17 \n",
      " ec . ea: 8.326672684688674e-17\n"
     ]
    }
   ],
   "source": [
    "print(' Versors:', '\\nea =', ea, '\\neb =', eb, '\\nec =', ec)\n",
    "\n",
    "print('\\n Norm of each versor:',\n",
    "      '\\n ||ea|| =', np.linalg.norm(ea),\n",
    "      '\\n ||eb|| =', np.linalg.norm(eb),\n",
    "      '\\n ||ec|| =', np.linalg.norm(ec))\n",
    "\n",
    "print('\\n Test of orthogonality (scalar product between versors):',\n",
    "      '\\n ea . eb:', np.dot(ea, eb),\n",
    "      '\\n eb . ec:', np.dot(eb, ec),\n",
    "      '\\n ec . ea:', np.dot(ec, ea))"
   ]
  },
  {
   "cell_type": "markdown",
   "metadata": {
    "slideshow": {
     "slide_type": "skip"
    }
   },
   "source": [
    "## Polar and spherical coordinate systems\n",
    "\n",
    "When studying circular motion in two or three dimensions, the use of a polar (for 2D) or spherical (for 3D) coordinate system can be more convenient than the Cartesian coordinate system."
   ]
  },
  {
   "cell_type": "markdown",
   "metadata": {
    "slideshow": {
     "slide_type": "skip"
    }
   },
   "source": [
    "### Polar coordinate system\n",
    "\n",
    "In the polar coordinate system, a point in a plane is described by its distance $r$ to the origin (the ray from the origin to this point is the polar axis) and the angle $\\theta$ (measured counterclockwise) between the polar axis and an axis of the coordinate system as shown next.  \n",
    "\n",
    "<div class='center-align'><figure><img src=\"https://raw.githubusercontent.com/demotu/BMC/master/images/polar.png\"/><figcaption><center><i>Figure. Representation of a point in a polar coordinate system.</i></center></figcaption></figure></div>\n",
    "\n",
    "The relation of the coordinates in the Cartesian and polar coordinate systems is:\n",
    "\n",
    "$$\\begin{array}{l l}\n",
    "x = r\\cos\\theta \\\\\n",
    "y = r\\sin\\theta \\\\\n",
    "r = \\sqrt{x^2 + y^2}\n",
    "\\end{array} $$"
   ]
  },
  {
   "cell_type": "markdown",
   "metadata": {
    "slideshow": {
     "slide_type": "skip"
    }
   },
   "source": [
    "### Spherical coordinate system\n",
    "\n",
    "The spherical coordinate system can be seen as an extension of the polar coordinate system to three dimensions where an orthogonal axis is added and a second angle is used to describe the point with respect to this third axis as shown next.  \n",
    "\n",
    "<div class='center-align'><figure><img src=\"https://raw.githubusercontent.com/demotu/BMC/master/images/spherical.png\"/><figcaption><center><i>Figure. Representation of a point in a spherical coordinate system.</i></center></figcaption></figure></div>\n",
    "\n",
    "The relation of the coordinates in the Cartesian and spherical coordinate systems is:\n",
    "\n",
    "$$\\begin{array}{l l}\n",
    "x = r\\sin\\theta\\cos\\phi \\\\\n",
    "y = r\\sin\\theta\\sin\\phi \\\\\n",
    "z = r\\cos\\theta \\\\\n",
    "r = \\sqrt{x^2 + y^2 + z^2}\n",
    "\\end{array} $$"
   ]
  },
  {
   "cell_type": "markdown",
   "metadata": {
    "slideshow": {
     "slide_type": "skip"
    }
   },
   "source": [
    "## Generalized coordinates\n",
    "\n",
    "In mechanics, generalized coordinates are a set of coordinates that describes the configuration of a system. Generalized coordinates are usually selected for convenience (e.g., simplifies the resolution of the problem) or to provide the minimum number of coordinates to describe the configuration of a system.  \n",
    "\n",
    "For instance, generalized coordinates are used to describe the motion of a system with multiple links where instead of using Cartesian coordinates, it's more convenient to use the angles between links as coordinates."
   ]
  },
  {
   "cell_type": "markdown",
   "metadata": {
    "slideshow": {
     "slide_type": "slide"
    }
   },
   "source": [
    "## Problems\n",
    "\n",
    "1. Right now, how fast are you moving? In your answer, consider your motion in relation to Earth and in relation to Sun.\n",
    "\n",
    "2. Go to the website [http://www.wisc-online.com/Objects/ViewObject.aspx?ID=AP15305](http://www.wisc-online.com/Objects/ViewObject.aspx?ID=AP15305) and complete the interactive lesson to learn about the anatomical terminology to describe relative position in the human body.\n",
    "\n",
    "3. To learn more about Cartesian coordinate systems go to the website [http://www.mathsisfun.com/data/cartesian-coordinates.html](http://www.mathsisfun.com/data/cartesian-coordinates.html), study the material, and answer the 10 questions at the end.\n",
    "\n",
    "4. Given the points in the 3D space, $m1 = [2,2,0], m2 = [0,1,1], m3 = [1,2,0]$, find an orthonormal basis.\n",
    "\n",
    "5. Determine if the following points form a basis in the 3D space, $m1 = [2,2,0], m2 = [1,1,1], m3 = [1,1,0]$.\n",
    "\n",
    "6. Derive expressions for the three axes of the pelvic basis considering the convention of the [Virtual Animation of the Kinematics of the Human for Industrial, Educational and Research Purposes (VAKHUM)](https://github.com/BMClab/BMC/blob/master/courses/refs/VAKHUM.pdf) project (use RASIS, LASIS, RPSIS, and LPSIS as names for the pelvic anatomical landmarks and indicate the expression for each axis).\n",
    "\n",
    "7. Determine the basis for the pelvis following the convention of the [Virtual Animation of the Kinematics of the Human for Industrial, Educational and Research Purposes (VAKHUM)](https://github.com/BMClab/BMC/blob/master/courses/refs/VAKHUM.pdf) project for the following anatomical landmark positions (units in meters): $RASIS=[0.5,0.8,0.4], LASIS=[0.55,0.78,0.1], RPSIS=[0.3,0.85,0.2], LPSIS=[0.29,0.78,0.3]$."
   ]
  },
  {
   "cell_type": "markdown",
   "metadata": {
    "slideshow": {
     "slide_type": "slide"
    }
   },
   "source": [
    "## References\n",
    "\n",
    "- Corke P (2017) [Robotics, Vision and Control: Fundamental Algorithms in MATLAB](https://petercorke.com/RVC/). 2nd ed. Springer-Verlag Berlin.  \n",
    "- [Standards - International Society of Biomechanics](https://isbweb.org/activities/standards).  \n",
    "- Stanford Encyclopedia of Philosophy. [Space and Time: Inertial Frames](http://plato.stanford.edu/entries/spacetime-iframes/).  \n",
    "- [Virtual Animation of the Kinematics of the Human for Industrial, Educational and Research Purposes (VAKHUM)](https://github.com/BMClab/BMC/blob/master/courses/refs/VAKHUM.pdf).  "
   ]
  }
 ],
 "metadata": {
  "anaconda-cloud": {},
  "hide_input": false,
  "kernelspec": {
   "display_name": "Python 3 (ipykernel)",
   "language": "python",
   "name": "python3"
  },
  "language_info": {
   "codemirror_mode": {
    "name": "ipython",
    "version": 3
   },
   "file_extension": ".py",
   "mimetype": "text/x-python",
   "name": "python",
   "nbconvert_exporter": "python",
   "pygments_lexer": "ipython3",
   "version": "3.8.12"
  },
  "latex_envs": {
   "LaTeX_envs_menu_present": true,
   "autoclose": false,
   "autocomplete": true,
   "bibliofile": "biblio.bib",
   "cite_by": "apalike",
   "current_citInitial": 1,
   "eqLabelWithNumbers": true,
   "eqNumInitial": 1,
   "hotkeys": {
    "equation": "Ctrl-E",
    "itemize": "Ctrl-I"
   },
   "labels_anchors": false,
   "latex_user_defs": false,
   "report_style_numbering": false,
   "user_envs_cfg": false
  },
  "nbTranslate": {
   "displayLangs": [
    "*"
   ],
   "hotkey": "alt-t",
   "langInMainMenu": true,
   "sourceLang": "en",
   "targetLang": "fr",
   "useGoogleTranslate": true
  },
  "toc": {
   "base_numbering": 1,
   "nav_menu": {},
   "number_sections": true,
   "sideBar": true,
   "skip_h1_title": false,
   "title_cell": "Table of Contents",
   "title_sidebar": "Contents",
   "toc_cell": false,
   "toc_position": {},
   "toc_section_display": true,
   "toc_window_display": false
  },
  "varInspector": {
   "cols": {
    "lenName": 16,
    "lenType": 16,
    "lenVar": 40
   },
   "kernels_config": {
    "python": {
     "delete_cmd_postfix": "",
     "delete_cmd_prefix": "del ",
     "library": "var_list.py",
     "varRefreshCmd": "print(var_dic_list())"
    },
    "r": {
     "delete_cmd_postfix": ") ",
     "delete_cmd_prefix": "rm(",
     "library": "var_list.r",
     "varRefreshCmd": "cat(var_dic_list()) "
    }
   },
   "types_to_exclude": [
    "module",
    "function",
    "builtin_function_or_method",
    "instance",
    "_Feature"
   ],
   "window_display": false
  }
 },
 "nbformat": 4,
 "nbformat_minor": 2
}
