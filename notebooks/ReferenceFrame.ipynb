{
 "cells": [
  {
   "cell_type": "markdown",
   "metadata": {
    "slideshow": {
     "slide_type": "slide"
    }
   },
   "source": [
    "# Frame of reference\n",
    "\n",
    "\n",
    "> Marcos Duarte, Renato Naville Watanabe  \n",
    "> [Laboratory of Biomechanics and Motor Control](https://bmclab.pesquisa.ufabc.edu.br/)  \n",
    "> Federal University of ABC, Brazil"
   ]
  },
  {
   "cell_type": "markdown",
   "metadata": {
    "toc": true
   },
   "source": [
    "<h1>Contents<span class=\"tocSkip\"></span></h1>\n",
    "<div class=\"toc\"><ul class=\"toc-item\"><li><span><a href=\"#Frame-of-reference-for-human-motion-analysis\" data-toc-modified-id=\"Frame-of-reference-for-human-motion-analysis-1\"><span class=\"toc-item-num\">1&nbsp;&nbsp;</span>Frame of reference for human motion analysis</a></span></li><li><span><a href=\"#Cartesian-coordinate-system\" data-toc-modified-id=\"Cartesian-coordinate-system-2\"><span class=\"toc-item-num\">2&nbsp;&nbsp;</span>Cartesian coordinate system</a></span><ul class=\"toc-item\"><li><span><a href=\"#Standardizations-in-movement-analysis\" data-toc-modified-id=\"Standardizations-in-movement-analysis-2.1\"><span class=\"toc-item-num\">2.1&nbsp;&nbsp;</span>Standardizations in movement analysis</a></span></li></ul></li><li><span><a href=\"#Determination-of-a-coordinate-system\" data-toc-modified-id=\"Determination-of-a-coordinate-system-3\"><span class=\"toc-item-num\">3&nbsp;&nbsp;</span>Determination of a coordinate system</a></span><ul class=\"toc-item\"><li><span><a href=\"#Definition-of-a-basis\" data-toc-modified-id=\"Definition-of-a-basis-3.1\"><span class=\"toc-item-num\">3.1&nbsp;&nbsp;</span>Definition of a basis</a></span></li><li><span><a href=\"#Using-the-cross-product\" data-toc-modified-id=\"Using-the-cross-product-3.2\"><span class=\"toc-item-num\">3.2&nbsp;&nbsp;</span>Using the cross product</a></span></li><li><span><a href=\"#Coordinate-system:-origin-and-basis\" data-toc-modified-id=\"Coordinate-system:-origin-and-basis-3.3\"><span class=\"toc-item-num\">3.3&nbsp;&nbsp;</span>Coordinate system: origin and basis</a></span></li><li><span><a href=\"#Gram–Schmidt-process\" data-toc-modified-id=\"Gram–Schmidt-process-3.4\"><span class=\"toc-item-num\">3.4&nbsp;&nbsp;</span>Gram–Schmidt process</a></span></li></ul></li><li><span><a href=\"#Further-reading\" data-toc-modified-id=\"Further-reading-4\"><span class=\"toc-item-num\">4&nbsp;&nbsp;</span>Further reading</a></span></li><li><span><a href=\"#Video-lectures-on-the-Internet\" data-toc-modified-id=\"Video-lectures-on-the-Internet-5\"><span class=\"toc-item-num\">5&nbsp;&nbsp;</span>Video lectures on the Internet</a></span></li><li><span><a href=\"#Problems\" data-toc-modified-id=\"Problems-6\"><span class=\"toc-item-num\">6&nbsp;&nbsp;</span>Problems</a></span></li><li><span><a href=\"#References\" data-toc-modified-id=\"References-7\"><span class=\"toc-item-num\">7&nbsp;&nbsp;</span>References</a></span></li></ul></div>"
   ]
  },
  {
   "cell_type": "markdown",
   "metadata": {
    "slideshow": {
     "slide_type": "skip"
    }
   },
   "source": [
    "<a href=\"http://en.wikipedia.org/wiki/Motion_(physics)\">Motion</a> (a change of position in space with respect to time) is not an absolute concept; a reference is needed to describe the motion of the object in relation to this reference. Likewise, the state of such reference cannot be absolute in space and so motion is relative.    \n",
    "A [frame of reference](http://en.wikipedia.org/wiki/Frame_of_reference) is the place with respect to we choose to describe the motion of an object. In this reference frame, we define a [coordinate system](http://en.wikipedia.org/wiki/Coordinate_system) (a set of axes) within which we measure the motion of an object (but frame of reference and coordinate system are often used interchangeably).  \n",
    "\n",
    "Often, the choice of reference frame and coordinate system is made by convenience. However, there is an important distinction between reference frames when we deal with the dynamics of motion, where we are interested to understand the forces related to the motion of the object. In dynamics, we refer to [inertial frame of reference](http://en.wikipedia.org/wiki/Inertial_frame_of_reference) (a.k.a., Galilean reference frame) when the Newton's laws of motion in their simple form are valid in this frame and to non-inertial frame of reference when the Newton's laws in their simple form are not valid (in such reference frame, fictitious accelerations/forces appear). An inertial reference frame is at rest or moves at constant speed (because there is no absolute rest!), whereas a non-inertial reference frame is under acceleration (with respect to an inertial reference frame).\n",
    "\n",
    "The concept of frame of reference has changed drastically since Aristotle, Galileo, Newton, and Einstein. To read more about that and its philosophical implications, see [Space and Time: Inertial Frames](http://plato.stanford.edu/entries/spacetime-iframes/)."
   ]
  },
  {
   "cell_type": "markdown",
   "metadata": {
    "slideshow": {
     "slide_type": "slide"
    }
   },
   "source": [
    "## Frame of reference for human motion analysis\n",
    "\n",
    "In anatomy, we use a simplified reference frame composed by perpendicular planes to provide a standard reference for qualitatively describing the structures and movements of the human body, as shown in the next figure.\n",
    "\n",
    "<div class='center-align'><figure><img src=\"http://upload.wikimedia.org/wikipedia/commons/3/34/BodyPlanes.jpg\" width=\"300\" alt=\"Anatomical body position\"/><figcaption><center><i>Figure. Anatomical body position and body planes (<a href=\"http://en.wikipedia.org/wiki/Human_anatomical_terms\" target=\"_blank\">image from Wikipedia</a>).</i></center></figcaption> </figure></div> "
   ]
  },
  {
   "cell_type": "markdown",
   "metadata": {
    "slideshow": {
     "slide_type": "slide"
    }
   },
   "source": [
    "## Cartesian coordinate system\n",
    "\n",
    "As we perceive the surrounding space as three-dimensional, a convenient coordinate system is the [Cartesian coordinate system](http://en.wikipedia.org/wiki/Cartesian_coordinate_system) in the [Euclidean space](http://en.wikipedia.org/wiki/Euclidean_space) with three orthogonal axes as shown below. The axes directions are commonly defined by the [right-hand rule](http://en.wikipedia.org/wiki/Right-hand_rule) and attributed the letters X, Y, Z. The orthogonality of the Cartesian coordinate system is convenient for its use in classical mechanics, most of the times the structure of space is assumed having the [Euclidean geometry](http://en.wikipedia.org/wiki/Euclidean_geometry) and as consequence, the motion in different directions are independent of each other.  \n",
    "\n",
    "<div class='center-align'><figure><img src=\"https://raw.githubusercontent.com/demotu/BMC/master/images/CCS.png\" width=350/><figcaption><center><i>Figure. A point in three-dimensional Euclidean space described in a Cartesian coordinate system.</i></center></figcaption> </figure></div>"
   ]
  },
  {
   "cell_type": "markdown",
   "metadata": {
    "slideshow": {
     "slide_type": "slide"
    }
   },
   "source": [
    "### Standardizations in movement analysis\n",
    "\n",
    "The concept of reference frame in Biomechanics and motor control is very important and central to the understanding of human motion. For example, do we see, plan and control the movement of our hand with respect to reference frames within our body or in the environment we move? Or a combination of both?  \n",
    "The figure below, although derived for a robotic system, illustrates well the concept that we might have to deal with multiple coordinate systems.  \n",
    "\n",
    "<div class='center-align'><figure><img src=\"https://raw.githubusercontent.com/demotu/BMC/master/images/coordinatesystems.png\" width=450/><figcaption><center><i>Figure. Multiple coordinate systems for use in robots (figure from Corke (2017)).</i></center></figcaption></figure></div>\n",
    "\n",
    "For three-dimensional motion analysis in Biomechanics, we may use several different references frames for convenience and refer to them as global, laboratory, local, anatomical, or technical reference frames or coordinate systems (we will study this later).  \n",
    "There has been proposed different standardizations on how to define frame of references for the main segments and joints of the human body. For instance, the International Society of Biomechanics has a [page listing standardization proposals](https://isbweb.org/activities/standards) by its standardization committee and subcommittees:"
   ]
  },
  {
   "cell_type": "code",
   "execution_count": 1,
   "metadata": {
    "ExecuteTime": {
     "end_time": "2021-11-03T20:48:31.724735Z",
     "start_time": "2021-11-03T20:48:31.716733Z"
    },
    "scrolled": false,
    "slideshow": {
     "slide_type": "skip"
    }
   },
   "outputs": [
    {
     "data": {
      "text/html": [
       "\n",
       "        <iframe\n",
       "            width=\"100%\"\n",
       "            height=\"400\"\n",
       "            src=\"https://isbweb.org/activities/standards\"\n",
       "            frameborder=\"0\"\n",
       "            allowfullscreen\n",
       "            \n",
       "        ></iframe>\n",
       "        "
      ],
      "text/plain": [
       "<IPython.lib.display.IFrame at 0x7f36802f8a00>"
      ]
     },
     "execution_count": 1,
     "metadata": {},
     "output_type": "execute_result"
    }
   ],
   "source": [
    "from IPython.display import IFrame\n",
    "IFrame('https://isbweb.org/activities/standards', width='100%', height=400)"
   ]
  },
  {
   "cell_type": "markdown",
   "metadata": {
    "slideshow": {
     "slide_type": "slide"
    }
   },
   "source": [
    " Another initiative for the standardization of references frames is from the [Virtual Animation of the Kinematics of the Human for Industrial, Educational and Research Purposes (VAKHUM)](https://github.com/BMClab/BMC/blob/master/courses/refs/VAKHUM.pdf) project."
   ]
  },
  {
   "cell_type": "markdown",
   "metadata": {
    "slideshow": {
     "slide_type": "slide"
    }
   },
   "source": [
    "## Determination of a coordinate system\n",
    "\n",
    "In Biomechanics, we may use different coordinate systems for convenience and refer to them as global, laboratory, local, anatomical, or technical reference frames or coordinate systems. For example, in a standard gait analysis, we define a global or laboratory coordinate system and a different coordinate system for each segment of the body to be able to describe the motion of a segment in relation to anatomical axes of another segment. To define this anatomical coordinate system, we need to place markers on anatomical landmarks on each segment. We also may use other markers (technical markers) on the segment to improve the motion analysis and then we will also have to define a technical coordinate system for each segment.\n",
    "\n",
    "As we perceive the surrounding space as three-dimensional, a convenient coordinate system to use is the [Cartesian coordinate system](http://en.wikipedia.org/wiki/Cartesian_coordinate_system) with three orthogonal axes in the [Euclidean space](http://en.wikipedia.org/wiki/Euclidean_space). From [linear algebra](http://en.wikipedia.org/wiki/Linear_algebra), a set of unit linearly independent vectors (orthogonal in the Euclidean space and each with norm (length) equals to one) that can represent any vector via [linear combination](http://en.wikipedia.org/wiki/Linear_combination) is called a <a href=\"http://en.wikipedia.org/wiki/Basis_(linear_algebra)\">basis</a> (or orthonormal basis). The figure below shows a point and its position vector in the Cartesian coordinate system and the corresponding versors (unit vectors) of the basis for this coordinate system. See the notebook [Scalar and vector](http://nbviewer.ipython.org/github/demotu/BMC/blob/master/notebooks/ScalarVector.ipynb) for a description on vectors.  \n",
    "\n",
    "<div class='center-align'><figure><img src=\"https://raw.githubusercontent.com/demotu/BMC/master/images/vector3Dijk.png\" width=350/><figcaption><center><i>Figure. Representation of a point **P** and its position vector $\\overrightarrow{\\mathbf{r}}$ in a Cartesian coordinate system. The versors $\\hat{\\mathbf{i}}, \\hat{\\mathbf{j}}, \\hat{\\mathbf{k}}$ form a basis for this coordinate system and are usually represented in the color sequence RGB (red, green, blue) for easier visualization.</i></center></figcaption></figure></div>\n",
    "\n",
    "One can see that the versors of the basis shown in the figure above have the following coordinates in the Cartesian coordinate system:  \n",
    "<br>\n",
    "<span class=\"notranslate\">\n",
    "\\begin{equation}\n",
    "\\hat{\\mathbf{i}} = \\begin{bmatrix}1\\\\0\\\\0 \\end{bmatrix}, \\quad \\hat{\\mathbf{j}} = \\begin{bmatrix}0\\\\1\\\\0 \\end{bmatrix}, \\quad \\hat{\\mathbf{k}} = \\begin{bmatrix} 0 \\\\ 0 \\\\ 1 \\end{bmatrix}\n",
    "\\end{equation}\n",
    "</span>\n",
    "\n",
    "Using the notation described in the figure above, the position vector $\\overrightarrow{\\mathbf{r}}$ (or the point $\\overrightarrow{\\mathbf{P}}$) can be expressed as:  \n",
    "<br>\n",
    "<span class=\"notranslate\">\n",
    "\\begin{equation}\n",
    "\\overrightarrow{\\mathbf{r}} = x\\hat{\\mathbf{i}} + y\\hat{\\mathbf{j}} + z\\hat{\\mathbf{k}}\n",
    "\\end{equation}\n",
    "</span>"
   ]
  },
  {
   "cell_type": "markdown",
   "metadata": {
    "slideshow": {
     "slide_type": "slide"
    }
   },
   "source": [
    "### Definition of a basis\n",
    "\n",
    "The mathematical problem of determination of a coordinate system is to find a basis and an origin for it (a basis is only a set of vectors, with no origin). There are different methods to calculate a basis given a set of points (coordinates), for example, one  can use the scalar product or the cross product for this problem."
   ]
  },
  {
   "cell_type": "markdown",
   "metadata": {
    "slideshow": {
     "slide_type": "slide"
    }
   },
   "source": [
    "### Using the cross product\n",
    "\n",
    "Let's now define a basis using a common method in motion analysis (employing the cross product):  \n",
    "Given the coordinates of three noncollinear points in 3D space (points that do not all lie on the same line), $\\overrightarrow{\\mathbf{m}}_1, \\overrightarrow{\\mathbf{m}}_2, \\overrightarrow{\\mathbf{m}}_3$, which would represent the positions of markers captured from a motion analysis session, a basis can be found following these steps:  \n",
    "\n",
    "1. First axis, $\\overrightarrow{\\mathbf{v}}_1$, the vector $\\overrightarrow{\\mathbf{m}}_2-\\overrightarrow{\\mathbf{m}}_1$ (or any other vector difference);  \n",
    "\n",
    "2. Second axis, $\\overrightarrow{\\mathbf{v}}_2$, the cross or vector product between the vectors $\\overrightarrow{\\mathbf{v}}_1$ and $\\overrightarrow{\\mathbf{m}}_3-\\overrightarrow{\\mathbf{m}}_1$ (or $\\overrightarrow{\\mathbf{m}}_3-\\overrightarrow{\\mathbf{m}}_2$);  \n",
    "\n",
    "3. Third axis, $\\overrightarrow{\\mathbf{v}}_3$, the cross product between the vectors $\\overrightarrow{\\mathbf{v}}_1$ and $\\overrightarrow{\\mathbf{v}}_2$; and  \n",
    "\n",
    "4. Make all vectors to have norm 1 dividing each vector by its norm."
   ]
  },
  {
   "cell_type": "markdown",
   "metadata": {
    "slideshow": {
     "slide_type": "slide"
    }
   },
   "source": [
    "The positions of the points used to construct a coordinate system have, by definition, to be specified in relation to an already existing coordinate system. In motion analysis, this coordinate system is the coordinate system from the motion capture system and it is established in the calibration phase. In this phase, the positions of markers placed on an object with perpendicular axes and known distances between the markers are captured and used as the reference (laboratory) coordinate system."
   ]
  },
  {
   "cell_type": "markdown",
   "metadata": {
    "slideshow": {
     "slide_type": "slide"
    }
   },
   "source": [
    "For example, given the positions $\\overrightarrow{\\mathbf{m}}_1 = [1,2,5], \\overrightarrow{\\mathbf{m}}_2 = [2,3,3], \\overrightarrow{\\mathbf{m}}_3 = [4,0,2]$, a basis can be found with:"
   ]
  },
  {
   "cell_type": "code",
   "execution_count": 2,
   "metadata": {
    "ExecuteTime": {
     "end_time": "2021-11-03T23:27:55.327026Z",
     "start_time": "2021-11-03T23:27:55.300280Z"
    },
    "slideshow": {
     "slide_type": "slide"
    }
   },
   "outputs": [
    {
     "name": "stdout",
     "output_type": "stream",
     "text": [
      "Versors: \n",
      "e1 = [ 0.40824829  0.40824829 -0.81649658] \n",
      "e2 = [-0.76834982 -0.32929278 -0.5488213 ] \n",
      "e3 = [-0.49292179  0.85141036  0.17924429]\n",
      "\n",
      "Norm of each versor: \n",
      "||e1|| = 1.0 \n",
      "||e2|| = 0.9999999999999999 \n",
      "||e3|| = 1.0\n",
      "\n",
      "Test of orthogonality (cross product between versors): \n",
      "e1 x e2: 1.0 \n",
      "e1 x e3: 1.0000000000000002 \n",
      "e2 x e3: 0.9999999999999999\n"
     ]
    }
   ],
   "source": [
    "import numpy as np\n",
    "\n",
    "m1 = np.array([1, 2, 5])\n",
    "m2 = np.array([2, 3, 3])\n",
    "m3 = np.array([4, 0, 2])\n",
    "\n",
    "v1 = m2 - m1                # first axis\n",
    "v2 = np.cross(v1, m3 - m1)  # second axis\n",
    "v3 = np.cross(v1, v2)       # third axis\n",
    "\n",
    "# Vector normalization\n",
    "e1 = v1/np.linalg.norm(v1)\n",
    "e2 = v2/np.linalg.norm(v2)\n",
    "e3 = v3/np.linalg.norm(v3)\n",
    "\n",
    "print('Versors:', '\\ne1 =', e1, '\\ne2 =', e2, '\\ne3 =', e3)\n",
    "\n",
    "print('\\nNorm of each versor:',\n",
    "      '\\n||e1|| =', np.linalg.norm(e1),\n",
    "      '\\n||e2|| =', np.linalg.norm(e2),\n",
    "      '\\n||e3|| =', np.linalg.norm(e3))\n",
    "\n",
    "print('\\nTest of orthogonality (cross product between versors):',\n",
    "      '\\ne1 x e2:', np.linalg.norm(np.cross(e1, e2)),\n",
    "      '\\ne1 x e3:', np.linalg.norm(np.cross(e1, e3)),\n",
    "      '\\ne2 x e3:', np.linalg.norm(np.cross(e2, e3)))"
   ]
  },
  {
   "cell_type": "markdown",
   "metadata": {},
   "source": [
    "Due to rounding errors ([see here](https://en.wikipedia.org/wiki/Round-off_error)) and to the imprecision of the computation with decimal floating-point numbers ([see here](http://docs.python.org/2/tutorial/floatingpoint.html)), the norms are not exactly equal to 1.  \n",
    "We could round the result if desired:"
   ]
  },
  {
   "cell_type": "code",
   "execution_count": 3,
   "metadata": {},
   "outputs": [
    {
     "name": "stdout",
     "output_type": "stream",
     "text": [
      "\n",
      "Test of orthogonality (cross product between versors): \n",
      "e1 x e2: 1.0 \n",
      "e1 x e3: 1.0 \n",
      "e2 x e3: 1.0\n"
     ]
    }
   ],
   "source": [
    "print('\\nTest of orthogonality (cross product between versors):',\n",
    "      '\\ne1 x e2:', np.linalg.norm(np.cross(e1, e2)).round(8),\n",
    "      '\\ne1 x e3:', np.linalg.norm(np.cross(e1, e3)).round(8),\n",
    "      '\\ne2 x e3:', np.linalg.norm(np.cross(e2, e3)).round(8))"
   ]
  },
  {
   "cell_type": "markdown",
   "metadata": {},
   "source": [
    "Or format the text representing the result:"
   ]
  },
  {
   "cell_type": "code",
   "execution_count": 4,
   "metadata": {},
   "outputs": [
    {
     "name": "stdout",
     "output_type": "stream",
     "text": [
      "\n",
      "Test of orthogonality (cross product between versors): \n",
      "e1 x e2: 1 \n",
      "e1 x e3: 1 \n",
      "e2 x e3: 1\n"
     ]
    }
   ],
   "source": [
    "print('\\nTest of orthogonality (cross product between versors):',\n",
    "      f'\\ne1 x e2: {np.linalg.norm(np.cross(e1, e2)):g}',\n",
    "      f'\\ne1 x e3: {np.linalg.norm(np.cross(e1, e3)):g}',\n",
    "      f'\\ne2 x e3: {np.linalg.norm(np.cross(e2, e3)):g}')"
   ]
  },
  {
   "cell_type": "markdown",
   "metadata": {},
   "source": [
    "Where we used `f'{:.g}'` to format the number to a string ([see here](https://docs.python.org/dev/library/stdtypes.html#printf-style-string-formatting)) and a [Python F-Strings Number Formatting Cheat Sheet](https://cheatography.com/brianallan/cheat-sheets/python-f-strings-number-formatting/).  \n",
    "\n",
    "For a permanent change, we could use the numpy settings for the representation of the decimal point precision with the function [`np.set_printoptions`](https://numpy.org/doc/stable/reference/generated/numpy.set_printoptions.html) but it only works for numpy arrays, not with numbers. Or use the IPython magic command [`%precision`](https://ipython.readthedocs.io/en/stable/interactive/magics.html#magic-precision), but in this case you can not use the function print for showing the result."
   ]
  },
  {
   "cell_type": "markdown",
   "metadata": {
    "slideshow": {
     "slide_type": "slide"
    }
   },
   "source": [
    "### Coordinate system: origin and basis\n",
    "\n",
    "To define a coordinate system using the calculated basis, we also need to define an origin. In principle, we could use any point as origin, but if the calculated coordinate system should follow anatomical conventions, e.g., the coordinate system origin should be at a joint center, we will have to calculate the basis and origin according to standards used in motion analysis as discussed before.   \n",
    "\n",
    "If the coordinate system is a technical basis and not anatomic-based, a common procedure in motion analysis is to define the origin for the coordinate system as the centroid (average) position among the markers at the reference frame. Using the average position across markers potentially reduces the effect of noise (for example, from soft tissue artifact) on the calculation.  \n",
    "\n",
    "For the markers in the example above, the origin of the coordinate system will be:"
   ]
  },
  {
   "cell_type": "code",
   "execution_count": 5,
   "metadata": {
    "ExecuteTime": {
     "end_time": "2021-11-03T23:27:56.641599Z",
     "start_time": "2021-11-03T23:27:56.631715Z"
    },
    "slideshow": {
     "slide_type": "slide"
    }
   },
   "outputs": [
    {
     "name": "stdout",
     "output_type": "stream",
     "text": [
      "Origin:  [2.33333333 1.66666667 3.33333333]\n"
     ]
    }
   ],
   "source": [
    "origin = np.mean((m1, m2, m3), axis=0)\n",
    "print('Origin: ', origin)"
   ]
  },
  {
   "cell_type": "markdown",
   "metadata": {
    "slideshow": {
     "slide_type": "slide"
    }
   },
   "source": [
    "Let's plot the coordinate system and the basis using the custom Python function `CCS.py`:"
   ]
  },
  {
   "cell_type": "code",
   "execution_count": 6,
   "metadata": {
    "ExecuteTime": {
     "end_time": "2021-11-03T23:27:58.011948Z",
     "start_time": "2021-11-03T23:27:57.815650Z"
    },
    "slideshow": {
     "slide_type": "slide"
    }
   },
   "outputs": [],
   "source": [
    "if 'google.colab' in str(get_ipython()):\n",
    "    print('Google drive will be mounted.')\n",
    "    print('Create folder \"functions\" and place functions in it.')\n",
    "    path2 = r'functions'\n",
    "    from google.colab import drive\n",
    "    drive.mount('/content/drive')\n",
    "else:\n",
    "    path2 = r'./../functions'\n",
    "import sys\n",
    "sys.path.insert(1, path2)  # add to pythonpath\n",
    "from CCS import CCS"
   ]
  },
  {
   "cell_type": "code",
   "execution_count": 7,
   "metadata": {
    "ExecuteTime": {
     "end_time": "2021-11-03T23:27:58.372074Z",
     "start_time": "2021-11-03T23:27:58.368385Z"
    },
    "slideshow": {
     "slide_type": "slide"
    }
   },
   "outputs": [],
   "source": [
    "markers = np.vstack((m1, m2, m3))\n",
    "basis = np.vstack((e1, e2, e3))"
   ]
  },
  {
   "cell_type": "markdown",
   "metadata": {
    "slideshow": {
     "slide_type": "slide"
    }
   },
   "source": [
    "Create figure in this page (inline):\n"
   ]
  },
  {
   "cell_type": "code",
   "execution_count": 8,
   "metadata": {
    "ExecuteTime": {
     "end_time": "2021-11-03T23:28:00.153411Z",
     "start_time": "2021-11-03T23:28:00.079554Z"
    },
    "slideshow": {
     "slide_type": "-"
    }
   },
   "outputs": [
    {
     "data": {
      "application/javascript": [
       "/* Put everything inside the global mpl namespace */\n",
       "/* global mpl */\n",
       "window.mpl = {};\n",
       "\n",
       "mpl.get_websocket_type = function () {\n",
       "    if (typeof WebSocket !== 'undefined') {\n",
       "        return WebSocket;\n",
       "    } else if (typeof MozWebSocket !== 'undefined') {\n",
       "        return MozWebSocket;\n",
       "    } else {\n",
       "        alert(\n",
       "            'Your browser does not have WebSocket support. ' +\n",
       "                'Please try Chrome, Safari or Firefox ≥ 6. ' +\n",
       "                'Firefox 4 and 5 are also supported but you ' +\n",
       "                'have to enable WebSockets in about:config.'\n",
       "        );\n",
       "    }\n",
       "};\n",
       "\n",
       "mpl.figure = function (figure_id, websocket, ondownload, parent_element) {\n",
       "    this.id = figure_id;\n",
       "\n",
       "    this.ws = websocket;\n",
       "\n",
       "    this.supports_binary = this.ws.binaryType !== undefined;\n",
       "\n",
       "    if (!this.supports_binary) {\n",
       "        var warnings = document.getElementById('mpl-warnings');\n",
       "        if (warnings) {\n",
       "            warnings.style.display = 'block';\n",
       "            warnings.textContent =\n",
       "                'This browser does not support binary websocket messages. ' +\n",
       "                'Performance may be slow.';\n",
       "        }\n",
       "    }\n",
       "\n",
       "    this.imageObj = new Image();\n",
       "\n",
       "    this.context = undefined;\n",
       "    this.message = undefined;\n",
       "    this.canvas = undefined;\n",
       "    this.rubberband_canvas = undefined;\n",
       "    this.rubberband_context = undefined;\n",
       "    this.format_dropdown = undefined;\n",
       "\n",
       "    this.image_mode = 'full';\n",
       "\n",
       "    this.root = document.createElement('div');\n",
       "    this.root.setAttribute('style', 'display: inline-block');\n",
       "    this._root_extra_style(this.root);\n",
       "\n",
       "    parent_element.appendChild(this.root);\n",
       "\n",
       "    this._init_header(this);\n",
       "    this._init_canvas(this);\n",
       "    this._init_toolbar(this);\n",
       "\n",
       "    var fig = this;\n",
       "\n",
       "    this.waiting = false;\n",
       "\n",
       "    this.ws.onopen = function () {\n",
       "        fig.send_message('supports_binary', { value: fig.supports_binary });\n",
       "        fig.send_message('send_image_mode', {});\n",
       "        if (fig.ratio !== 1) {\n",
       "            fig.send_message('set_device_pixel_ratio', {\n",
       "                device_pixel_ratio: fig.ratio,\n",
       "            });\n",
       "        }\n",
       "        fig.send_message('refresh', {});\n",
       "    };\n",
       "\n",
       "    this.imageObj.onload = function () {\n",
       "        if (fig.image_mode === 'full') {\n",
       "            // Full images could contain transparency (where diff images\n",
       "            // almost always do), so we need to clear the canvas so that\n",
       "            // there is no ghosting.\n",
       "            fig.context.clearRect(0, 0, fig.canvas.width, fig.canvas.height);\n",
       "        }\n",
       "        fig.context.drawImage(fig.imageObj, 0, 0);\n",
       "    };\n",
       "\n",
       "    this.imageObj.onunload = function () {\n",
       "        fig.ws.close();\n",
       "    };\n",
       "\n",
       "    this.ws.onmessage = this._make_on_message_function(this);\n",
       "\n",
       "    this.ondownload = ondownload;\n",
       "};\n",
       "\n",
       "mpl.figure.prototype._init_header = function () {\n",
       "    var titlebar = document.createElement('div');\n",
       "    titlebar.classList =\n",
       "        'ui-dialog-titlebar ui-widget-header ui-corner-all ui-helper-clearfix';\n",
       "    var titletext = document.createElement('div');\n",
       "    titletext.classList = 'ui-dialog-title';\n",
       "    titletext.setAttribute(\n",
       "        'style',\n",
       "        'width: 100%; text-align: center; padding: 3px;'\n",
       "    );\n",
       "    titlebar.appendChild(titletext);\n",
       "    this.root.appendChild(titlebar);\n",
       "    this.header = titletext;\n",
       "};\n",
       "\n",
       "mpl.figure.prototype._canvas_extra_style = function (_canvas_div) {};\n",
       "\n",
       "mpl.figure.prototype._root_extra_style = function (_canvas_div) {};\n",
       "\n",
       "mpl.figure.prototype._init_canvas = function () {\n",
       "    var fig = this;\n",
       "\n",
       "    var canvas_div = (this.canvas_div = document.createElement('div'));\n",
       "    canvas_div.setAttribute(\n",
       "        'style',\n",
       "        'border: 1px solid #ddd;' +\n",
       "            'box-sizing: content-box;' +\n",
       "            'clear: both;' +\n",
       "            'min-height: 1px;' +\n",
       "            'min-width: 1px;' +\n",
       "            'outline: 0;' +\n",
       "            'overflow: hidden;' +\n",
       "            'position: relative;' +\n",
       "            'resize: both;'\n",
       "    );\n",
       "\n",
       "    function on_keyboard_event_closure(name) {\n",
       "        return function (event) {\n",
       "            return fig.key_event(event, name);\n",
       "        };\n",
       "    }\n",
       "\n",
       "    canvas_div.addEventListener(\n",
       "        'keydown',\n",
       "        on_keyboard_event_closure('key_press')\n",
       "    );\n",
       "    canvas_div.addEventListener(\n",
       "        'keyup',\n",
       "        on_keyboard_event_closure('key_release')\n",
       "    );\n",
       "\n",
       "    this._canvas_extra_style(canvas_div);\n",
       "    this.root.appendChild(canvas_div);\n",
       "\n",
       "    var canvas = (this.canvas = document.createElement('canvas'));\n",
       "    canvas.classList.add('mpl-canvas');\n",
       "    canvas.setAttribute('style', 'box-sizing: content-box;');\n",
       "\n",
       "    this.context = canvas.getContext('2d');\n",
       "\n",
       "    var backingStore =\n",
       "        this.context.backingStorePixelRatio ||\n",
       "        this.context.webkitBackingStorePixelRatio ||\n",
       "        this.context.mozBackingStorePixelRatio ||\n",
       "        this.context.msBackingStorePixelRatio ||\n",
       "        this.context.oBackingStorePixelRatio ||\n",
       "        this.context.backingStorePixelRatio ||\n",
       "        1;\n",
       "\n",
       "    this.ratio = (window.devicePixelRatio || 1) / backingStore;\n",
       "\n",
       "    var rubberband_canvas = (this.rubberband_canvas = document.createElement(\n",
       "        'canvas'\n",
       "    ));\n",
       "    rubberband_canvas.setAttribute(\n",
       "        'style',\n",
       "        'box-sizing: content-box; position: absolute; left: 0; top: 0; z-index: 1;'\n",
       "    );\n",
       "\n",
       "    // Apply a ponyfill if ResizeObserver is not implemented by browser.\n",
       "    if (this.ResizeObserver === undefined) {\n",
       "        if (window.ResizeObserver !== undefined) {\n",
       "            this.ResizeObserver = window.ResizeObserver;\n",
       "        } else {\n",
       "            var obs = _JSXTOOLS_RESIZE_OBSERVER({});\n",
       "            this.ResizeObserver = obs.ResizeObserver;\n",
       "        }\n",
       "    }\n",
       "\n",
       "    this.resizeObserverInstance = new this.ResizeObserver(function (entries) {\n",
       "        var nentries = entries.length;\n",
       "        for (var i = 0; i < nentries; i++) {\n",
       "            var entry = entries[i];\n",
       "            var width, height;\n",
       "            if (entry.contentBoxSize) {\n",
       "                if (entry.contentBoxSize instanceof Array) {\n",
       "                    // Chrome 84 implements new version of spec.\n",
       "                    width = entry.contentBoxSize[0].inlineSize;\n",
       "                    height = entry.contentBoxSize[0].blockSize;\n",
       "                } else {\n",
       "                    // Firefox implements old version of spec.\n",
       "                    width = entry.contentBoxSize.inlineSize;\n",
       "                    height = entry.contentBoxSize.blockSize;\n",
       "                }\n",
       "            } else {\n",
       "                // Chrome <84 implements even older version of spec.\n",
       "                width = entry.contentRect.width;\n",
       "                height = entry.contentRect.height;\n",
       "            }\n",
       "\n",
       "            // Keep the size of the canvas and rubber band canvas in sync with\n",
       "            // the canvas container.\n",
       "            if (entry.devicePixelContentBoxSize) {\n",
       "                // Chrome 84 implements new version of spec.\n",
       "                canvas.setAttribute(\n",
       "                    'width',\n",
       "                    entry.devicePixelContentBoxSize[0].inlineSize\n",
       "                );\n",
       "                canvas.setAttribute(\n",
       "                    'height',\n",
       "                    entry.devicePixelContentBoxSize[0].blockSize\n",
       "                );\n",
       "            } else {\n",
       "                canvas.setAttribute('width', width * fig.ratio);\n",
       "                canvas.setAttribute('height', height * fig.ratio);\n",
       "            }\n",
       "            canvas.setAttribute(\n",
       "                'style',\n",
       "                'width: ' + width + 'px; height: ' + height + 'px;'\n",
       "            );\n",
       "\n",
       "            rubberband_canvas.setAttribute('width', width);\n",
       "            rubberband_canvas.setAttribute('height', height);\n",
       "\n",
       "            // And update the size in Python. We ignore the initial 0/0 size\n",
       "            // that occurs as the element is placed into the DOM, which should\n",
       "            // otherwise not happen due to the minimum size styling.\n",
       "            if (fig.ws.readyState == 1 && width != 0 && height != 0) {\n",
       "                fig.request_resize(width, height);\n",
       "            }\n",
       "        }\n",
       "    });\n",
       "    this.resizeObserverInstance.observe(canvas_div);\n",
       "\n",
       "    function on_mouse_event_closure(name) {\n",
       "        return function (event) {\n",
       "            return fig.mouse_event(event, name);\n",
       "        };\n",
       "    }\n",
       "\n",
       "    rubberband_canvas.addEventListener(\n",
       "        'mousedown',\n",
       "        on_mouse_event_closure('button_press')\n",
       "    );\n",
       "    rubberband_canvas.addEventListener(\n",
       "        'mouseup',\n",
       "        on_mouse_event_closure('button_release')\n",
       "    );\n",
       "    rubberband_canvas.addEventListener(\n",
       "        'dblclick',\n",
       "        on_mouse_event_closure('dblclick')\n",
       "    );\n",
       "    // Throttle sequential mouse events to 1 every 20ms.\n",
       "    rubberband_canvas.addEventListener(\n",
       "        'mousemove',\n",
       "        on_mouse_event_closure('motion_notify')\n",
       "    );\n",
       "\n",
       "    rubberband_canvas.addEventListener(\n",
       "        'mouseenter',\n",
       "        on_mouse_event_closure('figure_enter')\n",
       "    );\n",
       "    rubberband_canvas.addEventListener(\n",
       "        'mouseleave',\n",
       "        on_mouse_event_closure('figure_leave')\n",
       "    );\n",
       "\n",
       "    canvas_div.addEventListener('wheel', function (event) {\n",
       "        if (event.deltaY < 0) {\n",
       "            event.step = 1;\n",
       "        } else {\n",
       "            event.step = -1;\n",
       "        }\n",
       "        on_mouse_event_closure('scroll')(event);\n",
       "    });\n",
       "\n",
       "    canvas_div.appendChild(canvas);\n",
       "    canvas_div.appendChild(rubberband_canvas);\n",
       "\n",
       "    this.rubberband_context = rubberband_canvas.getContext('2d');\n",
       "    this.rubberband_context.strokeStyle = '#000000';\n",
       "\n",
       "    this._resize_canvas = function (width, height, forward) {\n",
       "        if (forward) {\n",
       "            canvas_div.style.width = width + 'px';\n",
       "            canvas_div.style.height = height + 'px';\n",
       "        }\n",
       "    };\n",
       "\n",
       "    // Disable right mouse context menu.\n",
       "    this.rubberband_canvas.addEventListener('contextmenu', function (_e) {\n",
       "        event.preventDefault();\n",
       "        return false;\n",
       "    });\n",
       "\n",
       "    function set_focus() {\n",
       "        canvas.focus();\n",
       "        canvas_div.focus();\n",
       "    }\n",
       "\n",
       "    window.setTimeout(set_focus, 100);\n",
       "};\n",
       "\n",
       "mpl.figure.prototype._init_toolbar = function () {\n",
       "    var fig = this;\n",
       "\n",
       "    var toolbar = document.createElement('div');\n",
       "    toolbar.classList = 'mpl-toolbar';\n",
       "    this.root.appendChild(toolbar);\n",
       "\n",
       "    function on_click_closure(name) {\n",
       "        return function (_event) {\n",
       "            return fig.toolbar_button_onclick(name);\n",
       "        };\n",
       "    }\n",
       "\n",
       "    function on_mouseover_closure(tooltip) {\n",
       "        return function (event) {\n",
       "            if (!event.currentTarget.disabled) {\n",
       "                return fig.toolbar_button_onmouseover(tooltip);\n",
       "            }\n",
       "        };\n",
       "    }\n",
       "\n",
       "    fig.buttons = {};\n",
       "    var buttonGroup = document.createElement('div');\n",
       "    buttonGroup.classList = 'mpl-button-group';\n",
       "    for (var toolbar_ind in mpl.toolbar_items) {\n",
       "        var name = mpl.toolbar_items[toolbar_ind][0];\n",
       "        var tooltip = mpl.toolbar_items[toolbar_ind][1];\n",
       "        var image = mpl.toolbar_items[toolbar_ind][2];\n",
       "        var method_name = mpl.toolbar_items[toolbar_ind][3];\n",
       "\n",
       "        if (!name) {\n",
       "            /* Instead of a spacer, we start a new button group. */\n",
       "            if (buttonGroup.hasChildNodes()) {\n",
       "                toolbar.appendChild(buttonGroup);\n",
       "            }\n",
       "            buttonGroup = document.createElement('div');\n",
       "            buttonGroup.classList = 'mpl-button-group';\n",
       "            continue;\n",
       "        }\n",
       "\n",
       "        var button = (fig.buttons[name] = document.createElement('button'));\n",
       "        button.classList = 'mpl-widget';\n",
       "        button.setAttribute('role', 'button');\n",
       "        button.setAttribute('aria-disabled', 'false');\n",
       "        button.addEventListener('click', on_click_closure(method_name));\n",
       "        button.addEventListener('mouseover', on_mouseover_closure(tooltip));\n",
       "\n",
       "        var icon_img = document.createElement('img');\n",
       "        icon_img.src = '_images/' + image + '.png';\n",
       "        icon_img.srcset = '_images/' + image + '_large.png 2x';\n",
       "        icon_img.alt = tooltip;\n",
       "        button.appendChild(icon_img);\n",
       "\n",
       "        buttonGroup.appendChild(button);\n",
       "    }\n",
       "\n",
       "    if (buttonGroup.hasChildNodes()) {\n",
       "        toolbar.appendChild(buttonGroup);\n",
       "    }\n",
       "\n",
       "    var fmt_picker = document.createElement('select');\n",
       "    fmt_picker.classList = 'mpl-widget';\n",
       "    toolbar.appendChild(fmt_picker);\n",
       "    this.format_dropdown = fmt_picker;\n",
       "\n",
       "    for (var ind in mpl.extensions) {\n",
       "        var fmt = mpl.extensions[ind];\n",
       "        var option = document.createElement('option');\n",
       "        option.selected = fmt === mpl.default_extension;\n",
       "        option.innerHTML = fmt;\n",
       "        fmt_picker.appendChild(option);\n",
       "    }\n",
       "\n",
       "    var status_bar = document.createElement('span');\n",
       "    status_bar.classList = 'mpl-message';\n",
       "    toolbar.appendChild(status_bar);\n",
       "    this.message = status_bar;\n",
       "};\n",
       "\n",
       "mpl.figure.prototype.request_resize = function (x_pixels, y_pixels) {\n",
       "    // Request matplotlib to resize the figure. Matplotlib will then trigger a resize in the client,\n",
       "    // which will in turn request a refresh of the image.\n",
       "    this.send_message('resize', { width: x_pixels, height: y_pixels });\n",
       "};\n",
       "\n",
       "mpl.figure.prototype.send_message = function (type, properties) {\n",
       "    properties['type'] = type;\n",
       "    properties['figure_id'] = this.id;\n",
       "    this.ws.send(JSON.stringify(properties));\n",
       "};\n",
       "\n",
       "mpl.figure.prototype.send_draw_message = function () {\n",
       "    if (!this.waiting) {\n",
       "        this.waiting = true;\n",
       "        this.ws.send(JSON.stringify({ type: 'draw', figure_id: this.id }));\n",
       "    }\n",
       "};\n",
       "\n",
       "mpl.figure.prototype.handle_save = function (fig, _msg) {\n",
       "    var format_dropdown = fig.format_dropdown;\n",
       "    var format = format_dropdown.options[format_dropdown.selectedIndex].value;\n",
       "    fig.ondownload(fig, format);\n",
       "};\n",
       "\n",
       "mpl.figure.prototype.handle_resize = function (fig, msg) {\n",
       "    var size = msg['size'];\n",
       "    if (size[0] !== fig.canvas.width || size[1] !== fig.canvas.height) {\n",
       "        fig._resize_canvas(size[0], size[1], msg['forward']);\n",
       "        fig.send_message('refresh', {});\n",
       "    }\n",
       "};\n",
       "\n",
       "mpl.figure.prototype.handle_rubberband = function (fig, msg) {\n",
       "    var x0 = msg['x0'] / fig.ratio;\n",
       "    var y0 = (fig.canvas.height - msg['y0']) / fig.ratio;\n",
       "    var x1 = msg['x1'] / fig.ratio;\n",
       "    var y1 = (fig.canvas.height - msg['y1']) / fig.ratio;\n",
       "    x0 = Math.floor(x0) + 0.5;\n",
       "    y0 = Math.floor(y0) + 0.5;\n",
       "    x1 = Math.floor(x1) + 0.5;\n",
       "    y1 = Math.floor(y1) + 0.5;\n",
       "    var min_x = Math.min(x0, x1);\n",
       "    var min_y = Math.min(y0, y1);\n",
       "    var width = Math.abs(x1 - x0);\n",
       "    var height = Math.abs(y1 - y0);\n",
       "\n",
       "    fig.rubberband_context.clearRect(\n",
       "        0,\n",
       "        0,\n",
       "        fig.canvas.width / fig.ratio,\n",
       "        fig.canvas.height / fig.ratio\n",
       "    );\n",
       "\n",
       "    fig.rubberband_context.strokeRect(min_x, min_y, width, height);\n",
       "};\n",
       "\n",
       "mpl.figure.prototype.handle_figure_label = function (fig, msg) {\n",
       "    // Updates the figure title.\n",
       "    fig.header.textContent = msg['label'];\n",
       "};\n",
       "\n",
       "mpl.figure.prototype.handle_cursor = function (fig, msg) {\n",
       "    fig.rubberband_canvas.style.cursor = msg['cursor'];\n",
       "};\n",
       "\n",
       "mpl.figure.prototype.handle_message = function (fig, msg) {\n",
       "    fig.message.textContent = msg['message'];\n",
       "};\n",
       "\n",
       "mpl.figure.prototype.handle_draw = function (fig, _msg) {\n",
       "    // Request the server to send over a new figure.\n",
       "    fig.send_draw_message();\n",
       "};\n",
       "\n",
       "mpl.figure.prototype.handle_image_mode = function (fig, msg) {\n",
       "    fig.image_mode = msg['mode'];\n",
       "};\n",
       "\n",
       "mpl.figure.prototype.handle_history_buttons = function (fig, msg) {\n",
       "    for (var key in msg) {\n",
       "        if (!(key in fig.buttons)) {\n",
       "            continue;\n",
       "        }\n",
       "        fig.buttons[key].disabled = !msg[key];\n",
       "        fig.buttons[key].setAttribute('aria-disabled', !msg[key]);\n",
       "    }\n",
       "};\n",
       "\n",
       "mpl.figure.prototype.handle_navigate_mode = function (fig, msg) {\n",
       "    if (msg['mode'] === 'PAN') {\n",
       "        fig.buttons['Pan'].classList.add('active');\n",
       "        fig.buttons['Zoom'].classList.remove('active');\n",
       "    } else if (msg['mode'] === 'ZOOM') {\n",
       "        fig.buttons['Pan'].classList.remove('active');\n",
       "        fig.buttons['Zoom'].classList.add('active');\n",
       "    } else {\n",
       "        fig.buttons['Pan'].classList.remove('active');\n",
       "        fig.buttons['Zoom'].classList.remove('active');\n",
       "    }\n",
       "};\n",
       "\n",
       "mpl.figure.prototype.updated_canvas_event = function () {\n",
       "    // Called whenever the canvas gets updated.\n",
       "    this.send_message('ack', {});\n",
       "};\n",
       "\n",
       "// A function to construct a web socket function for onmessage handling.\n",
       "// Called in the figure constructor.\n",
       "mpl.figure.prototype._make_on_message_function = function (fig) {\n",
       "    return function socket_on_message(evt) {\n",
       "        if (evt.data instanceof Blob) {\n",
       "            var img = evt.data;\n",
       "            if (img.type !== 'image/png') {\n",
       "                /* FIXME: We get \"Resource interpreted as Image but\n",
       "                 * transferred with MIME type text/plain:\" errors on\n",
       "                 * Chrome.  But how to set the MIME type?  It doesn't seem\n",
       "                 * to be part of the websocket stream */\n",
       "                img.type = 'image/png';\n",
       "            }\n",
       "\n",
       "            /* Free the memory for the previous frames */\n",
       "            if (fig.imageObj.src) {\n",
       "                (window.URL || window.webkitURL).revokeObjectURL(\n",
       "                    fig.imageObj.src\n",
       "                );\n",
       "            }\n",
       "\n",
       "            fig.imageObj.src = (window.URL || window.webkitURL).createObjectURL(\n",
       "                img\n",
       "            );\n",
       "            fig.updated_canvas_event();\n",
       "            fig.waiting = false;\n",
       "            return;\n",
       "        } else if (\n",
       "            typeof evt.data === 'string' &&\n",
       "            evt.data.slice(0, 21) === 'data:image/png;base64'\n",
       "        ) {\n",
       "            fig.imageObj.src = evt.data;\n",
       "            fig.updated_canvas_event();\n",
       "            fig.waiting = false;\n",
       "            return;\n",
       "        }\n",
       "\n",
       "        var msg = JSON.parse(evt.data);\n",
       "        var msg_type = msg['type'];\n",
       "\n",
       "        // Call the  \"handle_{type}\" callback, which takes\n",
       "        // the figure and JSON message as its only arguments.\n",
       "        try {\n",
       "            var callback = fig['handle_' + msg_type];\n",
       "        } catch (e) {\n",
       "            console.log(\n",
       "                \"No handler for the '\" + msg_type + \"' message type: \",\n",
       "                msg\n",
       "            );\n",
       "            return;\n",
       "        }\n",
       "\n",
       "        if (callback) {\n",
       "            try {\n",
       "                // console.log(\"Handling '\" + msg_type + \"' message: \", msg);\n",
       "                callback(fig, msg);\n",
       "            } catch (e) {\n",
       "                console.log(\n",
       "                    \"Exception inside the 'handler_\" + msg_type + \"' callback:\",\n",
       "                    e,\n",
       "                    e.stack,\n",
       "                    msg\n",
       "                );\n",
       "            }\n",
       "        }\n",
       "    };\n",
       "};\n",
       "\n",
       "// from https://stackoverflow.com/questions/1114465/getting-mouse-location-in-canvas\n",
       "mpl.findpos = function (e) {\n",
       "    //this section is from http://www.quirksmode.org/js/events_properties.html\n",
       "    var targ;\n",
       "    if (!e) {\n",
       "        e = window.event;\n",
       "    }\n",
       "    if (e.target) {\n",
       "        targ = e.target;\n",
       "    } else if (e.srcElement) {\n",
       "        targ = e.srcElement;\n",
       "    }\n",
       "    if (targ.nodeType === 3) {\n",
       "        // defeat Safari bug\n",
       "        targ = targ.parentNode;\n",
       "    }\n",
       "\n",
       "    // pageX,Y are the mouse positions relative to the document\n",
       "    var boundingRect = targ.getBoundingClientRect();\n",
       "    var x = e.pageX - (boundingRect.left + document.body.scrollLeft);\n",
       "    var y = e.pageY - (boundingRect.top + document.body.scrollTop);\n",
       "\n",
       "    return { x: x, y: y };\n",
       "};\n",
       "\n",
       "/*\n",
       " * return a copy of an object with only non-object keys\n",
       " * we need this to avoid circular references\n",
       " * https://stackoverflow.com/a/24161582/3208463\n",
       " */\n",
       "function simpleKeys(original) {\n",
       "    return Object.keys(original).reduce(function (obj, key) {\n",
       "        if (typeof original[key] !== 'object') {\n",
       "            obj[key] = original[key];\n",
       "        }\n",
       "        return obj;\n",
       "    }, {});\n",
       "}\n",
       "\n",
       "mpl.figure.prototype.mouse_event = function (event, name) {\n",
       "    var canvas_pos = mpl.findpos(event);\n",
       "\n",
       "    if (name === 'button_press') {\n",
       "        this.canvas.focus();\n",
       "        this.canvas_div.focus();\n",
       "    }\n",
       "\n",
       "    var x = canvas_pos.x * this.ratio;\n",
       "    var y = canvas_pos.y * this.ratio;\n",
       "\n",
       "    this.send_message(name, {\n",
       "        x: x,\n",
       "        y: y,\n",
       "        button: event.button,\n",
       "        step: event.step,\n",
       "        guiEvent: simpleKeys(event),\n",
       "    });\n",
       "\n",
       "    /* This prevents the web browser from automatically changing to\n",
       "     * the text insertion cursor when the button is pressed.  We want\n",
       "     * to control all of the cursor setting manually through the\n",
       "     * 'cursor' event from matplotlib */\n",
       "    event.preventDefault();\n",
       "    return false;\n",
       "};\n",
       "\n",
       "mpl.figure.prototype._key_event_extra = function (_event, _name) {\n",
       "    // Handle any extra behaviour associated with a key event\n",
       "};\n",
       "\n",
       "mpl.figure.prototype.key_event = function (event, name) {\n",
       "    // Prevent repeat events\n",
       "    if (name === 'key_press') {\n",
       "        if (event.key === this._key) {\n",
       "            return;\n",
       "        } else {\n",
       "            this._key = event.key;\n",
       "        }\n",
       "    }\n",
       "    if (name === 'key_release') {\n",
       "        this._key = null;\n",
       "    }\n",
       "\n",
       "    var value = '';\n",
       "    if (event.ctrlKey && event.key !== 'Control') {\n",
       "        value += 'ctrl+';\n",
       "    }\n",
       "    else if (event.altKey && event.key !== 'Alt') {\n",
       "        value += 'alt+';\n",
       "    }\n",
       "    else if (event.shiftKey && event.key !== 'Shift') {\n",
       "        value += 'shift+';\n",
       "    }\n",
       "\n",
       "    value += 'k' + event.key;\n",
       "\n",
       "    this._key_event_extra(event, name);\n",
       "\n",
       "    this.send_message(name, { key: value, guiEvent: simpleKeys(event) });\n",
       "    return false;\n",
       "};\n",
       "\n",
       "mpl.figure.prototype.toolbar_button_onclick = function (name) {\n",
       "    if (name === 'download') {\n",
       "        this.handle_save(this, null);\n",
       "    } else {\n",
       "        this.send_message('toolbar_button', { name: name });\n",
       "    }\n",
       "};\n",
       "\n",
       "mpl.figure.prototype.toolbar_button_onmouseover = function (tooltip) {\n",
       "    this.message.textContent = tooltip;\n",
       "};\n",
       "\n",
       "///////////////// REMAINING CONTENT GENERATED BY embed_js.py /////////////////\n",
       "// prettier-ignore\n",
       "var _JSXTOOLS_RESIZE_OBSERVER=function(A){var t,i=new WeakMap,n=new WeakMap,a=new WeakMap,r=new WeakMap,o=new Set;function s(e){if(!(this instanceof s))throw new TypeError(\"Constructor requires 'new' operator\");i.set(this,e)}function h(){throw new TypeError(\"Function is not a constructor\")}function c(e,t,i,n){e=0 in arguments?Number(arguments[0]):0,t=1 in arguments?Number(arguments[1]):0,i=2 in arguments?Number(arguments[2]):0,n=3 in arguments?Number(arguments[3]):0,this.right=(this.x=this.left=e)+(this.width=i),this.bottom=(this.y=this.top=t)+(this.height=n),Object.freeze(this)}function d(){t=requestAnimationFrame(d);var s=new WeakMap,p=new Set;o.forEach((function(t){r.get(t).forEach((function(i){var r=t instanceof window.SVGElement,o=a.get(t),d=r?0:parseFloat(o.paddingTop),f=r?0:parseFloat(o.paddingRight),l=r?0:parseFloat(o.paddingBottom),u=r?0:parseFloat(o.paddingLeft),g=r?0:parseFloat(o.borderTopWidth),m=r?0:parseFloat(o.borderRightWidth),w=r?0:parseFloat(o.borderBottomWidth),b=u+f,F=d+l,v=(r?0:parseFloat(o.borderLeftWidth))+m,W=g+w,y=r?0:t.offsetHeight-W-t.clientHeight,E=r?0:t.offsetWidth-v-t.clientWidth,R=b+v,z=F+W,M=r?t.width:parseFloat(o.width)-R-E,O=r?t.height:parseFloat(o.height)-z-y;if(n.has(t)){var k=n.get(t);if(k[0]===M&&k[1]===O)return}n.set(t,[M,O]);var S=Object.create(h.prototype);S.target=t,S.contentRect=new c(u,d,M,O),s.has(i)||(s.set(i,[]),p.add(i)),s.get(i).push(S)}))})),p.forEach((function(e){i.get(e).call(e,s.get(e),e)}))}return s.prototype.observe=function(i){if(i instanceof window.Element){r.has(i)||(r.set(i,new Set),o.add(i),a.set(i,window.getComputedStyle(i)));var n=r.get(i);n.has(this)||n.add(this),cancelAnimationFrame(t),t=requestAnimationFrame(d)}},s.prototype.unobserve=function(i){if(i instanceof window.Element&&r.has(i)){var n=r.get(i);n.has(this)&&(n.delete(this),n.size||(r.delete(i),o.delete(i))),n.size||r.delete(i),o.size||cancelAnimationFrame(t)}},A.DOMRectReadOnly=c,A.ResizeObserver=s,A.ResizeObserverEntry=h,A}; // eslint-disable-line\n",
       "mpl.toolbar_items = [[\"Home\", \"Reset original view\", \"fa fa-home\", \"home\"], [\"Back\", \"Back to previous view\", \"fa fa-arrow-left\", \"back\"], [\"Forward\", \"Forward to next view\", \"fa fa-arrow-right\", \"forward\"], [\"\", \"\", \"\", \"\"], [\"Pan\", \"Left button pans, Right button zooms\\nx/y fixes axis, CTRL fixes aspect\", \"fa fa-arrows\", \"pan\"], [\"Zoom\", \"Zoom to rectangle\\nx/y fixes axis\", \"fa fa-square-o\", \"zoom\"], [\"\", \"\", \"\", \"\"], [\"Download\", \"Download plot\", \"fa fa-floppy-o\", \"download\"]];\n",
       "\n",
       "mpl.extensions = [\"eps\", \"jpeg\", \"pgf\", \"pdf\", \"png\", \"ps\", \"raw\", \"svg\", \"tif\", \"webp\"];\n",
       "\n",
       "mpl.default_extension = \"png\";/* global mpl */\n",
       "\n",
       "var comm_websocket_adapter = function (comm) {\n",
       "    // Create a \"websocket\"-like object which calls the given IPython comm\n",
       "    // object with the appropriate methods. Currently this is a non binary\n",
       "    // socket, so there is still some room for performance tuning.\n",
       "    var ws = {};\n",
       "\n",
       "    ws.binaryType = comm.kernel.ws.binaryType;\n",
       "    ws.readyState = comm.kernel.ws.readyState;\n",
       "    function updateReadyState(_event) {\n",
       "        if (comm.kernel.ws) {\n",
       "            ws.readyState = comm.kernel.ws.readyState;\n",
       "        } else {\n",
       "            ws.readyState = 3; // Closed state.\n",
       "        }\n",
       "    }\n",
       "    comm.kernel.ws.addEventListener('open', updateReadyState);\n",
       "    comm.kernel.ws.addEventListener('close', updateReadyState);\n",
       "    comm.kernel.ws.addEventListener('error', updateReadyState);\n",
       "\n",
       "    ws.close = function () {\n",
       "        comm.close();\n",
       "    };\n",
       "    ws.send = function (m) {\n",
       "        //console.log('sending', m);\n",
       "        comm.send(m);\n",
       "    };\n",
       "    // Register the callback with on_msg.\n",
       "    comm.on_msg(function (msg) {\n",
       "        //console.log('receiving', msg['content']['data'], msg);\n",
       "        var data = msg['content']['data'];\n",
       "        if (data['blob'] !== undefined) {\n",
       "            data = {\n",
       "                data: new Blob(msg['buffers'], { type: data['blob'] }),\n",
       "            };\n",
       "        }\n",
       "        // Pass the mpl event to the overridden (by mpl) onmessage function.\n",
       "        ws.onmessage(data);\n",
       "    });\n",
       "    return ws;\n",
       "};\n",
       "\n",
       "mpl.mpl_figure_comm = function (comm, msg) {\n",
       "    // This is the function which gets called when the mpl process\n",
       "    // starts-up an IPython Comm through the \"matplotlib\" channel.\n",
       "\n",
       "    var id = msg.content.data.id;\n",
       "    // Get hold of the div created by the display call when the Comm\n",
       "    // socket was opened in Python.\n",
       "    var element = document.getElementById(id);\n",
       "    var ws_proxy = comm_websocket_adapter(comm);\n",
       "\n",
       "    function ondownload(figure, _format) {\n",
       "        window.open(figure.canvas.toDataURL());\n",
       "    }\n",
       "\n",
       "    var fig = new mpl.figure(id, ws_proxy, ondownload, element);\n",
       "\n",
       "    // Call onopen now - mpl needs it, as it is assuming we've passed it a real\n",
       "    // web socket which is closed, not our websocket->open comm proxy.\n",
       "    ws_proxy.onopen();\n",
       "\n",
       "    fig.parent_element = element;\n",
       "    fig.cell_info = mpl.find_output_cell(\"<div id='\" + id + \"'></div>\");\n",
       "    if (!fig.cell_info) {\n",
       "        console.error('Failed to find cell for figure', id, fig);\n",
       "        return;\n",
       "    }\n",
       "    fig.cell_info[0].output_area.element.on(\n",
       "        'cleared',\n",
       "        { fig: fig },\n",
       "        fig._remove_fig_handler\n",
       "    );\n",
       "};\n",
       "\n",
       "mpl.figure.prototype.handle_close = function (fig, msg) {\n",
       "    var width = fig.canvas.width / fig.ratio;\n",
       "    fig.cell_info[0].output_area.element.off(\n",
       "        'cleared',\n",
       "        fig._remove_fig_handler\n",
       "    );\n",
       "    fig.resizeObserverInstance.unobserve(fig.canvas_div);\n",
       "\n",
       "    // Update the output cell to use the data from the current canvas.\n",
       "    fig.push_to_output();\n",
       "    var dataURL = fig.canvas.toDataURL();\n",
       "    // Re-enable the keyboard manager in IPython - without this line, in FF,\n",
       "    // the notebook keyboard shortcuts fail.\n",
       "    IPython.keyboard_manager.enable();\n",
       "    fig.parent_element.innerHTML =\n",
       "        '<img src=\"' + dataURL + '\" width=\"' + width + '\">';\n",
       "    fig.close_ws(fig, msg);\n",
       "};\n",
       "\n",
       "mpl.figure.prototype.close_ws = function (fig, msg) {\n",
       "    fig.send_message('closing', msg);\n",
       "    // fig.ws.close()\n",
       "};\n",
       "\n",
       "mpl.figure.prototype.push_to_output = function (_remove_interactive) {\n",
       "    // Turn the data on the canvas into data in the output cell.\n",
       "    var width = this.canvas.width / this.ratio;\n",
       "    var dataURL = this.canvas.toDataURL();\n",
       "    this.cell_info[1]['text/html'] =\n",
       "        '<img src=\"' + dataURL + '\" width=\"' + width + '\">';\n",
       "};\n",
       "\n",
       "mpl.figure.prototype.updated_canvas_event = function () {\n",
       "    // Tell IPython that the notebook contents must change.\n",
       "    IPython.notebook.set_dirty(true);\n",
       "    this.send_message('ack', {});\n",
       "    var fig = this;\n",
       "    // Wait a second, then push the new image to the DOM so\n",
       "    // that it is saved nicely (might be nice to debounce this).\n",
       "    setTimeout(function () {\n",
       "        fig.push_to_output();\n",
       "    }, 1000);\n",
       "};\n",
       "\n",
       "mpl.figure.prototype._init_toolbar = function () {\n",
       "    var fig = this;\n",
       "\n",
       "    var toolbar = document.createElement('div');\n",
       "    toolbar.classList = 'btn-toolbar';\n",
       "    this.root.appendChild(toolbar);\n",
       "\n",
       "    function on_click_closure(name) {\n",
       "        return function (_event) {\n",
       "            return fig.toolbar_button_onclick(name);\n",
       "        };\n",
       "    }\n",
       "\n",
       "    function on_mouseover_closure(tooltip) {\n",
       "        return function (event) {\n",
       "            if (!event.currentTarget.disabled) {\n",
       "                return fig.toolbar_button_onmouseover(tooltip);\n",
       "            }\n",
       "        };\n",
       "    }\n",
       "\n",
       "    fig.buttons = {};\n",
       "    var buttonGroup = document.createElement('div');\n",
       "    buttonGroup.classList = 'btn-group';\n",
       "    var button;\n",
       "    for (var toolbar_ind in mpl.toolbar_items) {\n",
       "        var name = mpl.toolbar_items[toolbar_ind][0];\n",
       "        var tooltip = mpl.toolbar_items[toolbar_ind][1];\n",
       "        var image = mpl.toolbar_items[toolbar_ind][2];\n",
       "        var method_name = mpl.toolbar_items[toolbar_ind][3];\n",
       "\n",
       "        if (!name) {\n",
       "            /* Instead of a spacer, we start a new button group. */\n",
       "            if (buttonGroup.hasChildNodes()) {\n",
       "                toolbar.appendChild(buttonGroup);\n",
       "            }\n",
       "            buttonGroup = document.createElement('div');\n",
       "            buttonGroup.classList = 'btn-group';\n",
       "            continue;\n",
       "        }\n",
       "\n",
       "        button = fig.buttons[name] = document.createElement('button');\n",
       "        button.classList = 'btn btn-default';\n",
       "        button.href = '#';\n",
       "        button.title = name;\n",
       "        button.innerHTML = '<i class=\"fa ' + image + ' fa-lg\"></i>';\n",
       "        button.addEventListener('click', on_click_closure(method_name));\n",
       "        button.addEventListener('mouseover', on_mouseover_closure(tooltip));\n",
       "        buttonGroup.appendChild(button);\n",
       "    }\n",
       "\n",
       "    if (buttonGroup.hasChildNodes()) {\n",
       "        toolbar.appendChild(buttonGroup);\n",
       "    }\n",
       "\n",
       "    // Add the status bar.\n",
       "    var status_bar = document.createElement('span');\n",
       "    status_bar.classList = 'mpl-message pull-right';\n",
       "    toolbar.appendChild(status_bar);\n",
       "    this.message = status_bar;\n",
       "\n",
       "    // Add the close button to the window.\n",
       "    var buttongrp = document.createElement('div');\n",
       "    buttongrp.classList = 'btn-group inline pull-right';\n",
       "    button = document.createElement('button');\n",
       "    button.classList = 'btn btn-mini btn-primary';\n",
       "    button.href = '#';\n",
       "    button.title = 'Stop Interaction';\n",
       "    button.innerHTML = '<i class=\"fa fa-power-off icon-remove icon-large\"></i>';\n",
       "    button.addEventListener('click', function (_evt) {\n",
       "        fig.handle_close(fig, {});\n",
       "    });\n",
       "    button.addEventListener(\n",
       "        'mouseover',\n",
       "        on_mouseover_closure('Stop Interaction')\n",
       "    );\n",
       "    buttongrp.appendChild(button);\n",
       "    var titlebar = this.root.querySelector('.ui-dialog-titlebar');\n",
       "    titlebar.insertBefore(buttongrp, titlebar.firstChild);\n",
       "};\n",
       "\n",
       "mpl.figure.prototype._remove_fig_handler = function (event) {\n",
       "    var fig = event.data.fig;\n",
       "    if (event.target !== this) {\n",
       "        // Ignore bubbled events from children.\n",
       "        return;\n",
       "    }\n",
       "    fig.close_ws(fig, {});\n",
       "};\n",
       "\n",
       "mpl.figure.prototype._root_extra_style = function (el) {\n",
       "    el.style.boxSizing = 'content-box'; // override notebook setting of border-box.\n",
       "};\n",
       "\n",
       "mpl.figure.prototype._canvas_extra_style = function (el) {\n",
       "    // this is important to make the div 'focusable\n",
       "    el.setAttribute('tabindex', 0);\n",
       "    // reach out to IPython and tell the keyboard manager to turn it's self\n",
       "    // off when our div gets focus\n",
       "\n",
       "    // location in version 3\n",
       "    if (IPython.notebook.keyboard_manager) {\n",
       "        IPython.notebook.keyboard_manager.register_events(el);\n",
       "    } else {\n",
       "        // location in version 2\n",
       "        IPython.keyboard_manager.register_events(el);\n",
       "    }\n",
       "};\n",
       "\n",
       "mpl.figure.prototype._key_event_extra = function (event, _name) {\n",
       "    // Check for shift+enter\n",
       "    if (event.shiftKey && event.which === 13) {\n",
       "        this.canvas_div.blur();\n",
       "        // select the cell after this one\n",
       "        var index = IPython.notebook.find_cell_index(this.cell_info[0]);\n",
       "        IPython.notebook.select(index + 1);\n",
       "    }\n",
       "};\n",
       "\n",
       "mpl.figure.prototype.handle_save = function (fig, _msg) {\n",
       "    fig.ondownload(fig, null);\n",
       "};\n",
       "\n",
       "mpl.find_output_cell = function (html_output) {\n",
       "    // Return the cell and output element which can be found *uniquely* in the notebook.\n",
       "    // Note - this is a bit hacky, but it is done because the \"notebook_saving.Notebook\"\n",
       "    // IPython event is triggered only after the cells have been serialised, which for\n",
       "    // our purposes (turning an active figure into a static one), is too late.\n",
       "    var cells = IPython.notebook.get_cells();\n",
       "    var ncells = cells.length;\n",
       "    for (var i = 0; i < ncells; i++) {\n",
       "        var cell = cells[i];\n",
       "        if (cell.cell_type === 'code') {\n",
       "            for (var j = 0; j < cell.output_area.outputs.length; j++) {\n",
       "                var data = cell.output_area.outputs[j];\n",
       "                if (data.data) {\n",
       "                    // IPython >= 3 moved mimebundle to data attribute of output\n",
       "                    data = data.data;\n",
       "                }\n",
       "                if (data['text/html'] === html_output) {\n",
       "                    return [cell, data, j];\n",
       "                }\n",
       "            }\n",
       "        }\n",
       "    }\n",
       "};\n",
       "\n",
       "// Register the function which deals with the matplotlib target/channel.\n",
       "// The kernel may be null if the page has been refreshed.\n",
       "if (IPython.notebook.kernel !== null) {\n",
       "    IPython.notebook.kernel.comm_manager.register_target(\n",
       "        'matplotlib',\n",
       "        mpl.mpl_figure_comm\n",
       "    );\n",
       "}\n"
      ],
      "text/plain": [
       "<IPython.core.display.Javascript object>"
      ]
     },
     "metadata": {},
     "output_type": "display_data"
    },
    {
     "data": {
      "text/html": [
       "<img src=\"data:image/png;base64,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\" width=\"499.9999891627921\">"
      ],
      "text/plain": [
       "<IPython.core.display.HTML object>"
      ]
     },
     "metadata": {},
     "output_type": "display_data"
    }
   ],
   "source": [
    "%matplotlib notebook  \n",
    "\n",
    "CCS(xyz=[], Oijk=origin, ijk=basis, point=markers, vector=True);"
   ]
  },
  {
   "cell_type": "markdown",
   "metadata": {
    "slideshow": {
     "slide_type": "slide"
    }
   },
   "source": [
    "### Gram–Schmidt process\n",
    "\n",
    "Another classical procedure in mathematics, employing the scalar product, is known as the [Gram–Schmidt process](http://en.wikipedia.org/wiki/Gram%E2%80%93Schmidt_process). See the notebook [Scalar and Vector](http://nbviewer.jupyter.org/github/bmclab/BMC/blob/master/notebooks/ScalarVector.ipynb) for a demonstration of the Gram–Schmidt process and how to implement it in Python.\n",
    "\n",
    "The [Gram–Schmidt process](http://en.wikipedia.org/wiki/Gram%E2%80%93Schmidt_process) is a method for orthonormalizing (orthogonal unit versors) a set of vectors using the scalar product. The Gram–Schmidt process works for any number of vectors.   \n",
    "\n",
    "For example, given three vectors, <span class=\"notranslate\">\n",
    "$\\overrightarrow{\\mathbf{a}}, \\overrightarrow{\\mathbf{b}}, \\overrightarrow{\\mathbf{c}}$</span>, in the 3D space, a basis $\\{\\hat{e}_a, \\hat{e}_b, \\hat{e}_c\\}$ can be found using the Gram–Schmidt process by: "
   ]
  },
  {
   "cell_type": "markdown",
   "metadata": {
    "slideshow": {
     "slide_type": "slide"
    }
   },
   "source": [
    "The first versor is in the <span class=\"notranslate\">\n",
    "$\\overrightarrow{\\mathbf{a}}$</span> direction (or in the direction of any of the other vectors):  \n",
    "\n",
    "<span class=\"notranslate\">\n",
    "\\begin{equation}\n",
    "\\hat{e}_a = \\frac{\\overrightarrow{\\mathbf{a}}}{||\\overrightarrow{\\mathbf{a}}||}\n",
    "\\end{equation}\n",
    "</span>"
   ]
  },
  {
   "cell_type": "markdown",
   "metadata": {
    "slideshow": {
     "slide_type": "slide"
    }
   },
   "source": [
    "The second versor, orthogonal to $\\hat{e}_a$, can be found considering we can express vector $\\overrightarrow{\\mathbf{b}}$ in terms of the $\\hat{e}_a$ direction as:  \n",
    "\n",
    "$$ \\overrightarrow{\\mathbf{b}} = \\overrightarrow{\\mathbf{b}}^\\| + \\overrightarrow{\\mathbf{b}}^\\bot $$\n",
    "\n",
    "Then:\n",
    "\n",
    "$$ \\overrightarrow{\\mathbf{b}}^\\bot = \\overrightarrow{\\mathbf{b}} - \\overrightarrow{\\mathbf{b}}^\\| = \\overrightarrow{\\mathbf{b}} - (\\overrightarrow{\\mathbf{b}} \\cdot \\hat{e}_a ) \\hat{e}_a $$\n",
    "\n",
    "Finally:\n",
    "\n",
    "$$ \\hat{e}_b = \\frac{\\overrightarrow{\\mathbf{b}}^\\bot}{||\\overrightarrow{\\mathbf{b}}^\\bot||} $$"
   ]
  },
  {
   "cell_type": "markdown",
   "metadata": {
    "slideshow": {
     "slide_type": "slide"
    }
   },
   "source": [
    "The third versor, orthogonal to $\\{\\hat{e}_a, \\hat{e}_b\\}$, can be found expressing the vector $\\overrightarrow{\\mathbf{C}}$ in terms of $\\hat{e}_a$ and $\\hat{e}_b$ directions as:\n",
    "\n",
    "$$ \\overrightarrow{\\mathbf{c}} = \\overrightarrow{\\mathbf{c}}^\\| + \\overrightarrow{\\mathbf{c}}^\\bot $$\n",
    "\n",
    "Then:\n",
    "\n",
    "$$ \\overrightarrow{\\mathbf{c}}^\\bot = \\overrightarrow{\\mathbf{c}} - \\overrightarrow{\\mathbf{c}}^\\| $$\n",
    "\n",
    "Where:\n",
    "\n",
    "$$ \\overrightarrow{\\mathbf{c}}^\\| = (\\overrightarrow{\\mathbf{c}} \\cdot \\hat{e}_a ) \\hat{e}_a + (\\overrightarrow{\\mathbf{c}} \\cdot \\hat{e}_b ) \\hat{e}_b $$\n",
    "\n",
    "Finally:\n",
    "\n",
    "$$ \\hat{e}_c = \\frac{\\overrightarrow{\\mathbf{c}}^\\bot}{||\\overrightarrow{\\mathbf{c}}^\\bot||} $$"
   ]
  },
  {
   "cell_type": "markdown",
   "metadata": {
    "slideshow": {
     "slide_type": "slide"
    }
   },
   "source": [
    "Let's implement the Gram–Schmidt process in Python.\n",
    "\n",
    "For example, consider the positions (vectors) <span class=\"notranslate\">\n",
    "$\\overrightarrow{\\mathbf{a}} = [1,2,0], \\overrightarrow{\\mathbf{b}} = [0,1,3], \\overrightarrow{\\mathbf{c}} = [1,0,1]$</span>:"
   ]
  },
  {
   "cell_type": "markdown",
   "metadata": {
    "slideshow": {
     "slide_type": "slide"
    }
   },
   "source": [
    "The first versor is:"
   ]
  },
  {
   "cell_type": "code",
   "execution_count": 9,
   "metadata": {
    "ExecuteTime": {
     "end_time": "2021-11-03T23:37:40.604375Z",
     "start_time": "2021-11-03T23:37:40.599445Z"
    }
   },
   "outputs": [
    {
     "name": "stdout",
     "output_type": "stream",
     "text": [
      "[0.18257419 0.36514837 0.91287093]\n"
     ]
    }
   ],
   "source": [
    "ea = m1/np.linalg.norm(m1)\n",
    "print(ea)"
   ]
  },
  {
   "cell_type": "markdown",
   "metadata": {
    "slideshow": {
     "slide_type": "slide"
    }
   },
   "source": [
    "The second versor is:"
   ]
  },
  {
   "cell_type": "code",
   "execution_count": 10,
   "metadata": {
    "ExecuteTime": {
     "end_time": "2021-11-03T23:37:42.965121Z",
     "start_time": "2021-11-03T23:37:42.955392Z"
    }
   },
   "outputs": [
    {
     "name": "stdout",
     "output_type": "stream",
     "text": [
      "[ 0.59020849  0.70186955 -0.39878952]\n"
     ]
    }
   ],
   "source": [
    "eb = m2 - np.dot(m2, ea)*ea\n",
    "eb = eb/np.linalg.norm(eb)\n",
    "print(eb)"
   ]
  },
  {
   "cell_type": "markdown",
   "metadata": {
    "slideshow": {
     "slide_type": "slide"
    }
   },
   "source": [
    "And the third version is:"
   ]
  },
  {
   "cell_type": "code",
   "execution_count": 11,
   "metadata": {
    "ExecuteTime": {
     "end_time": "2021-11-03T23:37:54.663236Z",
     "start_time": "2021-11-03T23:37:54.656571Z"
    }
   },
   "outputs": [
    {
     "name": "stdout",
     "output_type": "stream",
     "text": [
      "[ 0.78633365 -0.61159284  0.08737041]\n"
     ]
    }
   ],
   "source": [
    "ec = m3 - np.dot(m3, ea)*ea - np.dot(m3, eb)*eb\n",
    "ec = ec/np.linalg.norm(ec)\n",
    "print(ec)"
   ]
  },
  {
   "cell_type": "markdown",
   "metadata": {
    "slideshow": {
     "slide_type": "slide"
    }
   },
   "source": [
    "Let's check the orthonormality between these versors:"
   ]
  },
  {
   "cell_type": "code",
   "execution_count": 12,
   "metadata": {
    "ExecuteTime": {
     "end_time": "2021-11-03T23:38:07.791011Z",
     "start_time": "2021-11-03T23:38:07.776900Z"
    }
   },
   "outputs": [
    {
     "name": "stdout",
     "output_type": "stream",
     "text": [
      " Versors: \n",
      "ea = [0.18257419 0.36514837 0.91287093] \n",
      "eb = [ 0.59020849  0.70186955 -0.39878952] \n",
      "ec = [ 0.78633365 -0.61159284  0.08737041]\n",
      "\n",
      " Norm of each versor: \n",
      " ||ea|| = 1.0 \n",
      " ||eb|| = 1.0 \n",
      " ||ec|| = 1.0\n",
      "\n",
      " Test of orthogonality (scalar product between versors): \n",
      " ea . eb: -3.3078832836166177e-16 \n",
      " eb . ec: 5.001096921191669e-17 \n",
      " ec . ea: 7.114725068447068e-17\n"
     ]
    }
   ],
   "source": [
    "print(\" Versors:\", \"\\nea =\", ea, \"\\neb =\", eb, \"\\nec =\", ec)\n",
    "\n",
    "print(\n",
    "    \"\\n Norm of each versor:\",\n",
    "    \"\\n ||ea|| =\",\n",
    "    np.linalg.norm(ea),\n",
    "    \"\\n ||eb|| =\",\n",
    "    np.linalg.norm(eb),\n",
    "    \"\\n ||ec|| =\",\n",
    "    np.linalg.norm(ec),\n",
    ")\n",
    "\n",
    "print(\n",
    "    \"\\n Test of orthogonality (scalar product between versors):\",\n",
    "    \"\\n ea . eb:\",\n",
    "    np.dot(ea, eb),\n",
    "    \"\\n eb . ec:\",\n",
    "    np.dot(eb, ec),\n",
    "    \"\\n ec . ea:\",\n",
    "    np.dot(ec, ea),\n",
    ")"
   ]
  },
  {
   "cell_type": "markdown",
   "metadata": {},
   "source": [
    "## Further reading\n",
    "\n",
    "- [The right frame of reference makes it simple: An example of introductory mechanics supported by video analysis of motion](https://www.researchgate.net/publication/267761615_The_right_frame_of_reference_makes_it_simple_An_example_of_introductory_mechanics_supported_by_video_analysis_of_motion).  \n"
   ]
  },
  {
   "cell_type": "markdown",
   "metadata": {},
   "source": [
    "## Video lectures on the Internet\n",
    "\n",
    "- [Introduction to reference - Khan Academy](https://www.khanacademy.org/science/physics/one-dimensional-motion/displacement-velocity-time/v/introduction-to-reference-frames)  \n",
    "- [Biomechanics of Movement | Demo: Motion Capture Placement and Reference Frames](https://youtu.be/ctwoH59Obew)  "
   ]
  },
  {
   "cell_type": "markdown",
   "metadata": {
    "slideshow": {
     "slide_type": "slide"
    }
   },
   "source": [
    "## Problems\n",
    "\n",
    "1. Right now, how fast are you moving? In your answer, consider your motion in relation to Earth and in relation to Sun.\n",
    "\n",
    "2. Go to the website [http://www.wisc-online.com/Objects/ViewObject.aspx?ID=AP15305](http://www.wisc-online.com/Objects/ViewObject.aspx?ID=AP15305) and complete the interactive lesson to learn about the anatomical terminology to describe relative position in the human body.\n",
    "\n",
    "3. To learn more about Cartesian coordinate systems go to the website [http://www.mathsisfun.com/data/cartesian-coordinates.html](http://www.mathsisfun.com/data/cartesian-coordinates.html), study the material, and answer the 10 questions at the end.\n",
    "\n",
    "4. Given the points in the 3D space, m1 = [2, 2, 0], m2 = [0, 1, 1], m3 = [1, 2, 0], find an orthonormal basis.\n",
    "\n",
    "5. Determine if the following points form a basis in the 3D space, m1 = [2, 2, 0], m2 = [1, 1, 1], m3 = [1, 1, 0].\n",
    "\n",
    "6. Derive expressions for the three axes of the pelvic basis considering the convention of the [Virtual Animation of the Kinematics of the Human for Industrial, Educational and Research Purposes (VAKHUM)](https://github.com/BMClab/BMC/blob/master/courses/refs/VAKHUM.pdf) project (use RASIS, LASIS, RPSIS, and LPSIS as names for the pelvic anatomical landmarks and indicate the expression for each axis).\n",
    "\n",
    "7. Determine the basis for the pelvis following the convention of the [Virtual Animation of the Kinematics of the Human for Industrial, Educational and Research Purposes (VAKHUM)](https://github.com/BMClab/BMC/blob/master/courses/refs/VAKHUM.pdf) project for the following anatomical landmark positions (units in meters): RASIS=[0.5, 0.8, 0.4], LASIS=[0.55, 0.78, 0.1], RPSIS=[0.3, 0.85, 0.2], LPSIS=[0.29, 0.78, 0.3]."
   ]
  },
  {
   "cell_type": "markdown",
   "metadata": {
    "slideshow": {
     "slide_type": "slide"
    }
   },
   "source": [
    "## References\n",
    "\n",
    "- Corke P (2017) [Robotics, Vision and Control: Fundamental Algorithms in MATLAB](https://petercorke.com/RVC/). 2nd ed. Springer-Verlag Berlin.  \n",
    "- [Standards - International Society of Biomechanics](https://isbweb.org/activities/standards).  \n",
    "- Stanford Encyclopedia of Philosophy. [Space and Time: Inertial Frames](http://plato.stanford.edu/entries/spacetime-iframes/).  \n",
    "- [Virtual Animation of the Kinematics of the Human for Industrial, Educational and Research Purposes (VAKHUM)](https://github.com/BMClab/BMC/blob/master/courses/refs/VAKHUM.pdf).  "
   ]
  }
 ],
 "metadata": {
  "anaconda-cloud": {},
  "hide_input": false,
  "kernelspec": {
   "display_name": "Python 3 (ipykernel)",
   "language": "python",
   "name": "python3"
  },
  "language_info": {
   "codemirror_mode": {
    "name": "ipython",
    "version": 3
   },
   "file_extension": ".py",
   "mimetype": "text/x-python",
   "name": "python",
   "nbconvert_exporter": "python",
   "pygments_lexer": "ipython3",
   "version": "3.9.13"
  },
  "latex_envs": {
   "LaTeX_envs_menu_present": true,
   "autoclose": false,
   "autocomplete": true,
   "bibliofile": "biblio.bib",
   "cite_by": "apalike",
   "current_citInitial": 1,
   "eqLabelWithNumbers": true,
   "eqNumInitial": 1,
   "hotkeys": {
    "equation": "Ctrl-E",
    "itemize": "Ctrl-I"
   },
   "labels_anchors": false,
   "latex_user_defs": false,
   "report_style_numbering": false,
   "user_envs_cfg": false
  },
  "nbTranslate": {
   "displayLangs": [
    "*"
   ],
   "hotkey": "alt-t",
   "langInMainMenu": true,
   "sourceLang": "en",
   "targetLang": "fr",
   "useGoogleTranslate": true
  },
  "toc": {
   "base_numbering": 1,
   "nav_menu": {},
   "number_sections": true,
   "sideBar": true,
   "skip_h1_title": true,
   "title_cell": "Contents",
   "title_sidebar": "Contents",
   "toc_cell": true,
   "toc_position": {
    "height": "calc(100% - 180px)",
    "left": "10px",
    "top": "150px",
    "width": "348.906px"
   },
   "toc_section_display": true,
   "toc_window_display": false
  },
  "varInspector": {
   "cols": {
    "lenName": 16,
    "lenType": 16,
    "lenVar": 40
   },
   "kernels_config": {
    "python": {
     "delete_cmd_postfix": "",
     "delete_cmd_prefix": "del ",
     "library": "var_list.py",
     "varRefreshCmd": "print(var_dic_list())"
    },
    "r": {
     "delete_cmd_postfix": ") ",
     "delete_cmd_prefix": "rm(",
     "library": "var_list.r",
     "varRefreshCmd": "cat(var_dic_list()) "
    }
   },
   "types_to_exclude": [
    "module",
    "function",
    "builtin_function_or_method",
    "instance",
    "_Feature"
   ],
   "window_display": false
  }
 },
 "nbformat": 4,
 "nbformat_minor": 2
}
