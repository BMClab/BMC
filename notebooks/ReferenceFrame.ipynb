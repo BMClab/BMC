{
 "cells": [
  {
   "cell_type": "markdown",
   "metadata": {
    "slideshow": {
     "slide_type": "slide"
    }
   },
   "source": [
    "# Frame of reference\n",
    "\n",
    "\n",
    "> Marcos Duarte, Renato Naville Watanabe  \n",
    "> [Laboratory of Biomechanics and Motor Control](https://bmclab.pesquisa.ufabc.edu.br/)  \n",
    "> Federal University of ABC, Brazil"
   ]
  },
  {
   "cell_type": "markdown",
   "metadata": {
    "toc": true
   },
   "source": [
    "<h1>Contents<span class=\"tocSkip\"></span></h1>\n",
    "<div class=\"toc\"><ul class=\"toc-item\"><li><span><a href=\"#Frame-of-reference-for-human-motion-analysis\" data-toc-modified-id=\"Frame-of-reference-for-human-motion-analysis-1\"><span class=\"toc-item-num\">1&nbsp;&nbsp;</span>Frame of reference for human motion analysis</a></span></li><li><span><a href=\"#Cartesian-coordinate-system\" data-toc-modified-id=\"Cartesian-coordinate-system-2\"><span class=\"toc-item-num\">2&nbsp;&nbsp;</span>Cartesian coordinate system</a></span><ul class=\"toc-item\"><li><span><a href=\"#Standardizations-in-movement-analysis\" data-toc-modified-id=\"Standardizations-in-movement-analysis-2.1\"><span class=\"toc-item-num\">2.1&nbsp;&nbsp;</span>Standardizations in movement analysis</a></span></li></ul></li><li><span><a href=\"#Determination-of-a-coordinate-system\" data-toc-modified-id=\"Determination-of-a-coordinate-system-3\"><span class=\"toc-item-num\">3&nbsp;&nbsp;</span>Determination of a coordinate system</a></span><ul class=\"toc-item\"><li><span><a href=\"#Definition-of-a-basis\" data-toc-modified-id=\"Definition-of-a-basis-3.1\"><span class=\"toc-item-num\">3.1&nbsp;&nbsp;</span>Definition of a basis</a></span></li><li><span><a href=\"#Using-the-cross-product\" data-toc-modified-id=\"Using-the-cross-product-3.2\"><span class=\"toc-item-num\">3.2&nbsp;&nbsp;</span>Using the cross product</a></span></li><li><span><a href=\"#Coordinate-system:-origin-and-basis\" data-toc-modified-id=\"Coordinate-system:-origin-and-basis-3.3\"><span class=\"toc-item-num\">3.3&nbsp;&nbsp;</span>Coordinate system: origin and basis</a></span><ul class=\"toc-item\"><li><span><a href=\"#Visualization-of-the-coordinate-system\" data-toc-modified-id=\"Visualization-of-the-coordinate-system-3.3.1\"><span class=\"toc-item-num\">3.3.1&nbsp;&nbsp;</span>Visualization of the coordinate system</a></span></li></ul></li><li><span><a href=\"#Gram–Schmidt-process\" data-toc-modified-id=\"Gram–Schmidt-process-3.4\"><span class=\"toc-item-num\">3.4&nbsp;&nbsp;</span>Gram–Schmidt process</a></span><ul class=\"toc-item\"><li><span><a href=\"#Visualization-of-the-coordinate-system\" data-toc-modified-id=\"Visualization-of-the-coordinate-system-3.4.1\"><span class=\"toc-item-num\">3.4.1&nbsp;&nbsp;</span>Visualization of the coordinate system</a></span></li></ul></li></ul></li><li><span><a href=\"#Further-reading\" data-toc-modified-id=\"Further-reading-4\"><span class=\"toc-item-num\">4&nbsp;&nbsp;</span>Further reading</a></span></li><li><span><a href=\"#Video-lectures-on-the-Internet\" data-toc-modified-id=\"Video-lectures-on-the-Internet-5\"><span class=\"toc-item-num\">5&nbsp;&nbsp;</span>Video lectures on the Internet</a></span></li><li><span><a href=\"#Problems\" data-toc-modified-id=\"Problems-6\"><span class=\"toc-item-num\">6&nbsp;&nbsp;</span>Problems</a></span></li><li><span><a href=\"#References\" data-toc-modified-id=\"References-7\"><span class=\"toc-item-num\">7&nbsp;&nbsp;</span>References</a></span></li></ul></div>"
   ]
  },
  {
   "cell_type": "markdown",
   "metadata": {
    "slideshow": {
     "slide_type": "skip"
    }
   },
   "source": [
    "<a href=\"http://en.wikipedia.org/wiki/Motion_(physics)\">Motion</a> (a change of position in space with respect to time) is not an absolute concept; a reference is needed to describe the motion of the object in relation to this reference. Likewise, the state of such reference cannot be absolute in space and so motion is relative.    \n",
    "A [frame of reference](http://en.wikipedia.org/wiki/Frame_of_reference) is the place with respect to we choose to describe the motion of an object. In this reference frame, we define a [coordinate system](http://en.wikipedia.org/wiki/Coordinate_system) (a set of axes) within which we measure the motion of an object (but frame of reference and coordinate system are often used interchangeably).  \n",
    "\n",
    "Often, the choice of reference frame and coordinate system is made by convenience. However, there is an important distinction between reference frames when we deal with the dynamics of motion, where we are interested to understand the forces related to the motion of the object. In dynamics, we refer to [inertial frame of reference](http://en.wikipedia.org/wiki/Inertial_frame_of_reference) (a.k.a., Galilean reference frame) when the Newton's laws of motion in their simple form are valid in this frame and to non-inertial frame of reference when the Newton's laws in their simple form are not valid (in such reference frame, fictitious accelerations/forces appear). An inertial reference frame is at rest or moves at constant speed (because there is no absolute rest!), whereas a non-inertial reference frame is under acceleration (with respect to an inertial reference frame).\n",
    "\n",
    "The concept of frame of reference has changed drastically since Aristotle, Galileo, Newton, and Einstein. To read more about that and its philosophical implications, see [Space and Time: Inertial Frames](http://plato.stanford.edu/entries/spacetime-iframes/)."
   ]
  },
  {
   "cell_type": "markdown",
   "metadata": {
    "slideshow": {
     "slide_type": "slide"
    }
   },
   "source": [
    "## Frame of reference for human motion analysis\n",
    "\n",
    "In anatomy, we use a simplified reference frame composed by perpendicular planes to provide a standard reference for qualitatively describing the structures and movements of the human body, as shown in the next figure.\n",
    "\n",
    "<div class='center-align'><figure><img src=\"http://upload.wikimedia.org/wikipedia/commons/3/34/BodyPlanes.jpg\" width=\"300\" alt=\"Anatomical body position\"/><figcaption><center><i>Figure. Anatomical body position and body planes (<a href=\"http://en.wikipedia.org/wiki/Human_anatomical_terms\" target=\"_blank\">image from Wikipedia</a>).</i></center></figcaption> </figure></div> "
   ]
  },
  {
   "cell_type": "markdown",
   "metadata": {
    "slideshow": {
     "slide_type": "slide"
    }
   },
   "source": [
    "## Cartesian coordinate system\n",
    "\n",
    "As we perceive the surrounding space as three-dimensional, a convenient coordinate system is the [Cartesian coordinate system](http://en.wikipedia.org/wiki/Cartesian_coordinate_system) in the [Euclidean space](http://en.wikipedia.org/wiki/Euclidean_space) with three orthogonal axes as shown below. The axes directions are commonly defined by the [right-hand rule](http://en.wikipedia.org/wiki/Right-hand_rule) and attributed the letters X, Y, Z. The orthogonality of the Cartesian coordinate system is convenient for its use in classical mechanics, most of the times the structure of space is assumed having the [Euclidean geometry](http://en.wikipedia.org/wiki/Euclidean_geometry) and as consequence, the motion in different directions are independent of each other.  \n",
    "\n",
    "<div class='center-align'><figure><img src=\"https://raw.githubusercontent.com/demotu/BMC/master/images/CCS.png\" width=350/><figcaption><center><i>Figure. A point in three-dimensional Euclidean space described in a Cartesian coordinate system.</i></center></figcaption> </figure></div>"
   ]
  },
  {
   "cell_type": "markdown",
   "metadata": {
    "slideshow": {
     "slide_type": "slide"
    }
   },
   "source": [
    "### Standardizations in movement analysis\n",
    "\n",
    "The concept of reference frame in Biomechanics and motor control is very important and central to the understanding of human motion. For example, do we see, plan and control the movement of our hand with respect to reference frames within our body or in the environment we move? Or a combination of both?  \n",
    "The figure below, although derived for a robotic system, illustrates well the concept that we might have to deal with multiple coordinate systems.  \n",
    "\n",
    "<div class='center-align'><figure><img src=\"https://raw.githubusercontent.com/demotu/BMC/master/images/coordinatesystems.png\" width=450/><figcaption><center><i>Figure. Multiple coordinate systems for use in robots (figure from Corke (2017)).</i></center></figcaption></figure></div>\n",
    "\n",
    "For three-dimensional motion analysis in Biomechanics, we may use several different references frames for convenience and refer to them as global, laboratory, local, anatomical, or technical reference frames or coordinate systems (we will study this later).  \n",
    "There has been proposed different standardizations on how to define frame of references for the main segments and joints of the human body. For instance, the International Society of Biomechanics has a [page listing standardization proposals](https://isbweb.org/activities/standards) by its standardization committee and subcommittees:"
   ]
  },
  {
   "cell_type": "code",
   "execution_count": 1,
   "metadata": {
    "ExecuteTime": {
     "end_time": "2021-11-03T20:48:31.724735Z",
     "start_time": "2021-11-03T20:48:31.716733Z"
    },
    "scrolled": false,
    "slideshow": {
     "slide_type": "skip"
    }
   },
   "outputs": [
    {
     "data": {
      "text/html": [
       "\n",
       "        <iframe\n",
       "            width=\"100%\"\n",
       "            height=\"400\"\n",
       "            src=\"https://isbweb.org/activities/standards\"\n",
       "            frameborder=\"0\"\n",
       "            allowfullscreen\n",
       "            \n",
       "        ></iframe>\n",
       "        "
      ],
      "text/plain": [
       "<IPython.lib.display.IFrame at 0x7fce19708370>"
      ]
     },
     "execution_count": 1,
     "metadata": {},
     "output_type": "execute_result"
    }
   ],
   "source": [
    "from IPython.display import IFrame\n",
    "IFrame('https://isbweb.org/activities/standards', width='100%', height=400)"
   ]
  },
  {
   "cell_type": "markdown",
   "metadata": {
    "slideshow": {
     "slide_type": "slide"
    }
   },
   "source": [
    " Another initiative for the standardization of references frames is from the [Virtual Animation of the Kinematics of the Human for Industrial, Educational and Research Purposes (VAKHUM)](https://github.com/BMClab/BMC/blob/master/courses/refs/VAKHUM.pdf) project."
   ]
  },
  {
   "cell_type": "markdown",
   "metadata": {
    "slideshow": {
     "slide_type": "slide"
    }
   },
   "source": [
    "## Determination of a coordinate system\n",
    "\n",
    "In Biomechanics, we may use different coordinate systems for convenience and refer to them as global, laboratory, local, anatomical, or technical reference frames or coordinate systems. For example, in a standard gait analysis, we define a global or laboratory coordinate system and a different coordinate system for each segment of the body to be able to describe the motion of a segment in relation to anatomical axes of another segment. To define this anatomical coordinate system, we need to place markers on anatomical landmarks on each segment. We also may use other markers (technical markers) on the segment to improve the motion analysis and then we will also have to define a technical coordinate system for each segment.\n",
    "\n",
    "As we perceive the surrounding space as three-dimensional, a convenient coordinate system to use is the [Cartesian coordinate system](http://en.wikipedia.org/wiki/Cartesian_coordinate_system) with three orthogonal axes in the [Euclidean space](http://en.wikipedia.org/wiki/Euclidean_space). From [linear algebra](http://en.wikipedia.org/wiki/Linear_algebra), a set of unit linearly independent vectors (orthogonal in the Euclidean space and each with norm (length) equals to one) that can represent any vector via [linear combination](http://en.wikipedia.org/wiki/Linear_combination) is called a <a href=\"http://en.wikipedia.org/wiki/Basis_(linear_algebra)\">basis</a> (or orthonormal basis). The figure below shows a point and its position vector in the Cartesian coordinate system and the corresponding versors (unit vectors) of the basis for this coordinate system. See the notebook [Scalar and vector](http://nbviewer.ipython.org/github/demotu/BMC/blob/master/notebooks/ScalarVector.ipynb) for a description on vectors.  \n",
    "\n",
    "<div class='center-align'><figure><img src=\"https://raw.githubusercontent.com/demotu/BMC/master/images/vector3Dijk.png\" width=350/><figcaption><center><i>Figure. Representation of a point <b>P</b> and its position vector $\\overrightarrow{\\mathbf{r}}$ in a Cartesian coordinate system. The versors $\\hat{\\mathbf{i}}, \\hat{\\mathbf{j}}, \\hat{\\mathbf{k}}$ form a basis for this coordinate system and are usually represented in the color sequence RGB (red, green, blue) for easier visualization.</i></center></figcaption></figure></div>\n",
    "\n",
    "One can see that the versors of the basis shown in the figure above have the following coordinates in the Cartesian coordinate system:  \n",
    "<br>\n",
    "<span class=\"notranslate\">\n",
    "\\begin{equation}\n",
    "\\hat{\\mathbf{i}} = \\begin{bmatrix}1\\\\0\\\\0 \\end{bmatrix}, \\quad \\hat{\\mathbf{j}} = \\begin{bmatrix}0\\\\1\\\\0 \\end{bmatrix}, \\quad \\hat{\\mathbf{k}} = \\begin{bmatrix} 0 \\\\ 0 \\\\ 1 \\end{bmatrix}\n",
    "\\end{equation}\n",
    "</span>\n",
    "\n",
    "Using the notation described in the figure above, the position vector $\\overrightarrow{\\mathbf{r}}$ (or the point $\\overrightarrow{\\mathbf{P}}$) can be expressed as:  \n",
    "<br>\n",
    "<span class=\"notranslate\">\n",
    "\\begin{equation}\n",
    "\\overrightarrow{\\mathbf{r}} = x\\hat{\\mathbf{i}} + y\\hat{\\mathbf{j}} + z\\hat{\\mathbf{k}}\n",
    "\\end{equation}\n",
    "</span>"
   ]
  },
  {
   "cell_type": "markdown",
   "metadata": {
    "slideshow": {
     "slide_type": "slide"
    }
   },
   "source": [
    "### Definition of a basis\n",
    "\n",
    "The mathematical problem of determination of a coordinate system is to find a basis and an origin for it (a basis is only a set of vectors, with no origin). There are different methods to calculate a basis given a set of points (coordinates), for example, one  can use the scalar product or the cross product for this problem."
   ]
  },
  {
   "cell_type": "markdown",
   "metadata": {
    "slideshow": {
     "slide_type": "slide"
    }
   },
   "source": [
    "### Using the cross product\n",
    "\n",
    "Let's now define a basis using a common method in motion analysis (employing the cross product):  \n",
    "Given the coordinates of three noncollinear points in 3D space (points that do not all lie on the same line), $\\overrightarrow{\\mathbf{m}}_1, \\overrightarrow{\\mathbf{m}}_2, \\overrightarrow{\\mathbf{m}}_3$, which would represent the positions of markers captured from a motion analysis session, a basis can be found following these steps:  \n",
    "\n",
    "1. First axis, $\\overrightarrow{\\mathbf{v}}_1$, the vector $\\overrightarrow{\\mathbf{m}}_2-\\overrightarrow{\\mathbf{m}}_1$ (or any other vector difference);  \n",
    "\n",
    "2. Second axis, $\\overrightarrow{\\mathbf{v}}_2$, the cross or vector product between the vectors $\\overrightarrow{\\mathbf{v}}_1$ and $\\overrightarrow{\\mathbf{m}}_3-\\overrightarrow{\\mathbf{m}}_1$ (or $\\overrightarrow{\\mathbf{m}}_3-\\overrightarrow{\\mathbf{m}}_2$);  \n",
    "\n",
    "3. Third axis, $\\overrightarrow{\\mathbf{v}}_3$, the cross product between the vectors $\\overrightarrow{\\mathbf{v}}_1$ and $\\overrightarrow{\\mathbf{v}}_2$; and  \n",
    "\n",
    "4. Make all vectors to have norm 1 dividing each vector by its norm."
   ]
  },
  {
   "cell_type": "markdown",
   "metadata": {
    "slideshow": {
     "slide_type": "slide"
    }
   },
   "source": [
    "The positions of the points used to construct a coordinate system have, by definition, to be specified in relation to an already existing coordinate system. In motion analysis, this coordinate system is the coordinate system from the motion capture system and it is established in the calibration phase. In this phase, the positions of markers placed on an object with perpendicular axes and known distances between the markers are captured and used as the reference (laboratory) coordinate system."
   ]
  },
  {
   "cell_type": "markdown",
   "metadata": {
    "slideshow": {
     "slide_type": "slide"
    }
   },
   "source": [
    "For example, given the positions $\\overrightarrow{\\mathbf{m}}_1 = [1,2,5], \\overrightarrow{\\mathbf{m}}_2 = [2,3,3], \\overrightarrow{\\mathbf{m}}_3 = [4,0,2]$, a basis can be found with:"
   ]
  },
  {
   "cell_type": "code",
   "execution_count": 2,
   "metadata": {
    "ExecuteTime": {
     "end_time": "2021-11-03T23:27:55.327026Z",
     "start_time": "2021-11-03T23:27:55.300280Z"
    },
    "slideshow": {
     "slide_type": "slide"
    }
   },
   "outputs": [
    {
     "name": "stdout",
     "output_type": "stream",
     "text": [
      "Versors: \n",
      "e1 = [ 0.40824829  0.40824829 -0.81649658] \n",
      "e2 = [-0.76834982 -0.32929278 -0.5488213 ] \n",
      "e3 = [-0.49292179  0.85141036  0.17924429]\n",
      "\n",
      "Norm of each versor: \n",
      "||e1|| = 1.0 \n",
      "||e2|| = 0.9999999999999999 \n",
      "||e3|| = 1.0\n",
      "\n",
      "Test of orthogonality (cross product between versors): \n",
      "e1 x e2: 1.0 \n",
      "e1 x e3: 1.0000000000000002 \n",
      "e2 x e3: 0.9999999999999999\n"
     ]
    }
   ],
   "source": [
    "import numpy as np\n",
    "\n",
    "m1 = np.array([1, 2, 5])\n",
    "m2 = np.array([2, 3, 3])\n",
    "m3 = np.array([4, 0, 2])\n",
    "\n",
    "v1 = m2 - m1                # first axis\n",
    "v2 = np.cross(v1, m3 - m1)  # second axis\n",
    "v3 = np.cross(v1, v2)       # third axis\n",
    "\n",
    "# Vector normalization\n",
    "e1 = v1/np.linalg.norm(v1)\n",
    "e2 = v2/np.linalg.norm(v2)\n",
    "e3 = v3/np.linalg.norm(v3)\n",
    "\n",
    "print('Versors:', '\\ne1 =', e1, '\\ne2 =', e2, '\\ne3 =', e3)\n",
    "\n",
    "print('\\nNorm of each versor:',\n",
    "      '\\n||e1|| =', np.linalg.norm(e1),\n",
    "      '\\n||e2|| =', np.linalg.norm(e2),\n",
    "      '\\n||e3|| =', np.linalg.norm(e3))\n",
    "\n",
    "print('\\nTest of orthogonality (cross product between versors):',\n",
    "      '\\ne1 x e2:', np.linalg.norm(np.cross(e1, e2)),\n",
    "      '\\ne1 x e3:', np.linalg.norm(np.cross(e1, e3)),\n",
    "      '\\ne2 x e3:', np.linalg.norm(np.cross(e2, e3)))"
   ]
  },
  {
   "cell_type": "markdown",
   "metadata": {},
   "source": [
    "Due to rounding errors ([see here](https://en.wikipedia.org/wiki/Round-off_error)) and to the imprecision of the computation with decimal floating-point numbers ([see here](http://docs.python.org/2/tutorial/floatingpoint.html)), the norms are not exactly equal to 1.  \n",
    "We could round the result if desired:"
   ]
  },
  {
   "cell_type": "code",
   "execution_count": 3,
   "metadata": {},
   "outputs": [
    {
     "name": "stdout",
     "output_type": "stream",
     "text": [
      "\n",
      "Test of orthogonality (cross product between versors): \n",
      "e1 x e2: 1.0 \n",
      "e1 x e3: 1.0 \n",
      "e2 x e3: 1.0\n"
     ]
    }
   ],
   "source": [
    "print('\\nTest of orthogonality (cross product between versors):',\n",
    "      '\\ne1 x e2:', np.linalg.norm(np.cross(e1, e2)).round(8),\n",
    "      '\\ne1 x e3:', np.linalg.norm(np.cross(e1, e3)).round(8),\n",
    "      '\\ne2 x e3:', np.linalg.norm(np.cross(e2, e3)).round(8))"
   ]
  },
  {
   "cell_type": "markdown",
   "metadata": {},
   "source": [
    "Or format the text representing the result:"
   ]
  },
  {
   "cell_type": "code",
   "execution_count": 4,
   "metadata": {},
   "outputs": [
    {
     "name": "stdout",
     "output_type": "stream",
     "text": [
      "\n",
      "Test of orthogonality (cross product between versors): \n",
      "e1 x e2: 1 \n",
      "e1 x e3: 1 \n",
      "e2 x e3: 1\n"
     ]
    }
   ],
   "source": [
    "print('\\nTest of orthogonality (cross product between versors):',\n",
    "      f'\\ne1 x e2: {np.linalg.norm(np.cross(e1, e2)):g}',\n",
    "      f'\\ne1 x e3: {np.linalg.norm(np.cross(e1, e3)):g}',\n",
    "      f'\\ne2 x e3: {np.linalg.norm(np.cross(e2, e3)):g}')"
   ]
  },
  {
   "cell_type": "markdown",
   "metadata": {},
   "source": [
    "Where we used `f'{:.g}'` to format the number to a string ([see here](https://docs.python.org/dev/library/stdtypes.html#printf-style-string-formatting) and a [Python F-Strings Number Formatting Cheat Sheet](https://cheatography.com/brianallan/cheat-sheets/python-f-strings-number-formatting/)).  \n",
    "\n",
    "For a permanent change, we could use the numpy settings for the representation of the decimal point precision with the function [`np.set_printoptions`](https://numpy.org/doc/stable/reference/generated/numpy.set_printoptions.html) but it only works for numpy arrays, not with numbers. Or use the IPython magic command [`%precision`](https://ipython.readthedocs.io/en/stable/interactive/magics.html#magic-precision), but in this case you can not use the function print for showing the result."
   ]
  },
  {
   "cell_type": "markdown",
   "metadata": {
    "slideshow": {
     "slide_type": "slide"
    }
   },
   "source": [
    "### Coordinate system: origin and basis\n",
    "\n",
    "To define a coordinate system using the calculated basis, we also need to define an origin. In principle, we could use any point as origin, but if the calculated coordinate system should follow anatomical conventions, e.g., the coordinate system origin should be at a joint center, we will have to calculate the basis and origin according to standards used in motion analysis as discussed before.   \n",
    "\n",
    "If the coordinate system is a technical basis and not anatomic-based, a common procedure in motion analysis is to define the origin for the coordinate system as the centroid (average) position among the markers at the reference frame. Using the average position across markers potentially reduces the effect of noise (for example, from soft tissue artifact) on the calculation.  \n",
    "\n",
    "For the markers in the example above, the origin of the coordinate system will be:"
   ]
  },
  {
   "cell_type": "code",
   "execution_count": 5,
   "metadata": {
    "ExecuteTime": {
     "end_time": "2021-11-03T23:27:56.641599Z",
     "start_time": "2021-11-03T23:27:56.631715Z"
    },
    "slideshow": {
     "slide_type": "slide"
    }
   },
   "outputs": [
    {
     "name": "stdout",
     "output_type": "stream",
     "text": [
      "Origin:  [2.33333333 1.66666667 3.33333333]\n"
     ]
    }
   ],
   "source": [
    "origin = np.mean((m1, m2, m3), axis=0)\n",
    "print('Origin: ', origin)"
   ]
  },
  {
   "cell_type": "markdown",
   "metadata": {
    "slideshow": {
     "slide_type": "slide"
    }
   },
   "source": [
    "Let's plot the coordinate system and the basis using the custom Python function `CCS.py`:"
   ]
  },
  {
   "cell_type": "code",
   "execution_count": 6,
   "metadata": {
    "ExecuteTime": {
     "end_time": "2021-11-03T23:27:58.011948Z",
     "start_time": "2021-11-03T23:27:57.815650Z"
    },
    "slideshow": {
     "slide_type": "slide"
    }
   },
   "outputs": [],
   "source": [
    "if 'google.colab' in str(get_ipython()):\n",
    "    print('Google drive will be mounted.')\n",
    "    print('Create folder \"functions\" and place functions in it.')\n",
    "    from google.colab import drive\n",
    "    drive.mount('/content/drive', force_remount=True)\n",
    "    path2 = r'/content/drive/MyDrive/functions'\n",
    "else:\n",
    "    path2 = r'./../functions'\n",
    "import sys\n",
    "sys.path.insert(1, path2)  # add to pythonpath\n",
    "from CCS import CCS"
   ]
  },
  {
   "cell_type": "code",
   "execution_count": 7,
   "metadata": {
    "ExecuteTime": {
     "end_time": "2021-11-03T23:27:58.372074Z",
     "start_time": "2021-11-03T23:27:58.368385Z"
    },
    "slideshow": {
     "slide_type": "slide"
    }
   },
   "outputs": [],
   "source": [
    "markers = np.vstack((m1, m2, m3))\n",
    "basis = np.vstack((e1, e2, e3))"
   ]
  },
  {
   "cell_type": "markdown",
   "metadata": {
    "slideshow": {
     "slide_type": "slide"
    }
   },
   "source": [
    "#### Visualization of the coordinate system"
   ]
  },
  {
   "cell_type": "code",
   "execution_count": 9,
   "metadata": {},
   "outputs": [],
   "source": [
    "# to install ipympl in Google Colab (for interactive matplotlib)\n",
    "!pip install -q ipympl\n",
    "\n",
    "if 'google.colab' in str(get_ipython()):\n",
    "    from google.colab import output\n",
    "    output.enable_custom_widget_manager()"
   ]
  },
  {
   "cell_type": "code",
   "execution_count": 10,
   "metadata": {
    "ExecuteTime": {
     "end_time": "2021-11-03T23:28:00.153411Z",
     "start_time": "2021-11-03T23:28:00.079554Z"
    },
    "slideshow": {
     "slide_type": "-"
    }
   },
   "outputs": [
    {
     "data": {
      "application/vnd.jupyter.widget-view+json": {
       "model_id": "d835fe923098492ebc2d7be1787fc9ea",
       "version_major": 2,
       "version_minor": 0
      },
      "image/png": "[encoded data removed]",
      "text/html": [
       "\n",
       "            <div style=\"display: inline-block;\">\n",
       "                <div class=\"jupyter-widgets widget-label\" style=\"text-align: center;\">\n",
       "                    Figure\n",
       "                </div>\n",
       "                <img src='data:image/png;base64,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' width=500.0/>\n",
       "            </div>\n",
       "        "
      ],
      "text/plain": [
       "Canvas(toolbar=Toolbar(toolitems=[('Home', 'Reset original view', 'home', 'home'), ('Back', 'Back to previous …"
      ]
     },
     "metadata": {},
     "output_type": "display_data"
    }
   ],
   "source": [
    "%matplotlib widget  \n",
    "\n",
    "CCS(xyz=[], Oijk=origin, ijk=basis, point=markers, vector=True);"
   ]
  },
  {
   "cell_type": "markdown",
   "metadata": {
    "slideshow": {
     "slide_type": "slide"
    }
   },
   "source": [
    "### Gram–Schmidt process\n",
    "\n",
    "Another classical procedure in mathematics, employing the scalar product, is known as the [Gram–Schmidt process](http://en.wikipedia.org/wiki/Gram%E2%80%93Schmidt_process). See the notebook [Scalar and Vector](http://nbviewer.jupyter.org/github/bmclab/BMC/blob/master/notebooks/ScalarVector.ipynb) for a demonstration of the Gram–Schmidt process and how to implement it in Python.\n",
    "\n",
    "The [Gram–Schmidt process](http://en.wikipedia.org/wiki/Gram%E2%80%93Schmidt_process) is a method for orthonormalizing (orthogonal unit versors) a set of vectors using the scalar product. The Gram–Schmidt process works for any number of vectors.   \n",
    "\n",
    "For example, given three vectors, <span class=\"notranslate\">\n",
    "$\\overrightarrow{\\mathbf{a}}, \\overrightarrow{\\mathbf{b}}, \\overrightarrow{\\mathbf{c}}$</span>, in the 3D space, a basis $\\{\\hat{e}_a, \\hat{e}_b, \\hat{e}_c\\}$ can be found using the Gram–Schmidt process by: "
   ]
  },
  {
   "cell_type": "markdown",
   "metadata": {
    "slideshow": {
     "slide_type": "slide"
    }
   },
   "source": [
    "The first versor is in the <span class=\"notranslate\">\n",
    "$\\overrightarrow{\\mathbf{a}}$</span> direction (or in the direction of any of the other vectors):  \n",
    "<br>\n",
    "<span class=\"notranslate\">\n",
    "\\begin{equation}\n",
    "\\hat{e}_a = \\frac{\\overrightarrow{\\mathbf{a}}}{||\\overrightarrow{\\mathbf{a}}||}\n",
    "\\end{equation}\n",
    "</span>"
   ]
  },
  {
   "cell_type": "markdown",
   "metadata": {
    "slideshow": {
     "slide_type": "slide"
    }
   },
   "source": [
    "The second versor, orthogonal to $\\hat{e}_a$, can be found considering we can express vector $\\overrightarrow{\\mathbf{b}}$ in terms of the $\\hat{e}_a$ direction as:  \n",
    "<br>\n",
    "<span class=\"notranslate\">\n",
    "\\begin{equation}\n",
    "\\overrightarrow{\\mathbf{b}} = \\overrightarrow{\\mathbf{b}}^\\| + \\overrightarrow{\\mathbf{b}}^\\bot\n",
    "\\end{equation}\n",
    "</span>\n",
    "\n",
    "Then:\n",
    "\n",
    "<span class=\"notranslate\">\n",
    "\\begin{equation}\n",
    "\\overrightarrow{\\mathbf{b}}^\\bot = \\overrightarrow{\\mathbf{b}} - \\overrightarrow{\\mathbf{b}}^\\| = \\overrightarrow{\\mathbf{b}} - (\\overrightarrow{\\mathbf{b}} \\cdot \\hat{e}_a ) \\hat{e}_a\n",
    "\\end{equation}\n",
    "</span>\n",
    "\n",
    "Finally:\n",
    "\n",
    "<span class=\"notranslate\">\n",
    "\\begin{equation}\n",
    "\\hat{e}_b = \\frac{\\overrightarrow{\\mathbf{b}}^\\bot}{||\\overrightarrow{\\mathbf{b}}^\\bot||}\n",
    "\\end{equation}\n",
    "</span>"
   ]
  },
  {
   "cell_type": "markdown",
   "metadata": {
    "slideshow": {
     "slide_type": "slide"
    }
   },
   "source": [
    "The third versor, orthogonal to $\\{\\hat{e}_a, \\hat{e}_b\\}$, can be found expressing the vector $\\overrightarrow{\\mathbf{C}}$ in terms of $\\hat{e}_a$ and $\\hat{e}_b$ directions as:  \n",
    "<br>\n",
    "<span class=\"notranslate\">\n",
    "\\begin{equation}\n",
    "\\overrightarrow{\\mathbf{c}} = \\overrightarrow{\\mathbf{c}}^\\| + \\overrightarrow{\\mathbf{c}}^\\bot\n",
    "\\end{equation}\n",
    "</span>\n",
    "\n",
    "Then:\n",
    "<span class=\"notranslate\">\n",
    "\\begin{equation}\n",
    "\\overrightarrow{\\mathbf{c}}^\\bot = \\overrightarrow{\\mathbf{c}} - \\overrightarrow{\\mathbf{c}}^\\|\n",
    "\\end{equation}\n",
    "</span>\n",
    "\n",
    "Where:\n",
    "<span class=\"notranslate\">\n",
    "\\begin{equation}\n",
    "\\overrightarrow{\\mathbf{c}}^\\| = (\\overrightarrow{\\mathbf{c}} \\cdot \\hat{e}_a ) \\hat{e}_a + (\\overrightarrow{\\mathbf{c}} \\cdot \\hat{e}_b ) \\hat{e}_b\n",
    "\\end{equation}\n",
    "</span>\n",
    "\n",
    "Finally:\n",
    "<span class=\"notranslate\">\n",
    "\\begin{equation}\n",
    "\\hat{e}_c = \\frac{\\overrightarrow{\\mathbf{c}}^\\bot}{||\\overrightarrow{\\mathbf{c}}^\\bot||}\n",
    "\\end{equation}\n",
    "</span>"
   ]
  },
  {
   "cell_type": "markdown",
   "metadata": {},
   "source": [
    "And an animation of the Gram-Schmidt process being executed:\n",
    "\n",
    "<div class='center-align'><figure><img src=\"https://upload.wikimedia.org/wikipedia/commons/e/ee/Gram-Schmidt_orthonormalization_process.gif\" width=450/><figcaption><center><i>Figure. The Gram-Schmidt process being executed on three vectors of a basis for R3 (<a href=\"https://commons.wikimedia.org/w/index.php?curid=24396471\">image from Wikipedia</a>).</i></center></figcaption></figure></div>"
   ]
  },
  {
   "cell_type": "markdown",
   "metadata": {
    "slideshow": {
     "slide_type": "slide"
    }
   },
   "source": [
    "Let's implement the Gram–Schmidt process in Python.\n",
    "\n",
    "For example, consider the positions (vectors) <span class=\"notranslate\">\n",
    "$\\overrightarrow{\\mathbf{a}} = [1,2,0], \\overrightarrow{\\mathbf{b}} = [0,1,3], \\overrightarrow{\\mathbf{c}} = [1,0,1]$</span>:"
   ]
  },
  {
   "cell_type": "markdown",
   "metadata": {
    "slideshow": {
     "slide_type": "slide"
    }
   },
   "source": [
    "The first versor is:"
   ]
  },
  {
   "cell_type": "code",
   "execution_count": 11,
   "metadata": {
    "ExecuteTime": {
     "end_time": "2021-11-03T23:37:40.604375Z",
     "start_time": "2021-11-03T23:37:40.599445Z"
    }
   },
   "outputs": [
    {
     "name": "stdout",
     "output_type": "stream",
     "text": [
      "[0.18257419 0.36514837 0.91287093]\n"
     ]
    }
   ],
   "source": [
    "ea = m1/np.linalg.norm(m1)\n",
    "print(ea)"
   ]
  },
  {
   "cell_type": "markdown",
   "metadata": {
    "slideshow": {
     "slide_type": "slide"
    }
   },
   "source": [
    "The second versor is:"
   ]
  },
  {
   "cell_type": "code",
   "execution_count": 12,
   "metadata": {
    "ExecuteTime": {
     "end_time": "2021-11-03T23:37:42.965121Z",
     "start_time": "2021-11-03T23:37:42.955392Z"
    }
   },
   "outputs": [
    {
     "name": "stdout",
     "output_type": "stream",
     "text": [
      "[ 0.59020849  0.70186955 -0.39878952]\n"
     ]
    }
   ],
   "source": [
    "eb = m2 - np.dot(m2, ea)*ea\n",
    "eb = eb/np.linalg.norm(eb)\n",
    "print(eb)"
   ]
  },
  {
   "cell_type": "markdown",
   "metadata": {
    "slideshow": {
     "slide_type": "slide"
    }
   },
   "source": [
    "And the third version is:"
   ]
  },
  {
   "cell_type": "code",
   "execution_count": 13,
   "metadata": {
    "ExecuteTime": {
     "end_time": "2021-11-03T23:37:54.663236Z",
     "start_time": "2021-11-03T23:37:54.656571Z"
    }
   },
   "outputs": [
    {
     "name": "stdout",
     "output_type": "stream",
     "text": [
      "[ 0.78633365 -0.61159284  0.08737041]\n"
     ]
    }
   ],
   "source": [
    "ec = m3 - np.dot(m3, ea)*ea - np.dot(m3, eb)*eb\n",
    "ec = ec/np.linalg.norm(ec)\n",
    "print(ec)"
   ]
  },
  {
   "cell_type": "markdown",
   "metadata": {
    "slideshow": {
     "slide_type": "slide"
    }
   },
   "source": [
    "Let's check the orthonormality between these versors:"
   ]
  },
  {
   "cell_type": "code",
   "execution_count": 14,
   "metadata": {
    "ExecuteTime": {
     "end_time": "2021-11-03T23:38:07.791011Z",
     "start_time": "2021-11-03T23:38:07.776900Z"
    }
   },
   "outputs": [
    {
     "name": "stdout",
     "output_type": "stream",
     "text": [
      " Versors: \n",
      "ea = [0.18257419 0.36514837 0.91287093] \n",
      "eb = [ 0.59020849  0.70186955 -0.39878952] \n",
      "ec = [ 0.78633365 -0.61159284  0.08737041]\n",
      "\n",
      " Norm of each versor: \n",
      " ||ea|| = 1.0 \n",
      " ||eb|| = 1.0 \n",
      " ||ec|| = 1.0\n",
      "\n",
      " Test of orthogonality (scalar product between versors): \n",
      " ea . eb: -3.3078832836166177e-16 \n",
      " eb . ec: 5.001096921191669e-17 \n",
      " ec . ea: 7.114725068447068e-17\n"
     ]
    }
   ],
   "source": [
    "print(\" Versors:\", \"\\nea =\", ea, \"\\neb =\", eb, \"\\nec =\", ec)\n",
    "\n",
    "print(\n",
    "    \"\\n Norm of each versor:\",\n",
    "    \"\\n ||ea|| =\",\n",
    "    np.linalg.norm(ea),\n",
    "    \"\\n ||eb|| =\",\n",
    "    np.linalg.norm(eb),\n",
    "    \"\\n ||ec|| =\",\n",
    "    np.linalg.norm(ec),\n",
    ")\n",
    "\n",
    "print(\n",
    "    \"\\n Test of orthogonality (scalar product between versors):\",\n",
    "    \"\\n ea . eb:\",\n",
    "    np.dot(ea, eb),\n",
    "    \"\\n eb . ec:\",\n",
    "    np.dot(eb, ec),\n",
    "    \"\\n ec . ea:\",\n",
    "    np.dot(ec, ea),\n",
    ")"
   ]
  },
  {
   "cell_type": "markdown",
   "metadata": {},
   "source": [
    "#### Visualization of the coordinate system"
   ]
  },
  {
   "cell_type": "code",
   "execution_count": 15,
   "metadata": {},
   "outputs": [],
   "source": [
    "# your turn ...\n"
   ]
  },
  {
   "cell_type": "markdown",
   "metadata": {},
   "source": [
    "## Further reading\n",
    "\n",
    "- [The right frame of reference makes it simple: An example of introductory mechanics supported by video analysis of motion](https://www.researchgate.net/publication/267761615_The_right_frame_of_reference_makes_it_simple_An_example_of_introductory_mechanics_supported_by_video_analysis_of_motion)  \n"
   ]
  },
  {
   "cell_type": "markdown",
   "metadata": {},
   "source": [
    "## Video lectures on the Internet\n",
    "\n",
    "- [Introduction to reference - Khan Academy](https://www.khanacademy.org/science/physics/one-dimensional-motion/displacement-velocity-time/v/introduction-to-reference-frames)  \n",
    "- [Introduction to orthonormal bases - Khan Academy](https://www.khanacademy.org/math/linear-algebra/alternate-bases/orthonormal-basis/v/linear-algebra-introduction-to-orthonormal-bases)  \n",
    "- [The Gram-Schmidt process - Khan Academy](https://www.khanacademy.org/math/linear-algebra/alternate-bases/orthonormal-basis/v/linear-algebra-the-gram-schmidt-process)  \n",
    "- [Biomechanics of Movement | Demo: Motion Capture Placement and Reference Frames](https://youtu.be/ctwoH59Obew)  "
   ]
  },
  {
   "cell_type": "markdown",
   "metadata": {
    "slideshow": {
     "slide_type": "slide"
    }
   },
   "source": [
    "## Problems\n",
    "\n",
    "1. Right now, how fast are you moving? In your answer, consider your motion in relation to Earth and in relation to Sun.\n",
    "\n",
    "2. Go to the website [http://www.wisc-online.com/Objects/ViewObject.aspx?ID=AP15305](http://www.wisc-online.com/Objects/ViewObject.aspx?ID=AP15305) and complete the interactive lesson to learn about the anatomical terminology to describe relative position in the human body.\n",
    "\n",
    "3. To learn more about Cartesian coordinate systems go to the website [http://www.mathsisfun.com/data/cartesian-coordinates.html](http://www.mathsisfun.com/data/cartesian-coordinates.html), study the material, and answer the 10 questions at the end.\n",
    "\n",
    "4. Given the points in the 3D space, m1 = [2, 2, 0], m2 = [0, 1, 1], m3 = [1, 2, 0], find an orthonormal basis.\n",
    "\n",
    "5. Determine if the following points form a basis in the 3D space, m1 = [2, 2, 0], m2 = [1, 1, 1], m3 = [1, 1, 0].\n",
    "\n",
    "6. Derive expressions for the three axes of the pelvic basis considering the convention of the [Virtual Animation of the Kinematics of the Human for Industrial, Educational and Research Purposes (VAKHUM)](https://github.com/BMClab/BMC/blob/master/courses/refs/VAKHUM.pdf) project (use RASIS, LASIS, RPSIS, and LPSIS as names for the pelvic anatomical landmarks and indicate the expression for each axis).\n",
    "\n",
    "7. Determine the basis for the pelvis following the convention of the [Virtual Animation of the Kinematics of the Human for Industrial, Educational and Research Purposes (VAKHUM)](https://github.com/BMClab/BMC/blob/master/courses/refs/VAKHUM.pdf) project for the following anatomical landmark positions (units in meters): RASIS=[0.5, 0.8, 0.4], LASIS=[0.55, 0.78, 0.1], RPSIS=[0.3, 0.85, 0.2], LPSIS=[0.29, 0.78, 0.3]."
   ]
  },
  {
   "cell_type": "markdown",
   "metadata": {
    "slideshow": {
     "slide_type": "slide"
    }
   },
   "source": [
    "## References\n",
    "\n",
    "- Corke P (2017) [Robotics, Vision and Control: Fundamental Algorithms in MATLAB](https://petercorke.com/RVC/). 2nd ed. Springer-Verlag Berlin.  \n",
    "- [Standards - International Society of Biomechanics](https://isbweb.org/activities/standards).  \n",
    "- Stanford Encyclopedia of Philosophy. [Space and Time: Inertial Frames](http://plato.stanford.edu/entries/spacetime-iframes/).  \n",
    "- [Virtual Animation of the Kinematics of the Human for Industrial, Educational and Research Purposes (VAKHUM)](https://github.com/BMClab/BMC/blob/master/courses/refs/VAKHUM.pdf).  "
   ]
  }
 ],
 "metadata": {
  "anaconda-cloud": {},
  "hide_input": false,
  "kernelspec": {
   "display_name": "Python 3 (ipykernel)",
   "language": "python",
   "name": "python3"
  },
  "language_info": {
   "codemirror_mode": {
    "name": "ipython",
    "version": 3
   },
   "file_extension": ".py",
   "mimetype": "text/x-python",
   "name": "python",
   "nbconvert_exporter": "python",
   "pygments_lexer": "ipython3",
   "version": "3.9.13"
  },
  "latex_envs": {
   "LaTeX_envs_menu_present": true,
   "autoclose": false,
   "autocomplete": true,
   "bibliofile": "biblio.bib",
   "cite_by": "apalike",
   "current_citInitial": 1,
   "eqLabelWithNumbers": true,
   "eqNumInitial": 1,
   "hotkeys": {
    "equation": "Ctrl-E",
    "itemize": "Ctrl-I"
   },
   "labels_anchors": false,
   "latex_user_defs": false,
   "report_style_numbering": false,
   "user_envs_cfg": false
  },
  "nbTranslate": {
   "displayLangs": [
    "*"
   ],
   "hotkey": "alt-t",
   "langInMainMenu": true,
   "sourceLang": "en",
   "targetLang": "fr",
   "useGoogleTranslate": true
  },
  "toc": {
   "base_numbering": 1,
   "nav_menu": {},
   "number_sections": true,
   "sideBar": true,
   "skip_h1_title": true,
   "title_cell": "Contents",
   "title_sidebar": "Contents",
   "toc_cell": true,
   "toc_position": {
    "height": "calc(100% - 180px)",
    "left": "10px",
    "top": "150px",
    "width": "348.906px"
   },
   "toc_section_display": true,
   "toc_window_display": false
  },
  "varInspector": {
   "cols": {
    "lenName": 16,
    "lenType": 16,
    "lenVar": 40
   },
   "kernels_config": {
    "python": {
     "delete_cmd_postfix": "",
     "delete_cmd_prefix": "del ",
     "library": "var_list.py",
     "varRefreshCmd": "print(var_dic_list())"
    },
    "r": {
     "delete_cmd_postfix": ") ",
     "delete_cmd_prefix": "rm(",
     "library": "var_list.r",
     "varRefreshCmd": "cat(var_dic_list()) "
    }
   },
   "types_to_exclude": [
    "module",
    "function",
    "builtin_function_or_method",
    "instance",
    "_Feature"
   ],
   "window_display": false
  }
 },
 "nbformat": 4,
 "nbformat_minor": 2
}
