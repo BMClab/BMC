{
  "cells": [
    {
      "cell_type": "markdown",
      "metadata": {
        "id": "GGkIoAc-AeCI"
      },
      "source": [
        "# Projectile motion\n",
        "\n",
        "> Marcos Duarte  \n",
        "> [Laboratory of Biomechanics and Motor Control](https://bmclab.pesquisa.ufabc.edu.br)  \n",
        "> Federal University of ABC, Brazil"
      ]
    },
    {
      "cell_type": "markdown",
      "metadata": {
        "id": "Z2XsNQxDAeCM"
      },
      "source": [
        "<div style=\"background-color:#F1F1F1;border:1px solid black;padding:10px;\">\n",
        "    <figure><img src=\"https://bmclab.pesquisa.ufabc.edu.br/x/salto2/jadel.gif\" alt=\"triple jump\"/><br><figcaption><center><i>Figure. Animations of a triple jump performed by athlete Jadel Gregório during training. The jump distance was 16.20 meters. The two animations are synchronized and represent the same athlete during the same jump, with the one on the left representing the athlete's movement subtracting the horizontal displacement of his center of gravity. From the website <a href=\"https://bmclab.pesquisa.ufabc.edu.br/analise-biomecanica-do-salto-em-distancia/\">Análise do salto em distância</a>.</i></center></figcaption></figure>\n",
        "</div>"
      ]
    },
    {
      "cell_type": "markdown",
      "metadata": {
        "toc": true,
        "id": "Z8ML5tObAeCM"
      },
      "source": [
        "<h1>Contents<span class=\"tocSkip\"></span></h1>\n",
        "<div class=\"toc\"><ul class=\"toc-item\"><li><span><a href=\"#Python-setup\" data-toc-modified-id=\"Python-setup-1\"><span class=\"toc-item-num\">1&nbsp;&nbsp;</span>Python setup</a></span></li><li><span><a href=\"#Equations-of-motion\" data-toc-modified-id=\"Equations-of-motion-2\"><span class=\"toc-item-num\">2&nbsp;&nbsp;</span>Equations of motion</a></span><ul class=\"toc-item\"><li><span><a href=\"#Time-of-flight\" data-toc-modified-id=\"Time-of-flight-2.1\"><span class=\"toc-item-num\">2.1&nbsp;&nbsp;</span>Time of flight</a></span></li><li><span><a href=\"#Maximum-height\" data-toc-modified-id=\"Maximum-height-2.2\"><span class=\"toc-item-num\">2.2&nbsp;&nbsp;</span>Maximum height</a></span></li><li><span><a href=\"#Range,-the-maximum-horizontal-distance\" data-toc-modified-id=\"Range,-the-maximum-horizontal-distance-2.3\"><span class=\"toc-item-num\">2.3&nbsp;&nbsp;</span>Range, the maximum horizontal distance</a></span></li><li><span><a href=\"#Parabolic-trajectory\" data-toc-modified-id=\"Parabolic-trajectory-2.4\"><span class=\"toc-item-num\">2.4&nbsp;&nbsp;</span>Parabolic trajectory</a></span></li><li><span><a href=\"#Release-angle-for-maximum-horizontal-distance\" data-toc-modified-id=\"Release-angle-for-maximum-horizontal-distance-2.5\"><span class=\"toc-item-num\">2.5&nbsp;&nbsp;</span>Release angle for maximum horizontal distance</a></span></li><li><span><a href=\"#Release-angle-for-maximum-height\" data-toc-modified-id=\"Release-angle-for-maximum-height-2.6\"><span class=\"toc-item-num\">2.6&nbsp;&nbsp;</span>Release angle for maximum height</a></span></li><li><span><a href=\"#Playing-with-projectile-motion\" data-toc-modified-id=\"Playing-with-projectile-motion-2.7\"><span class=\"toc-item-num\">2.7&nbsp;&nbsp;</span>Playing with projectile motion</a></span></li></ul></li><li><span><a href=\"#Kinematics-of-the-long-jump\" data-toc-modified-id=\"Kinematics-of-the-long-jump-3\"><span class=\"toc-item-num\">3&nbsp;&nbsp;</span>Kinematics of the long jump</a></span><ul class=\"toc-item\"><li><span><a href=\"#The-different-phases-of-the-track-and-field-event-long-jump\" data-toc-modified-id=\"The-different-phases-of-the-track-and-field-event-long-jump-3.1\"><span class=\"toc-item-num\">3.1&nbsp;&nbsp;</span>The different phases of the track and field event long jump</a></span></li><li><span><a href=\"#The-distance-of-flight\" data-toc-modified-id=\"The-distance-of-flight-3.2\"><span class=\"toc-item-num\">3.2&nbsp;&nbsp;</span>The distance of flight</a></span></li><li><span><a href=\"#The-optimum-angle-of-take-off\" data-toc-modified-id=\"The-optimum-angle-of-take-off-3.3\"><span class=\"toc-item-num\">3.3&nbsp;&nbsp;</span>The optimum angle of take off</a></span><ul class=\"toc-item\"><li><span><a href=\"#Computation-of-the-optimum-angle\" data-toc-modified-id=\"Computation-of-the-optimum-angle-3.3.1\"><span class=\"toc-item-num\">3.3.1&nbsp;&nbsp;</span>Computation of the optimum angle</a></span></li><li><span><a href=\"#Actual-take-off-angles-from-human-jumps-are-different-from-the-prediction\" data-toc-modified-id=\"Actual-take-off-angles-from-human-jumps-are-different-from-the-prediction-3.3.2\"><span class=\"toc-item-num\">3.3.2&nbsp;&nbsp;</span>Actual take-off angles from human jumps are different from the prediction</a></span></li></ul></li></ul></li><li><span><a href=\"#On-the-calculation-of-the-angle-from-kinematic-data\" data-toc-modified-id=\"On-the-calculation-of-the-angle-from-kinematic-data-4\"><span class=\"toc-item-num\">4&nbsp;&nbsp;</span>On the calculation of the angle from kinematic data</a></span></li><li><span><a href=\"#Problems\" data-toc-modified-id=\"Problems-5\"><span class=\"toc-item-num\">5&nbsp;&nbsp;</span>Problems</a></span></li><li><span><a href=\"#References\" data-toc-modified-id=\"References-6\"><span class=\"toc-item-num\">6&nbsp;&nbsp;</span>References</a></span></li></ul></div>"
      ]
    },
    {
      "cell_type": "markdown",
      "metadata": {
        "id": "LO7B4DM9AeCN"
      },
      "source": [
        "Projectile or ballistic motion is the movement of a body in the air near Earth's surface where the main force acting on the body is the gravitational force. If we neglect the air resistance and approximate the gravity force (which acts only at the vertical direction) on the body as constant, the body will have constant velocity at the horizontal direction and constant acceleration (the gravitational acceleration) at the vertical direction."
      ]
    },
    {
      "cell_type": "markdown",
      "metadata": {
        "id": "Yd07AOGPAeCN"
      },
      "source": [
        "## Python setup"
      ]
    },
    {
      "cell_type": "code",
      "execution_count": 1,
      "metadata": {
        "id": "TQ5w9yxRAeCO"
      },
      "outputs": [],
      "source": [
        "import numpy as np\n",
        "import matplotlib.pyplot as plt"
      ]
    },
    {
      "cell_type": "markdown",
      "metadata": {
        "id": "CTbcHONSAeCP"
      },
      "source": [
        "## Equations of motion\n",
        "\n",
        "Let's deduce the equations for a projectile motion and investigate their characteristics. For simplicity, let's consider for now a planar movement, neglect the air resistance, and the gravitational acceleration, $g=9.8 m/s^2$. Consider a body (which will treat it as a particle) launched to the air with initial angle $\\theta$ with respect to the horizontal (the $\\mathbf{x}$ direction) and initial velocity $\\mathbf{v_0}$, a vector quantity with components $v_{0x}=v_0\\cos(\\theta)$ and $v_{0y}=v_0\\sin(\\theta)$.  \n",
        "The equations of motion for position ($x, y$), velocity $v_x, v_y$, and acceleration $a_x, a_y$ are:  \n",
        "<br>\n",
        "<span class=\"notranslate\">\n",
        "\\begin{align}\n",
        "& x(t) = x_0 + v_0\\cos(\\theta)\\:t \\\\\n",
        "& y(t) = y_0 + v_0\\sin(\\theta)\\:t - \\frac{g\\:t^2}{2} \\\\\n",
        "& v_x(t) = v_0\\cos(\\theta) \\\\\n",
        "& v_y(t) = v_0\\sin(\\theta) - g\\:t \\\\\n",
        "& a_x(t) = 0 \\\\\n",
        "& a_y(t) = -g\n",
        "\\label{eq_1}\n",
        "\\end{align}\n",
        "</span>"
      ]
    },
    {
      "cell_type": "markdown",
      "metadata": {
        "id": "JFKVtYiWAeCP"
      },
      "source": [
        "### Time of flight\n",
        "\n",
        "The time of flight can be calculated from the equation for the vertical velocity and using the properties that at the maximum height, the vertical velocity is zero and the time of rising is equal to the time of falling:  \n",
        "<br>\n",
        "<span class=\"notranslate\">\n",
        "\\begin{equation}\n",
        "t_{flight} = \\frac{2v_0\\sin(\\theta)}{g}\n",
        "\\label{tflight}\n",
        "\\end{equation}\n",
        "</span>"
      ]
    },
    {
      "cell_type": "markdown",
      "metadata": {
        "id": "BYmuA4IXAeCQ"
      },
      "source": [
        "### Maximum height\n",
        "\n",
        "Using the value for time of flight we just calculated and once again the fact the at the maximum height the body has zero vertical velocity, the maximum height, $h$, can be obtained from the equation for the vertical position:  \n",
        "<br>\n",
        "<span class=\"notranslate\">\n",
        "\\begin{equation}\n",
        "h = \\frac{v_0^2\\sin^2(\\theta)}{2g}\n",
        "\\label{maxheight}\n",
        "\\end{equation}\n",
        "</span>"
      ]
    },
    {
      "cell_type": "markdown",
      "metadata": {
        "id": "eW3Zcs3hAeCQ"
      },
      "source": [
        "### Range, the maximum horizontal distance\n",
        "\n",
        "The range, $R$, is the maximum horizontal distance reached with respect to the point of release:  \n",
        "<br>\n",
        "<span class=\"notranslate\">\n",
        "\\begin{equation}\n",
        "R = v_0\\cos(\\theta)\\:t_{flight}\n",
        "\\label{range}\n",
        "\\end{equation}\n",
        "</span>\n",
        "\n",
        "Substituting the expression for $t_{flight}$:  \n",
        "<br>\n",
        "<span class=\"notranslate\">\n",
        "\\begin{equation}\n",
        "R = \\frac{v_0^2\\sin(2\\theta)}{g}\n",
        "\\label{range2}\n",
        "\\end{equation}\n",
        "</span>\n"
      ]
    },
    {
      "cell_type": "markdown",
      "metadata": {
        "id": "CKniIxf0AeCQ"
      },
      "source": [
        "### Parabolic trajectory\n",
        "\n",
        "The equation for the horizontal position versus time is the equation of a straight line and for the vertical position is the equation of a parabola. We can prove that the spatial trajectory (the vertical position versus the horizontal position) is also a parabola if we use the two equations for position and eliminate the variable time:\n",
        "\n",
        "<span class=\"notranslate\">\n",
        "\\begin{equation}\n",
        "y = y_0 + \\tan(\\theta)(x-x_0) - \\frac{g}{2v_0^2cos^2(\\theta)}(x-x_0)^2\n",
        "\\label{eq_5}\n",
        "\\end{equation}\n",
        "</span>\n",
        "\n",
        "Since $y_0,\\: x_0,\\: \\theta,\\: v_0,\\: g$ are constants, this is an equation for a parabola."
      ]
    },
    {
      "cell_type": "markdown",
      "metadata": {
        "id": "KlaUF7DHAeCR"
      },
      "source": [
        "### Release angle for maximum horizontal distance\n",
        "\n",
        "From the expression for the range, we note that the maximum value is reached when $\\sin(2\\theta)=1$ which gives $\\theta=45^o$."
      ]
    },
    {
      "cell_type": "markdown",
      "metadata": {
        "id": "QhhyVBWSAeCR"
      },
      "source": [
        "### Release angle for maximum height\n",
        "\n",
        "From the expression for the maximum height, we note that the maximum value is reached when $\\sin^2(\\theta)=1$ which gives $\\theta=90^o$."
      ]
    },
    {
      "cell_type": "markdown",
      "metadata": {
        "id": "FVultVqeAeCR"
      },
      "source": [
        "### Playing with projectile motion\n",
        "Here is an interactive animation of a projectile motion where you can change the initial angle and speed of the body (or to start, simply press the button *Fire* in the rectangular menu):"
      ]
    },
    {
      "cell_type": "code",
      "execution_count": 2,
      "metadata": {
        "ExecuteTime": {
          "end_time": "2017-12-30T07:10:49.618206Z",
          "start_time": "2017-12-30T07:10:49.603885Z"
        },
        "scrolled": true,
        "id": "njqEgl15AeCR",
        "outputId": "d5eae458-7646-4434-caae-185e5bf92815",
        "colab": {
          "base_uri": "https://localhost:8080/",
          "height": 522
        }
      },
      "outputs": [
        {
          "output_type": "execute_result",
          "data": {
            "text/plain": [
              "<IPython.lib.display.IFrame at 0x7f7cf6a802b0>"
            ],
            "text/html": [
              "\n",
              "        <iframe\n",
              "            width=\"100%\"\n",
              "            height=\"500\"\n",
              "            src=\"https://phet.colorado.edu/sims/html/projectile-motion/latest/projectile-motion_en.html\"\n",
              "            frameborder=\"0\"\n",
              "            allowfullscreen\n",
              "            \n",
              "        ></iframe>\n",
              "        "
            ]
          },
          "metadata": {},
          "execution_count": 2
        }
      ],
      "source": [
        "from IPython.display import IFrame\n",
        "IFrame('https://phet.colorado.edu/sims/html/projectile-motion/latest/projectile-motion_en.html',\n",
        "       width='100%', height=500)"
      ]
    },
    {
      "cell_type": "markdown",
      "metadata": {
        "id": "j6lBJWibAeCS"
      },
      "source": [
        "## Kinematics of the long jump\n",
        "\n",
        "We can study the kinematics of jumps by humans and other animals as projectile motions with the equations of motion we derived if we consider the body as a particle. There is a particular point in the body (a virtual point) that will strictly follow the equations of motion we derived. This point is called center of mass or center of gravity and represents an average position of all the masses in the body. We will study this later; for now just consider that when applying the equations for projectile motion to a body with many particles, we are in fact describing the motion of its center of mass."
      ]
    },
    {
      "cell_type": "markdown",
      "metadata": {
        "id": "cpco6UerAeCS"
      },
      "source": [
        "### The different phases of the track and field event long jump\n",
        "\n",
        "The track and field event long jump has some particularities we must consider to analyze it as a projectile motion; the figure below shows the kinematic characteristics relevant for this analysis.  \n",
        "<br>\n",
        "<figure><img src=\"https://github.com/BMClab/BMC/blob/master/images/longjump.png?raw=1\" alt=\"longjump\"/><figcaption><center><i>Figure. Diagram of a long jump and its kinematic characteristics. The red circle represents the center of mass of the jumper. Adapted from Linthorne (2007).</i></center></figcaption></figure>\n",
        "\n",
        "The distance officially considered as the jump distance, $d_{jump}$, can be described as the sum of three distances as indicated in the previous figure:  \n",
        "<br>\n",
        "<span class=\"notranslate\">\n",
        "\\begin{equation}\n",
        "d_{jump} = d_{take-off} + d_{flight} + d_{landing}\n",
        "\\label{eq_6}\n",
        "\\end{equation}\n",
        "</span>"
      ]
    },
    {
      "cell_type": "markdown",
      "metadata": {
        "id": "fxzrVzg5AeCS"
      },
      "source": [
        "### The distance of flight\n",
        "\n",
        "The jump in the air is the part of the jump that we can describe as a projectile motion and its distance, $d_{flight}$, is typically 90% of the jump distance for professional jumpers.  \n",
        "\n",
        "Let's derive an expression for $d_{flight}$, which we called range before, as a function of the velocity and angle at the take-off. Looking at the long jump diagram, we see that the jumper takes off from a higher height than when he or she lands. The equation for the vertical displacement of the jumper's center of mass during the flight phase will be:  \n",
        "<br>\n",
        "<span class=\"notranslate\">\n",
        "\\begin{equation}\n",
        "h_{landing} = h_{take-off} + v_0\\sin(\\theta)\\:t - \\frac{g\\:t^2_{flight}}{2}\n",
        "\\label{eq_7}\n",
        "\\end{equation}\n",
        "</span>\n",
        "\n",
        "For simplicity let's adopt $h_0=h_{take-off}-h_{landing}$:  \n",
        "<br>\n",
        "<span class=\"notranslate\">\n",
        "\\begin{equation}\n",
        "0 = h_0 + v_0\\sin(\\theta)\\:t - \\frac{g\\:t^2_{flight}}{2}\n",
        "\\label{eq_8}\n",
        "\\end{equation}\n",
        "</span>\n",
        "\n",
        "Solving this second-order equation for $t_{flight}$:  \n",
        "<br>\n",
        "<span class=\"notranslate\">\n",
        "\\begin{equation}\n",
        "t_{flight} = \\frac{v_0 \\sin(\\theta) \\pm \\sqrt{v^2_0 \\sin^2(\\theta) + 2 h_0 g}}{g}\n",
        "\\label{eq_9}\n",
        "\\end{equation}\n",
        "</span>\n",
        "\n",
        "This expression is different than the one we derived before because the initial and final heights are different in the long jump. However, the above expression reduces to the former expression when this difference is zero, $h_0=0$.\n",
        "\n",
        "We are only interested in the positive solution of the equation (the negative solution results in negative time) and substituting this result in the equation for the horizontal distance, we have the an expression for $d_{flight}$:  \n",
        "<br>\n",
        "<span class=\"notranslate\">\n",
        "\\begin{equation}\n",
        "d_{flight} = \\frac{v_0\\cos(\\theta)\\left[v_0 \\sin(\\theta) + \\sqrt{v^2_0\\sin^2(\\theta) + 2 h_0 g}\\:\\right]}{g} \\label{eq_10}\n",
        "\\end{equation}\n",
        "</span>\n",
        "\n",
        "Once again, when $h_0=0$, we have the same expression we derived before."
      ]
    },
    {
      "cell_type": "markdown",
      "metadata": {
        "id": "ggEMmztXAeCS"
      },
      "source": [
        "### The optimum angle of take off\n",
        "\n",
        "We now can find the angle that maximizes the range given that the projectile is released (the body jumps) from an initial height. In order to find such angle, we differentiate the previous equation with respect to the variable angle, set this derivative equal to zero, and solve it (read about how to find maxima points in a function [here](http://en.wikipedia.org/wiki/Maxima_and_minima)). It can be shown that the solution is (for a proof, see [here](http://math.stackexchange.com/questions/127300/maximum-range-of-a-projectile-launched-from-an-elevation) or [here](http://www.themcclungs.net/physics/download/H/2_D_Motion/Projectile%20Cliff.pdf)):  \n",
        "<br>\n",
        "<span class=\"notranslate\">\n",
        "\\begin{equation}\n",
        "\\theta = \\arctan\\left(\\frac{v_0}{\\sqrt{v_0^2 + 2gh_0}}\\right)\n",
        "\\label{eq_11}\n",
        "\\end{equation}\n",
        "</span>\n",
        "\n",
        "For $h_0=0$, the angle will be $\\arctan(1)$, which is equal to $45^o$, as obtained before. However, higher the height, smaller than one the fraction and smaller will be the optimum angle."
      ]
    },
    {
      "cell_type": "markdown",
      "metadata": {
        "id": "oapAqNf3AeCT"
      },
      "source": [
        "#### Computation of the optimum angle\n",
        "\n",
        "Let's write a function to calculate the optimum angle given the initial height and velocity:"
      ]
    },
    {
      "cell_type": "code",
      "execution_count": 3,
      "metadata": {
        "ExecuteTime": {
          "end_time": "2017-12-30T07:12:11.394661Z",
          "start_time": "2017-12-30T07:12:11.381084Z"
        },
        "id": "18m9BvbfAeCT"
      },
      "outputs": [],
      "source": [
        "def angle(height, velocity):\n",
        "    '''Opitmum angle for projectile motion with initial `height` and `velocity`.\n",
        "    '''\n",
        "    import math\n",
        "\n",
        "    g = 9.8  # gravitational acceleration, m/s2\n",
        "\n",
        "    ang = 0\n",
        "    if velocity != 0:\n",
        "        ang = math.atan(velocity/math.sqrt(velocity**2+2*g*height))*180/math.pi\n",
        "\n",
        "    return ang"
      ]
    },
    {
      "cell_type": "markdown",
      "metadata": {
        "id": "SIvSzJkIAeCT"
      },
      "source": [
        "Let's determine the optimum angle for an initial height of 0.6 m and an initial velocity of 9 m/s (actual values for athletes of long jump):"
      ]
    },
    {
      "cell_type": "code",
      "execution_count": 4,
      "metadata": {
        "ExecuteTime": {
          "end_time": "2017-12-30T07:12:40.827161Z",
          "start_time": "2017-12-30T07:12:40.819847Z"
        },
        "id": "4FR1Bux7AeCT",
        "outputId": "d800e426-a636-44d6-d5d4-675968df5d7f",
        "colab": {
          "base_uri": "https://localhost:8080/"
        }
      },
      "outputs": [
        {
          "output_type": "stream",
          "name": "stdout",
          "text": [
            "The optimum angle for a jump with h=0.6 m and v=9.0 m/s is 43.1 degrees\n"
          ]
        }
      ],
      "source": [
        "height=.6\n",
        "velocity=9\n",
        "ang = angle(height, velocity)\n",
        "print('The optimum angle for a jump with h=%.1f m and v=%.1f m/s is %.1f degrees'\n",
        "          %(height, velocity, ang))"
      ]
    },
    {
      "cell_type": "markdown",
      "metadata": {
        "id": "8RNKuI2IAeCT"
      },
      "source": [
        "We can even plot the optimum angle for different values of initial height and velocity (e.g., heights from 0 to 1 m and velocities from 5 to 10 m/s):"
      ]
    },
    {
      "cell_type": "code",
      "execution_count": 5,
      "metadata": {
        "ExecuteTime": {
          "end_time": "2017-12-30T07:13:02.930914Z",
          "start_time": "2017-12-30T07:13:02.378051Z"
        },
        "id": "1NhCWK2-AeCT"
      },
      "outputs": [],
      "source": [
        "# import and configure additional libraries\n",
        "from matplotlib import cm\n",
        "import seaborn as sns\n",
        "sns.set(rc={'axes.facecolor': 'white', 'figure.facecolor': 'white'})\n",
        "sns.set_context(\"notebook\", font_scale=1.2, rc={\"lines.linewidth\": 2, \"lines.markersize\": 10})"
      ]
    },
    {
      "cell_type": "code",
      "execution_count": 6,
      "metadata": {
        "ExecuteTime": {
          "end_time": "2017-12-30T07:13:08.003398Z",
          "start_time": "2017-12-30T07:13:07.914573Z"
        },
        "id": "9z_KJpiHAeCU",
        "outputId": "6687a2dc-2def-42ff-acbd-5ad40d4b0545",
        "colab": {
          "base_uri": "https://localhost:8080/",
          "height": 445
        }
      },
      "outputs": [
        {
          "output_type": "display_data",
          "data": {
            "text/plain": [
              "<Figure size 900x500 with 1 Axes>"
            ],
            "image/png": "[encoded data removed]"
          },
          "metadata": {}
        }
      ],
      "source": [
        "angles = np.zeros((21, 21))\n",
        "for h in range(0, 21):\n",
        "    for v in range(0, 21):\n",
        "        angles[h, v] = angle(height=h/20, velocity=v/4+5)\n",
        "\n",
        "v, h = np.meshgrid(np.arange(5, 10.25, .25), np.arange(0, 1.05, 0.05))\n",
        "\n",
        "fig = plt.figure(figsize=(9, 5))\n",
        "ax = fig.add_subplot(projection='3d')\n",
        "\n",
        "surf = ax.plot_surface(h, v, angles, rstride=1, cstride=1, cmap=cm.coolwarm,\n",
        "                       linewidth=0, antialiased=False)\n",
        "ax.set_xlim(0, 1)\n",
        "ax.set_ylim(5, 10)\n",
        "ax.set_zlim(np.min(angles), 45)\n",
        "ax.set_xlabel('Initial height (m)', fontsize=12)\n",
        "ax.set_ylabel('Initial velocity (m/s)', fontsize=12)\n",
        "ax.set_zlabel('Optimum angle ( $^o$)', fontsize=12)\n",
        "ax.set_title('Projectile motion: optimum angle for maximum range', fontsize=16, y=1.04)\n",
        "plt.show()"
      ]
    },
    {
      "cell_type": "markdown",
      "metadata": {
        "id": "YRB9Q0ukAeCU"
      },
      "source": [
        "#### Actual take-off angles from human jumps are different from the prediction\n",
        "\n",
        "The typical angles of take-off among the athletes vary between 15$^o$ and 27$^o$ (Linthorne, 2007), much lower than we predicted! Neither the Physics or the simplifications we adopted are wrong.  \n",
        "\n",
        "It happens that humans are unable to run at the horizontal direction with a speed of 10 m/s and suddenly change their direction to 45$^o$ without losing a large amount of that speed. The contact time of the foot with the ground just before jumping for an athlete of long jump is about 10 ms. Our muscles don't have the capacity to act fast enough and generate the necessary amount of force in such short time.  \n",
        "\n",
        "But don't think then the physics of projectile motion is useless for understanding the jumps by humans, quite the contrary. It is possible to model the mechanical and physiological properties of the human body and simulate a long jump (using the equations of projectile motion) which will reproduce most of the long jump characteristics, see for example, Alexander (1990) and Seyfarth et al. (2000). We can even use this kind of modeling to simulate what would happen if the athlete changes some of his or her technique.\n",
        "\n",
        "See experimental values for the kinematic properties of long jumps measured during competitions in the websites [Research Projects](http://www.iaaf.org/development/research) (from the International Association of Athletics Federations) and [Análise Biomecânica do Salto em Distância](http://demotu.org/x/salto/) (in Portuguese)."
      ]
    },
    {
      "cell_type": "markdown",
      "metadata": {
        "id": "jy-cWH7_AeCU"
      },
      "source": [
        "## On the calculation of the angle from kinematic data\n",
        "\n",
        "The angle of the projectile with the horizontal (in the context of a human jump, the angle of the trajectory of the center of gravity with the horizontal in the sagittal plane) at a given instant (e.g. at the take-off of the jump) is, by definition, the arc. whose tangent is the ratio of the vertical ($y$) and horizontal ($x$) displacements:\n",
        "\n",
        "<div class='center-align'><figure><img src=\"https://github.com/BMClab/BMC/blob/master/images/segment.png?raw=1\" width=250/><figcaption><figcaption><center><i>Figure. A segment in a plane and its coordinates.</i></center></figcaption> </figure></div>\n",
        "    \n",
        "Given the the coordinates at two instants:   \n",
        "<br>\n",
        "<span class=\"notranslate\">\n",
        "\\begin{equation}\n",
        "\\theta = arctan\\left(\\frac{y_2-y_1}{x_2-x_1}\\right)\n",
        "\\end{equation}\n",
        "</span>\n",
        "    \n",
        "A simple way to determine the angle with experimental data, rather than calculating the finite differences in position in the two directions, is to calculate the angle from the ratio of the vertical and horizontal velocities, $v(t)$, since:   \n",
        "<br>\n",
        "<span class=\"notranslate\">\n",
        "\\begin{equation}\n",
        "\\theta(t) = arctan\\left(\\frac{v_y(t)}{v_x(t)}\\right) = arctan\\left(\\dfrac{\\dfrac{y_{t}-y_{t-1}}{\\Delta t}}{\\dfrac{x_{t}-x_{t-1}}{\\Delta t}}\\right) = arctan\\left(\\frac{y_{t}-y_{t-1}}{x_{t}-x_{t-1}}\\right)\n",
        "\\end{equation}\n",
        "</span>    "
      ]
    },
    {
      "cell_type": "markdown",
      "source": [
        "## More examples\n",
        "\n",
        " - [Horizontally Launched Projectiles - Problem-Solving](https://www.physicsclassroom.com/class/vectors/Lesson-2/Horizontally-Launched-Projectiles-Problem-Solving)  \n",
        " - [Non-Horizontally Launched Projectiles - Problem-Solving](https://www.physicsclassroom.com/class/vectors/Lesson-2/Non-Horizontally-Launched-Projectiles-Problem-Solv)"
      ],
      "metadata": {
        "id": "CBEDC7E7ERv7"
      }
    },
    {
      "cell_type": "markdown",
      "source": [
        "## Further reading\n",
        "\n",
        " - Read the text: Linthorne NP (2007) <a href=\"http://www.brunel.ac.uk/~spstnpl/Publications/Ch24LongJump(Linthorne).pdf\">Biomechanics of the long jump</a>. In Routledge Handbook of Biomechanics and Human Movement Science, Y. Hong and R. Bartlett (Editors), Routledge, London. pp. 340–353."
      ],
      "metadata": {
        "id": "SEfHoqsoBCki"
      }
    },
    {
      "cell_type": "markdown",
      "source": [
        "## Video lectures on the Internet\n",
        "\n",
        " - Khan Academy: [Two-dimensional motion](https://www.khanacademy.org/science/ap-physics-1/ap-two-dimensional-motion)  "
      ],
      "metadata": {
        "id": "Arsa14q4GXTD"
      }
    },
    {
      "cell_type": "markdown",
      "metadata": {
        "id": "sDcPw1_6AeCU"
      },
      "source": [
        "## Problems\n",
        "\n",
        "1. An athlete during a long jump had at the moment of takeoff a velocity of (8.10, 3.58, 0) [in m/s] where $\\mathbf{x, y, z}$ are the horizontal (anterior-posterior), vertical, and medio-lateral directions, respectively.     \n",
        "   a. Calculate the magnitude of the velocity at the takeoff.   \n",
        "   b. Calculate the angle of the jump at the takeoff.   \n",
        "   c. Calculate the jump distance.   \n",
        "   d. The actual jump distance was 6.75 m. Comment about the difference between this value and the distance found in (c).  \n",
        "\n",
        "2. A person throws a ball upward (vertically) into the air with an initial speed of 10 m/s and initial height of release of 2 m. Determine the following quantities for the ball:  \n",
        "   a. Maximum height.  \n",
        "   b. Total time in the air.  \n",
        "   c. Velocity just before impact with the ground.  \n",
        "   d. Plots for position, velocity, and acceleration.  \n",
        "\n",
        "3. An athlete of diving jumps from a 10-m height platform and reaches the water at a horizontal distance of 5 m after 2.5 s. Calculate the following quantities for the diver's center of mass:  \n",
        "   a. Initial speed and angle at the takeoff.  \n",
        "   b. Maximum height reached.\n",
        "   \n",
        "4. A ball is thrown with a speed $v_0=25$ m/s and angle $\\theta=tan^{-1}(4/3)$ strikes the inclined surface as shown in the figure below. Determine the position s at which the ball will strike the inclined surface. Solution: s=40.04m.\n",
        "<br>\n",
        "<figure><img src=\"https://github.com/BMClab/BMC/blob/master/images/ex1_12_rade.png?raw=1\" width=400/></figure>  \n",
        "<br>  \n",
        "4. Investigate and propose at least three different methods to measure these kinematic quantities during training and sporting events. Discuss the limitations and advantages of each method considering their application in different sports.\n",
        "\n",
        "5. The website [Physics Classroom](https://www.physicsclassroom.com/curriculum/vectors/Projectile-Motion) has a link to a pdf document with 26 problems about projectile motion and links to the lessons about this topic. Download the pdf and solve the problems."
      ]
    },
    {
      "cell_type": "markdown",
      "metadata": {
        "id": "Hyq877b9AeCU"
      },
      "source": [
        "## References\n",
        "\n",
        "- Alexander RM (1990) [Optimum take-off techniques for high and long jumps](http://rstb.royalsocietypublishing.org/cgi/pmidlookup?view=long&pmid=1976267). Philosophical transactions of the Royal Society of London. Series B, Biological sciences. 329(1252), 3-10.\n",
        "- [Análise Biomecânica do Salto em Distância](http://demotu.org/x/salto/)\n",
        "- Linthorne NP (2007) <a href=\"http://www.brunel.ac.uk/~spstnpl/Publications/Ch24LongJump(Linthorne).pdf\">Biomechanics of the long jump</a>. In Routledge Handbook of Biomechanics and Human Movement Science, Y. Hong and R. Bartlett (Editors), Routledge, London. pp. 340–353.\n",
        "- [Research Projects](http://www.iaaf.org/development/research) from the International Association of Athletics Federations.\n",
        "- Seyfarth A, Blickhan R, Van Leeuwen JL (2000) [Optimum take-off techniques and muscle design for long jump](http://jeb.biologists.org/cgi/pmidlookup?view=long&pmid=10648215). Journal of Experimental Biology, 203(Pt 4), 741-50.\n"
      ]
    }
  ],
  "metadata": {
    "anaconda-cloud": {},
    "hide_input": false,
    "kernelspec": {
      "display_name": "Python 3 (ipykernel)",
      "language": "python",
      "name": "python3"
    },
    "language_info": {
      "codemirror_mode": {
        "name": "ipython",
        "version": 3
      },
      "file_extension": ".py",
      "mimetype": "text/x-python",
      "name": "python",
      "nbconvert_exporter": "python",
      "pygments_lexer": "ipython3",
      "version": "3.9.13"
    },
    "nbTranslate": {
      "displayLangs": [
        "*"
      ],
      "hotkey": "alt-t",
      "langInMainMenu": true,
      "sourceLang": "en",
      "targetLang": "fr",
      "useGoogleTranslate": true
    },
    "toc": {
      "base_numbering": 1,
      "nav_menu": {},
      "number_sections": true,
      "sideBar": true,
      "skip_h1_title": true,
      "title_cell": "Contents",
      "title_sidebar": "Contents",
      "toc_cell": true,
      "toc_position": {},
      "toc_section_display": true,
      "toc_window_display": false
    },
    "varInspector": {
      "cols": {
        "lenName": 16,
        "lenType": 16,
        "lenVar": 40
      },
      "kernels_config": {
        "python": {
          "delete_cmd_postfix": "",
          "delete_cmd_prefix": "del ",
          "library": "var_list.py",
          "varRefreshCmd": "print(var_dic_list())"
        },
        "r": {
          "delete_cmd_postfix": ") ",
          "delete_cmd_prefix": "rm(",
          "library": "var_list.r",
          "varRefreshCmd": "cat(var_dic_list()) "
        }
      },
      "types_to_exclude": [
        "module",
        "function",
        "builtin_function_or_method",
        "instance",
        "_Feature"
      ],
      "window_display": false
    },
    "colab": {
      "provenance": []
    }
  },
  "nbformat": 4,
  "nbformat_minor": 0
}