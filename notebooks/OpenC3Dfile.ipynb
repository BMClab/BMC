{
 "cells": [
  {
   "cell_type": "markdown",
   "id": "roman-latin",
   "metadata": {},
   "source": [
    "# Open C3D files"
   ]
  },
  {
   "cell_type": "markdown",
   "id": "quick-father",
   "metadata": {},
   "source": [
    "Marcos Duarte"
   ]
  },
  {
   "cell_type": "markdown",
   "id": "whole-checkout",
   "metadata": {},
   "source": [
    "**Text and binary files**   \n",
    "There are two kinds of computer files: text and binary files. Text files are structured as a sequence of lines of electronic text. The most common formats of a text file are ASCII (with 128 ($2^7$) different characters and UTF-8 (which includes non-English characters). A binary file is a file that is not structured as a text file. Because in fact everything in a computer is stored in binary format (a sequence of zeros and ones), text files are binary files that store text codes.\n",
    "\n",
    "To open and read a text file is simple and straightforward. A text file doesn't need additional information to be read, and can be openned by any text-processing software. This is not the case of a binary file, we need to have extra information about how the file is structured to be able to read it. However, binary files can store more information per file size than text files and we can read and write binary files faster than text files. This is one of the reasons why software developers would choose a binary format.\n",
    "\n",
    "**C3D format**\n",
    "\n",
    "> The C3D format is a public domain, binary file format that has been used in Biomechanics, Animation and Gait Analysis laboratories to record synchronized 3D and analog data since the mid 1980's.  It is supported by all 3D major Motion Capture System manufacturers, as well as other companies in the Biomechanics, Motion Capture and Animation Industries ([http://www.c3d.org/](http://www.c3d.org/)).\n",
    "\n",
    "There is a very detailed [technical implementation manual of the C3D file format](http://www.c3d.org/pdf/c3dformat_ug.pdf).\n",
    "\n",
    "The C3D file format has three basic components: \n",
    "\n",
    " - Data: at this level the C3D file is simply a binary file that stores raw 3D and analog information.   \n",
    " - Standard parameters: default information about the raw 3D and analog data that is required to access the data.   \n",
    " - Custom parameters: information specific to a particular manufacturers’ software application or test subject.   \n",
    "\n",
    "Regarding to what is useful to the analysis, a C3D file normally has four types of information:\n",
    "\n",
    " - 3D point: 3D coordinates of markers or any related biomechanical quantities such as angles, joint forces and moments, etc.\n",
    " - Analaog: analog data acquired with an A/D converter.\n",
    " - Event: specific frames as events of the acquisition.\n",
    " - Metadata: information about the subject, the system configuration, etc.\n",
    " \n",
    "All C3D files contain a minimum of three sections of information:\n",
    "\n",
    " - A single, 512 byte, header section.\n",
    " - A parameter section consisting of one, or more, 512-byte blocks. \n",
    " - 3D point/analog data section consisting of one, or more, 512-byte blocks.\n",
    " \n",
    "To demonstrate the process of reading a binary file, let's read only part of the header of a C3D file:"
   ]
  },
  {
   "cell_type": "code",
   "execution_count": 1,
   "id": "taken-latex",
   "metadata": {},
   "outputs": [
    {
     "name": "stdout",
     "output_type": "stream",
     "text": [
      "File \"data/Gait.c3d\":\n",
      "Number of 3D points: 33\n",
      "Number of frames: 487\n",
      "Frame rate: 100.00\n",
      "Analog data per frame: 10\n"
     ]
    }
   ],
   "source": [
    "from __future__ import division, print_function\n",
    "from struct import unpack       # convert C structs represented as Python strings\n",
    "from cStringIO import StringIO  # reads and writes a string buffer\n",
    "\n",
    "def getFloat(floatStr,processor):\n",
    "    \"16-bit float string to number conversion\"\n",
    "    if processor > 1: #DEC or SGI\n",
    "        floatNumber = unpack('f',floatStr[2:] + floatStr[0:2])[0]/4\n",
    "    else:\n",
    "        floatNumber = unpack('f',floatStr)[0]\n",
    "    return floatNumber   \n",
    "\n",
    "filename = './../data/Gait.c3d'  # data from sample03.zip @ http://www.c3d.org/sampledata.html\n",
    "fid = open(filename, 'rb')       # open file for reading in binary format\n",
    "#Header section:\n",
    "bytes = fid.read(512)\n",
    "buf = StringIO(bytes)\n",
    "firstBlockParameterSection, fmt = unpack('BB', buf.read(2))\n",
    "if fmt != 80:\n",
    "    print('This file is not a valid C3D file.')\n",
    "    fid.close()\n",
    "# First block of parameter section:\n",
    "firstBlockByte = 512*(firstBlockParameterSection - 1) + 2\n",
    "fid.seek(firstBlockByte)\n",
    "nparameter_blocks, processor = unpack('BB', fid.read(2))\n",
    "processor = processor - 83\n",
    "processors = ['unknown', 'Intel', 'DEC', 'SGI']\n",
    "#Back to the header section:\n",
    "n3Dpoints, = unpack('H', buf.read(2))\n",
    "nTotalAnalogDataPerFrame, = unpack('H', buf.read(2))\n",
    "nFirstFrame3D, = unpack('H', buf.read(2))\n",
    "nLastFrame3D, = unpack('H', buf.read(2))\n",
    "maxInterpGap, = unpack('H', buf.read(2))\n",
    "scaleFactor = getFloat(buf.read(4), processor)\n",
    "dataStartBlock, = unpack('H', buf.read(2))\n",
    "nAnalogDataPerFrame, = unpack('H', buf.read(2))\n",
    "frameRate = getFloat(buf.read(4), processor)\n",
    "\n",
    "print('File \"%s\":' %filename)\n",
    "print('Number of 3D points: %d' % n3Dpoints)\n",
    "print('Number of frames: %d' %(nLastFrame3D - nFirstFrame3D + 1))\n",
    "print('Frame rate: %.2f' % frameRate)\n",
    "print('Analog data per frame: %d' % nAnalogDataPerFrame)   "
   ]
  },
  {
   "cell_type": "markdown",
   "id": "chubby-assumption",
   "metadata": {},
   "source": [
    "To read a complete C3D file, and fast enough, is not simple. Fortunately, there is a Python package to work with C3D files: the [BTK library](https://code.google.com/p/b-tk/). The same developer of BTK, Arnaud Barré, also wrote another nice software: [Mokka](http://b-tk.googlecode.com/svn/web/mokka/index.html), an *'open-source and cross-platform software to easily analyze biomechanical data'*.   \n",
    "\n",
    "[See this page on how to install the BTK library for Python](https://code.google.com/p/b-tk/wiki/PythonBinaries).   \n",
    "\n",
    "Let's use BTK to read a C3D file.   \n",
    "There is a different version of BTK for each OS; here is a workaround to import the right BTK library according to your OS:"
   ]
  },
  {
   "cell_type": "code",
   "execution_count": 2,
   "id": "young-knock",
   "metadata": {},
   "outputs": [],
   "source": [
    "import platform, sys\n",
    "\n",
    "if platform.system() == 'Windows':\n",
    "    if sys.maxsize > 2**32:\n",
    "        sys.path.insert(1, r'./../functions/btk/win64')\n",
    "    else:\n",
    "        sys.path.insert(1, r'./../functions/btk/win32')\n",
    "elif platform.system() == 'Linux':\n",
    "    if sys.maxsize > 2**32:\n",
    "        sys.path.insert(1, r'./../functions/btk/linux64')\n",
    "    else:\n",
    "        sys.path.insert(1, r'./../functions/btk/linux32')\n",
    "elif platform.system() == 'Darwin':\n",
    "    sys.path.insert(1, r'./../functions/btk/mac')"
   ]
  },
  {
   "cell_type": "markdown",
   "id": "statistical-earth",
   "metadata": {},
   "source": [
    "The BTK files above were taken from [https://code.google.com/p/b-tk/wiki/PythonBinaries](https://code.google.com/p/b-tk/wiki/PythonBinaries) with the exception of the files for the Mac OS. I compiled these files for the latest Mac OS version (10.9) and Python 2.7.6. Use the Mac files from the BTK website if you have older Mac OS and Python versions.\n",
    "\n",
    "With the BTK files and the path to them in the Python path, to use them it's easy:"
   ]
  },
  {
   "cell_type": "code",
   "execution_count": 3,
   "id": "unknown-glucose",
   "metadata": {},
   "outputs": [],
   "source": [
    "import btk"
   ]
  },
  {
   "cell_type": "markdown",
   "id": "swiss-heritage",
   "metadata": {},
   "source": [
    "Read a C3D file:"
   ]
  },
  {
   "cell_type": "code",
   "execution_count": 4,
   "id": "wireless-stand",
   "metadata": {},
   "outputs": [],
   "source": [
    "reader = btk.btkAcquisitionFileReader()  # build a btk reader object \n",
    "reader.SetFilename(\"./../data/Gait.c3d\") # set a filename to the reader\n",
    "acq = reader.GetOutput()                 # btk aquisition object\n",
    "acq.Update()                             # Update ProcessObject associated with DataObject"
   ]
  },
  {
   "cell_type": "markdown",
   "id": "sufficient-blood",
   "metadata": {},
   "source": [
    "Get information about the C3D file content:"
   ]
  },
  {
   "cell_type": "code",
   "execution_count": 5,
   "id": "bulgarian-progress",
   "metadata": {},
   "outputs": [
    {
     "name": "stdout",
     "output_type": "stream",
     "text": [
      "Acquisition duration: 4.87 s\n",
      "Point frequency: 100.00 Hz\n",
      "Number of frames: 487\n",
      "Point unit: mm\n",
      "Analog frequency: 1000.00 Hz\n",
      "Number of analog channels: 28\n",
      "Number of events: 0\n"
     ]
    }
   ],
   "source": [
    "print('Acquisition duration: %.2f s' %acq.GetDuration()) \n",
    "print('Point frequency: %.2f Hz' %acq.GetPointFrequency())\n",
    "print('Number of frames: %d' %acq.GetPointFrameNumber())\n",
    "print('Point unit: %s' %acq.GetPointUnit())\n",
    "print('Analog frequency: %.2f Hz' %acq.GetAnalogFrequency())\n",
    "print('Number of analog channels: %d' %acq.GetAnalogNumber()) \n",
    "print('Number of events: %d' %acq.GetEventNumber())"
   ]
  },
  {
   "cell_type": "markdown",
   "id": "valuable-florist",
   "metadata": {},
   "source": [
    "Get the labels of the 3D points and analog channels:"
   ]
  },
  {
   "cell_type": "code",
   "execution_count": 6,
   "id": "controversial-albania",
   "metadata": {},
   "outputs": [
    {
     "name": "stdout",
     "output_type": "stream",
     "text": [
      "Marker labels:\n",
      "R.Shoulder  R.Offset  R.Elbow  R.Wrist  L.Shoulder  L.Elbow  L.Wrist  R.ASIS  L.ASIS  V.Sacral  R.Thigh  R.Knee  R.Shank  R.Ankle  R.Heel  R.Toe  L.Thigh  L.Knee  L.Shank  L.Ankle  L.Heel  L.Toe  R.Knee.Medial  R.Ankle.Medial  L.Knee.Medial  L.Ankle.Medial  R.Foot.Medial  R.Foot.Lateral  L.Foot.Medial  L.Foot.Lateral  C7  IJ  PX  \n",
      "\n",
      "Analog channels:\n",
      "f1x  f1y  f1z  m1x  m1y  m1z  f2x  f2y  f2z  m2x  m2y  m2z  L Rectus  R Rectus  L Vaste Ext  R Vaste Ext  L GRF  R GRF  L Ischio  R Ischio  L Biceps  R Biceps  L Tibialis  R Tibialis  L Sol  R Sol  L Jum Int  R Jum Int  "
     ]
    }
   ],
   "source": [
    "print('Marker labels:')\n",
    "for i in range(0, acq.GetPoints().GetItemNumber()):\n",
    "    print(acq.GetPoint(i).GetLabel(), end='  ')   \n",
    "print('\\n\\nAnalog channels:')\n",
    "for i in range(0, acq.GetAnalogs().GetItemNumber()):\n",
    "    print(acq.GetAnalog(i).GetLabel(), end='  ')   "
   ]
  },
  {
   "cell_type": "markdown",
   "id": "competitive-fundamentals",
   "metadata": {},
   "source": [
    "Get all events:"
   ]
  },
  {
   "cell_type": "code",
   "execution_count": 7,
   "id": "technical-momentum",
   "metadata": {},
   "outputs": [],
   "source": [
    "for i in range(0, acq.GetEvents().GetItemNumber()):\n",
    "    print(acq.GetEvent(i).GetLabel() + ' at frame %d' %acq.GetEvent(i).GetFrame())   "
   ]
  },
  {
   "cell_type": "markdown",
   "id": "breeding-potential",
   "metadata": {},
   "source": [
    "This file doesn't have any event.\n",
    "\n",
    "Get all metadata:"
   ]
  },
  {
   "cell_type": "code",
   "execution_count": 8,
   "id": "classified-insertion",
   "metadata": {},
   "outputs": [
    {
     "name": "stdout",
     "output_type": "stream",
     "text": [
      "POINT:\n",
      "USED  FRAMES  DESCRIPTIONS  LABELS  INITIAL_COMMAND  X_SCREEN  Y_SCREEN  LAB_ROT  RATE  UNITS  SCALE  DATA_START  \n",
      "\n",
      "ANALOG:\n",
      "USED  DESCRIPTIONS  LABELS  RATE  BITS  FORMAT  GEN_SCALE  OFFSET  UNITS  SCALE  \n",
      "\n",
      "FORCE_PLATFORM:\n",
      "USED  TYPE  ORIGIN  CORNERS  CAL_MATRIX  ZERO  CHANNEL  \n",
      "\n"
     ]
    }
   ],
   "source": [
    "for i in range(acq.GetMetaData().GetChildNumber()):\n",
    "    print(acq.GetMetaData().GetChild(i).GetLabel() + ':')\n",
    "    for j in range(acq.GetMetaData().GetChild(i).GetChildNumber()):\n",
    "        print(acq.GetMetaData().GetChild(i).GetChild(j).GetLabel(), end='  ')\n",
    "    print('\\n')"
   ]
  },
  {
   "cell_type": "markdown",
   "id": "periodic-petroleum",
   "metadata": {},
   "source": [
    "Get the 3D position data of all markers as a Numpy array:"
   ]
  },
  {
   "cell_type": "code",
   "execution_count": 9,
   "id": "champion-sheep",
   "metadata": {},
   "outputs": [],
   "source": [
    "import numpy as np\n",
    "\n",
    "data = np.empty((3, acq.GetPointFrameNumber(), 1))\n",
    "for i in range(0, acq.GetPoints().GetItemNumber()):\n",
    "    label = acq.GetPoint(i).GetLabel()\n",
    "    data = np.dstack((data, acq.GetPoint(label).GetValues().T))\n",
    "data = data.T\n",
    "data = np.delete(data, 0, axis=0)  # first marker is noisy for this file\n",
    "data[data==0] = np.NaN             # handle missing data (zeros)"
   ]
  },
  {
   "cell_type": "code",
   "execution_count": 10,
   "id": "joined-texas",
   "metadata": {},
   "outputs": [
    {
     "data": {
      "text/plain": [
       "(33L, 487L, 3L)"
      ]
     },
     "execution_count": 10,
     "metadata": {},
     "output_type": "execute_result"
    }
   ],
   "source": [
    "data.shape"
   ]
  },
  {
   "cell_type": "code",
   "execution_count": 11,
   "id": "committed-bosnia",
   "metadata": {},
   "outputs": [
    {
     "name": "stdout",
     "output_type": "stream",
     "text": [
      "-753.301107883 2438.03477883\n"
     ]
    }
   ],
   "source": [
    "print(np.nanmin(data), np.nanmax(data))"
   ]
  },
  {
   "cell_type": "markdown",
   "id": "technical-variance",
   "metadata": {},
   "source": [
    "There are 33 markers (with x, y, z coordinates) and 487 frames.   \n",
    "Let's visualize these data.\n",
    "\n",
    "First, the vertical ground reaction force:"
   ]
  },
  {
   "cell_type": "code",
   "execution_count": 12,
   "id": "exact-summit",
   "metadata": {},
   "outputs": [
    {
     "data": {
      "image/png": "[encoded data removed]",
      "text/plain": [
       "<matplotlib.figure.Figure at 0x8cebcc0>"
      ]
     },
     "metadata": {},
     "output_type": "display_data"
    }
   ],
   "source": [
    "import matplotlib.pyplot as plt\n",
    "%matplotlib inline\n",
    "\n",
    "ana = acq.GetAnalog(\"f1z\")\n",
    "fz1 = ana.GetValues()/ana.GetScale()\n",
    "ana = acq.GetAnalog(\"f2z\")\n",
    "fz2 = ana.GetValues()/ana.GetScale()\n",
    "freq2 = acq.GetAnalogFrequency()\n",
    "t = np.linspace(1, len(fz1), num=len(fz1))/freq2\n",
    "plt.figure(figsize=(10, 4))\n",
    "plt.plot(t, fz1, label='Fz1')\n",
    "plt.plot(t, fz2, label='Fz2')\n",
    "plt.legend()\n",
    "plt.xlabel('Time [s]')\n",
    "plt.ylabel('GRF vertical [N]')\n",
    "plt.show()"
   ]
  },
  {
   "cell_type": "markdown",
   "id": "featured-maldives",
   "metadata": {},
   "source": [
    "Let's visualize the markers positions in a 3D animation:"
   ]
  },
  {
   "cell_type": "code",
   "execution_count": 13,
   "id": "bulgarian-program",
   "metadata": {},
   "outputs": [],
   "source": [
    "# Use the IPython magic %matplotlib qt to plot a figure in a separate window\n",
    "#  because the Ipython Notebook doesn't play inline matplotlib animations yet.\n",
    "%matplotlib qt"
   ]
  },
  {
   "cell_type": "code",
   "execution_count": 14,
   "id": "systematic-navigation",
   "metadata": {},
   "outputs": [],
   "source": [
    "from mpl_toolkits.mplot3d import Axes3D\n",
    "import matplotlib.animation as animation\n",
    "\n",
    "dat = data[:, 130:340, :]\n",
    "freq = acq.GetPointFrequency()\n",
    "\n",
    "fig = plt.figure()\n",
    "ax = fig.add_axes([0, 0, 1, 1], projection='3d')\n",
    "ax.view_init(10, 150)\n",
    "pts = []\n",
    "for i in range(dat.shape[0]):\n",
    "    pts += ax.plot([], [], [], 'o')\n",
    "\n",
    "ax.set_xlim3d([np.nanmin(dat[:, :, 0]), np.nanmax(dat[:, :, 0])])\n",
    "ax.set_ylim3d([np.nanmin(dat[:, :, 1])-400, np.nanmax(dat[:, :, 1])+400])\n",
    "ax.set_zlim3d([np.nanmin(dat[:, :, 2]), np.nanmax(dat[:, :, 2])])\n",
    "ax.set_xlabel('X [mm]')\n",
    "ax.set_ylabel('Y [mm]')\n",
    "ax.set_zlabel('Z [mm]')\n",
    "\n",
    "# animation function\n",
    "def animate(i):\n",
    "    for pt, xi in zip(pts, dat):\n",
    "        x, y, z = xi[:i].T\n",
    "        pt.set_data(x[-1:], y[-1:])\n",
    "        pt.set_3d_properties(z[-1:])   \n",
    "    return pts\n",
    "\n",
    "# Animation object\n",
    "anim = animation.FuncAnimation(fig, func=animate, frames=dat.shape[1], interval=1000/freq, blit=True)\n",
    "\n",
    "plt.show()"
   ]
  },
  {
   "cell_type": "code",
   "execution_count": 15,
   "id": "architectural-burning",
   "metadata": {},
   "outputs": [],
   "source": [
    "# get back the inline plot\n",
    "%matplotlib inline"
   ]
  },
  {
   "cell_type": "markdown",
   "id": "constitutional-dover",
   "metadata": {},
   "source": [
    "This is the animation you see in a separate window when you run the code above:\n",
    "\n",
    "<div class='center-align'><figure><img src='./../images/walking.gif' width=500 alt='walking'/> </figure></div><br>"
   ]
  },
  {
   "cell_type": "markdown",
   "id": "asian-mortality",
   "metadata": {},
   "source": [
    "To save the animation generated above as a video file (you need to have [FFmpeg](http://www.ffmpeg.org/) or [ImageMagick](http://www.imagemagick.org/script/index.php) installed):"
   ]
  },
  {
   "cell_type": "code",
   "execution_count": 18,
   "id": "cordless-elite",
   "metadata": {},
   "outputs": [],
   "source": [
    "anim.save('walking.mp4', writer='ffmpeg', fps=50)\n",
    "# or\n",
    "anim.save('walking.gif', writer='imagemagick', fps=50)"
   ]
  },
  {
   "cell_type": "markdown",
   "id": "above-roads",
   "metadata": {},
   "source": [
    "You can also write to a C3D file using BTK; [look at its webpage](http://b-tk.googlecode.com/svn/doc/Python/0.2/_getting_started.html)."
   ]
  }
 ],
 "metadata": {
  "kernelspec": {
   "display_name": "Python 3",
   "language": "python",
   "name": "python3"
  },
  "language_info": {
   "codemirror_mode": {
    "name": "ipython",
    "version": 3
   },
   "file_extension": ".py",
   "mimetype": "text/x-python",
   "name": "python",
   "nbconvert_exporter": "python",
   "pygments_lexer": "ipython3",
   "version": "3.8.8"
  },
  "nbTranslate": {
   "displayLangs": [
    "*"
   ],
   "hotkey": "alt-t",
   "langInMainMenu": true,
   "sourceLang": "en",
   "targetLang": "fr",
   "useGoogleTranslate": true
  },
  "toc": {
   "base_numbering": 1,
   "nav_menu": {},
   "number_sections": true,
   "sideBar": true,
   "skip_h1_title": false,
   "title_cell": "Table of Contents",
   "title_sidebar": "Contents",
   "toc_cell": false,
   "toc_position": {},
   "toc_section_display": true,
   "toc_window_display": false
  },
  "varInspector": {
   "cols": {
    "lenName": 16,
    "lenType": 16,
    "lenVar": 40
   },
   "kernels_config": {
    "python": {
     "delete_cmd_postfix": "",
     "delete_cmd_prefix": "del ",
     "library": "var_list.py",
     "varRefreshCmd": "print(var_dic_list())"
    },
    "r": {
     "delete_cmd_postfix": ") ",
     "delete_cmd_prefix": "rm(",
     "library": "var_list.r",
     "varRefreshCmd": "cat(var_dic_list()) "
    }
   },
   "types_to_exclude": [
    "module",
    "function",
    "builtin_function_or_method",
    "instance",
    "_Feature"
   ],
   "window_display": false
  }
 },
 "nbformat": 4,
 "nbformat_minor": 1
}
