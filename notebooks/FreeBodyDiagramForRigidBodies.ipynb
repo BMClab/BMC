{
 "cells": [
  {
   "cell_type": "markdown",
   "metadata": {
    "slideshow": {
     "slide_type": "slide"
    }
   },
   "source": [
    "# Free Body Diagram for Rigid Bodies\n",
    "\n",
    "> Renato Naville Watanabe  \n",
    "> [Laboratory of Biomechanics and Motor Control](http://pesquisa.ufabc.edu.br/bmclab)  \n",
    "> Federal University of ABC, Brazil"
   ]
  },
  {
   "cell_type": "markdown",
   "metadata": {
    "toc": 1
   },
   "source": [
    "<h1>Table of Contents<span class=\"tocSkip\"></span></h1>\n",
    "<div class=\"toc\"><ul class=\"toc-item\"><li><span><a href=\"#Equivalent-systems\" data-toc-modified-id=\"Equivalent-systems-1\"><span class=\"toc-item-num\">1&nbsp;&nbsp;</span>Equivalent systems</a></span></li><li><span><a href=\"#Steps-to-draw-a-free-body-diagram\" data-toc-modified-id=\"Steps-to-draw-a-free-body-diagram-2\"><span class=\"toc-item-num\">2&nbsp;&nbsp;</span>Steps to draw a free-body diagram</a></span></li><li><span><a href=\"#Examples\" data-toc-modified-id=\"Examples-3\"><span class=\"toc-item-num\">3&nbsp;&nbsp;</span>Examples</a></span><ul class=\"toc-item\"><li><span><a href=\"#Horizontal-fixed-bar\" data-toc-modified-id=\"Horizontal-fixed-bar-3.1\"><span class=\"toc-item-num\">3.1&nbsp;&nbsp;</span>Horizontal fixed bar</a></span><ul class=\"toc-item\"><li><span><a href=\"#Free-body-diagram\" data-toc-modified-id=\"Free-body-diagram-3.1.1\"><span class=\"toc-item-num\">3.1.1&nbsp;&nbsp;</span>Free-body diagram</a></span></li><li><span><a href=\"#Sum-of-the-forces-and-moments\" data-toc-modified-id=\"Sum-of-the-forces-and-moments-3.1.2\"><span class=\"toc-item-num\">3.1.2&nbsp;&nbsp;</span>Sum of the forces and moments</a></span></li><li><span><a href=\"#Newton-Euler-laws\" data-toc-modified-id=\"Newton-Euler-laws-3.1.3\"><span class=\"toc-item-num\">3.1.3&nbsp;&nbsp;</span>Newton-Euler laws</a></span></li></ul></li><li><span><a href=\"#Rotating-ball-with-drag-force\" data-toc-modified-id=\"Rotating-ball-with-drag-force-3.2\"><span class=\"toc-item-num\">3.2&nbsp;&nbsp;</span>Rotating ball with drag force</a></span><ul class=\"toc-item\"><li><span><a href=\"#Free-body-diagram\" data-toc-modified-id=\"Free-body-diagram-3.2.1\"><span class=\"toc-item-num\">3.2.1&nbsp;&nbsp;</span>Free-body diagram</a></span></li><li><span><a href=\"#Sum-of-forces-and-moments\" data-toc-modified-id=\"Sum-of-forces-and-moments-3.2.2\"><span class=\"toc-item-num\">3.2.2&nbsp;&nbsp;</span>Sum of forces and moments</a></span></li><li><span><a href=\"#Newton-Euler-laws\" data-toc-modified-id=\"Newton-Euler-laws-3.2.3\"><span class=\"toc-item-num\">3.2.3&nbsp;&nbsp;</span>Newton-Euler laws</a></span></li><li><span><a href=\"#Equations-of-motion\" data-toc-modified-id=\"Equations-of-motion-3.2.4\"><span class=\"toc-item-num\">3.2.4&nbsp;&nbsp;</span>Equations of motion</a></span></li><li><span><a href=\"#Numerical-solution-of-the-equations\" data-toc-modified-id=\"Numerical-solution-of-the-equations-3.2.5\"><span class=\"toc-item-num\">3.2.5&nbsp;&nbsp;</span>Numerical solution of the equations</a></span></li></ul></li><li><span><a href=\"#Pendulum\" data-toc-modified-id=\"Pendulum-3.3\"><span class=\"toc-item-num\">3.3&nbsp;&nbsp;</span>Pendulum</a></span><ul class=\"toc-item\"><li><span><a href=\"#Free-body-diagram\" data-toc-modified-id=\"Free-body-diagram-3.3.1\"><span class=\"toc-item-num\">3.3.1&nbsp;&nbsp;</span>Free-body diagram</a></span></li><li><span><a href=\"#Sum-of-the-forces-and-moments\" data-toc-modified-id=\"Sum-of-the-forces-and-moments-3.3.2\"><span class=\"toc-item-num\">3.3.2&nbsp;&nbsp;</span>Sum of the forces and moments</a></span></li><li><span><a href=\"#Second-Newton-Euler-law\" data-toc-modified-id=\"Second-Newton-Euler-law-3.3.3\"><span class=\"toc-item-num\">3.3.3&nbsp;&nbsp;</span>Second Newton-Euler law</a></span></li><li><span><a href=\"#Kinematics\" data-toc-modified-id=\"Kinematics-3.3.4\"><span class=\"toc-item-num\">3.3.4&nbsp;&nbsp;</span>Kinematics</a></span></li><li><span><a href=\"#Sum-of-the-moments\" data-toc-modified-id=\"Sum-of-the-moments-3.3.5\"><span class=\"toc-item-num\">3.3.5&nbsp;&nbsp;</span>Sum of the moments</a></span></li><li><span><a href=\"#Derivative-of-the-angular-momentum\" data-toc-modified-id=\"Derivative-of-the-angular-momentum-3.3.6\"><span class=\"toc-item-num\">3.3.6&nbsp;&nbsp;</span>Derivative of the angular momentum</a></span></li><li><span><a href=\"#The-equation-of-motion\" data-toc-modified-id=\"The-equation-of-motion-3.3.7\"><span class=\"toc-item-num\">3.3.7&nbsp;&nbsp;</span>The equation of motion</a></span></li></ul></li><li><span><a href=\"#Inverted-Pendulum\" data-toc-modified-id=\"Inverted-Pendulum-3.4\"><span class=\"toc-item-num\">3.4&nbsp;&nbsp;</span>Inverted Pendulum</a></span><ul class=\"toc-item\"><li><span><a href=\"#Free-body-diagram\" data-toc-modified-id=\"Free-body-diagram-3.4.1\"><span class=\"toc-item-num\">3.4.1&nbsp;&nbsp;</span>Free-body diagram</a></span></li><li><span><a href=\"#Sum-of-the-forces-and-moments\" data-toc-modified-id=\"Sum-of-the-forces-and-moments-3.4.2\"><span class=\"toc-item-num\">3.4.2&nbsp;&nbsp;</span>Sum of the forces and moments</a></span></li><li><span><a href=\"#Second-Newton-Euler-law\" data-toc-modified-id=\"Second-Newton-Euler-law-3.4.3\"><span class=\"toc-item-num\">3.4.3&nbsp;&nbsp;</span>Second Newton-Euler law</a></span></li><li><span><a href=\"#Kinematics\" data-toc-modified-id=\"Kinematics-3.4.4\"><span class=\"toc-item-num\">3.4.4&nbsp;&nbsp;</span>Kinematics</a></span></li><li><span><a href=\"#Sum-of-the-moments\" data-toc-modified-id=\"Sum-of-the-moments-3.4.5\"><span class=\"toc-item-num\">3.4.5&nbsp;&nbsp;</span>Sum of the moments</a></span></li><li><span><a href=\"#Derivative-of-the-angular-momentum\" data-toc-modified-id=\"Derivative-of-the-angular-momentum-3.4.6\"><span class=\"toc-item-num\">3.4.6&nbsp;&nbsp;</span>Derivative of the angular momentum</a></span></li><li><span><a href=\"#The-equation-of-motion\" data-toc-modified-id=\"The-equation-of-motion-3.4.7\"><span class=\"toc-item-num\">3.4.7&nbsp;&nbsp;</span>The equation of motion</a></span></li></ul></li><li><span><a href=\"#Human-quiet-standing\" data-toc-modified-id=\"Human-quiet-standing-3.5\"><span class=\"toc-item-num\">3.5&nbsp;&nbsp;</span>Human quiet standing</a></span><ul class=\"toc-item\"><li><span><a href=\"#Free-body-diagram\" data-toc-modified-id=\"Free-body-diagram-3.5.1\"><span class=\"toc-item-num\">3.5.1&nbsp;&nbsp;</span>Free-body diagram</a></span></li><li><span><a href=\"#Sum-of-the-moments\" data-toc-modified-id=\"Sum-of-the-moments-3.5.2\"><span class=\"toc-item-num\">3.5.2&nbsp;&nbsp;</span>Sum of the moments</a></span></li><li><span><a href=\"#Second-Newton-Euler-law\" data-toc-modified-id=\"Second-Newton-Euler-law-3.5.3\"><span class=\"toc-item-num\">3.5.3&nbsp;&nbsp;</span>Second Newton-Euler law</a></span></li><li><span><a href=\"#Kinematics\" data-toc-modified-id=\"Kinematics-3.5.4\"><span class=\"toc-item-num\">3.5.4&nbsp;&nbsp;</span>Kinematics</a></span></li><li><span><a href=\"#Sum-of-the-moments\" data-toc-modified-id=\"Sum-of-the-moments-3.5.5\"><span class=\"toc-item-num\">3.5.5&nbsp;&nbsp;</span>Sum of the moments</a></span></li></ul></li><li><span><a href=\"#Derivative-of-the-angular-momentum\" data-toc-modified-id=\"Derivative-of-the-angular-momentum-3.6\"><span class=\"toc-item-num\">3.6&nbsp;&nbsp;</span>Derivative of the angular momentum</a></span><ul class=\"toc-item\"><li><span><a href=\"#The-equation-of-motion\" data-toc-modified-id=\"The-equation-of-motion-3.6.1\"><span class=\"toc-item-num\">3.6.1&nbsp;&nbsp;</span>The equation of motion</a></span></li></ul></li><li><span><a href=\"#Force-platform-(position-of-the-center-of-pressure)\" data-toc-modified-id=\"Force-platform-(position-of-the-center-of-pressure)-3.7\"><span class=\"toc-item-num\">3.7&nbsp;&nbsp;</span>Force platform (position of the center of pressure)</a></span><ul class=\"toc-item\"><li><span><a href=\"#Free-body-diagram\" data-toc-modified-id=\"Free-body-diagram-3.7.1\"><span class=\"toc-item-num\">3.7.1&nbsp;&nbsp;</span>Free-body diagram</a></span></li></ul></li><li><span><a href=\"#Standing-dummy-(from-Ruina-and-Pratap-book)\" data-toc-modified-id=\"Standing-dummy-(from-Ruina-and-Pratap-book)-3.8\"><span class=\"toc-item-num\">3.8&nbsp;&nbsp;</span>Standing dummy (from Ruina and Pratap book)</a></span><ul class=\"toc-item\"><li><span><a href=\"#Free-body-diagram\" data-toc-modified-id=\"Free-body-diagram-3.8.1\"><span class=\"toc-item-num\">3.8.1&nbsp;&nbsp;</span>Free-body diagram</a></span></li><li><span><a href=\"#Kinematics\" data-toc-modified-id=\"Kinematics-3.8.2\"><span class=\"toc-item-num\">3.8.2&nbsp;&nbsp;</span>Kinematics</a></span></li><li><span><a href=\"#Sum-of-the-moments\" data-toc-modified-id=\"Sum-of-the-moments-3.8.3\"><span class=\"toc-item-num\">3.8.3&nbsp;&nbsp;</span>Sum of the moments</a></span></li><li><span><a href=\"#Derivative-of-the-angular-momentum\" data-toc-modified-id=\"Derivative-of-the-angular-momentum-3.8.4\"><span class=\"toc-item-num\">3.8.4&nbsp;&nbsp;</span>Derivative of the angular momentum</a></span></li><li><span><a href=\"#The-equation-of-motion\" data-toc-modified-id=\"The-equation-of-motion-3.8.5\"><span class=\"toc-item-num\">3.8.5&nbsp;&nbsp;</span>The equation of motion</a></span></li></ul></li><li><span><a href=\"#Double-pendulum-with-actuators\" data-toc-modified-id=\"Double-pendulum-with-actuators-3.9\"><span class=\"toc-item-num\">3.9&nbsp;&nbsp;</span>Double pendulum with actuators</a></span><ul class=\"toc-item\"><li><span><a href=\"#Free-body-diagram\" data-toc-modified-id=\"Free-body-diagram-3.9.1\"><span class=\"toc-item-num\">3.9.1&nbsp;&nbsp;</span>Free-body diagram</a></span></li><li><span><a href=\"#Definition-of-versors\" data-toc-modified-id=\"Definition-of-versors-3.9.2\"><span class=\"toc-item-num\">3.9.2&nbsp;&nbsp;</span>Definition of versors</a></span></li><li><span><a href=\"#Kinematics\" data-toc-modified-id=\"Kinematics-3.9.3\"><span class=\"toc-item-num\">3.9.3&nbsp;&nbsp;</span>Kinematics</a></span></li><li><span><a href=\"#Sum-of-the-moments-of-the-lower-bar-around-O2\" data-toc-modified-id=\"Sum-of-the-moments-of-the-lower-bar-around-O2-3.9.4\"><span class=\"toc-item-num\">3.9.4&nbsp;&nbsp;</span>Sum of the moments of the lower bar around O2</a></span></li><li><span><a href=\"#Derivative-of-angular-momentum-of-the-lower-bar-around-O2\" data-toc-modified-id=\"Derivative-of-angular-momentum-of-the-lower-bar-around-O2-3.9.5\"><span class=\"toc-item-num\">3.9.5&nbsp;&nbsp;</span>Derivative of angular momentum of the lower bar around O2</a></span></li><li><span><a href=\"#Sum-of-moments-of-the-upper-bar-around-O1\" data-toc-modified-id=\"Sum-of-moments-of-the-upper-bar-around-O1-3.9.6\"><span class=\"toc-item-num\">3.9.6&nbsp;&nbsp;</span>Sum of moments of the upper bar around O1</a></span></li><li><span><a href=\"#Derivative-of-angular-momentum-of-the-upper-bar-around-O1\" data-toc-modified-id=\"Derivative-of-angular-momentum-of-the-upper-bar-around-O1-3.9.7\"><span class=\"toc-item-num\">3.9.7&nbsp;&nbsp;</span>Derivative of angular momentum of the upper bar around O1</a></span></li><li><span><a href=\"#The-equations-of-motion\" data-toc-modified-id=\"The-equations-of-motion-3.9.8\"><span class=\"toc-item-num\">3.9.8&nbsp;&nbsp;</span>The equations of motion</a></span></li></ul></li></ul></li><li><span><a href=\"#Problems\" data-toc-modified-id=\"Problems-4\"><span class=\"toc-item-num\">4&nbsp;&nbsp;</span>Problems</a></span></li><li><span><a href=\"#References\" data-toc-modified-id=\"References-5\"><span class=\"toc-item-num\">5&nbsp;&nbsp;</span>References</a></span></li></ul></div>"
   ]
  },
  {
   "cell_type": "code",
   "execution_count": 1,
   "metadata": {
    "ExecuteTime": {
     "end_time": "2020-05-08T03:39:04.259704Z",
     "start_time": "2020-05-08T03:39:04.130050Z"
    },
    "slideshow": {
     "slide_type": "skip"
    }
   },
   "outputs": [],
   "source": [
    "import numpy as np\n",
    "import matplotlib.pyplot as plt\n",
    "%matplotlib notebook"
   ]
  },
  {
   "cell_type": "markdown",
   "metadata": {
    "slideshow": {
     "slide_type": "slide"
    }
   },
   "source": [
    "## Equivalent systems\n",
    "\n",
    "\n",
    "A set of forces and moments is considered equivalent if its resultant force and sum of the moments computed relative to a given point are the same. Normally, we want to reduce all the forces and moments being applied to a body into a single force and a single moment.\n",
    "\n",
    "We have done this with particles for the resultant force. The resultant force is simply the sum of all the forces being applied to the body.\n",
    "\n",
    "<span class=\"notranslate\">\n",
    "\\begin{equation}\n",
    "    \\vec{F} = \\sum\\limits_{i=1}^n \\vec{F_i}\n",
    "\\end{equation}\n",
    "</span>\n",
    "\n",
    "where <span class=\"notranslate\">$\\vec{F_i}$</span> is each force applied to the body.\n",
    "\n",
    "Similarly, the total moment applied to the body relative to a point O is:\n",
    "\n",
    "<span class=\"notranslate\">\n",
    "\\begin{equation}\n",
    "    \\vec{M_O} = \\sum\\limits_{i}\\vec{r_{i/O}} \\times \\vec{F_i}\n",
    "\\end{equation}\n",
    "</span>\n",
    "\n",
    "where <span class=\"notranslate\">$\\vec{r_{i/O}}$</span> is the vector from the point O to the point where the force <span class=\"notranslate\">$\\vec{\\bf{F_i}}$</span> is being applied.\n",
    "\n",
    "But where the resultant force should be applied in the body? If the resultant force were applied to any point different from the point O, it would produce an additional  moment to the body relative to point O. So, the resultant force must be applied to the point O.\n",
    "\n",
    "So, any set of forces can be reduced to a moment relative to a chosen point O and a resultant force applied to the point O.  \n",
    "\n",
    "To compute the resultant force and moment relative to another point O', the new moment is:\n",
    "\n",
    "<span class=\"notranslate\">\n",
    "\\begin{equation}\n",
    "    \\vec{M_{O'}} = \\vec{M_O} + \\vec{r_{O'/O}} \\times \\vec{F}\n",
    "\\end{equation}\n",
    "</span>\n",
    "\n",
    "And the resultant force is the same.\n",
    "\n",
    "It is worth to note that if the resultant force  <span class=\"notranslate\">$\\vec{F}$</span> is zero, than the moment is the same relative to any point.\n",
    "\n",
    "<figure><img src=\"./../images/equivalentSystem.png\" width=800/></figure>"
   ]
  },
  {
   "cell_type": "markdown",
   "metadata": {
    "slideshow": {
     "slide_type": "slide"
    }
   },
   "source": [
    "## Steps to draw a free-body diagram\n",
    "\n",
    "The steps to draw the free-body diagram of a body is very similar to the case of particles.\n",
    "\n",
    "1 - Draw separately each object considered in the problem. How you separate depends on what questions you want to answer."
   ]
  },
  {
   "cell_type": "markdown",
   "metadata": {
    "slideshow": {
     "slide_type": "slide"
    }
   },
   "source": [
    "2 - Identify the forces acting on each object. If you are analyzing more than one object, remember the third Newton law (action and reaction), and identify where the reaction of a force is being applied. Whenever a movement of translation of the body is constrained, a force at the direction of the constraint must exist."
   ]
  },
  {
   "cell_type": "markdown",
   "metadata": {
    "slideshow": {
     "slide_type": "slide"
    }
   },
   "source": [
    "3 - Identify the moments acting on each object. In the case you are analyzing more than one object, you must consider the  action and reaction law (third Newton-Euler law). Whenever a movement of rotation of the body is constrained, a moment at the direction of the constraint must exist."
   ]
  },
  {
   "cell_type": "markdown",
   "metadata": {
    "slideshow": {
     "slide_type": "slide"
    }
   },
   "source": [
    "4 - Draw all the identified forces, representing them as vectors. The vectors should be represented with the origin in the object. "
   ]
  },
  {
   "cell_type": "markdown",
   "metadata": {
    "slideshow": {
     "slide_type": "slide"
    }
   },
   "source": [
    "5 - Draw all the identified moments, representing them as vectors. In planar movements, the moments we be orthogonal to the considered plane. In these cases, normally the moment vectors are represented as curved arrows."
   ]
  },
  {
   "cell_type": "markdown",
   "metadata": {
    "slideshow": {
     "slide_type": "slide"
    }
   },
   "source": [
    "6 - If necessary, you should represent the reference frame (or references frames in case you use more than one reference frame) in the free-body diagram."
   ]
  },
  {
   "cell_type": "markdown",
   "metadata": {
    "slideshow": {
     "slide_type": "slide"
    }
   },
   "source": [
    "7 - After this, you can solve the problem using the First and Second Newton-Euler Laws (see, e.g, [Newton-Euler Laws](newton_euler_equations.ipynb)) to find the motion of the body.\n",
    "\n",
    "<span class=\"notranslate\">\n",
    "\\begin{equation}\n",
    "    \\vec{F} = m\\vec{a_{cm}} = m\\frac{d^2\\vec{r_{cm}}}{dt^2}\n",
    "\\end{equation}\n",
    "</span>\n",
    "\n",
    "<span class=\"notranslate\">\n",
    "\\begin{equation}\n",
    "    \\vec{M_O} = I_{zz}^{cm}\\vec{\\alpha} + m \\vec{r_{cm/O}} \\times \\vec{a_{cm}}=I_{zz}^{cm}\\vec{\\frac{d^2\\theta}{dt^2}} + m \\vec{r_{cm/O}} \\times \\frac{d^2\\vec{r_{cm}}}{dt^2}\n",
    "\\end{equation}\n",
    "</span>"
   ]
  },
  {
   "cell_type": "markdown",
   "metadata": {
    "slideshow": {
     "slide_type": "slide"
    }
   },
   "source": [
    "## Examples\n",
    "\n",
    "Below, we will see some examples of how to draw the free-body diagram and obtain the equation of motion."
   ]
  },
  {
   "cell_type": "markdown",
   "metadata": {
    "slideshow": {
     "slide_type": "slide"
    }
   },
   "source": [
    "### Horizontal fixed bar \n",
    "\n",
    "The first example is an example of statics. The bar has **no velocity** and **no acceleration**. We can find the **force** and **moment** the wall is applying to the bar.\n",
    "\n",
    "<figure><img src=\"../images/bar1.png\" width=150 /></figure>"
   ]
  },
  {
   "cell_type": "markdown",
   "metadata": {
    "slideshow": {
     "slide_type": "slide"
    }
   },
   "source": [
    "#### Free-body diagram\n",
    "\n",
    "The free-body diagram of the bar is depicted below. At the point where the bar is connected to the wall, there is a force $\\vec{F_1}$ constraining the translation movement of the point O and a moment $\\vec{M}$ constraining the rotation of the bar.\n",
    "\n",
    "<figure><img src=\"../images/bar1FBD.png\" width=250 /></figure>"
   ]
  },
  {
   "cell_type": "markdown",
   "metadata": {
    "slideshow": {
     "slide_type": "slide"
    }
   },
   "source": [
    "#### Sum of the forces and moments\n",
    "\n",
    "The resultant force being applied to the bar is:\n",
    "\n",
    "<span class=\"notranslate\">\n",
    "\\begin{equation}\n",
    "\\vec{F} = -mg\\hat{\\bf{j}} + \\vec{F_1}\n",
    "\\end{equation}\n",
    "</span>\n",
    "\n",
    "And the total moment in the z direction around the point O is:\n",
    "\n",
    "<span class=\"notranslate\">\n",
    "\\begin{equation}\n",
    "\\vec{M_O} = \\vec{r_{C/O}}\\times-mg\\hat{\\bf{j}} + \\vec{M}\n",
    "\\end{equation}\n",
    "</span>\n",
    "\n",
    "The vector from the point O to the point C is given by <span class=\"notranslate\">$\\vec{r_{C/O}} =\\frac{l}{2}\\hat{\\bf{i}}$</span>. "
   ]
  },
  {
   "cell_type": "markdown",
   "metadata": {
    "slideshow": {
     "slide_type": "slide"
    }
   },
   "source": [
    "#### Newton-Euler laws\n",
    "As the bar is fixed, all the accelerations are zero. So we can find the forces and the moment at the constraint.\n",
    "\n",
    "<span class=\"notranslate\">\n",
    "\\begin{equation}\n",
    "\\vec{F} = \\vec{0}\n",
    "\\end{equation}\n",
    "</span>\n",
    "\n",
    "<span class=\"notranslate\">\n",
    "\\begin{equation}\n",
    "-mg\\hat{\\bf{j}} + \\vec{F_1} = \\vec{0}\n",
    "\\end{equation}\n",
    "</span>\n",
    "\n",
    "<span class=\"notranslate\">\n",
    "\\begin{equation}\n",
    "\\vec{F_1} = mg\\hat{\\bf{j}}\n",
    "\\end{equation}\n",
    "</span>\n",
    "\n",
    "<span class=\"notranslate\">\n",
    "\\begin{equation}\n",
    "\\vec{M_O} = \\vec{0}\n",
    "\\end{equation}\n",
    "</span>\n",
    "\n",
    "<span class=\"notranslate\">\n",
    "\\begin{equation}\n",
    "\\vec{r_{C/O}}\\times-mg\\hat{\\bf{j}} + \\vec{M} = \\vec{0} \n",
    "\\end{equation}\n",
    "</span>\n",
    "\n",
    "<span class=\"notranslate\">\n",
    "\\begin{equation}\n",
    "\\frac{l}{2}\\hat{\\bf{i}}\\times-mg\\hat{\\bf{j}} + \\vec{M} = \\vec{0}\n",
    "\\end{equation}\n",
    "</span>\n",
    "\n",
    "<span class=\"notranslate\">\n",
    "\\begin{equation}\n",
    "-\\frac{mgl}{2}\\hat{\\bf{k}} + \\vec{M} = \\vec{0} \n",
    "\\end{equation}\n",
    "</span>\n",
    "\n",
    "<span class=\"notranslate\">\n",
    "\\begin{equation}\n",
    "\\vec{M} = \\frac{mgl}{2}\\hat{\\bf{k}} \n",
    "\\end{equation}\n",
    "</span>"
   ]
  },
  {
   "cell_type": "markdown",
   "metadata": {
    "slideshow": {
     "slide_type": "slide"
    }
   },
   "source": [
    "### Rotating ball with drag force  \n",
    "\n",
    "\n",
    "A **basketball** has a mass **$\\bf{m = 0.63}$ kg** and radius equal $\\bf{R = 12}$ **cm**. A basketball player shots the ball from the free-throw line (**4.6 m from the basket**) with a **speed of 9.5 m/s**, **angle of 51 degrees with the court**, **height of 2 m** and **angular velocity of 42 rad/s**. At the ball is acting a **drag force** $\\bf{b_l = 0.5}$ **N.s/m** proportional to the modulus of the ball velocity in the opposite direction of the velocity and a **drag moment** $\\bf{b_r = 0.001}$ **N.m.s**, proportional and in the opposite direction of the angular velocity of the ball. Consider the moment of inertia of the ball as $\\bf{I_{zz}^{cm} = \\frac{2mR^2}{3}}$."
   ]
  },
  {
   "cell_type": "markdown",
   "metadata": {
    "slideshow": {
     "slide_type": "slide"
    }
   },
   "source": [
    "#### Free-body diagram\n",
    "\n",
    "Below is depicted the free-body diagram of the ball.\n",
    "\n",
    "<figure><img src=\"../images/ballRotDrag.png\" width=250 /></figure>"
   ]
  },
  {
   "cell_type": "markdown",
   "metadata": {
    "slideshow": {
     "slide_type": "slide"
    }
   },
   "source": [
    "#### Sum of forces and moments\n",
    "\n",
    "The resultant force being applied at the ball is:\n",
    "\n",
    "<span class=\"notranslate\">\n",
    "\\begin{equation}\n",
    "\\vec{F} = -mg\\hat{\\bf{j}} - b_l\\vec{v} + b_m\\omega\\hat{\\bf{k}}\\times \\vec{v} = -mg\\hat{\\bf{j}} - b_l\\frac{d\\vec{r}}{dt} \n",
    "\\end{equation}\n",
    "</span>\n",
    "\n",
    "<span class=\"notranslate\">\n",
    "\\begin{equation}\n",
    "    \\vec{M_C} = - b_r\\omega\\hat{\\bf{k}}=- b_r\\frac{d\\theta}{dt}\\hat{\\bf{k}}\n",
    "\\end{equation}\n",
    "</span>"
   ]
  },
  {
   "cell_type": "markdown",
   "metadata": {
    "slideshow": {
     "slide_type": "slide"
    }
   },
   "source": [
    "#### Newton-Euler laws\n",
    "\n",
    "So, by the second Newton-Euler law:\n",
    "\n",
    "<span class=\"notranslate\">\n",
    "\\begin{equation}\n",
    "    I_{zz}^{C}\\frac{d^2\\theta}{dt^2}=\\vec{M_C}\n",
    "\\end{equation}\n",
    "</span>\n",
    "\n",
    "<span class=\"notranslate\">    \n",
    "\\begin{equation}\n",
    "    I_{zz}^{C}\\frac{d^2\\theta}{dt^2} = - b_r\\frac{d\\theta}{dt}\n",
    "\\end{equation}\n",
    "</span>\n",
    "\n",
    "and by the first Newton-Euler law (for a revision on Newton-Euler laws, [see this notebook](newton_euler_equations.ipynb)):\n",
    "\n",
    "<span class=\"notranslate\">\n",
    "\\begin{equation}\n",
    "    m\\frac{d^2\\vec{r}}{dt^2}=\\vec{F} \\rightarrow \\frac{d^2\\vec{r}}{dt^2} = -g\\hat{\\bf{j}} - \\frac{b_l}{m}\\frac{d^2\\vec{r}}{dt^2} \n",
    "\\end{equation}\n",
    "</span>"
   ]
  },
  {
   "cell_type": "markdown",
   "metadata": {
    "slideshow": {
     "slide_type": "slide"
    }
   },
   "source": [
    "#### Equations of motion\n",
    "\n",
    "So, we can split the differential equations above in three equations:\n",
    "\n",
    "<span class=\"notranslate\">\n",
    "\\begin{equation}\n",
    "    \\frac{d^2\\theta}{dt^2} = - \\frac{b_r}{I_{zz}^{C}}\\frac{d\\theta}{dt}\n",
    "\\end{equation}\n",
    "</span>\n",
    "\n",
    "<span class=\"notranslate\">\n",
    "\\begin{equation}\n",
    "    \\frac{d^2x}{dt^2} = - \\frac{b_l}{m}\\frac{dx}{dt} \n",
    "\\end{equation}\n",
    "</span>\n",
    "\n",
    "<span class=\"notranslate\">\n",
    "\\begin{equation}\n",
    "    \\frac{d^2y}{dt^2} = -g - \\frac{b_l}{m}\\frac{dy}{dt} \n",
    "\\end{equation}\n",
    "</span>"
   ]
  },
  {
   "cell_type": "markdown",
   "metadata": {
    "slideshow": {
     "slide_type": "slide"
    }
   },
   "source": [
    "#### Numerical solution of the equations\n",
    "\n",
    "To solve these equations numerically, we can split each of these equations in first-order equations and the use a numerical method to integrate them. The first-order equations we be written in a matrix form, considering the moment of inertia of the ball as <span class=\"notranslate\"> $I_{zz}^{C}=\\frac{2mR^2}{3}$:\n",
    "\n",
    "\\begin{equation}\n",
    "    \\left[\\begin{array}{c}\\frac{d\\omega}{dt}\\\\\\frac{dv_x}{dt}\\\\\\frac{dv_y}{dt}\\\\\\frac{d\\theta}{dt}\\\\\\frac{dx}{dt}\\\\\\frac{dy}{dt} \\end{array}\\right] = \\left[\\begin{array}{c}- \\frac{3b_r}{2mR^2}\\omega\\\\- \\frac{b_l}{m}v_x\\\\-g - \\frac{b_l}{m}v_y\\\\\\omega\\\\v_x\\\\v_y\\end{array}\\right] \n",
    "\\end{equation}\n",
    "</span>\n",
    "\n",
    "Below, the equations were solved numerically by using the Euler method (for a revision on numerical methods to solve ordinary differential equations, [see this notebook](OrdinaryDifferentialEquation.ipynb))."
   ]
  },
  {
   "cell_type": "code",
   "execution_count": 2,
   "metadata": {
    "ExecuteTime": {
     "end_time": "2020-05-08T03:39:07.463212Z",
     "start_time": "2020-05-08T03:39:07.408148Z"
    },
    "slideshow": {
     "slide_type": "slide"
    }
   },
   "outputs": [
    {
     "data": {
      "application/javascript": [
       "/* Put everything inside the global mpl namespace */\n",
       "window.mpl = {};\n",
       "\n",
       "\n",
       "mpl.get_websocket_type = function() {\n",
       "    if (typeof(WebSocket) !== 'undefined') {\n",
       "        return WebSocket;\n",
       "    } else if (typeof(MozWebSocket) !== 'undefined') {\n",
       "        return MozWebSocket;\n",
       "    } else {\n",
       "        alert('Your browser does not have WebSocket support. ' +\n",
       "              'Please try Chrome, Safari or Firefox ≥ 6. ' +\n",
       "              'Firefox 4 and 5 are also supported but you ' +\n",
       "              'have to enable WebSockets in about:config.');\n",
       "    };\n",
       "}\n",
       "\n",
       "mpl.figure = function(figure_id, websocket, ondownload, parent_element) {\n",
       "    this.id = figure_id;\n",
       "\n",
       "    this.ws = websocket;\n",
       "\n",
       "    this.supports_binary = (this.ws.binaryType != undefined);\n",
       "\n",
       "    if (!this.supports_binary) {\n",
       "        var warnings = document.getElementById(\"mpl-warnings\");\n",
       "        if (warnings) {\n",
       "            warnings.style.display = 'block';\n",
       "            warnings.textContent = (\n",
       "                \"This browser does not support binary websocket messages. \" +\n",
       "                    \"Performance may be slow.\");\n",
       "        }\n",
       "    }\n",
       "\n",
       "    this.imageObj = new Image();\n",
       "\n",
       "    this.context = undefined;\n",
       "    this.message = undefined;\n",
       "    this.canvas = undefined;\n",
       "    this.rubberband_canvas = undefined;\n",
       "    this.rubberband_context = undefined;\n",
       "    this.format_dropdown = undefined;\n",
       "\n",
       "    this.image_mode = 'full';\n",
       "\n",
       "    this.root = $('<div/>');\n",
       "    this._root_extra_style(this.root)\n",
       "    this.root.attr('style', 'display: inline-block');\n",
       "\n",
       "    $(parent_element).append(this.root);\n",
       "\n",
       "    this._init_header(this);\n",
       "    this._init_canvas(this);\n",
       "    this._init_toolbar(this);\n",
       "\n",
       "    var fig = this;\n",
       "\n",
       "    this.waiting = false;\n",
       "\n",
       "    this.ws.onopen =  function () {\n",
       "            fig.send_message(\"supports_binary\", {value: fig.supports_binary});\n",
       "            fig.send_message(\"send_image_mode\", {});\n",
       "            if (mpl.ratio != 1) {\n",
       "                fig.send_message(\"set_dpi_ratio\", {'dpi_ratio': mpl.ratio});\n",
       "            }\n",
       "            fig.send_message(\"refresh\", {});\n",
       "        }\n",
       "\n",
       "    this.imageObj.onload = function() {\n",
       "            if (fig.image_mode == 'full') {\n",
       "                // Full images could contain transparency (where diff images\n",
       "                // almost always do), so we need to clear the canvas so that\n",
       "                // there is no ghosting.\n",
       "                fig.context.clearRect(0, 0, fig.canvas.width, fig.canvas.height);\n",
       "            }\n",
       "            fig.context.drawImage(fig.imageObj, 0, 0);\n",
       "        };\n",
       "\n",
       "    this.imageObj.onunload = function() {\n",
       "        fig.ws.close();\n",
       "    }\n",
       "\n",
       "    this.ws.onmessage = this._make_on_message_function(this);\n",
       "\n",
       "    this.ondownload = ondownload;\n",
       "}\n",
       "\n",
       "mpl.figure.prototype._init_header = function() {\n",
       "    var titlebar = $(\n",
       "        '<div class=\"ui-dialog-titlebar ui-widget-header ui-corner-all ' +\n",
       "        'ui-helper-clearfix\"/>');\n",
       "    var titletext = $(\n",
       "        '<div class=\"ui-dialog-title\" style=\"width: 100%; ' +\n",
       "        'text-align: center; padding: 3px;\"/>');\n",
       "    titlebar.append(titletext)\n",
       "    this.root.append(titlebar);\n",
       "    this.header = titletext[0];\n",
       "}\n",
       "\n",
       "\n",
       "\n",
       "mpl.figure.prototype._canvas_extra_style = function(canvas_div) {\n",
       "\n",
       "}\n",
       "\n",
       "\n",
       "mpl.figure.prototype._root_extra_style = function(canvas_div) {\n",
       "\n",
       "}\n",
       "\n",
       "mpl.figure.prototype._init_canvas = function() {\n",
       "    var fig = this;\n",
       "\n",
       "    var canvas_div = $('<div/>');\n",
       "\n",
       "    canvas_div.attr('style', 'position: relative; clear: both; outline: 0');\n",
       "\n",
       "    function canvas_keyboard_event(event) {\n",
       "        return fig.key_event(event, event['data']);\n",
       "    }\n",
       "\n",
       "    canvas_div.keydown('key_press', canvas_keyboard_event);\n",
       "    canvas_div.keyup('key_release', canvas_keyboard_event);\n",
       "    this.canvas_div = canvas_div\n",
       "    this._canvas_extra_style(canvas_div)\n",
       "    this.root.append(canvas_div);\n",
       "\n",
       "    var canvas = $('<canvas/>');\n",
       "    canvas.addClass('mpl-canvas');\n",
       "    canvas.attr('style', \"left: 0; top: 0; z-index: 0; outline: 0\")\n",
       "\n",
       "    this.canvas = canvas[0];\n",
       "    this.context = canvas[0].getContext(\"2d\");\n",
       "\n",
       "    var backingStore = this.context.backingStorePixelRatio ||\n",
       "\tthis.context.webkitBackingStorePixelRatio ||\n",
       "\tthis.context.mozBackingStorePixelRatio ||\n",
       "\tthis.context.msBackingStorePixelRatio ||\n",
       "\tthis.context.oBackingStorePixelRatio ||\n",
       "\tthis.context.backingStorePixelRatio || 1;\n",
       "\n",
       "    mpl.ratio = (window.devicePixelRatio || 1) / backingStore;\n",
       "\n",
       "    var rubberband = $('<canvas/>');\n",
       "    rubberband.attr('style', \"position: absolute; left: 0; top: 0; z-index: 1;\")\n",
       "\n",
       "    var pass_mouse_events = true;\n",
       "\n",
       "    canvas_div.resizable({\n",
       "        start: function(event, ui) {\n",
       "            pass_mouse_events = false;\n",
       "        },\n",
       "        resize: function(event, ui) {\n",
       "            fig.request_resize(ui.size.width, ui.size.height);\n",
       "        },\n",
       "        stop: function(event, ui) {\n",
       "            pass_mouse_events = true;\n",
       "            fig.request_resize(ui.size.width, ui.size.height);\n",
       "        },\n",
       "    });\n",
       "\n",
       "    function mouse_event_fn(event) {\n",
       "        if (pass_mouse_events)\n",
       "            return fig.mouse_event(event, event['data']);\n",
       "    }\n",
       "\n",
       "    rubberband.mousedown('button_press', mouse_event_fn);\n",
       "    rubberband.mouseup('button_release', mouse_event_fn);\n",
       "    // Throttle sequential mouse events to 1 every 20ms.\n",
       "    rubberband.mousemove('motion_notify', mouse_event_fn);\n",
       "\n",
       "    rubberband.mouseenter('figure_enter', mouse_event_fn);\n",
       "    rubberband.mouseleave('figure_leave', mouse_event_fn);\n",
       "\n",
       "    canvas_div.on(\"wheel\", function (event) {\n",
       "        event = event.originalEvent;\n",
       "        event['data'] = 'scroll'\n",
       "        if (event.deltaY < 0) {\n",
       "            event.step = 1;\n",
       "        } else {\n",
       "            event.step = -1;\n",
       "        }\n",
       "        mouse_event_fn(event);\n",
       "    });\n",
       "\n",
       "    canvas_div.append(canvas);\n",
       "    canvas_div.append(rubberband);\n",
       "\n",
       "    this.rubberband = rubberband;\n",
       "    this.rubberband_canvas = rubberband[0];\n",
       "    this.rubberband_context = rubberband[0].getContext(\"2d\");\n",
       "    this.rubberband_context.strokeStyle = \"#000000\";\n",
       "\n",
       "    this._resize_canvas = function(width, height) {\n",
       "        // Keep the size of the canvas, canvas container, and rubber band\n",
       "        // canvas in synch.\n",
       "        canvas_div.css('width', width)\n",
       "        canvas_div.css('height', height)\n",
       "\n",
       "        canvas.attr('width', width * mpl.ratio);\n",
       "        canvas.attr('height', height * mpl.ratio);\n",
       "        canvas.attr('style', 'width: ' + width + 'px; height: ' + height + 'px;');\n",
       "\n",
       "        rubberband.attr('width', width);\n",
       "        rubberband.attr('height', height);\n",
       "    }\n",
       "\n",
       "    // Set the figure to an initial 600x600px, this will subsequently be updated\n",
       "    // upon first draw.\n",
       "    this._resize_canvas(600, 600);\n",
       "\n",
       "    // Disable right mouse context menu.\n",
       "    $(this.rubberband_canvas).bind(\"contextmenu\",function(e){\n",
       "        return false;\n",
       "    });\n",
       "\n",
       "    function set_focus () {\n",
       "        canvas.focus();\n",
       "        canvas_div.focus();\n",
       "    }\n",
       "\n",
       "    window.setTimeout(set_focus, 100);\n",
       "}\n",
       "\n",
       "mpl.figure.prototype._init_toolbar = function() {\n",
       "    var fig = this;\n",
       "\n",
       "    var nav_element = $('<div/>');\n",
       "    nav_element.attr('style', 'width: 100%');\n",
       "    this.root.append(nav_element);\n",
       "\n",
       "    // Define a callback function for later on.\n",
       "    function toolbar_event(event) {\n",
       "        return fig.toolbar_button_onclick(event['data']);\n",
       "    }\n",
       "    function toolbar_mouse_event(event) {\n",
       "        return fig.toolbar_button_onmouseover(event['data']);\n",
       "    }\n",
       "\n",
       "    for(var toolbar_ind in mpl.toolbar_items) {\n",
       "        var name = mpl.toolbar_items[toolbar_ind][0];\n",
       "        var tooltip = mpl.toolbar_items[toolbar_ind][1];\n",
       "        var image = mpl.toolbar_items[toolbar_ind][2];\n",
       "        var method_name = mpl.toolbar_items[toolbar_ind][3];\n",
       "\n",
       "        if (!name) {\n",
       "            // put a spacer in here.\n",
       "            continue;\n",
       "        }\n",
       "        var button = $('<button/>');\n",
       "        button.addClass('ui-button ui-widget ui-state-default ui-corner-all ' +\n",
       "                        'ui-button-icon-only');\n",
       "        button.attr('role', 'button');\n",
       "        button.attr('aria-disabled', 'false');\n",
       "        button.click(method_name, toolbar_event);\n",
       "        button.mouseover(tooltip, toolbar_mouse_event);\n",
       "\n",
       "        var icon_img = $('<span/>');\n",
       "        icon_img.addClass('ui-button-icon-primary ui-icon');\n",
       "        icon_img.addClass(image);\n",
       "        icon_img.addClass('ui-corner-all');\n",
       "\n",
       "        var tooltip_span = $('<span/>');\n",
       "        tooltip_span.addClass('ui-button-text');\n",
       "        tooltip_span.html(tooltip);\n",
       "\n",
       "        button.append(icon_img);\n",
       "        button.append(tooltip_span);\n",
       "\n",
       "        nav_element.append(button);\n",
       "    }\n",
       "\n",
       "    var fmt_picker_span = $('<span/>');\n",
       "\n",
       "    var fmt_picker = $('<select/>');\n",
       "    fmt_picker.addClass('mpl-toolbar-option ui-widget ui-widget-content');\n",
       "    fmt_picker_span.append(fmt_picker);\n",
       "    nav_element.append(fmt_picker_span);\n",
       "    this.format_dropdown = fmt_picker[0];\n",
       "\n",
       "    for (var ind in mpl.extensions) {\n",
       "        var fmt = mpl.extensions[ind];\n",
       "        var option = $(\n",
       "            '<option/>', {selected: fmt === mpl.default_extension}).html(fmt);\n",
       "        fmt_picker.append(option);\n",
       "    }\n",
       "\n",
       "    // Add hover states to the ui-buttons\n",
       "    $( \".ui-button\" ).hover(\n",
       "        function() { $(this).addClass(\"ui-state-hover\");},\n",
       "        function() { $(this).removeClass(\"ui-state-hover\");}\n",
       "    );\n",
       "\n",
       "    var status_bar = $('<span class=\"mpl-message\"/>');\n",
       "    nav_element.append(status_bar);\n",
       "    this.message = status_bar[0];\n",
       "}\n",
       "\n",
       "mpl.figure.prototype.request_resize = function(x_pixels, y_pixels) {\n",
       "    // Request matplotlib to resize the figure. Matplotlib will then trigger a resize in the client,\n",
       "    // which will in turn request a refresh of the image.\n",
       "    this.send_message('resize', {'width': x_pixels, 'height': y_pixels});\n",
       "}\n",
       "\n",
       "mpl.figure.prototype.send_message = function(type, properties) {\n",
       "    properties['type'] = type;\n",
       "    properties['figure_id'] = this.id;\n",
       "    this.ws.send(JSON.stringify(properties));\n",
       "}\n",
       "\n",
       "mpl.figure.prototype.send_draw_message = function() {\n",
       "    if (!this.waiting) {\n",
       "        this.waiting = true;\n",
       "        this.ws.send(JSON.stringify({type: \"draw\", figure_id: this.id}));\n",
       "    }\n",
       "}\n",
       "\n",
       "\n",
       "mpl.figure.prototype.handle_save = function(fig, msg) {\n",
       "    var format_dropdown = fig.format_dropdown;\n",
       "    var format = format_dropdown.options[format_dropdown.selectedIndex].value;\n",
       "    fig.ondownload(fig, format);\n",
       "}\n",
       "\n",
       "\n",
       "mpl.figure.prototype.handle_resize = function(fig, msg) {\n",
       "    var size = msg['size'];\n",
       "    if (size[0] != fig.canvas.width || size[1] != fig.canvas.height) {\n",
       "        fig._resize_canvas(size[0], size[1]);\n",
       "        fig.send_message(\"refresh\", {});\n",
       "    };\n",
       "}\n",
       "\n",
       "mpl.figure.prototype.handle_rubberband = function(fig, msg) {\n",
       "    var x0 = msg['x0'] / mpl.ratio;\n",
       "    var y0 = (fig.canvas.height - msg['y0']) / mpl.ratio;\n",
       "    var x1 = msg['x1'] / mpl.ratio;\n",
       "    var y1 = (fig.canvas.height - msg['y1']) / mpl.ratio;\n",
       "    x0 = Math.floor(x0) + 0.5;\n",
       "    y0 = Math.floor(y0) + 0.5;\n",
       "    x1 = Math.floor(x1) + 0.5;\n",
       "    y1 = Math.floor(y1) + 0.5;\n",
       "    var min_x = Math.min(x0, x1);\n",
       "    var min_y = Math.min(y0, y1);\n",
       "    var width = Math.abs(x1 - x0);\n",
       "    var height = Math.abs(y1 - y0);\n",
       "\n",
       "    fig.rubberband_context.clearRect(\n",
       "        0, 0, fig.canvas.width / mpl.ratio, fig.canvas.height / mpl.ratio);\n",
       "\n",
       "    fig.rubberband_context.strokeRect(min_x, min_y, width, height);\n",
       "}\n",
       "\n",
       "mpl.figure.prototype.handle_figure_label = function(fig, msg) {\n",
       "    // Updates the figure title.\n",
       "    fig.header.textContent = msg['label'];\n",
       "}\n",
       "\n",
       "mpl.figure.prototype.handle_cursor = function(fig, msg) {\n",
       "    var cursor = msg['cursor'];\n",
       "    switch(cursor)\n",
       "    {\n",
       "    case 0:\n",
       "        cursor = 'pointer';\n",
       "        break;\n",
       "    case 1:\n",
       "        cursor = 'default';\n",
       "        break;\n",
       "    case 2:\n",
       "        cursor = 'crosshair';\n",
       "        break;\n",
       "    case 3:\n",
       "        cursor = 'move';\n",
       "        break;\n",
       "    }\n",
       "    fig.rubberband_canvas.style.cursor = cursor;\n",
       "}\n",
       "\n",
       "mpl.figure.prototype.handle_message = function(fig, msg) {\n",
       "    fig.message.textContent = msg['message'];\n",
       "}\n",
       "\n",
       "mpl.figure.prototype.handle_draw = function(fig, msg) {\n",
       "    // Request the server to send over a new figure.\n",
       "    fig.send_draw_message();\n",
       "}\n",
       "\n",
       "mpl.figure.prototype.handle_image_mode = function(fig, msg) {\n",
       "    fig.image_mode = msg['mode'];\n",
       "}\n",
       "\n",
       "mpl.figure.prototype.updated_canvas_event = function() {\n",
       "    // Called whenever the canvas gets updated.\n",
       "    this.send_message(\"ack\", {});\n",
       "}\n",
       "\n",
       "// A function to construct a web socket function for onmessage handling.\n",
       "// Called in the figure constructor.\n",
       "mpl.figure.prototype._make_on_message_function = function(fig) {\n",
       "    return function socket_on_message(evt) {\n",
       "        if (evt.data instanceof Blob) {\n",
       "            /* FIXME: We get \"Resource interpreted as Image but\n",
       "             * transferred with MIME type text/plain:\" errors on\n",
       "             * Chrome.  But how to set the MIME type?  It doesn't seem\n",
       "             * to be part of the websocket stream */\n",
       "            evt.data.type = \"image/png\";\n",
       "\n",
       "            /* Free the memory for the previous frames */\n",
       "            if (fig.imageObj.src) {\n",
       "                (window.URL || window.webkitURL).revokeObjectURL(\n",
       "                    fig.imageObj.src);\n",
       "            }\n",
       "\n",
       "            fig.imageObj.src = (window.URL || window.webkitURL).createObjectURL(\n",
       "                evt.data);\n",
       "            fig.updated_canvas_event();\n",
       "            fig.waiting = false;\n",
       "            return;\n",
       "        }\n",
       "        else if (typeof evt.data === 'string' && evt.data.slice(0, 21) == \"data:image/png;base64\") {\n",
       "            fig.imageObj.src = evt.data;\n",
       "            fig.updated_canvas_event();\n",
       "            fig.waiting = false;\n",
       "            return;\n",
       "        }\n",
       "\n",
       "        var msg = JSON.parse(evt.data);\n",
       "        var msg_type = msg['type'];\n",
       "\n",
       "        // Call the  \"handle_{type}\" callback, which takes\n",
       "        // the figure and JSON message as its only arguments.\n",
       "        try {\n",
       "            var callback = fig[\"handle_\" + msg_type];\n",
       "        } catch (e) {\n",
       "            console.log(\"No handler for the '\" + msg_type + \"' message type: \", msg);\n",
       "            return;\n",
       "        }\n",
       "\n",
       "        if (callback) {\n",
       "            try {\n",
       "                // console.log(\"Handling '\" + msg_type + \"' message: \", msg);\n",
       "                callback(fig, msg);\n",
       "            } catch (e) {\n",
       "                console.log(\"Exception inside the 'handler_\" + msg_type + \"' callback:\", e, e.stack, msg);\n",
       "            }\n",
       "        }\n",
       "    };\n",
       "}\n",
       "\n",
       "// from http://stackoverflow.com/questions/1114465/getting-mouse-location-in-canvas\n",
       "mpl.findpos = function(e) {\n",
       "    //this section is from http://www.quirksmode.org/js/events_properties.html\n",
       "    var targ;\n",
       "    if (!e)\n",
       "        e = window.event;\n",
       "    if (e.target)\n",
       "        targ = e.target;\n",
       "    else if (e.srcElement)\n",
       "        targ = e.srcElement;\n",
       "    if (targ.nodeType == 3) // defeat Safari bug\n",
       "        targ = targ.parentNode;\n",
       "\n",
       "    // jQuery normalizes the pageX and pageY\n",
       "    // pageX,Y are the mouse positions relative to the document\n",
       "    // offset() returns the position of the element relative to the document\n",
       "    var x = e.pageX - $(targ).offset().left;\n",
       "    var y = e.pageY - $(targ).offset().top;\n",
       "\n",
       "    return {\"x\": x, \"y\": y};\n",
       "};\n",
       "\n",
       "/*\n",
       " * return a copy of an object with only non-object keys\n",
       " * we need this to avoid circular references\n",
       " * http://stackoverflow.com/a/24161582/3208463\n",
       " */\n",
       "function simpleKeys (original) {\n",
       "  return Object.keys(original).reduce(function (obj, key) {\n",
       "    if (typeof original[key] !== 'object')\n",
       "        obj[key] = original[key]\n",
       "    return obj;\n",
       "  }, {});\n",
       "}\n",
       "\n",
       "mpl.figure.prototype.mouse_event = function(event, name) {\n",
       "    var canvas_pos = mpl.findpos(event)\n",
       "\n",
       "    if (name === 'button_press')\n",
       "    {\n",
       "        this.canvas.focus();\n",
       "        this.canvas_div.focus();\n",
       "    }\n",
       "\n",
       "    var x = canvas_pos.x * mpl.ratio;\n",
       "    var y = canvas_pos.y * mpl.ratio;\n",
       "\n",
       "    this.send_message(name, {x: x, y: y, button: event.button,\n",
       "                             step: event.step,\n",
       "                             guiEvent: simpleKeys(event)});\n",
       "\n",
       "    /* This prevents the web browser from automatically changing to\n",
       "     * the text insertion cursor when the button is pressed.  We want\n",
       "     * to control all of the cursor setting manually through the\n",
       "     * 'cursor' event from matplotlib */\n",
       "    event.preventDefault();\n",
       "    return false;\n",
       "}\n",
       "\n",
       "mpl.figure.prototype._key_event_extra = function(event, name) {\n",
       "    // Handle any extra behaviour associated with a key event\n",
       "}\n",
       "\n",
       "mpl.figure.prototype.key_event = function(event, name) {\n",
       "\n",
       "    // Prevent repeat events\n",
       "    if (name == 'key_press')\n",
       "    {\n",
       "        if (event.which === this._key)\n",
       "            return;\n",
       "        else\n",
       "            this._key = event.which;\n",
       "    }\n",
       "    if (name == 'key_release')\n",
       "        this._key = null;\n",
       "\n",
       "    var value = '';\n",
       "    if (event.ctrlKey && event.which != 17)\n",
       "        value += \"ctrl+\";\n",
       "    if (event.altKey && event.which != 18)\n",
       "        value += \"alt+\";\n",
       "    if (event.shiftKey && event.which != 16)\n",
       "        value += \"shift+\";\n",
       "\n",
       "    value += 'k';\n",
       "    value += event.which.toString();\n",
       "\n",
       "    this._key_event_extra(event, name);\n",
       "\n",
       "    this.send_message(name, {key: value,\n",
       "                             guiEvent: simpleKeys(event)});\n",
       "    return false;\n",
       "}\n",
       "\n",
       "mpl.figure.prototype.toolbar_button_onclick = function(name) {\n",
       "    if (name == 'download') {\n",
       "        this.handle_save(this, null);\n",
       "    } else {\n",
       "        this.send_message(\"toolbar_button\", {name: name});\n",
       "    }\n",
       "};\n",
       "\n",
       "mpl.figure.prototype.toolbar_button_onmouseover = function(tooltip) {\n",
       "    this.message.textContent = tooltip;\n",
       "};\n",
       "mpl.toolbar_items = [[\"Home\", \"Reset original view\", \"fa fa-home icon-home\", \"home\"], [\"Back\", \"Back to previous view\", \"fa fa-arrow-left icon-arrow-left\", \"back\"], [\"Forward\", \"Forward to next view\", \"fa fa-arrow-right icon-arrow-right\", \"forward\"], [\"\", \"\", \"\", \"\"], [\"Pan\", \"Pan axes with left mouse, zoom with right\", \"fa fa-arrows icon-move\", \"pan\"], [\"Zoom\", \"Zoom to rectangle\", \"fa fa-square-o icon-check-empty\", \"zoom\"], [\"\", \"\", \"\", \"\"], [\"Download\", \"Download plot\", \"fa fa-floppy-o icon-save\", \"download\"]];\n",
       "\n",
       "mpl.extensions = [\"eps\", \"jpeg\", \"pdf\", \"png\", \"ps\", \"raw\", \"svg\", \"tif\"];\n",
       "\n",
       "mpl.default_extension = \"png\";var comm_websocket_adapter = function(comm) {\n",
       "    // Create a \"websocket\"-like object which calls the given IPython comm\n",
       "    // object with the appropriate methods. Currently this is a non binary\n",
       "    // socket, so there is still some room for performance tuning.\n",
       "    var ws = {};\n",
       "\n",
       "    ws.close = function() {\n",
       "        comm.close()\n",
       "    };\n",
       "    ws.send = function(m) {\n",
       "        //console.log('sending', m);\n",
       "        comm.send(m);\n",
       "    };\n",
       "    // Register the callback with on_msg.\n",
       "    comm.on_msg(function(msg) {\n",
       "        //console.log('receiving', msg['content']['data'], msg);\n",
       "        // Pass the mpl event to the overridden (by mpl) onmessage function.\n",
       "        ws.onmessage(msg['content']['data'])\n",
       "    });\n",
       "    return ws;\n",
       "}\n",
       "\n",
       "mpl.mpl_figure_comm = function(comm, msg) {\n",
       "    // This is the function which gets called when the mpl process\n",
       "    // starts-up an IPython Comm through the \"matplotlib\" channel.\n",
       "\n",
       "    var id = msg.content.data.id;\n",
       "    // Get hold of the div created by the display call when the Comm\n",
       "    // socket was opened in Python.\n",
       "    var element = $(\"#\" + id);\n",
       "    var ws_proxy = comm_websocket_adapter(comm)\n",
       "\n",
       "    function ondownload(figure, format) {\n",
       "        window.open(figure.imageObj.src);\n",
       "    }\n",
       "\n",
       "    var fig = new mpl.figure(id, ws_proxy,\n",
       "                           ondownload,\n",
       "                           element.get(0));\n",
       "\n",
       "    // Call onopen now - mpl needs it, as it is assuming we've passed it a real\n",
       "    // web socket which is closed, not our websocket->open comm proxy.\n",
       "    ws_proxy.onopen();\n",
       "\n",
       "    fig.parent_element = element.get(0);\n",
       "    fig.cell_info = mpl.find_output_cell(\"<div id='\" + id + \"'></div>\");\n",
       "    if (!fig.cell_info) {\n",
       "        console.error(\"Failed to find cell for figure\", id, fig);\n",
       "        return;\n",
       "    }\n",
       "\n",
       "    var output_index = fig.cell_info[2]\n",
       "    var cell = fig.cell_info[0];\n",
       "\n",
       "};\n",
       "\n",
       "mpl.figure.prototype.handle_close = function(fig, msg) {\n",
       "    var width = fig.canvas.width/mpl.ratio\n",
       "    fig.root.unbind('remove')\n",
       "\n",
       "    // Update the output cell to use the data from the current canvas.\n",
       "    fig.push_to_output();\n",
       "    var dataURL = fig.canvas.toDataURL();\n",
       "    // Re-enable the keyboard manager in IPython - without this line, in FF,\n",
       "    // the notebook keyboard shortcuts fail.\n",
       "    IPython.keyboard_manager.enable()\n",
       "    $(fig.parent_element).html('<img src=\"' + dataURL + '\" width=\"' + width + '\">');\n",
       "    fig.close_ws(fig, msg);\n",
       "}\n",
       "\n",
       "mpl.figure.prototype.close_ws = function(fig, msg){\n",
       "    fig.send_message('closing', msg);\n",
       "    // fig.ws.close()\n",
       "}\n",
       "\n",
       "mpl.figure.prototype.push_to_output = function(remove_interactive) {\n",
       "    // Turn the data on the canvas into data in the output cell.\n",
       "    var width = this.canvas.width/mpl.ratio\n",
       "    var dataURL = this.canvas.toDataURL();\n",
       "    this.cell_info[1]['text/html'] = '<img src=\"' + dataURL + '\" width=\"' + width + '\">';\n",
       "}\n",
       "\n",
       "mpl.figure.prototype.updated_canvas_event = function() {\n",
       "    // Tell IPython that the notebook contents must change.\n",
       "    IPython.notebook.set_dirty(true);\n",
       "    this.send_message(\"ack\", {});\n",
       "    var fig = this;\n",
       "    // Wait a second, then push the new image to the DOM so\n",
       "    // that it is saved nicely (might be nice to debounce this).\n",
       "    setTimeout(function () { fig.push_to_output() }, 1000);\n",
       "}\n",
       "\n",
       "mpl.figure.prototype._init_toolbar = function() {\n",
       "    var fig = this;\n",
       "\n",
       "    var nav_element = $('<div/>');\n",
       "    nav_element.attr('style', 'width: 100%');\n",
       "    this.root.append(nav_element);\n",
       "\n",
       "    // Define a callback function for later on.\n",
       "    function toolbar_event(event) {\n",
       "        return fig.toolbar_button_onclick(event['data']);\n",
       "    }\n",
       "    function toolbar_mouse_event(event) {\n",
       "        return fig.toolbar_button_onmouseover(event['data']);\n",
       "    }\n",
       "\n",
       "    for(var toolbar_ind in mpl.toolbar_items){\n",
       "        var name = mpl.toolbar_items[toolbar_ind][0];\n",
       "        var tooltip = mpl.toolbar_items[toolbar_ind][1];\n",
       "        var image = mpl.toolbar_items[toolbar_ind][2];\n",
       "        var method_name = mpl.toolbar_items[toolbar_ind][3];\n",
       "\n",
       "        if (!name) { continue; };\n",
       "\n",
       "        var button = $('<button class=\"btn btn-default\" href=\"#\" title=\"' + name + '\"><i class=\"fa ' + image + ' fa-lg\"></i></button>');\n",
       "        button.click(method_name, toolbar_event);\n",
       "        button.mouseover(tooltip, toolbar_mouse_event);\n",
       "        nav_element.append(button);\n",
       "    }\n",
       "\n",
       "    // Add the status bar.\n",
       "    var status_bar = $('<span class=\"mpl-message\" style=\"text-align:right; float: right;\"/>');\n",
       "    nav_element.append(status_bar);\n",
       "    this.message = status_bar[0];\n",
       "\n",
       "    // Add the close button to the window.\n",
       "    var buttongrp = $('<div class=\"btn-group inline pull-right\"></div>');\n",
       "    var button = $('<button class=\"btn btn-mini btn-primary\" href=\"#\" title=\"Stop Interaction\"><i class=\"fa fa-power-off icon-remove icon-large\"></i></button>');\n",
       "    button.click(function (evt) { fig.handle_close(fig, {}); } );\n",
       "    button.mouseover('Stop Interaction', toolbar_mouse_event);\n",
       "    buttongrp.append(button);\n",
       "    var titlebar = this.root.find($('.ui-dialog-titlebar'));\n",
       "    titlebar.prepend(buttongrp);\n",
       "}\n",
       "\n",
       "mpl.figure.prototype._root_extra_style = function(el){\n",
       "    var fig = this\n",
       "    el.on(\"remove\", function(){\n",
       "\tfig.close_ws(fig, {});\n",
       "    });\n",
       "}\n",
       "\n",
       "mpl.figure.prototype._canvas_extra_style = function(el){\n",
       "    // this is important to make the div 'focusable\n",
       "    el.attr('tabindex', 0)\n",
       "    // reach out to IPython and tell the keyboard manager to turn it's self\n",
       "    // off when our div gets focus\n",
       "\n",
       "    // location in version 3\n",
       "    if (IPython.notebook.keyboard_manager) {\n",
       "        IPython.notebook.keyboard_manager.register_events(el);\n",
       "    }\n",
       "    else {\n",
       "        // location in version 2\n",
       "        IPython.keyboard_manager.register_events(el);\n",
       "    }\n",
       "\n",
       "}\n",
       "\n",
       "mpl.figure.prototype._key_event_extra = function(event, name) {\n",
       "    var manager = IPython.notebook.keyboard_manager;\n",
       "    if (!manager)\n",
       "        manager = IPython.keyboard_manager;\n",
       "\n",
       "    // Check for shift+enter\n",
       "    if (event.shiftKey && event.which == 13) {\n",
       "        this.canvas_div.blur();\n",
       "        // select the cell after this one\n",
       "        var index = IPython.notebook.find_cell_index(this.cell_info[0]);\n",
       "        IPython.notebook.select(index + 1);\n",
       "    }\n",
       "}\n",
       "\n",
       "mpl.figure.prototype.handle_save = function(fig, msg) {\n",
       "    fig.ondownload(fig, null);\n",
       "}\n",
       "\n",
       "\n",
       "mpl.find_output_cell = function(html_output) {\n",
       "    // Return the cell and output element which can be found *uniquely* in the notebook.\n",
       "    // Note - this is a bit hacky, but it is done because the \"notebook_saving.Notebook\"\n",
       "    // IPython event is triggered only after the cells have been serialised, which for\n",
       "    // our purposes (turning an active figure into a static one), is too late.\n",
       "    var cells = IPython.notebook.get_cells();\n",
       "    var ncells = cells.length;\n",
       "    for (var i=0; i<ncells; i++) {\n",
       "        var cell = cells[i];\n",
       "        if (cell.cell_type === 'code'){\n",
       "            for (var j=0; j<cell.output_area.outputs.length; j++) {\n",
       "                var data = cell.output_area.outputs[j];\n",
       "                if (data.data) {\n",
       "                    // IPython >= 3 moved mimebundle to data attribute of output\n",
       "                    data = data.data;\n",
       "                }\n",
       "                if (data['text/html'] == html_output) {\n",
       "                    return [cell, data, j];\n",
       "                }\n",
       "            }\n",
       "        }\n",
       "    }\n",
       "}\n",
       "\n",
       "// Register the function which deals with the matplotlib target/channel.\n",
       "// The kernel may be null if the page has been refreshed.\n",
       "if (IPython.notebook.kernel != null) {\n",
       "    IPython.notebook.kernel.comm_manager.register_target('matplotlib', mpl.mpl_figure_comm);\n",
       "}\n"
      ],
      "text/plain": [
       "<IPython.core.display.Javascript object>"
      ]
     },
     "metadata": {},
     "output_type": "display_data"
    },
    {
     "data": {
      "text/html": [
       "<img src=\"data:image/png;base64,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\" width=\"640\">"
      ],
      "text/plain": [
       "<IPython.core.display.HTML object>"
      ]
     },
     "metadata": {},
     "output_type": "display_data"
    }
   ],
   "source": [
    "m = 0.63\n",
    "R = 0.12\n",
    "I = 2.0/3*m*R**2\n",
    "\n",
    "bl = 0.5\n",
    "br = 0.001\n",
    "g = 9.81\n",
    "\n",
    "x0 = 0\n",
    "y0 = 2\n",
    "\n",
    "v0 = 9.5\n",
    "angle = 51*np.pi/180.0\n",
    "\n",
    "vx0 = v0*np.cos(angle)\n",
    "vy0 = v0*np.sin(angle)\n",
    "\n",
    "dt = 0.001\n",
    "t = np.arange(0, 2.1, dt)\n",
    "\n",
    "x = x0\n",
    "y = y0\n",
    "vx = vx0\n",
    "vy = vy0\n",
    "\n",
    "omega = 42\n",
    "theta = 0\n",
    "\n",
    "r = np.array([x,y])\n",
    "ballAngle = np.array([theta])\n",
    "\n",
    "state = np.array([omega, vx, vy, theta, x, y])\n",
    "\n",
    "while state[4]<=4.6:\n",
    "    dstatedt = np.array([-br/I*state[0],-bl/m*state[1], -g-bl/m*state[2],state[0], state[1], state[2] ])\n",
    "    state = state + dt * dstatedt\n",
    "    \n",
    "    r = np.vstack((r, [state[4], state[5]]))\n",
    "    ballAngle = np.vstack((ballAngle, [state[3]]))\n",
    "    \n",
    "plt.figure()\n",
    "plt.plot(r[0:-1:50,0], r[0:-1:50,1], 'o', color = np.array([1, 0.6,0]), markerSize =10)\n",
    "plt.plot(np.array([4, 4.45]), np.array([3.05, 3.05]))\n",
    "for i in range(len(r[0:-1:50,0])):\n",
    "    plt.plot(r[i*50,0]+np.array([-0.05*(np.cos(ballAngle[i*50])-np.sin(ballAngle[i*50])),\n",
    "                                 0.05*(np.cos(ballAngle[i*50])-np.sin(ballAngle[i*50]))]), \n",
    "             r[i*50,1] + np.array([-0.05*(np.sin(ballAngle[i*50])+np.cos(ballAngle[i*50])),\n",
    "                                   0.05*(np.sin(ballAngle[i*50])+np.cos(ballAngle[i*50]))]),'k')\n",
    "plt.ylim((0,4.5))\n",
    "plt.show()"
   ]
  },
  {
   "cell_type": "markdown",
   "metadata": {},
   "source": [
    "Above is the trajectory of the ball until it reaches the basket (height of 3.05 m, marked with a blue line)."
   ]
  },
  {
   "cell_type": "markdown",
   "metadata": {
    "slideshow": {
     "slide_type": "slide"
    }
   },
   "source": [
    "### Pendulum \n",
    "\n",
    "Now, we will analyze a **pendulum** of **lenght** $\\bf{l}$. It consists of a bar with its **upper part linked to a hinge**.\n",
    "\n",
    "<figure><img src=\"../images/pendulum.png\" width=350 /></figure>"
   ]
  },
  {
   "cell_type": "markdown",
   "metadata": {
    "slideshow": {
     "slide_type": "slide"
    }
   },
   "source": [
    "#### Free-body diagram\n",
    "\n",
    "Below is the free-body diagram of the bar. On the center of mass of the bar is acting the gravitational force. On the point O, where there is a hinge, a force $\\vec{\\bf{F_1}}$ restrains the point to translate. As the hinge does not constrains a rotational movement of the bar, there is no moment applied by the hinge. \n",
    "\n",
    "<figure><img src=\"../images/pendulumFBD.png\" width=300 /></figure>"
   ]
  },
  {
   "cell_type": "markdown",
   "metadata": {
    "slideshow": {
     "slide_type": "slide"
    }
   },
   "source": [
    "#### Sum of the forces and moments\n",
    "\n",
    "To find the equation of motion of the bar we can use the second Newton-Euler law. So, we must find the sum of the moments and the resultant force being applied to the bar. The sum of moments could be computed relative to any point, but if we choose the fixed point O, it is easier because we can ignore the force <span class=\"notranslate\">$\\vec{\\bf{F_1}}$</span>.\n",
    "\n",
    "The moment around the fixed point is:\n",
    "\n",
    "<span class=\"notranslate\">\n",
    "\\begin{equation}\n",
    "    \\vec{M_O} = \\vec{r_{cm/O}} \\times (-mg\\hat{\\bf{j}})\n",
    "\\end{equation}\n",
    "</span>\n",
    "\n",
    "The resultant force applied in the bar is:\n",
    "\n",
    "<span class=\"notranslate\">\n",
    "\\begin{equation}\n",
    "        \\vec{F} = -mg\\hat{\\bf{j}} + \\vec{F_1}\n",
    "\\end{equation}\n",
    "</span>"
   ]
  },
  {
   "cell_type": "markdown",
   "metadata": {
    "slideshow": {
     "slide_type": "slide"
    }
   },
   "source": [
    "#### Second Newton-Euler law\n",
    "\n",
    "The second Newton-Euler law is:\n",
    "\n",
    "<span class=\"notranslate\">\n",
    "\\begin{equation}\n",
    "    \\vec{M_O} = \\frac{d\\vec{H_O}}{dt}\n",
    "\\end{equation}\n",
    "</span>\n",
    "    \n",
    "The angular momentum derivative of the bar around point O is:\n",
    "\n",
    "<span class=\"notranslate\">\n",
    "\\begin{equation}\n",
    "    \\frac{d\\vec{H_O}}{dt} = I_{zz}^{cm} \\frac{d^2\\theta}{dt^2} \\hat{\\bf{k}}  + m \\vec{r_{cm/O}} \\times \\vec{a_{cm}}\n",
    "\\end{equation}\n",
    "</span>"
   ]
  },
  {
   "cell_type": "markdown",
   "metadata": {
    "slideshow": {
     "slide_type": "slide"
    }
   },
   "source": [
    "#### Kinematics\n",
    "\n",
    "The vector from point O to the center of mass is:\n",
    "\n",
    "<span class=\"notranslate\">\n",
    "\\begin{equation}\n",
    "    \\vec{r_{cm/O}} = \\frac{l}{2}\\sin{\\theta}\\hat{\\bf{i}}-\\frac{l}{2}\\cos{\\theta}\\hat{\\bf{j}}\n",
    "\\end{equation}\n",
    "</span>\n",
    "\n",
    "The position of the center of mass is, considering the point O as the origin, equal to <span class=\"notranslate\">$\\vec{\\bf{r_{cm/O}}}$</span>. So, the center of mass acceleration is obtained by deriving it twice. \n",
    "\n",
    "<span class=\"notranslate\">\n",
    "\\begin{equation}\n",
    "    \\vec{v_{cm}} = \\frac{\\vec{r_{cm/O}}}{dt} = \\frac{l}{2}(\\cos{\\theta}\\hat{\\bf{i}}+\\sin{\\theta}\\hat{\\bf{j}})\\frac{d\\theta}{dt}\n",
    "\\end{equation}\n",
    "</span> \n",
    "\n",
    "<span class=\"notranslate\">    \n",
    "\\begin{equation}\n",
    "\\vec{a_{cm}} = \\frac{l}{2}(-\\sin{\\theta}\\hat{\\bf{i}}+\\cos{\\theta}\\hat{\\bf{j}})\\left(\\frac{d\\theta}{dt}\\right)^2 + \\frac{l}{2}(\\cos{\\theta}\\hat{\\bf{i}}+\\sin{\\theta}\\hat{\\bf{j}})\\frac{d^2\\theta}{dt^2}   \n",
    "\\end{equation}\n",
    "</span>"
   ]
  },
  {
   "cell_type": "markdown",
   "metadata": {
    "slideshow": {
     "slide_type": "slide"
    }
   },
   "source": [
    "#### Sum of the moments\n",
    "\n",
    "So, the moment around the point O:\n",
    "\n",
    "\\begin{equation}\n",
    "    \\vec{M_O} = \\vec{r_{cm/O}} \\times (-mg\\hat{\\bf{j}}) = \\left(\\frac{l}{2}\\sin{\\theta}\\hat{\\bf{i}}-\\frac{l}{2}\\cos{\\theta}\\hat{\\bf{j}}\\right) \\times (-mg\\hat{\\bf{j}}) = \\frac{-mgl}{2}\\sin{\\theta}\\hat{\\bf{k}}\n",
    "\\end{equation}"
   ]
  },
  {
   "cell_type": "markdown",
   "metadata": {
    "slideshow": {
     "slide_type": "slide"
    }
   },
   "source": [
    "#### Derivative of the angular momentum\n",
    "\n",
    "And the derivative of the angular momentum is:\n",
    "\n",
    "<span class=\"notranslate\">\n",
    "\\begin{equation}\n",
    "\\begin{array}{l l}\n",
    "\\frac{d\\vec{H_O}}{dt} &=& I_{zz}^{cm} \\frac{d^2\\theta}{dt^2}\\hat{\\bf{k}}  + m \\frac{l}{2}(\\sin{\\theta}\\hat{\\bf{i}}-\\cos{\\theta}\\hat{\\bf{j}}) \\times \\left[ \\frac{l}{2}(-\\sin{\\theta}\\hat{\\bf{i}}+\\cos{\\theta}\\hat{\\bf{j}})\\left(\\frac{d\\theta}{dt}\\right)^2 + \\frac{l}{2}(\\cos{\\theta}\\hat{\\bf{i}}+\\sin{\\theta}\\hat{\\bf{j}})\\frac{d^2\\theta}{dt^2}    \\right] \\\\\n",
    "&=& I_{zz}^{cm} \\frac{d^2\\theta}{dt^2}\\hat{\\bf{k}}  + m \\frac{l^2}{4}\\frac{d^2\\theta}{dt^2} \\hat{\\bf{k}}  \\\\\n",
    "&=& \\left(I_{zz}^{cm} + \\frac{ml^2}{4}\\right)\\frac{d^2\\theta}{dt^2} \\hat{\\bf{k}}\n",
    "\\end{array}\n",
    "\\end{equation}\n",
    "</span>"
   ]
  },
  {
   "cell_type": "markdown",
   "metadata": {
    "slideshow": {
     "slide_type": "slide"
    }
   },
   "source": [
    "#### The equation of motion\n",
    "\n",
    "Now, by using the Newton-Euler laws, we can obtain the differential equation that describes the bar angle along time:\n",
    "\n",
    "<span class=\"notranslate\">\n",
    "\\begin{equation}\n",
    "    \\frac{d\\vec{H_O}}{dt} = \\vec{M_O} \\rightarrow \\frac{-mgl}{2}\\sin{\\theta} = \\left(I_{zz}^{cm} + \\frac{ml^2}{4}\\right)\\frac{d^2\\theta}{dt^2} \\rightarrow \\frac{d^2\\theta}{dt^2} = \\frac{-2mgl}{\\left(4I_{zz}^{cm} + ml^2\\right)}\\sin{\\theta}\n",
    "\\end{equation}\n",
    "</span>\n",
    "\n",
    "The moment of inertia of the bar relative to its center of mass is <span class=\"notranslate\">$I_{zz}^{cm} = \\frac{ml^2}{12}$</span> (for a revision on moment of inertia see [this notebook](CenterOfMassAndMomentOfInertia.ipynb)).  So, the equation of motion of the pendulum is:\n",
    "\n",
    "<span class=\"notranslate\">\n",
    "\\begin{equation}\n",
    "    \\frac{d^2\\theta}{dt^2} = \\frac{-3g}{2l}\\sin{\\theta}\n",
    "\\end{equation}\n",
    "</span>"
   ]
  },
  {
   "cell_type": "markdown",
   "metadata": {
    "slideshow": {
     "slide_type": "slide"
    }
   },
   "source": [
    "### Inverted Pendulum\n",
    "\n",
    "At this example we analyze the inverted pendulum. It consists of a bar with **length** $\\bf{l}$ with its lowest extremity linked to a hinge.\n",
    "\n",
    "<figure><img src=\"../images/invertedPendulum.png\" width=350 /></figure>"
   ]
  },
  {
   "cell_type": "markdown",
   "metadata": {
    "slideshow": {
     "slide_type": "slide"
    }
   },
   "source": [
    "#### Free-body diagram\n",
    "\n",
    "The free-body diagram of the bar is depicted below. At the point where the bar is linked to the hinge, a force <span class=\"notranslate\">$\\vec{F_1}$</span> acts at the bar due to the restraint of the translation imposed to the point O by the hinge. Additionally, the gravitational force acts at the center of mass of the bar.\n",
    "   \n",
    "<figure><img src=\"../images/invertedPendulumFBD.png\" width=300 /></figure>"
   ]
  },
  {
   "cell_type": "markdown",
   "metadata": {
    "slideshow": {
     "slide_type": "slide"
    }
   },
   "source": [
    "#### Sum of the forces and moments\n",
    "\n",
    "Similarly to pendulum, in this case we can find the equation of motion of the bar by using the second Newton-Euler law. To do that we must find the sum of the moments and the resultant force being applied to the bar. The sum of moments could be computed relative to any point, but if we choose the fixed point O, it is easier because we can ignore the force <span class=\"notranslate\">$\\vec{F_1}$</span>.\n",
    "\n",
    "The moment around the fixed point is:\n",
    "\n",
    "<span class=\"notranslate\">\n",
    "\\begin{equation}\n",
    "    \\vec{M_O} = \\vec{r_{cm/O}} \\times (-mg\\hat{\\bf{j}})\n",
    "\\end{equation}\n",
    "</span>\n",
    "\n",
    "The resultant force applied in the bar is:\n",
    "\n",
    "<span class=\"notranslate\">\n",
    "\\begin{equation}\n",
    "        \\vec{F} = -mg\\hat{\\bf{j}} + \\vec{F_1}\n",
    "\\end{equation}\n",
    "</span>"
   ]
  },
  {
   "cell_type": "markdown",
   "metadata": {
    "slideshow": {
     "slide_type": "slide"
    }
   },
   "source": [
    "#### Second Newton-Euler law\n",
    "\n",
    "The second Newton-Euler law is:\n",
    "\n",
    "<span class=\"notranslate\">\n",
    "\\begin{equation}\n",
    "    \\vec{M_O} = \\frac{d\\vec{H_O}}{dt}\n",
    "\\end{equation}\n",
    "</span>\n",
    "\n",
    "The angular momentum derivative of the bar around point O is:\n",
    "\n",
    "<span class=\"notranslate\">\n",
    "\\begin{equation}\n",
    "    \\frac{d\\vec{H_O}}{dt} = I_{zz}^{cm} \\frac{d^2\\theta}{dt^2} \\hat{\\bf{k}}  + m \\vec{r_{cm/O}} \\times \\vec{a_{cm}}\n",
    "\\end{equation}\n",
    "</span>"
   ]
  },
  {
   "cell_type": "markdown",
   "metadata": {
    "slideshow": {
     "slide_type": "slide"
    }
   },
   "source": [
    "#### Kinematics\n",
    "\n",
    "The equations above are exactly the same of the pendulum example. The difference is in the kinematics of the bar. Now,the vector from point O to the center of mass is:\n",
    "\n",
    "<span class=\"notranslate\">\n",
    "\\begin{equation}\n",
    "    \\vec{r_{cm/O}} = -\\frac{l}{2}\\sin{\\theta}\\hat{\\bf{i}}+\\frac{l}{2}\\cos{\\theta}\\hat{\\bf{j}}\n",
    "\\end{equation}\n",
    "</span>\n",
    "\n",
    "The position of the center of mass of the bar is equal to the vector <span class=\"notranslate\">$\\vec{\\bf{r_{cm/O}}}$</span>, since the point O is with velocity zero relative to the global reference frame. So the center of mass acceleration can be obtained by deriving this vector twice:\n",
    "\n",
    "<span class=\"notranslate\">\n",
    "\\begin{equation}\n",
    "    \\vec{v_{cm}} = \\frac{\\vec{r_{cm/O}}}{dt} = -\\frac{l}{2}(\\cos{\\theta}\\hat{\\bf{i}}+\\sin{\\theta}\\hat{\\bf{j}})\\frac{d\\theta}{dt} \n",
    "\\end{equation}\n",
    "</span> \n",
    "\n",
    "<span class=\"notranslate\">    \n",
    "\\begin{equation}\n",
    "\\vec{a_{cm}} = \\frac{l}{2}(\\sin{\\theta}\\hat{\\bf{i}}-\\cos{\\theta}\\hat{\\bf{j}})\\left(\\frac{d\\theta}{dt}\\right)^2 - \\frac{l}{2}(\\cos{\\theta}\\hat{\\bf{i}}+\\sin{\\theta}\\hat{\\bf{j}})\\frac{d^2\\theta}{dt^2}   \n",
    "\\end{equation}\n",
    "</span>"
   ]
  },
  {
   "cell_type": "markdown",
   "metadata": {
    "slideshow": {
     "slide_type": "slide"
    }
   },
   "source": [
    "#### Sum of the moments\n",
    "\n",
    "\n",
    "So, the moment around the point O is:\n",
    "\n",
    "<span class=\"notranslate\">\n",
    "\\begin{equation}\n",
    "\\vec{M_O} = \\vec{r_{cm/O}} \\times (-mg\\hat{\\bf{j}}) = \\left(-\\frac{l}{2}\\sin{\\theta}\\hat{\\bf{i}}+\\frac{l}{2}\\cos{\\theta}\\hat{\\bf{j}}\\right) \\times (-mg\\hat{\\bf{j}}) = \\frac{mgl}{2}\\sin{\\theta} \\hat{\\bf{k}}\n",
    "\\end{equation}\n",
    "</span>\n",
    "    "
   ]
  },
  {
   "cell_type": "markdown",
   "metadata": {
    "slideshow": {
     "slide_type": "slide"
    }
   },
   "source": [
    "\n",
    "#### Derivative of the angular momentum\n",
    "\n",
    "\n",
    "And the derivative of the angular momentum is:\n",
    "\n",
    "<span class=\"notranslate\">\n",
    "\\begin{equation}\n",
    "\\begin{array}{l l}\n",
    "\\frac{d\\vec{H_O}}{dt} &=& I_{zz}^{cm} \\frac{d^2\\theta}{dt^2} \\hat{\\bf{k}} + m \\left(-\\frac{l}{2}\\sin{\\theta}\\hat{\\bf{i}}+\\frac{l}{2}\\cos{\\theta}\\hat{\\bf{j}}\\right) \\times \\left[\\frac{l}{2}(\\sin{\\theta}\\hat{\\bf{i}}-\\cos{\\theta}\\hat{\\bf{j}})\\left(\\frac{d\\theta}{dt}\\right)^2 - \\frac{l}{2}(\\cos{\\theta}\\hat{\\bf{i}}+\\sin{\\theta}\\hat{\\bf{j}})\\frac{d^2\\theta}{dt^2}\\right] \\\\\n",
    "&=& I_{zz}^{cm} \\frac{d^2\\theta}{dt^2} \\hat{\\bf{k}} + m \\frac{l^2}{4}\\frac{d^2\\theta}{dt^2}\\hat{\\bf{k}} \\\\\n",
    "&=& \\left(I_{zz}^{cm} + \\frac{ml^2}{4}\\right)\\frac{d^2\\theta}{dt^2}\\hat{\\bf{k}}\n",
    "\\end{array}\n",
    "\\end{equation}\n",
    "</span>"
   ]
  },
  {
   "cell_type": "markdown",
   "metadata": {
    "slideshow": {
     "slide_type": "slide"
    }
   },
   "source": [
    "#### The equation of motion\n",
    "\n",
    "\n",
    "By using the Newton-Euler laws, we can find the equation of motion of the bar:\n",
    "\n",
    "<span class=\"notranslate\">\n",
    "\\begin{equation}\n",
    "    \\frac{d\\vec{H_O}}{dt} = \\vec{M_O} \\rightarrow \\left(I_{zz}^{cm} +  \\frac{ml^2}{4}\\right)\\frac{d^2\\theta}{dt^2} = \\frac{mgl}{2}\\sin{\\theta} \\rightarrow \\frac{d^2\\theta}{dt^2} = \\frac{2mgl}{\\left(4I_{zz}^{cm} + ml^2\\right)}\\sin(\\theta)\n",
    "\\end{equation}\n",
    "</span>\n",
    "\n",
    "The moment of inertia of the bar is <span class=\"notranslate\">$I_{zz}^{cm} = \\frac{ml^2}{12}$</span>. So, the equation of motion of the bar is:\n",
    "\n",
    "<span class=\"notranslate\">\n",
    "\\begin{equation}\n",
    "    \\frac{d^2\\theta}{dt^2} = \\frac{3g}{2l}\\sin(\\theta)\n",
    "\\end{equation}\n",
    "</span>"
   ]
  },
  {
   "cell_type": "markdown",
   "metadata": {
    "slideshow": {
     "slide_type": "slide"
    }
   },
   "source": [
    "### Human quiet standing \n",
    "\n",
    "A very simple model of the human quiet standing (frequently used) is to use an inverted pendulum to model the human body. On [this notebook](http://nbviewer.jupyter.org/github/demotu/BMC/blob/master/notebooks/IP_Model.ipynb) there is a more comprehensive explanation of human standing. Consider the body as a rigid uniform bar with moment of inertia <span class=\"notranslate\">$I_{zz}^{cm} = \\frac{m_Bh_G^2}{3}$</span>. \n",
    "\n",
    "<figure><img src=\"../images/quietStanding.png\" width=300 /></figure> \n",
    "\n",
    "Adapted from [Elias, Watanabe and Kohn (2014)](https://journals.plos.org/ploscompbiol/article?id=10.1371/journal.pcbi.1003944)."
   ]
  },
  {
   "cell_type": "markdown",
   "metadata": {
    "slideshow": {
     "slide_type": "slide"
    }
   },
   "source": [
    "#### Free-body diagram\n",
    "\n",
    "Below is depicted the free-body diagram of the foot and the rest of the body. At the ankle joint there is a constraint to the translation of the ankle joint. So, a force $\\vec{\\bf{F_1}}$ is applied to the body at the ankle joint. By the third Newton law, a force  $-\\vec{\\bf{F_1}}$ is applied to the foot at the ankle joint. At the center of mass of the body and of the foot, gravitational forces are applied. Additionally, a ground reaction force is applied to the foot at the center of pressure of the forces applied at the foot.\n",
    "\n",
    "Additionally, a moment <span class=\"notranslate\">$\\vec{T_A}$</span> is applied at the body and its reaction is applied to the foot. This moment <span class=\"notranslate\">$\\vec{T_A}$</span> comes from the muscles around the ankle joint. It is usual in Biomechanics to represent the net torque generated by all the muscles on a single joint as a single moment applied to the body. \n",
    "    \n",
    "<figure><img src=\"../images/quietStandingFBD.png\" width=300 /></figure>"
   ]
  },
  {
   "cell_type": "markdown",
   "metadata": {
    "slideshow": {
     "slide_type": "slide"
    }
   },
   "source": [
    "#### Sum of the moments\n",
    "\n",
    "The process to obtain the equation of motion of the body is very similar to the pendulums. The moment around the ankle being applied to the body is:\n",
    "\n",
    "<span class=\"notranslate\">\n",
    "\\begin{equation}\n",
    "    \\vec{M_A} = \\vec{T_A} + \\vec{r_{cm/A}} \\times (-m_Bg\\hat{\\bf{j}})\n",
    "\\end{equation}\n",
    "</span>"
   ]
  },
  {
   "cell_type": "markdown",
   "metadata": {
    "slideshow": {
     "slide_type": "slide"
    }
   },
   "source": [
    "#### Second Newton-Euler law\n",
    "\n",
    "And the derivative of the angular momentum is:\n",
    "\n",
    "<span class=\"notranslate\">\n",
    "\\begin{equation}\n",
    "    \\frac{d\\vec{H_A}}{dt} = I_{zz}^{cm}\\frac{d\\theta_A}{dt} + m\\vec{r_{cm/A}} \\times \\vec{a_{cm}}\n",
    "\\end{equation}\n",
    "</span>"
   ]
  },
  {
   "cell_type": "markdown",
   "metadata": {
    "slideshow": {
     "slide_type": "slide"
    }
   },
   "source": [
    "#### Kinematics\n",
    "\n",
    "To find the kinematics of the bar, we could do the same procedure we have used in the pendulum and inverted pendulum examples, but this time we will use polar coordinates (for a revision on polar coordinates, see [Polar coordinates notebook](PolarCoordinates.ipynb)). \n",
    "\n",
    "<span class=\"notranslate\">\n",
    "\\begin{equation}\n",
    "    \\vec{r_{cm/A}} = \\vec{r_{cm}} = h_G\\hat{\\bf{e_r}}\n",
    "\\end{equation}\n",
    "</span> \n",
    "\n",
    "<span class=\"notranslate\">    \n",
    "\\begin{equation}\n",
    "\\vec{v_{cm}} = h_G\\frac{d\\theta_A}{dt}\\hat{\\bf{e_\\theta}}\n",
    "\\end{equation}\n",
    "</span> \n",
    "\n",
    "<span class=\"notranslate\">    \n",
    "\\begin{equation}\n",
    "\\vec{a_{cm}} = -h_G\\left(\\frac{d\\theta_A}{dt}\\right)^2\\hat{\\bf{e_r}} + h_G\\frac{d^2\\theta_A}{dt^2}\\hat{\\bf{e_\\theta}}\n",
    "\\end{equation}\n",
    "</span>\n",
    "\n",
    "where <span class=\"notranslate\">$\\hat{\\bf{e_r}} = -\\sin(\\theta_A)\\hat{\\bf{i}} + \\cos(\\theta_A)\\hat{\\bf{j}}$</span> and <span class=\"notranslate\">$\\hat{\\bf{e_\\theta}} = -\\cos(\\theta_A)\\hat{\\bf{i}} - \\sin(\\theta_A)\\hat{\\bf{j}}$</span>"
   ]
  },
  {
   "cell_type": "markdown",
   "metadata": {
    "slideshow": {
     "slide_type": "slide"
    }
   },
   "source": [
    "#### Sum of the moments\n",
    "\n",
    "Having the kinematics computed, we can go back to the moment and derivative of the angular momentum:\n",
    "\n",
    "<span class=\"notranslate\">\n",
    "\\begin{equation}\n",
    "\\vec{M_A} =  \\vec{T_A} + h_G\\hat{\\bf{e_r}} \\times (-m_Bg\\hat{\\bf{j}}) = T_A\\hat{\\bf{k}} + h_Gm_Bg\\sin(\\theta_A)\\hat{\\bf{k}}\n",
    "\\end{equation}\n",
    "</span>"
   ]
  },
  {
   "cell_type": "markdown",
   "metadata": {
    "slideshow": {
     "slide_type": "slide"
    }
   },
   "source": [
    "### Derivative of the angular momentum\n",
    "\n",
    "<span class=\"notranslate\">\n",
    "\\begin{equation}\n",
    "\\begin{array}{l l}\n",
    "\\frac{d\\vec{H_A}}{dt} &=& I_{zz}^{cm}\\frac{d^2\\theta_A}{dt^2} \\hat{\\bf{k}} + mh_G\\hat{\\bf{e_r}} \\times \\left(-h_G\\left(\\frac{d^2\\theta_A}{dt^2}\\right)^2\\hat{\\bf{e_r}} + h_G\\frac{d^2\\theta_A}{dt^2}\\hat{\\bf{e_\\theta}}\\right) \\\\\n",
    "&=& I_{zz}^{cm}\\frac{d^2\\theta_A}{dt^2}\\hat{\\bf{k}} + mh_G^2\\frac{d^2\\theta_A}{dt^2}\\hat{\\bf{k}} \\\\\n",
    "&=& \\left(I_{zz}^{cm} + mh_G^2\\right)\\frac{d^2\\theta_A}{dt^2}\\hat{\\bf{k}}\n",
    "\\end{array}\n",
    "\\end{equation}\n",
    "</span>"
   ]
  },
  {
   "cell_type": "markdown",
   "metadata": {
    "slideshow": {
     "slide_type": "slide"
    }
   },
   "source": [
    "#### The equation of motion\n",
    "\n",
    "By using the Newton-Euler equations, we can now find the equation of motion of the body during quiet standing:\n",
    "\n",
    "<span class=\"notranslate\">\n",
    "\\begin{equation}\n",
    "    \\vec{M_A}=\\frac{d\\vec{H_A}}{dt} \n",
    "\\end{equation}\n",
    "</span> \n",
    "\n",
    "<span class=\"notranslate\">    \n",
    "\\begin{equation}\n",
    "\\left(I_{zz}^{cm} + mh_G^2\\right)\\frac{d^2\\theta_A}{dt^2} =  T_A + h_Gm_B g\\sin(\\theta_A) \n",
    "\\end{equation}\n",
    "</span> \n",
    "\n",
    "<span class=\"notranslate\">    \n",
    "\\begin{equation}\n",
    "\\frac{d^2\\theta_A}{dt^2} = \\frac{h_Gm_B g}{I_{zz}^{cm} + mh_G^2}\\sin(\\theta_A)+ \\frac{T_A}{I_{zz}^{cm} + m_Bh_G^2}\n",
    "\\end{equation}\n",
    "</span>\n",
    "\n",
    "If we consider the body as a rigid uniform bar, the moment of inertia is <span class=\"notranslate\">$I_{zz}^{cm} = \\frac{m_Bh_G^2}{3}$</span>. So, the equation of motion of the body is:\n",
    "\n",
    "<span class=\"notranslate\">\n",
    "\\begin{equation}\n",
    "    \\frac{d^2\\theta_A}{dt^2} = \\frac{3 g}{4h_g}\\sin(\\theta_A)+ \\frac{3 T_A}{4m_bh_G^2}\n",
    "\\end{equation}\n",
    "</span>"
   ]
  },
  {
   "cell_type": "markdown",
   "metadata": {
    "slideshow": {
     "slide_type": "slide"
    }
   },
   "source": [
    "### Force platform (position of the center of pressure)\n",
    "\n",
    "From the same example above, now we will find the position of the center of pressure ($COP_x$) during the quiet standing. The $COP_x$ is the point where the ground reaction force is being applied. The point O is linked to the ground in a way that it constraints the translation and rotation movement of the platform and is located at known distance $y_0$ below the ground. Also, it is in the point O that sensors of force and moments are located. \n",
    "\n",
    "<br>\n",
    "<figure><img src=\"../images/forcePlatform2DS.png\" width=250 /></figure>"
   ]
  },
  {
   "cell_type": "markdown",
   "metadata": {
    "slideshow": {
     "slide_type": "slide"
    }
   },
   "source": [
    "#### Free-body diagram\n",
    "\n",
    "The free-body diagram of the foot and the force platform is depicted below.\n",
    "\n",
    "<figure><img src=\"../images/forcePlatform2D.png\" width=300 /></figure>"
   ]
  },
  {
   "cell_type": "markdown",
   "metadata": {
    "slideshow": {
     "slide_type": "slide"
    }
   },
   "source": [
    "In the platform , the distance <span class=\"notranslate\">$y_0$</span> is known. As the platform is in equilibrium its derivative of the angular momentum is zero. Now, we must find the sum of the moments. As we can choose any point, we will choose, the point where the force <span class=\"notranslate\">$\\vec{\\bf{F}}$</span> is being applied, and equal it to zero.\n",
    "\n",
    "<span class=\"notranslate\">\n",
    "\\begin{equation}\n",
    "    \\vec{M} + \\vec{r_{COP/O}} \\times (-\\vec{GRF}) = 0\n",
    "\\end{equation}\n",
    "</span>\n",
    "\n",
    "The vector <span class=\"notranslate\">$\\vec{\\bf{r_{COP/O}}}$</span> is:\n",
    "\n",
    "<span class=\"notranslate\">\n",
    "\\begin{equation}\n",
    "\\vec{r_{COP/O}} = COP_x \\hat{\\bf{i}} + y_0 \\hat{\\bf{j}}\n",
    "\\end{equation}\n",
    "</span>\n",
    "\n",
    "So, from the equation of the sum of the moments we can isolate the postion of the center of pressure:\n",
    "\n",
    "<span class=\"notranslate\">\n",
    "\\begin{equation}\n",
    "    M - COP_x GRF_y + y_0 GRF_x = 0 \\rightarrow COP_x = \\frac{M+y_0 GRF_x}{GRF_y}\n",
    "\\end{equation}\n",
    "</span>\n",
    "    \n",
    "Using the expression above, we can track the position of the center of pressure during an experiment."
   ]
  },
  {
   "cell_type": "markdown",
   "metadata": {
    "slideshow": {
     "slide_type": "slide"
    }
   },
   "source": [
    "### Standing dummy (from Ruina and Pratap book)\n",
    "\n",
    "A standing dummy is modeled as having massless rigid circular feet of radius $R$ rigidly attached to their\n",
    "uniform rigid body of length <span class=\"notranslate\">$L$</span> and mass <span class=\"notranslate\">$m$</span>. The feet do not slip on the floor.\n",
    "\n",
    "<figure><img src=\"../images/rocker.png\" width=450 /></figure>\n",
    "  "
   ]
  },
  {
   "cell_type": "markdown",
   "metadata": {
    "slideshow": {
     "slide_type": "slide"
    }
   },
   "source": [
    "  \n",
    "#### Free-body diagram\n",
    "\n",
    "Below is depicted the fee-body diagram. The point C is the point of contact with the ground. Note that this point changes its position along time, but instantly it has velocity zero.\n",
    "\n",
    "<figure><img src=\"../images/rockerFBD.png\" width=450 /></figure>"
   ]
  },
  {
   "cell_type": "markdown",
   "metadata": {
    "slideshow": {
     "slide_type": "slide"
    }
   },
   "source": [
    "#### Kinematics\n",
    "\n",
    "Using the versors:\n",
    "\n",
    "<span class=\"notranslate\">\n",
    "\\begin{equation}\n",
    "\\hat{\\bf{e_r}} = -\\sin(\\theta_A)\\hat{\\bf{i}} + \\cos(\\theta_A)\\hat{\\bf{j}}\n",
    "\\end{equation}\n",
    "</span> \n",
    "\n",
    "<span class=\"notranslate\">    \n",
    "\\begin{equation}\n",
    "\\hat{\\bf{e_\\theta}} = -\\cos(\\theta_A)\\hat{\\bf{i}} - \\sin(\\theta_A)\\hat{\\bf{j}}\n",
    "\\end{equation}\n",
    "</span>\n",
    "\n",
    "The vector from the point C to the center of mass is:\n",
    "\n",
    "<span class=\"notranslate\">\n",
    "\\begin{equation}\n",
    "\\vec{r_{cm/C}} = R\\hat{\\bf{j}} + \\left(\\frac{L}{2} - R \\right)\\hat{\\bf{e_r}}\n",
    "\\end{equation}\n",
    "</span>\n",
    "\n",
    "The position of the center of mass, relative to the origin is different from $\\vec{r_{cm/C}}$. We can consider the origin of the system as the point of contact with the ground when the standing dummy is at the vertical position.\n",
    "\n",
    "<span class=\"notranslate\">\n",
    "\\begin{equation}\n",
    "\\vec{r_{cm}} = -R\\theta\\hat{\\bf{i}} + R\\hat{\\bf{j}} + \\left(\\frac{L}{2} - R \\right)\\hat{\\bf{e_r}}\n",
    "\\end{equation}\n",
    "</span> \n",
    "\n",
    "<span class=\"notranslate\">    \n",
    "\\begin{equation}\n",
    "\\vec{v_{cm}} = -R\\dot{\\theta}\\hat{\\bf{i}} + \\left(\\frac{L}{2} - R \\right)\\dot{\\theta}\\hat{\\bf{e_\\theta}}\n",
    "\\end{equation}\n",
    "</span> \n",
    "\n",
    "<span class=\"notranslate\">\n",
    "\\begin{equation}\n",
    "\\vec{a_{cm}} = -R\\ddot{\\theta}\\hat{\\bf{i}} + \\left(\\frac{L}{2} - R \\right)\\ddot{\\theta}\\hat{\\bf{e_\\theta}} - \\left(\\frac{L}{2} - R \\right)\\dot{\\theta}^2\\hat{\\bf{e_r}}\n",
    "\\end{equation}\n",
    "</span>"
   ]
  },
  {
   "cell_type": "markdown",
   "metadata": {
    "slideshow": {
     "slide_type": "slide"
    }
   },
   "source": [
    "#### Sum of the moments\n",
    "\n",
    "\n",
    "So, the moment around the point C is:\n",
    "\n",
    "<span class=\"notranslate\">\n",
    "\\begin{equation}\n",
    "\\vec{M_C} = \\vec{r_{cm/C}} \\times (-mg\\hat{\\bf{j}}) = \\left[R\\hat{\\bf{j}} + \\left(\\frac{L}{2} - R \\right)\\hat{\\bf{e_r}} \\right] \\times (-mg\\hat{\\bf{j}})\n",
    "\\end{equation}\n",
    "</span> \n",
    "\n",
    "<span class=\"notranslate\">\n",
    "\\begin{equation}\n",
    "\\vec{M_C} = mg\\left(\\frac{L}{2} - R \\right)\\sin{\\theta}\n",
    "\\end{equation}\n",
    "</span>"
   ]
  },
  {
   "cell_type": "markdown",
   "metadata": {
    "slideshow": {
     "slide_type": "slide"
    }
   },
   "source": [
    "#### Derivative of the angular momentum\n",
    "\n",
    "<span class=\"notranslate\">\n",
    "\\begin{equation}\n",
    "\\begin{array}{l l}\n",
    "\\dfrac{d\\vec{H_C}}{dt} &=& I_{zz}^{cm}\\ddot{\\theta} \\hat{\\bf{k}} + m\\vec{\\bf{r_{cm/C}}} \\times \\vec{\\bf{a_{cm}}} \\\\\n",
    "&=& \\left[mR\\hat{\\bf{j}} + m\\left(\\frac{L}{2} - R \\right)\\hat{\\bf{e_r}}\\right] \\times \\left[-R\\ddot{\\theta}\\hat{\\bf{i}} + \\left(\\frac{L}{2} - R \\right)\\ddot{\\theta}\\hat{\\bf{e_\\theta}} - \\left(\\frac{L}{2} - R \\right)\\dot{\\theta}^2\\hat{\\bf{e_r}}\\right]\n",
    "\\end{array}\n",
    "\\end{equation}\n",
    "</span> \n",
    "\n",
    "<span class=\"notranslate\">\n",
    "\\begin{equation}\n",
    "\\frac{d\\vec{H_C}}{dt} = \\left(I_{zz}^{cm}\\ddot{\\theta} + mR^2\\ddot{\\theta} + mR\\left(\\frac{L}{2} - mR \\right)\\ddot{\\theta}\\cos{\\theta} - mR\\left(\\frac{L}{2} - mR \\right)\\dot{\\theta}^2\\sin{\\theta} + mR\\ddot{\\theta}\\left(\\frac{L}{2} - R \\right)\\cos{\\theta}+m\\left(\\frac{L}{2} - R \\right)^2\\ddot{\\theta}\\right)\\hat{\\bf{k}} = \\left(I_{zz}^{cm}\\ddot{\\theta}+mR^2\\ddot{\\theta} + 2mR\\left(\\frac{L}{2} - R \\right)\\ddot{\\theta}\\cos{\\theta} - mR\\left(\\frac{L}{2} - R \\right)\\dot{\\theta}^2\\sin{\\theta} + m\\left(\\frac{L}{2} - R \\right)^2\\ddot{\\theta}\\right)\\hat{\\bf{k}} = \\left(I_{zz}^{cm}\\ddot{\\theta} + mR^2\\ddot{\\theta} + m\\left(RL - 2R^2 \\right)\\ddot{\\theta}\\cos{\\theta} - m\\left(\\frac{RL}{2} - R^2 \\right)\\dot{\\theta}^2\\sin{\\theta} + m\\left(\\frac{L^2}{4} - LR + R^2 \\right)\\ddot{\\theta}\\right)\\hat{\\bf{k}}\n",
    "\\end{equation}\n",
    "</span> \n",
    "\n",
    "<span class=\"notranslate\">\n",
    "\\begin{equation}\n",
    "\\frac{d\\vec{H_C}}{dt} = \\left(I_{zz}^{cm}+2mR^2 + mRL\\cos{\\theta} - 2mR^2\\cos{\\theta} + m\\frac{L^2}{4}-mLR\\right)\\ddot{\\theta} - m\\left(\\frac{RL}{2} - R^2 \\right)\\dot{\\theta}^2\\sin{\\theta}\n",
    "\\end{equation}\n",
    "</span>\n",
    "\n",
    "Considering the moment of inertia of the bar as <span class=\"notranslate\">$I_{zz}^{cm} = \\frac{mL^2}{12}$</span>:\n",
    "\n",
    "<span class=\"notranslate\">\n",
    "\\begin{equation}\n",
    "\\frac{d\\vec{H_C}}{dt} = \\left(\\frac{mL^2}{12}+2mR^2 + mRL\\cos{\\theta} - 2mR^2\\cos{\\theta} + \\frac{mL^2}{4}-mLR\\right)\\ddot{\\theta} - m\\left(\\frac{RL}{2} - R^2 \\right)\\dot{\\theta}^2\\sin{\\theta}\n",
    "\\end{equation}\n",
    "</span> \n",
    "\n",
    "<span class=\"notranslate\">\n",
    "\\begin{equation}\n",
    "\\frac{d\\vec{H_C}}{dt} = \\left(\\frac{mL^2}{3}+(2mR^2- mRL)(1-\\cos{\\theta})\\right)\\ddot{\\theta} - m\\left(\\frac{RL}{2} - R^2 \\right)\\dot{\\theta}^2\\sin{\\theta}\n",
    "\\end{equation}\n",
    "</span>"
   ]
  },
  {
   "cell_type": "markdown",
   "metadata": {
    "slideshow": {
     "slide_type": "slide"
    }
   },
   "source": [
    "#### The equation of motion\n",
    "\n",
    "By the second Newton-Euler law:\n",
    "\n",
    "<span class=\"notranslate\">\n",
    "\\begin{equation}\n",
    "\\left(2mL^2+(12mR^2- 6mRL)(1-\\cos{\\theta})\\right)\\ddot{\\theta} - m\\left(3RL - 6R^2 \\right)\\dot{\\theta}^2\\sin{\\theta} = mg\\left(3L - 6R \\right)\\sin{\\theta}\n",
    "\\end{equation}\n",
    "</span> \n",
    "\n",
    "<span class=\"notranslate\">\n",
    "\\begin{equation}\n",
    "\\left(2L^2+(12R^2- 6RL)(1-\\cos{\\theta})\\right)\\ddot{\\theta} = g\\left(3L - 6R \\right)\\sin{\\theta} + \\left(3RL - 6R^2 \\right)\\dot{\\theta}^2\\sin{\\theta}\n",
    "\\end{equation}\n",
    "</span> \n",
    "\n",
    "<span class=\"notranslate\">    \n",
    "\\begin{equation}\n",
    "\\ddot{\\theta} = \\frac{3\\left(L - 2R \\right)\\sin{\\theta}\\left(g + R\\dot{\\theta}^2\\right)}{2L^2+(12R^2- 6RL)(1-\\cos{\\theta})}\n",
    "\\end{equation}\n",
    "</span>\n"
   ]
  },
  {
   "cell_type": "markdown",
   "metadata": {
    "slideshow": {
     "slide_type": "slide"
    }
   },
   "source": [
    "### Double pendulum with actuators\n",
    "\n",
    "The figure below shows a  double pendulum. This model can represent, for example, the arm and forearm of a subject.\n",
    "\n",
    "<figure><img src=\"../images/doublePendulum.png\" width=350 /></figure>"
   ]
  },
  {
   "cell_type": "markdown",
   "metadata": {
    "slideshow": {
     "slide_type": "slide"
    }
   },
   "source": [
    "#### Free-body diagram\n",
    "\n",
    "The free-body diagrams of both bars are depicted below. There are constraint  forces at all joints and moments from the muscles from both joints. \n",
    "    \n",
    "<figure><img src=\"../images/doublePendulumFBD.png\" width=700 /></figure>"
   ]
  },
  {
   "cell_type": "markdown",
   "metadata": {
    "slideshow": {
     "slide_type": "slide"
    }
   },
   "source": [
    "#### Definition of versors\n",
    "\n",
    "The versors <span class=\"notranslate\">$\\hat{\\bf{e_{R_1}}}$, $\\hat{\\bf{e_{R_2}}}$, $\\hat{\\bf{e_{\\theta_1}}}$</span> and <span class=\"notranslate\">$\\hat{\\bf{e_{\\theta_2}}}$</span> are defined as:\n",
    "\n",
    "<span class=\"notranslate\">\n",
    "\\begin{equation}\n",
    "    \\hat{\\bf{e_{R_1}}} = \\sin(\\theta_1) \\hat{\\bf{i}} - \\cos(\\theta_1) \\hat{\\bf{j}} \n",
    "\\end{equation}\n",
    "</span> \n",
    "\n",
    "<span class=\"notranslate\">\n",
    "\\begin{equation}\n",
    "    \\hat{\\bf{e_{\\theta_1}}} = \\cos(\\theta_1) \\hat{\\bf{i}} + \\sin(\\theta_1) \\hat{\\bf{j}} \n",
    "\\end{equation}\n",
    "</span> \n",
    "\n",
    "<span class=\"notranslate\">\n",
    "\\begin{equation}\n",
    "    \\hat{\\bf{e_{R_2}}} = \\sin(\\theta_2) \\hat{\\bf{i}} - \\cos(\\theta_2) \\hat{\\bf{j}} \n",
    "\\end{equation}\n",
    "</span> \n",
    "\n",
    "<span class=\"notranslate\">\n",
    "\\begin{equation}\n",
    "    \\hat{\\bf{e_{\\theta_2}}} = \\cos(\\theta_2) \\hat{\\bf{i}} + \\sin(\\theta_2) \\hat{\\bf{j}} \n",
    "\\end{equation}\n",
    "</span>"
   ]
  },
  {
   "cell_type": "markdown",
   "metadata": {},
   "source": [
    "#### Kinematics\n",
    "\n",
    "<span class=\"notranslate\">\n",
    "\\begin{equation}\n",
    "    \\vec{r_{C1/O1}} = \\frac{l_1}{2}  \\hat{\\bf{e_{R_1}}}\n",
    "\\end{equation}\n",
    "</span> \n",
    "\n",
    "<span class=\"notranslate\">\n",
    "\\begin{equation}\n",
    "    \\vec{r_{O2/O1}} = l_1\\hat{\\bf{e_{R_1}}}\n",
    "\\end{equation}\n",
    "</span> \n",
    "\n",
    "<span class=\"notranslate\">\n",
    "\\begin{equation}\n",
    "    \\vec{r_{C1}} = \\vec{r_{C1/O1}} = \\frac{l_1}{2}  \\hat{\\bf{e_{R_1}}}\n",
    "\\end{equation}\n",
    "</span> \n",
    "\n",
    "<span class=\"notranslate\">\n",
    "\\begin{equation}\n",
    "    \\vec{v_{C1}} = \\frac{l_1}{2}\\frac{d\\theta_1}{dt}\\hat{\\bf{e_{\\theta_1}}}\n",
    "\\end{equation}\n",
    "</span> \n",
    "\n",
    "<span class=\"notranslate\">\n",
    "\\begin{equation}\n",
    "    \\vec{a_{C1}} = -\\frac{l_1}{2}\\left(\\frac{d\\theta_1}{dt}\\right)^2 \\hat{\\bf{e_{R_1}}} + \\frac{l_1}{2}\\frac{d^2\\theta_1}{dt^2} \\hat{\\bf{e_{\\theta_1}}}\n",
    "\\end{equation}\n",
    "</span> \n",
    "\n",
    "<span class=\"notranslate\">\n",
    "\\begin{equation}\n",
    "\\vec{r_{C2/O2}} = \\frac{l_2}{2}\\hat{\\bf{e_{R_2}}} \n",
    "\\end{equation}\n",
    "</span> \n",
    "\n",
    "<span class=\"notranslate\">\n",
    "\\begin{equation}\n",
    "\\vec{r_{C2}} = \\vec{r_{O2/O1}} + \\vec{r_{C2/O2}} =  l_1\\hat{\\bf{e_{R_1}}} + \\frac{l_2}{2}\\hat{\\bf{e_{R_2}}} \n",
    "\\end{equation}\n",
    "</span> \n",
    "\n",
    "<span class=\"notranslate\">\n",
    "\\begin{equation}\n",
    "\\vec{v_{C2}} = l_1\\frac{d\\theta_1}{dt}\\hat{\\bf{e_{\\theta_1}}} + \\frac{l_2}{2}\\frac{d\\theta_1}{dt}\\hat{\\bf{e_{\\theta_2}}} \n",
    "\\end{equation}\n",
    "</span> \n",
    "\n",
    "<span class=\"notranslate\">\n",
    "\\begin{equation}\n",
    "\\vec{a_{C2}} = -l_1\\left(\\frac{d\\theta_1}{dt}\\right)^2 \\hat{\\bf{e_{R_1}}} + l_1\\frac{d^2\\theta_1}{dt^2} \\hat{\\bf{e_{\\theta_1}}} -\\frac{l_2}{2}\\left(\\frac{d\\theta_2}{dt}\\right)^2 \\hat{\\bf{e_{R_2}}} + \\frac{l_2}{2}\\frac{d^2\\theta_2}{dt^2} \\hat{\\bf{e_{\\theta_2}}}\n",
    "\\end{equation}\n",
    "</span>"
   ]
  },
  {
   "cell_type": "markdown",
   "metadata": {
    "slideshow": {
     "slide_type": "slide"
    }
   },
   "source": [
    "#### Sum of the moments of the lower bar around O2\n",
    "\n",
    "First, we can analyze the the sum of the moments and the derivative of the angular momentum at the lower bar relative to the point O2.\n",
    "\n",
    "<span class=\"notranslate\">\n",
    "\\begin{equation}\n",
    "    \\vec{M_{O2}} = \\vec{r_{C2/O2}} \\times (-m_2g\\hat{\\bf{j}}) + \\vec{M_{12}} =  \\frac{l_2}{2}   \\hat{\\bf{e_{R_2}}} \\times (-m_2g\\hat{\\bf{j}}) + \\vec{M_{12}} = -\\frac{m_2gl_2}{2}\\sin(\\theta_2)\\hat{\\bf{k}} + \\vec{M_{12}}\n",
    "\\end{equation}\n",
    "</span>"
   ]
  },
  {
   "cell_type": "markdown",
   "metadata": {
    "slideshow": {
     "slide_type": "slide"
    }
   },
   "source": [
    "#### Derivative of angular momentum of the lower bar around O2\n",
    "\n",
    "<span class=\"notranslate\">\n",
    "\\begin{equation}\n",
    "    \\frac{d\\vec{H_{O2}}}{dt} = I_{zz}^{C2} \\frac{d^2\\theta_2}{dt^2} + m_2 \\vec{r_{C2/O2}} \\times \\vec{a_{C2}} = I_{zz}^{C2} \\frac{d^2\\theta_2}{dt^2} + m_2 \\frac{l_2}{2}  \\hat{\\bf{e_{R_2}}} \\times \\left[-l_1\\left(\\frac{d\\theta_1}{dt}\\right)^2 \\hat{\\bf{e_{R_1}}} + l_1\\frac{d^2\\theta_1}{dt^2} \\hat{\\bf{e_{\\theta_1}}} -\\frac{l_2}{2}\\left(\\frac{d\\theta_2}{dt}\\right)^2 \\hat{\\bf{e_{R_2}}} + \\frac{l_2}{2}\\frac{d^2\\theta_2}{dt^2} \\hat{\\bf{e_{\\theta_2}}}\\right] \n",
    "\\end{equation}\n",
    "</span>\n",
    "\n",
    "To complete the computation of the derivative of the angular momentum we must find the products <span class=\"notranslate\">\n",
    "$\\hat{\\bf{e_{R_2}}} \\times \\hat{\\bf{e_{R_1}}} $,  $\\hat{\\bf{e_{R_2}}} \\times \\hat{\\bf{e_{\\theta_1}}}$</span> and <span class=\"notranslate\">\n",
    "$\\hat{\\bf{e_{R_1}}} \\times \\hat{\\bf{e_{\\theta_2}}}$</span>:\n",
    "\n",
    "<span class=\"notranslate\">\n",
    "\\begin{equation}\n",
    "    \\hat{\\bf{e_{R_2}}} \\times \\hat{\\bf{e_{\\theta_1}}} = \\left[\\begin{array}{c}\\sin(\\theta_2)\\\\-\\cos(\\theta_2)\\end{array}\\right] \\times \\left[\\begin{array}{c}\\cos(\\theta_1)\\\\\\sin(\\theta_1)\\end{array}\\right] = \\sin(\\theta_1)\\sin(\\theta_2)+\\cos(\\theta_1)\\cos(\\theta_2) = \\cos(\\theta_1-\\theta_2)\n",
    "\\end{equation}\n",
    "</span>\n",
    "\n",
    "<span class=\"notranslate\">\n",
    "\\begin{equation}\n",
    "    \\hat{\\bf{e_{R_2}}} \\times \\hat{\\bf{e_{R_1}}} = \\left[\\begin{array}{c}\\sin(\\theta_2)\\\\-\\cos(\\theta_2)\\end{array}\\right] \\times \\left[\\begin{array}{c}\\sin(\\theta_1)\\\\-\\cos(\\theta_1)\\end{array}\\right] = -\\sin(\\theta_2)\\cos(\\theta_1)+\\cos(\\theta_2)\\sin(\\theta_1) = \\sin(\\theta_1-\\theta_2)\n",
    "\\end{equation}\n",
    "</span>\n",
    "\n",
    "<span class=\"notranslate\">\n",
    "\\begin{equation}\n",
    "    \\hat{\\bf{e_{R_1}}} \\times \\hat{\\bf{e_{\\theta_2}}} =\\left[\\begin{array}{c}\\sin(\\theta_1)\\\\-\\cos(\\theta_1)\\end{array}\\right] \\times \\left[\\begin{array}{c}\\cos(\\theta_2)\\\\\\sin(\\theta_2)\\end{array}\\right] = \\sin(\\theta_2)\\sin(\\theta_1)+\\cos(\\theta_2)\\cos(\\theta_1) = \\cos(\\theta_1-\\theta_2)\n",
    "\\end{equation}\n",
    "</span>\n",
    "    \n",
    "So, the derivative of the angular momentum is:\n",
    "\n",
    "<span class=\"notranslate\">\n",
    "\\begin{align}\n",
    "\\begin{split}\n",
    "    \\frac{d\\vec{H_{O2}}}{dt} &=  I_{zz}^{C2} \\frac{d^2\\theta_2}{dt^2} - \\frac{m_2l_1l_2}{2}\\left(\\frac{d\\theta_1}{dt}\\right)^2 \\sin(\\theta_1-\\theta_2) + \\frac{m_2l_1l_2}{2}\\frac{d^2\\theta_1}{dt^2} \\cos(\\theta_1-\\theta_2) + \\frac{m_2l_2^2}{4}\\frac{d^2\\theta_2}{dt^2} \\\\\n",
    "    &=  \\frac{m_2l_1l_2}{2}\\cos(\\theta_1-\\theta_2)\\frac{d^2\\theta_1}{dt^2} + \\left(I_{zz}^{C2} + \\frac{m_2l_2^2}{4} \\right)\\frac{d^2\\theta_2}{dt^2}- \\frac{m_2l_1l_2}{2}\\left(\\frac{d\\theta_1}{dt}\\right)^2 \\sin(\\theta_1-\\theta_2) \n",
    "    \\end{split}\n",
    "\\end{align}\n",
    "</span>"
   ]
  },
  {
   "cell_type": "markdown",
   "metadata": {
    "slideshow": {
     "slide_type": "slide"
    }
   },
   "source": [
    "#### Sum of moments of the upper bar around O1\n",
    "\n",
    "Now we can analyze the sum of the moments and the derivative of the angular momentum at the upper bar. They will be computed relative to the point O1. \n",
    "\n",
    "<span class=\"notranslate\">\n",
    "\\begin{equation}\\begin{array}{l l}\n",
    "\\vec{M_{O1}} &=& \\vec{r_{C1/O1}} \\times (-m_1g\\hat{\\bf{j}}) + \\vec{r_{O2/O1}} \\times (-\\vec{F_{12}}) + \\vec{M_{1}} - \\vec{M_{12}} \\\\\n",
    "&=& \\frac{l_1}{2}  \\hat{\\bf{e_{R_1}}}  \\times (-m_1g\\hat{\\bf{j}}) + l_1\\hat{\\bf{e_{R_1}}} \\times (-\\vec{F_{12}}) + \\vec{M_{1}} - \\vec{M_{12}}\n",
    "\\end{array}\\end{equation}\n",
    "</span>\n",
    "\n",
    "<span class=\"notranslate\">\n",
    "\\begin{equation}\n",
    "\\vec{M_{O1}}= \\frac{-m_1gl_1}{2}\\sin(\\theta_1)\\hat{\\bf{k}} + l_1\\hat{\\bf{e_{R_1}}} \\times (-\\vec{F_{12}}) + \\vec{M_{1}} - \\vec{M_{12}}\n",
    "\\end{equation}\n",
    "</span>\n",
    "\n",
    "It remains to find the force <span class=\"notranslate\">\n",
    "$\\vec{F_{12}}$</span> that is in the sum of moment of the upper bar. It can be found by finding the resultant force in the lower bar and use the First Newton-Euler law:\n",
    "\n",
    "<span class=\"notranslate\">\n",
    "\\begin{equation}\n",
    "    \\vec{F_{12}} - m_2g \\hat{\\bf{j}} = m\\vec{a_{C2}}\n",
    "\\end{equation}\n",
    "</span>\n",
    "\n",
    "<span class=\"notranslate\">\n",
    "\\begin{equation}\n",
    "\\vec{F_{12}}  =  m_2g \\hat{\\bf{j}}  + m_2\\left[-l_1\\left(\\frac{d\\theta_1}{dt}\\right)^2 \\hat{\\bf{e_{R_1}}} + l_1\\frac{d^2\\theta_1}{dt^2} \\hat{\\bf{e_{\\theta_1}}} -\\frac{l_2}{2}\\left(\\frac{d\\theta_2}{dt}\\right)^2 \\hat{\\bf{e_{R_2}}} + \\frac{l_2}{2}\\frac{d^2\\theta_2}{dt^2} \\hat{\\bf{e_{\\theta_2}}}\\right] \n",
    "\\end{equation}\n",
    "</span>\n",
    "\n",
    "Now, we can go back to the moment <span class=\"notranslate\">$\\vec{M_{O1}}$</span>:\n",
    "\n",
    "<span class=\"notranslate\">\n",
    "\\begin{align}\n",
    "    \\begin{split}\n",
    "    \\vec{M_{O1}} &= \\frac{-m_1gl_1}{2}\\sin(\\theta_1)\\hat{\\bf{k}} + l_1\\hat{\\bf{e_{R_1}}} \\times (-\\vec{\\bf{F_{12}}}) + \\vec{M_{1}} - \\vec{M_{12}} \\\\\n",
    "    &= -\\frac{m_1gl_1}{2}\\sin(\\theta_1)\\hat{\\bf{k}} - l_1\\hat{\\bf{e_{R_1}}} \\times   m_2\\left[g \\hat{\\bf{j}}-l_1\\left(\\frac{d\\theta_1}{dt}\\right)^2 \\hat{\\bf{e_{R_1}}} + l_1\\frac{d^2\\theta_1}{dt^2} \\hat{\\bf{e_{\\theta_1}}} -\\frac{l_2}{2}\\left(\\frac{d\\theta_2}{dt}\\right)^2 \\hat{\\bf{e_{R_2}}} + \\frac{l_2}{2}\\frac{d^2\\theta_2}{dt^2} \\hat{\\bf{e_{\\theta_2}}}\\right]  + \\vec{M_{1}} - \\vec{M_{12}} \\\\\n",
    "    &= -\\frac{m_1gl_1}{2}\\sin(\\theta_1)\\hat{\\bf{k}} - m_2l_1g \\sin(\\theta_1)\\hat{\\bf{k}}  - m_2l_1^2\\frac{d^2\\theta_1}{dt^2}\\hat{\\bf{k}}  + \\frac{m_2l_1l_2}{2}\\left(\\frac{d\\theta_2}{dt}\\right)^2 \\sin(\\theta_1-\\theta_2)\\hat{\\bf{k}}  - \\frac{m_2l_1l_2}{2}\\frac{d^2\\theta_2}{dt^2} \\cos(\\theta_1-\\theta_2)\\hat{\\bf{k}}  + M_1\\hat{\\bf{k}}  - M_{12}\\hat{\\bf{k}} \n",
    "    \\end{split}\n",
    "\\end{align}\n",
    "</span>"
   ]
  },
  {
   "cell_type": "markdown",
   "metadata": {
    "slideshow": {
     "slide_type": "slide"
    }
   },
   "source": [
    "#### Derivative of angular momentum of the upper bar around O1\n",
    "\n",
    "<span class=\"notranslate\">\n",
    "\\begin{equation}\n",
    "\\begin{array}{l l}\n",
    "\\frac{d\\vec{H_{O1}}}{dt} &=& I_{zz}^{C1} \\frac{d^2\\theta_1}{dt^2} + m_1 \\vec{r_{C1/O1}} \\times \\vec{a_{C1}} \\\\\n",
    "&=& I_{zz}^{C1} \\frac{d^2\\theta_1}{dt^2} + m_1 \\frac{l_1}{2} \\hat{\\bf{e_{R_1}}} \\times \\left[-\\frac{l_1}{2}\\left(\\frac{d\\theta_1}{dt}\\right)^2 \\hat{\\bf{e_{R_1}}} + \\frac{l_1}{2}\\frac{d^2\\theta_1}{dt^2} \\hat{\\bf{e_{\\theta_1}}}\\right]\n",
    "\\end{array}\n",
    "\\end{equation}\n",
    "</span>\n",
    "\n",
    "<span class=\"notranslate\">\n",
    "\\begin{equation}\n",
    "\\frac{d\\vec{H_{O1}}}{dt} =\\left( I_{zz}^{C1}  + m_1 \\frac{l_1^2}{4}\\right)\\frac{d^2\\theta_1}{dt^2}\n",
    "\\end{equation}\n",
    "</span>"
   ]
  },
  {
   "cell_type": "markdown",
   "metadata": {
    "slideshow": {
     "slide_type": "slide"
    }
   },
   "source": [
    "#### The equations of motion\n",
    "\n",
    "Finally, using the second Newton-Euler law for both bars, we can find the equation of motion of both angles:\n",
    "\n",
    "<span class=\"notranslate\">\n",
    "\\begin{equation}\n",
    "\\begin{array}{l l}\n",
    "\\dfrac{d\\vec{H_{O1}}}{dt} &=& \\vec{M_{O1}} \\rightarrow  \\left( I_{zz}^{C1} + m_1 \\frac{l_1^2}{4}\\right)\\frac{d^2\\theta_1}{dt^2} \\\\\n",
    "&=& -\\frac{m_1gl_1}{2}\\sin(\\theta_1)- m_2l_1g \\sin(\\theta_1) - m_2l_1^2\\frac{d^2\\theta_1}{dt^2}  + \\frac{m_2l_1l_2}{2}\\left(\\frac{d\\theta_2}{dt}\\right)^2 \\sin(\\theta_1-\\theta_2) - \\frac{m_2l_1l_2}{2}\\frac{d^2\\theta_2}{dt^2} \\cos{(\\theta_1-\\theta_2)} + M_1 - M_{12} \n",
    "\\end{array}\n",
    "\\end{equation}\n",
    "</span>\n",
    "\n",
    "<span class=\"notranslate\">\n",
    "\\begin{equation}\n",
    "\\begin{array}{l l}\n",
    "\\dfrac{d\\vec{H_{O2}}}{dt} &=& \\vec{M_{O2}} \\rightarrow \\frac{m_2l_1l_2}{2}\\cos(\\theta_1-\\theta_2)\\frac{d^2\\theta_1}{dt^2} + \\left(I_{zz}^{C2} + \\frac{m_2l_2^2}{4} \\right)\\frac{d^2\\theta_2}{dt^2}- \\frac{m_2l_1l_2}{2}\\left(\\frac{d\\theta_1}{dt}\\right)^2 \\sin(\\theta_1-\\theta_2) \\\\\n",
    "&=& -\\frac{m_2gl_2}{2}\\sin(\\theta_2) + M_{12}\n",
    "\\end{array}\\end{equation}\n",
    "</span>\n",
    "\n",
    "Considering the moment of inertia of the bars as $I_{zz}^{C1}=\\frac{m_1l_1^2}{12}$ and $I_{zz}^{C2}=\\frac{m_2l_2^2}{12}$ the differential equations above are:\n",
    "\n",
    "<span class=\"notranslate\">\n",
    "\\begin{equation}\n",
    "\\left(\\dfrac{m_1l_1^2}{3} +m_2l_1^2\\right)\\frac{d^2\\theta_1}{dt^2} + \\frac{m_2l_1l_2}{2} \\cos{(\\theta_1-\\theta_2)\\frac{d^2\\theta_2}{dt^2}}  =  -\\frac{m_1gl_1}{2}\\sin(\\theta_1)- m_2l_1g \\sin(\\theta_1)   + \\frac{m_2l_1l_2}{2}\\left(\\frac{d\\theta_2}{dt}\\right)^2 \\sin(\\theta_1-\\theta_2)  + M_1 - M_{12} \n",
    "\\end{equation}\n",
    "</span>\n",
    "    \n",
    "<span class=\"notranslate\">\n",
    "\\begin{equation}\n",
    "\\dfrac{m_2l_1l_2}{2}\\cos(\\theta_1-\\theta_2)\\frac{d^2\\theta_1}{dt^2} + \\frac{m_2l_2^2}{3}\\frac{d^2\\theta_2}{dt^2} = -\\frac{m_2gl_2}{2}\\sin(\\theta_2) + \\frac{m_2l_1l_2}{2}\\left(\\frac{d\\theta_1}{dt}\\right)^2 \\sin(\\theta_1-\\theta_2)+ M_{12} \n",
    "\\end{equation}\n",
    "</span>\n",
    "    \n",
    "We could isolate the angular accelerations but this would lead to very long equations."
   ]
  },
  {
   "cell_type": "markdown",
   "metadata": {
    "slideshow": {
     "slide_type": "slide"
    }
   },
   "source": [
    "## Problems\n",
    "\n",
    "1. Solve the problems 6, 7 and 8 from [this Notebook](FreeBodyDiagram.ipynb).  \n",
    "2. Solve the problems 17.2.9, 19.3.26, 19.3.29 from Ruina and Pratap book.  \n",
    "3. Study the content and solve the exercises of the text [Forces and Torques in Muscles and Joints](http://cnx.org/contents/d703853c-6382-4035-8d6a-dcbca00a15ca/Forces_and_Torques_in_Muscles_) (or [download here an off-line HTML copy of the content of that website](https://github.com/BMClab/BMC/blob/master/refs/forces-and-torques-in-muscles-and-joints-14.zip?raw=true))."
   ]
  },
  {
   "cell_type": "markdown",
   "metadata": {
    "slideshow": {
     "slide_type": "slide"
    }
   },
   "source": [
    "## References\n",
    "\n",
    "- Ruina A., Rudra P. (2019) [Introduction to Statics and Dynamics](http://ruina.tam.cornell.edu/Book/index.html). Oxford University Press. \n",
    "\n",
    "- Duarte M. (2017) [Free body diagram](FreeBodyDiagram.ipynb)\n",
    "\n",
    "- Elias, L A, Watanabe, R N, Kohn, A F.(2014) [Spinal Mechanisms May Provide a Combination of Intermittent and Continuous Control of Human Posture: Predictions from a Biologically Based Neuromusculoskeletal Model.](http://dx.doi.org/10.1371/journal.pcbi.1003944) PLOS Computational Biology (Online)\n",
    "\n",
    "- Winter D. A., (2009) Biomechanics and motor control of human movement. John Wiley and Sons.\n",
    "\n",
    "- Duarte M. (2017) [The inverted pendulum model of the human standing](http://nbviewer.jupyter.org/github/demotu/BMC/blob/master/notebooks/IP_Model.ipynb)"
   ]
  }
 ],
 "metadata": {
  "hide_input": false,
  "kernelspec": {
   "display_name": "Python 3",
   "language": "python",
   "name": "python3"
  },
  "language_info": {
   "codemirror_mode": {
    "name": "ipython",
    "version": 3
   },
   "file_extension": ".py",
   "mimetype": "text/x-python",
   "name": "python",
   "nbconvert_exporter": "python",
   "pygments_lexer": "ipython3",
   "version": "3.6.10"
  },
  "latex_envs": {
   "LaTeX_envs_menu_present": true,
   "autoclose": false,
   "autocomplete": true,
   "bibliofile": "biblio.bib",
   "cite_by": "apalike",
   "current_citInitial": 1,
   "eqLabelWithNumbers": true,
   "eqNumInitial": 1,
   "hotkeys": {
    "equation": "Ctrl-E",
    "itemize": "Ctrl-I"
   },
   "labels_anchors": false,
   "latex_user_defs": false,
   "report_style_numbering": false,
   "user_envs_cfg": false
  },
  "nbTranslate": {
   "displayLangs": [
    "*"
   ],
   "hotkey": "alt-t",
   "langInMainMenu": true,
   "sourceLang": "en",
   "targetLang": "pt",
   "useGoogleTranslate": true
  },
  "toc": {
   "base_numbering": 1,
   "nav_menu": {},
   "number_sections": true,
   "sideBar": true,
   "skip_h1_title": true,
   "title_cell": "Table of Contents",
   "title_sidebar": "Contents",
   "toc_cell": true,
   "toc_position": {
    "height": "408px",
    "left": "473px",
    "top": "184px",
    "width": "212px"
   },
   "toc_section_display": true,
   "toc_window_display": false
  },
  "varInspector": {
   "cols": {
    "lenName": 16,
    "lenType": 16,
    "lenVar": 40
   },
   "kernels_config": {
    "python": {
     "delete_cmd_postfix": "",
     "delete_cmd_prefix": "del ",
     "library": "var_list.py",
     "varRefreshCmd": "print(var_dic_list())"
    },
    "r": {
     "delete_cmd_postfix": ") ",
     "delete_cmd_prefix": "rm(",
     "library": "var_list.r",
     "varRefreshCmd": "cat(var_dic_list()) "
    }
   },
   "types_to_exclude": [
    "module",
    "function",
    "builtin_function_or_method",
    "instance",
    "_Feature"
   ],
   "window_display": false
  }
 },
 "nbformat": 4,
 "nbformat_minor": 2
}
