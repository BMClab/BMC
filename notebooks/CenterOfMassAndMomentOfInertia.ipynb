{
 "cells": [
  {
   "cell_type": "markdown",
   "metadata": {
    "lang": "en"
   },
   "source": [
    "# Center of Mass and Moment of Inertia\n",
    "\n",
    "> Renato Naville Watanabe, Marcos Duarte  \n",
    "> [Laboratory of Biomechanics and Motor Control](http://pesquisa.ufabc.edu.br/bmclab/)  \n",
    "> Federal University of ABC, Brazil"
   ]
  },
  {
   "cell_type": "markdown",
   "metadata": {
    "toc": 1
   },
   "source": [
    "<h1>Contents<span class=\"tocSkip\"></span></h1>\n",
    "<div class=\"toc\"><ul class=\"toc-item\"><li><span><a href=\"#Center-of-mass\" data-toc-modified-id=\"Center-of-mass-1\"><span class=\"toc-item-num\">1&nbsp;&nbsp;</span>Center of mass</a></span><ul class=\"toc-item\"><li><span><a href=\"#Set-of-particles\" data-toc-modified-id=\"Set-of-particles-1.1\"><span class=\"toc-item-num\">1.1&nbsp;&nbsp;</span>Set of particles</a></span><ul class=\"toc-item\"><li><span><a href=\"#Example:-Two-particles\" data-toc-modified-id=\"Example:-Two-particles-1.1.1\"><span class=\"toc-item-num\">1.1.1&nbsp;&nbsp;</span>Example: Two particles</a></span></li></ul></li><li><span><a href=\"#Rigid-body\" data-toc-modified-id=\"Rigid-body-1.2\"><span class=\"toc-item-num\">1.2&nbsp;&nbsp;</span>Rigid body</a></span><ul class=\"toc-item\"><li><span><a href=\"#Example:-Bar\" data-toc-modified-id=\"Example:-Bar-1.2.1\"><span class=\"toc-item-num\">1.2.1&nbsp;&nbsp;</span>Example: Bar</a></span></li><li><span><a href=\"#Example:-Triangle\" data-toc-modified-id=\"Example:-Triangle-1.2.2\"><span class=\"toc-item-num\">1.2.2&nbsp;&nbsp;</span>Example: Triangle</a></span></li></ul></li><li><span><a href=\"#Center-of-mass-of-a-complex-system\" data-toc-modified-id=\"Center-of-mass-of-a-complex-system-1.3\"><span class=\"toc-item-num\">1.3&nbsp;&nbsp;</span>Center of mass of a complex system</a></span><ul class=\"toc-item\"><li><span><a href=\"#Example:-Three-bars\" data-toc-modified-id=\"Example:-Three-bars-1.3.1\"><span class=\"toc-item-num\">1.3.1&nbsp;&nbsp;</span>Example: Three bars</a></span></li></ul></li></ul></li><li><span><a href=\"#Center-of-gravity\" data-toc-modified-id=\"Center-of-gravity-2\"><span class=\"toc-item-num\">2&nbsp;&nbsp;</span>Center of gravity</a></span></li><li><span><a href=\"#Geometric-center\" data-toc-modified-id=\"Geometric-center-3\"><span class=\"toc-item-num\">3&nbsp;&nbsp;</span>Geometric center</a></span></li><li><span><a href=\"#Center-of-buoyancy\" data-toc-modified-id=\"Center-of-buoyancy-4\"><span class=\"toc-item-num\">4&nbsp;&nbsp;</span>Center of buoyancy</a></span></li><li><span><a href=\"#Moment-of-inertia\" data-toc-modified-id=\"Moment-of-inertia-5\"><span class=\"toc-item-num\">5&nbsp;&nbsp;</span>Moment of inertia</a></span><ul class=\"toc-item\"><li><span><a href=\"#Set-of-particles\" data-toc-modified-id=\"Set-of-particles-5.1\"><span class=\"toc-item-num\">5.1&nbsp;&nbsp;</span>Set of particles</a></span></li><li><span><a href=\"#Rigid-body\" data-toc-modified-id=\"Rigid-body-5.2\"><span class=\"toc-item-num\">5.2&nbsp;&nbsp;</span>Rigid body</a></span><ul class=\"toc-item\"><li><span><a href=\"#Example:-Bar\" data-toc-modified-id=\"Example:-Bar-5.2.1\"><span class=\"toc-item-num\">5.2.1&nbsp;&nbsp;</span>Example: Bar</a></span></li></ul></li><li><span><a href=\"#Radius-of-gyration\" data-toc-modified-id=\"Radius-of-gyration-5.3\"><span class=\"toc-item-num\">5.3&nbsp;&nbsp;</span>Radius of gyration</a></span><ul class=\"toc-item\"><li><span><a href=\"#Example:-Bar\" data-toc-modified-id=\"Example:-Bar-5.3.1\"><span class=\"toc-item-num\">5.3.1&nbsp;&nbsp;</span>Example: Bar</a></span></li></ul></li><li><span><a href=\"#Parallel-axis-theorem\" data-toc-modified-id=\"Parallel-axis-theorem-5.4\"><span class=\"toc-item-num\">5.4&nbsp;&nbsp;</span>Parallel axis theorem</a></span><ul class=\"toc-item\"><li><span><a href=\"#Example:-Bar\" data-toc-modified-id=\"Example:-Bar-5.4.1\"><span class=\"toc-item-num\">5.4.1&nbsp;&nbsp;</span>Example: Bar</a></span></li></ul></li><li><span><a href=\"#Moment-of-inertia-of-a-complex-system\" data-toc-modified-id=\"Moment-of-inertia-of-a-complex-system-5.5\"><span class=\"toc-item-num\">5.5&nbsp;&nbsp;</span>Moment of inertia of a complex system</a></span><ul class=\"toc-item\"><li><span><a href=\"#Example:-Eight-bars\" data-toc-modified-id=\"Example:-Eight-bars-5.5.1\"><span class=\"toc-item-num\">5.5.1&nbsp;&nbsp;</span>Example: Eight bars</a></span></li></ul></li><li><span><a href=\"#Matrix-of-Inertia\" data-toc-modified-id=\"Matrix-of-Inertia-5.6\"><span class=\"toc-item-num\">5.6&nbsp;&nbsp;</span>Matrix of Inertia</a></span><ul class=\"toc-item\"><li><span><a href=\"#Example:-Cylinder\" data-toc-modified-id=\"Example:-Cylinder-5.6.1\"><span class=\"toc-item-num\">5.6.1&nbsp;&nbsp;</span>Example: Cylinder</a></span></li></ul></li><li><span><a href=\"#Principal-axes\" data-toc-modified-id=\"Principal-axes-5.7\"><span class=\"toc-item-num\">5.7&nbsp;&nbsp;</span>Principal axes</a></span></li></ul></li><li><span><a href=\"#Further-reading\" data-toc-modified-id=\"Further-reading-6\"><span class=\"toc-item-num\">6&nbsp;&nbsp;</span>Further reading</a></span></li><li><span><a href=\"#Video-lectures-on-the-internet\" data-toc-modified-id=\"Video-lectures-on-the-internet-7\"><span class=\"toc-item-num\">7&nbsp;&nbsp;</span>Video lectures on the internet</a></span></li><li><span><a href=\"#Problems\" data-toc-modified-id=\"Problems-8\"><span class=\"toc-item-num\">8&nbsp;&nbsp;</span>Problems</a></span></li><li><span><a href=\"#References\" data-toc-modified-id=\"References-9\"><span class=\"toc-item-num\">9&nbsp;&nbsp;</span>References</a></span></li></ul></div>"
   ]
  },
  {
   "cell_type": "code",
   "execution_count": 1,
   "metadata": {
    "ExecuteTime": {
     "end_time": "2020-04-18T04:24:33.422334Z",
     "start_time": "2020-04-18T04:24:33.215182Z"
    }
   },
   "outputs": [],
   "source": [
    "# import the necessary libraries\n",
    "import numpy as np\n",
    "import sympy as sym\n",
    "from IPython.display import display, Math\n",
    "from sympy.vector import CoordSys3D"
   ]
  },
  {
   "cell_type": "markdown",
   "metadata": {},
   "source": [
    "Code for using LaTeX commands, see https://github.com/jupyterlab/jupyterlab/pull/5997 and https://texfaq.org/FAQ-patch.  \n",
    "\n",
    "<div hidden>\n",
    "\\renewcommand{\\require}[1]{}\n",
    "\\newcommand{\\require}[1]{}\n",
    "    \n",
    "$\\require{begingroup}\\require{renewcommand}$\n",
    "$\\gdef\\hat#1{\\widehat{\\mathbf{#1}}}$\n",
    "\n",
    "$\\require{begingroup}\\require{newcommand}$\n",
    "$\\gdef\\vecb#1{\\vec{\\bf{#1}}}$\n",
    "\n",
    "\\vskip-\\parskip\n",
    "\\vskip-\\baselineskip\n",
    "</div>\n",
    "\n",
    "Execute this cell to format a versor with a hat and bold font."
   ]
  },
  {
   "cell_type": "markdown",
   "metadata": {},
   "source": [
    "## Center of mass\n",
    "\n",
    "### Set of particles\n",
    "\n",
    "The center of mass of a set of particles is defined as the point (position) where the sum of the vectors linking this point to each particle, weighted by its mass, is zero. By [mass](https://en.wikipedia.org/wiki/Mass) we mean the inertial mass, a quantitative measure of an object's resistance to linear acceleration. \n",
    "\n",
    "Consider the set of particles shown below.\n",
    "\n",
    "<figure><center><img src='./../images/cmparticles.png' width=400 alt='center of mass of particles'/></center><figcaption><center><i>Figure. The center of mass of a set of particles.</i></center></figcaption></figure>\n",
    "\n",
    "The sum of the vectors linking the center of mass to each particle is:\n",
    "\n",
    "\\begin{equation}\n",
    "\\begin{array}{l}\n",
    "\\sum\\limits_{i=1}^nm_i{\\vec{r}_{i/cm}} &= \\sum\\limits_{i=1}^nm_i\\left({\\vec{r}_i} - {\\vec{r}_{cm}}\\right) \\\\\n",
    "&= \\sum\\limits_{i=1}^nm_i{\\vec{r}_i} - \\sum\\limits_{i=1}^nm_i{\\vec{r}_{cm}} \\\\\n",
    "&= \\sum\\limits_{i=1}^nm_i{\\vec{r}_i} - {\\vec{r}_{cm}}\\sum\\limits_{i=1}^nm_i  \n",
    "\\label{}\n",
    "\\end{array}\n",
    "\\end{equation}\n",
    "\n",
    "where $n$ is the number of particles.\n",
    "\n",
    "Now, we equal this sum to zero and isolate ${\\vec{r}_{cm}}$:\n",
    "\n",
    "\\begin{equation}\n",
    "\\begin{array}{l}\n",
    "\\sum\\limits_{i=1}^nm_i{\\vec{r}_i} - {\\vec{r}_{cm}}\\sum\\limits_{i=1}^nm_i = 0 \\quad \\longrightarrow \\\\\n",
    "\\begin{aligned}\n",
    "\\vec{r}_{cm} &= \\dfrac{\\sum\\limits_{i=1}^nm_i{\\vec{r}_i}}{\\sum\\limits_{i=1}^nm_i} &\\phantom{=} \\\\\n",
    "&= \\dfrac{\\sum\\limits_{i=1}^nm_i{\\vec{r}_i}}{m_T} \n",
    "\\end{aligned}\n",
    "\\label{}\n",
    "\\end{array}\n",
    "\\end{equation}\n",
    "\n",
    "where $m_T$ is the total mass of the particles."
   ]
  },
  {
   "cell_type": "markdown",
   "metadata": {},
   "source": [
    "#### Example: Two particles\n",
    "\n",
    "Consider two particles with masses $m_1$ and $m_2$, the center of mass of the system is:\n",
    "\n",
    "\\begin{equation}\n",
    "\\begin{array}{l}\n",
    "\\vec{r}_{cm} &= \\dfrac{m_1\\vec{r}_1 + m_2\\vec{r}_2}{m_1+m_2} \\\\\n",
    "&= \\dfrac{m_1\\vec{r}_1 + m_2\\vec{r}_1 - m_2\\vec{r}_1 + m_2\\vec{r}_2}{m_1+m_2} \\\\\n",
    "&= \\dfrac{(m_1+m_2)\\vec{r}_1}{m_1+m_2} + \\dfrac{m_2(\\vec{r}_2 - \\vec{r}_1)}{m_1+m_2} \\\\\n",
    "&= \\vec{r}_1 + \\dfrac{m_2}{m_1+m_2}(\\vec{r}_2 - \\vec{r}_1)\n",
    "\\label{}\n",
    "\\end{array}\n",
    "\\end{equation}\n",
    "\n",
    "Can you guess what is the expression above if we rewrite it in relation to vector $\\vec{r}_{2}$, i.e., $\\vec{r}_{cm} = \\vec{r}_{2} + \\ldots$ ?"
   ]
  },
  {
   "cell_type": "markdown",
   "metadata": {},
   "source": [
    "### Rigid body\n",
    "\n",
    "For a rigid body, the center of mass is defined as the point where the integral of the vectors  linking this point to each differential part of mass, weighted by this differential mass, is zero. \n",
    "\n",
    "<figure><center><img src='./../images/cmbody.png' width=300 alt='center of mass of a rigid body'/></center><figcaption><center><i>Figure. The center of mass of a rigid body.</i></center></figcaption></figure>\n",
    "\n",
    "This integral is:\n",
    "\n",
    "\\begin{equation}\n",
    "\\begin{array}{l}\n",
    "\\int\\limits_{B} {\\vec{r}_{/cm}} \\mathrm d m &= \\int\\limits_{B}(\\vec{r}-\\vec{r}_{cm}) \\mathrm d m \\\\\n",
    "&= \\int\\limits_{B} {\\vec{r}}\\,\\mathrm d m - \\int\\limits_{B}{\\vec{r}_{cm}} \\mathrm d m \\\\\n",
    "&= \\int\\limits_{B} {\\vec{r}}\\,\\mathrm d m - {\\vec{r}_{cm}}\\int\\limits_{B}\\, \\mathrm d m\n",
    "\\label{}\n",
    "\\end{array}\n",
    "\\end{equation}\n",
    "\n",
    "Now we equal this integral to zero and isolate $\\vec{r}_{cm}$:\n",
    "\n",
    "\\begin{equation}\n",
    "\\begin{array}{l}\n",
    "\\int\\limits_{B} \\vec{r}\\,\\mathrm d m - \\vec{r}_{cm}\\int\\limits_{B}\\, \\mathrm d m = 0 \\longrightarrow \\\\\n",
    "\\vec{r}_{cm} = \\dfrac{\\int\\limits_{B}{\\vec{r}}\\,\\mathrm d m}{\\int\\limits_{B}\\, \\mathrm d m}  = \\dfrac{ \\int\\limits_{B} \\vec{r}\\,\\mathrm d m}{m_B}\n",
    "\\label{eq:cm}\n",
    "\\end{array}\n",
    "\\end{equation}\n",
    "\n",
    "where $m_B$ is the mass of the body."
   ]
  },
  {
   "cell_type": "markdown",
   "metadata": {},
   "source": [
    "#### Example: Bar\n",
    "\n",
    "Let's calculate the center of mass of bar shown below.\n",
    "\n",
    "<figure><center><img src='./../images/bar.png' width=200 alt='center of mass of a bar'/></center><figcaption><center><i>Figure. The center of mass of a bar.</i></center></figcaption></figure>\n",
    "\n",
    "\\begin{equation}\n",
    "\\vec{r}_{cm} = \\frac{ \\int\\limits_{B} \\vec{r}\\,\\mathrm d m}{m_B} \n",
    "\\end{equation}\n",
    "\n",
    "The mass of the bar is:\n",
    "\n",
    "\\begin{equation}\n",
    "m_b = \\rho l\n",
    "\\end{equation}\n",
    "\n",
    "The integral can be computed as:\n",
    "\n",
    "\\begin{equation}\n",
    "\\int\\limits_{B} \\vec{r}\\,\\mathrm d m = \\rho\\int\\limits_0^l x\\,\\mathrm d x =\\rho\\frac{l^2}{2}\n",
    "\\end{equation}\n",
    "\n",
    "So, the center of mass of the bar is:\n",
    "\n",
    "\\begin{equation}\n",
    "\\vec{r}_{cm} = \\dfrac{\\rho\\dfrac{l^2}{2}}{\\rho l} = \\dfrac{l}{2}\n",
    "\\end{equation}\n",
    "\n",
    "The center of mass of an homogeneous bar is in the middle of the bar.\n",
    "\n",
    "The integral above can also be solved using the Symbolic library of the Python."
   ]
  },
  {
   "cell_type": "code",
   "execution_count": 2,
   "metadata": {
    "ExecuteTime": {
     "end_time": "2020-04-18T04:24:33.425746Z",
     "start_time": "2020-04-18T04:24:33.423426Z"
    }
   },
   "outputs": [],
   "source": [
    "# Helping function\n",
    "def print2(lhs, rhs):\n",
    "    \"\"\"Rich display of Sympy expression as lhs = rhs.\"\"\"\n",
    "    display(Math(r'{} = '.format(lhs) + sym.latex(sym.simplify(rhs, ratio=1.7))))"
   ]
  },
  {
   "cell_type": "code",
   "execution_count": 3,
   "metadata": {
    "ExecuteTime": {
     "end_time": "2020-04-18T04:24:33.629585Z",
     "start_time": "2020-04-18T04:24:33.426970Z"
    }
   },
   "outputs": [
    {
     "data": {
      "text/latex": [
       "$\\displaystyle \\vec{r}_{cm} = \\frac{\\ell}{2}$"
      ],
      "text/plain": [
       "<IPython.core.display.Math object>"
      ]
     },
     "metadata": {},
     "output_type": "display_data"
    }
   ],
   "source": [
    "# define variables\n",
    "x = sym.symbols('x')\n",
    "rho, ell = sym.symbols('rho ell', positive=True)\n",
    "m = rho*ell\n",
    "# solve the integral\n",
    "rcm = rho * sym.integrate(x, (x, 0, ell))/m\n",
    "\n",
    "print2('\\\\vec{r}_{cm}', rcm)"
   ]
  },
  {
   "cell_type": "markdown",
   "metadata": {
    "lang": "en"
   },
   "source": [
    "#### Example: Triangle\n",
    "\n",
    "Now, we will compute the center of mass of the triangle shown below.\n",
    "\n",
    "<figure><center><img src='./../images/triangle.png' width=400 alt='center of mass of a triangle'/></center><figcaption><center><i>Figure. The center of mass of a bar.</i></center></figcaption></figure>\n",
    "\n",
    "The center of mass is given by Eq.(\\ref{eq:cm}):\n",
    "\n",
    "\\begin{equation}\n",
    "\\vec{r}_{cm} = \\frac{\\int_B \\vec{r}\\,\\mathrm d m}{m} \n",
    "\\end{equation}\n",
    "\n",
    "The mass of the triangle is equal:\n",
    "\n",
    "\\begin{equation}\n",
    "m = \\rho A = \\frac{\\rho bh}{2}\n",
    "\\end{equation}\n",
    "\n",
    "The integral in the triangle can be computed by separating into two parts: one part we integrate in $x$ until $p$, and the other part from $p$ to $b$. The integration in the $y$ direction will be from $0$ to $\\frac{xh}{p}$ in the first integral and from $0$ to $\\frac{(b-x)h}{b-p}$:\n",
    "\n",
    "\\begin{equation}\n",
    "\\begin{array}{l}\n",
    "\\int_B \\vec{r}\\,\\mathrm d m &= \\rho\\int\\limits_B \\vec{r}\\,\\mathrm d A \\\\\n",
    "&= \\rho\\left[\\int\\limits_0^p\\int\\limits_0^\\frac{xh}{p} (x\\hat{i} + y\\hat{j}) \\,\\mathrm d y\\mathrm d x + \\int\\limits_p^b\\int\\limits_0^\\frac{(b-x)h}{b-p} (x\\hat{i} + y\\hat{j}) \\,\\mathrm d y\\mathrm d x\\right]\n",
    "\\label{}\n",
    "\\end{array}\n",
    "\\end{equation}\n",
    "\n",
    "So, the center of mass of the triangle will be:\n",
    "\n",
    "\\begin{equation}\n",
    "\\begin{array}{l}\n",
    "\\vec{r}_{cm} &= \\dfrac{\\rho\\left[\\int\\limits_0^p\\int\\limits_0^\\frac{xh}{p} (x\\hat{i} + y\\hat{j}) \\,\\mathrm d y\\mathrm d x + \\int\\limits_p^b\\int\\limits_0^\\frac{(b-x)h}{b-p} (x\\hat{i} + y\\hat{j}) \\,\\mathrm d y\\mathrm d x\\right]}{\\dfrac{\\rho bh}{2}} \\\\\n",
    "&= \\dfrac{2\\left[\\int\\limits_0^p\\int\\limits_0^\\frac{xh}{p} (x\\hat{i} + y\\hat{j}) \\,\\mathrm d y\\mathrm d x + \\int\\limits_p^b\\int\\limits_0^\\frac{(b-x)h}{b-p} (x\\hat{i} + y\\hat{j}) \\,\\mathrm d y\\mathrm d x\\right]}{bh}\n",
    "\\label{}\n",
    "\\end{array}\n",
    "\\end{equation}\n",
    "\n",
    "The integral above will be solved using the Symbolic library of the Python."
   ]
  },
  {
   "cell_type": "code",
   "execution_count": 4,
   "metadata": {
    "ExecuteTime": {
     "end_time": "2020-04-18T04:24:33.835922Z",
     "start_time": "2020-04-18T04:24:33.630695Z"
    },
    "jupyter": {
     "outputs_hidden": true
    }
   },
   "outputs": [
    {
     "data": {
      "text/latex": [
       "$\\displaystyle x_{cm} = \\frac{b}{3} + \\frac{p}{3}$"
      ],
      "text/plain": [
       "<IPython.core.display.Math object>"
      ]
     },
     "metadata": {},
     "output_type": "display_data"
    },
    {
     "data": {
      "text/latex": [
       "$\\displaystyle y_{cm} = \\frac{h}{3}$"
      ],
      "text/plain": [
       "<IPython.core.display.Math object>"
      ]
     },
     "metadata": {},
     "output_type": "display_data"
    }
   ],
   "source": [
    "# define variables\n",
    "G = CoordSys3D('')\n",
    "x, y = sym.symbols('x, y')\n",
    "rho, h, p, b = sym.symbols('rho, h, p, b', positive=True)\n",
    "# solve the integral\n",
    "# for x\n",
    "xcm = 2*(sym.integrate(sym.integrate(x, (y, 0, x*h/p)), (x, 0, p)) + \n",
    "         sym.integrate(sym.integrate(x, (y, 0, (b-x)*h/(b-p))), (x, p, b)))/(b*h)\n",
    "# for y\n",
    "ycm = 2*(sym.integrate(sym.integrate(y, (y, 0, x*h/p)), (x, 0, p)) + \n",
    "         sym.integrate(sym.integrate(y, (y, 0, (b-x)*h/(b-p))), (x, p, b)))/(b*h)\n",
    "\n",
    "print2('x_{cm}', xcm)\n",
    "print2('y_{cm}', ycm)"
   ]
  },
  {
   "cell_type": "markdown",
   "metadata": {},
   "source": [
    "Finally, the center of mass of the triangle is:"
   ]
  },
  {
   "cell_type": "code",
   "execution_count": 5,
   "metadata": {
    "ExecuteTime": {
     "end_time": "2020-04-18T04:24:33.897858Z",
     "start_time": "2020-04-18T04:24:33.836896Z"
    }
   },
   "outputs": [
    {
     "data": {
      "text/latex": [
       "$\\displaystyle \\vec{r}_{cm} = (\\frac{b}{3} + \\frac{p}{3})\\mathbf{\\hat{i}_{}} + (\\frac{h}{3})\\mathbf{\\hat{j}_{}}$"
      ],
      "text/plain": [
       "<IPython.core.display.Math object>"
      ]
     },
     "metadata": {},
     "output_type": "display_data"
    }
   ],
   "source": [
    "print2('\\\\vec{r}_{cm}', xcm*G.i + ycm*G.j)"
   ]
  },
  {
   "cell_type": "markdown",
   "metadata": {},
   "source": [
    "### Center of mass of a complex system\n",
    "\n",
    "Now, we will consider a set of $n$ bodies. The center of mass of this set of bodies can be computed by integrating the Eq.(\\ref{eq:cm}) over all bodies:\n",
    "\n",
    "\\begin{equation}\n",
    "\\begin{array}{l}\n",
    "\\vec{r}_{cm} &= \\dfrac{ \\int\\limits_{B1,B2,\\ldots,Bn}\\vec{r}\\,\\mathrm d m}{m_{B1}+m_{B2}+ \\ldots + m_{Bn}} \\\\\n",
    "&= \\dfrac{\\int\\limits_{B1}\\vec{r}\\,\\mathrm d m+\\int\\limits_{B2}\\vec{r}\\,dm+\\ldots+\\int\\limits_{Bn}\\vec{r}\\,\\mathrm d m}{m_{B1}+m_{B2}+\\ldots+ m_{Bn}} \\\\\n",
    "&= \\dfrac{\\dfrac{\\int\\limits_{B1}\\vec{r}\\,\\mathrm d m}{m_{B1}}m_{B1} + \\dfrac{\\int\\limits_{B2}\\vec{r}\\,\\mathrm d m}{m_{B2}}m_{B2} +\\ldots+ \\dfrac{\\int\\limits_{Bn}\\vec{r}\\,\\mathrm d m}{m_{Bn}}m_{Bn}}{m_{B1}+m_{B2}+\\ldots+ m_{Bn}} \\\\\n",
    "&= \\dfrac{\\vec{r}_{cm_1} m_{B1} + \\vec{r}_{cm_2}m_{B2} +\\ldots+ \\vec{r}_{cm_n}m_{Bn}}{m_{B1}+m_{B2}+\\ldots+ m_{Bn}} \\\\\n",
    "&= \\dfrac{\\vec{r}_{cm_1} m_{B1} + \\vec{r}_{cm_2}m_{B2} +\\ldots+ \\vec{r}_{cm_n}m_{Bn}}{m_T}\n",
    "\\label{}\n",
    "\\end{array}\n",
    "\\end{equation}\n",
    "\n",
    "where $\\vec{r}_{cm_i}$ is  the center of mass of the body $i$, $m_{Bi}$ is the mass of the body $i$ and $m_T$ is the total mass of the bodies.  \n",
    "The expression above shows that we can interpret each body as a particle with its mass and position. "
   ]
  },
  {
   "cell_type": "markdown",
   "metadata": {},
   "source": [
    "#### Example: Three bars\n",
    "\n",
    "Let's compute the center of mass of the system shown below.\n",
    "\n",
    "<figure><center><img src='./../images/threebars.png' width=350 alt='center of mass of system with three bars'/></center><figcaption><center><i>Figure. The center of mass of a system with three bars.</i></center></figcaption></figure>    \n",
    "\n",
    "The system can be seen as a set of three bars, so we can compute it by considering each bar as a particle located at its center of mass. \n",
    "\n",
    "We have previously computed the center of mass of an homogeneous bar as being at its center. So, the center of mass of each bar is:\n",
    "\n",
    "\\begin{equation}\n",
    "\\begin{array}{l}\n",
    "\\vec{r}_{cm_1} &= -\\frac{l_1}{2}\\hat{j} \\\\\n",
    "\\vec{r}_{cm_2} &= \\frac{l_2}{2}\\sin(\\theta_1)\\hat{i}-\\frac{l_2}{2}\\cos(\\theta_1)\\hat{j} \\\\\n",
    "\\vec{r}_{cm_3} &= l_2\\sin(\\theta_1)\\hat{i}-l_2\\cos(\\theta_1)\\hat{j}+\\frac{l_3}{2}\\sin(\\theta_2)\\hat{i}-\\frac{l_3}{2}\\cos(\\theta_2)\\hat{j} \\\\\n",
    "&= \\left(l_2\\sin(\\theta_1)+\\frac{l_3}{2}\\sin(\\theta_2) \\right)\\hat{i} + \\left(l_2\\cos(\\theta_1)-\\frac{l_3}{2}\\cos(\\theta_2) \\right)\\hat{j}\n",
    "\\label{}\n",
    "\\end{array}\n",
    "\\end{equation}\n",
    "\n",
    "So, the center of mass of the system is:\n",
    "\n",
    "\\begin{equation}\n",
    "\\begin{array}{l}\n",
    "\\vec{r}_{cm} &= \\dfrac{m_1 \\vec{r}_{cm_1}+m_2 \\vec{r}_{cm_2}+m_3 \\vec{r}_{cm_3}}{m_1+m_2+m_3} \\\\\n",
    "&= \\dfrac{-m_1\\frac{l_1}{2}\\hat{j} + m_2(\\frac{l_2}{2}\\sin(\\theta_1)\\hat{i}-\\frac{l_2}{2}\\cos(\\theta_1)\\hat{j})+m_3 \\left[\\left(l_2\\sin(\\theta_1)+\\frac{l_3}{2}\\sin(\\theta_2) \\right)\\hat{i} + \\left(l_2\\cos(\\theta_1)-\\frac{l_3}{2}\\cos(\\theta_2) \\right)\\hat{j} \\right]}{m_1+m_2+m_3} \\\\\n",
    "&= \\dfrac{m_2\\frac{l_2}{2}\\sin(\\theta_1)\\hat{i}+m_3 \\left(l_2\\sin(\\theta_1)+\\frac{l_3}{2}\\sin(\\theta_2) \\right)\\hat{i}}{m_1+m_2+m_3}+\\dfrac{-m_1\\frac{l_1}{2}\\hat{j} - m_2\\frac{l_2}{2}\\cos(\\theta_1)\\hat{j}+m_3 \\left(l_2\\cos(\\theta_1)-\\frac{l_3}{2}\\cos(\\theta_2) \\right)\\hat{j}}{m_1+m_2+m_3} \\\\\n",
    "&= \\dfrac{m_2\\frac{l_2}{2}\\sin(\\theta_1)+m_3 \\left(l_2\\sin(\\theta_1)+\\frac{l_3}{2}\\sin(\\theta_2)\\right)}{m_1+m_2+m_3}\\hat{i}+\\dfrac{-m_1\\frac{l_1}{2} - m_2\\frac{l_2}{2}\\cos(\\theta_1)+m_3 \\left(l_2\\cos(\\theta_1)-\\frac{l_3}{2}\\cos(\\theta_2) \\right)}{m_1+m_2+m_3}\\hat{j}\n",
    "\\label{}\n",
    "\\end{array}\n",
    "\\end{equation}"
   ]
  },
  {
   "cell_type": "markdown",
   "metadata": {},
   "source": [
    "## Center of gravity\n",
    "\n",
    "Center of gravity of a body is the point where the moment of force caused by the gravitational force in the whole body relative to this point is zero.\n",
    "\n",
    "\\begin{equation}\n",
    "\\vec{M}_0 = \\int\\limits_{B} \\vec{r}_B \\, \\times \\, \\vec{g} \\, \\mathrm d m \n",
    "\\end{equation}\n",
    "\n",
    "If the acceleration of gravity being applied to the whole body is the same (for all practical purposes, in Biomechanics we can consider it the same in the whole body), the gravity vector can go out of the integral:  \n",
    "\n",
    "\\begin{equation}\n",
    "\\begin{array}{l}\n",
    "\\vec{M}_0 &= \\int\\limits_{B}\\vec{r}_B \\, \\mathrm d m\\, \\times\\, \\vec{g} \\\\\n",
    "&= \\int\\limits_{B}(\\vec{r} - \\vec{r}_{cm})\\,\\mathrm d m\\, \\times\\, \\vec{g} \\\\\n",
    "&= \\left(\\int\\limits_{B}\\vec{r} \\, \\mathrm d m -\\int\\limits_{B}\\vec{r}_{G} \\, \\mathrm d m \\, \\right) \\times \\, \\vec{g}\n",
    "\\label{}\n",
    "\\end{array}\n",
    "\\end{equation}\n",
    "\n",
    "Now, we equal this moment to zero and isolate $\\vec{r}_G$:\n",
    "\n",
    "\\begin{equation}\n",
    "\\begin{array}{l}\n",
    "\\left(\\int\\limits_{B}\\vec{r}\\,\\mathrm d m -\\int\\limits_{B}\\vec{r}_G\\,\\mathrm d m\\right) \\times\\,\\vec{g} = 0 \\longrightarrow \\\\\n",
    "\\int\\limits_{B}\\vec{r}\\,\\mathrm d m -\\int\\limits_{B}\\vec{r}_G\\,\\mathrm d m = 0 \\longrightarrow \\\\\n",
    "\\int\\limits_{B}\\vec{r}\\,\\mathrm d m -\\vec{r}_G\\int\\limits_{B}\\,\\mathrm d m = 0\\,\\,\\,\\,\\,\\, \\longrightarrow \\\\\n",
    "\\vec{r}_G = \\frac{ \\int\\limits_{B}\\vec{r}\\,\\mathrm d m}{\\int\\limits_{B}\\,\\mathrm d m} = \\frac{ \\int\\limits_{B}\\vec{r}\\,\\mathrm d m}{m_B}  \n",
    "\\label{}\n",
    "\\end{array}\n",
    "\\end{equation}\n",
    "\n",
    "where $m_B$ is the mass of the body.\n",
    "\n",
    "Note that in this case, that the gravity acceleration is constant, the center of gravity $\\vec{r}_G$ is equal to the center of mass $\\vec{r}_{cm}$."
   ]
  },
  {
   "cell_type": "markdown",
   "metadata": {},
   "source": [
    "## Geometric center\n",
    "\n",
    "For a rigid body, the geometric center is defined as the point where the integral of the vectors linking this point to each differential part of mass is zero.\n",
    "\n",
    "This integral is:\n",
    "\n",
    "\\begin{equation}\n",
    "\\begin{array}{l}\n",
    "\\int\\limits_{B} \\vec{r}_{/gc} \\mathrm d V &= \\int\\limits_{B} \\vec{r} - \\vec{r}_{gc} \\mathrm d V \\\\\n",
    "&= \\int\\limits_{B} \\vec{r}\\,\\mathrm d V - \\int\\limits_{B}\\vec{r}_{gc}  \\mathrm d V \\\\\n",
    "&= \\int\\limits_{B} \\vec{r}\\,\\mathrm d V - \\vec{r}_{gc}\\int\\limits_{B}\\, \\mathrm d V\n",
    "\\label{}\n",
    "\\end{array}\n",
    "\\end{equation}\n",
    "\n",
    "Now we equal this integral to zero and isolate $\\vec{r}_{gc}$:\n",
    "\n",
    "\\begin{equation}\n",
    "\\begin{array}{l}\n",
    "\\int\\limits_{B} {\\bf{\\vec{r}}}\\,\\mathrm d V - {\\bf{\\vec{r}_{gc}}}\\int\\limits_{B}\\, \\mathrm d V  = 0 \\longrightarrow \\\\\n",
    "\\vec{r}_{gc} = \\frac{ \\int\\limits_{B} \\vec{r}\\,\\mathrm d V}{\\int\\limits_{B}\\, \\mathrm d V}  = \\frac{ \\int\\limits_{B} \\vec{r}\\,\\mathrm d V}{V}\n",
    "\\label{eq:gc}\n",
    "\\end{array}\n",
    "\\end{equation}\n",
    "\n",
    "where $V$ is the volume of the body. Note that when the body has a constant density $\\rho$, the center of mass is equal to the geometric center:\n",
    "\n",
    "\\begin{equation}\n",
    "\\begin{array}{l}\n",
    "\\vec{r}_{cm} &= \\frac{ \\int\\limits_{B} \\vec{r}\\,\\mathrm d m}{m_B} \\\\\n",
    "&= \\frac{ \\int\\limits_{B} \\vec{r}\\rho\\,\\mathrm d V}{\\rho V} \\\\\n",
    "&= \\frac{ \\rho\\int\\limits_{B} \\vec{r}\\,\\mathrm d V}{\\rho V} \\\\\n",
    "&= \\frac{ \\int\\limits_{B} \\vec{r}\\,\\mathrm d V}{V} \\\\\n",
    "&= \\vec{r}_{gc}\n",
    "\\label{}\n",
    "\\end{array}\n",
    "\\end{equation}"
   ]
  },
  {
   "cell_type": "markdown",
   "metadata": {},
   "source": [
    "## Center of buoyancy   \n",
    "\n",
    "[Center of buoyancy](https://en.wikipedia.org/wiki/Buoyancy) is the center of the volume of water which the submerged part of an object displaces. Center of buoyancy is to center of volume as center of gravity is to center of mass.  \n",
    "\n",
    "For the human body submerged in water, because different parts of the body have different densities, the center of buoyancy is at a different place than the center of gravity, see for example [Yanai and Wilson (2008)](https://onlinelibrary.wiley.com/doi/pdf/10.1002/jst.23). \n",
    "\n",
    "<figure><center><img src='./../images/buoyance.png' width=400 alt='Center of gravity and center of buoyancy.'/></center><figcaption><center><i>Figure. Forces of gravity and buoyancy acting respectively on the center of gravity and center of buoyancy in a submerged human body (figure from Yanai and Wilson (2008)).</i></center></figcaption></figure>   "
   ]
  },
  {
   "cell_type": "markdown",
   "metadata": {},
   "source": [
    "## Moment of inertia\n",
    "\n",
    "[Moment of inertia](https://en.wikipedia.org/wiki/Moment_of_inertia) (or rotational inertia), analogous to mass, is a quantitative measure of the resistance to rotational acceleration about an axis of a distribution of mass in space.\n",
    "\n",
    "### Set of particles\n",
    "\n",
    "For simplicity, consider a set of particles in a plane rotating around an axis perpendicular to this plane. The mathematical definition for the moment of inertia, $I$, of this system with $N$ particles, each with mass $m_i$ and distance $r_i$ to the axis is:\n",
    "\n",
    "\\begin{equation}\n",
    "I = \\sum_{i=1}^N m_{i}r_{i}^2\n",
    "\\label{}\n",
    "\\end{equation}\n",
    "\n",
    "This equation for the moment of inertia can be intuitively deduced if we consider the kinetic energy of a system with $N$ particles each at a distance $r_i$ all rotating around the same fixed axis:\n",
    "\n",
    "\\begin{equation}\n",
    "E_k = \\frac{1}{2}\\sum_{i=1}^N m_{i}v_{i}^2 = \\frac{1}{2}\\sum_{i=1}^N m_{i}(\\omega_ir_{i})^2 = \\frac{1}{2}\\omega^2\\sum_{i=1}^N m_{i}r_{i}^2\n",
    "\\label{}\n",
    "\\end{equation}\n",
    "\n",
    "The term multiplying the rotational speed at the rightmost equation is the system's moment of inertia for rotation.  \n",
    "\n",
    "Another intuitive way to derive the expression for the moment of inertia is to consider a circular motion of a particle with mass $m$ rotating around an axis at distance $r$ and apply Newton's second law:\n",
    "\n",
    "$$ \\vec{F} = m \\vec{a} $$\n",
    "\n",
    "In this example, the movement is a pure circular rotation and consider that there is a moment of force (or torque) acting on the particle, i.e., the particle has an angular acceleration.  \n",
    "Let's multiply both sides by the vector $\\vec{r}$, the position of the particle in relation to the axis and replace the linear tangential acceleration by the corresponding expression with angular acceleration:\n",
    "\n",
    "$$ \\vec{r} \\times \\vec{F} = \\vec{r} \\times (m \\vec{\\alpha} \\times \\vec{r}) $$\n",
    "\n",
    "The left-hand side is the moment of force (or torque), $\\vec{M}$, and calculating the vector triple product (mnemonic: abc = bac - cab), we get:\n",
    "\n",
    "$$ \\vec{M} = m(\\vec{\\alpha}(\\vec{r}\\cdot\\vec{r}) - \\vec{r}(\\vec{r}\\cdot\\vec{\\alpha})) $$\n",
    "\n",
    "Which simplifies to:\n",
    "\n",
    "$$ \\vec{M} = m r^2 \\alpha \\, \\hat{k} $$\n",
    "\n",
    "The equivalent for angular motion of the Newton's second law for linear motion in this simplified example.\n",
    "\n",
    "Comparing these two versions of the Newton's second law, for the linear case, we define as inertia, the proportional constant between force and linear acceleration. Equivalently, the proportional term between moment of force and angular acceleration is also an inertia, referred as moment of inertia or rotational inertia, $I$, and from the equation above, $I = m r^2$. \n",
    "\n",
    "The value of the moment of inertia is a single scalar for a two-dimensional object or a tensor (a 3×3 inertia matrix) for a three-dimensional object (we will see that later)."
   ]
  },
  {
   "cell_type": "markdown",
   "metadata": {},
   "source": [
    "### Rigid body\n",
    "\n",
    "The moment of inertia is a measure of how the mass of the body distributes relative to a given axis passing to a given point $O$. In other words, the moment of inertia relative to a point $O$ for an axis $a$ is defined how far the mass of the body is from this axis. If we define the versor $\\hat{n}_a$ as a versor in the direction of the axis, this distance is the cross product between the vector linking the point $O$ to each part of the body and this versor.\n",
    "\n",
    "<figure><center><img src='./../images/inmombody.png' width=300 alt='Moment of inertia of a body'/></center><figcaption><center><i>Figure. The Moment of inertia of a body.</i></center></figcaption></figure>    \n",
    "\n",
    "Considering that, the moment of inertia relative to the point $O$ for the axis $a$ is defined as:\n",
    " \n",
    "\\begin{equation}\n",
    "\\begin{array}{l}\n",
    "I_{aa}^{O} = \\int\\limits_B (\\vec{r}_{/O} \\times \\hat{n}_a)\\cdot(\\vec{r}_{/O} \\times \\hat{n}_a)\\,\\mathrm d m   \n",
    "\\label{eq:inmomgen}\n",
    "\\end{array}\n",
    "\\end{equation}\n",
    "\n",
    "For planar movements, we normally compute the moment of inertia relative to the $z$ axis. So, the Eq.(\\ref{eq:inmomgen}) simplifies to:\n",
    "\n",
    "\\begin{equation}\n",
    "\\begin{array}{l}\n",
    "I_{zz}^O &= \\int\\limits_B (\\vec{r}_{/O} \\times \\hat{k})\\cdot(\\vec{r}_{/O} \\times \\hat{k})\\,\\mathrm d m \\\\\n",
    "&= \\int\\limits_B \\left[(x_{/O}\\hat{i}+y_{/O}\\hat{j} +z_{/O}\\hat{k})\\times \\hat{k}\\right]\\cdot\\left[(x_{/O}\\hat{i}+y_{/O}\\hat{j} +z_{/O}\\hat{k})\\times \\hat{k}\\right]\\,\\mathrm d m \\\\\n",
    "&= \\int\\limits_B (-x_{/O}\\hat{j}+y_{/O}\\hat{i})\\cdot(-x_{/O}\\hat{j}+y_{/O}\\hat{i})\\,\\mathrm d m \\\\\n",
    "I_{zz}^O &= \\int\\limits_B x_{/O}^2+y_{/O}^2\\,\\mathrm d m\n",
    "\\label{eq:inmomzzo}\n",
    "\\end{array}\n",
    "\\end{equation}\n",
    "\n",
    "Frequently, the chosen point to compute the moment of inertia is the center of mass. So if we choose the point O as the center of mass, the Eq.(\\ref{eq:inmomzzo}) is written as:\n",
    "\n",
    "\\begin{equation}\n",
    "\\begin{array}{l}\n",
    "I_{zz}^{cm} = \\int\\limits_B x_{/cm}^2+y_{/cm}^2\\,\\mathrm d m\n",
    "\\label{}\n",
    "\\end{array}\n",
    "\\end{equation}"
   ]
  },
  {
   "cell_type": "markdown",
   "metadata": {},
   "source": [
    "#### Example: Bar\n",
    "\n",
    "Let's compute the moment of inertia relative to the center of mass of the same bar we computed the center of mass. \n",
    "\n",
    "The moment of inertia relative to the center of mass is:\n",
    "\n",
    "\\begin{equation}\n",
    "\\begin{array}{l}\n",
    "I_{zz}^{cm} &= \\int\\limits_B x_{/cm}^2\\,\\mathrm d m \\\\\n",
    "&= \\int\\limits_{-l/2}^{l/2} x^2\\rho\\,\\mathrm d x \\\\\n",
    "&= \\rho\\left.\\left(\\dfrac{x^3}{3}\\right)\\right|_{-l/2}^{l/2} \\\\\n",
    "&= \\rho\\left(\\dfrac{l^3}{24}+\\dfrac{l^3}{24}\\right) \\\\\n",
    "&= \\rho\\dfrac{l^3}{12} \\\\\n",
    "I_{zz}^{cm} &= \\dfrac{ml^2}{12}\n",
    "\\label{}\n",
    "\\end{array}\n",
    "\\end{equation}\n",
    "\n",
    "Or using the Sympy library:"
   ]
  },
  {
   "cell_type": "code",
   "execution_count": 6,
   "metadata": {
    "ExecuteTime": {
     "end_time": "2020-04-18T04:24:33.915335Z",
     "start_time": "2020-04-18T04:24:33.898779Z"
    }
   },
   "outputs": [
    {
     "data": {
      "text/latex": [
       "$\\displaystyle I_{zz}^{cm} = \\frac{\\ell^{2} m}{12}$"
      ],
      "text/plain": [
       "<IPython.core.display.Math object>"
      ]
     },
     "metadata": {},
     "output_type": "display_data"
    }
   ],
   "source": [
    "# define variables\n",
    "x = sym.symbols('x')\n",
    "m1, rho, ell = sym.symbols('m, rho, ell', positive=True)\n",
    "m = rho*ell\n",
    "# solve the integral\n",
    "Icm = rho * sym.integrate(x**2, (x, -ell/2, ell/2))/m\n",
    "\n",
    "print2('I_{zz}^{cm}', Icm*m1)"
   ]
  },
  {
   "cell_type": "markdown",
   "metadata": {},
   "source": [
    "### Radius of gyration\n",
    "\n",
    "Radius of gyration is defined as the distance that a particle would be from the a point $O$ to have the same moment of inertia that the body has. So, the radius of gyration is defined as:\n",
    "\n",
    "\\begin{equation}\n",
    "\\begin{array}{l}\n",
    "r_{gyr} = \\sqrt{\\dfrac{I_{zz}^{cm}}{m}}\n",
    "\\label{}\n",
    "\\end{array}\n",
    "\\end{equation}\n",
    "\n",
    "#### Example: Bar\n",
    "\n",
    "For a homogeneous bar with length $l$, the radius of gyration is:\n",
    "\n",
    "\\begin{equation}\n",
    "\\begin{array}{l}\n",
    "r_{gyr} = \\sqrt{\\dfrac{\\dfrac{ml^2}{12}}{m}}=\\sqrt{\\dfrac{l^2}{12}} = \\dfrac{l\\sqrt{3}}{6} \n",
    "\\label{}\n",
    "\\end{array}\n",
    "\\end{equation}"
   ]
  },
  {
   "cell_type": "markdown",
   "metadata": {},
   "source": [
    "### Parallel axis theorem\n",
    "\n",
    "If we have computed the moment of inertia relative to the center of mass for an axis, for example the $z$ axis, and now want to compute the moment of inertia relative to another point $O$ for an axis parallel to the first, there is an expression to aid the computation of this moment of inertia. \n",
    "\n",
    "In the figure below, the axis is perpendicular to the plane.\n",
    "\n",
    "<figure><center><img src='./../images/inmomparallel.png' width=300 alt='parallel axis theorem'/></center><figcaption><center><i>Figure. The parallel axis theorem for the calculation of the moment of inertia of a body.</i></center></figcaption></figure>  \n",
    "\n",
    "The moment of inertia relative to the axis passing through the point O is given by:\n",
    "\n",
    "\\begin{equation}\n",
    "\\begin{array}{l}\n",
    "I_{zz}^O &= \\int\\limits_B x_{/O}^2+y_{/O}^2\\,\\mathrm d m \\\\\n",
    "&= \\int\\limits_B (x_{/cm}+x_{cm/O})^2+(y_{/cm}+y_{cm/O})^2\\,\\mathrm d m \\\\\n",
    "&= \\int\\limits_B x_{/cm}^2+2x_{/cm}x_{cm/O}+x_{cm/O}^2+y_{/cm}^2+2y_{/cm}y_{cm/O}+y_{cm/O}^2\\,\\mathrm d m \\\\\n",
    "&=\\underbrace{\\int\\limits_B x_{/cm}^2+y_{/cm}^2\\,\\mathrm d m}_{I_{zz}^{cm}} +\\int\\limits_B 2x_{/cm}x_{cm/O}\\,\\mathrm d m+\\int\\limits_B x_{cm/O}^2+y_{cm/O}^2\\,\\mathrm d m + \\int\\limits_B 2y_{/cm}y_{cm/O}\\,\\mathrm d m \\\\\n",
    "&= I_{zz}^{cm} +2x_{cm/O}\\underbrace{\\int\\limits_B x_{/cm}\\,\\mathrm d m}_{0}+\\underbrace{\\vphantom{\\int\\limits_B}(x_{cm/O}^2+y_{cm/O}^2)}_{d^2}\\underbrace{\\int\\limits_B \\,\\mathrm d m \\vphantom{\\Bigg)}}_{m_B} + 2y_{cm/O} \\underbrace{\\int\\limits_B y_{/cm}\\,\\mathrm d m}_{0} \\\\\n",
    "I_{zz}^{O} &=  I_{zz}^{cm} + m_B\\,d^2\n",
    "\\label{}\n",
    "\\end{array}\n",
    "\\end{equation}\n",
    "\n",
    "The terms $\\int\\limits_B x_{/cm}\\,\\mathrm d m$ and $\\int\\limits_B y_{/cm}\\,\\mathrm d m$ are equal to zero because of the definition of center of mass. The term $d$ is the distance between the two axes.  \n",
    "Note that this theorem is valid only for parallel axes."
   ]
  },
  {
   "cell_type": "markdown",
   "metadata": {},
   "source": [
    "#### Example: Bar\n",
    "\n",
    "Let's compute the moment of inertia of a bar relative to one of its extremities, by using the parallel axis theorem. \n",
    "\n",
    "\\begin{equation}\n",
    "\\begin{array}{l}\n",
    "I_{zz}^O &= I_{zz}^{cm} + m\\left(\\dfrac{l}{2}\\right)^2 \\\\\n",
    "&= \\dfrac{ml^2}{12} + \\dfrac{ml^2}{4} = \\dfrac{ml^2}{3}\n",
    "\\label{}\n",
    "\\end{array}\n",
    "\\end{equation}"
   ]
  },
  {
   "cell_type": "markdown",
   "metadata": {},
   "source": [
    "### Moment of inertia of a complex system\n",
    "\n",
    "To compute the moment of inertia of a set o $n$ bodies relative to a point O for a given axis (for example, the $z$ axis), we must apply the Eq.(\\ref{eq:inmomzzo}) for all bodies:\n",
    "\n",
    "\\begin{equation}\n",
    "\\begin{array}{l}\n",
    "I_{zz}^{O} &= \\int\\limits_{B1,B2,\\ldots,Bn} x_{/O}^2+y_{/O}^2\\,\\mathrm d m \\\\\n",
    "&= \\int\\limits_{B1} x_{/O}^2+y_{/O}^2\\,\\mathrm d m +\\int\\limits_{B2} x_{/O}^2+y_{/O}^2\\,\\mathrm d m +\\ldots+\\int\\limits_{Bn} x_{/O}^2+y_{/O}^2\\,\\mathrm d m\n",
    "\\label{}\n",
    "\\end{array}\n",
    "\\end{equation}\n",
    "\n",
    "Now, using the parallel axis theorem, we can write the equation above in terms of the moment of inertia relative to the center of mass of each body:\n",
    "\n",
    "\\begin{equation}\n",
    "\\begin{array}{l}\n",
    "I_{zz}^{O} &= I_{zz_{B1}}^{cm_1} + m_{B1}.||\\vec{r}_{cm_1/O}||^2 +I_{zz_{B2}}^{cm_2} + m_{B2}.||\\vec{r}_{cm_2/O}||^2  +\\ldots + I_{zz_{Bn}}^{cm_n} + m_{Bn}.||\\vec{r}_{cm_n/O}||^2 \n",
    "\\label{eq:paral}\n",
    "\\end{array}\n",
    "\\end{equation}\n",
    "\n",
    "where $I_{zz_{Bi}}^{cm_i}$ is the moment of inertia of the body $i$ relative to its center of mass."
   ]
  },
  {
   "cell_type": "markdown",
   "metadata": {},
   "source": [
    "#### Example: Eight bars\n",
    "\n",
    "Let's compute the moment of inertia of the set of eight equal and homogeneous bars depicted in the figure below relative to its center of mass.\n",
    "\n",
    "<figure><center><img src='./../images/eigthbars.png' width=350 alt='Moment of inertia of a system with eight bars'/></center><figcaption><center><i>Figure. Moment of inertia of a system with eight bars.</i></center></figcaption></figure>  \n",
    "    \n",
    "By symmetry, the center of mass of this system is in the point $O$. So, to compute the moment of inertia relative to this point, we must use the parallel axis theorem to each bar, and then sum the results, as in Eq.(\\ref{eq:paral}).\n",
    "\n",
    "\\begin{equation}\n",
    "\\begin{array}{l}\n",
    "I^{cm}_{zz}={} & I^{cm1}_{zz}+m\\left(\\frac{l}{2}\\right)^2+I^{cm2}_{zz}+m\\left(\\frac{l}{2}\\right)^2+I^{cm3}_{zz}+m\\left(\\frac{l}{2}\\right)^2+I^{cm4}_{zz}+m\\left(\\frac{l}{2}\\right)^2 + \\\\\n",
    "& I^{cm5}_{zz}+m\\left(\\frac{l}{2}\\right)^2+I^{cm6}_{zz}+m\\left(\\frac{l}{2}\\right)^2+I^{cm7}_{zz}+m\\left(\\frac{l}{2}\\right)^2+I^{cm8}_{zz}+m\\left(\\frac{l}{2}\\right)^2\n",
    "\\label{}\n",
    "\\end{array}\n",
    "\\end{equation}\n",
    "\n",
    "The moment of inertia of a bar relative to its center of mass is $\\frac{ml^2}{12}$.  \n",
    "So the moment of inertia of the system relative to its center of mass is:\n",
    "\n",
    "\\begin{equation}\n",
    "\\begin{array}{l}\n",
    "I^{cm}_{zz} = 8\\cdot\\left[\\dfrac{ml^2}{12}+m\\left(\\dfrac{l}{2}\\right)^2\\right] = \\dfrac{8ml^2}{3}\n",
    "\\label{}\n",
    "\\end{array}\n",
    "\\end{equation}"
   ]
  },
  {
   "cell_type": "markdown",
   "metadata": {},
   "source": [
    "<a id='matrixinertia'></a>"
   ]
  },
  {
   "cell_type": "markdown",
   "metadata": {},
   "source": [
    "### Matrix of Inertia\n",
    "\n",
    "For 3D movements we must consider the moments of inertia inertia in the three directions besides three other quantities called products of inertia. A product of inertia is defined as in Eq.(\\ref{eq:inmomgen}), but with each versor orthogonal to each other. So, the product of inertia relative to point $O$ for axes $a$ and $b$ is:\n",
    "\n",
    "\\begin{equation}\n",
    "\\begin{array}{l}\n",
    "I_{ab}^O= \\int\\limits_B  (\\vec{r}_{/O} \\times \\hat{n}_a)\\cdot(\\vec{r}_{/O} \\times \\hat{n}_b)\\,\\mathrm d m\n",
    "\\label{eq:prodinmomgen}\n",
    "\\end{array}\n",
    "\\end{equation}\n",
    "\n",
    "Note that $I_{ab}^O$ is equal to $I_{ba}^O$.\n",
    "\n",
    "The matrix of inertia is defined as:\n",
    "\n",
    "\\begin{equation}\n",
    "I^O = \\left[\\begin{array}{ccc}I_{xx}^O&I_{xy}^O&I_{xz}^O \\\\\n",
    "                              I_{yx}^O&I_{yy}^O&I_{yz}^O \\\\\n",
    "                              I_{zx}^O&I_{zy}^O&I_{zz}^O \n",
    "            \\end{array}\n",
    "      \\right]\n",
    "\\end{equation}\n",
    "\n",
    "where each term is defined as follows:\n",
    "\n",
    "\\begin{equation}\n",
    "\\begin{array}{l}\n",
    "I_{xx}^O &= \\int\\limits_B  (\\vec{r}_{/O} \\times \\hat{i})\\cdot(\\vec{r}_{/O} \\times \\hat{i})\\,\\mathrm d m \\\\\n",
    "&= \\int\\limits_B  y_{/O}^2+z_{/O}^2\\,\\mathrm d m\n",
    "\\label{}\n",
    "\\end{array}\n",
    "\\end{equation}\n",
    "\n",
    "\\begin{equation}\n",
    "\\begin{array}{l}\n",
    "I_{yy}^O &= \\int\\limits_B  (\\vec{r}_{/O} \\times \\hat{j})\\cdot(\\vec{r}_{/O} \\times \\hat{j})\\,\\mathrm d m \\\\\n",
    "&= \\int\\limits_B  x_{/O}^2+z_{/O}^2\\,\\mathrm d m\n",
    "\\label{}\n",
    "\\end{array}\n",
    "\\end{equation}\n",
    "\n",
    "\\begin{equation}\n",
    "\\begin{array}{l}\n",
    "I_{zz}^O &= \\int\\limits_B  (\\vec{r}_{/O} \\times \\hat{k})\\cdot(\\vec{r}_{/O} \\times \\hat{k})\\,\\mathrm d m \\\\\n",
    "&= \\int\\limits_B  x_{/O}^2+y_{/O}^2\\,\\mathrm d m\n",
    "\\label{}\n",
    "\\end{array}\n",
    "\\end{equation}\n",
    "\n",
    "\\begin{equation}\n",
    "\\begin{array}{l}\n",
    "I_{xy}^O &= I_{yx}^O \\\\\n",
    "&= \\int\\limits_B (\\vec{r}_{/O} \\times \\hat{i})\\cdot(\\vec{r}_{/O} \\times \\hat{j})\\,\\mathrm d m \\\\\n",
    "&= \\int\\limits_B \\left[(x_{/O}\\hat{i}+y_{/O}\\hat{j}+z_{/O}\\hat{k}) \\times \\hat{i}\\right]\\cdot\\left[(x_{/O}\\hat{i}+y_{/O}\\hat{j}+z_{/O}\\hat{k}) \\times \\hat{j}\\right]\\,\\mathrm d m \\\\\n",
    "&= \\int\\limits_B (-y_{/O}\\hat{k}+z_{/O}\\hat{j})\\cdot(x_{/O}\\hat{k}-z_{/O}\\hat{i})\\,\\mathrm d m \\\\\n",
    "I_{xy}^O &= \\int\\limits_B - y_{/O}x_{/O}\\,\\mathrm d m \n",
    "\\label{}\n",
    "\\end{array}\n",
    "\\end{equation}\n",
    "\n",
    "\\begin{equation}\n",
    "\\begin{array}{l}\n",
    "I_{xz}^O &= I_{zx}^O \\\\\n",
    "&= \\int\\limits_B (\\vec{r}_{/O} \\times \\hat{i})\\cdot(\\vec{r}_{/O} \\times \\hat{k})\\,\\mathrm d m \\\\\n",
    "&= \\int\\limits_B  \\left[(x_{/O}\\hat{i}+y_{/O}\\hat{j}+z_{/O}\\hat{k}) \\times \\hat{i}\\right].\\left[(x_{/O}\\hat{i}+y_{/O}\\hat{j}+z_{/O}\\hat{k}) \\times \\hat{k}\\right]\\,\\mathrm d m \\\\\n",
    "&= \\int\\limits_B (-y_{/O}\\hat{k}+z_{/O}\\hat{j})\\cdot(-x_{/O}\\hat{j}+y_{/O}\\hat{i})\\,\\mathrm d m \\\\\n",
    "I_{xz}^O &= \\int\\limits_B - z_{/O}x_{/O}\\,\\mathrm d m \n",
    "\\label{}\n",
    "\\end{array}\n",
    "\\end{equation}\n",
    "\n",
    "\\begin{equation}\n",
    "\\begin{array}{l}\n",
    "I_{yz}^O &= I_{zy}^O =\\int\\limits_B (\\vec{r}_{/O} \\times \\hat{j})\\cdot(\\vec{r}_{/O} \\times \\hat{k})\\,\\mathrm d m \\\\\n",
    "&= \\int\\limits_B \\left[(x_{/O}\\hat{i}+y_{/O}\\hat{j}+z_{/O}\\hat{k}) \\times \\hat{j}\\right]\\cdot\\left[(x_{/O}\\hat{i}+y_{/O}\\hat{j}+z_{/O}\\hat{k}) \\times \\hat{k}\\right]\\,\\mathrm d m \\\\\n",
    "&= \\int\\limits_B (x_{/O}\\hat{k}-z_{/O}\\hat{i})\\cdot(-x_{/O}\\hat{j}+y_{/O}\\hat{i})\\,\\mathrm d m \\\\\n",
    "I_{yz}^O &= \\int\\limits_B  - z_{/O}y_{/O}\\,\\mathrm d m \n",
    "\\label{}\n",
    "\\end{array}\n",
    "\\end{equation}"
   ]
  },
  {
   "cell_type": "markdown",
   "metadata": {},
   "source": [
    "#### Example: Cylinder\n",
    "\n",
    "Consider a cylinder and compute the moment of inertia for the three axes, relative to the center of mass. The mass of this cylinder is $m = \\rho \\pi R^2$ and, by symmetry, it is in the middle of the cylinder.\n",
    "\n",
    "<figure><center><img src='./../images/cilinder.png' width=300 alt='Moment of inertia of a cylinder'/></center><figcaption><center><i>Figure. Moment of inertia of a cylinder.</i></center></figcaption></figure> \n",
    "    \n",
    "First, for $z$ axis:\n",
    "\n",
    "\\begin{equation}\n",
    "\\begin{array}{l}\n",
    "I_{zz}^{cm} &= \\int\\limits_B (x_{/cm}^2+y_{/cm}^2)\\,\\mathrm d m \\\\\n",
    "&= \\int\\limits_{-h/2}^{h/2}\\int\\limits_0^R\\int\\limits_0^{2\\pi} r^2 \\rho r \\,\\mathrm d \\theta\\,\\mathrm d r\\,\\mathrm d z \\\\\n",
    "&= \\rho \\int\\limits_{-h/2}^{h/2}\\int\\limits_0^R\\int\\limits_0^{2\\pi} r^3  \\,\\mathrm d \\theta\\,\\mathrm d r\\,\\mathrm d z \\\\\n",
    "&= \\rho \\int\\limits_{-h/2}^{h/2}\\int\\limits_0^R 2\\pi r^3  \\,\\mathrm d r\\,\\mathrm d z \\\\\n",
    "&= \\rho \\int\\limits_{-h/2}^{h/2} 2\\pi \\frac{R^4}{4}  \\,dz \\\\\n",
    "&=  \\rho \\pi \\frac{R^4}{2}h \\\\\n",
    "I_{zz}^{cm} &= \\dfrac{mR^2}{2}\n",
    "\\label{}\n",
    "\\end{array}\n",
    "\\end{equation}\n",
    "\n",
    "Now, for the $x$ axis:\n",
    "\n",
    "\\begin{equation}\n",
    "\\begin{array}{l}\n",
    "I_{xx}^{cm} &= \\int\\limits_B (z_{/cm}^2+y_{/cm}^2)\\,\\mathrm d m \\\\\n",
    "&= \\int\\limits_{-h/2}^{h/2}\\int\\limits_0^R\\int\\limits_0^{2\\pi} (z^2+r^2\\sin^2(\\theta)) \\rho r \\,\\mathrm d \\theta\\,\\mathrm d r\\,\\mathrm d z \\\\\n",
    "I_{xx}^{cm} &= \\rho\\int\\limits_{-h/2}^{h/2}\\int\\limits_0^R\\int\\limits_0^{2\\pi} (r z^2+r^3\\sin^2(\\theta))   \\,\\mathrm d \\theta\\,\\mathrm d r\\,\\mathrm d z \n",
    "\\label{}\n",
    "\\end{array}\n",
    "\\end{equation}\n",
    "\n",
    "We will solve this integral using the Sympy library:"
   ]
  },
  {
   "cell_type": "code",
   "execution_count": 7,
   "metadata": {
    "ExecuteTime": {
     "end_time": "2020-04-18T04:24:34.007544Z",
     "start_time": "2020-04-18T04:24:33.916408Z"
    }
   },
   "outputs": [
    {
     "data": {
      "text/latex": [
       "$\\displaystyle I^{cm}_{xx} = \\frac{m \\left(3 R^{2} + h^{2}\\right)}{12}$"
      ],
      "text/plain": [
       "<IPython.core.display.Math object>"
      ]
     },
     "metadata": {},
     "output_type": "display_data"
    }
   ],
   "source": [
    "# define variables\n",
    "h, R, rho, m1 = sym.symbols('h, R, rho, m', positive=True)\n",
    "theta, r, z = sym.symbols('theta, r, z')\n",
    "m = rho*h*sym.pi*R**2\n",
    "# solve the integral\n",
    "Ixx = rho*sym.integrate(sym.integrate(sym.integrate(r*z**2 + (r**3)*sym.sin(theta)**2,\n",
    "                                                    (theta, 0, 2*sym.pi)),\n",
    "                                      (r, 0, R)),\n",
    "                        (z, -h/2, h/2))/m\n",
    "Ixxcm = sym.simplify(m1*Ixx)\n",
    "\n",
    "print2('I^{cm}_{xx}', Ixxcm)"
   ]
  },
  {
   "cell_type": "markdown",
   "metadata": {},
   "source": [
    "By symmetry, the moment of inertia for the axis $y$ around the center of mass is equal to the moment of inertia for the axis $x$:"
   ]
  },
  {
   "cell_type": "code",
   "execution_count": 8,
   "metadata": {
    "ExecuteTime": {
     "end_time": "2020-04-18T04:24:34.021312Z",
     "start_time": "2020-04-18T04:24:34.009034Z"
    }
   },
   "outputs": [
    {
     "data": {
      "text/latex": [
       "$\\displaystyle I^{cm}_{yy} = \\frac{m \\left(3 R^{2} + h^{2}\\right)}{12}$"
      ],
      "text/plain": [
       "<IPython.core.display.Math object>"
      ]
     },
     "metadata": {},
     "output_type": "display_data"
    }
   ],
   "source": [
    "print2('I^{cm}_{yy}', Ixxcm)"
   ]
  },
  {
   "cell_type": "markdown",
   "metadata": {},
   "source": [
    "### Principal axes\n",
    "\n",
    "It is always possible to choose the direction of the axes in a way that the products of inertia are zero. In this situation, the inertia matrix is:\n",
    "\n",
    "\\begin{equation}\n",
    "    I^{cm} = \\left[\\begin{array}{ccc}I_{1}^O&0&0\\\\\n",
    "                                  0&I_{2}^O&0\\\\\n",
    "                                  0&0&I_{3}^O\\end{array}\\right]\n",
    "\\end{equation}\n",
    "\n",
    "where $I_1$, $I_2$ and $I_3$ are the moments of inertia for each of the principal axes."
   ]
  },
  {
   "cell_type": "markdown",
   "metadata": {},
   "source": [
    "## Further reading\n",
    "\n",
    "- Center of mass: pages 145-160 of [Ruina and Pratap (2019)](http://ruina.tam.cornell.edu/Book/index.html).  \n",
    "- Moment of inertia: pages 771-781 of [Ruina and Pratap (2019)](http://ruina.tam.cornell.edu/Book/index.html)."
   ]
  },
  {
   "cell_type": "markdown",
   "metadata": {},
   "source": [
    "## Video lectures on the internet   \n",
    "\n",
    "- Center of mass:  \n",
    "  - Khan Academy: [definition](https://www.khanacademy.org/science/ap-physics-1/ap-linear-momentum/center-of-mass-ap/v/center-of-mass), [definição (in Portuguese)](https://pt.khanacademy.org/science/physics/linear-momentum/center-of-mass/v/center-of-mass)  \n",
    "  - MIT OpenCourseWare: [definition](https://youtu.be/ol1COj0LACs), [of three objects](https://youtu.be/-b0dFcebPcs), [of a continuous system](https://youtu.be/e548hRYcXlg), [of extended objects](https://ocw.mit.edu/courses/physics/8-01sc-classical-mechanics-fall-2016/week-5-momentum-and-impulse/17.4-center-of-mass-of-a-system-of-extended-objects), [of a uniform rod](https://youtu.be/CFh3gu-z_rc)    \n",
    "- Moment of inertia:  \n",
    "  - Khan Academy: [definition](https://www.khanacademy.org/science/physics/torque-angular-momentum/torque-tutorial/v/more-on-moment-of-inertia), [definição (in Portuguese)](https://pt.khanacademy.org/science/physics/torque-angular-momentum/torque-tutorial/v/more-on-moment-of-inertia)  \n",
    "  - MIT OpenCourseWare: [definition](https://youtu.be/0QF_uCgZW4Y), [of a rod](https://youtu.be/1AJbVRQTZlA), [of a disc](https://youtu.be/BPnbq6BobdA), [parallel axis theorem](https://youtu.be/r2Qb0vsxa8Y), [of a sphere](https://youtu.be/QmCQUBSsKwQ), [derivation of the parallel axis theorem](https://youtu.be/cMu0hsvgkGk)  "
   ]
  },
  {
   "cell_type": "markdown",
   "metadata": {},
   "source": [
    "## Problems\n",
    "\n",
    "1. Solve problems 2.2.5, 2.2.7, 16.3.11, 16.3.15 from Ruina and Pratap (2019).  \n",
    "2. Determine the center of mass position and moment of inertia (around the principal axes of the object) for:  \n",
    "  1. A planar disc with radius $r$.  \n",
    "  1. A planar square with side $a$.   \n",
    "  1. A planar ellipse with semi-axes $a$ and $b$.  \n",
    "  1. A sphere with radius $r$.    \n",
    "  1. A cube with side $a$.  \n",
    "  1. An ellipsoid with semi-axes $a$, $b$ and $c$ (see http://scienceworld.wolfram.com/physics/MomentofInertiaEllipsoid.html)."
   ]
  },
  {
   "cell_type": "markdown",
   "metadata": {},
   "source": [
    "## References\n",
    "\n",
    "- Ruina A, Rudra P (2019) [Introduction to Statics and Dynamics](http://ruina.tam.cornell.edu/Book/index.html). Oxford University Press.  \n",
    "- Kane T, Levinson D (1985) [Dynamics: Theory and Applications](https://ecommons.cornell.edu/handle/1813/638). McGraw-Hill, Inc.  \n",
    "- Yanai T, Wilson BD (2008) [How does buoyancy influence front-crawl performance?\n",
    "Exploring the assumptions](https://onlinelibrary.wiley.com/doi/pdf/10.1002/jst.23). Sports Technol., 1 2–3, 89–99."
   ]
  }
 ],
 "metadata": {
  "hide_input": false,
  "kernelspec": {
   "display_name": "Python 3",
   "language": "python",
   "name": "python3"
  },
  "language_info": {
   "codemirror_mode": {
    "name": "ipython",
    "version": 3
   },
   "file_extension": ".py",
   "mimetype": "text/x-python",
   "name": "python",
   "nbconvert_exporter": "python",
   "pygments_lexer": "ipython3",
   "version": "3.7.6"
  },
  "latex_envs": {
   "LaTeX_envs_menu_present": true,
   "autoclose": false,
   "autocomplete": true,
   "bibliofile": "biblio.bib",
   "cite_by": "apalike",
   "current_citInitial": 1,
   "eqLabelWithNumbers": true,
   "eqNumInitial": 1,
   "hotkeys": {
    "equation": "Ctrl-E",
    "itemize": "Ctrl-I"
   },
   "labels_anchors": false,
   "latex_user_defs": false,
   "report_style_numbering": false,
   "user_envs_cfg": false
  },
  "nbTranslate": {
   "displayLangs": [
    "pt"
   ],
   "hotkey": "alt-t",
   "langInMainMenu": true,
   "sourceLang": "en",
   "targetLang": "pt",
   "useGoogleTranslate": true
  },
  "toc": {
   "base_numbering": 1,
   "nav_menu": {
    "height": "300px",
    "width": "320px"
   },
   "number_sections": true,
   "sideBar": true,
   "skip_h1_title": true,
   "title_cell": "Contents",
   "title_sidebar": "Contents",
   "toc_cell": true,
   "toc_position": {},
   "toc_section_display": true,
   "toc_window_display": false
  },
  "varInspector": {
   "cols": {
    "lenName": 16,
    "lenType": 16,
    "lenVar": 40
   },
   "kernels_config": {
    "python": {
     "delete_cmd_postfix": "",
     "delete_cmd_prefix": "del ",
     "library": "var_list.py",
     "varRefreshCmd": "print(var_dic_list())"
    },
    "r": {
     "delete_cmd_postfix": ") ",
     "delete_cmd_prefix": "rm(",
     "library": "var_list.r",
     "varRefreshCmd": "cat(var_dic_list()) "
    }
   },
   "types_to_exclude": [
    "module",
    "function",
    "builtin_function_or_method",
    "instance",
    "_Feature"
   ],
   "window_display": false
  }
 },
 "nbformat": 4,
 "nbformat_minor": 4
}
