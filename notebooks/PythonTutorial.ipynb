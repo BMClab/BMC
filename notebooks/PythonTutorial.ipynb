{
  "cells": [
    {
      "cell_type": "markdown",
      "metadata": {
        "id": "alnAdoYTJ-jW"
      },
      "source": [
        "# Tutorial on Python for scientific computing\n",
        "\n",
        "> Marcos Duarte, Renato Naville Watanabe  \n",
        "> [Laboratory of Biomechanics and Motor Control](https://bmclab.pesquisa.ufabc.edu.br/pt/)  \n",
        "> Federal University of ABC, Brazil\n",
        "\n",
        "<p style=\"text-align: right;\">A <a href=\"https://jupyter.org/\">Jupyter Notebook</a></p>"
      ]
    },
    {
      "cell_type": "markdown",
      "metadata": {
        "toc": true,
        "id": "zyFtwLJlJ-jb"
      },
      "source": [
        "<h1>Contents<span class=\"tocSkip\"></span></h1>\n",
        "<div class=\"toc\"><ul class=\"toc-item\"><li><span><a href=\"#Scope-of-this-tutorial\" data-toc-modified-id=\"Scope-of-this-tutorial-1\"><span class=\"toc-item-num\">1&nbsp;&nbsp;</span>Scope of this tutorial</a></span></li><li><span><a href=\"#Python-as-a-calculator\" data-toc-modified-id=\"Python-as-a-calculator-2\"><span class=\"toc-item-num\">2&nbsp;&nbsp;</span>Python as a calculator</a></span></li><li><span><a href=\"#The-import-function\" data-toc-modified-id=\"The-import-function-3\"><span class=\"toc-item-num\">3&nbsp;&nbsp;</span>The import function</a></span></li><li><span><a href=\"#Object-oriented-programming\" data-toc-modified-id=\"Object-oriented-programming-4\"><span class=\"toc-item-num\">4&nbsp;&nbsp;</span>Object-oriented programming</a></span></li><li><span><a href=\"#Python-and-IPython-help\" data-toc-modified-id=\"Python-and-IPython-help-5\"><span class=\"toc-item-num\">5&nbsp;&nbsp;</span>Python and IPython help</a></span><ul class=\"toc-item\"><li><span><a href=\"#Tab-completion-in-IPython\" data-toc-modified-id=\"Tab-completion-in-IPython-5.1\"><span class=\"toc-item-num\">5.1&nbsp;&nbsp;</span>Tab completion in IPython</a></span></li><li><span><a href=\"#The-four-most-helpful-commands-in-IPython\" data-toc-modified-id=\"The-four-most-helpful-commands-in-IPython-5.2\"><span class=\"toc-item-num\">5.2&nbsp;&nbsp;</span>The four most helpful commands in IPython</a></span></li><li><span><a href=\"#Comments\" data-toc-modified-id=\"Comments-5.3\"><span class=\"toc-item-num\">5.3&nbsp;&nbsp;</span>Comments</a></span></li><li><span><a href=\"#Magic-functions\" data-toc-modified-id=\"Magic-functions-5.4\"><span class=\"toc-item-num\">5.4&nbsp;&nbsp;</span>Magic functions</a></span></li></ul></li><li><span><a href=\"#Assignment-and-expressions\" data-toc-modified-id=\"Assignment-and-expressions-6\"><span class=\"toc-item-num\">6&nbsp;&nbsp;</span>Assignment and expressions</a></span></li><li><span><a href=\"#Variables-and-types\" data-toc-modified-id=\"Variables-and-types-7\"><span class=\"toc-item-num\">7&nbsp;&nbsp;</span>Variables and types</a></span><ul class=\"toc-item\"><li><span><a href=\"#Numbers:-int,-float,-complex\" data-toc-modified-id=\"Numbers:-int,-float,-complex-7.1\"><span class=\"toc-item-num\">7.1&nbsp;&nbsp;</span>Numbers: int, float, complex</a></span></li><li><span><a href=\"#Strings\" data-toc-modified-id=\"Strings-7.2\"><span class=\"toc-item-num\">7.2&nbsp;&nbsp;</span>Strings</a></span></li><li><span><a href=\"#len()\" data-toc-modified-id=\"len()-7.3\"><span class=\"toc-item-num\">7.3&nbsp;&nbsp;</span>len()</a></span></li><li><span><a href=\"#Lists\" data-toc-modified-id=\"Lists-7.4\"><span class=\"toc-item-num\">7.4&nbsp;&nbsp;</span>Lists</a></span></li><li><span><a href=\"#Tuples\" data-toc-modified-id=\"Tuples-7.5\"><span class=\"toc-item-num\">7.5&nbsp;&nbsp;</span>Tuples</a></span></li><li><span><a href=\"#Sets\" data-toc-modified-id=\"Sets-7.6\"><span class=\"toc-item-num\">7.6&nbsp;&nbsp;</span>Sets</a></span></li><li><span><a href=\"#Dictionaries\" data-toc-modified-id=\"Dictionaries-7.7\"><span class=\"toc-item-num\">7.7&nbsp;&nbsp;</span>Dictionaries</a></span></li></ul></li><li><span><a href=\"#Built-in-Constants\" data-toc-modified-id=\"Built-in-Constants-8\"><span class=\"toc-item-num\">8&nbsp;&nbsp;</span>Built-in Constants</a></span></li><li><span><a href=\"#Logical-(Boolean)-operators\" data-toc-modified-id=\"Logical-(Boolean)-operators-9\"><span class=\"toc-item-num\">9&nbsp;&nbsp;</span>Logical (Boolean) operators</a></span><ul class=\"toc-item\"><li><span><a href=\"#and,-or,-not\" data-toc-modified-id=\"and,-or,-not-9.1\"><span class=\"toc-item-num\">9.1&nbsp;&nbsp;</span>and, or, not</a></span></li><li><span><a href=\"#Comparisons\" data-toc-modified-id=\"Comparisons-9.2\"><span class=\"toc-item-num\">9.2&nbsp;&nbsp;</span>Comparisons</a></span></li></ul></li><li><span><a href=\"#Indentation-and-whitespace\" data-toc-modified-id=\"Indentation-and-whitespace-10\"><span class=\"toc-item-num\">10&nbsp;&nbsp;</span>Indentation and whitespace</a></span></li><li><span><a href=\"#Control-of-flow\" data-toc-modified-id=\"Control-of-flow-11\"><span class=\"toc-item-num\">11&nbsp;&nbsp;</span>Control of flow</a></span><ul class=\"toc-item\"><li><span><a href=\"#if...elif...else\" data-toc-modified-id=\"if...elif...else-11.1\"><span class=\"toc-item-num\">11.1&nbsp;&nbsp;</span><code>if</code>...<code>elif</code>...<code>else</code></a></span></li><li><span><a href=\"#for\" data-toc-modified-id=\"for-11.2\"><span class=\"toc-item-num\">11.2&nbsp;&nbsp;</span>for</a></span><ul class=\"toc-item\"><li><span><a href=\"#The-range()-function\" data-toc-modified-id=\"The-range()-function-11.2.1\"><span class=\"toc-item-num\">11.2.1&nbsp;&nbsp;</span>The <code>range()</code> function</a></span></li></ul></li><li><span><a href=\"#while\" data-toc-modified-id=\"while-11.3\"><span class=\"toc-item-num\">11.3&nbsp;&nbsp;</span>while</a></span></li></ul></li><li><span><a href=\"#Function-definition\" data-toc-modified-id=\"Function-definition-12\"><span class=\"toc-item-num\">12&nbsp;&nbsp;</span>Function definition</a></span></li><li><span><a href=\"#Numeric-data-manipulation-with-Numpy\" data-toc-modified-id=\"Numeric-data-manipulation-with-Numpy-13\"><span class=\"toc-item-num\">13&nbsp;&nbsp;</span>Numeric data manipulation with Numpy</a></span><ul class=\"toc-item\"><li><span><a href=\"#Interpolation\" data-toc-modified-id=\"Interpolation-13.1\"><span class=\"toc-item-num\">13.1&nbsp;&nbsp;</span>Interpolation</a></span></li></ul></li><li><span><a href=\"#Read-and-save-files\" data-toc-modified-id=\"Read-and-save-files-14\"><span class=\"toc-item-num\">14&nbsp;&nbsp;</span>Read and save files</a></span></li><li><span><a href=\"#Ploting-with-matplotlib\" data-toc-modified-id=\"Ploting-with-matplotlib-15\"><span class=\"toc-item-num\">15&nbsp;&nbsp;</span>Ploting with matplotlib</a></span></li><li><span><a href=\"#Signal-processing-with-Scipy\" data-toc-modified-id=\"Signal-processing-with-Scipy-16\"><span class=\"toc-item-num\">16&nbsp;&nbsp;</span>Signal processing with Scipy</a></span></li><li><span><a href=\"#Symbolic-mathematics-with-Sympy\" data-toc-modified-id=\"Symbolic-mathematics-with-Sympy-17\"><span class=\"toc-item-num\">17&nbsp;&nbsp;</span>Symbolic mathematics with Sympy</a></span></li><li><span><a href=\"#Data-analysis-with-pandas\" data-toc-modified-id=\"Data-analysis-with-pandas-18\"><span class=\"toc-item-num\">18&nbsp;&nbsp;</span>Data analysis with pandas</a></span></li><li><span><a href=\"#More-about-Python\" data-toc-modified-id=\"More-about-Python-19\"><span class=\"toc-item-num\">19&nbsp;&nbsp;</span>More about Python</a></span></li></ul></div>"
      ]
    },
    {
      "cell_type": "markdown",
      "metadata": {
        "id": "e_TK3BqFJ-jc"
      },
      "source": [
        "## Scope of this tutorial\n",
        "\n",
        "This will be a very brief tutorial on Python.  \n",
        "For a more complete tutorial about Python see [A Whirlwind Tour of Python](https://github.com/jakevdp/WhirlwindTourOfPython) and [Python Data Science Handbook](https://jakevdp.github.io/PythonDataScienceHandbook/) for a specific tutorial about Python for scientific computing.\n",
        "\n",
        "To use Python for scientific computing we need the Python program itself with its main modules and specific packages for scientific computing. [See this notebook on how to install Python for scientific computing](http://nbviewer.ipython.org/github/demotu/BMC/blob/master/notebooks/PythonInstallation.ipynb).  \n",
        "Once you get Python and the necessary packages for scientific computing ready to work, there are different ways to run Python, the main ones are:\n",
        "\n",
        "- open a terminal window in your computer and type `python` or `ipython` that the Python interpreter will start\n",
        "- run the `Jupyter notebook` and start working with Python in a browser\n",
        "- run `Spyder`, an interactive development environment (IDE)\n",
        "- run the `Jupyter qtconsole`, a more featured terminal\n",
        "- run Python online in a website such as [https://www.pythonanywhere.com/](https://www.pythonanywhere.com/) or [Colaboratory](https://colab.research.google.com/notebooks/welcome.ipynb)\n",
        "- run Python using any other Python editor or IDE\n",
        "\n",
        "We will use the Jupyter Notebook for this tutorial but you can run almost all the things we will see here using the other forms listed above."
      ]
    },
    {
      "cell_type": "markdown",
      "metadata": {
        "id": "w0h03lJZJ-jd"
      },
      "source": [
        "## Python as a calculator\n",
        "\n",
        "Once in the Jupyter notebook, if you type a simple mathematical expression and press `Shift+Enter` it will give the result of the expression:"
      ]
    },
    {
      "cell_type": "code",
      "execution_count": null,
      "metadata": {
        "id": "O929Q6kWJ-jd"
      },
      "outputs": [],
      "source": [
        "1 + 2 - 25"
      ]
    },
    {
      "cell_type": "code",
      "execution_count": null,
      "metadata": {
        "id": "3RFHjK6dJ-jf"
      },
      "outputs": [],
      "source": [
        "4/7"
      ]
    },
    {
      "cell_type": "markdown",
      "metadata": {
        "id": "iC0k0CfpJ-jf"
      },
      "source": [
        "Using the `print` function, let's explore the mathematical operations available in Python:"
      ]
    },
    {
      "cell_type": "code",
      "execution_count": null,
      "metadata": {
        "sl_translate": "sl_none",
        "id": "PhucMAT_J-jg"
      },
      "outputs": [],
      "source": [
        "print('1+2 = ', 1+2, '\\n', '4*5 = ', 4*5, '\\n', '6/7 = ', 6/7, '\\n', '8**2 = ', 8**2, sep='')"
      ]
    },
    {
      "cell_type": "markdown",
      "metadata": {
        "id": "eoNO8gRFJ-jh"
      },
      "source": [
        "And if we want the square-root of a number:"
      ]
    },
    {
      "cell_type": "code",
      "execution_count": null,
      "metadata": {
        "id": "E9eAB3cyJ-jh"
      },
      "outputs": [],
      "source": [
        "sqrt(9)"
      ]
    },
    {
      "cell_type": "markdown",
      "metadata": {
        "id": "Yketd7ESJ-ji"
      },
      "source": [
        "We get an error message saying that the `sqrt` function if not defined. This is because `sqrt` and other mathematical functions are available with the `math` module:"
      ]
    },
    {
      "cell_type": "code",
      "execution_count": null,
      "metadata": {
        "id": "NxeP6yKCJ-ji"
      },
      "outputs": [],
      "source": [
        "import math"
      ]
    },
    {
      "cell_type": "code",
      "execution_count": null,
      "metadata": {
        "id": "7WIoDCnuJ-ji"
      },
      "outputs": [],
      "source": [
        "math.sqrt(9)"
      ]
    },
    {
      "cell_type": "code",
      "execution_count": null,
      "metadata": {
        "id": "IDuxpN8aJ-jj"
      },
      "outputs": [],
      "source": [
        "from math import sqrt"
      ]
    },
    {
      "cell_type": "code",
      "execution_count": null,
      "metadata": {
        "id": "BpgX9M1ZJ-jj"
      },
      "outputs": [],
      "source": [
        "sqrt(9)"
      ]
    },
    {
      "cell_type": "markdown",
      "metadata": {
        "id": "OALnH4rzJ-jj"
      },
      "source": [
        "## The import function\n",
        "\n",
        "We used the command '`import`' to be able to call certain functions. In Python functions are organized in modules and packages and they have to be imported in order to be used.   \n",
        "\n",
        "A module is a file containing Python definitions (e.g., functions) and statements. Packages are a way of structuring Python’s module namespace by using “dotted module names”. For example, the module name A.B designates a submodule named B in a package named A. To be used, modules and packages have to be imported in Python with the import function.   \n",
        "\n",
        "Namespace is a container for a set of identifiers (names), and allows the disambiguation of homonym identifiers residing in different namespaces. For example, with the command import math, we will have all the functions and statements defined in this module in the namespace '`math.`', for example, '`math.pi`' is the π constant and '`math.cos()`', the cosine function."
      ]
    },
    {
      "cell_type": "markdown",
      "metadata": {
        "id": "AjaHEYf-J-jj"
      },
      "source": [
        "By the way, to know which Python version you are running, we can use one of the following modules:"
      ]
    },
    {
      "cell_type": "code",
      "execution_count": null,
      "metadata": {
        "id": "UEV6FOjyJ-jk"
      },
      "outputs": [],
      "source": [
        "import sys\n",
        "sys.version"
      ]
    },
    {
      "cell_type": "markdown",
      "metadata": {
        "id": "lUh9kXnxJ-jk"
      },
      "source": [
        "And if you are in an IPython session:"
      ]
    },
    {
      "cell_type": "code",
      "execution_count": null,
      "metadata": {
        "id": "FjfKs6fvJ-jk"
      },
      "outputs": [],
      "source": [
        "from IPython import sys_info\n",
        "print(sys_info())"
      ]
    },
    {
      "cell_type": "markdown",
      "metadata": {
        "id": "DMKpOSGCJ-jk"
      },
      "source": [
        "The first option gives information about the Python version; the latter also includes the IPython version, operating system, etc."
      ]
    },
    {
      "cell_type": "markdown",
      "metadata": {
        "id": "yidKiSGnJ-jk"
      },
      "source": [
        "## Object-oriented programming\n",
        "\n",
        "Python is designed as an object-oriented programming (OOP) language. OOP is a paradigm that represents concepts as \"objects\" that have data fields (attributes that describe the object) and associated procedures known as methods.\n",
        "\n",
        "This means that all elements in Python are objects and they have attributes which can be acessed with the dot (.) operator after the name of the object. We already experimented with that when we imported the module `sys`, it became an object, and we acessed one of its attribute: `sys.version`.\n",
        "\n",
        "OOP as a paradigm is much more than defining objects, attributes, and methods, but for now this is enough to get going with Python."
      ]
    },
    {
      "cell_type": "markdown",
      "metadata": {
        "id": "s565ADyzJ-jl"
      },
      "source": [
        "## Python and IPython help\n",
        "\n",
        "To get help about any Python command, use `help()`:"
      ]
    },
    {
      "cell_type": "code",
      "execution_count": null,
      "metadata": {
        "id": "H_Q3xeiJJ-jl"
      },
      "outputs": [],
      "source": [
        "help(math.degrees)"
      ]
    },
    {
      "cell_type": "markdown",
      "metadata": {
        "id": "q8pGEGC4J-jl"
      },
      "source": [
        "Or if you are in the IPython environment, simply add '?' to the function that a window will open at the bottom of your browser with the same help content:"
      ]
    },
    {
      "cell_type": "code",
      "execution_count": null,
      "metadata": {
        "id": "kEpPV01UJ-jl"
      },
      "outputs": [],
      "source": [
        "math.degrees?"
      ]
    },
    {
      "cell_type": "markdown",
      "metadata": {
        "id": "Ju-_lp7EJ-jl"
      },
      "source": [
        "And if you add a second '?' to the statement you get access to the original script file of the function (an advantage of an open source language), unless that function is a built-in function that does not have a script file, which is the case of the standard modules in Python (but you can access the Python source code if you want; it just does not come with the standard program for installation).\n",
        "\n",
        "So, let's see this feature with another function:"
      ]
    },
    {
      "cell_type": "code",
      "execution_count": null,
      "metadata": {
        "id": "Hydjdqv3J-jl"
      },
      "outputs": [],
      "source": [
        "import scipy.fftpack\n",
        "scipy.fftpack.fft??"
      ]
    },
    {
      "cell_type": "markdown",
      "metadata": {
        "id": "1Ch7y4WFJ-jm"
      },
      "source": [
        "To know all the attributes of an object, for example all the functions available in `math`, we can use the function `dir`:"
      ]
    },
    {
      "cell_type": "code",
      "execution_count": null,
      "metadata": {
        "id": "Jajaqp8SJ-jm"
      },
      "outputs": [],
      "source": [
        "print(dir(math))"
      ]
    },
    {
      "cell_type": "markdown",
      "metadata": {
        "id": "zIdrR4gnJ-jm"
      },
      "source": [
        "### Tab completion in IPython\n",
        "\n",
        "IPython has tab completion: start typing the name of the command (object) and press `tab` to see the names of objects available with these initials letters. When the name of the object is typed followed by a dot (`math.`), pressing `tab` will show all available attribites, scroll down to the desired attribute and press `Enter` to select it."
      ]
    },
    {
      "cell_type": "markdown",
      "metadata": {
        "id": "i2lDjy-FJ-jm"
      },
      "source": [
        "### The four most helpful commands in IPython\n",
        "\n",
        "These are the most helpful commands in IPython (from [IPython tutorial](http://ipython.org/ipython-doc/dev/interactive/tutorial.html)):\n",
        "\n",
        " - `?` : Introduction and overview of IPython’s features.\n",
        " - `%quickref` : Quick reference.\n",
        " - `help` : Python’s own help system.\n",
        " - `object?` : Details about ‘object’, use ‘object??’ for extra details."
      ]
    },
    {
      "cell_type": "markdown",
      "metadata": {
        "id": "ZTa4z_A9J-jn"
      },
      "source": [
        "### Comments\n",
        "\n",
        "Comments in Python start with the hash character, #, and extend to the end of the physical line:"
      ]
    },
    {
      "cell_type": "code",
      "execution_count": null,
      "metadata": {
        "id": "yJTQAW-bJ-jn"
      },
      "outputs": [],
      "source": [
        "# Import the math library to access more math stuff\n",
        "import math\n",
        "math.pi  # this is the pi constant; a useless comment since this is obvious"
      ]
    },
    {
      "cell_type": "markdown",
      "metadata": {
        "id": "8mVf67v8J-jn"
      },
      "source": [
        "To insert comments spanning more than one line, use a multi-line string with a pair of matching triple-quotes: `\"\"\"` or `'''` (we will see the string data type later). A typical use of a multi-line comment is as documentation strings and are meant for anyone reading the code:"
      ]
    },
    {
      "cell_type": "code",
      "execution_count": null,
      "metadata": {
        "id": "rfq-YVu5J-jn"
      },
      "outputs": [],
      "source": [
        "\"\"\"Documentation strings are typically written like that.\n",
        "\n",
        "A docstring is a string literal that occurs as the first statement\n",
        "in a module, function, class, or method definition.\n",
        "\n",
        "\"\"\""
      ]
    },
    {
      "cell_type": "markdown",
      "metadata": {
        "id": "RB_Xo6UZJ-jn"
      },
      "source": [
        "A docstring like above is useless and its output as a standalone statement looks uggly in IPython Notebook, but you will see its real importance when reading and writting codes.\n",
        "\n",
        "Commenting a programming code is an important step to make the code more readable, which Python cares a lot.   \n",
        "There is a style guide for writting Python code ([PEP 8](https://www.python.org/dev/peps/pep-0008/)) with a session about [how to write comments](https://www.python.org/dev/peps/pep-0008/#comments)."
      ]
    },
    {
      "cell_type": "markdown",
      "metadata": {
        "id": "Pd3V5NCCJ-jn"
      },
      "source": [
        "### Magic functions\n",
        "\n",
        "IPython has a set of predefined ‘magic functions’ that you can call with a command line style syntax.   \n",
        "There are two kinds of magics, line-oriented and cell-oriented.   \n",
        "Line magics are prefixed with the % character and work much like OS command-line calls: they get as an argument the rest of the line, where arguments are passed without parentheses or quotes.   \n",
        "Cell magics are prefixed with a double %%, and they are functions that get as an argument not only the rest of the line, but also the lines below it in a separate argument."
      ]
    },
    {
      "cell_type": "markdown",
      "metadata": {
        "id": "oo6M7TfzJ-jo"
      },
      "source": [
        "## Assignment and expressions\n",
        "\n",
        "The equal sign ('=') is used to assign a value to a variable. Afterwards, no result is displayed before the next interactive prompt:"
      ]
    },
    {
      "cell_type": "code",
      "execution_count": null,
      "metadata": {
        "id": "Lx3wU9_DJ-js"
      },
      "outputs": [],
      "source": [
        "x = 1"
      ]
    },
    {
      "cell_type": "markdown",
      "metadata": {
        "id": "84GWjS04J-js"
      },
      "source": [
        "Spaces between the statements are optional but it helps for readability.\n",
        "\n",
        "To see the value of the variable, call it again or use the print function:"
      ]
    },
    {
      "cell_type": "code",
      "execution_count": null,
      "metadata": {
        "id": "WEVrbDM9J-js"
      },
      "outputs": [],
      "source": [
        "x"
      ]
    },
    {
      "cell_type": "code",
      "execution_count": null,
      "metadata": {
        "id": "wBMXVo-vJ-js"
      },
      "outputs": [],
      "source": [
        "print(x)"
      ]
    },
    {
      "cell_type": "markdown",
      "metadata": {
        "id": "a6o94obQJ-js"
      },
      "source": [
        "Of course, the last assignment is that holds:"
      ]
    },
    {
      "cell_type": "code",
      "execution_count": null,
      "metadata": {
        "id": "aM5maAHsJ-js"
      },
      "outputs": [],
      "source": [
        "x = 2\n",
        "x = 3\n",
        "x"
      ]
    },
    {
      "cell_type": "markdown",
      "metadata": {
        "id": "75TQLtwnJ-jt"
      },
      "source": [
        "In mathematics '=' is the symbol for identity, but in computer programming '=' is used for assignment, it means that the right part of the expresssion is assigned to its left part.   \n",
        "For example, 'x=x+1' does not make sense in mathematics but it does in computer programming:"
      ]
    },
    {
      "cell_type": "code",
      "execution_count": null,
      "metadata": {
        "id": "6P6NRtVAJ-jt"
      },
      "outputs": [],
      "source": [
        "x = x + 1\n",
        "print(x)"
      ]
    },
    {
      "cell_type": "markdown",
      "metadata": {
        "id": "ce8TtA_VJ-jt"
      },
      "source": [
        "A value can be assigned to several variables simultaneously:"
      ]
    },
    {
      "cell_type": "code",
      "execution_count": null,
      "metadata": {
        "id": "PRAqYC_jJ-jt"
      },
      "outputs": [],
      "source": [
        "x = y = 4\n",
        "print(x)\n",
        "print(y)"
      ]
    },
    {
      "cell_type": "markdown",
      "metadata": {
        "id": "XNJfh-0ZJ-ju"
      },
      "source": [
        "Several values can be assigned to several variables at once:"
      ]
    },
    {
      "cell_type": "code",
      "execution_count": null,
      "metadata": {
        "id": "-uOVXQxoJ-ju"
      },
      "outputs": [],
      "source": [
        "x, y = 5, 6\n",
        "print(x)\n",
        "print(y)"
      ]
    },
    {
      "cell_type": "markdown",
      "metadata": {
        "id": "cXpFVnO4J-ju"
      },
      "source": [
        "And with that, you can do (!):"
      ]
    },
    {
      "cell_type": "code",
      "execution_count": null,
      "metadata": {
        "id": "_591RmdUJ-ju"
      },
      "outputs": [],
      "source": [
        "x, y = y, x\n",
        "print(x)\n",
        "print(y)"
      ]
    },
    {
      "cell_type": "markdown",
      "metadata": {
        "id": "Awl_RsUwJ-ju"
      },
      "source": [
        "Variables must be “defined” (assigned a value) before they can be used, or an error will occur:"
      ]
    },
    {
      "cell_type": "code",
      "execution_count": null,
      "metadata": {
        "id": "Dw3nMjgoJ-jv"
      },
      "outputs": [],
      "source": [
        "x = z"
      ]
    },
    {
      "cell_type": "markdown",
      "metadata": {
        "id": "cBL8rgrVJ-jv"
      },
      "source": [
        "## Variables and types\n",
        "\n",
        "There are different types of built-in objects in Python (and remember that everything in Python is an object):"
      ]
    },
    {
      "cell_type": "code",
      "execution_count": null,
      "metadata": {
        "id": "lCkdPzf9J-jv"
      },
      "outputs": [],
      "source": [
        "import types\n",
        "print(dir(types))"
      ]
    },
    {
      "cell_type": "markdown",
      "metadata": {
        "id": "75Yz67jqJ-jv"
      },
      "source": [
        "Let's see some of them now."
      ]
    },
    {
      "cell_type": "markdown",
      "metadata": {
        "id": "TyIiDpsBJ-jw"
      },
      "source": [
        "### Numbers: int, float, complex\n",
        "\n",
        "Numbers can an integer (int), float, and complex (with imaginary part).   \n",
        "Let's use the function `type` to show the type of number (and later for any other object):"
      ]
    },
    {
      "cell_type": "code",
      "execution_count": null,
      "metadata": {
        "id": "y9gueVJDJ-jw"
      },
      "outputs": [],
      "source": [
        "type(6)"
      ]
    },
    {
      "cell_type": "markdown",
      "metadata": {
        "id": "j2F6KUDSJ-jw"
      },
      "source": [
        "A float is a non-integer number:"
      ]
    },
    {
      "cell_type": "code",
      "execution_count": null,
      "metadata": {
        "id": "cB3p0yU6J-jx"
      },
      "outputs": [],
      "source": [
        "math.pi"
      ]
    },
    {
      "cell_type": "code",
      "execution_count": null,
      "metadata": {
        "id": "HbXSM3rJJ-jx"
      },
      "outputs": [],
      "source": [
        "type(math.pi)"
      ]
    },
    {
      "cell_type": "markdown",
      "metadata": {
        "id": "OvRt2ldZJ-jx"
      },
      "source": [
        "Python (IPython) is showing `math.pi` with only 15 decimal cases, but internally a float is represented with higher precision.   \n",
        "Floating point numbers in Python are implemented using a double (eight bytes) word; the precison and internal representation of floating point numbers are machine specific and are available in:"
      ]
    },
    {
      "cell_type": "code",
      "execution_count": null,
      "metadata": {
        "id": "8WaiBZ5yJ-jx"
      },
      "outputs": [],
      "source": [
        "sys.float_info"
      ]
    },
    {
      "cell_type": "markdown",
      "metadata": {
        "id": "fJmPOtbBJ-jy"
      },
      "source": [
        "Be aware that floating-point numbers can be trick in computers:"
      ]
    },
    {
      "cell_type": "code",
      "execution_count": null,
      "metadata": {
        "id": "rI9tmyhWJ-jy"
      },
      "outputs": [],
      "source": [
        "0.1 + 0.2"
      ]
    },
    {
      "cell_type": "code",
      "execution_count": null,
      "metadata": {
        "id": "ZK7g53aoJ-jy"
      },
      "outputs": [],
      "source": [
        "0.1 + 0.2 - 0.3"
      ]
    },
    {
      "cell_type": "markdown",
      "metadata": {
        "id": "oYumutYqJ-jy"
      },
      "source": [
        "These results are not correct (and the problem is not due to Python). The error arises from the fact that floating-point numbers are represented in computer hardware as base 2 (binary) fractions and most decimal fractions cannot be represented exactly as binary fractions. As consequence, decimal floating-point numbers are only approximated by the binary floating-point numbers actually stored in the machine. [See here for more on this issue](http://docs.python.org/2/tutorial/floatingpoint.html)."
      ]
    },
    {
      "cell_type": "markdown",
      "metadata": {
        "id": "g285thNSJ-jy"
      },
      "source": [
        "A complex number has real and imaginary parts:"
      ]
    },
    {
      "cell_type": "code",
      "execution_count": null,
      "metadata": {
        "id": "asEYEkf9J-jz"
      },
      "outputs": [],
      "source": [
        "1 + 2j"
      ]
    },
    {
      "cell_type": "code",
      "execution_count": null,
      "metadata": {
        "id": "jujEJ-_TJ-jz"
      },
      "outputs": [],
      "source": [
        "print(type(1+2j))"
      ]
    },
    {
      "cell_type": "markdown",
      "metadata": {
        "id": "qdKHJ1xmJ-jz"
      },
      "source": [
        "Each part of a complex number is represented as a floating-point number. We can see them using the attributes `.real` and `.imag`:"
      ]
    },
    {
      "cell_type": "code",
      "execution_count": null,
      "metadata": {
        "id": "dhGLHQCsJ-jz"
      },
      "outputs": [],
      "source": [
        "print((1 + 2j).real)\n",
        "print((1 + 2j).imag)"
      ]
    },
    {
      "cell_type": "markdown",
      "metadata": {
        "id": "7_6kKm_GJ-jz"
      },
      "source": [
        "### Strings\n",
        "\n",
        "Strings can be enclosed in single quotes or double quotes:"
      ]
    },
    {
      "cell_type": "code",
      "execution_count": null,
      "metadata": {
        "id": "LUMx2Zu2J-j0"
      },
      "outputs": [],
      "source": [
        "s = 'string (str) is a built-in type in Python'\n",
        "s"
      ]
    },
    {
      "cell_type": "code",
      "execution_count": null,
      "metadata": {
        "id": "YhlmEt37J-j0"
      },
      "outputs": [],
      "source": [
        "type(s)"
      ]
    },
    {
      "cell_type": "markdown",
      "metadata": {
        "id": "yYlBCWamJ-j0"
      },
      "source": [
        "String enclosed with single and double quotes are equal, but it may be easier to use one instead of the other:"
      ]
    },
    {
      "cell_type": "code",
      "execution_count": null,
      "metadata": {
        "id": "3zdO1oNOJ-j0"
      },
      "outputs": [],
      "source": [
        "'string (str) is a Python's built-in type'"
      ]
    },
    {
      "cell_type": "code",
      "execution_count": null,
      "metadata": {
        "id": "r2tnlXgsJ-j0"
      },
      "outputs": [],
      "source": [
        "\"string (str) is a Python's built-in type\""
      ]
    },
    {
      "cell_type": "markdown",
      "metadata": {
        "id": "x5bXJADuJ-j1"
      },
      "source": [
        "But you could have done that using the Python escape character '\\':"
      ]
    },
    {
      "cell_type": "code",
      "execution_count": null,
      "metadata": {
        "id": "KWfrIOY5J-j1"
      },
      "outputs": [],
      "source": [
        "'string (str) is a Python\\'s built-in type'"
      ]
    },
    {
      "cell_type": "markdown",
      "metadata": {
        "id": "JoexutopJ-j1"
      },
      "source": [
        "Strings can be concatenated (glued together) with the + operator, and repeated with *:"
      ]
    },
    {
      "cell_type": "code",
      "execution_count": null,
      "metadata": {
        "id": "3bEmCN7KJ-j1"
      },
      "outputs": [],
      "source": [
        "s = 'P' + 'y' + 't' + 'h' + 'o' + 'n'\n",
        "print(s)\n",
        "print(s*5)"
      ]
    },
    {
      "cell_type": "markdown",
      "metadata": {
        "id": "j5CSHGZSJ-j2"
      },
      "source": [
        "Strings can be subscripted (indexed); like in C, the first character of a string has subscript (index) 0:"
      ]
    },
    {
      "cell_type": "code",
      "execution_count": null,
      "metadata": {
        "id": "UF_3j2WWJ-j2"
      },
      "outputs": [],
      "source": [
        "print('s[0] = ', s[0], '  (s[index], start at 0)')\n",
        "print('s[5] = ', s[5])\n",
        "print('s[-1] = ', s[-1], '  (last element)')\n",
        "print('s[:] = ', s[:], '  (all elements)')\n",
        "print('s[1:] = ', s[1:], '  (from this index (inclusive) till the last (inclusive))')\n",
        "print('s[2:4] = ', s[2:4], '  (from first index (inclusive) till second index (exclusive))')\n",
        "print('s[:2] = ', s[:2], '  (till this index, exclusive)')\n",
        "print('s[:10] = ', s[:10], '  (Python handles the index if it is larger than the string length)')\n",
        "print('s[-10:] = ', s[-10:])\n",
        "print('s[0:5:2] = ', s[0:5:2], '  (s[ini:end:step])')\n",
        "print('s[::2] = ', s[::2], '  (s[::step], initial and final indexes can be omitted)')\n",
        "print('s[0:5:-1] = ', s[::-1], '  (s[::-step] reverses the string)')\n",
        "print('s[:2] + s[2:] = ', s[:2] + s[2:], '  (because of Python indexing, this sounds natural)')"
      ]
    },
    {
      "cell_type": "markdown",
      "metadata": {
        "id": "dhOoJQ_QJ-j2"
      },
      "source": [
        "### len()\n",
        "\n",
        "Python has a built-in functon to get the number of itens of a sequence:"
      ]
    },
    {
      "cell_type": "code",
      "execution_count": null,
      "metadata": {
        "id": "7E4V8-ZsJ-j2"
      },
      "outputs": [],
      "source": [
        "help(len)"
      ]
    },
    {
      "cell_type": "code",
      "execution_count": null,
      "metadata": {
        "id": "QiR6izU2J-j2"
      },
      "outputs": [],
      "source": [
        "s = 'Python'\n",
        "len(s)"
      ]
    },
    {
      "cell_type": "markdown",
      "metadata": {
        "id": "oT9_aBdJJ-j3"
      },
      "source": [
        "The function len() helps to understand how the backward indexing works in Python.    \n",
        "The index s[-i] should be understood as s[len(s) - i] rather than accessing directly the i-th element from back to front. This is why the last element of a string is s[-1]:"
      ]
    },
    {
      "cell_type": "code",
      "execution_count": null,
      "metadata": {
        "id": "xQ0nBuZkJ-j3"
      },
      "outputs": [],
      "source": [
        "print('s = ', s)\n",
        "print('len(s) = ', len(s))\n",
        "print('len(s)-1 = ',len(s) - 1)\n",
        "print('s[-1] = ', s[-1])\n",
        "print('s[len(s) - 1] = ', s[len(s) - 1])"
      ]
    },
    {
      "cell_type": "markdown",
      "metadata": {
        "id": "rixKZTjFJ-j3"
      },
      "source": [
        "Or, strings can be surrounded in a pair of matching triple-quotes: \"\"\" or '''. End of lines do not need to be escaped when using triple-quotes, but they will be included in the string. This is how we created a multi-line comment earlier:"
      ]
    },
    {
      "cell_type": "code",
      "execution_count": null,
      "metadata": {
        "id": "G0w79b8aJ-j3"
      },
      "outputs": [],
      "source": [
        "\"\"\"Strings can be surrounded in a pair of matching triple-quotes: \\\"\"\" or '''.\n",
        "\n",
        "End of lines do not need to be escaped when using triple-quotes,\n",
        "but they will be included in the string.\n",
        "\n",
        "\"\"\""
      ]
    },
    {
      "cell_type": "markdown",
      "metadata": {
        "id": "0B5GvtDBJ-j4"
      },
      "source": [
        "### Lists\n",
        "\n",
        "Values can be grouped together using different types, one of them is list, which can be written as a list of comma-separated values between square brackets. List items need not all have the same type:"
      ]
    },
    {
      "cell_type": "code",
      "execution_count": null,
      "metadata": {
        "id": "KddUMaR4J-j4"
      },
      "outputs": [],
      "source": [
        "x = ['spam', 'eggs', 100, 1234]\n",
        "x"
      ]
    },
    {
      "cell_type": "markdown",
      "metadata": {
        "id": "kygtFy5MJ-j4"
      },
      "source": [
        "Lists can be indexed and the same indexing rules we saw for strings are applied:"
      ]
    },
    {
      "cell_type": "code",
      "execution_count": null,
      "metadata": {
        "id": "FwTM274lJ-j4"
      },
      "outputs": [],
      "source": [
        "x[0]"
      ]
    },
    {
      "cell_type": "markdown",
      "metadata": {
        "id": "AugDvMZ8J-j8"
      },
      "source": [
        "The function len() works for lists:"
      ]
    },
    {
      "cell_type": "code",
      "execution_count": null,
      "metadata": {
        "id": "zpfBpU0IJ-j8"
      },
      "outputs": [],
      "source": [
        "len(x)"
      ]
    },
    {
      "cell_type": "markdown",
      "metadata": {
        "id": "_qWHUQFyJ-j8"
      },
      "source": [
        "### Tuples\n",
        "\n",
        "A tuple consists of a number of values separated by commas, for instance:"
      ]
    },
    {
      "cell_type": "code",
      "execution_count": null,
      "metadata": {
        "id": "4clrjeSKJ-j8"
      },
      "outputs": [],
      "source": [
        "t = ('spam', 'eggs', 100, 1234)\n",
        "t"
      ]
    },
    {
      "cell_type": "markdown",
      "metadata": {
        "id": "hLPcKYd5J-j9"
      },
      "source": [
        "The type tuple is why multiple assignments in a single line works; elements separated by commas (with or without surrounding parentheses) are a tuple and in an expression with an '=', the right-side tuple is attributed to the left-side tuple:"
      ]
    },
    {
      "cell_type": "code",
      "execution_count": null,
      "metadata": {
        "id": "tpjBdIHuJ-j9"
      },
      "outputs": [],
      "source": [
        "a, b = 1, 2\n",
        "print('a = ', a, '\\nb = ', b)"
      ]
    },
    {
      "cell_type": "markdown",
      "metadata": {
        "id": "r5nDmCgvJ-j9"
      },
      "source": [
        "Is the same as:"
      ]
    },
    {
      "cell_type": "code",
      "execution_count": null,
      "metadata": {
        "id": "8_8r_WyEJ-j9"
      },
      "outputs": [],
      "source": [
        "(a, b) = (1, 2)\n",
        "print('a = ', a, '\\nb = ', b)"
      ]
    },
    {
      "cell_type": "markdown",
      "metadata": {
        "id": "S5L3jmzuJ-j-"
      },
      "source": [
        "### Sets\n",
        "\n",
        "Python also includes a data type for sets. A set is an unordered collection with no duplicate elements."
      ]
    },
    {
      "cell_type": "code",
      "execution_count": null,
      "metadata": {
        "id": "A2U8aOJ0J-j-"
      },
      "outputs": [],
      "source": [
        "basket = ['apple', 'orange', 'apple', 'pear', 'orange', 'banana']\n",
        "fruit = set(basket)  # create a set without duplicates\n",
        "fruit"
      ]
    },
    {
      "cell_type": "markdown",
      "metadata": {
        "id": "N0gB9s7PJ-j-"
      },
      "source": [
        "As set is an unordered collection, it can not be indexed as lists and tuples."
      ]
    },
    {
      "cell_type": "code",
      "execution_count": null,
      "metadata": {
        "id": "6bewLW3cJ-j-"
      },
      "outputs": [],
      "source": [
        "set(['orange', 'pear', 'apple', 'banana'])\n",
        "'orange' in fruit  # fast membership testing"
      ]
    },
    {
      "cell_type": "markdown",
      "metadata": {
        "id": "zqOcpgGrJ-j-"
      },
      "source": [
        "### Dictionaries\n",
        "\n",
        "Dictionary is a collection of elements organized keys and values. Unlike lists and tuples, which are indexed by a range of numbers, dictionaries are indexed by their keys:"
      ]
    },
    {
      "cell_type": "code",
      "execution_count": null,
      "metadata": {
        "id": "DQSfxQRqJ-j-"
      },
      "outputs": [],
      "source": [
        "tel = {'jack': 4098, 'sape': 4139}\n",
        "tel"
      ]
    },
    {
      "cell_type": "code",
      "execution_count": null,
      "metadata": {
        "id": "_NRjD2K7J-j_"
      },
      "outputs": [],
      "source": [
        "tel['guido'] = 4127\n",
        "tel"
      ]
    },
    {
      "cell_type": "code",
      "execution_count": null,
      "metadata": {
        "id": "lEf5h4DPJ-j_"
      },
      "outputs": [],
      "source": [
        "tel['jack']"
      ]
    },
    {
      "cell_type": "code",
      "execution_count": null,
      "metadata": {
        "id": "4CpWZ-OZJ-j_"
      },
      "outputs": [],
      "source": [
        "del tel['sape']\n",
        "tel['irv'] = 4127\n",
        "tel"
      ]
    },
    {
      "cell_type": "code",
      "execution_count": null,
      "metadata": {
        "id": "nM8evyuMJ-j_"
      },
      "outputs": [],
      "source": [
        "tel.keys()"
      ]
    },
    {
      "cell_type": "code",
      "execution_count": null,
      "metadata": {
        "id": "0BBg6PqpJ-kG"
      },
      "outputs": [],
      "source": [
        "'guido' in tel"
      ]
    },
    {
      "cell_type": "markdown",
      "metadata": {
        "id": "hY2SNyKhJ-kG"
      },
      "source": [
        "The dict() constructor builds dictionaries directly from sequences of key-value pairs:"
      ]
    },
    {
      "cell_type": "code",
      "execution_count": null,
      "metadata": {
        "id": "2IGkxuZKJ-kG"
      },
      "outputs": [],
      "source": [
        "tel = dict([('sape', 4139), ('guido', 4127), ('jack', 4098)])\n",
        "tel"
      ]
    },
    {
      "cell_type": "markdown",
      "metadata": {
        "id": "s4rpOSKLJ-kH"
      },
      "source": [
        "## Built-in Constants\n",
        "\n",
        "- **False** : false value of the bool type\n",
        "- **True** : true value of the bool type\n",
        "- **None** : sole value of types.NoneType. None is frequently used to represent the absence of a value."
      ]
    },
    {
      "cell_type": "markdown",
      "metadata": {
        "id": "fvHgbaWCJ-kH"
      },
      "source": [
        "In computer science, the Boolean or logical data type is composed by two values, true and false, intended to represent the values of logic and Boolean algebra. In Python, 1 and 0 can also be used in most situations as equivalent to the Boolean values."
      ]
    },
    {
      "cell_type": "markdown",
      "metadata": {
        "id": "GTP8711jJ-kH"
      },
      "source": [
        "## Logical (Boolean) operators"
      ]
    },
    {
      "cell_type": "markdown",
      "metadata": {
        "id": "f6UUFypXJ-kH"
      },
      "source": [
        "### and, or, not"
      ]
    },
    {
      "cell_type": "markdown",
      "metadata": {
        "id": "wzg1GO1IJ-kH"
      },
      "source": [
        "- **and** : logical AND operator. If both the operands are true then condition becomes true.\t (a and b) is true.\n",
        "- **or** : logical OR Operator. If any of the two operands are non zero then condition becomes true.\t (a or b) is true.\n",
        "- **not** : logical NOT Operator. Reverses the logical state of its operand. If a condition is true then logical NOT operator will make false."
      ]
    },
    {
      "cell_type": "markdown",
      "metadata": {
        "id": "qNtqkWUzJ-kI"
      },
      "source": [
        "### Comparisons\n",
        "\n",
        "The following comparison operations are supported by objects in Python:\n",
        "\n",
        "- **==** : equal\n",
        "- **!=** : not equal\n",
        "- **<**\t: strictly less than\n",
        "- **<=** : less than or equal\n",
        "- **\\>** : strictly greater than\n",
        "- **\\>=** : greater than or equal\n",
        "- **is** : object identity\n",
        "- **is not** : negated object identity"
      ]
    },
    {
      "cell_type": "code",
      "execution_count": null,
      "metadata": {
        "id": "Tq1NRMjpJ-kI"
      },
      "outputs": [],
      "source": [
        "True == False"
      ]
    },
    {
      "cell_type": "code",
      "execution_count": null,
      "metadata": {
        "id": "qpq2t_sYJ-kI"
      },
      "outputs": [],
      "source": [
        "not True == False"
      ]
    },
    {
      "cell_type": "code",
      "execution_count": null,
      "metadata": {
        "id": "fXcAuhtAJ-kJ"
      },
      "outputs": [],
      "source": [
        "1 < 2 > 1"
      ]
    },
    {
      "cell_type": "code",
      "execution_count": null,
      "metadata": {
        "id": "tC-LBptmJ-kJ"
      },
      "outputs": [],
      "source": [
        "True != (False or True)"
      ]
    },
    {
      "cell_type": "code",
      "execution_count": null,
      "metadata": {
        "id": "I1MyDi1EJ-kJ"
      },
      "outputs": [],
      "source": [
        "True != False or True"
      ]
    },
    {
      "cell_type": "markdown",
      "metadata": {
        "id": "brfbgWegJ-kJ"
      },
      "source": [
        "## Indentation and whitespace\n",
        "\n",
        "In Python, statement grouping is done by indentation (this is mandatory), which are done by inserting whitespaces, not tabs. Indentation is also recommended for alignment of function calling that span more than one line for better clarity.   \n",
        "We will see examples of indentation in the next session."
      ]
    },
    {
      "cell_type": "markdown",
      "metadata": {
        "id": "qVQvJ-2NJ-kJ"
      },
      "source": [
        "## Control of flow\n",
        "\n",
        "### `if`...`elif`...`else`\n",
        "\n",
        "Conditional statements (to peform something if another thing is True or False) can be implemmented using the `if` statement:\n",
        "```\n",
        "if expression:\n",
        "   statement\n",
        "elif:\n",
        "   statement     \n",
        "else:\n",
        "   statement\n",
        "```\n",
        "`elif` (one or more) and `else` are optionals.   \n",
        "The indentation is obligatory.   \n",
        "For example:"
      ]
    },
    {
      "cell_type": "code",
      "execution_count": null,
      "metadata": {
        "id": "HdFqqxvQJ-kK"
      },
      "outputs": [],
      "source": [
        "if True:\n",
        "    pass"
      ]
    },
    {
      "cell_type": "markdown",
      "metadata": {
        "id": "3W0M6VghJ-kK"
      },
      "source": [
        "Which does nothing useful.   \n",
        "\n",
        "Let's use the `if`...`elif`...`else` statements to categorize the [body mass index](http://en.wikipedia.org/wiki/Body_mass_index) of a person:"
      ]
    },
    {
      "cell_type": "code",
      "execution_count": null,
      "metadata": {
        "id": "R5ipBPsKJ-kK"
      },
      "outputs": [],
      "source": [
        "# body mass index\n",
        "weight = 100  # kg\n",
        "height = 1.70  # m\n",
        "bmi = weight / height**2"
      ]
    },
    {
      "cell_type": "code",
      "execution_count": null,
      "metadata": {
        "id": "OOn4CQzGJ-kK"
      },
      "outputs": [],
      "source": [
        "if bmi < 15:\n",
        "    c = 'very severely underweight'\n",
        "elif 15 <= bmi < 16:\n",
        "    c = 'severely underweight'\n",
        "elif 16 <= bmi < 18.5:\n",
        "    c = 'underweight'\n",
        "elif 18.5 <= bmi < 25:\n",
        "    c = 'normal'\n",
        "elif 25 <= bmi < 30:\n",
        "    c = 'overweight'\n",
        "elif 30 <= bmi < 35:\n",
        "    c = 'moderately obese'\n",
        "elif 35 <= bmi < 40:\n",
        "    c = 'severely obese'\n",
        "else:\n",
        "    c = 'very severely obese'\n",
        "\n",
        "print('For a weight of {0:.1f} kg and a height of {1:.2f} m,\\n\\\n",
        "the body mass index (bmi) is {2:.1f} kg/m2,\\nwhich is considered {3:s}.'\\\n",
        "      .format(weight, height, bmi, c))"
      ]
    },
    {
      "cell_type": "markdown",
      "metadata": {
        "id": "pBbe6tnzJ-kL"
      },
      "source": [
        "### for\n",
        "\n",
        "The `for` statement iterates over a sequence to perform operations (a loop event).\n",
        "```\n",
        "for iterating_var in sequence:\n",
        "    statements\n",
        "```"
      ]
    },
    {
      "cell_type": "code",
      "execution_count": null,
      "metadata": {
        "id": "vfexpJO_J-kL"
      },
      "outputs": [],
      "source": [
        "for i in [3, 2, 1, 'go!']:\n",
        "    print(i, end=', ')"
      ]
    },
    {
      "cell_type": "code",
      "execution_count": null,
      "metadata": {
        "id": "lq6w8PFjJ-kL"
      },
      "outputs": [],
      "source": [
        "for letter in 'Python':\n",
        "    print(letter),"
      ]
    },
    {
      "cell_type": "markdown",
      "metadata": {
        "id": "PMDViF9AJ-kL"
      },
      "source": [
        "#### The `range()` function\n",
        "\n",
        "The built-in function range() is useful if we need to create a sequence of numbers, for example, to iterate over this list. It generates lists containing arithmetic progressions:"
      ]
    },
    {
      "cell_type": "code",
      "execution_count": null,
      "metadata": {
        "id": "Mi-F2buvJ-kL"
      },
      "outputs": [],
      "source": [
        "help(range)"
      ]
    },
    {
      "cell_type": "code",
      "execution_count": null,
      "metadata": {
        "id": "JmMNoPTxJ-kM"
      },
      "outputs": [],
      "source": [
        "range(10)"
      ]
    },
    {
      "cell_type": "code",
      "execution_count": null,
      "metadata": {
        "id": "ChXXinjIJ-kM"
      },
      "outputs": [],
      "source": [
        "range(1, 10, 2)"
      ]
    },
    {
      "cell_type": "code",
      "execution_count": null,
      "metadata": {
        "id": "6ewd8VQtJ-kM"
      },
      "outputs": [],
      "source": [
        "for i in range(10):\n",
        "    n2 = i**2\n",
        "    print(n2),"
      ]
    },
    {
      "cell_type": "markdown",
      "metadata": {
        "id": "eRwOEdQ0J-kM"
      },
      "source": [
        "### while\n",
        "\n",
        "The `while` statement is used for repeating sections of code in a loop until a condition is met (this different than the `for` statement which executes n times):\n",
        "```\n",
        "while expression:\n",
        "    statement\n",
        "```\n",
        "Let's generate the Fibonacci series using a `while` loop:"
      ]
    },
    {
      "cell_type": "code",
      "execution_count": null,
      "metadata": {
        "id": "duDEtnO4J-kN"
      },
      "outputs": [],
      "source": [
        "# Fibonacci series: the sum of two elements defines the next\n",
        "a, b = 0, 1\n",
        "while b < 1000:\n",
        "    print(b, end='   ')\n",
        "    a, b = b, a+b"
      ]
    },
    {
      "cell_type": "markdown",
      "metadata": {
        "id": "FiBpNcEmJ-kN"
      },
      "source": [
        "## Function definition\n",
        "\n",
        "A function in a programming language is a piece of code that performs a specific task. Functions are used to reduce duplication of code making easier to reuse it and to decompose complex problems into simpler parts. The use of functions contribute to the clarity of the code.\n",
        "\n",
        "A function is created with the `def` keyword and the statements in the block of the function must be indented:"
      ]
    },
    {
      "cell_type": "code",
      "execution_count": null,
      "metadata": {
        "id": "MokTs8jOJ-kN"
      },
      "outputs": [],
      "source": [
        "def function():\n",
        "    pass"
      ]
    },
    {
      "cell_type": "markdown",
      "metadata": {
        "id": "sEkkjcZQJ-kN"
      },
      "source": [
        "As per construction, this function does nothing when called:"
      ]
    },
    {
      "cell_type": "code",
      "execution_count": null,
      "metadata": {
        "id": "LHl7xfZbJ-kO"
      },
      "outputs": [],
      "source": [
        "function()"
      ]
    },
    {
      "cell_type": "markdown",
      "metadata": {
        "id": "mSbnYbHSJ-kO"
      },
      "source": [
        "The general syntax of a function definition is:\n",
        "```\n",
        "def function_name( parameters ):\n",
        "   \"\"\"Function docstring.\n",
        "\n",
        "   The help for the function\n",
        "\n",
        "   \"\"\"\n",
        "\n",
        "   function body\n",
        "\n",
        "   return variables\n",
        "```\n",
        "A more useful function:"
      ]
    },
    {
      "cell_type": "code",
      "execution_count": null,
      "metadata": {
        "id": "hZ1PlhwTJ-kO"
      },
      "outputs": [],
      "source": [
        "def fibo(N):\n",
        "    \"\"\"Fibonacci series: the sum of two elements defines the next.\n",
        "\n",
        "    The series is calculated till the input parameter N and\n",
        "    returned as an ouput variable.\n",
        "\n",
        "    \"\"\"\n",
        "\n",
        "    a, b, c = 0, 1, []\n",
        "    while b < N:\n",
        "        c.append(b)\n",
        "        a, b = b, a + b\n",
        "\n",
        "    return c"
      ]
    },
    {
      "cell_type": "code",
      "execution_count": null,
      "metadata": {
        "id": "HivE1p0lJ-kO"
      },
      "outputs": [],
      "source": [
        "fibo(100)"
      ]
    },
    {
      "cell_type": "code",
      "execution_count": null,
      "metadata": {
        "id": "W5LFIvkCJ-kP"
      },
      "outputs": [],
      "source": [
        "if 3 > 2:\n",
        "       print('teste')"
      ]
    },
    {
      "cell_type": "markdown",
      "metadata": {
        "id": "fnURIaQAJ-kP"
      },
      "source": [
        "Let's implemment the body mass index calculus and categorization as a function:"
      ]
    },
    {
      "cell_type": "code",
      "execution_count": null,
      "metadata": {
        "id": "H5LoWWJFJ-kP"
      },
      "outputs": [],
      "source": [
        "def bmi(weight, height):\n",
        "    \"\"\"Body mass index calculus and categorization.\n",
        "\n",
        "    Enter the weight in kg and the height in m.\n",
        "    See http://en.wikipedia.org/wiki/Body_mass_index\n",
        "\n",
        "    \"\"\"\n",
        "\n",
        "    bmi = weight / height**2\n",
        "\n",
        "    if bmi < 15:\n",
        "     c = 'very severely underweight'\n",
        "    elif 15 <= bmi < 16:\n",
        "        c = 'severely underweight'\n",
        "    elif 16 <= bmi < 18.5:\n",
        "        c = 'underweight'\n",
        "    elif 18.5 <= bmi < 25:\n",
        "        c = 'normal'\n",
        "    elif 25 <= bmi < 30:\n",
        "      c = 'overweight'\n",
        "    elif 30 <= bmi < 35:\n",
        "        c = 'moderately obese'\n",
        "    elif 35 <= bmi < 40:\n",
        "        c = 'severely obese'\n",
        "    else:\n",
        "        c = 'very severely obese'\n",
        "\n",
        "    s = 'For a weight of {0:.1f} kg and a height of {1:.2f} m,\\\n",
        "    the body mass index (bmi) is {2:.1f} kg/m2,\\\n",
        "    which is considered {3:s}.'\\\n",
        "    .format(weight, height, bmi, c)\n",
        "\n",
        "    print(s)"
      ]
    },
    {
      "cell_type": "code",
      "execution_count": null,
      "metadata": {
        "id": "DslqRKfuJ-kP"
      },
      "outputs": [],
      "source": [
        "bmi(73, 1.70)"
      ]
    },
    {
      "cell_type": "markdown",
      "metadata": {
        "id": "4UvAAHfDJ-kQ"
      },
      "source": [
        "## Numeric data manipulation with Numpy\n",
        "\n",
        "Numpy is the fundamental package for scientific computing in Python and has a N-dimensional array package convenient to work with numerical data. With Numpy it's much easier and faster to work with numbers grouped as 1-D arrays (a vector), 2-D arrays (like a table or matrix), or higher dimensions. Let's create 1-D and 2-D arrays in Numpy:"
      ]
    },
    {
      "cell_type": "code",
      "execution_count": 2,
      "metadata": {
        "run_control": {
          "breakpoint": false
        },
        "id": "fARXA0xrJ-kQ"
      },
      "outputs": [],
      "source": [
        "import numpy as np"
      ]
    },
    {
      "cell_type": "code",
      "execution_count": 3,
      "metadata": {
        "run_control": {
          "breakpoint": false
        },
        "id": "Y1btT-j4J-kQ",
        "colab": {
          "base_uri": "https://localhost:8080/"
        },
        "outputId": "568938e4-9d35-453e-aa8b-c7ab12b2082d"
      },
      "outputs": [
        {
          "output_type": "stream",
          "name": "stdout",
          "text": [
            "<class 'numpy.ndarray'>\n"
          ]
        },
        {
          "output_type": "execute_result",
          "data": {
            "text/plain": [
              "array([1, 2, 3, 4, 5, 6])"
            ]
          },
          "metadata": {},
          "execution_count": 3
        }
      ],
      "source": [
        "x1d = np.array([1, 2, 3, 4, 5, 6])\n",
        "print(type(x1d))\n",
        "x1d"
      ]
    },
    {
      "cell_type": "code",
      "execution_count": 4,
      "metadata": {
        "run_control": {
          "breakpoint": false
        },
        "id": "H7yd75cRJ-kQ",
        "colab": {
          "base_uri": "https://localhost:8080/"
        },
        "outputId": "8403f286-5651-45ac-ef15-355d6754d953"
      },
      "outputs": [
        {
          "output_type": "execute_result",
          "data": {
            "text/plain": [
              "array([[1, 2, 3],\n",
              "       [4, 5, 6]])"
            ]
          },
          "metadata": {},
          "execution_count": 4
        }
      ],
      "source": [
        "x2d = np.array([[1, 2, 3], [4, 5, 6]])\n",
        "x2d"
      ]
    },
    {
      "cell_type": "markdown",
      "metadata": {
        "id": "QucDdCQGJ-kR"
      },
      "source": [
        "len() and the Numpy functions size() and shape() give information aboout the number of elements and the structure of the Numpy array:"
      ]
    },
    {
      "cell_type": "code",
      "execution_count": 5,
      "metadata": {
        "run_control": {
          "breakpoint": false
        },
        "id": "EMWLUEqxJ-kR",
        "colab": {
          "base_uri": "https://localhost:8080/"
        },
        "outputId": "c05d914d-8485-4b31-b676-b7550366d5af"
      },
      "outputs": [
        {
          "output_type": "stream",
          "name": "stdout",
          "text": [
            "1-d array:\n",
            "[1 2 3 4 5 6]\n",
            "len(x1d) =  6\n",
            "np.size(x1d) =  6\n",
            "np.shape(x1d) =  (6,)\n",
            "np.ndim(x1d) =  1\n",
            "\n",
            "2-d array:\n",
            "[[1 2 3]\n",
            " [4 5 6]]\n",
            "len(x2d) =  2\n",
            "np.size(x2d) =  6\n",
            "np.shape(x2d) =  (2, 3)\n",
            "np.ndim(x2d) =  2\n"
          ]
        }
      ],
      "source": [
        "print('1-d array:')\n",
        "print(x1d)\n",
        "print('len(x1d) = ', len(x1d))\n",
        "print('np.size(x1d) = ', np.size(x1d))\n",
        "print('np.shape(x1d) = ', np.shape(x1d))\n",
        "print('np.ndim(x1d) = ', np.ndim(x1d))\n",
        "print('\\n2-d array:')\n",
        "print(x2d)\n",
        "print('len(x2d) = ', len(x2d))\n",
        "print('np.size(x2d) = ', np.size(x2d))\n",
        "print('np.shape(x2d) = ', np.shape(x2d))\n",
        "print('np.ndim(x2d) = ', np.ndim(x2d))"
      ]
    },
    {
      "cell_type": "markdown",
      "metadata": {
        "id": "0yxM3Nm8J-kR"
      },
      "source": [
        "Create random data"
      ]
    },
    {
      "cell_type": "code",
      "execution_count": 6,
      "metadata": {
        "run_control": {
          "breakpoint": false
        },
        "id": "gtvPAjAtJ-kR",
        "colab": {
          "base_uri": "https://localhost:8080/"
        },
        "outputId": "283b2126-56e5-4766-e087-218c53874ff5"
      },
      "outputs": [
        {
          "output_type": "execute_result",
          "data": {
            "text/plain": [
              "array([[ 0.64904804,  0.18555854, -1.04376783],\n",
              "       [-1.61315003, -0.36981362,  0.56190893],\n",
              "       [ 1.54122048, -0.12391706,  0.19090342],\n",
              "       [ 0.07474882,  0.22379742,  0.26319027]])"
            ]
          },
          "metadata": {},
          "execution_count": 6
        }
      ],
      "source": [
        "x = np.random.randn(4,3)\n",
        "x"
      ]
    },
    {
      "cell_type": "markdown",
      "metadata": {
        "id": "fxtQQG6lJ-kR"
      },
      "source": [
        "Joining (stacking together) arrays"
      ]
    },
    {
      "cell_type": "code",
      "execution_count": 7,
      "metadata": {
        "run_control": {
          "breakpoint": false
        },
        "id": "ETZVPSdSJ-kR",
        "colab": {
          "base_uri": "https://localhost:8080/"
        },
        "outputId": "f35b7bdf-7e06-4ed3-8681-e4f0fba8e37a"
      },
      "outputs": [
        {
          "output_type": "stream",
          "name": "stdout",
          "text": [
            "[[3 0 3]\n",
            " [1 3 4]]\n",
            "[[6 6 6]\n",
            " [9 7 7]]\n"
          ]
        }
      ],
      "source": [
        "x = np.random.randint(0, 5, size=(2, 3))\n",
        "print(x)\n",
        "y = np.random.randint(5, 10, size=(2, 3))\n",
        "print(y)"
      ]
    },
    {
      "cell_type": "code",
      "execution_count": 8,
      "metadata": {
        "run_control": {
          "breakpoint": false
        },
        "id": "3_WauBUwJ-kS",
        "colab": {
          "base_uri": "https://localhost:8080/"
        },
        "outputId": "98d35a92-d247-4926-e2c2-6ee4edcc96df"
      },
      "outputs": [
        {
          "output_type": "execute_result",
          "data": {
            "text/plain": [
              "array([[3, 0, 3],\n",
              "       [1, 3, 4],\n",
              "       [6, 6, 6],\n",
              "       [9, 7, 7]])"
            ]
          },
          "metadata": {},
          "execution_count": 8
        }
      ],
      "source": [
        "np.vstack((x,y))"
      ]
    },
    {
      "cell_type": "code",
      "execution_count": 9,
      "metadata": {
        "run_control": {
          "breakpoint": false
        },
        "id": "clIJj3RXJ-kS",
        "colab": {
          "base_uri": "https://localhost:8080/"
        },
        "outputId": "2822cf68-bb00-4996-98ad-10e2f10c0afa"
      },
      "outputs": [
        {
          "output_type": "execute_result",
          "data": {
            "text/plain": [
              "array([[3, 0, 3, 6, 6, 6],\n",
              "       [1, 3, 4, 9, 7, 7]])"
            ]
          },
          "metadata": {},
          "execution_count": 9
        }
      ],
      "source": [
        "np.hstack((x,y))"
      ]
    },
    {
      "cell_type": "markdown",
      "metadata": {
        "id": "J_yek0YrJ-kS"
      },
      "source": [
        "Create equally spaced data"
      ]
    },
    {
      "cell_type": "code",
      "execution_count": null,
      "metadata": {
        "run_control": {
          "breakpoint": false
        },
        "id": "s91rbxhqJ-kS"
      },
      "outputs": [],
      "source": [
        "np.arange(start = 1, stop = 10, step = 2)"
      ]
    },
    {
      "cell_type": "code",
      "execution_count": null,
      "metadata": {
        "run_control": {
          "breakpoint": false
        },
        "id": "jbpYUmDKJ-kS"
      },
      "outputs": [],
      "source": [
        "np.linspace(start = 0, stop = 1, num = 11)"
      ]
    },
    {
      "cell_type": "markdown",
      "metadata": {
        "id": "F22L1NdkJ-kS"
      },
      "source": [
        "### Interpolation\n",
        "\n",
        "Consider the following data:"
      ]
    },
    {
      "cell_type": "code",
      "execution_count": 10,
      "metadata": {
        "run_control": {
          "breakpoint": false
        },
        "id": "NDh30VOqJ-kT"
      },
      "outputs": [],
      "source": [
        "y = [5,  4, 10,  8,  1, 10,  2,  7,  1,  3]"
      ]
    },
    {
      "cell_type": "markdown",
      "metadata": {
        "id": "WOkEk73PJ-kT"
      },
      "source": [
        "Suppose we want to create data in between the given data points (interpolation); for instance, let's try to double the resolution of the data by generating twice as many data:"
      ]
    },
    {
      "cell_type": "code",
      "execution_count": 11,
      "metadata": {
        "run_control": {
          "breakpoint": false
        },
        "id": "rgXDq-k-J-kV",
        "colab": {
          "base_uri": "https://localhost:8080/"
        },
        "outputId": "21ad14a8-839d-4e27-83ee-7317f243efa7"
      },
      "outputs": [
        {
          "output_type": "execute_result",
          "data": {
            "text/plain": [
              "array([5.        , 4.52631579, 4.05263158, 6.52631579, 9.36842105,\n",
              "       9.26315789, 8.31578947, 5.78947368, 2.47368421, 3.36842105,\n",
              "       7.63157895, 8.31578947, 4.52631579, 2.78947368, 5.15789474,\n",
              "       6.36842105, 3.52631579, 1.10526316, 2.05263158, 3.        ])"
            ]
          },
          "metadata": {},
          "execution_count": 11
        }
      ],
      "source": [
        "t = np.linspace(0, len(y), len(y))       # time vector for the original data\n",
        "tn = np.linspace(0, len(y), 2 * len(y))  # new time vector for the new time-normalized data\n",
        "yn = np.interp(tn, t, y)                 # new time-normalized data\n",
        "yn"
      ]
    },
    {
      "cell_type": "markdown",
      "metadata": {
        "id": "N1XzNCyAJ-kV"
      },
      "source": [
        "The key is the Numpy `interp` function, from its help:   \n",
        "\n",
        "    interp(x, xp, fp, left=None, right=None)       \n",
        "    One-dimensional linear interpolation.   \n",
        "    Returns the one-dimensional piecewise linear interpolant to a function with given values at discrete data-points.\n",
        "\n",
        "A plot of the data will show what we have done:"
      ]
    },
    {
      "cell_type": "code",
      "execution_count": 12,
      "metadata": {
        "run_control": {
          "breakpoint": false
        },
        "id": "Xhf8zzCkJ-kV",
        "colab": {
          "base_uri": "https://localhost:8080/",
          "height": 445
        },
        "outputId": "302596b3-b63f-46b2-ad93-4cd94c0f7da1"
      },
      "outputs": [
        {
          "output_type": "display_data",
          "data": {
            "text/plain": [
              "<Figure size 1000x500 with 1 Axes>"
            ],
            "image/png": "[encoded data removed]"
          },
          "metadata": {}
        }
      ],
      "source": [
        "import matplotlib.pyplot as plt\n",
        "plt.figure(figsize=(10,5))\n",
        "plt.plot(t, y, 'bo-', lw=2, label='original data')\n",
        "plt.plot(tn, yn, '.-', color=[1, 0, 0, .5], lw=2, label='interpolated')\n",
        "plt.legend(loc='best', framealpha=.5)\n",
        "plt.show()"
      ]
    },
    {
      "cell_type": "markdown",
      "metadata": {
        "id": "tt3qzQVcJ-kV"
      },
      "source": [
        "For more about Numpy, see [http://www.numpy.org/](http://www.numpy.org/)."
      ]
    },
    {
      "cell_type": "markdown",
      "metadata": {
        "id": "-1viUs3-J-kW"
      },
      "source": [
        "## Read and save files\n",
        "\n",
        "There are two kinds of computer files: text files and binary files:\n",
        "> Text file: computer file where the content is structured as a sequence of lines of electronic text. Text files can contain plain text (letters, numbers, and symbols) but they are not limited to such. The type of content in the text file is defined by the Unicode encoding (a computing industry standard for the consistent encoding, representation and handling of text expressed in most of the world's writing systems).   \n",
        ">\n",
        "> Binary file: computer file where the content is encoded in binary form, a sequence of integers representing byte values.\n",
        "\n",
        "Let's see how to save and read numeric data stored in a text file:\n",
        "\n",
        "**Using plain Python**"
      ]
    },
    {
      "cell_type": "code",
      "execution_count": null,
      "metadata": {
        "run_control": {
          "breakpoint": false
        },
        "id": "BgSl0GHYJ-kW"
      },
      "outputs": [],
      "source": [
        "f = open(\"newfile.txt\", \"w\")           # open file for writing\n",
        "f.write(\"This is a test\\n\")            # save to file\n",
        "f.write(\"And here is another line\\n\")  # save to file\n",
        "f.close()\n",
        "f = open('newfile.txt', 'r')           # open file for reading\n",
        "f = f.read()                           # read from file\n",
        "print(f)"
      ]
    },
    {
      "cell_type": "code",
      "execution_count": null,
      "metadata": {
        "run_control": {
          "breakpoint": false
        },
        "id": "G27mTms_J-kW"
      },
      "outputs": [],
      "source": [
        "help(open)"
      ]
    },
    {
      "cell_type": "markdown",
      "metadata": {
        "id": "s9kbyRARJ-kW"
      },
      "source": [
        "**Using Numpy**"
      ]
    },
    {
      "cell_type": "code",
      "execution_count": 13,
      "metadata": {
        "run_control": {
          "breakpoint": false
        },
        "id": "dlB8I05VJ-kW",
        "colab": {
          "base_uri": "https://localhost:8080/"
        },
        "outputId": "caf25349-f5b5-46a4-8f73-887e670d4da6"
      },
      "outputs": [
        {
          "output_type": "execute_result",
          "data": {
            "text/plain": [
              "array([[ 1.07597  , -0.922058 ,  0.94503  ],\n",
              "       [-1.03802  , -0.373469 ,  2.03777  ],\n",
              "       [-0.0813479, -0.142094 , -0.0509791]])"
            ]
          },
          "metadata": {},
          "execution_count": 13
        }
      ],
      "source": [
        "import numpy as np\n",
        "data = np.random.randn(3,3)\n",
        "np.savetxt('myfile.txt', data, fmt=\"%12.6G\")    # save to file\n",
        "data = np.genfromtxt('myfile.txt', unpack=True) # read from file\n",
        "data"
      ]
    },
    {
      "cell_type": "markdown",
      "source": [
        "### Mount the Google Drive"
      ],
      "metadata": {
        "id": "N5gFCECRld0v"
      }
    },
    {
      "cell_type": "code",
      "source": [
        "from google.colab import drive\n",
        "drive.mount('/content/drive')"
      ],
      "metadata": {
        "colab": {
          "base_uri": "https://localhost:8080/"
        },
        "id": "xUMde8QWleMb",
        "outputId": "e55e7615-53e6-4292-d824-c8c5fb4e7610"
      },
      "execution_count": 13,
      "outputs": [
        {
          "output_type": "stream",
          "name": "stdout",
          "text": [
            "Mounted at /content/drive\n"
          ]
        }
      ]
    },
    {
      "cell_type": "markdown",
      "source": [
        "For example, using pandas to read a csv file in the Google Drive:"
      ],
      "metadata": {
        "id": "g2TsnoJSmMgf"
      }
    },
    {
      "cell_type": "code",
      "source": [
        "import pandas as pd\n",
        "tabela = pd.read_csv('/content/sample_data/california_housing_test.csv')\n",
        "tabela"
      ],
      "metadata": {
        "colab": {
          "base_uri": "https://localhost:8080/",
          "height": 423
        },
        "id": "H9lmgsiQleSH",
        "outputId": "4e156b4a-bc17-4597-864f-d5c5f7a44893"
      },
      "execution_count": 18,
      "outputs": [
        {
          "output_type": "execute_result",
          "data": {
            "text/plain": [
              "      longitude  latitude  housing_median_age  total_rooms  total_bedrooms  \\\n",
              "0       -122.05     37.37                27.0       3885.0           661.0   \n",
              "1       -118.30     34.26                43.0       1510.0           310.0   \n",
              "2       -117.81     33.78                27.0       3589.0           507.0   \n",
              "3       -118.36     33.82                28.0         67.0            15.0   \n",
              "4       -119.67     36.33                19.0       1241.0           244.0   \n",
              "...         ...       ...                 ...          ...             ...   \n",
              "2995    -119.86     34.42                23.0       1450.0           642.0   \n",
              "2996    -118.14     34.06                27.0       5257.0          1082.0   \n",
              "2997    -119.70     36.30                10.0        956.0           201.0   \n",
              "2998    -117.12     34.10                40.0         96.0            14.0   \n",
              "2999    -119.63     34.42                42.0       1765.0           263.0   \n",
              "\n",
              "      population  households  median_income  median_house_value  \n",
              "0         1537.0       606.0         6.6085            344700.0  \n",
              "1          809.0       277.0         3.5990            176500.0  \n",
              "2         1484.0       495.0         5.7934            270500.0  \n",
              "3           49.0        11.0         6.1359            330000.0  \n",
              "4          850.0       237.0         2.9375             81700.0  \n",
              "...          ...         ...            ...                 ...  \n",
              "2995      1258.0       607.0         1.1790            225000.0  \n",
              "2996      3496.0      1036.0         3.3906            237200.0  \n",
              "2997       693.0       220.0         2.2895             62000.0  \n",
              "2998        46.0        14.0         3.2708            162500.0  \n",
              "2999       753.0       260.0         8.5608            500001.0  \n",
              "\n",
              "[3000 rows x 9 columns]"
            ],
            "text/html": [
              "\n",
              "  <div id=\"df-adc024be-f7df-4e5e-889f-67686cd53bc3\" class=\"colab-df-container\">\n",
              "    <div>\n",
              "<style scoped>\n",
              "    .dataframe tbody tr th:only-of-type {\n",
              "        vertical-align: middle;\n",
              "    }\n",
              "\n",
              "    .dataframe tbody tr th {\n",
              "        vertical-align: top;\n",
              "    }\n",
              "\n",
              "    .dataframe thead th {\n",
              "        text-align: right;\n",
              "    }\n",
              "</style>\n",
              "<table border=\"1\" class=\"dataframe\">\n",
              "  <thead>\n",
              "    <tr style=\"text-align: right;\">\n",
              "      <th></th>\n",
              "      <th>longitude</th>\n",
              "      <th>latitude</th>\n",
              "      <th>housing_median_age</th>\n",
              "      <th>total_rooms</th>\n",
              "      <th>total_bedrooms</th>\n",
              "      <th>population</th>\n",
              "      <th>households</th>\n",
              "      <th>median_income</th>\n",
              "      <th>median_house_value</th>\n",
              "    </tr>\n",
              "  </thead>\n",
              "  <tbody>\n",
              "    <tr>\n",
              "      <th>0</th>\n",
              "      <td>-122.05</td>\n",
              "      <td>37.37</td>\n",
              "      <td>27.0</td>\n",
              "      <td>3885.0</td>\n",
              "      <td>661.0</td>\n",
              "      <td>1537.0</td>\n",
              "      <td>606.0</td>\n",
              "      <td>6.6085</td>\n",
              "      <td>344700.0</td>\n",
              "    </tr>\n",
              "    <tr>\n",
              "      <th>1</th>\n",
              "      <td>-118.30</td>\n",
              "      <td>34.26</td>\n",
              "      <td>43.0</td>\n",
              "      <td>1510.0</td>\n",
              "      <td>310.0</td>\n",
              "      <td>809.0</td>\n",
              "      <td>277.0</td>\n",
              "      <td>3.5990</td>\n",
              "      <td>176500.0</td>\n",
              "    </tr>\n",
              "    <tr>\n",
              "      <th>2</th>\n",
              "      <td>-117.81</td>\n",
              "      <td>33.78</td>\n",
              "      <td>27.0</td>\n",
              "      <td>3589.0</td>\n",
              "      <td>507.0</td>\n",
              "      <td>1484.0</td>\n",
              "      <td>495.0</td>\n",
              "      <td>5.7934</td>\n",
              "      <td>270500.0</td>\n",
              "    </tr>\n",
              "    <tr>\n",
              "      <th>3</th>\n",
              "      <td>-118.36</td>\n",
              "      <td>33.82</td>\n",
              "      <td>28.0</td>\n",
              "      <td>67.0</td>\n",
              "      <td>15.0</td>\n",
              "      <td>49.0</td>\n",
              "      <td>11.0</td>\n",
              "      <td>6.1359</td>\n",
              "      <td>330000.0</td>\n",
              "    </tr>\n",
              "    <tr>\n",
              "      <th>4</th>\n",
              "      <td>-119.67</td>\n",
              "      <td>36.33</td>\n",
              "      <td>19.0</td>\n",
              "      <td>1241.0</td>\n",
              "      <td>244.0</td>\n",
              "      <td>850.0</td>\n",
              "      <td>237.0</td>\n",
              "      <td>2.9375</td>\n",
              "      <td>81700.0</td>\n",
              "    </tr>\n",
              "    <tr>\n",
              "      <th>...</th>\n",
              "      <td>...</td>\n",
              "      <td>...</td>\n",
              "      <td>...</td>\n",
              "      <td>...</td>\n",
              "      <td>...</td>\n",
              "      <td>...</td>\n",
              "      <td>...</td>\n",
              "      <td>...</td>\n",
              "      <td>...</td>\n",
              "    </tr>\n",
              "    <tr>\n",
              "      <th>2995</th>\n",
              "      <td>-119.86</td>\n",
              "      <td>34.42</td>\n",
              "      <td>23.0</td>\n",
              "      <td>1450.0</td>\n",
              "      <td>642.0</td>\n",
              "      <td>1258.0</td>\n",
              "      <td>607.0</td>\n",
              "      <td>1.1790</td>\n",
              "      <td>225000.0</td>\n",
              "    </tr>\n",
              "    <tr>\n",
              "      <th>2996</th>\n",
              "      <td>-118.14</td>\n",
              "      <td>34.06</td>\n",
              "      <td>27.0</td>\n",
              "      <td>5257.0</td>\n",
              "      <td>1082.0</td>\n",
              "      <td>3496.0</td>\n",
              "      <td>1036.0</td>\n",
              "      <td>3.3906</td>\n",
              "      <td>237200.0</td>\n",
              "    </tr>\n",
              "    <tr>\n",
              "      <th>2997</th>\n",
              "      <td>-119.70</td>\n",
              "      <td>36.30</td>\n",
              "      <td>10.0</td>\n",
              "      <td>956.0</td>\n",
              "      <td>201.0</td>\n",
              "      <td>693.0</td>\n",
              "      <td>220.0</td>\n",
              "      <td>2.2895</td>\n",
              "      <td>62000.0</td>\n",
              "    </tr>\n",
              "    <tr>\n",
              "      <th>2998</th>\n",
              "      <td>-117.12</td>\n",
              "      <td>34.10</td>\n",
              "      <td>40.0</td>\n",
              "      <td>96.0</td>\n",
              "      <td>14.0</td>\n",
              "      <td>46.0</td>\n",
              "      <td>14.0</td>\n",
              "      <td>3.2708</td>\n",
              "      <td>162500.0</td>\n",
              "    </tr>\n",
              "    <tr>\n",
              "      <th>2999</th>\n",
              "      <td>-119.63</td>\n",
              "      <td>34.42</td>\n",
              "      <td>42.0</td>\n",
              "      <td>1765.0</td>\n",
              "      <td>263.0</td>\n",
              "      <td>753.0</td>\n",
              "      <td>260.0</td>\n",
              "      <td>8.5608</td>\n",
              "      <td>500001.0</td>\n",
              "    </tr>\n",
              "  </tbody>\n",
              "</table>\n",
              "<p>3000 rows × 9 columns</p>\n",
              "</div>\n",
              "    <div class=\"colab-df-buttons\">\n",
              "\n",
              "  <div class=\"colab-df-container\">\n",
              "    <button class=\"colab-df-convert\" onclick=\"convertToInteractive('df-adc024be-f7df-4e5e-889f-67686cd53bc3')\"\n",
              "            title=\"Convert this dataframe to an interactive table.\"\n",
              "            style=\"display:none;\">\n",
              "\n",
              "  <svg xmlns=\"http://www.w3.org/2000/svg\" height=\"24px\" viewBox=\"0 -960 960 960\">\n",
              "    <path d=\"M120-120v-720h720v720H120Zm60-500h600v-160H180v160Zm220 220h160v-160H400v160Zm0 220h160v-160H400v160ZM180-400h160v-160H180v160Zm440 0h160v-160H620v160ZM180-180h160v-160H180v160Zm440 0h160v-160H620v160Z\"/>\n",
              "  </svg>\n",
              "    </button>\n",
              "\n",
              "  <style>\n",
              "    .colab-df-container {\n",
              "      display:flex;\n",
              "      gap: 12px;\n",
              "    }\n",
              "\n",
              "    .colab-df-convert {\n",
              "      background-color: #E8F0FE;\n",
              "      border: none;\n",
              "      border-radius: 50%;\n",
              "      cursor: pointer;\n",
              "      display: none;\n",
              "      fill: #1967D2;\n",
              "      height: 32px;\n",
              "      padding: 0 0 0 0;\n",
              "      width: 32px;\n",
              "    }\n",
              "\n",
              "    .colab-df-convert:hover {\n",
              "      background-color: #E2EBFA;\n",
              "      box-shadow: 0px 1px 2px rgba(60, 64, 67, 0.3), 0px 1px 3px 1px rgba(60, 64, 67, 0.15);\n",
              "      fill: #174EA6;\n",
              "    }\n",
              "\n",
              "    .colab-df-buttons div {\n",
              "      margin-bottom: 4px;\n",
              "    }\n",
              "\n",
              "    [theme=dark] .colab-df-convert {\n",
              "      background-color: #3B4455;\n",
              "      fill: #D2E3FC;\n",
              "    }\n",
              "\n",
              "    [theme=dark] .colab-df-convert:hover {\n",
              "      background-color: #434B5C;\n",
              "      box-shadow: 0px 1px 3px 1px rgba(0, 0, 0, 0.15);\n",
              "      filter: drop-shadow(0px 1px 2px rgba(0, 0, 0, 0.3));\n",
              "      fill: #FFFFFF;\n",
              "    }\n",
              "  </style>\n",
              "\n",
              "    <script>\n",
              "      const buttonEl =\n",
              "        document.querySelector('#df-adc024be-f7df-4e5e-889f-67686cd53bc3 button.colab-df-convert');\n",
              "      buttonEl.style.display =\n",
              "        google.colab.kernel.accessAllowed ? 'block' : 'none';\n",
              "\n",
              "      async function convertToInteractive(key) {\n",
              "        const element = document.querySelector('#df-adc024be-f7df-4e5e-889f-67686cd53bc3');\n",
              "        const dataTable =\n",
              "          await google.colab.kernel.invokeFunction('convertToInteractive',\n",
              "                                                    [key], {});\n",
              "        if (!dataTable) return;\n",
              "\n",
              "        const docLinkHtml = 'Like what you see? Visit the ' +\n",
              "          '<a target=\"_blank\" href=https://colab.research.google.com/notebooks/data_table.ipynb>data table notebook</a>'\n",
              "          + ' to learn more about interactive tables.';\n",
              "        element.innerHTML = '';\n",
              "        dataTable['output_type'] = 'display_data';\n",
              "        await google.colab.output.renderOutput(dataTable, element);\n",
              "        const docLink = document.createElement('div');\n",
              "        docLink.innerHTML = docLinkHtml;\n",
              "        element.appendChild(docLink);\n",
              "      }\n",
              "    </script>\n",
              "  </div>\n",
              "\n",
              "\n",
              "<div id=\"df-07f0e68e-900b-4d32-ba82-7aa2cfc21dd0\">\n",
              "  <button class=\"colab-df-quickchart\" onclick=\"quickchart('df-07f0e68e-900b-4d32-ba82-7aa2cfc21dd0')\"\n",
              "            title=\"Suggest charts\"\n",
              "            style=\"display:none;\">\n",
              "\n",
              "<svg xmlns=\"http://www.w3.org/2000/svg\" height=\"24px\"viewBox=\"0 0 24 24\"\n",
              "     width=\"24px\">\n",
              "    <g>\n",
              "        <path d=\"M19 3H5c-1.1 0-2 .9-2 2v14c0 1.1.9 2 2 2h14c1.1 0 2-.9 2-2V5c0-1.1-.9-2-2-2zM9 17H7v-7h2v7zm4 0h-2V7h2v10zm4 0h-2v-4h2v4z\"/>\n",
              "    </g>\n",
              "</svg>\n",
              "  </button>\n",
              "\n",
              "<style>\n",
              "  .colab-df-quickchart {\n",
              "      --bg-color: #E8F0FE;\n",
              "      --fill-color: #1967D2;\n",
              "      --hover-bg-color: #E2EBFA;\n",
              "      --hover-fill-color: #174EA6;\n",
              "      --disabled-fill-color: #AAA;\n",
              "      --disabled-bg-color: #DDD;\n",
              "  }\n",
              "\n",
              "  [theme=dark] .colab-df-quickchart {\n",
              "      --bg-color: #3B4455;\n",
              "      --fill-color: #D2E3FC;\n",
              "      --hover-bg-color: #434B5C;\n",
              "      --hover-fill-color: #FFFFFF;\n",
              "      --disabled-bg-color: #3B4455;\n",
              "      --disabled-fill-color: #666;\n",
              "  }\n",
              "\n",
              "  .colab-df-quickchart {\n",
              "    background-color: var(--bg-color);\n",
              "    border: none;\n",
              "    border-radius: 50%;\n",
              "    cursor: pointer;\n",
              "    display: none;\n",
              "    fill: var(--fill-color);\n",
              "    height: 32px;\n",
              "    padding: 0;\n",
              "    width: 32px;\n",
              "  }\n",
              "\n",
              "  .colab-df-quickchart:hover {\n",
              "    background-color: var(--hover-bg-color);\n",
              "    box-shadow: 0 1px 2px rgba(60, 64, 67, 0.3), 0 1px 3px 1px rgba(60, 64, 67, 0.15);\n",
              "    fill: var(--button-hover-fill-color);\n",
              "  }\n",
              "\n",
              "  .colab-df-quickchart-complete:disabled,\n",
              "  .colab-df-quickchart-complete:disabled:hover {\n",
              "    background-color: var(--disabled-bg-color);\n",
              "    fill: var(--disabled-fill-color);\n",
              "    box-shadow: none;\n",
              "  }\n",
              "\n",
              "  .colab-df-spinner {\n",
              "    border: 2px solid var(--fill-color);\n",
              "    border-color: transparent;\n",
              "    border-bottom-color: var(--fill-color);\n",
              "    animation:\n",
              "      spin 1s steps(1) infinite;\n",
              "  }\n",
              "\n",
              "  @keyframes spin {\n",
              "    0% {\n",
              "      border-color: transparent;\n",
              "      border-bottom-color: var(--fill-color);\n",
              "      border-left-color: var(--fill-color);\n",
              "    }\n",
              "    20% {\n",
              "      border-color: transparent;\n",
              "      border-left-color: var(--fill-color);\n",
              "      border-top-color: var(--fill-color);\n",
              "    }\n",
              "    30% {\n",
              "      border-color: transparent;\n",
              "      border-left-color: var(--fill-color);\n",
              "      border-top-color: var(--fill-color);\n",
              "      border-right-color: var(--fill-color);\n",
              "    }\n",
              "    40% {\n",
              "      border-color: transparent;\n",
              "      border-right-color: var(--fill-color);\n",
              "      border-top-color: var(--fill-color);\n",
              "    }\n",
              "    60% {\n",
              "      border-color: transparent;\n",
              "      border-right-color: var(--fill-color);\n",
              "    }\n",
              "    80% {\n",
              "      border-color: transparent;\n",
              "      border-right-color: var(--fill-color);\n",
              "      border-bottom-color: var(--fill-color);\n",
              "    }\n",
              "    90% {\n",
              "      border-color: transparent;\n",
              "      border-bottom-color: var(--fill-color);\n",
              "    }\n",
              "  }\n",
              "</style>\n",
              "\n",
              "  <script>\n",
              "    async function quickchart(key) {\n",
              "      const quickchartButtonEl =\n",
              "        document.querySelector('#' + key + ' button');\n",
              "      quickchartButtonEl.disabled = true;  // To prevent multiple clicks.\n",
              "      quickchartButtonEl.classList.add('colab-df-spinner');\n",
              "      try {\n",
              "        const charts = await google.colab.kernel.invokeFunction(\n",
              "            'suggestCharts', [key], {});\n",
              "      } catch (error) {\n",
              "        console.error('Error during call to suggestCharts:', error);\n",
              "      }\n",
              "      quickchartButtonEl.classList.remove('colab-df-spinner');\n",
              "      quickchartButtonEl.classList.add('colab-df-quickchart-complete');\n",
              "    }\n",
              "    (() => {\n",
              "      let quickchartButtonEl =\n",
              "        document.querySelector('#df-07f0e68e-900b-4d32-ba82-7aa2cfc21dd0 button');\n",
              "      quickchartButtonEl.style.display =\n",
              "        google.colab.kernel.accessAllowed ? 'block' : 'none';\n",
              "    })();\n",
              "  </script>\n",
              "</div>\n",
              "\n",
              "  <div id=\"id_c3202be3-8ea5-4a81-9041-cbb09db2fccf\">\n",
              "    <style>\n",
              "      .colab-df-generate {\n",
              "        background-color: #E8F0FE;\n",
              "        border: none;\n",
              "        border-radius: 50%;\n",
              "        cursor: pointer;\n",
              "        display: none;\n",
              "        fill: #1967D2;\n",
              "        height: 32px;\n",
              "        padding: 0 0 0 0;\n",
              "        width: 32px;\n",
              "      }\n",
              "\n",
              "      .colab-df-generate:hover {\n",
              "        background-color: #E2EBFA;\n",
              "        box-shadow: 0px 1px 2px rgba(60, 64, 67, 0.3), 0px 1px 3px 1px rgba(60, 64, 67, 0.15);\n",
              "        fill: #174EA6;\n",
              "      }\n",
              "\n",
              "      [theme=dark] .colab-df-generate {\n",
              "        background-color: #3B4455;\n",
              "        fill: #D2E3FC;\n",
              "      }\n",
              "\n",
              "      [theme=dark] .colab-df-generate:hover {\n",
              "        background-color: #434B5C;\n",
              "        box-shadow: 0px 1px 3px 1px rgba(0, 0, 0, 0.15);\n",
              "        filter: drop-shadow(0px 1px 2px rgba(0, 0, 0, 0.3));\n",
              "        fill: #FFFFFF;\n",
              "      }\n",
              "    </style>\n",
              "    <button class=\"colab-df-generate\" onclick=\"generateWithVariable('tabela')\"\n",
              "            title=\"Generate code using this dataframe.\"\n",
              "            style=\"display:none;\">\n",
              "\n",
              "  <svg xmlns=\"http://www.w3.org/2000/svg\" height=\"24px\"viewBox=\"0 0 24 24\"\n",
              "       width=\"24px\">\n",
              "    <path d=\"M7,19H8.4L18.45,9,17,7.55,7,17.6ZM5,21V16.75L18.45,3.32a2,2,0,0,1,2.83,0l1.4,1.43a1.91,1.91,0,0,1,.58,1.4,1.91,1.91,0,0,1-.58,1.4L9.25,21ZM18.45,9,17,7.55Zm-12,3A5.31,5.31,0,0,0,4.9,8.1,5.31,5.31,0,0,0,1,6.5,5.31,5.31,0,0,0,4.9,4.9,5.31,5.31,0,0,0,6.5,1,5.31,5.31,0,0,0,8.1,4.9,5.31,5.31,0,0,0,12,6.5,5.46,5.46,0,0,0,6.5,12Z\"/>\n",
              "  </svg>\n",
              "    </button>\n",
              "    <script>\n",
              "      (() => {\n",
              "      const buttonEl =\n",
              "        document.querySelector('#id_c3202be3-8ea5-4a81-9041-cbb09db2fccf button.colab-df-generate');\n",
              "      buttonEl.style.display =\n",
              "        google.colab.kernel.accessAllowed ? 'block' : 'none';\n",
              "\n",
              "      buttonEl.onclick = () => {\n",
              "        google.colab.notebook.generateWithVariable('tabela');\n",
              "      }\n",
              "      })();\n",
              "    </script>\n",
              "  </div>\n",
              "\n",
              "    </div>\n",
              "  </div>\n"
            ],
            "application/vnd.google.colaboratory.intrinsic+json": {
              "type": "dataframe",
              "variable_name": "tabela",
              "summary": "{\n  \"name\": \"tabela\",\n  \"rows\": 3000,\n  \"fields\": [\n    {\n      \"column\": \"longitude\",\n      \"properties\": {\n        \"dtype\": \"number\",\n        \"std\": 1.9949362939550161,\n        \"min\": -124.18,\n        \"max\": -114.49,\n        \"num_unique_values\": 607,\n        \"samples\": [\n          -121.15,\n          -121.46,\n          -121.02\n        ],\n        \"semantic_type\": \"\",\n        \"description\": \"\"\n      }\n    },\n    {\n      \"column\": \"latitude\",\n      \"properties\": {\n        \"dtype\": \"number\",\n        \"std\": 2.1296695233438325,\n        \"min\": 32.56,\n        \"max\": 41.92,\n        \"num_unique_values\": 587,\n        \"samples\": [\n          40.17,\n          33.69,\n          39.61\n        ],\n        \"semantic_type\": \"\",\n        \"description\": \"\"\n      }\n    },\n    {\n      \"column\": \"housing_median_age\",\n      \"properties\": {\n        \"dtype\": \"number\",\n        \"std\": 12.555395554955755,\n        \"min\": 1.0,\n        \"max\": 52.0,\n        \"num_unique_values\": 52,\n        \"samples\": [\n          14.0,\n          49.0,\n          7.0\n        ],\n        \"semantic_type\": \"\",\n        \"description\": \"\"\n      }\n    },\n    {\n      \"column\": \"total_rooms\",\n      \"properties\": {\n        \"dtype\": \"number\",\n        \"std\": 2155.59333162558,\n        \"min\": 6.0,\n        \"max\": 30450.0,\n        \"num_unique_values\": 2215,\n        \"samples\": [\n          1961.0,\n          1807.0,\n          680.0\n        ],\n        \"semantic_type\": \"\",\n        \"description\": \"\"\n      }\n    },\n    {\n      \"column\": \"total_bedrooms\",\n      \"properties\": {\n        \"dtype\": \"number\",\n        \"std\": 415.6543681363232,\n        \"min\": 2.0,\n        \"max\": 5419.0,\n        \"num_unique_values\": 1055,\n        \"samples\": [\n          532.0,\n          764.0,\n          2162.0\n        ],\n        \"semantic_type\": \"\",\n        \"description\": \"\"\n      }\n    },\n    {\n      \"column\": \"population\",\n      \"properties\": {\n        \"dtype\": \"number\",\n        \"std\": 1030.5430124122422,\n        \"min\": 5.0,\n        \"max\": 11935.0,\n        \"num_unique_values\": 1802,\n        \"samples\": [\n          947.0,\n          1140.0,\n          2019.0\n        ],\n        \"semantic_type\": \"\",\n        \"description\": \"\"\n      }\n    },\n    {\n      \"column\": \"households\",\n      \"properties\": {\n        \"dtype\": \"number\",\n        \"std\": 365.42270980552604,\n        \"min\": 2.0,\n        \"max\": 4930.0,\n        \"num_unique_values\": 1026,\n        \"samples\": [\n          646.0,\n          629.0,\n          504.0\n        ],\n        \"semantic_type\": \"\",\n        \"description\": \"\"\n      }\n    },\n    {\n      \"column\": \"median_income\",\n      \"properties\": {\n        \"dtype\": \"number\",\n        \"std\": 1.854511729691481,\n        \"min\": 0.4999,\n        \"max\": 15.0001,\n        \"num_unique_values\": 2578,\n        \"samples\": [\n          1.725,\n          0.7403,\n          2.6964\n        ],\n        \"semantic_type\": \"\",\n        \"description\": \"\"\n      }\n    },\n    {\n      \"column\": \"median_house_value\",\n      \"properties\": {\n        \"dtype\": \"number\",\n        \"std\": 113119.68746964433,\n        \"min\": 22500.0,\n        \"max\": 500001.0,\n        \"num_unique_values\": 1784,\n        \"samples\": [\n          71900.0,\n          63000.0,\n          115800.0\n        ],\n        \"semantic_type\": \"\",\n        \"description\": \"\"\n      }\n    }\n  ]\n}"
            }
          },
          "metadata": {},
          "execution_count": 18
        }
      ]
    },
    {
      "cell_type": "markdown",
      "metadata": {
        "id": "JsKAyNU4J-kW"
      },
      "source": [
        "## Ploting with matplotlib\n",
        "\n",
        "Matplotlib is the most-widely used packge for plotting data in Python. Let's see some examples of it."
      ]
    },
    {
      "cell_type": "code",
      "execution_count": 14,
      "metadata": {
        "run_control": {
          "breakpoint": false
        },
        "id": "vVHvlSY-J-kX"
      },
      "outputs": [],
      "source": [
        "import matplotlib.pyplot as plt"
      ]
    },
    {
      "cell_type": "code",
      "execution_count": 16,
      "metadata": {
        "id": "_lo2xubeJ-kX"
      },
      "outputs": [],
      "source": [
        "import numpy as np"
      ]
    },
    {
      "cell_type": "code",
      "execution_count": 17,
      "metadata": {
        "run_control": {
          "breakpoint": false
        },
        "id": "nYsv5ivWJ-kX",
        "colab": {
          "base_uri": "https://localhost:8080/",
          "height": 472
        },
        "outputId": "0bbb2e71-4b36-41ab-819a-709fe860c4a4"
      },
      "outputs": [
        {
          "output_type": "display_data",
          "data": {
            "text/plain": [
              "<Figure size 640x480 with 1 Axes>"
            ],
            "image/png": "[encoded data removed]"
          },
          "metadata": {}
        }
      ],
      "source": [
        "t = np.linspace(0, 0.99, 100)\n",
        "x = np.sin(2 * np.pi * 2 * t)\n",
        "n = np.random.randn(100) / 5\n",
        "plt.Figure(figsize=(12,8))\n",
        "plt.plot(t, x, label='sine', linewidth=2)\n",
        "plt.plot(t, x + n, label='noisy sine', linewidth=2)\n",
        "plt.annotate(text='$sin(4 \\pi t)$', xy=(.2, 1), fontsize=20, color=[0, 0, 1])\n",
        "plt.legend(loc='best', framealpha=.5)\n",
        "plt.xlabel('Time [s]')\n",
        "plt.ylabel('Amplitude')\n",
        "plt.title('Data plotting using matplotlib')\n",
        "plt.show()"
      ]
    },
    {
      "cell_type": "markdown",
      "metadata": {
        "id": "oM5eFtmnJ-kX"
      },
      "source": [
        "Use the IPython magic `%matplotlib qt` to plot a figure in a separate window (from where you will be able to change some of the figure proprerties), **but it doesn't work in Google Colab**:"
      ]
    },
    {
      "cell_type": "code",
      "execution_count": null,
      "metadata": {
        "run_control": {
          "breakpoint": false
        },
        "id": "IlGE6M7pJ-kX"
      },
      "outputs": [],
      "source": [
        "%matplotlib qt"
      ]
    },
    {
      "cell_type": "code",
      "execution_count": null,
      "metadata": {
        "run_control": {
          "breakpoint": false
        },
        "id": "vg7YBnlyJ-kY"
      },
      "outputs": [],
      "source": [
        "mu, sigma = 10, 2\n",
        "x = mu + sigma * np.random.randn(1000)\n",
        "fig, (ax1, ax2) = plt.subplots(1, 2, figsize=(12, 4))\n",
        "ax1.plot(x, 'ro')\n",
        "ax1.set_title('Data')\n",
        "ax1.grid()\n",
        "\n",
        "n, bins, patches = ax2.hist(x, 25, density=True, facecolor='r') # histogram\n",
        "ax2.set_xlabel('Bins')\n",
        "ax2.set_ylabel('Probability')\n",
        "ax2.set_title('Histogram')\n",
        "fig.suptitle('Another example using matplotlib', fontsize=18, y=1)\n",
        "ax2.grid()\n",
        "\n",
        "plt.tight_layout()\n",
        "plt.show()"
      ]
    },
    {
      "cell_type": "markdown",
      "metadata": {
        "id": "0QoYKIFmJ-kY"
      },
      "source": [
        "And a window with the following figure should appear (**it doesn't work in Google Colab**):"
      ]
    },
    {
      "cell_type": "code",
      "execution_count": null,
      "metadata": {
        "run_control": {
          "breakpoint": false
        },
        "id": "5-_35c4YJ-kY"
      },
      "outputs": [],
      "source": [
        "from IPython.display import Image\n",
        "Image(url=\"./../images/plot.png\")"
      ]
    },
    {
      "cell_type": "markdown",
      "metadata": {
        "id": "kncaZ4ZtJ-kY"
      },
      "source": [
        "You can switch back and forth between inline and separate figure using the `%matplotlib` magic commands used above. There are plenty more examples with the source code in the [matplotlib gallery](http://matplotlib.org/gallery.html)."
      ]
    },
    {
      "cell_type": "code",
      "execution_count": null,
      "metadata": {
        "run_control": {
          "breakpoint": false
        },
        "id": "pWaEk7OIJ-kY"
      },
      "outputs": [],
      "source": [
        "# get back the inline plot\n",
        "%matplotlib inline"
      ]
    },
    {
      "cell_type": "markdown",
      "metadata": {
        "id": "OzIA2nMfJ-kY"
      },
      "source": [
        "## Signal processing with Scipy\n",
        "\n",
        "The Scipy package has a lot of functions for signal processing, among them: Integration (scipy.integrate), Optimization (scipy.optimize), Interpolation (scipy.interpolate), Fourier Transforms (scipy.fftpack), Signal Processing (scipy.signal), Linear Algebra (scipy.linalg), and Statistics (scipy.stats). As an example, let's see how to use a low-pass Butterworth filter to attenuate high-frequency noise and how the differentiation process of a signal affects the signal-to-noise content. We will also calculate the Fourier transform of these data to look at their frequencies content."
      ]
    },
    {
      "cell_type": "code",
      "execution_count": null,
      "metadata": {
        "run_control": {
          "breakpoint": false
        },
        "id": "XCVdvLO_J-kY"
      },
      "outputs": [],
      "source": [
        "from scipy.signal import butter, filtfilt\n",
        "import scipy.fftpack\n",
        "freq = 100.\n",
        "t = np.arange(0,1,.01);\n",
        "w = 2*np.pi*1 # 1 Hz\n",
        "y = np.sin(w*t)+0.1*np.sin(10*w*t)\n",
        "# Butterworth filter\n",
        "b, a = butter(4, (5/(freq/2)), btype = 'low')\n",
        "y2 = filtfilt(b, a, y)\n",
        "# 2nd derivative of the data\n",
        "ydd = np.diff(y,2)*freq*freq   # raw data\n",
        "y2dd = np.diff(y2,2)*freq*freq # filtered data\n",
        "# frequency content\n",
        "yfft = np.abs(scipy.fftpack.fft(y))/(y.size/2);   # raw data\n",
        "y2fft = np.abs(scipy.fftpack.fft(y2))/(y.size/2); # filtered data\n",
        "freqs = scipy.fftpack.fftfreq(y.size, 1./freq)\n",
        "yddfft = np.abs(scipy.fftpack.fft(ydd))/(ydd.size/2);\n",
        "y2ddfft = np.abs(scipy.fftpack.fft(y2dd))/(ydd.size/2);\n",
        "freqs2 = scipy.fftpack.fftfreq(ydd.size, 1./freq)"
      ]
    },
    {
      "cell_type": "markdown",
      "metadata": {
        "id": "_4-Y6jA5J-kZ"
      },
      "source": [
        "And the plots:"
      ]
    },
    {
      "cell_type": "code",
      "execution_count": null,
      "metadata": {
        "run_control": {
          "breakpoint": false
        },
        "id": "kb_2DbNCJ-kZ"
      },
      "outputs": [],
      "source": [
        "fig, ((ax1,ax2),(ax3,ax4)) = plt.subplots(2, 2, figsize=(12, 6))\n",
        "\n",
        "ax1.set_title('Temporal domain', fontsize=14)\n",
        "ax1.plot(t, y, 'r', linewidth=2, label = 'raw data')\n",
        "ax1.plot(t, y2, 'b', linewidth=2, label = 'filtered @ 5 Hz')\n",
        "ax1.set_ylabel('f')\n",
        "ax1.legend(frameon=False, fontsize=12)\n",
        "\n",
        "ax2.set_title('Frequency domain', fontsize=14)\n",
        "ax2.plot(freqs[:int(yfft.size/4)], yfft[:int(yfft.size/4)],'r',  lw=2,label='raw data')\n",
        "ax2.plot(freqs[:int(yfft.size/4)],y2fft[:int(yfft.size/4)],'b--',lw=2,label='filtered @ 5 Hz')\n",
        "ax2.set_ylabel('FFT(f)')\n",
        "ax2.legend(frameon=False, fontsize=12)\n",
        "\n",
        "ax3.plot(t[:-2], ydd, 'r', linewidth=2, label = 'raw')\n",
        "ax3.plot(t[:-2], y2dd, 'b', linewidth=2, label = 'filtered @ 5 Hz')\n",
        "ax3.set_xlabel('Time [s]'); ax3.set_ylabel(\"f ''\")\n",
        "\n",
        "ax4.plot(freqs[:int(yddfft.size/4)], yddfft[:int(yddfft.size/4)], 'r', lw=2, label = 'raw')\n",
        "ax4.plot(freqs[:int(yddfft.size/4)],y2ddfft[:int(yddfft.size/4)],'b--',lw=2, label='filtered @ 5 Hz')\n",
        "ax4.set_xlabel('Frequency [Hz]'); ax4.set_ylabel(\"FFT(f '')\")\n",
        "plt.show()"
      ]
    },
    {
      "cell_type": "markdown",
      "metadata": {
        "id": "BJoM-sUpJ-kZ"
      },
      "source": [
        "For more about Scipy, see [https://docs.scipy.org/doc/scipy/reference/tutorial/](https://docs.scipy.org/doc/scipy/reference/tutorial/)."
      ]
    },
    {
      "cell_type": "markdown",
      "metadata": {
        "id": "1LmplijsJ-kZ"
      },
      "source": [
        "## Symbolic mathematics with Sympy\n",
        "\n",
        "Sympy is a package to perform symbolic mathematics in Python. Let's see some of its features:"
      ]
    },
    {
      "cell_type": "code",
      "execution_count": null,
      "metadata": {
        "run_control": {
          "breakpoint": false
        },
        "id": "6xiX8jjZJ-ka"
      },
      "outputs": [],
      "source": [
        "from IPython.display import display\n",
        "import sympy as sym\n",
        "from sympy.interactive import printing\n",
        "printing.init_printing()"
      ]
    },
    {
      "cell_type": "markdown",
      "metadata": {
        "id": "kzmYkX7dJ-ka"
      },
      "source": [
        "Define some symbols and the create a second-order polynomial function (a.k.a., parabola):"
      ]
    },
    {
      "cell_type": "code",
      "execution_count": null,
      "metadata": {
        "run_control": {
          "breakpoint": false
        },
        "id": "DmCPkW02J-ka"
      },
      "outputs": [],
      "source": [
        "x, y = sym.symbols('x y')\n",
        "y = x**2 - 2*x - 3\n",
        "y"
      ]
    },
    {
      "cell_type": "markdown",
      "metadata": {
        "id": "7KXUw2MrJ-ka"
      },
      "source": [
        "Plot the parabola at some given range:"
      ]
    },
    {
      "cell_type": "code",
      "execution_count": null,
      "metadata": {
        "run_control": {
          "breakpoint": false
        },
        "id": "pTDVzdRqJ-ka"
      },
      "outputs": [],
      "source": [
        "from sympy.plotting import plot\n",
        "%matplotlib inline\n",
        "plot(y, (x, -3, 5));"
      ]
    },
    {
      "cell_type": "markdown",
      "metadata": {
        "id": "zS8UVz10J-ka"
      },
      "source": [
        "And the roots of the parabola are given by:"
      ]
    },
    {
      "cell_type": "code",
      "execution_count": null,
      "metadata": {
        "run_control": {
          "breakpoint": false
        },
        "id": "0vo-XGM3J-kb"
      },
      "outputs": [],
      "source": [
        "sym.solve(y, x)"
      ]
    },
    {
      "cell_type": "markdown",
      "metadata": {
        "id": "ltAhU7pmJ-kb"
      },
      "source": [
        "We can also do symbolic differentiation and integration:"
      ]
    },
    {
      "cell_type": "code",
      "execution_count": null,
      "metadata": {
        "run_control": {
          "breakpoint": false
        },
        "id": "3JmF9oWWJ-kb"
      },
      "outputs": [],
      "source": [
        "dy = sym.diff(y, x)\n",
        "dy"
      ]
    },
    {
      "cell_type": "code",
      "execution_count": null,
      "metadata": {
        "run_control": {
          "breakpoint": false
        },
        "id": "C7efFPgcJ-kb"
      },
      "outputs": [],
      "source": [
        "sym.integrate(dy, x)"
      ]
    },
    {
      "cell_type": "markdown",
      "metadata": {
        "id": "-XjFy6DtJ-kc"
      },
      "source": [
        "For example, let's use Sympy to represent three-dimensional rotations. Consider the problem of a coordinate system xyz rotated in relation to other coordinate system XYZ. The single rotations around each axis are illustrated by:"
      ]
    },
    {
      "cell_type": "code",
      "execution_count": null,
      "metadata": {
        "run_control": {
          "breakpoint": false
        },
        "id": "WJzGeWQJJ-kc"
      },
      "outputs": [],
      "source": [
        "from IPython.display import Image\n",
        "Image(url=\"./../images/rotations.png\")"
      ]
    },
    {
      "cell_type": "markdown",
      "metadata": {
        "id": "H4pkQ9C2J-kc"
      },
      "source": [
        "The single 3D rotation matrices around Z, Y, and X axes can be expressed in Sympy:"
      ]
    },
    {
      "cell_type": "code",
      "execution_count": null,
      "metadata": {
        "run_control": {
          "breakpoint": false
        },
        "id": "-wemSeWrJ-kc"
      },
      "outputs": [],
      "source": [
        "from IPython.core.display import Math\n",
        "from sympy import symbols, cos, sin, Matrix, latex\n",
        "a, b, g = symbols('alpha beta gamma')\n",
        "\n",
        "RX = Matrix([[1, 0, 0], [0, cos(a), -sin(a)], [0, sin(a), cos(a)]])\n",
        "display(Math(r'\\mathbf{R_{X}}=' + latex(RX, mat_str = 'matrix')))\n",
        "\n",
        "RY = Matrix([[cos(b), 0, sin(b)], [0, 1, 0], [-sin(b), 0, cos(b)]])\n",
        "display(Math(r'\\mathbf{R_{Y}}=' + latex(RY, mat_str = 'matrix')))\n",
        "\n",
        "RZ = Matrix([[cos(g), -sin(g), 0], [sin(g), cos(g), 0], [0, 0, 1]])\n",
        "display(Math(r'\\mathbf{R_{Z}}=' + latex(RZ, mat_str = 'matrix')))"
      ]
    },
    {
      "cell_type": "markdown",
      "metadata": {
        "id": "iE6PranTJ-kd"
      },
      "source": [
        "And using Sympy, a sequence of elementary rotations around X, Y, Z axes is given by:"
      ]
    },
    {
      "cell_type": "code",
      "execution_count": null,
      "metadata": {
        "run_control": {
          "breakpoint": false
        },
        "id": "HCJHFpQUJ-kd"
      },
      "outputs": [],
      "source": [
        "RXYZ = RZ*RY*RX\n",
        "display(Math(r'\\mathbf{R_{XYZ}}=' + latex(RXYZ, mat_str = 'matrix')))"
      ]
    },
    {
      "cell_type": "markdown",
      "metadata": {
        "id": "SUSM3dfiJ-kd"
      },
      "source": [
        "Suppose there is a rotation only around X ($\\alpha$) by $\\pi/2$; we can get the numerical value of the rotation matrix by substituing the angle values:"
      ]
    },
    {
      "cell_type": "code",
      "execution_count": null,
      "metadata": {
        "run_control": {
          "breakpoint": false
        },
        "id": "TDU6ziKNJ-kd"
      },
      "outputs": [],
      "source": [
        "r = RXYZ.subs({a: np.pi/2, b: 0, g: 0})\n",
        "r"
      ]
    },
    {
      "cell_type": "markdown",
      "metadata": {
        "id": "NM0s0wkPJ-kd"
      },
      "source": [
        "And we can prettify this result:"
      ]
    },
    {
      "cell_type": "code",
      "execution_count": null,
      "metadata": {
        "run_control": {
          "breakpoint": false
        },
        "id": "w6Ocmn1yJ-ke"
      },
      "outputs": [],
      "source": [
        "display(Math(r'\\mathbf{R_{(\\alpha=\\pi/2)}}=' + latex(r.n(3, chop=True), mat_str = 'matrix')))"
      ]
    },
    {
      "cell_type": "markdown",
      "metadata": {
        "id": "AMQNTcAfJ-ke"
      },
      "source": [
        "For more about Sympy, see [http://docs.sympy.org/latest/tutorial/](http://docs.sympy.org/latest/tutorial/)."
      ]
    },
    {
      "cell_type": "markdown",
      "metadata": {
        "id": "lG5jNvauJ-ke"
      },
      "source": [
        "## Data analysis with pandas\n",
        "\n",
        "> \"[pandas](http://pandas.pydata.org/) is a Python package providing fast, flexible, and expressive data structures designed to make working with “relational” or “labeled” data both easy and intuitive. It aims to be the fundamental high-level building block for doing practical, real world data analysis in Python.\"\n",
        "\n",
        "To work with labellled data, pandas has a type called DataFrame (basically, a matrix where columns and rows have may names and may be of different types) and it is also the main type of the software [R](http://www.r-project.org/). Fo ezample:"
      ]
    },
    {
      "cell_type": "code",
      "execution_count": null,
      "metadata": {
        "run_control": {
          "breakpoint": false
        },
        "id": "yUOT_qHpJ-ke"
      },
      "outputs": [],
      "source": [
        "import pandas as pd"
      ]
    },
    {
      "cell_type": "code",
      "execution_count": null,
      "metadata": {
        "run_control": {
          "breakpoint": false
        },
        "id": "Ev9PCYg8J-kf"
      },
      "outputs": [],
      "source": [
        "x = 5*['A'] + 5*['B']\n",
        "x"
      ]
    },
    {
      "cell_type": "code",
      "execution_count": null,
      "metadata": {
        "run_control": {
          "breakpoint": false
        },
        "id": "jBKcCHZjJ-kf"
      },
      "outputs": [],
      "source": [
        "df = pd.DataFrame(np.random.rand(10,2), columns=['Level 1', 'Level 2'] )\n",
        "df['Group'] = pd.Series(['A']*5 + ['B']*5)\n",
        "plot = df.boxplot(by='Group')"
      ]
    },
    {
      "cell_type": "code",
      "execution_count": null,
      "metadata": {
        "run_control": {
          "breakpoint": false
        },
        "id": "kCCK1XrwJ-kf"
      },
      "outputs": [],
      "source": [
        "from pandas.plotting import scatter_matrix\n",
        "df = pd.DataFrame(np.random.randn(100, 3), columns=['A', 'B', 'C'])\n",
        "plot = scatter_matrix(df, alpha=0.5, figsize=(8, 6), diagonal='kde')"
      ]
    },
    {
      "cell_type": "markdown",
      "metadata": {
        "id": "8F0vKjj-J-kf"
      },
      "source": [
        "pandas is aware the data is structured and give you basic statistics considerint that and nicely formatted:"
      ]
    },
    {
      "cell_type": "code",
      "execution_count": null,
      "metadata": {
        "run_control": {
          "breakpoint": false
        },
        "id": "75i6pAewJ-kg"
      },
      "outputs": [],
      "source": [
        "df.describe()"
      ]
    },
    {
      "cell_type": "markdown",
      "metadata": {
        "id": "o7KxQQxeJ-kg"
      },
      "source": [
        "For more on pandas, see this tutorial: [http://pandas.pydata.org/pandas-docs/stable/10min.html](http://pandas.pydata.org/pandas-docs/stable/10min.html)."
      ]
    },
    {
      "cell_type": "markdown",
      "source": [
        "## Plot with some interactive features of matplotlib"
      ],
      "metadata": {
        "id": "GDnKkGeMgoIu"
      }
    },
    {
      "cell_type": "code",
      "source": [
        "!pip install -q ipympl\n",
        "from google.colab import output\n",
        "output.enable_custom_widget_manager()\n",
        "%matplotlib widget"
      ],
      "metadata": {
        "id": "HTmfZTvtgncx"
      },
      "execution_count": 6,
      "outputs": []
    },
    {
      "cell_type": "code",
      "source": [
        "import numpy as np\n",
        "import matplotlib.pyplot as plt"
      ],
      "metadata": {
        "id": "b9gMM5U2hw8S"
      },
      "execution_count": 4,
      "outputs": []
    },
    {
      "cell_type": "code",
      "source": [
        "t = np.linspace(0, 0.99, 100)\n",
        "x = np.sin(2 * np.pi * 2 * t)\n",
        "n = np.random.randn(100) / 5\n",
        "plt.Figure(figsize=(12,8))\n",
        "plt.plot(t, x, label='sine', linewidth=2)\n",
        "plt.plot(t, x + n, label='noisy sine', linewidth=2)\n",
        "plt.annotate(text='$sin(4 \\pi t)$', xy=(.2, 1), fontsize=20, color=[0, 0, 1])\n",
        "plt.legend(loc='best', framealpha=.5)\n",
        "plt.xlabel('Time [s]')\n",
        "plt.ylabel('Amplitude')\n",
        "plt.title('Data plotting using matplotlib')\n",
        "plt.show()"
      ],
      "metadata": {
        "colab": {
          "base_uri": "https://localhost:8080/",
          "height": 569,
          "referenced_widgets": [
            "c14b527ae2e54e829d8217113837e84a",
            "24e1ba3e514946b1acc89a798e756bf5",
            "a3df35ecbfe54463992e3b93f4cfbabb",
            "7a1a12340e0a456295c07da2e89cae19"
          ]
        },
        "id": "7F-jsDE-ghLB",
        "outputId": "83fb395f-548d-47af-a61c-90704ab6e27d"
      },
      "execution_count": 5,
      "outputs": [
        {
          "output_type": "display_data",
          "data": {
            "text/plain": [
              "Canvas(toolbar=Toolbar(toolitems=[('Home', 'Reset original view', 'home', 'home'), ('Back', 'Back to previous …"
            ],
            "image/png": "[encoded data removed]",
            "text/html": [
              "\n",
              "            <div style=\"display: inline-block;\">\n",
              "                <div class=\"jupyter-widgets widget-label\" style=\"text-align: center;\">\n",
              "                    Figure\n",
              "                </div>\n",
              "                <img src='data:image/png;base64,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' width=640.0/>\n",
              "            </div>\n",
              "        "
            ],
            "application/vnd.jupyter.widget-view+json": {
              "version_major": 2,
              "version_minor": 0,
              "model_id": "c14b527ae2e54e829d8217113837e84a"
            }
          },
          "metadata": {
            "application/vnd.jupyter.widget-view+json": {
              "colab": {
                "custom_widget_manager": {
                  "url": "https://ssl.gstatic.com/colaboratory-static/widgets/colab-cdn-widget-manager/2b70e893a8ba7c0f/manager.min.js"
                }
              }
            }
          }
        }
      ]
    },
    {
      "cell_type": "markdown",
      "source": [
        "## Interactive browser controls for notebooks"
      ],
      "metadata": {
        "id": "K_PtI62ciCFN"
      }
    },
    {
      "cell_type": "code",
      "source": [
        "!pip install -q ipywidgets\n",
        "import ipywidgets"
      ],
      "metadata": {
        "id": "lcw8v-hviApF"
      },
      "execution_count": 7,
      "outputs": []
    },
    {
      "cell_type": "code",
      "source": [
        "#@title #### Interactive plot {display-mode: \"form\"}\n",
        "\n",
        "def func(t, A, tau):\n",
        "    \"\"\"Saturating Exponential\"\"\"\n",
        "    return A*(1 - np.exp(-t/tau))\n",
        "\n",
        "fig, ax = plt.subplots(figsize=(8, 4))\n",
        "ax.set_ylim([-0.1, 10])\n",
        "ax.grid(True)\n",
        "plt.xlabel('Time', fontsize=16)\n",
        "plt.ylabel('Amplitude', fontsize=16)\n",
        "t = np.linspace(0, 300, 101)\n",
        "V = func(t, 5, 50)\n",
        "\n",
        "@ipywidgets.interact(A=(0, 10, .5), tau=(1, 100, 1))\n",
        "def update(A=5, tau=50):\n",
        "    \"\"\"Remove old lines from plot and plot new one\"\"\"\n",
        "    [l.remove() for l in ax.lines]\n",
        "    ax.plot(t, func(t, A, tau), color='r', lw=3)"
      ],
      "metadata": {
        "colab": {
          "base_uri": "https://localhost:8080/",
          "height": 553,
          "referenced_widgets": [
            "67c2a84118134cf08fbb8cc6331106d4",
            "d2844fc808b74250b5e3fed997031d1d",
            "8694a4000f534e6bb4b0fea98f77ecd9",
            "a16f22de37de43b9b1786f3c1b8e2020",
            "73ffdd3a89914a26ac34e043006b4138",
            "4931ff2fb90e46c9b5fbd8cd3b97340f",
            "dada385d5e44480bb5f1a19c70963b45",
            "19547f20d1154bceb0acd6d5f26e5cf5",
            "246f21ea4e6847da8c360e9a1d28504f",
            "31b3f61c8b0c42119f5df4ccc27c4aa0",
            "f486219aeba1434d94c7ec8730290bfa",
            "b20b582431e24422a7e2ebf44b0dc1cb",
            "d85571ccda9642a794d43c90aed2009a",
            "6ea57402db964df6aab542f1564213f9"
          ]
        },
        "id": "-aHN9lZKi1Li",
        "outputId": "e6f8b3b9-719e-44be-c7e8-e5ce30e0c5bd"
      },
      "execution_count": 9,
      "outputs": [
        {
          "output_type": "display_data",
          "data": {
            "text/plain": [
              "interactive(children=(FloatSlider(value=5.0, description='A', max=10.0, step=0.5), IntSlider(value=50, descrip…"
            ],
            "application/vnd.jupyter.widget-view+json": {
              "version_major": 2,
              "version_minor": 0,
              "model_id": "67c2a84118134cf08fbb8cc6331106d4"
            }
          },
          "metadata": {
            "application/vnd.jupyter.widget-view+json": {
              "colab": {
                "custom_widget_manager": {
                  "url": "https://ssl.gstatic.com/colaboratory-static/widgets/colab-cdn-widget-manager/2b70e893a8ba7c0f/manager.min.js"
                }
              }
            }
          }
        },
        {
          "output_type": "display_data",
          "data": {
            "text/plain": [
              "Canvas(toolbar=Toolbar(toolitems=[('Home', 'Reset original view', 'home', 'home'), ('Back', 'Back to previous …"
            ],
            "image/png": "[encoded data removed]",
            "text/html": [
              "\n",
              "            <div style=\"display: inline-block;\">\n",
              "                <div class=\"jupyter-widgets widget-label\" style=\"text-align: center;\">\n",
              "                    Figure\n",
              "                </div>\n",
              "                <img src='data:image/png;base64,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' width=800.0/>\n",
              "            </div>\n",
              "        "
            ],
            "application/vnd.jupyter.widget-view+json": {
              "version_major": 2,
              "version_minor": 0,
              "model_id": "f486219aeba1434d94c7ec8730290bfa"
            }
          },
          "metadata": {
            "application/vnd.jupyter.widget-view+json": {
              "colab": {
                "custom_widget_manager": {
                  "url": "https://ssl.gstatic.com/colaboratory-static/widgets/colab-cdn-widget-manager/2b70e893a8ba7c0f/manager.min.js"
                }
              }
            }
          }
        }
      ]
    },
    {
      "cell_type": "markdown",
      "metadata": {
        "id": "aQhwBXMlJ-kg"
      },
      "source": [
        "## More about Python\n",
        "\n",
        "There is a lot of good material in the internet about Python for scientific computing, here is a small list of interesting stuff:  \n",
        "\n",
        " - [How To Think Like A Computer Scientist](http://www.openbookproject.net/thinkcs/python/english2e/) or [the interactive edition](http://interactivepython.org/courselib/static/thinkcspy/index.html) (book)\n",
        " - [Python Scientific Lecture Notes](http://scipy-lectures.github.io/) (lecture notes)  \n",
        " - [Python Data Science Handbook](https://jakevdp.github.io/PythonDataScienceHandbook/) (tutorial/book)    \n",
        " - [A gallery of interesting Jupyter Notebooks](https://github.com/jupyter/jupyter/wiki)"
      ]
    }
  ],
  "metadata": {
    "kernelspec": {
      "display_name": "Python 3 (ipykernel)",
      "language": "python",
      "name": "python3"
    },
    "language_info": {
      "codemirror_mode": {
        "name": "ipython",
        "version": 3
      },
      "file_extension": ".py",
      "mimetype": "text/x-python",
      "name": "python",
      "nbconvert_exporter": "python",
      "pygments_lexer": "ipython3",
      "version": "3.9.13"
    },
    "latex_envs": {
      "LaTeX_envs_menu_present": true,
      "autoclose": false,
      "autocomplete": true,
      "bibliofile": "biblio.bib",
      "cite_by": "apalike",
      "current_citInitial": 1,
      "eqLabelWithNumbers": true,
      "eqNumInitial": 1,
      "hotkeys": {
        "equation": "Ctrl-E",
        "itemize": "Ctrl-I"
      },
      "labels_anchors": false,
      "latex_user_defs": false,
      "report_style_numbering": false,
      "user_envs_cfg": false
    },
    "nbTranslate": {
      "displayLangs": [
        "*"
      ],
      "hotkey": "alt-t",
      "langInMainMenu": true,
      "sourceLang": "en",
      "targetLang": "fr",
      "useGoogleTranslate": true
    },
    "toc": {
      "base_numbering": 1,
      "nav_menu": {},
      "number_sections": true,
      "sideBar": true,
      "skip_h1_title": true,
      "title_cell": "Contents",
      "title_sidebar": "Contents",
      "toc_cell": true,
      "toc_position": {},
      "toc_section_display": true,
      "toc_window_display": false
    },
    "varInspector": {
      "cols": {
        "lenName": 16,
        "lenType": 16,
        "lenVar": 40
      },
      "kernels_config": {
        "python": {
          "delete_cmd_postfix": "",
          "delete_cmd_prefix": "del ",
          "library": "var_list.py",
          "varRefreshCmd": "print(var_dic_list())"
        },
        "r": {
          "delete_cmd_postfix": ") ",
          "delete_cmd_prefix": "rm(",
          "library": "var_list.r",
          "varRefreshCmd": "cat(var_dic_list()) "
        }
      },
      "types_to_exclude": [
        "module",
        "function",
        "builtin_function_or_method",
        "instance",
        "_Feature"
      ],
      "window_display": false
    },
    "colab": {
      "provenance": []
    },
    "widgets": {
      "application/vnd.jupyter.widget-state+json": {
        "c14b527ae2e54e829d8217113837e84a": {
          "model_module": "jupyter-matplotlib",
          "model_name": "MPLCanvasModel",
          "model_module_version": "^0.11",
          "state": {
            "_cursor": "move",
            "_data_url": "data:image/png;base64,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",
            "_dom_classes": [],
            "_figure_label": "Figure 1",
            "_image_mode": "diff",
            "_message": "x=0.890 y=−0.525",
            "_model_module": "jupyter-matplotlib",
            "_model_module_version": "^0.11",
            "_model_name": "MPLCanvasModel",
            "_rubberband_height": 0,
            "_rubberband_width": 0,
            "_rubberband_x": 0,
            "_rubberband_y": 480,
            "_size": [
              640,
              480
            ],
            "_view_count": null,
            "_view_module": "jupyter-matplotlib",
            "_view_module_version": "^0.11",
            "_view_name": "MPLCanvasView",
            "capture_scroll": false,
            "footer_visible": true,
            "header_visible": true,
            "layout": "IPY_MODEL_24e1ba3e514946b1acc89a798e756bf5",
            "pan_zoom_throttle": 33,
            "resizable": true,
            "toolbar": "IPY_MODEL_a3df35ecbfe54463992e3b93f4cfbabb",
            "toolbar_position": "left",
            "toolbar_visible": "fade-in-fade-out"
          }
        },
        "24e1ba3e514946b1acc89a798e756bf5": {
          "model_module": "@jupyter-widgets/base",
          "model_name": "LayoutModel",
          "model_module_version": "1.2.0",
          "state": {
            "_model_module": "@jupyter-widgets/base",
            "_model_module_version": "1.2.0",
            "_model_name": "LayoutModel",
            "_view_count": null,
            "_view_module": "@jupyter-widgets/base",
            "_view_module_version": "1.2.0",
            "_view_name": "LayoutView",
            "align_content": null,
            "align_items": null,
            "align_self": null,
            "border": null,
            "bottom": null,
            "display": null,
            "flex": null,
            "flex_flow": null,
            "grid_area": null,
            "grid_auto_columns": null,
            "grid_auto_flow": null,
            "grid_auto_rows": null,
            "grid_column": null,
            "grid_gap": null,
            "grid_row": null,
            "grid_template_areas": null,
            "grid_template_columns": null,
            "grid_template_rows": null,
            "height": null,
            "justify_content": null,
            "justify_items": null,
            "left": null,
            "margin": null,
            "max_height": null,
            "max_width": null,
            "min_height": null,
            "min_width": null,
            "object_fit": null,
            "object_position": null,
            "order": null,
            "overflow": null,
            "overflow_x": null,
            "overflow_y": null,
            "padding": null,
            "right": null,
            "top": null,
            "visibility": null,
            "width": null
          }
        },
        "a3df35ecbfe54463992e3b93f4cfbabb": {
          "model_module": "jupyter-matplotlib",
          "model_name": "ToolbarModel",
          "model_module_version": "^0.11",
          "state": {
            "_current_action": "pan",
            "_dom_classes": [],
            "_model_module": "jupyter-matplotlib",
            "_model_module_version": "^0.11",
            "_model_name": "ToolbarModel",
            "_view_count": null,
            "_view_module": "jupyter-matplotlib",
            "_view_module_version": "^0.11",
            "_view_name": "ToolbarView",
            "button_style": "",
            "collapsed": true,
            "layout": "IPY_MODEL_7a1a12340e0a456295c07da2e89cae19",
            "orientation": "vertical",
            "toolitems": [
              [
                "Home",
                "Reset original view",
                "home",
                "home"
              ],
              [
                "Back",
                "Back to previous view",
                "arrow-left",
                "back"
              ],
              [
                "Forward",
                "Forward to next view",
                "arrow-right",
                "forward"
              ],
              [
                "Pan",
                "Left button pans, Right button zooms\nx/y fixes axis, CTRL fixes aspect",
                "arrows",
                "pan"
              ],
              [
                "Zoom",
                "Zoom to rectangle\nx/y fixes axis",
                "square-o",
                "zoom"
              ],
              [
                "Download",
                "Download plot",
                "floppy-o",
                "save_figure"
              ]
            ]
          }
        },
        "7a1a12340e0a456295c07da2e89cae19": {
          "model_module": "@jupyter-widgets/base",
          "model_name": "LayoutModel",
          "model_module_version": "1.2.0",
          "state": {
            "_model_module": "@jupyter-widgets/base",
            "_model_module_version": "1.2.0",
            "_model_name": "LayoutModel",
            "_view_count": null,
            "_view_module": "@jupyter-widgets/base",
            "_view_module_version": "1.2.0",
            "_view_name": "LayoutView",
            "align_content": null,
            "align_items": null,
            "align_self": null,
            "border": null,
            "bottom": null,
            "display": null,
            "flex": null,
            "flex_flow": null,
            "grid_area": null,
            "grid_auto_columns": null,
            "grid_auto_flow": null,
            "grid_auto_rows": null,
            "grid_column": null,
            "grid_gap": null,
            "grid_row": null,
            "grid_template_areas": null,
            "grid_template_columns": null,
            "grid_template_rows": null,
            "height": null,
            "justify_content": null,
            "justify_items": null,
            "left": null,
            "margin": null,
            "max_height": null,
            "max_width": null,
            "min_height": null,
            "min_width": null,
            "object_fit": null,
            "object_position": null,
            "order": null,
            "overflow": null,
            "overflow_x": null,
            "overflow_y": null,
            "padding": null,
            "right": null,
            "top": null,
            "visibility": null,
            "width": null
          }
        },
        "67c2a84118134cf08fbb8cc6331106d4": {
          "model_module": "@jupyter-widgets/controls",
          "model_name": "VBoxModel",
          "model_module_version": "1.5.0",
          "state": {
            "_dom_classes": [
              "widget-interact"
            ],
            "_model_module": "@jupyter-widgets/controls",
            "_model_module_version": "1.5.0",
            "_model_name": "VBoxModel",
            "_view_count": null,
            "_view_module": "@jupyter-widgets/controls",
            "_view_module_version": "1.5.0",
            "_view_name": "VBoxView",
            "box_style": "",
            "children": [
              "IPY_MODEL_d2844fc808b74250b5e3fed997031d1d",
              "IPY_MODEL_8694a4000f534e6bb4b0fea98f77ecd9",
              "IPY_MODEL_a16f22de37de43b9b1786f3c1b8e2020"
            ],
            "layout": "IPY_MODEL_73ffdd3a89914a26ac34e043006b4138"
          }
        },
        "d2844fc808b74250b5e3fed997031d1d": {
          "model_module": "@jupyter-widgets/controls",
          "model_name": "FloatSliderModel",
          "model_module_version": "1.5.0",
          "state": {
            "_dom_classes": [],
            "_model_module": "@jupyter-widgets/controls",
            "_model_module_version": "1.5.0",
            "_model_name": "FloatSliderModel",
            "_view_count": null,
            "_view_module": "@jupyter-widgets/controls",
            "_view_module_version": "1.5.0",
            "_view_name": "FloatSliderView",
            "continuous_update": true,
            "description": "A",
            "description_tooltip": null,
            "disabled": false,
            "layout": "IPY_MODEL_4931ff2fb90e46c9b5fbd8cd3b97340f",
            "max": 10,
            "min": 0,
            "orientation": "horizontal",
            "readout": true,
            "readout_format": ".2f",
            "step": 0.5,
            "style": "IPY_MODEL_dada385d5e44480bb5f1a19c70963b45",
            "value": 7.5
          }
        },
        "8694a4000f534e6bb4b0fea98f77ecd9": {
          "model_module": "@jupyter-widgets/controls",
          "model_name": "IntSliderModel",
          "model_module_version": "1.5.0",
          "state": {
            "_dom_classes": [],
            "_model_module": "@jupyter-widgets/controls",
            "_model_module_version": "1.5.0",
            "_model_name": "IntSliderModel",
            "_view_count": null,
            "_view_module": "@jupyter-widgets/controls",
            "_view_module_version": "1.5.0",
            "_view_name": "IntSliderView",
            "continuous_update": true,
            "description": "tau",
            "description_tooltip": null,
            "disabled": false,
            "layout": "IPY_MODEL_19547f20d1154bceb0acd6d5f26e5cf5",
            "max": 100,
            "min": 1,
            "orientation": "horizontal",
            "readout": true,
            "readout_format": "d",
            "step": 1,
            "style": "IPY_MODEL_246f21ea4e6847da8c360e9a1d28504f",
            "value": 15
          }
        },
        "a16f22de37de43b9b1786f3c1b8e2020": {
          "model_module": "@jupyter-widgets/output",
          "model_name": "OutputModel",
          "model_module_version": "1.0.0",
          "state": {
            "_dom_classes": [],
            "_model_module": "@jupyter-widgets/output",
            "_model_module_version": "1.0.0",
            "_model_name": "OutputModel",
            "_view_count": null,
            "_view_module": "@jupyter-widgets/output",
            "_view_module_version": "1.0.0",
            "_view_name": "OutputView",
            "layout": "IPY_MODEL_31b3f61c8b0c42119f5df4ccc27c4aa0",
            "msg_id": "",
            "outputs": []
          }
        },
        "73ffdd3a89914a26ac34e043006b4138": {
          "model_module": "@jupyter-widgets/base",
          "model_name": "LayoutModel",
          "model_module_version": "1.2.0",
          "state": {
            "_model_module": "@jupyter-widgets/base",
            "_model_module_version": "1.2.0",
            "_model_name": "LayoutModel",
            "_view_count": null,
            "_view_module": "@jupyter-widgets/base",
            "_view_module_version": "1.2.0",
            "_view_name": "LayoutView",
            "align_content": null,
            "align_items": null,
            "align_self": null,
            "border": null,
            "bottom": null,
            "display": null,
            "flex": null,
            "flex_flow": null,
            "grid_area": null,
            "grid_auto_columns": null,
            "grid_auto_flow": null,
            "grid_auto_rows": null,
            "grid_column": null,
            "grid_gap": null,
            "grid_row": null,
            "grid_template_areas": null,
            "grid_template_columns": null,
            "grid_template_rows": null,
            "height": null,
            "justify_content": null,
            "justify_items": null,
            "left": null,
            "margin": null,
            "max_height": null,
            "max_width": null,
            "min_height": null,
            "min_width": null,
            "object_fit": null,
            "object_position": null,
            "order": null,
            "overflow": null,
            "overflow_x": null,
            "overflow_y": null,
            "padding": null,
            "right": null,
            "top": null,
            "visibility": null,
            "width": null
          }
        },
        "4931ff2fb90e46c9b5fbd8cd3b97340f": {
          "model_module": "@jupyter-widgets/base",
          "model_name": "LayoutModel",
          "model_module_version": "1.2.0",
          "state": {
            "_model_module": "@jupyter-widgets/base",
            "_model_module_version": "1.2.0",
            "_model_name": "LayoutModel",
            "_view_count": null,
            "_view_module": "@jupyter-widgets/base",
            "_view_module_version": "1.2.0",
            "_view_name": "LayoutView",
            "align_content": null,
            "align_items": null,
            "align_self": null,
            "border": null,
            "bottom": null,
            "display": null,
            "flex": null,
            "flex_flow": null,
            "grid_area": null,
            "grid_auto_columns": null,
            "grid_auto_flow": null,
            "grid_auto_rows": null,
            "grid_column": null,
            "grid_gap": null,
            "grid_row": null,
            "grid_template_areas": null,
            "grid_template_columns": null,
            "grid_template_rows": null,
            "height": null,
            "justify_content": null,
            "justify_items": null,
            "left": null,
            "margin": null,
            "max_height": null,
            "max_width": null,
            "min_height": null,
            "min_width": null,
            "object_fit": null,
            "object_position": null,
            "order": null,
            "overflow": null,
            "overflow_x": null,
            "overflow_y": null,
            "padding": null,
            "right": null,
            "top": null,
            "visibility": null,
            "width": null
          }
        },
        "dada385d5e44480bb5f1a19c70963b45": {
          "model_module": "@jupyter-widgets/controls",
          "model_name": "SliderStyleModel",
          "model_module_version": "1.5.0",
          "state": {
            "_model_module": "@jupyter-widgets/controls",
            "_model_module_version": "1.5.0",
            "_model_name": "SliderStyleModel",
            "_view_count": null,
            "_view_module": "@jupyter-widgets/base",
            "_view_module_version": "1.2.0",
            "_view_name": "StyleView",
            "description_width": "",
            "handle_color": null
          }
        },
        "19547f20d1154bceb0acd6d5f26e5cf5": {
          "model_module": "@jupyter-widgets/base",
          "model_name": "LayoutModel",
          "model_module_version": "1.2.0",
          "state": {
            "_model_module": "@jupyter-widgets/base",
            "_model_module_version": "1.2.0",
            "_model_name": "LayoutModel",
            "_view_count": null,
            "_view_module": "@jupyter-widgets/base",
            "_view_module_version": "1.2.0",
            "_view_name": "LayoutView",
            "align_content": null,
            "align_items": null,
            "align_self": null,
            "border": null,
            "bottom": null,
            "display": null,
            "flex": null,
            "flex_flow": null,
            "grid_area": null,
            "grid_auto_columns": null,
            "grid_auto_flow": null,
            "grid_auto_rows": null,
            "grid_column": null,
            "grid_gap": null,
            "grid_row": null,
            "grid_template_areas": null,
            "grid_template_columns": null,
            "grid_template_rows": null,
            "height": null,
            "justify_content": null,
            "justify_items": null,
            "left": null,
            "margin": null,
            "max_height": null,
            "max_width": null,
            "min_height": null,
            "min_width": null,
            "object_fit": null,
            "object_position": null,
            "order": null,
            "overflow": null,
            "overflow_x": null,
            "overflow_y": null,
            "padding": null,
            "right": null,
            "top": null,
            "visibility": null,
            "width": null
          }
        },
        "246f21ea4e6847da8c360e9a1d28504f": {
          "model_module": "@jupyter-widgets/controls",
          "model_name": "SliderStyleModel",
          "model_module_version": "1.5.0",
          "state": {
            "_model_module": "@jupyter-widgets/controls",
            "_model_module_version": "1.5.0",
            "_model_name": "SliderStyleModel",
            "_view_count": null,
            "_view_module": "@jupyter-widgets/base",
            "_view_module_version": "1.2.0",
            "_view_name": "StyleView",
            "description_width": "",
            "handle_color": null
          }
        },
        "31b3f61c8b0c42119f5df4ccc27c4aa0": {
          "model_module": "@jupyter-widgets/base",
          "model_name": "LayoutModel",
          "model_module_version": "1.2.0",
          "state": {
            "_model_module": "@jupyter-widgets/base",
            "_model_module_version": "1.2.0",
            "_model_name": "LayoutModel",
            "_view_count": null,
            "_view_module": "@jupyter-widgets/base",
            "_view_module_version": "1.2.0",
            "_view_name": "LayoutView",
            "align_content": null,
            "align_items": null,
            "align_self": null,
            "border": null,
            "bottom": null,
            "display": null,
            "flex": null,
            "flex_flow": null,
            "grid_area": null,
            "grid_auto_columns": null,
            "grid_auto_flow": null,
            "grid_auto_rows": null,
            "grid_column": null,
            "grid_gap": null,
            "grid_row": null,
            "grid_template_areas": null,
            "grid_template_columns": null,
            "grid_template_rows": null,
            "height": null,
            "justify_content": null,
            "justify_items": null,
            "left": null,
            "margin": null,
            "max_height": null,
            "max_width": null,
            "min_height": null,
            "min_width": null,
            "object_fit": null,
            "object_position": null,
            "order": null,
            "overflow": null,
            "overflow_x": null,
            "overflow_y": null,
            "padding": null,
            "right": null,
            "top": null,
            "visibility": null,
            "width": null
          }
        },
        "f486219aeba1434d94c7ec8730290bfa": {
          "model_module": "jupyter-matplotlib",
          "model_name": "MPLCanvasModel",
          "model_module_version": "^0.11",
          "state": {
            "_cursor": "default",
            "_data_url": "data:image/png;base64,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",
            "_dom_classes": [],
            "_figure_label": "Figure 3",
            "_image_mode": "diff",
            "_message": "x=234.1 y=4.62",
            "_model_module": "jupyter-matplotlib",
            "_model_module_version": "^0.11",
            "_model_name": "MPLCanvasModel",
            "_rubberband_height": 0,
            "_rubberband_width": 0,
            "_rubberband_x": 0,
            "_rubberband_y": 0,
            "_size": [
              800,
              400
            ],
            "_view_count": null,
            "_view_module": "jupyter-matplotlib",
            "_view_module_version": "^0.11",
            "_view_name": "MPLCanvasView",
            "capture_scroll": false,
            "footer_visible": true,
            "header_visible": true,
            "layout": "IPY_MODEL_b20b582431e24422a7e2ebf44b0dc1cb",
            "pan_zoom_throttle": 33,
            "resizable": true,
            "toolbar": "IPY_MODEL_d85571ccda9642a794d43c90aed2009a",
            "toolbar_position": "left",
            "toolbar_visible": "fade-in-fade-out"
          }
        },
        "b20b582431e24422a7e2ebf44b0dc1cb": {
          "model_module": "@jupyter-widgets/base",
          "model_name": "LayoutModel",
          "model_module_version": "1.2.0",
          "state": {
            "_model_module": "@jupyter-widgets/base",
            "_model_module_version": "1.2.0",
            "_model_name": "LayoutModel",
            "_view_count": null,
            "_view_module": "@jupyter-widgets/base",
            "_view_module_version": "1.2.0",
            "_view_name": "LayoutView",
            "align_content": null,
            "align_items": null,
            "align_self": null,
            "border": null,
            "bottom": null,
            "display": null,
            "flex": null,
            "flex_flow": null,
            "grid_area": null,
            "grid_auto_columns": null,
            "grid_auto_flow": null,
            "grid_auto_rows": null,
            "grid_column": null,
            "grid_gap": null,
            "grid_row": null,
            "grid_template_areas": null,
            "grid_template_columns": null,
            "grid_template_rows": null,
            "height": null,
            "justify_content": null,
            "justify_items": null,
            "left": null,
            "margin": null,
            "max_height": null,
            "max_width": null,
            "min_height": null,
            "min_width": null,
            "object_fit": null,
            "object_position": null,
            "order": null,
            "overflow": null,
            "overflow_x": null,
            "overflow_y": null,
            "padding": null,
            "right": null,
            "top": null,
            "visibility": null,
            "width": null
          }
        },
        "d85571ccda9642a794d43c90aed2009a": {
          "model_module": "jupyter-matplotlib",
          "model_name": "ToolbarModel",
          "model_module_version": "^0.11",
          "state": {
            "_current_action": "",
            "_dom_classes": [],
            "_model_module": "jupyter-matplotlib",
            "_model_module_version": "^0.11",
            "_model_name": "ToolbarModel",
            "_view_count": null,
            "_view_module": "jupyter-matplotlib",
            "_view_module_version": "^0.11",
            "_view_name": "ToolbarView",
            "button_style": "",
            "collapsed": true,
            "layout": "IPY_MODEL_6ea57402db964df6aab542f1564213f9",
            "orientation": "vertical",
            "toolitems": [
              [
                "Home",
                "Reset original view",
                "home",
                "home"
              ],
              [
                "Back",
                "Back to previous view",
                "arrow-left",
                "back"
              ],
              [
                "Forward",
                "Forward to next view",
                "arrow-right",
                "forward"
              ],
              [
                "Pan",
                "Left button pans, Right button zooms\nx/y fixes axis, CTRL fixes aspect",
                "arrows",
                "pan"
              ],
              [
                "Zoom",
                "Zoom to rectangle\nx/y fixes axis",
                "square-o",
                "zoom"
              ],
              [
                "Download",
                "Download plot",
                "floppy-o",
                "save_figure"
              ]
            ]
          }
        },
        "6ea57402db964df6aab542f1564213f9": {
          "model_module": "@jupyter-widgets/base",
          "model_name": "LayoutModel",
          "model_module_version": "1.2.0",
          "state": {
            "_model_module": "@jupyter-widgets/base",
            "_model_module_version": "1.2.0",
            "_model_name": "LayoutModel",
            "_view_count": null,
            "_view_module": "@jupyter-widgets/base",
            "_view_module_version": "1.2.0",
            "_view_name": "LayoutView",
            "align_content": null,
            "align_items": null,
            "align_self": null,
            "border": null,
            "bottom": null,
            "display": null,
            "flex": null,
            "flex_flow": null,
            "grid_area": null,
            "grid_auto_columns": null,
            "grid_auto_flow": null,
            "grid_auto_rows": null,
            "grid_column": null,
            "grid_gap": null,
            "grid_row": null,
            "grid_template_areas": null,
            "grid_template_columns": null,
            "grid_template_rows": null,
            "height": null,
            "justify_content": null,
            "justify_items": null,
            "left": null,
            "margin": null,
            "max_height": null,
            "max_width": null,
            "min_height": null,
            "min_width": null,
            "object_fit": null,
            "object_position": null,
            "order": null,
            "overflow": null,
            "overflow_x": null,
            "overflow_y": null,
            "padding": null,
            "right": null,
            "top": null,
            "visibility": null,
            "width": null
          }
        }
      }
    }
  },
  "nbformat": 4,
  "nbformat_minor": 0
}