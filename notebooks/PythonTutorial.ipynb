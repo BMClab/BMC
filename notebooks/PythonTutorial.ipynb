{
 "cells": [
  {
   "cell_type": "markdown",
   "metadata": {},
   "source": [
    "# Tutorial on Python for scientific computing\n",
    "\n",
    "> Marcos Duarte, Renato Naville Watanabe  \n",
    "> [Laboratory of Biomechanics and Motor Control](https://bmclab.pesquisa.ufabc.edu.br/pt/)  \n",
    "> Federal University of ABC, Brazil\n",
    "\n",
    "<p style=\"text-align: right;\">A <a href=\"https://jupyter.org/\">Jupyter Notebook</a></p>"
   ]
  },
  {
   "cell_type": "markdown",
   "metadata": {
    "toc": true
   },
   "source": [
    "<h1>Contents<span class=\"tocSkip\"></span></h1>\n",
    "<div class=\"toc\"><ul class=\"toc-item\"><li><span><a href=\"#Scope-of-this-tutorial\" data-toc-modified-id=\"Scope-of-this-tutorial-1\"><span class=\"toc-item-num\">1&nbsp;&nbsp;</span>Scope of this tutorial</a></span></li><li><span><a href=\"#Python-as-a-calculator\" data-toc-modified-id=\"Python-as-a-calculator-2\"><span class=\"toc-item-num\">2&nbsp;&nbsp;</span>Python as a calculator</a></span></li><li><span><a href=\"#The-import-function\" data-toc-modified-id=\"The-import-function-3\"><span class=\"toc-item-num\">3&nbsp;&nbsp;</span>The import function</a></span></li><li><span><a href=\"#Object-oriented-programming\" data-toc-modified-id=\"Object-oriented-programming-4\"><span class=\"toc-item-num\">4&nbsp;&nbsp;</span>Object-oriented programming</a></span></li><li><span><a href=\"#Python-and-IPython-help\" data-toc-modified-id=\"Python-and-IPython-help-5\"><span class=\"toc-item-num\">5&nbsp;&nbsp;</span>Python and IPython help</a></span><ul class=\"toc-item\"><li><span><a href=\"#Tab-completion-in-IPython\" data-toc-modified-id=\"Tab-completion-in-IPython-5.1\"><span class=\"toc-item-num\">5.1&nbsp;&nbsp;</span>Tab completion in IPython</a></span></li><li><span><a href=\"#The-four-most-helpful-commands-in-IPython\" data-toc-modified-id=\"The-four-most-helpful-commands-in-IPython-5.2\"><span class=\"toc-item-num\">5.2&nbsp;&nbsp;</span>The four most helpful commands in IPython</a></span></li><li><span><a href=\"#Comments\" data-toc-modified-id=\"Comments-5.3\"><span class=\"toc-item-num\">5.3&nbsp;&nbsp;</span>Comments</a></span></li><li><span><a href=\"#Magic-functions\" data-toc-modified-id=\"Magic-functions-5.4\"><span class=\"toc-item-num\">5.4&nbsp;&nbsp;</span>Magic functions</a></span></li></ul></li><li><span><a href=\"#Assignment-and-expressions\" data-toc-modified-id=\"Assignment-and-expressions-6\"><span class=\"toc-item-num\">6&nbsp;&nbsp;</span>Assignment and expressions</a></span></li><li><span><a href=\"#Variables-and-types\" data-toc-modified-id=\"Variables-and-types-7\"><span class=\"toc-item-num\">7&nbsp;&nbsp;</span>Variables and types</a></span><ul class=\"toc-item\"><li><span><a href=\"#Numbers:-int,-float,-complex\" data-toc-modified-id=\"Numbers:-int,-float,-complex-7.1\"><span class=\"toc-item-num\">7.1&nbsp;&nbsp;</span>Numbers: int, float, complex</a></span></li><li><span><a href=\"#Strings\" data-toc-modified-id=\"Strings-7.2\"><span class=\"toc-item-num\">7.2&nbsp;&nbsp;</span>Strings</a></span></li><li><span><a href=\"#len()\" data-toc-modified-id=\"len()-7.3\"><span class=\"toc-item-num\">7.3&nbsp;&nbsp;</span>len()</a></span></li><li><span><a href=\"#Lists\" data-toc-modified-id=\"Lists-7.4\"><span class=\"toc-item-num\">7.4&nbsp;&nbsp;</span>Lists</a></span></li><li><span><a href=\"#Tuples\" data-toc-modified-id=\"Tuples-7.5\"><span class=\"toc-item-num\">7.5&nbsp;&nbsp;</span>Tuples</a></span></li><li><span><a href=\"#Sets\" data-toc-modified-id=\"Sets-7.6\"><span class=\"toc-item-num\">7.6&nbsp;&nbsp;</span>Sets</a></span></li><li><span><a href=\"#Dictionaries\" data-toc-modified-id=\"Dictionaries-7.7\"><span class=\"toc-item-num\">7.7&nbsp;&nbsp;</span>Dictionaries</a></span></li></ul></li><li><span><a href=\"#Built-in-Constants\" data-toc-modified-id=\"Built-in-Constants-8\"><span class=\"toc-item-num\">8&nbsp;&nbsp;</span>Built-in Constants</a></span></li><li><span><a href=\"#Logical-(Boolean)-operators\" data-toc-modified-id=\"Logical-(Boolean)-operators-9\"><span class=\"toc-item-num\">9&nbsp;&nbsp;</span>Logical (Boolean) operators</a></span><ul class=\"toc-item\"><li><span><a href=\"#and,-or,-not\" data-toc-modified-id=\"and,-or,-not-9.1\"><span class=\"toc-item-num\">9.1&nbsp;&nbsp;</span>and, or, not</a></span></li><li><span><a href=\"#Comparisons\" data-toc-modified-id=\"Comparisons-9.2\"><span class=\"toc-item-num\">9.2&nbsp;&nbsp;</span>Comparisons</a></span></li></ul></li><li><span><a href=\"#Indentation-and-whitespace\" data-toc-modified-id=\"Indentation-and-whitespace-10\"><span class=\"toc-item-num\">10&nbsp;&nbsp;</span>Indentation and whitespace</a></span></li><li><span><a href=\"#Control-of-flow\" data-toc-modified-id=\"Control-of-flow-11\"><span class=\"toc-item-num\">11&nbsp;&nbsp;</span>Control of flow</a></span><ul class=\"toc-item\"><li><span><a href=\"#if...elif...else\" data-toc-modified-id=\"if...elif...else-11.1\"><span class=\"toc-item-num\">11.1&nbsp;&nbsp;</span><code>if</code>...<code>elif</code>...<code>else</code></a></span></li><li><span><a href=\"#for\" data-toc-modified-id=\"for-11.2\"><span class=\"toc-item-num\">11.2&nbsp;&nbsp;</span>for</a></span><ul class=\"toc-item\"><li><span><a href=\"#The-range()-function\" data-toc-modified-id=\"The-range()-function-11.2.1\"><span class=\"toc-item-num\">11.2.1&nbsp;&nbsp;</span>The <code>range()</code> function</a></span></li></ul></li><li><span><a href=\"#while\" data-toc-modified-id=\"while-11.3\"><span class=\"toc-item-num\">11.3&nbsp;&nbsp;</span>while</a></span></li></ul></li><li><span><a href=\"#Function-definition\" data-toc-modified-id=\"Function-definition-12\"><span class=\"toc-item-num\">12&nbsp;&nbsp;</span>Function definition</a></span></li><li><span><a href=\"#Numeric-data-manipulation-with-Numpy\" data-toc-modified-id=\"Numeric-data-manipulation-with-Numpy-13\"><span class=\"toc-item-num\">13&nbsp;&nbsp;</span>Numeric data manipulation with Numpy</a></span><ul class=\"toc-item\"><li><span><a href=\"#Interpolation\" data-toc-modified-id=\"Interpolation-13.1\"><span class=\"toc-item-num\">13.1&nbsp;&nbsp;</span>Interpolation</a></span></li></ul></li><li><span><a href=\"#Read-and-save-files\" data-toc-modified-id=\"Read-and-save-files-14\"><span class=\"toc-item-num\">14&nbsp;&nbsp;</span>Read and save files</a></span></li><li><span><a href=\"#Ploting-with-matplotlib\" data-toc-modified-id=\"Ploting-with-matplotlib-15\"><span class=\"toc-item-num\">15&nbsp;&nbsp;</span>Ploting with matplotlib</a></span></li><li><span><a href=\"#Signal-processing-with-Scipy\" data-toc-modified-id=\"Signal-processing-with-Scipy-16\"><span class=\"toc-item-num\">16&nbsp;&nbsp;</span>Signal processing with Scipy</a></span></li><li><span><a href=\"#Symbolic-mathematics-with-Sympy\" data-toc-modified-id=\"Symbolic-mathematics-with-Sympy-17\"><span class=\"toc-item-num\">17&nbsp;&nbsp;</span>Symbolic mathematics with Sympy</a></span></li><li><span><a href=\"#Data-analysis-with-pandas\" data-toc-modified-id=\"Data-analysis-with-pandas-18\"><span class=\"toc-item-num\">18&nbsp;&nbsp;</span>Data analysis with pandas</a></span></li><li><span><a href=\"#More-about-Python\" data-toc-modified-id=\"More-about-Python-19\"><span class=\"toc-item-num\">19&nbsp;&nbsp;</span>More about Python</a></span></li></ul></div>"
   ]
  },
  {
   "cell_type": "markdown",
   "metadata": {},
   "source": [
    "## Scope of this tutorial\n",
    "\n",
    "This will be a very brief tutorial on Python.  \n",
    "For a more complete tutorial about Python see [A Whirlwind Tour of Python](https://github.com/jakevdp/WhirlwindTourOfPython) and [Python Data Science Handbook](https://jakevdp.github.io/PythonDataScienceHandbook/) for a specific tutorial about Python for scientific computing.\n",
    "\n",
    "To use Python for scientific computing we need the Python program itself with its main modules and specific packages for scientific computing. [See this notebook on how to install Python for scientific computing](http://nbviewer.ipython.org/github/demotu/BMC/blob/master/notebooks/PythonInstallation.ipynb).  \n",
    "Once you get Python and the necessary packages for scientific computing ready to work, there are different ways to run Python, the main ones are:\n",
    "\n",
    "- open a terminal window in your computer and type `python` or `ipython` that the Python interpreter will start\n",
    "- run the `Jupyter notebook` and start working with Python in a browser\n",
    "- run `Spyder`, an interactive development environment (IDE)\n",
    "- run the `Jupyter qtconsole`, a more featured terminal\n",
    "- run Python online in a website such as [https://www.pythonanywhere.com/](https://www.pythonanywhere.com/) or [Colaboratory](https://colab.research.google.com/notebooks/welcome.ipynb)\n",
    "- run Python using any other Python editor or IDE\n",
    " \n",
    "We will use the Jupyter Notebook for this tutorial but you can run almost all the things we will see here using the other forms listed above."
   ]
  },
  {
   "cell_type": "markdown",
   "metadata": {},
   "source": [
    "## Python as a calculator\n",
    "\n",
    "Once in the Jupyter notebook, if you type a simple mathematical expression and press `Shift+Enter` it will give the result of the expression:"
   ]
  },
  {
   "cell_type": "code",
   "execution_count": null,
   "metadata": {},
   "outputs": [],
   "source": [
    "1 + 2 - 25"
   ]
  },
  {
   "cell_type": "code",
   "execution_count": null,
   "metadata": {},
   "outputs": [],
   "source": [
    "4/7"
   ]
  },
  {
   "cell_type": "markdown",
   "metadata": {},
   "source": [
    "Using the `print` function, let's explore the mathematical operations available in Python:"
   ]
  },
  {
   "cell_type": "code",
   "execution_count": null,
   "metadata": {
    "sl_translate": "sl_none"
   },
   "outputs": [],
   "source": [
    "print('1+2 = ', 1+2, '\\n', '4*5 = ', 4*5, '\\n', '6/7 = ', 6/7, '\\n', '8**2 = ', 8**2, sep='')"
   ]
  },
  {
   "cell_type": "markdown",
   "metadata": {},
   "source": [
    "And if we want the square-root of a number:"
   ]
  },
  {
   "cell_type": "code",
   "execution_count": null,
   "metadata": {},
   "outputs": [],
   "source": [
    "sqrt(9)"
   ]
  },
  {
   "cell_type": "markdown",
   "metadata": {},
   "source": [
    "We get an error message saying that the `sqrt` function if not defined. This is because `sqrt` and other mathematical functions are available with the `math` module:"
   ]
  },
  {
   "cell_type": "code",
   "execution_count": null,
   "metadata": {},
   "outputs": [],
   "source": [
    "import math"
   ]
  },
  {
   "cell_type": "code",
   "execution_count": null,
   "metadata": {},
   "outputs": [],
   "source": [
    "math.sqrt(9)"
   ]
  },
  {
   "cell_type": "code",
   "execution_count": null,
   "metadata": {},
   "outputs": [],
   "source": [
    "from math import sqrt"
   ]
  },
  {
   "cell_type": "code",
   "execution_count": null,
   "metadata": {},
   "outputs": [],
   "source": [
    "sqrt(9)"
   ]
  },
  {
   "cell_type": "markdown",
   "metadata": {},
   "source": [
    "## The import function\n",
    "\n",
    "We used the command '`import`' to be able to call certain functions. In Python functions are organized in modules and packages and they have to be imported in order to be used.   \n",
    "\n",
    "A module is a file containing Python definitions (e.g., functions) and statements. Packages are a way of structuring Python’s module namespace by using “dotted module names”. For example, the module name A.B designates a submodule named B in a package named A. To be used, modules and packages have to be imported in Python with the import function.   \n",
    "\n",
    "Namespace is a container for a set of identifiers (names), and allows the disambiguation of homonym identifiers residing in different namespaces. For example, with the command import math, we will have all the functions and statements defined in this module in the namespace '`math.`', for example, '`math.pi`' is the π constant and '`math.cos()`', the cosine function."
   ]
  },
  {
   "cell_type": "markdown",
   "metadata": {},
   "source": [
    "By the way, to know which Python version you are running, we can use one of the following modules:"
   ]
  },
  {
   "cell_type": "code",
   "execution_count": null,
   "metadata": {},
   "outputs": [],
   "source": [
    "import sys\n",
    "sys.version"
   ]
  },
  {
   "cell_type": "markdown",
   "metadata": {},
   "source": [
    "And if you are in an IPython session:"
   ]
  },
  {
   "cell_type": "code",
   "execution_count": null,
   "metadata": {},
   "outputs": [],
   "source": [
    "from IPython import sys_info\n",
    "print(sys_info())"
   ]
  },
  {
   "cell_type": "markdown",
   "metadata": {},
   "source": [
    "The first option gives information about the Python version; the latter also includes the IPython version, operating system, etc."
   ]
  },
  {
   "cell_type": "markdown",
   "metadata": {},
   "source": [
    "## Object-oriented programming\n",
    "\n",
    "Python is designed as an object-oriented programming (OOP) language. OOP is a paradigm that represents concepts as \"objects\" that have data fields (attributes that describe the object) and associated procedures known as methods.\n",
    "\n",
    "This means that all elements in Python are objects and they have attributes which can be acessed with the dot (.) operator after the name of the object. We already experimented with that when we imported the module `sys`, it became an object, and we acessed one of its attribute: `sys.version`.\n",
    "\n",
    "OOP as a paradigm is much more than defining objects, attributes, and methods, but for now this is enough to get going with Python."
   ]
  },
  {
   "cell_type": "markdown",
   "metadata": {},
   "source": [
    "## Python and IPython help\n",
    "\n",
    "To get help about any Python command, use `help()`:"
   ]
  },
  {
   "cell_type": "code",
   "execution_count": null,
   "metadata": {},
   "outputs": [],
   "source": [
    "help(math.degrees)"
   ]
  },
  {
   "cell_type": "markdown",
   "metadata": {},
   "source": [
    "Or if you are in the IPython environment, simply add '?' to the function that a window will open at the bottom of your browser with the same help content:"
   ]
  },
  {
   "cell_type": "code",
   "execution_count": null,
   "metadata": {},
   "outputs": [],
   "source": [
    "math.degrees?"
   ]
  },
  {
   "cell_type": "markdown",
   "metadata": {},
   "source": [
    "And if you add a second '?' to the statement you get access to the original script file of the function (an advantage of an open source language), unless that function is a built-in function that does not have a script file, which is the case of the standard modules in Python (but you can access the Python source code if you want; it just does not come with the standard program for installation).\n",
    "\n",
    "So, let's see this feature with another function:"
   ]
  },
  {
   "cell_type": "code",
   "execution_count": null,
   "metadata": {},
   "outputs": [],
   "source": [
    "import scipy.fftpack\n",
    "scipy.fftpack.fft??"
   ]
  },
  {
   "cell_type": "markdown",
   "metadata": {},
   "source": [
    "To know all the attributes of an object, for example all the functions available in `math`, we can use the function `dir`:"
   ]
  },
  {
   "cell_type": "code",
   "execution_count": null,
   "metadata": {},
   "outputs": [],
   "source": [
    "print(dir(math))"
   ]
  },
  {
   "cell_type": "markdown",
   "metadata": {},
   "source": [
    "### Tab completion in IPython\n",
    "\n",
    "IPython has tab completion: start typing the name of the command (object) and press `tab` to see the names of objects available with these initials letters. When the name of the object is typed followed by a dot (`math.`), pressing `tab` will show all available attribites, scroll down to the desired attribute and press `Enter` to select it."
   ]
  },
  {
   "cell_type": "markdown",
   "metadata": {},
   "source": [
    "### The four most helpful commands in IPython\n",
    "\n",
    "These are the most helpful commands in IPython (from [IPython tutorial](http://ipython.org/ipython-doc/dev/interactive/tutorial.html)):\n",
    "\n",
    " - `?` : Introduction and overview of IPython’s features.\n",
    " - `%quickref` : Quick reference.\n",
    " - `help` : Python’s own help system.\n",
    " - `object?` : Details about ‘object’, use ‘object??’ for extra details."
   ]
  },
  {
   "cell_type": "markdown",
   "metadata": {},
   "source": [
    "### Comments\n",
    "\n",
    "Comments in Python start with the hash character, #, and extend to the end of the physical line:"
   ]
  },
  {
   "cell_type": "code",
   "execution_count": null,
   "metadata": {},
   "outputs": [],
   "source": [
    "# Import the math library to access more math stuff\n",
    "import math\n",
    "math.pi  # this is the pi constant; a useless comment since this is obvious"
   ]
  },
  {
   "cell_type": "markdown",
   "metadata": {},
   "source": [
    "To insert comments spanning more than one line, use a multi-line string with a pair of matching triple-quotes: `\"\"\"` or `'''` (we will see the string data type later). A typical use of a multi-line comment is as documentation strings and are meant for anyone reading the code:"
   ]
  },
  {
   "cell_type": "code",
   "execution_count": null,
   "metadata": {},
   "outputs": [],
   "source": [
    "\"\"\"Documentation strings are typically written like that.\n",
    "\n",
    "A docstring is a string literal that occurs as the first statement\n",
    "in a module, function, class, or method definition.\n",
    "\n",
    "\"\"\""
   ]
  },
  {
   "cell_type": "markdown",
   "metadata": {},
   "source": [
    "A docstring like above is useless and its output as a standalone statement looks uggly in IPython Notebook, but you will see its real importance when reading and writting codes.\n",
    "\n",
    "Commenting a programming code is an important step to make the code more readable, which Python cares a lot.   \n",
    "There is a style guide for writting Python code ([PEP 8](https://www.python.org/dev/peps/pep-0008/)) with a session about [how to write comments](https://www.python.org/dev/peps/pep-0008/#comments)."
   ]
  },
  {
   "cell_type": "markdown",
   "metadata": {},
   "source": [
    "### Magic functions\n",
    "\n",
    "IPython has a set of predefined ‘magic functions’ that you can call with a command line style syntax.   \n",
    "There are two kinds of magics, line-oriented and cell-oriented.   \n",
    "Line magics are prefixed with the % character and work much like OS command-line calls: they get as an argument the rest of the line, where arguments are passed without parentheses or quotes.   \n",
    "Cell magics are prefixed with a double %%, and they are functions that get as an argument not only the rest of the line, but also the lines below it in a separate argument."
   ]
  },
  {
   "cell_type": "markdown",
   "metadata": {},
   "source": [
    "## Assignment and expressions\n",
    "\n",
    "The equal sign ('=') is used to assign a value to a variable. Afterwards, no result is displayed before the next interactive prompt:"
   ]
  },
  {
   "cell_type": "code",
   "execution_count": null,
   "metadata": {},
   "outputs": [],
   "source": [
    "x = 1"
   ]
  },
  {
   "cell_type": "markdown",
   "metadata": {},
   "source": [
    "Spaces between the statements are optional but it helps for readability.\n",
    "\n",
    "To see the value of the variable, call it again or use the print function:"
   ]
  },
  {
   "cell_type": "code",
   "execution_count": null,
   "metadata": {},
   "outputs": [],
   "source": [
    "x"
   ]
  },
  {
   "cell_type": "code",
   "execution_count": null,
   "metadata": {},
   "outputs": [],
   "source": [
    "print(x)"
   ]
  },
  {
   "cell_type": "markdown",
   "metadata": {},
   "source": [
    "Of course, the last assignment is that holds:"
   ]
  },
  {
   "cell_type": "code",
   "execution_count": null,
   "metadata": {},
   "outputs": [],
   "source": [
    "x = 2\n",
    "x = 3\n",
    "x"
   ]
  },
  {
   "cell_type": "markdown",
   "metadata": {},
   "source": [
    "In mathematics '=' is the symbol for identity, but in computer programming '=' is used for assignment, it means that the right part of the expresssion is assigned to its left part.   \n",
    "For example, 'x=x+1' does not make sense in mathematics but it does in computer programming:"
   ]
  },
  {
   "cell_type": "code",
   "execution_count": null,
   "metadata": {},
   "outputs": [],
   "source": [
    "x = x + 1\n",
    "print(x)"
   ]
  },
  {
   "cell_type": "markdown",
   "metadata": {},
   "source": [
    "A value can be assigned to several variables simultaneously:"
   ]
  },
  {
   "cell_type": "code",
   "execution_count": null,
   "metadata": {},
   "outputs": [],
   "source": [
    "x = y = 4\n",
    "print(x)\n",
    "print(y)"
   ]
  },
  {
   "cell_type": "markdown",
   "metadata": {},
   "source": [
    "Several values can be assigned to several variables at once:"
   ]
  },
  {
   "cell_type": "code",
   "execution_count": null,
   "metadata": {},
   "outputs": [],
   "source": [
    "x, y = 5, 6\n",
    "print(x)\n",
    "print(y)"
   ]
  },
  {
   "cell_type": "markdown",
   "metadata": {},
   "source": [
    "And with that, you can do (!):"
   ]
  },
  {
   "cell_type": "code",
   "execution_count": null,
   "metadata": {},
   "outputs": [],
   "source": [
    "x, y = y, x\n",
    "print(x)\n",
    "print(y)"
   ]
  },
  {
   "cell_type": "markdown",
   "metadata": {},
   "source": [
    "Variables must be “defined” (assigned a value) before they can be used, or an error will occur:"
   ]
  },
  {
   "cell_type": "code",
   "execution_count": null,
   "metadata": {},
   "outputs": [],
   "source": [
    "x = z"
   ]
  },
  {
   "cell_type": "markdown",
   "metadata": {},
   "source": [
    "## Variables and types\n",
    "\n",
    "There are different types of built-in objects in Python (and remember that everything in Python is an object):"
   ]
  },
  {
   "cell_type": "code",
   "execution_count": null,
   "metadata": {},
   "outputs": [],
   "source": [
    "import types\n",
    "print(dir(types))"
   ]
  },
  {
   "cell_type": "markdown",
   "metadata": {},
   "source": [
    "Let's see some of them now."
   ]
  },
  {
   "cell_type": "markdown",
   "metadata": {},
   "source": [
    "### Numbers: int, float, complex\n",
    "\n",
    "Numbers can an integer (int), float, and complex (with imaginary part).   \n",
    "Let's use the function `type` to show the type of number (and later for any other object):"
   ]
  },
  {
   "cell_type": "code",
   "execution_count": null,
   "metadata": {},
   "outputs": [],
   "source": [
    "type(6)"
   ]
  },
  {
   "cell_type": "markdown",
   "metadata": {},
   "source": [
    "A float is a non-integer number:"
   ]
  },
  {
   "cell_type": "code",
   "execution_count": null,
   "metadata": {},
   "outputs": [],
   "source": [
    "math.pi"
   ]
  },
  {
   "cell_type": "code",
   "execution_count": null,
   "metadata": {},
   "outputs": [],
   "source": [
    "type(math.pi)"
   ]
  },
  {
   "cell_type": "markdown",
   "metadata": {},
   "source": [
    "Python (IPython) is showing `math.pi` with only 15 decimal cases, but internally a float is represented with higher precision.   \n",
    "Floating point numbers in Python are implemented using a double (eight bytes) word; the precison and internal representation of floating point numbers are machine specific and are available in:"
   ]
  },
  {
   "cell_type": "code",
   "execution_count": null,
   "metadata": {},
   "outputs": [],
   "source": [
    "sys.float_info"
   ]
  },
  {
   "cell_type": "markdown",
   "metadata": {},
   "source": [
    "Be aware that floating-point numbers can be trick in computers:"
   ]
  },
  {
   "cell_type": "code",
   "execution_count": null,
   "metadata": {},
   "outputs": [],
   "source": [
    "0.1 + 0.2"
   ]
  },
  {
   "cell_type": "code",
   "execution_count": null,
   "metadata": {},
   "outputs": [],
   "source": [
    "0.1 + 0.2 - 0.3"
   ]
  },
  {
   "cell_type": "markdown",
   "metadata": {},
   "source": [
    "These results are not correct (and the problem is not due to Python). The error arises from the fact that floating-point numbers are represented in computer hardware as base 2 (binary) fractions and most decimal fractions cannot be represented exactly as binary fractions. As consequence, decimal floating-point numbers are only approximated by the binary floating-point numbers actually stored in the machine. [See here for more on this issue](http://docs.python.org/2/tutorial/floatingpoint.html)."
   ]
  },
  {
   "cell_type": "markdown",
   "metadata": {},
   "source": [
    "A complex number has real and imaginary parts:"
   ]
  },
  {
   "cell_type": "code",
   "execution_count": null,
   "metadata": {},
   "outputs": [],
   "source": [
    "1 + 2j"
   ]
  },
  {
   "cell_type": "code",
   "execution_count": null,
   "metadata": {},
   "outputs": [],
   "source": [
    "print(type(1+2j))"
   ]
  },
  {
   "cell_type": "markdown",
   "metadata": {},
   "source": [
    "Each part of a complex number is represented as a floating-point number. We can see them using the attributes `.real` and `.imag`:"
   ]
  },
  {
   "cell_type": "code",
   "execution_count": null,
   "metadata": {},
   "outputs": [],
   "source": [
    "print((1 + 2j).real)\n",
    "print((1 + 2j).imag)"
   ]
  },
  {
   "cell_type": "markdown",
   "metadata": {},
   "source": [
    "### Strings\n",
    "\n",
    "Strings can be enclosed in single quotes or double quotes:"
   ]
  },
  {
   "cell_type": "code",
   "execution_count": null,
   "metadata": {},
   "outputs": [],
   "source": [
    "s = 'string (str) is a built-in type in Python'\n",
    "s"
   ]
  },
  {
   "cell_type": "code",
   "execution_count": null,
   "metadata": {},
   "outputs": [],
   "source": [
    "type(s)"
   ]
  },
  {
   "cell_type": "markdown",
   "metadata": {},
   "source": [
    "String enclosed with single and double quotes are equal, but it may be easier to use one instead of the other:"
   ]
  },
  {
   "cell_type": "code",
   "execution_count": null,
   "metadata": {},
   "outputs": [],
   "source": [
    "'string (str) is a Python's built-in type'"
   ]
  },
  {
   "cell_type": "code",
   "execution_count": null,
   "metadata": {},
   "outputs": [],
   "source": [
    "\"string (str) is a Python's built-in type\""
   ]
  },
  {
   "cell_type": "markdown",
   "metadata": {},
   "source": [
    "But you could have done that using the Python escape character '\\':"
   ]
  },
  {
   "cell_type": "code",
   "execution_count": null,
   "metadata": {},
   "outputs": [],
   "source": [
    "'string (str) is a Python\\'s built-in type'"
   ]
  },
  {
   "cell_type": "markdown",
   "metadata": {},
   "source": [
    "Strings can be concatenated (glued together) with the + operator, and repeated with *:"
   ]
  },
  {
   "cell_type": "code",
   "execution_count": null,
   "metadata": {},
   "outputs": [],
   "source": [
    "s = 'P' + 'y' + 't' + 'h' + 'o' + 'n'\n",
    "print(s)\n",
    "print(s*5)"
   ]
  },
  {
   "cell_type": "markdown",
   "metadata": {},
   "source": [
    "Strings can be subscripted (indexed); like in C, the first character of a string has subscript (index) 0:"
   ]
  },
  {
   "cell_type": "code",
   "execution_count": null,
   "metadata": {},
   "outputs": [],
   "source": [
    "print('s[0] = ', s[0], '  (s[index], start at 0)')\n",
    "print('s[5] = ', s[5])\n",
    "print('s[-1] = ', s[-1], '  (last element)')\n",
    "print('s[:] = ', s[:], '  (all elements)')\n",
    "print('s[1:] = ', s[1:], '  (from this index (inclusive) till the last (inclusive))')\n",
    "print('s[2:4] = ', s[2:4], '  (from first index (inclusive) till second index (exclusive))')\n",
    "print('s[:2] = ', s[:2], '  (till this index, exclusive)')\n",
    "print('s[:10] = ', s[:10], '  (Python handles the index if it is larger than the string length)')\n",
    "print('s[-10:] = ', s[-10:])\n",
    "print('s[0:5:2] = ', s[0:5:2], '  (s[ini:end:step])')\n",
    "print('s[::2] = ', s[::2], '  (s[::step], initial and final indexes can be omitted)')\n",
    "print('s[0:5:-1] = ', s[::-1], '  (s[::-step] reverses the string)')\n",
    "print('s[:2] + s[2:] = ', s[:2] + s[2:], '  (because of Python indexing, this sounds natural)')"
   ]
  },
  {
   "cell_type": "markdown",
   "metadata": {},
   "source": [
    "### len()\n",
    "\n",
    "Python has a built-in functon to get the number of itens of a sequence:"
   ]
  },
  {
   "cell_type": "code",
   "execution_count": null,
   "metadata": {},
   "outputs": [],
   "source": [
    "help(len)"
   ]
  },
  {
   "cell_type": "code",
   "execution_count": null,
   "metadata": {},
   "outputs": [],
   "source": [
    "s = 'Python'\n",
    "len(s)"
   ]
  },
  {
   "cell_type": "markdown",
   "metadata": {},
   "source": [
    "The function len() helps to understand how the backward indexing works in Python.    \n",
    "The index s[-i] should be understood as s[len(s) - i] rather than accessing directly the i-th element from back to front. This is why the last element of a string is s[-1]:"
   ]
  },
  {
   "cell_type": "code",
   "execution_count": null,
   "metadata": {},
   "outputs": [],
   "source": [
    "print('s = ', s)\n",
    "print('len(s) = ', len(s))\n",
    "print('len(s)-1 = ',len(s) - 1)\n",
    "print('s[-1] = ', s[-1])\n",
    "print('s[len(s) - 1] = ', s[len(s) - 1])"
   ]
  },
  {
   "cell_type": "markdown",
   "metadata": {},
   "source": [
    "Or, strings can be surrounded in a pair of matching triple-quotes: \"\"\" or '''. End of lines do not need to be escaped when using triple-quotes, but they will be included in the string. This is how we created a multi-line comment earlier:"
   ]
  },
  {
   "cell_type": "code",
   "execution_count": null,
   "metadata": {},
   "outputs": [],
   "source": [
    "\"\"\"Strings can be surrounded in a pair of matching triple-quotes: \\\"\"\" or '''.\n",
    "\n",
    "End of lines do not need to be escaped when using triple-quotes,\n",
    "but they will be included in the string.\n",
    "\n",
    "\"\"\""
   ]
  },
  {
   "cell_type": "markdown",
   "metadata": {},
   "source": [
    "### Lists\n",
    "\n",
    "Values can be grouped together using different types, one of them is list, which can be written as a list of comma-separated values between square brackets. List items need not all have the same type:"
   ]
  },
  {
   "cell_type": "code",
   "execution_count": null,
   "metadata": {},
   "outputs": [],
   "source": [
    "x = ['spam', 'eggs', 100, 1234]\n",
    "x"
   ]
  },
  {
   "cell_type": "markdown",
   "metadata": {},
   "source": [
    "Lists can be indexed and the same indexing rules we saw for strings are applied:"
   ]
  },
  {
   "cell_type": "code",
   "execution_count": null,
   "metadata": {},
   "outputs": [],
   "source": [
    "x[0]"
   ]
  },
  {
   "cell_type": "markdown",
   "metadata": {},
   "source": [
    "The function len() works for lists:"
   ]
  },
  {
   "cell_type": "code",
   "execution_count": null,
   "metadata": {},
   "outputs": [],
   "source": [
    "len(x)"
   ]
  },
  {
   "cell_type": "markdown",
   "metadata": {},
   "source": [
    "### Tuples\n",
    "\n",
    "A tuple consists of a number of values separated by commas, for instance:"
   ]
  },
  {
   "cell_type": "code",
   "execution_count": null,
   "metadata": {},
   "outputs": [],
   "source": [
    "t = ('spam', 'eggs', 100, 1234)\n",
    "t"
   ]
  },
  {
   "cell_type": "markdown",
   "metadata": {},
   "source": [
    "The type tuple is why multiple assignments in a single line works; elements separated by commas (with or without surrounding parentheses) are a tuple and in an expression with an '=', the right-side tuple is attributed to the left-side tuple: "
   ]
  },
  {
   "cell_type": "code",
   "execution_count": null,
   "metadata": {},
   "outputs": [],
   "source": [
    "a, b = 1, 2\n",
    "print('a = ', a, '\\nb = ', b)"
   ]
  },
  {
   "cell_type": "markdown",
   "metadata": {},
   "source": [
    "Is the same as:"
   ]
  },
  {
   "cell_type": "code",
   "execution_count": null,
   "metadata": {},
   "outputs": [],
   "source": [
    "(a, b) = (1, 2)\n",
    "print('a = ', a, '\\nb = ', b)"
   ]
  },
  {
   "cell_type": "markdown",
   "metadata": {},
   "source": [
    "### Sets\n",
    "\n",
    "Python also includes a data type for sets. A set is an unordered collection with no duplicate elements."
   ]
  },
  {
   "cell_type": "code",
   "execution_count": null,
   "metadata": {},
   "outputs": [],
   "source": [
    "basket = ['apple', 'orange', 'apple', 'pear', 'orange', 'banana']\n",
    "fruit = set(basket)  # create a set without duplicates\n",
    "fruit"
   ]
  },
  {
   "cell_type": "markdown",
   "metadata": {},
   "source": [
    "As set is an unordered collection, it can not be indexed as lists and tuples."
   ]
  },
  {
   "cell_type": "code",
   "execution_count": null,
   "metadata": {},
   "outputs": [],
   "source": [
    "set(['orange', 'pear', 'apple', 'banana'])\n",
    "'orange' in fruit  # fast membership testing"
   ]
  },
  {
   "cell_type": "markdown",
   "metadata": {},
   "source": [
    "### Dictionaries\n",
    "\n",
    "Dictionary is a collection of elements organized keys and values. Unlike lists and tuples, which are indexed by a range of numbers, dictionaries are indexed by their keys:"
   ]
  },
  {
   "cell_type": "code",
   "execution_count": null,
   "metadata": {},
   "outputs": [],
   "source": [
    "tel = {'jack': 4098, 'sape': 4139}\n",
    "tel"
   ]
  },
  {
   "cell_type": "code",
   "execution_count": null,
   "metadata": {},
   "outputs": [],
   "source": [
    "tel['guido'] = 4127\n",
    "tel"
   ]
  },
  {
   "cell_type": "code",
   "execution_count": null,
   "metadata": {},
   "outputs": [],
   "source": [
    "tel['jack']"
   ]
  },
  {
   "cell_type": "code",
   "execution_count": null,
   "metadata": {},
   "outputs": [],
   "source": [
    "del tel['sape']\n",
    "tel['irv'] = 4127\n",
    "tel"
   ]
  },
  {
   "cell_type": "code",
   "execution_count": null,
   "metadata": {},
   "outputs": [],
   "source": [
    "tel.keys()"
   ]
  },
  {
   "cell_type": "code",
   "execution_count": null,
   "metadata": {},
   "outputs": [],
   "source": [
    "'guido' in tel"
   ]
  },
  {
   "cell_type": "markdown",
   "metadata": {},
   "source": [
    "The dict() constructor builds dictionaries directly from sequences of key-value pairs:"
   ]
  },
  {
   "cell_type": "code",
   "execution_count": null,
   "metadata": {},
   "outputs": [],
   "source": [
    "tel = dict([('sape', 4139), ('guido', 4127), ('jack', 4098)])\n",
    "tel"
   ]
  },
  {
   "cell_type": "markdown",
   "metadata": {},
   "source": [
    "## Built-in Constants\n",
    "\n",
    "- **False** : false value of the bool type\n",
    "- **True** : true value of the bool type\n",
    "- **None** : sole value of types.NoneType. None is frequently used to represent the absence of a value."
   ]
  },
  {
   "cell_type": "markdown",
   "metadata": {},
   "source": [
    "In computer science, the Boolean or logical data type is composed by two values, true and false, intended to represent the values of logic and Boolean algebra. In Python, 1 and 0 can also be used in most situations as equivalent to the Boolean values."
   ]
  },
  {
   "cell_type": "markdown",
   "metadata": {},
   "source": [
    "## Logical (Boolean) operators"
   ]
  },
  {
   "cell_type": "markdown",
   "metadata": {},
   "source": [
    "### and, or, not"
   ]
  },
  {
   "cell_type": "markdown",
   "metadata": {},
   "source": [
    "- **and** : logical AND operator. If both the operands are true then condition becomes true.\t (a and b) is true.\n",
    "- **or** : logical OR Operator. If any of the two operands are non zero then condition becomes true.\t (a or b) is true.\n",
    "- **not** : logical NOT Operator. Reverses the logical state of its operand. If a condition is true then logical NOT operator will make false."
   ]
  },
  {
   "cell_type": "markdown",
   "metadata": {},
   "source": [
    "### Comparisons\n",
    "\n",
    "The following comparison operations are supported by objects in Python:\n",
    "\n",
    "- **==** : equal\n",
    "- **!=** : not equal\n",
    "- **<**\t: strictly less than\n",
    "- **<=** : less than or equal\n",
    "- **\\>** : strictly greater than\n",
    "- **\\>=** : greater than or equal\n",
    "- **is** : object identity\n",
    "- **is not** : negated object identity"
   ]
  },
  {
   "cell_type": "code",
   "execution_count": null,
   "metadata": {},
   "outputs": [],
   "source": [
    "True == False"
   ]
  },
  {
   "cell_type": "code",
   "execution_count": null,
   "metadata": {},
   "outputs": [],
   "source": [
    "not True == False"
   ]
  },
  {
   "cell_type": "code",
   "execution_count": null,
   "metadata": {},
   "outputs": [],
   "source": [
    "1 < 2 > 1"
   ]
  },
  {
   "cell_type": "code",
   "execution_count": null,
   "metadata": {},
   "outputs": [],
   "source": [
    "True != (False or True)"
   ]
  },
  {
   "cell_type": "code",
   "execution_count": null,
   "metadata": {},
   "outputs": [],
   "source": [
    "True != False or True"
   ]
  },
  {
   "cell_type": "markdown",
   "metadata": {},
   "source": [
    "## Indentation and whitespace\n",
    "\n",
    "In Python, statement grouping is done by indentation (this is mandatory), which are done by inserting whitespaces, not tabs. Indentation is also recommended for alignment of function calling that span more than one line for better clarity.   \n",
    "We will see examples of indentation in the next session."
   ]
  },
  {
   "cell_type": "markdown",
   "metadata": {},
   "source": [
    "## Control of flow\n",
    "\n",
    "### `if`...`elif`...`else`\n",
    "\n",
    "Conditional statements (to peform something if another thing is True or False) can be implemmented using the `if` statement:\n",
    "```\n",
    "if expression:\n",
    "   statement\n",
    "elif:\n",
    "   statement     \n",
    "else:\n",
    "   statement\n",
    "```\n",
    "`elif` (one or more) and `else` are optionals.   \n",
    "The indentation is obligatory.   \n",
    "For example:"
   ]
  },
  {
   "cell_type": "code",
   "execution_count": null,
   "metadata": {},
   "outputs": [],
   "source": [
    "if True:\n",
    "    pass"
   ]
  },
  {
   "cell_type": "markdown",
   "metadata": {},
   "source": [
    "Which does nothing useful.   \n",
    "\n",
    "Let's use the `if`...`elif`...`else` statements to categorize the [body mass index](http://en.wikipedia.org/wiki/Body_mass_index) of a person:"
   ]
  },
  {
   "cell_type": "code",
   "execution_count": null,
   "metadata": {},
   "outputs": [],
   "source": [
    "# body mass index\n",
    "weight = 100  # kg\n",
    "height = 1.70  # m\n",
    "bmi = weight / height**2"
   ]
  },
  {
   "cell_type": "code",
   "execution_count": null,
   "metadata": {},
   "outputs": [],
   "source": [
    "if bmi < 15:\n",
    "    c = 'very severely underweight'\n",
    "elif 15 <= bmi < 16:\n",
    "    c = 'severely underweight'\n",
    "elif 16 <= bmi < 18.5:\n",
    "    c = 'underweight'\n",
    "elif 18.5 <= bmi < 25:\n",
    "    c = 'normal'\n",
    "elif 25 <= bmi < 30:\n",
    "    c = 'overweight'\n",
    "elif 30 <= bmi < 35:\n",
    "    c = 'moderately obese'\n",
    "elif 35 <= bmi < 40:\n",
    "    c = 'severely obese'\n",
    "else:\n",
    "    c = 'very severely obese'\n",
    "    \n",
    "print('For a weight of {0:.1f} kg and a height of {1:.2f} m,\\n\\\n",
    "the body mass index (bmi) is {2:.1f} kg/m2,\\nwhich is considered {3:s}.'\\\n",
    "      .format(weight, height, bmi, c))"
   ]
  },
  {
   "cell_type": "markdown",
   "metadata": {},
   "source": [
    "### for\n",
    "\n",
    "The `for` statement iterates over a sequence to perform operations (a loop event).\n",
    "```\n",
    "for iterating_var in sequence:\n",
    "    statements\n",
    "```"
   ]
  },
  {
   "cell_type": "code",
   "execution_count": null,
   "metadata": {},
   "outputs": [],
   "source": [
    "for i in [3, 2, 1, 'go!']:\n",
    "    print(i, end=', ')"
   ]
  },
  {
   "cell_type": "code",
   "execution_count": null,
   "metadata": {},
   "outputs": [],
   "source": [
    "for letter in 'Python':\n",
    "    print(letter),"
   ]
  },
  {
   "cell_type": "markdown",
   "metadata": {},
   "source": [
    "#### The `range()` function\n",
    "\n",
    "The built-in function range() is useful if we need to create a sequence of numbers, for example, to iterate over this list. It generates lists containing arithmetic progressions:"
   ]
  },
  {
   "cell_type": "code",
   "execution_count": null,
   "metadata": {},
   "outputs": [],
   "source": [
    "help(range)"
   ]
  },
  {
   "cell_type": "code",
   "execution_count": null,
   "metadata": {},
   "outputs": [],
   "source": [
    "range(10)"
   ]
  },
  {
   "cell_type": "code",
   "execution_count": null,
   "metadata": {},
   "outputs": [],
   "source": [
    "range(1, 10, 2)"
   ]
  },
  {
   "cell_type": "code",
   "execution_count": null,
   "metadata": {},
   "outputs": [],
   "source": [
    "for i in range(10):\n",
    "    n2 = i**2\n",
    "    print(n2),"
   ]
  },
  {
   "cell_type": "markdown",
   "metadata": {},
   "source": [
    "### while\n",
    "\n",
    "The `while` statement is used for repeating sections of code in a loop until a condition is met (this different than the `for` statement which executes n times):\n",
    "```\n",
    "while expression:\n",
    "    statement\n",
    "```\n",
    "Let's generate the Fibonacci series using a `while` loop:"
   ]
  },
  {
   "cell_type": "code",
   "execution_count": null,
   "metadata": {},
   "outputs": [],
   "source": [
    "# Fibonacci series: the sum of two elements defines the next\n",
    "a, b = 0, 1\n",
    "while b < 1000:\n",
    "    print(b, end='   ')\n",
    "    a, b = b, a+b"
   ]
  },
  {
   "cell_type": "markdown",
   "metadata": {},
   "source": [
    "## Function definition\n",
    "\n",
    "A function in a programming language is a piece of code that performs a specific task. Functions are used to reduce duplication of code making easier to reuse it and to decompose complex problems into simpler parts. The use of functions contribute to the clarity of the code.\n",
    "\n",
    "A function is created with the `def` keyword and the statements in the block of the function must be indented:"
   ]
  },
  {
   "cell_type": "code",
   "execution_count": null,
   "metadata": {},
   "outputs": [],
   "source": [
    "def function():\n",
    "    pass"
   ]
  },
  {
   "cell_type": "markdown",
   "metadata": {},
   "source": [
    "As per construction, this function does nothing when called:"
   ]
  },
  {
   "cell_type": "code",
   "execution_count": null,
   "metadata": {},
   "outputs": [],
   "source": [
    "function()"
   ]
  },
  {
   "cell_type": "markdown",
   "metadata": {},
   "source": [
    "The general syntax of a function definition is:\n",
    "```\n",
    "def function_name( parameters ):\n",
    "   \"\"\"Function docstring.\n",
    "\n",
    "   The help for the function\n",
    "\n",
    "   \"\"\"\n",
    "\n",
    "   function body\n",
    "\n",
    "   return variables\n",
    "```\n",
    "A more useful function:"
   ]
  },
  {
   "cell_type": "code",
   "execution_count": null,
   "metadata": {},
   "outputs": [],
   "source": [
    "def fibo(N):\n",
    "    \"\"\"Fibonacci series: the sum of two elements defines the next.\n",
    "    \n",
    "    The series is calculated till the input parameter N and\n",
    "    returned as an ouput variable.\n",
    "    \n",
    "    \"\"\"\n",
    "    \n",
    "    a, b, c = 0, 1, []\n",
    "    while b < N:\n",
    "        c.append(b)\n",
    "        a, b = b, a + b\n",
    "        \n",
    "    return c"
   ]
  },
  {
   "cell_type": "code",
   "execution_count": null,
   "metadata": {},
   "outputs": [],
   "source": [
    "fibo(100)"
   ]
  },
  {
   "cell_type": "code",
   "execution_count": null,
   "metadata": {},
   "outputs": [],
   "source": [
    "if 3 > 2:\n",
    "       print('teste')"
   ]
  },
  {
   "cell_type": "markdown",
   "metadata": {},
   "source": [
    "Let's implemment the body mass index calculus and categorization as a function:"
   ]
  },
  {
   "cell_type": "code",
   "execution_count": null,
   "metadata": {},
   "outputs": [],
   "source": [
    "def bmi(weight, height):\n",
    "    \"\"\"Body mass index calculus and categorization.\n",
    "    \n",
    "    Enter the weight in kg and the height in m.\n",
    "    See http://en.wikipedia.org/wiki/Body_mass_index\n",
    "    \n",
    "    \"\"\"\n",
    "    \n",
    "    bmi = weight / height**2\n",
    "    \n",
    "    if bmi < 15:\n",
    "     c = 'very severely underweight'\n",
    "    elif 15 <= bmi < 16:\n",
    "        c = 'severely underweight'\n",
    "    elif 16 <= bmi < 18.5:\n",
    "        c = 'underweight'\n",
    "    elif 18.5 <= bmi < 25:\n",
    "        c = 'normal'\n",
    "    elif 25 <= bmi < 30:\n",
    "      c = 'overweight'\n",
    "    elif 30 <= bmi < 35:\n",
    "        c = 'moderately obese'\n",
    "    elif 35 <= bmi < 40:\n",
    "        c = 'severely obese'\n",
    "    else:\n",
    "        c = 'very severely obese'\n",
    "     \n",
    "    s = 'For a weight of {0:.1f} kg and a height of {1:.2f} m,\\\n",
    "    the body mass index (bmi) is {2:.1f} kg/m2,\\\n",
    "    which is considered {3:s}.'\\\n",
    "    .format(weight, height, bmi, c)\n",
    "    \n",
    "    print(s)"
   ]
  },
  {
   "cell_type": "code",
   "execution_count": null,
   "metadata": {},
   "outputs": [],
   "source": [
    "bmi(73, 1.70)"
   ]
  },
  {
   "cell_type": "markdown",
   "metadata": {},
   "source": [
    "## Numeric data manipulation with Numpy\n",
    "\n",
    "Numpy is the fundamental package for scientific computing in Python and has a N-dimensional array package convenient to work with numerical data. With Numpy it's much easier and faster to work with numbers grouped as 1-D arrays (a vector), 2-D arrays (like a table or matrix), or higher dimensions. Let's create 1-D and 2-D arrays in Numpy:"
   ]
  },
  {
   "cell_type": "code",
   "execution_count": null,
   "metadata": {
    "run_control": {
     "breakpoint": false
    }
   },
   "outputs": [],
   "source": [
    "import numpy as np"
   ]
  },
  {
   "cell_type": "code",
   "execution_count": null,
   "metadata": {
    "run_control": {
     "breakpoint": false
    }
   },
   "outputs": [],
   "source": [
    "x1d = np.array([1, 2, 3, 4, 5, 6])\n",
    "print(type(x1d))\n",
    "x1d"
   ]
  },
  {
   "cell_type": "code",
   "execution_count": null,
   "metadata": {
    "run_control": {
     "breakpoint": false
    }
   },
   "outputs": [],
   "source": [
    "x2d = np.array([[1, 2, 3], [4, 5, 6]])\n",
    "x2d"
   ]
  },
  {
   "cell_type": "markdown",
   "metadata": {},
   "source": [
    "len() and the Numpy functions size() and shape() give information aboout the number of elements and the structure of the Numpy array:"
   ]
  },
  {
   "cell_type": "code",
   "execution_count": null,
   "metadata": {
    "run_control": {
     "breakpoint": false
    }
   },
   "outputs": [],
   "source": [
    "print('1-d array:')\n",
    "print(x1d)\n",
    "print('len(x1d) = ', len(x1d))\n",
    "print('np.size(x1d) = ', np.size(x1d))\n",
    "print('np.shape(x1d) = ', np.shape(x1d))\n",
    "print('np.ndim(x1d) = ', np.ndim(x1d))\n",
    "print('\\n2-d array:')\n",
    "print(x2d)\n",
    "print('len(x2d) = ', len(x2d))\n",
    "print('np.size(x2d) = ', np.size(x2d))\n",
    "print('np.shape(x2d) = ', np.shape(x2d))\n",
    "print('np.ndim(x2d) = ', np.ndim(x2d))"
   ]
  },
  {
   "cell_type": "markdown",
   "metadata": {},
   "source": [
    "Create random data"
   ]
  },
  {
   "cell_type": "code",
   "execution_count": null,
   "metadata": {
    "run_control": {
     "breakpoint": false
    }
   },
   "outputs": [],
   "source": [
    "x = np.random.randn(4,3)\n",
    "x"
   ]
  },
  {
   "cell_type": "markdown",
   "metadata": {},
   "source": [
    "Joining (stacking together) arrays"
   ]
  },
  {
   "cell_type": "code",
   "execution_count": null,
   "metadata": {
    "run_control": {
     "breakpoint": false
    }
   },
   "outputs": [],
   "source": [
    "x = np.random.randint(0, 5, size=(2, 3))\n",
    "print(x)\n",
    "y = np.random.randint(5, 10, size=(2, 3))\n",
    "print(y)"
   ]
  },
  {
   "cell_type": "code",
   "execution_count": null,
   "metadata": {
    "run_control": {
     "breakpoint": false
    }
   },
   "outputs": [],
   "source": [
    "np.vstack((x,y))"
   ]
  },
  {
   "cell_type": "code",
   "execution_count": null,
   "metadata": {
    "run_control": {
     "breakpoint": false
    }
   },
   "outputs": [],
   "source": [
    "np.hstack((x,y))"
   ]
  },
  {
   "cell_type": "markdown",
   "metadata": {},
   "source": [
    "Create equally spaced data"
   ]
  },
  {
   "cell_type": "code",
   "execution_count": null,
   "metadata": {
    "run_control": {
     "breakpoint": false
    }
   },
   "outputs": [],
   "source": [
    "np.arange(start = 1, stop = 10, step = 2)"
   ]
  },
  {
   "cell_type": "code",
   "execution_count": null,
   "metadata": {
    "run_control": {
     "breakpoint": false
    }
   },
   "outputs": [],
   "source": [
    "np.linspace(start = 0, stop = 1, num = 11)"
   ]
  },
  {
   "cell_type": "markdown",
   "metadata": {},
   "source": [
    "### Interpolation\n",
    "\n",
    "Consider the following data:"
   ]
  },
  {
   "cell_type": "code",
   "execution_count": null,
   "metadata": {
    "run_control": {
     "breakpoint": false
    }
   },
   "outputs": [],
   "source": [
    "y = [5,  4, 10,  8,  1, 10,  2,  7,  1,  3]"
   ]
  },
  {
   "cell_type": "markdown",
   "metadata": {},
   "source": [
    "Suppose we want to create data in between the given data points (interpolation); for instance, let's try to double the resolution of the data by generating twice as many data:"
   ]
  },
  {
   "cell_type": "code",
   "execution_count": null,
   "metadata": {
    "run_control": {
     "breakpoint": false
    }
   },
   "outputs": [],
   "source": [
    "t = np.linspace(0, len(y), len(y))       # time vector for the original data\n",
    "tn = np.linspace(0, len(y), 2 * len(y))  # new time vector for the new time-normalized data\n",
    "yn = np.interp(tn, t, y)                 # new time-normalized data\n",
    "yn"
   ]
  },
  {
   "cell_type": "markdown",
   "metadata": {},
   "source": [
    "The key is the Numpy `interp` function, from its help:   \n",
    "\n",
    "    interp(x, xp, fp, left=None, right=None)       \n",
    "    One-dimensional linear interpolation.   \n",
    "    Returns the one-dimensional piecewise linear interpolant to a function with given values at discrete data-points.\n",
    "\n",
    "A plot of the data will show what we have done:"
   ]
  },
  {
   "cell_type": "code",
   "execution_count": null,
   "metadata": {
    "run_control": {
     "breakpoint": false
    }
   },
   "outputs": [],
   "source": [
    "%matplotlib inline\n",
    "import matplotlib.pyplot as plt\n",
    "plt.figure(figsize=(10,5))\n",
    "plt.plot(t, y, 'bo-', lw=2, label='original data')\n",
    "plt.plot(tn, yn, '.-', color=[1, 0, 0, .5], lw=2, label='interpolated')\n",
    "plt.legend(loc='best', framealpha=.5)\n",
    "plt.show()"
   ]
  },
  {
   "cell_type": "markdown",
   "metadata": {},
   "source": [
    "For more about Numpy, see [http://www.numpy.org/](http://www.numpy.org/)."
   ]
  },
  {
   "cell_type": "markdown",
   "metadata": {},
   "source": [
    "## Read and save files\n",
    "\n",
    "There are two kinds of computer files: text files and binary files:\n",
    "> Text file: computer file where the content is structured as a sequence of lines of electronic text. Text files can contain plain text (letters, numbers, and symbols) but they are not limited to such. The type of content in the text file is defined by the Unicode encoding (a computing industry standard for the consistent encoding, representation and handling of text expressed in most of the world's writing systems).   \n",
    ">\n",
    "> Binary file: computer file where the content is encoded in binary form, a sequence of integers representing byte values.\n",
    "\n",
    "Let's see how to save and read numeric data stored in a text file:\n",
    "\n",
    "**Using plain Python**"
   ]
  },
  {
   "cell_type": "code",
   "execution_count": null,
   "metadata": {
    "run_control": {
     "breakpoint": false
    }
   },
   "outputs": [],
   "source": [
    "f = open(\"newfile.txt\", \"w\")           # open file for writing\n",
    "f.write(\"This is a test\\n\")            # save to file\n",
    "f.write(\"And here is another line\\n\")  # save to file\n",
    "f.close()\n",
    "f = open('newfile.txt', 'r')           # open file for reading\n",
    "f = f.read()                           # read from file\n",
    "print(f)"
   ]
  },
  {
   "cell_type": "code",
   "execution_count": null,
   "metadata": {
    "run_control": {
     "breakpoint": false
    }
   },
   "outputs": [],
   "source": [
    "help(open)"
   ]
  },
  {
   "cell_type": "markdown",
   "metadata": {},
   "source": [
    "**Using Numpy**"
   ]
  },
  {
   "cell_type": "code",
   "execution_count": null,
   "metadata": {
    "run_control": {
     "breakpoint": false
    }
   },
   "outputs": [],
   "source": [
    "import numpy as np\n",
    "data = np.random.randn(3,3)\n",
    "np.savetxt('myfile.txt', data, fmt=\"%12.6G\")    # save to file\n",
    "data = np.genfromtxt('myfile.txt', unpack=True) # read from file\n",
    "data"
   ]
  },
  {
   "cell_type": "markdown",
   "metadata": {},
   "source": [
    "## Ploting with matplotlib\n",
    "\n",
    "Matplotlib is the most-widely used packge for plotting data in Python. Let's see some examples of it."
   ]
  },
  {
   "cell_type": "code",
   "execution_count": null,
   "metadata": {
    "run_control": {
     "breakpoint": false
    }
   },
   "outputs": [],
   "source": [
    "import matplotlib.pyplot as plt"
   ]
  },
  {
   "cell_type": "markdown",
   "metadata": {},
   "source": [
    "Use the IPython magic `%matplotlib inline` to plot a figure inline in the notebook with the rest of the text:"
   ]
  },
  {
   "cell_type": "code",
   "execution_count": null,
   "metadata": {
    "run_control": {
     "breakpoint": false
    }
   },
   "outputs": [],
   "source": [
    "%matplotlib inline"
   ]
  },
  {
   "cell_type": "code",
   "execution_count": null,
   "metadata": {},
   "outputs": [],
   "source": [
    "import numpy as np"
   ]
  },
  {
   "cell_type": "code",
   "execution_count": null,
   "metadata": {
    "run_control": {
     "breakpoint": false
    }
   },
   "outputs": [],
   "source": [
    "t = np.linspace(0, 0.99, 100)\n",
    "x = np.sin(2 * np.pi * 2 * t) \n",
    "n = np.random.randn(100) / 5\n",
    "plt.Figure(figsize=(12,8))\n",
    "plt.plot(t, x, label='sine', linewidth=2)\n",
    "plt.plot(t, x + n, label='noisy sine', linewidth=2)\n",
    "plt.annotate(text='$sin(4 \\pi t)$', xy=(.2, 1), fontsize=20, color=[0, 0, 1])\n",
    "plt.legend(loc='best', framealpha=.5)\n",
    "plt.xlabel('Time [s]')\n",
    "plt.ylabel('Amplitude')\n",
    "plt.title('Data plotting using matplotlib')\n",
    "plt.show()"
   ]
  },
  {
   "cell_type": "markdown",
   "metadata": {},
   "source": [
    "Use the IPython magic `%matplotlib qt` to plot a figure in a separate window (from where you will be able to change some of the figure proprerties):"
   ]
  },
  {
   "cell_type": "code",
   "execution_count": null,
   "metadata": {
    "run_control": {
     "breakpoint": false
    }
   },
   "outputs": [],
   "source": [
    "%matplotlib qt"
   ]
  },
  {
   "cell_type": "code",
   "execution_count": null,
   "metadata": {
    "run_control": {
     "breakpoint": false
    }
   },
   "outputs": [],
   "source": [
    "mu, sigma = 10, 2\n",
    "x = mu + sigma * np.random.randn(1000)\n",
    "fig, (ax1, ax2) = plt.subplots(1, 2, figsize=(12, 4))\n",
    "ax1.plot(x, 'ro')\n",
    "ax1.set_title('Data')\n",
    "ax1.grid()\n",
    "\n",
    "n, bins, patches = ax2.hist(x, 25, density=True, facecolor='r') # histogram\n",
    "ax2.set_xlabel('Bins')\n",
    "ax2.set_ylabel('Probability')\n",
    "ax2.set_title('Histogram')\n",
    "fig.suptitle('Another example using matplotlib', fontsize=18, y=1)\n",
    "ax2.grid()\n",
    "\n",
    "plt.tight_layout()\n",
    "plt.show()"
   ]
  },
  {
   "cell_type": "markdown",
   "metadata": {},
   "source": [
    "And a window with the following figure should appear:"
   ]
  },
  {
   "cell_type": "code",
   "execution_count": null,
   "metadata": {
    "run_control": {
     "breakpoint": false
    }
   },
   "outputs": [],
   "source": [
    "from IPython.display import Image\n",
    "Image(url=\"./../images/plot.png\")"
   ]
  },
  {
   "cell_type": "markdown",
   "metadata": {},
   "source": [
    "You can switch back and forth between inline and separate figure using the `%matplotlib` magic commands used above. There are plenty more examples with the source code in the [matplotlib gallery](http://matplotlib.org/gallery.html)."
   ]
  },
  {
   "cell_type": "code",
   "execution_count": null,
   "metadata": {
    "run_control": {
     "breakpoint": false
    }
   },
   "outputs": [],
   "source": [
    "# get back the inline plot\n",
    "%matplotlib inline"
   ]
  },
  {
   "cell_type": "markdown",
   "metadata": {},
   "source": [
    "## Signal processing with Scipy\n",
    "\n",
    "The Scipy package has a lot of functions for signal processing, among them: Integration (scipy.integrate), Optimization (scipy.optimize), Interpolation (scipy.interpolate), Fourier Transforms (scipy.fftpack), Signal Processing (scipy.signal), Linear Algebra (scipy.linalg), and Statistics (scipy.stats). As an example, let's see how to use a low-pass Butterworth filter to attenuate high-frequency noise and how the differentiation process of a signal affects the signal-to-noise content. We will also calculate the Fourier transform of these data to look at their frequencies content."
   ]
  },
  {
   "cell_type": "code",
   "execution_count": null,
   "metadata": {
    "run_control": {
     "breakpoint": false
    }
   },
   "outputs": [],
   "source": [
    "from scipy.signal import butter, filtfilt\n",
    "import scipy.fftpack\n",
    "freq = 100.\n",
    "t = np.arange(0,1,.01);\n",
    "w = 2*np.pi*1 # 1 Hz\n",
    "y = np.sin(w*t)+0.1*np.sin(10*w*t)\n",
    "# Butterworth filter\n",
    "b, a = butter(4, (5/(freq/2)), btype = 'low')\n",
    "y2 = filtfilt(b, a, y)\n",
    "# 2nd derivative of the data\n",
    "ydd = np.diff(y,2)*freq*freq   # raw data\n",
    "y2dd = np.diff(y2,2)*freq*freq # filtered data\n",
    "# frequency content \n",
    "yfft = np.abs(scipy.fftpack.fft(y))/(y.size/2);   # raw data\n",
    "y2fft = np.abs(scipy.fftpack.fft(y2))/(y.size/2); # filtered data\n",
    "freqs = scipy.fftpack.fftfreq(y.size, 1./freq)\n",
    "yddfft = np.abs(scipy.fftpack.fft(ydd))/(ydd.size/2);\n",
    "y2ddfft = np.abs(scipy.fftpack.fft(y2dd))/(ydd.size/2);\n",
    "freqs2 = scipy.fftpack.fftfreq(ydd.size, 1./freq)"
   ]
  },
  {
   "cell_type": "markdown",
   "metadata": {},
   "source": [
    "And the plots:"
   ]
  },
  {
   "cell_type": "code",
   "execution_count": null,
   "metadata": {
    "run_control": {
     "breakpoint": false
    }
   },
   "outputs": [],
   "source": [
    "fig, ((ax1,ax2),(ax3,ax4)) = plt.subplots(2, 2, figsize=(12, 6))\n",
    "\n",
    "ax1.set_title('Temporal domain', fontsize=14)\n",
    "ax1.plot(t, y, 'r', linewidth=2, label = 'raw data')\n",
    "ax1.plot(t, y2, 'b', linewidth=2, label = 'filtered @ 5 Hz')\n",
    "ax1.set_ylabel('f')\n",
    "ax1.legend(frameon=False, fontsize=12)\n",
    "\n",
    "ax2.set_title('Frequency domain', fontsize=14)\n",
    "ax2.plot(freqs[:int(yfft.size/4)], yfft[:int(yfft.size/4)],'r',  lw=2,label='raw data')\n",
    "ax2.plot(freqs[:int(yfft.size/4)],y2fft[:int(yfft.size/4)],'b--',lw=2,label='filtered @ 5 Hz')\n",
    "ax2.set_ylabel('FFT(f)')\n",
    "ax2.legend(frameon=False, fontsize=12)\n",
    "\n",
    "ax3.plot(t[:-2], ydd, 'r', linewidth=2, label = 'raw')\n",
    "ax3.plot(t[:-2], y2dd, 'b', linewidth=2, label = 'filtered @ 5 Hz')\n",
    "ax3.set_xlabel('Time [s]'); ax3.set_ylabel(\"f ''\")\n",
    "\n",
    "ax4.plot(freqs[:int(yddfft.size/4)], yddfft[:int(yddfft.size/4)], 'r', lw=2, label = 'raw')\n",
    "ax4.plot(freqs[:int(yddfft.size/4)],y2ddfft[:int(yddfft.size/4)],'b--',lw=2, label='filtered @ 5 Hz')\n",
    "ax4.set_xlabel('Frequency [Hz]'); ax4.set_ylabel(\"FFT(f '')\")\n",
    "plt.show()"
   ]
  },
  {
   "cell_type": "markdown",
   "metadata": {},
   "source": [
    "For more about Scipy, see [https://docs.scipy.org/doc/scipy/reference/tutorial/](https://docs.scipy.org/doc/scipy/reference/tutorial/)."
   ]
  },
  {
   "cell_type": "markdown",
   "metadata": {},
   "source": [
    "## Symbolic mathematics with Sympy\n",
    "\n",
    "Sympy is a package to perform symbolic mathematics in Python. Let's see some of its features:"
   ]
  },
  {
   "cell_type": "code",
   "execution_count": null,
   "metadata": {
    "run_control": {
     "breakpoint": false
    }
   },
   "outputs": [],
   "source": [
    "from IPython.display import display\n",
    "import sympy as sym\n",
    "from sympy.interactive import printing\n",
    "printing.init_printing()"
   ]
  },
  {
   "cell_type": "markdown",
   "metadata": {},
   "source": [
    "Define some symbols and the create a second-order polynomial function (a.k.a., parabola):"
   ]
  },
  {
   "cell_type": "code",
   "execution_count": null,
   "metadata": {
    "run_control": {
     "breakpoint": false
    }
   },
   "outputs": [],
   "source": [
    "x, y = sym.symbols('x y')\n",
    "y = x**2 - 2*x - 3\n",
    "y"
   ]
  },
  {
   "cell_type": "markdown",
   "metadata": {},
   "source": [
    "Plot the parabola at some given range:"
   ]
  },
  {
   "cell_type": "code",
   "execution_count": null,
   "metadata": {
    "run_control": {
     "breakpoint": false
    }
   },
   "outputs": [],
   "source": [
    "from sympy.plotting import plot\n",
    "%matplotlib inline\n",
    "plot(y, (x, -3, 5));"
   ]
  },
  {
   "cell_type": "markdown",
   "metadata": {},
   "source": [
    "And the roots of the parabola are given by: "
   ]
  },
  {
   "cell_type": "code",
   "execution_count": null,
   "metadata": {
    "run_control": {
     "breakpoint": false
    }
   },
   "outputs": [],
   "source": [
    "sym.solve(y, x)"
   ]
  },
  {
   "cell_type": "markdown",
   "metadata": {},
   "source": [
    "We can also do symbolic differentiation and integration:"
   ]
  },
  {
   "cell_type": "code",
   "execution_count": null,
   "metadata": {
    "run_control": {
     "breakpoint": false
    }
   },
   "outputs": [],
   "source": [
    "dy = sym.diff(y, x)\n",
    "dy"
   ]
  },
  {
   "cell_type": "code",
   "execution_count": null,
   "metadata": {
    "run_control": {
     "breakpoint": false
    }
   },
   "outputs": [],
   "source": [
    "sym.integrate(dy, x)"
   ]
  },
  {
   "cell_type": "markdown",
   "metadata": {},
   "source": [
    "For example, let's use Sympy to represent three-dimensional rotations. Consider the problem of a coordinate system xyz rotated in relation to other coordinate system XYZ. The single rotations around each axis are illustrated by:"
   ]
  },
  {
   "cell_type": "code",
   "execution_count": null,
   "metadata": {
    "run_control": {
     "breakpoint": false
    }
   },
   "outputs": [],
   "source": [
    "from IPython.display import Image\n",
    "Image(url=\"./../images/rotations.png\")"
   ]
  },
  {
   "cell_type": "markdown",
   "metadata": {},
   "source": [
    "The single 3D rotation matrices around Z, Y, and X axes can be expressed in Sympy:"
   ]
  },
  {
   "cell_type": "code",
   "execution_count": null,
   "metadata": {
    "run_control": {
     "breakpoint": false
    }
   },
   "outputs": [],
   "source": [
    "from IPython.core.display import Math\n",
    "from sympy import symbols, cos, sin, Matrix, latex\n",
    "a, b, g = symbols('alpha beta gamma')\n",
    "\n",
    "RX = Matrix([[1, 0, 0], [0, cos(a), -sin(a)], [0, sin(a), cos(a)]])\n",
    "display(Math(r'\\mathbf{R_{X}}=' + latex(RX, mat_str = 'matrix')))\n",
    "\n",
    "RY = Matrix([[cos(b), 0, sin(b)], [0, 1, 0], [-sin(b), 0, cos(b)]])\n",
    "display(Math(r'\\mathbf{R_{Y}}=' + latex(RY, mat_str = 'matrix')))\n",
    "\n",
    "RZ = Matrix([[cos(g), -sin(g), 0], [sin(g), cos(g), 0], [0, 0, 1]])\n",
    "display(Math(r'\\mathbf{R_{Z}}=' + latex(RZ, mat_str = 'matrix')))"
   ]
  },
  {
   "cell_type": "markdown",
   "metadata": {},
   "source": [
    "And using Sympy, a sequence of elementary rotations around X, Y, Z axes is given by:"
   ]
  },
  {
   "cell_type": "code",
   "execution_count": null,
   "metadata": {
    "run_control": {
     "breakpoint": false
    }
   },
   "outputs": [],
   "source": [
    "RXYZ = RZ*RY*RX\n",
    "display(Math(r'\\mathbf{R_{XYZ}}=' + latex(RXYZ, mat_str = 'matrix')))"
   ]
  },
  {
   "cell_type": "markdown",
   "metadata": {},
   "source": [
    "Suppose there is a rotation only around X ($\\alpha$) by $\\pi/2$; we can get the numerical value of the rotation matrix by substituing the angle values:"
   ]
  },
  {
   "cell_type": "code",
   "execution_count": null,
   "metadata": {
    "run_control": {
     "breakpoint": false
    }
   },
   "outputs": [],
   "source": [
    "r = RXYZ.subs({a: np.pi/2, b: 0, g: 0})\n",
    "r"
   ]
  },
  {
   "cell_type": "markdown",
   "metadata": {},
   "source": [
    "And we can prettify this result:"
   ]
  },
  {
   "cell_type": "code",
   "execution_count": null,
   "metadata": {
    "run_control": {
     "breakpoint": false
    }
   },
   "outputs": [],
   "source": [
    "display(Math(r'\\mathbf{R_{(\\alpha=\\pi/2)}}=' + latex(r.n(3, chop=True), mat_str = 'matrix')))"
   ]
  },
  {
   "cell_type": "markdown",
   "metadata": {},
   "source": [
    "For more about Sympy, see [http://docs.sympy.org/latest/tutorial/](http://docs.sympy.org/latest/tutorial/)."
   ]
  },
  {
   "cell_type": "markdown",
   "metadata": {},
   "source": [
    "## Data analysis with pandas\n",
    "\n",
    "> \"[pandas](http://pandas.pydata.org/) is a Python package providing fast, flexible, and expressive data structures designed to make working with “relational” or “labeled” data both easy and intuitive. It aims to be the fundamental high-level building block for doing practical, real world data analysis in Python.\"\n",
    "\n",
    "To work with labellled data, pandas has a type called DataFrame (basically, a matrix where columns and rows have may names and may be of different types) and it is also the main type of the software [R](http://www.r-project.org/). Fo ezample:"
   ]
  },
  {
   "cell_type": "code",
   "execution_count": null,
   "metadata": {
    "run_control": {
     "breakpoint": false
    }
   },
   "outputs": [],
   "source": [
    "import pandas as pd"
   ]
  },
  {
   "cell_type": "code",
   "execution_count": null,
   "metadata": {
    "run_control": {
     "breakpoint": false
    }
   },
   "outputs": [],
   "source": [
    "x = 5*['A'] + 5*['B']\n",
    "x"
   ]
  },
  {
   "cell_type": "code",
   "execution_count": null,
   "metadata": {
    "run_control": {
     "breakpoint": false
    }
   },
   "outputs": [],
   "source": [
    "df = pd.DataFrame(np.random.rand(10,2), columns=['Level 1', 'Level 2'] )\n",
    "df['Group'] = pd.Series(['A']*5 + ['B']*5)\n",
    "plot = df.boxplot(by='Group')"
   ]
  },
  {
   "cell_type": "code",
   "execution_count": null,
   "metadata": {
    "run_control": {
     "breakpoint": false
    }
   },
   "outputs": [],
   "source": [
    "from pandas.plotting import scatter_matrix\n",
    "df = pd.DataFrame(np.random.randn(100, 3), columns=['A', 'B', 'C'])\n",
    "plot = scatter_matrix(df, alpha=0.5, figsize=(8, 6), diagonal='kde')"
   ]
  },
  {
   "cell_type": "markdown",
   "metadata": {},
   "source": [
    "pandas is aware the data is structured and give you basic statistics considerint that and nicely formatted:"
   ]
  },
  {
   "cell_type": "code",
   "execution_count": null,
   "metadata": {
    "run_control": {
     "breakpoint": false
    }
   },
   "outputs": [],
   "source": [
    "df.describe()"
   ]
  },
  {
   "cell_type": "markdown",
   "metadata": {},
   "source": [
    "For more on pandas, see this tutorial: [http://pandas.pydata.org/pandas-docs/stable/10min.html](http://pandas.pydata.org/pandas-docs/stable/10min.html)."
   ]
  },
  {
   "cell_type": "markdown",
   "metadata": {},
   "source": [
    "## More about Python\n",
    "\n",
    "There is a lot of good material in the internet about Python for scientific computing, here is a small list of interesting stuff:  \n",
    "\n",
    " - [How To Think Like A Computer Scientist](http://www.openbookproject.net/thinkcs/python/english2e/) or [the interactive edition](http://interactivepython.org/courselib/static/thinkcspy/index.html) (book)\n",
    " - [Python Scientific Lecture Notes](http://scipy-lectures.github.io/) (lecture notes)  \n",
    " - [A Whirlwind Tour of Python](https://github.com/jakevdp/WhirlwindTourOfPython) (tutorial/book) \n",
    " - [Python Data Science Handbook](https://jakevdp.github.io/PythonDataScienceHandbook/) (tutorial/book)    \n",
    " - [Lectures on scientific computing with Python](https://github.com/jrjohansson/scientific-python-lectures#lectures-on-scientific-computing-with-python) (lecture notes)  \n",
    " - [A gallery of interesting IPython Notebooks](https://github.com/jupyter/jupyter/wiki)"
   ]
  }
 ],
 "metadata": {
  "kernelspec": {
   "display_name": "Python 3 (ipykernel)",
   "language": "python",
   "name": "python3"
  },
  "language_info": {
   "codemirror_mode": {
    "name": "ipython",
    "version": 3
   },
   "file_extension": ".py",
   "mimetype": "text/x-python",
   "name": "python",
   "nbconvert_exporter": "python",
   "pygments_lexer": "ipython3",
   "version": "3.9.13"
  },
  "latex_envs": {
   "LaTeX_envs_menu_present": true,
   "autoclose": false,
   "autocomplete": true,
   "bibliofile": "biblio.bib",
   "cite_by": "apalike",
   "current_citInitial": 1,
   "eqLabelWithNumbers": true,
   "eqNumInitial": 1,
   "hotkeys": {
    "equation": "Ctrl-E",
    "itemize": "Ctrl-I"
   },
   "labels_anchors": false,
   "latex_user_defs": false,
   "report_style_numbering": false,
   "user_envs_cfg": false
  },
  "nbTranslate": {
   "displayLangs": [
    "*"
   ],
   "hotkey": "alt-t",
   "langInMainMenu": true,
   "sourceLang": "en",
   "targetLang": "fr",
   "useGoogleTranslate": true
  },
  "toc": {
   "base_numbering": 1,
   "nav_menu": {},
   "number_sections": true,
   "sideBar": true,
   "skip_h1_title": true,
   "title_cell": "Contents",
   "title_sidebar": "Contents",
   "toc_cell": true,
   "toc_position": {},
   "toc_section_display": true,
   "toc_window_display": false
  },
  "varInspector": {
   "cols": {
    "lenName": 16,
    "lenType": 16,
    "lenVar": 40
   },
   "kernels_config": {
    "python": {
     "delete_cmd_postfix": "",
     "delete_cmd_prefix": "del ",
     "library": "var_list.py",
     "varRefreshCmd": "print(var_dic_list())"
    },
    "r": {
     "delete_cmd_postfix": ") ",
     "delete_cmd_prefix": "rm(",
     "library": "var_list.r",
     "varRefreshCmd": "cat(var_dic_list()) "
    }
   },
   "types_to_exclude": [
    "module",
    "function",
    "builtin_function_or_method",
    "instance",
    "_Feature"
   ],
   "window_display": false
  },
  "widgets": {
   "application/vnd.jupyter.widget-state+json": {
    "state": {},
    "version_major": 2,
    "version_minor": 0
   }
  }
 },
 "nbformat": 4,
 "nbformat_minor": 4
}
