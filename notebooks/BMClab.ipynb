{
 "cells": [
  {
   "cell_type": "markdown",
   "metadata": {
    "nbpresent": {
     "id": "b939d778-a63f-4c3d-9bb5-a0c2368e8e50"
    },
    "slideshow": {
     "slide_type": "slide"
    },
    "urth": {
     "dashboard": {
      "hidden": true,
      "layout": {}
     }
    }
   },
   "source": [
    "# Laboratório de Biomecânica e Controle Motor\n",
    "**[BMClab](https://bmclab.pesquisa.ufabc.edu.br/)@[UFABC](https://www.ufabc.edu.br/): Why, How, What For?**\n",
    "\n",
    "<br>\n",
    "<div class='center-align'><figure><img src=\"https://bmclab.pesquisa.ufabc.edu.br//wp-content/uploads/2016/05/cropped-BMClab0.png\" alt=\"BMClab image header\"/></figure></div>"
   ]
  },
  {
   "cell_type": "code",
   "execution_count": 2,
   "metadata": {
    "ExecuteTime": {
     "end_time": "2018-04-16T22:45:02.183391Z",
     "start_time": "2018-04-16T22:45:02.179391Z"
    },
    "cell_style": "center",
    "nbpresent": {
     "id": "f34b8454-e464-41c6-b6ad-aed29e717387"
    },
    "slideshow": {
     "slide_type": "fragment"
    },
    "urth": {
     "dashboard": {
      "layout": {
       "col": 0,
       "height": 4,
       "row": 0,
       "width": 4
      }
     }
    }
   },
   "outputs": [
    {
     "name": "stdout",
     "output_type": "stream",
     "text": [
      "01:44 PM, Tuesday, September 20, 2022\n",
      "Marcos Duarte, https://bmclab.pesquisa.ufabc.edu.br/\n"
     ]
    }
   ],
   "source": [
    "from datetime import datetime\n",
    "print(datetime.now().strftime(\"%I:%M %p, %A, %B %d, %Y\"))\n",
    "print('Marcos Duarte, https://bmclab.pesquisa.ufabc.edu.br/')"
   ]
  },
  {
   "cell_type": "markdown",
   "metadata": {
    "slideshow": {
     "slide_type": "slide"
    },
    "toc": true
   },
   "source": [
    "<h1>Contents<span class=\"tocSkip\"></span></h1>\n",
    "<div class=\"toc\"><ul class=\"toc-item\"><li><span><a href=\"#Stuff-in-this-talk\" data-toc-modified-id=\"Stuff-in-this-talk-1\"><span class=\"toc-item-num\">1&nbsp;&nbsp;</span>Stuff in this talk</a></span></li><li><span><a href=\"#BMClab-website\" data-toc-modified-id=\"BMClab-website-2\"><span class=\"toc-item-num\">2&nbsp;&nbsp;</span><a href=\"https://bmclab.pesquisa.ufabc.edu.br/\" rel=\"nofollow\" target=\"_blank\">BMClab</a> website</a></span></li><li><span><a href=\"#Why-the-BMClab\" data-toc-modified-id=\"Why-the-BMClab-3\"><span class=\"toc-item-num\">3&nbsp;&nbsp;</span>Why the <a href=\"https://bmclab.pesquisa.ufabc.edu.br/\" rel=\"nofollow\" target=\"_blank\">BMClab</a></a></span></li><li><span><a href=\"#BMClab-lines-of-research\" data-toc-modified-id=\"BMClab-lines-of-research-4\"><span class=\"toc-item-num\">4&nbsp;&nbsp;</span><a href=\"https://bmclab.pesquisa.ufabc.edu.br/\" rel=\"nofollow\" target=\"_blank\">BMClab</a> lines of research</a></span></li><li><span><a href=\"#BMClab-financial-support\" data-toc-modified-id=\"BMClab-financial-support-5\"><span class=\"toc-item-num\">5&nbsp;&nbsp;</span><a href=\"https://bmclab.pesquisa.ufabc.edu.br/\" rel=\"nofollow\" target=\"_blank\">BMClab</a> financial support</a></span><ul class=\"toc-item\"><li><span><a href=\"#BMClab-financial-support-(II)\" data-toc-modified-id=\"BMClab-financial-support-(II)-5.1\"><span class=\"toc-item-num\">5.1&nbsp;&nbsp;</span><a href=\"https://bmclab.pesquisa.ufabc.edu.br/\" rel=\"nofollow\" target=\"_blank\">BMClab</a> financial support (II)</a></span></li></ul></li><li><span><a href=\"#BMClab-infrastructure\" data-toc-modified-id=\"BMClab-infrastructure-6\"><span class=\"toc-item-num\">6&nbsp;&nbsp;</span><a href=\"https://bmclab.pesquisa.ufabc.edu.br/\" rel=\"nofollow\" target=\"_blank\">BMClab</a> infrastructure</a></span><ul class=\"toc-item\"><li><span><a href=\"#BMClab-equipment\" data-toc-modified-id=\"BMClab-equipment-6.1\"><span class=\"toc-item-num\">6.1&nbsp;&nbsp;</span><a href=\"https://bmclab.pesquisa.ufabc.edu.br/\" rel=\"nofollow\" target=\"_blank\">BMClab</a> equipment</a></span></li></ul></li><li><span><a href=\"#BMClab-services\" data-toc-modified-id=\"BMClab-services-7\"><span class=\"toc-item-num\">7&nbsp;&nbsp;</span><a href=\"https://bmclab.pesquisa.ufabc.edu.br/\" rel=\"nofollow\" target=\"_blank\">BMClab</a> services</a></span></li><li><span><a href=\"#Open-data-science\" data-toc-modified-id=\"Open-data-science-8\"><span class=\"toc-item-num\">8&nbsp;&nbsp;</span>Open data science</a></span><ul class=\"toc-item\"><li><span><a href=\"#Open-education\" data-toc-modified-id=\"Open-education-8.1\"><span class=\"toc-item-num\">8.1&nbsp;&nbsp;</span>Open education</a></span></li></ul></li><li><span><a href=\"#Literate-programming-and-literate-computing\" data-toc-modified-id=\"Literate-programming-and-literate-computing-9\"><span class=\"toc-item-num\">9&nbsp;&nbsp;</span>Literate programming and literate computing</a></span><ul class=\"toc-item\"><li><span><a href=\"#Literate-computing-with-Jupyter-Notebook\" data-toc-modified-id=\"Literate-computing-with-Jupyter-Notebook-9.1\"><span class=\"toc-item-num\">9.1&nbsp;&nbsp;</span>Literate computing with <a href=\"http://jupyter.org/\" rel=\"nofollow\" target=\"_blank\">Jupyter Notebook</a></a></span></li></ul></li><li><span><a href=\"#Questions?\" data-toc-modified-id=\"Questions?-10\"><span class=\"toc-item-num\">10&nbsp;&nbsp;</span>Questions?</a></span></li><li><span><a href=\"#About-these-slides\" data-toc-modified-id=\"About-these-slides-11\"><span class=\"toc-item-num\">11&nbsp;&nbsp;</span>About these slides</a></span></li></ul></div>"
   ]
  },
  {
   "cell_type": "markdown",
   "metadata": {
    "nbpresent": {
     "id": "a1123914-0098-4f4e-a058-0f60c30a4ec4"
    },
    "slideshow": {
     "slide_type": "slide"
    },
    "urth": {
     "dashboard": {
      "layout": {
       "col": 0,
       "height": 6,
       "row": 4,
       "width": 12
      }
     }
    }
   },
   "source": [
    "## Stuff in this talk\n",
    "\n",
    "- [BMClab](http://demotu.org): why and how\n",
    "- [BMClab](http://demotu.org) infrastructure, current and future activities \n",
    "- Open data science and education  \n",
    "- Literate programming & Literate computing\n",
    "- Advocacy for Python (the programming language)"
   ]
  },
  {
   "cell_type": "markdown",
   "metadata": {
    "ExecuteTime": {
     "end_time": "2018-04-16T22:45:04.260557Z",
     "start_time": "2018-04-16T22:45:04.252552Z"
    },
    "nbpresent": {
     "id": "2cc4e37c-dfa0-4239-a62b-5517692c56b9"
    },
    "slideshow": {
     "slide_type": "slide"
    },
    "urth": {
     "dashboard": {
      "layout": {
       "col": 0,
       "height": 21,
       "row": 10,
       "width": 4
      }
     }
    }
   },
   "source": [
    "## [BMClab](https://bmclab.pesquisa.ufabc.edu.br/) website\n",
    "\n",
    "[Laboratory of Biomechanics and Motor Control](https://bmclab.pesquisa.ufabc.edu.br)"
   ]
  },
  {
   "cell_type": "markdown",
   "metadata": {
    "nbpresent": {
     "id": "0cbd523b-0ecc-48e6-b915-61c32b32246f"
    },
    "slideshow": {
     "slide_type": "slide"
    },
    "urth": {
     "dashboard": {
      "layout": {
       "col": 0,
       "height": 7,
       "row": 31,
       "width": 12
      }
     }
    }
   },
   "source": [
    "## Why the [BMClab](https://bmclab.pesquisa.ufabc.edu.br/)\n",
    "\n",
    "**[Biomedical engineering](https://en.wikipedia.org/wiki/Biomedical_engineering)**: the application of engineering principles and design concepts to medicine and biology for healthcare *and well-being* purposes.\n",
    "\n",
    "**[Neuroscience of human movement](https://en.wikipedia.org/wiki/Neuroscience)**: the scientific study of the nervous system bases of controlling movement.\n",
    "\n",
    "**[Biomechanics](https://en.wikipedia.org/wiki/Biomechanics) and [Motor Control](https://en.wikipedia.org/wiki/Motor_control)**: the study of the structure and function of biological systems using the knowledge and methods of the Mechanics and the study of how the biological systems control their movements.\n",
    "\n",
    "**[BMClab](http://demotu.org)**: In a broad sense, we are interested in knowing how living beings control and execute their movements. We also work to improve the quality of life in society by offering evaluation services in our laboratory and in the dissemination of scientific knowledge."
   ]
  },
  {
   "cell_type": "markdown",
   "metadata": {
    "nbpresent": {
     "id": "217e5f45-bda6-4948-8c2a-a8ecfce99bb9"
    },
    "slideshow": {
     "slide_type": "slide"
    },
    "urth": {
     "dashboard": {
      "layout": {
       "col": 0,
       "height": 6,
       "row": 38,
       "width": 12
      }
     }
    }
   },
   "source": [
    "## [BMClab](https://bmclab.pesquisa.ufabc.edu.br/) lines of research\n",
    "\n",
    "- Postural control in humans  \n",
    "- Clinical gait analysis  \n",
    "- Biomechanics of long distance running  \n",
    "- Modeling and simulation of the neuromusculoskeletal system\n",
    "- ..."
   ]
  },
  {
   "cell_type": "markdown",
   "metadata": {
    "nbpresent": {
     "id": "c64b1ddf-0a73-4c83-8527-576417da242f"
    },
    "slideshow": {
     "slide_type": "slide"
    },
    "urth": {
     "dashboard": {
      "layout": {
       "col": 0,
       "height": 6,
       "row": 44,
       "width": 12
      }
     }
    }
   },
   "source": [
    "## [BMClab](https://bmclab.pesquisa.ufabc.edu.br/) financial support\n",
    "\n",
    "The [BMClab](https://bmclab.pesquisa.ufabc.edu.br/) was made possible by the financial support from UFABC and from Brazilian research agencies, nominally:  \n",
    "- Project \"Controle do equilíbrio e movimento em adultos jovens e idosos sedentários e corredores\" (FAPESP).  \n",
    "- Project \"Postura e envelhecimento: criação de base de dados pública de sinais de oscilação e simulação computacional de mecanismos de controle\" (FAPESP)."
   ]
  },
  {
   "cell_type": "markdown",
   "metadata": {
    "nbpresent": {
     "id": "7aceb8ec-4232-4e57-8cf2-10d31c898f65"
    },
    "slideshow": {
     "slide_type": "slide"
    },
    "urth": {
     "dashboard": {
      "layout": {
       "col": 0,
       "height": 8,
       "row": 50,
       "width": 12
      }
     }
    }
   },
   "source": [
    "### [BMClab](https://bmclab.pesquisa.ufabc.edu.br/) financial support (II)\n",
    "\n",
    "The [BMClab](https://bmclab.pesquisa.ufabc.edu.br/) was made possible by the financial support from UFABC and from Brazilian research agencies, nominally:  \n",
    "- Project \"Estudo do equilíbrio de pessoas com deficiências e idosos: uma base de dados aberta\" (CNPq).  \n",
    "- Project \"Desenvolvimento de simulador de cadeira de rodas e de serviço de avaliação do movimento e postura para deficientes físicos com próteses/órteses e usuários de cadeira de rodas\" (MCTI-SECIS/CNPq).  \n",
    "- Project \"Análise de atletas corredores: estudo multicêntrico para compreensão do movimento com implicação para prevenção de lesão e melhora do rendimento\" (ME/CNPq).  "
   ]
  },
  {
   "cell_type": "markdown",
   "metadata": {
    "nbpresent": {
     "id": "a4bc4fb9-42b0-4fa6-b5c3-14f4c7b34831"
    },
    "slideshow": {
     "slide_type": "slide"
    },
    "urth": {
     "dashboard": {
      "layout": {
       "col": 4,
       "height": 7,
       "row": 10,
       "width": null
      }
     }
    }
   },
   "source": [
    "## [BMClab](https://bmclab.pesquisa.ufabc.edu.br/) infrastructure\n",
    "\n",
    "180-m$^2$ laboratory organized in spaces for:  \n",
    "- Data collection with motion capture system, force plates, etc.   \n",
    "- Data analysis with several computers  \n",
    "- Subject preparation and evaluation  \n",
    "- Machine and electronics assembly"
   ]
  },
  {
   "cell_type": "markdown",
   "metadata": {
    "nbpresent": {
     "id": "45213ee3-cb7c-4574-9425-beb4ffec8a8a"
    },
    "slideshow": {
     "slide_type": "slide"
    },
    "urth": {
     "dashboard": {
      "layout": {
       "col": 0,
       "height": 26,
       "row": 58,
       "width": 12
      }
     }
    }
   },
   "source": [
    "<div class='center-align'><figure><img src=\"https://bmclab.pesquisa.ufabc.edu.br/wp-content/uploads/2016/01/BMClab4.png\" alt=\"BMClab lab\"/></figure></div>"
   ]
  },
  {
   "cell_type": "markdown",
   "metadata": {
    "nbpresent": {
     "id": "21d7855d-792b-4bd7-9365-61f456186b0e"
    },
    "slideshow": {
     "slide_type": "slide"
    },
    "urth": {
     "dashboard": {
      "layout": {
       "col": 0,
       "height": 9,
       "row": 84,
       "width": 12
      }
     }
    }
   },
   "source": [
    "### [BMClab](https://bmclab.pesquisa.ufabc.edu.br/) equipment\n",
    "\n",
    "- 12-camera Motion capture system  \n",
    "- Six-component instrumented dual-belt treadmill  \n",
    "- Six-component force plates  \n",
    "- Pressure distribution transducers  \n",
    "- Tri-axial accelerometers  \n",
    "- Wheelchair six-component transducers  \n",
    "- Six-component torque transducer  \n",
    "- 10-channel wireless electromyography system  \n",
    "- ..."
   ]
  },
  {
   "cell_type": "code",
   "execution_count": 3,
   "metadata": {
    "ExecuteTime": {
     "end_time": "2018-04-16T22:45:20.331960Z",
     "start_time": "2018-04-16T22:45:18.775431Z"
    },
    "nbpresent": {
     "id": "9496bc91-1c35-4722-88d1-f279a91a46c4"
    },
    "slideshow": {
     "slide_type": "slide"
    },
    "urth": {
     "dashboard": {
      "layout": {
       "col": 0,
       "height": 17,
       "row": 93,
       "width": 9
      }
     }
    }
   },
   "outputs": [
    {
     "data": {
      "image/jpeg": "[encoded data removed]",
      "text/html": [
       "\n",
       "        <iframe\n",
       "            width=\"800\"\n",
       "            height=\"480\"\n",
       "            src=\"https://www.youtube.com/embed/1ZwYlaqvCSw?rel=0\"\n",
       "            frameborder=\"0\"\n",
       "            allowfullscreen\n",
       "            \n",
       "        ></iframe>\n",
       "        "
      ],
      "text/plain": [
       "<IPython.lib.display.YouTubeVideo at 0x7fe73425a4f0>"
      ]
     },
     "execution_count": 3,
     "metadata": {},
     "output_type": "execute_result"
    }
   ],
   "source": [
    "from IPython.display import YouTubeVideo\n",
    "YouTubeVideo('1ZwYlaqvCSw', width=800, height=480, rel=0)"
   ]
  },
  {
   "cell_type": "code",
   "execution_count": 4,
   "metadata": {
    "ExecuteTime": {
     "end_time": "2018-04-16T22:45:30.374714Z",
     "start_time": "2018-04-16T22:45:29.257523Z"
    },
    "slideshow": {
     "slide_type": "slide"
    }
   },
   "outputs": [
    {
     "data": {
      "image/jpeg": "[encoded data removed]",
      "text/html": [
       "\n",
       "        <iframe\n",
       "            width=\"800\"\n",
       "            height=\"480\"\n",
       "            src=\"https://www.youtube.com/embed/tp_rP9C0ysY?rel=0\"\n",
       "            frameborder=\"0\"\n",
       "            allowfullscreen\n",
       "            \n",
       "        ></iframe>\n",
       "        "
      ],
      "text/plain": [
       "<IPython.lib.display.YouTubeVideo at 0x7fe7341ac1f0>"
      ]
     },
     "execution_count": 4,
     "metadata": {},
     "output_type": "execute_result"
    }
   ],
   "source": [
    "from IPython.display import YouTubeVideo\n",
    "YouTubeVideo('tp_rP9C0ysY', width=800, height=480, rel=0)"
   ]
  },
  {
   "cell_type": "markdown",
   "metadata": {
    "nbpresent": {
     "id": "65e7f85e-289f-4ed1-b23b-3919db13bfd4"
    },
    "slideshow": {
     "slide_type": "slide"
    },
    "urth": {
     "dashboard": {
      "layout": {
       "col": 0,
       "height": 8,
       "row": 110,
       "width": 12
      }
     }
    }
   },
   "source": [
    "## [BMClab](https://bmclab.pesquisa.ufabc.edu.br/) services\n",
    "\n",
    "The [BMClab](https://bmclab.pesquisa.ufabc.edu.br/) (will) offer services for:\n",
    "\n",
    "- Clinical gait analysis  \n",
    "- Running biomechanics assessment  \n",
    "- Wheelchair propulsion assessment  \n",
    "- General motion capture  \n",
    "- ..."
   ]
  },
  {
   "cell_type": "code",
   "execution_count": 5,
   "metadata": {
    "ExecuteTime": {
     "end_time": "2018-04-16T22:46:28.188960Z",
     "start_time": "2018-04-16T22:46:27.232756Z"
    },
    "nbpresent": {
     "id": "96e9ec4a-de32-4db9-a847-a9656124e87f"
    },
    "slideshow": {
     "slide_type": "slide"
    },
    "urth": {
     "dashboard": {
      "layout": {
       "col": 0,
       "height": 22,
       "row": 118,
       "width": 9
      }
     }
    }
   },
   "outputs": [
    {
     "data": {
      "image/jpeg": "[encoded data removed]",
      "text/html": [
       "\n",
       "        <iframe\n",
       "            width=\"800\"\n",
       "            height=\"480\"\n",
       "            src=\"https://www.youtube.com/embed/5ZKMVWkOyZA?rel=0\"\n",
       "            frameborder=\"0\"\n",
       "            allowfullscreen\n",
       "            \n",
       "        ></iframe>\n",
       "        "
      ],
      "text/plain": [
       "<IPython.lib.display.YouTubeVideo at 0x7fe7341aa2b0>"
      ]
     },
     "execution_count": 5,
     "metadata": {},
     "output_type": "execute_result"
    }
   ],
   "source": [
    "from IPython.display import YouTubeVideo\n",
    "YouTubeVideo('5ZKMVWkOyZA', width=800, height=480, rel=0)"
   ]
  },
  {
   "cell_type": "markdown",
   "metadata": {
    "nbpresent": {
     "id": "d2228b4a-2c23-451b-b128-e353bd9d7c64"
    },
    "slideshow": {
     "slide_type": "slide"
    },
    "urth": {
     "dashboard": {
      "layout": {
       "col": 0,
       "height": 7,
       "row": 140,
       "width": 12
      }
     }
    }
   },
   "source": [
    "## Open data science\n",
    "\n",
    "> Open science data is a type of open data focused on publishing observations and results of scientific activities available for anyone to analyze and reuse. [[wikipedia.org](https://en.wikipedia.org/wiki/Open_science_data)]\n",
    "\n",
    "**The [BMClab](https://bmclab.pesquisa.ufabc.edu.br/) is committed to open science data.**  \n",
    "**[Access our data here](https://bmclab.pesquisa.ufabc.edu.br/datasets/).**"
   ]
  },
  {
   "cell_type": "markdown",
   "metadata": {
    "nbpresent": {
     "id": "adb04f3a-f8af-43fe-87e6-3f0c76eb4eb4"
    },
    "slideshow": {
     "slide_type": "slide"
    },
    "urth": {
     "dashboard": {
      "layout": {
       "col": 0,
       "height": 7,
       "row": 147,
       "width": 12
      }
     }
    }
   },
   "source": [
    "### Open education\n",
    "\n",
    "> Open education is a collective term to describe institutional practices and programmatic initiatives that broaden access to the learning and training traditionally offered through formal education systems. [[wikipedia.org](https://en.wikipedia.org/wiki/Open_education)]\n",
    "\n",
    "**The [BMClab](https://bmclab.pesquisa.ufabc.edu.br/) is committed to open education.**  \n",
    "**[Access our GitHub repository here](https://github.com/demotu/BMC).**"
   ]
  },
  {
   "cell_type": "markdown",
   "metadata": {
    "nbpresent": {
     "id": "54c30a3e-be3b-4935-a561-48ded4c2fd36"
    },
    "slideshow": {
     "slide_type": "slide"
    },
    "urth": {
     "dashboard": {
      "layout": {
       "col": 0,
       "height": 8,
       "row": 154,
       "width": 12
      }
     }
    }
   },
   "source": [
    "## Literate programming and literate computing\n",
    "\n",
    "> Literate programming: Instead of imagining that our main task is to instruct a computer what to do, let us concentrate rather on explaining to human beings what we want a computer to do. [[Donald Knuth (1984)](http://www.literateprogramming.com/knuthweb.pdf)]  \n",
    "\n",
    "\n",
    "> Literate computing: A literate computing environment is one that allows users not only to execute commands **interactively** but also to store in a literate document format the results of these commands along with figures and free-form text that can include formatted mathematical expressions. [[Millman KJ and Perez F (2014)](https://osf.io/h9gsd/?action=download&version=1)]"
   ]
  },
  {
   "cell_type": "markdown",
   "metadata": {
    "nbpresent": {
     "id": "350013a7-5873-4ceb-b956-cb1313b94b24"
    },
    "slideshow": {
     "slide_type": "slide"
    },
    "urth": {
     "dashboard": {
      "layout": {
       "col": 0,
       "height": 6,
       "row": 162,
       "width": 12
      }
     }
    }
   },
   "source": [
    "### Literate computing with [Jupyter Notebook](http://jupyter.org/)\n",
    "\n",
    "> The Jupyter Notebook is a web application that allows you to create and share documents that contain live code, equations, visualizations and explanatory text. [[jupyter.org](http://jupyter.org/)]\n",
    "\n",
    "See examples in [A gallery of interesting IPython Notebooks](https://github.com/jupyter/jupyter/wiki)"
   ]
  },
  {
   "cell_type": "markdown",
   "metadata": {
    "nbpresent": {
     "id": "047118f9-96d6-4ad3-8a6c-7eb2940d5daf"
    },
    "slideshow": {
     "slide_type": "slide"
    },
    "urth": {
     "dashboard": {
      "layout": {
       "col": 0,
       "height": 7,
       "row": 175,
       "width": 12
      }
     }
    }
   },
   "source": [
    "## Questions?\n",
    "\n",
    "> [https://bmclab.pesquisa.ufabc.edu.br/)  \n",
    "> E-mail: bmc.ufabc@gmail.com   \n",
    "> Tel.: +55 11 2320-6435   \n",
    "> [Location Map](https://www.google.com.br/maps/place/Federal+University+of+ABC+-+UFABC/@-23.6803572,-46.5647898,14z/data=!4m2!3m1!1s0x0:0xf1a53d9732f7a8c6)"
   ]
  },
  {
   "cell_type": "markdown",
   "metadata": {
    "nbpresent": {
     "id": "5c704362-c2b8-425a-b153-a66533454d1f"
    },
    "slideshow": {
     "slide_type": "slide"
    },
    "urth": {
     "dashboard": {
      "layout": {
       "col": 0,
       "height": 7,
       "row": 182,
       "width": 12
      }
     }
    }
   },
   "source": [
    "## About these slides\n",
    "\n",
    "**This document (the webpage version or the slides version) is a *notebook* written using the [Jupyter Notebook](http://jupyter.org/).**\n",
    "\n",
    "> The Jupyter Notebook is a web application that allows you to create and share documents that contain live code, equations, visualizations and explanatory text. [[jupyter.org](http://jupyter.org/)]"
   ]
  }
 ],
 "metadata": {
  "anaconda-cloud": {},
  "celltoolbar": "Slideshow",
  "hide_input": false,
  "kernelspec": {
   "display_name": "Python 3 (ipykernel)",
   "language": "python",
   "name": "python3"
  },
  "language_info": {
   "codemirror_mode": {
    "name": "ipython",
    "version": 3
   },
   "file_extension": ".py",
   "mimetype": "text/x-python",
   "name": "python",
   "nbconvert_exporter": "python",
   "pygments_lexer": "ipython3",
   "version": "3.9.13"
  },
  "toc": {
   "base_numbering": 1,
   "nav_menu": {},
   "number_sections": true,
   "sideBar": true,
   "skip_h1_title": true,
   "title_cell": "Contents",
   "title_sidebar": "Contents",
   "toc_cell": true,
   "toc_position": {},
   "toc_section_display": true,
   "toc_window_display": false
  },
  "urth": {
   "dashboard": {
    "cellMargin": 10,
    "defaultCellHeight": 20,
    "layout": "grid",
    "maxColumns": 12
   }
  },
  "varInspector": {
   "cols": {
    "lenName": 16,
    "lenType": 16,
    "lenVar": 40
   },
   "kernels_config": {
    "python": {
     "delete_cmd_postfix": "",
     "delete_cmd_prefix": "del ",
     "library": "var_list.py",
     "varRefreshCmd": "print(var_dic_list())"
    },
    "r": {
     "delete_cmd_postfix": ") ",
     "delete_cmd_prefix": "rm(",
     "library": "var_list.r",
     "varRefreshCmd": "cat(var_dic_list()) "
    }
   },
   "types_to_exclude": [
    "module",
    "function",
    "builtin_function_or_method",
    "instance",
    "_Feature"
   ],
   "window_display": false
  }
 },
 "nbformat": 4,
 "nbformat_minor": 1
}
