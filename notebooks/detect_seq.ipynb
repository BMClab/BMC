{
 "cells": [
  {
   "cell_type": "markdown",
   "metadata": {},
   "source": [
    "# detect_seq.py\n",
    "\n",
    "A function from [detecta](https://pypi.org/project/detecta/) - Python module to detect events in data."
   ]
  },
  {
   "cell_type": "markdown",
   "metadata": {},
   "source": [
    "The function `detect_seq.py` detects initial and final indices of sequential data identical to parameter `value` in `x`.  \n",
    "Use parameter `min_seq` to set the minimum number of sequential values to detect.\n",
    "\n",
    "The signature of `detect_seq.py` is:\n",
    "```python\n",
    "idx = detect_seq(x, value=np.nan, index=False, min_seq=1, max_alert=0, show=False, ax=None)\n",
    "```"
   ]
  },
  {
   "cell_type": "code",
   "execution_count": 1,
   "metadata": {},
   "outputs": [],
   "source": [
    "from detecta import detect_seq"
   ]
  },
  {
   "cell_type": "code",
   "execution_count": 2,
   "metadata": {},
   "outputs": [],
   "source": [
    "import numpy as np\n",
    "%matplotlib inline"
   ]
  },
  {
   "cell_type": "code",
   "execution_count": 3,
   "metadata": {},
   "outputs": [
    {
     "name": "stdout",
     "output_type": "stream",
     "text": [
      "Help on function detect_seq in module detecta.detect_seq:\n",
      "\n",
      "detect_seq(x, value=nan, index=False, min_seq=1, max_alert=0, show=False, ax=None)\n",
      "    Detect indices in x of sequential data identical to value.\n",
      "    \n",
      "    Parameters\n",
      "    ----------\n",
      "    x : 1D numpy array_like\n",
      "        data\n",
      "    value : number or 1D numpy array_like, optional. Default = np.nan\n",
      "        Value(s) to be found in data.\n",
      "    index : bool, optional. Default = False\n",
      "        Set to True to return a 2D array of initial and final indices where\n",
      "        data is equal to value(s) or set to False to return an 1D array of\n",
      "        Boolean values with same length as x with True where x is equal to\n",
      "        value(s) and False where x is not equal to value(s).\n",
      "    min_seq : integer, optional. Default = 1\n",
      "        Minimum number of sequential values to detect        \n",
      "    max_alert : number, optional. Default = 0\n",
      "        Minimal number of sequential data for a message to be printed with\n",
      "        information about these indices. Set to 0 to not print any message.\n",
      "    show : bool, optional. Default = False\n",
      "        Show plot (True) of not (False).\n",
      "    ax : matplotlib object, optional. Default = None\n",
      "        Matplotlib axis object where to plot.\n",
      "        \n",
      "    Returns\n",
      "    -------\n",
      "    idx : 1D or 2D numpy array_like\n",
      "        2D numpy array [indi, indf] of initial and final indices (if index is\n",
      "        equal to True) or 1D array of Boolean values with same length as x (if\n",
      "        index is equal to False).\n",
      "            \n",
      "    References\n",
      "    ----------\n",
      "    .. [1] http://nbviewer.jupyter.org/github/demotu/BMC/blob/master/notebooks/detect_seq.ipynb\n",
      "    \n",
      "    Examples\n",
      "    --------\n",
      "    >>> x = [1, 0, 0, 0, 1, 1, 1, 0, 1, 0, 0, 0]\n",
      "    >>> detect_seq(x, 0)\n",
      "    \n",
      "    >>> detect_seq(x, 0, index=True)\n",
      "    \n",
      "    >>> detect_seq(x, 0, index=True, min_seq=2)  \n",
      "    \n",
      "    >>> detect_seq(x, 10)\n",
      "    \n",
      "    >>> detect_seq(x, 10, index=True)\n",
      "    \n",
      "    >>> detect_seq(x, 0, index=True, min_seq=2, show=True)\n",
      "    \n",
      "    >>> detect_seq(x, 0, index=True, max_alert=2)\n",
      "\n"
     ]
    }
   ],
   "source": [
    "help(detect_seq)"
   ]
  },
  {
   "cell_type": "code",
   "execution_count": 4,
   "metadata": {},
   "outputs": [],
   "source": [
    "x = [1, 0, 0, 0, 1, 1, 1, 0, 1, 0, 0, 0]"
   ]
  },
  {
   "cell_type": "code",
   "execution_count": 5,
   "metadata": {},
   "outputs": [
    {
     "data": {
      "text/plain": [
       "array([False,  True,  True,  True, False, False, False,  True, False,\n",
       "        True,  True,  True])"
      ]
     },
     "execution_count": 5,
     "metadata": {},
     "output_type": "execute_result"
    }
   ],
   "source": [
    "detect_seq(x, 0)"
   ]
  },
  {
   "cell_type": "code",
   "execution_count": 6,
   "metadata": {},
   "outputs": [
    {
     "data": {
      "text/plain": [
       "array([[ 1,  3],\n",
       "       [ 7,  7],\n",
       "       [ 9, 11]])"
      ]
     },
     "execution_count": 6,
     "metadata": {},
     "output_type": "execute_result"
    }
   ],
   "source": [
    "detect_seq(x, 0, index=True)"
   ]
  },
  {
   "cell_type": "code",
   "execution_count": 7,
   "metadata": {},
   "outputs": [
    {
     "data": {
      "text/plain": [
       "array([[ 1,  3],\n",
       "       [ 9, 11]])"
      ]
     },
     "execution_count": 7,
     "metadata": {},
     "output_type": "execute_result"
    }
   ],
   "source": [
    "detect_seq(x, 0, index=True, min_seq=2)"
   ]
  },
  {
   "cell_type": "code",
   "execution_count": 8,
   "metadata": {},
   "outputs": [
    {
     "data": {
      "text/plain": [
       "array([False, False, False, False, False, False, False, False, False,\n",
       "       False, False, False])"
      ]
     },
     "execution_count": 8,
     "metadata": {},
     "output_type": "execute_result"
    }
   ],
   "source": [
    "detect_seq(x, 10)"
   ]
  },
  {
   "cell_type": "code",
   "execution_count": 9,
   "metadata": {},
   "outputs": [
    {
     "data": {
      "text/plain": [
       "array([], shape=(0, 2), dtype=int64)"
      ]
     },
     "execution_count": 9,
     "metadata": {},
     "output_type": "execute_result"
    }
   ],
   "source": [
    "detect_seq(x, 10, index=True)"
   ]
  },
  {
   "cell_type": "code",
   "execution_count": 10,
   "metadata": {},
   "outputs": [
    {
     "data": {
      "image/png": "[encoded data removed]",
      "text/plain": [
       "<Figure size 576x288 with 1 Axes>"
      ]
     },
     "metadata": {
      "needs_background": "light"
     },
     "output_type": "display_data"
    },
    {
     "data": {
      "text/plain": [
       "array([[4, 6]])"
      ]
     },
     "execution_count": 10,
     "metadata": {},
     "output_type": "execute_result"
    }
   ],
   "source": [
    "detect_seq(x, 1, index=True, min_seq=2, show=True)"
   ]
  },
  {
   "cell_type": "code",
   "execution_count": 11,
   "metadata": {},
   "outputs": [
    {
     "data": {
      "image/png": "[encoded data removed]",
      "text/plain": [
       "<Figure size 576x288 with 1 Axes>"
      ]
     },
     "metadata": {
      "needs_background": "light"
     },
     "output_type": "display_data"
    },
    {
     "data": {
      "text/plain": [
       "array([ True, False, False, False,  True,  True,  True, False,  True,\n",
       "       False, False, False])"
      ]
     },
     "execution_count": 11,
     "metadata": {},
     "output_type": "execute_result"
    }
   ],
   "source": [
    "detect_seq(x, 1, index=False, min_seq=1, show=True)"
   ]
  },
  {
   "cell_type": "code",
   "execution_count": 12,
   "metadata": {},
   "outputs": [
    {
     "data": {
      "image/png": "[encoded data removed]",
      "text/plain": [
       "<Figure size 576x288 with 1 Axes>"
      ]
     },
     "metadata": {
      "needs_background": "light"
     },
     "output_type": "display_data"
    },
    {
     "data": {
      "text/plain": [
       "array([[ 1,  3],\n",
       "       [ 9, 11]])"
      ]
     },
     "execution_count": 12,
     "metadata": {},
     "output_type": "execute_result"
    }
   ],
   "source": [
    "detect_seq(x, 0, index=True, min_seq=2, show=True)"
   ]
  },
  {
   "cell_type": "code",
   "execution_count": 13,
   "metadata": {},
   "outputs": [
    {
     "name": "stdout",
     "output_type": "stream",
     "text": [
      "Sequential data equal or longer than 2: ([2], [1 3])\n",
      "Sequential data equal or longer than 2: ([2], [ 9 11])\n"
     ]
    },
    {
     "data": {
      "text/plain": [
       "array([[ 1,  3],\n",
       "       [ 7,  7],\n",
       "       [ 9, 11]])"
      ]
     },
     "execution_count": 13,
     "metadata": {},
     "output_type": "execute_result"
    }
   ],
   "source": [
    "detect_seq(x, 0, index=True, max_alert=2)"
   ]
  },
  {
   "cell_type": "code",
   "execution_count": 14,
   "metadata": {},
   "outputs": [
    {
     "data": {
      "image/png": "[encoded data removed]",
      "text/plain": [
       "<Figure size 576x288 with 1 Axes>"
      ]
     },
     "metadata": {
      "needs_background": "light"
     },
     "output_type": "display_data"
    },
    {
     "data": {
      "text/plain": [
       "array([[2, 3],\n",
       "       [5, 5],\n",
       "       [7, 7]])"
      ]
     },
     "execution_count": 14,
     "metadata": {},
     "output_type": "execute_result"
    }
   ],
   "source": [
    "x = [1, 2, np.nan, np.nan, 5, 4, 5, np.nan, 2, 1, 2]\n",
    "detect_seq(x, [np.nan, 4], index=True, max_alert=2, show=True)"
   ]
  },
  {
   "cell_type": "code",
   "execution_count": null,
   "metadata": {},
   "outputs": [],
   "source": []
  }
 ],
 "metadata": {
  "hide_input": false,
  "kernelspec": {
   "display_name": "Python 3",
   "language": "python",
   "name": "python3"
  },
  "language_info": {
   "codemirror_mode": {
    "name": "ipython",
    "version": 3
   },
   "file_extension": ".py",
   "mimetype": "text/x-python",
   "name": "python",
   "nbconvert_exporter": "python",
   "pygments_lexer": "ipython3",
   "version": "3.7.7"
  },
  "varInspector": {
   "cols": {
    "lenName": 16,
    "lenType": 16,
    "lenVar": 40
   },
   "kernels_config": {
    "python": {
     "delete_cmd_postfix": "",
     "delete_cmd_prefix": "del ",
     "library": "var_list.py",
     "varRefreshCmd": "print(var_dic_list())"
    },
    "r": {
     "delete_cmd_postfix": ") ",
     "delete_cmd_prefix": "rm(",
     "library": "var_list.r",
     "varRefreshCmd": "cat(var_dic_list()) "
    }
   },
   "types_to_exclude": [
    "module",
    "function",
    "builtin_function_or_method",
    "instance",
    "_Feature"
   ],
   "window_display": false
  }
 },
 "nbformat": 4,
 "nbformat_minor": 4
}
