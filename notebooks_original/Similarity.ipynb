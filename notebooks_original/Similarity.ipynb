{
 "cells": [
  {
   "cell_type": "markdown",
   "metadata": {},
   "source": [
    "> # Select data vectors by similarity using a metric score\n",
    "\n",
    "> Marcos Duarte  \n",
    "> [Laboratory of Biomechanics and Motor Control](https://bmclab.pesquisa.ufabc.edu.br/)  \n",
    "> Federal University of ABC, Brazil"
   ]
  },
  {
   "cell_type": "code",
   "execution_count": 1,
   "metadata": {
    "ExecuteTime": {
     "end_time": "2019-11-20T20:19:47.223181Z",
     "start_time": "2019-11-20T20:19:47.054140Z"
    },
    "editable": true,
    "slideshow": {
     "slide_type": ""
    },
    "tags": []
   },
   "outputs": [
    {
     "name": "stdout",
     "output_type": "stream",
     "text": [
      "Last updated: 2023-08-08 20:35:01\n",
      "\n",
      "Python implementation: CPython\n",
      "Python version       : 3.11.4\n",
      "IPython version      : 8.14.0\n",
      "\n",
      "Compiler    : GCC 12.2.0\n",
      "OS          : Linux\n",
      "Release     : 6.2.0-26-generic\n",
      "Machine     : x86_64\n",
      "Processor   : x86_64\n",
      "CPU cores   : 16\n",
      "Architecture: 64bit\n",
      "\n",
      "sys       : 3.11.4 | packaged by conda-forge | (main, Jun 10 2023, 18:08:17) [GCC 12.2.0]\n",
      "matplotlib: 3.7.2\n",
      "numpy     : 1.25.2\n",
      "\n"
     ]
    }
   ],
   "source": [
    "import numpy as np\n",
    "import matplotlib.pyplot as plt\n",
    "import sys\n",
    "sys.path.insert(1, r'./../functions')\n",
    "from simila import similarity, mse\n",
    "\n",
    "%load_ext autoreload\n",
    "%autoreload 2\n",
    "\n",
    "%load_ext line_profiler\n",
    "%load_ext watermark\n",
    "%watermark -u -t -d -m -v --iversions\n",
    "\n",
    "np.set_printoptions(precision=3)"
   ]
  },
  {
   "cell_type": "code",
   "execution_count": 2,
   "metadata": {},
   "outputs": [
    {
     "name": "stdout",
     "output_type": "stream",
     "text": [
      "Help on function similarity in module simila:\n",
      "\n",
      "similarity(y: numpy.ndarray, axis1: int = 0, axis2: int = 1, threshold: float = 0, nmin: int = 3, repeat: bool = True, metric: Callable = <function mse at 0x7fbda7d5a3e0>, drop=True, msg: bool = True, **kwargs: Callable) -> tuple[numpy.ndarray, numpy.ndarray, numpy.ndarray, numpy.ndarray]\n",
      "    Select vectors in array by their similarity using a metric score.\n",
      "    \n",
      "    For example, if `y` is a 2-D numpy.ndarray, with shape (n, m), `axis1`=0\n",
      "    (n is the number of rows) and `axis2`=1 (m is the number of columns), this\n",
      "    function will select the vectors along the columns, that are more similar\n",
      "    to a `central` statistics of `y` or to a `target`, using a `metric` score.\n",
      "    The metric score can be calculated repeatedly until all selected vectors\n",
      "    have a `metric` score not greater than a `threshold`, but the minimum\n",
      "    number of vectors to keep or the maximum number of vectors to discard\n",
      "    can be specified with parameter `nmin`.\n",
      "    \n",
      "    The default `metric` and target are the mean squared error (`mse`) of `y`\n",
      "    w.r.t. the median of `y` along `axis2`. The `mse` metric is equivalent\n",
      "    to the squared Euclidean distance and it is prefered because it\n",
      "    penalizes largest differences more than the Euclidian distance. But any\n",
      "    other `metric` that can be calculated with a function can be used.\n",
      "    \n",
      "    A possible use of this function is to discard the time-series data from bad\n",
      "    trials (treated as outliers) stored in a 2-D array (each trial as a column\n",
      "    and instants as rows) where the criterion is the similarity of the trial\n",
      "    w.r.t. the median trial (the median statistics is more robust to remove\n",
      "    outliers than the mean in case there are very bad trials). After the bad\n",
      "    trials are discarded, the mean of all trials could then be calculated more\n",
      "    reliablly.\n",
      "    \n",
      "    Parameters\n",
      "    ----------\n",
      "    y : numpy.ndarray\n",
      "        Array for the calculation of similarity (defined by a `metric`) of its\n",
      "        vectors w.r.t. a `target` or a `central` statistics of `y`.\n",
      "    axis1 : integer, optional, default = 0\n",
      "        Axis of `y` for which the `metric` will be calculated at each value and\n",
      "        possibly averaged in the `metric` calculation.\n",
      "    axis2 : integer, optional, default = 1\n",
      "        Axis of `y` along which the different vectors are going to be compared\n",
      "        with the `threshold` for their similarity (using their `metric` score).\n",
      "    threshold : float, optional, default = 0\n",
      "        If greater than 0, vector with `metric` score above this value will be\n",
      "        discarded. If 0, threshold will be automatically calculated as the\n",
      "        minimum of [qs[2] + 1.5*(qs[2]-qs[0]), score[-2], 3], where qs are the\n",
      "        quantiles and score[-2] is the before-last largest score of `metric`\n",
      "        among vectors calculated at the first time, not updated by the `repeat`\n",
      "        option.\n",
      "    nmin : integer, optional, default = 3\n",
      "        If greater than 0, minumum number of vectors to keep.\n",
      "        If lower than 0, maximum number of vectors to discard.\n",
      "    repeat : bool, optional, default = True\n",
      "        Whether to calculate similarity `metric` repeatedly, updating the\n",
      "        score calculation each time a vector is discarded.\n",
      "        With `repeat` True, the output `scores` will contain at each row\n",
      "        the updated score values for the used `metric` for each data vector.\n",
      "        The first row will contain the calculated original scores before any\n",
      "        vector was discarded. On the next equent rows, the vectors discarded\n",
      "        are represented by NaN values and the kept vectors by their updated\n",
      "        scores.\n",
      "        The last row will contain the updated scores of the final vectors kept.\n",
      "        With the `repeat` False, the comparison of score values with\n",
      "        `threshold` are made only once and vectors are discarded accordingly at\n",
      "        once. In this case, the output `scores` will contain only two rows, the\n",
      "        first row will contain the calculated original scores before any\n",
      "        vectors were discarded. At the second row, the vectors discarded are\n",
      "        represented with NaN values and the kept vectors by their updated\n",
      "        scores.\n",
      "    metric : optional, default=mse\n",
      "        Function to use as metric to compute similarity.\n",
      "    drop : bool, optional, default = True\n",
      "        Whether to drop (delete) the discarded vectors from `y` in the output.\n",
      "        If False, the values of the vectors discarded will be replaced by nans\n",
      "        and the returned array will have the same dimensions as the original\n",
      "        array.\n",
      "    msg : bool, optional, default = True\n",
      "        Whether to print some messages.\n",
      "    kwargs : optional\n",
      "        Options for the metric function (e.g., see `mse` function).\n",
      "    \n",
      "    Returns\n",
      "    -------\n",
      "    y : numpy.ndarray\n",
      "        Array similar to input `y` but with vectors discarded (deleted) if\n",
      "        option `drop` is True or with all values of vectors discarded replaced\n",
      "        by nans if option `drop` is False.\n",
      "    ikept : numpy.ndarray\n",
      "        Indexes of kept vectors.\n",
      "    inotkept : numpy.ndarray\n",
      "        Indexes of not kept (discarded or replaced by nan) vectors.\n",
      "    scores : 2-D numpy.ndarray\n",
      "        Metric score values of each vector (as columns) for each round of\n",
      "        vector selection (one row per round plus the final values).\n",
      "    \n",
      "    References\n",
      "    ----------\n",
      "    .. [1] https://nbviewer.org/github/BMClab/BMC/blob/master/notebooks/Similarity.ipynb\n",
      "    \n",
      "    Examples\n",
      "    --------\n",
      "    >>> import matplotlib.pyplot as plt\n",
      "    >>> rng = np.random.default_rng()\n",
      "    >>> t, n = 100, 10\n",
      "    >>> y = rng.random((t, n)) / 2\n",
      "    >>> y = y + np.atleast_2d(2*np.sin(2*np.pi*np.linspace(0, 1, t))).T\n",
      "    >>> for i in range(0, n, 2):\n",
      "    >>>    j = rng.integers(t-20)\n",
      "    >>>    p = rng.integers(20)\n",
      "    >>>    y[j:j+p, i] = y[j:j+p, i] + rng.integers(10) - 5\n",
      "    >>>    y[:, i] += rng.integers(4) - 2\n",
      "    >>> ysr, ikeptr, inotkeptr, scoresr = similarity(y)\n",
      "    >>> ysn, ikeptn, inotkeptn, scoresn = similarity(y, repeat=False)\n",
      "    >>> fig, axs = plt.subplots(3, 1, sharex=True, figsize=(8, 8))\n",
      "    >>> axs[0].plot(y, label=list(range(n)))\n",
      "    >>> axs[0].legend(loc=(1.01, 0), ncol=2)\n",
      "    >>> axs[0].set_title(f'Original vectors (n={n})')\n",
      "    >>> axs[1].plot(ysr, label= ikeptr.tolist())\n",
      "    >>> axs[1].set_title(f'Vectors maintained with repeat selection (n={len(ikeptr)})')\n",
      "    >>> axs[1].legend(loc=(1.01, 0))\n",
      "    >>> axs[2].plot(ysn, label= ikeptn.tolist())\n",
      "    >>> axs[2].set_title(f'Vectors maintained without repeat selection (n={len(ikeptn)})')\n",
      "    >>> axs[2].legend(loc=(1.01, 0))\n",
      "    >>> plt.show()\n",
      "    \n",
      "    Version history\n",
      "    ---------------\n",
      "    '1.0.0':\n",
      "        First release version\n",
      "\n"
     ]
    }
   ],
   "source": [
    "help(similarity)"
   ]
  },
  {
   "cell_type": "code",
   "execution_count": 3,
   "metadata": {},
   "outputs": [
    {
     "name": "stdout",
     "output_type": "stream",
     "text": [
      "Help on function mse in module simila:\n",
      "\n",
      "mse(y: numpy.ndarray, target: numpy.ndarray | None = None, axis1: int = 0, axis2: int = 1, central: Callable = <function nanmedian at 0x7fbe32f73570>, normalization: Callable = <function nanmedian at 0x7fbe32f73570>) -> numpy.ndarray\n",
      "    Mean Squared Error of `y` w.r.t. `target` or `central` along `axis2` at `axis1`.\n",
      "    \n",
      "    Parameters\n",
      "    ----------\n",
      "    y : numpy.ndarray\n",
      "        At least a 2-D numpy.ndarray of data for the calculation of mean squared\n",
      "        error w.r.t. a `target` or a `central` statistics of the data.\n",
      "    target : 1-D numpy.ndarray of length `axis1`, optional, default = None\n",
      "        Reference value to calculate the mean squared error of `y` w.r.t. this\n",
      "        vector. If it is None, the mse value will be calculated w.r.t. a `central`\n",
      "        calculated along `axis2` of `y`.\n",
      "    axis1 : integer, optional, default = 0\n",
      "        Axis of `y` for which the mse will be calculated at each value.\n",
      "    axis2 : integer, optional, default = 1\n",
      "        Axis of `y` along which the `central` statistics might be calculated or\n",
      "        along which the target will be subtracted.\n",
      "    central : Python function, optional, default = np.nanmedian\n",
      "        Function to calculate statistics on `y` w.r.t. mse is computed.\n",
      "    normalization : Python function, optional, default = np.nanmedian\n",
      "        Function to normalize the calculated mse values\n",
      "    \n",
      "    Returns\n",
      "    -------\n",
      "    score : numpy.ndarray\n",
      "        Mean Squared Error values\n",
      "    \n",
      "    References\n",
      "    ----------\n",
      "    .. [1] https://nbviewer.org/github/BMClab/BMC/blob/master/notebooks/Similarity.ipynb\n",
      "    \n",
      "    Examples\n",
      "    --------\n",
      "    >>> import numpy as np\n",
      "    >>> rng = np.random.default_rng()\n",
      "    >>> y = rng.random((100, 10))\n",
      "    >>> y = y + np.atleast_2d(np.sin(2*np.pi*np.linspace(0, 1, 100))).T\n",
      "    >>> mse(y, axis1=0, axis2=1, central=np.nanmedian, normalization=np.nanmedian)\n",
      "    \n",
      "    Version history\n",
      "    ---------------\n",
      "    '1.0.0':\n",
      "        First release version\n",
      "\n"
     ]
    }
   ],
   "source": [
    "help(mse)"
   ]
  },
  {
   "cell_type": "markdown",
   "metadata": {
    "editable": true,
    "slideshow": {
     "slide_type": ""
    },
    "tags": []
   },
   "source": [
    "### Example"
   ]
  },
  {
   "cell_type": "code",
   "execution_count": 4,
   "metadata": {
    "editable": true,
    "slideshow": {
     "slide_type": ""
    },
    "tags": []
   },
   "outputs": [
    {
     "name": "stdout",
     "output_type": "stream",
     "text": [
      "Calculated threshold: 3.0\n",
      "Vectors discarded (dimension 1, n=5): [6 0 2 4 8]\n",
      "Calculated threshold: 3.0\n",
      "Vectors discarded (dimension 1, n=3): [6 0 2]\n"
     ]
    },
    {
     "data": {
      "image/png": "[encoded data removed]",
      "text/plain": [
       "<Figure size 700x700 with 3 Axes>"
      ]
     },
     "metadata": {},
     "output_type": "display_data"
    }
   ],
   "source": [
    ">>> import matplotlib.pyplot as plt\n",
    ">>> rng = np.random.default_rng()\n",
    ">>> t, n = 100, 10\n",
    ">>> y = rng.random((t, n)) / 2\n",
    ">>> y +=  np.atleast_2d(2*np.sin(2*np.pi*np.linspace(0, 1, t))).T\n",
    ">>> for i in range(0, n, 2):\n",
    ">>>    j = rng.integers(t-20)\n",
    ">>>    p = rng.integers(20)\n",
    ">>>    y[j:j+p, i] = y[j:j+p, i] + rng.integers(10) - 5\n",
    ">>>    y[:, i] += rng.integers(4) - 2\n",
    ">>> ysr, ikeptr, inotkeptr, scoresr = similarity(y)\n",
    ">>> ysn, ikeptn, inotkeptn, scoresn = similarity(y, repeat=False)\n",
    ">>> fig, axs = plt.subplots(3, 1, sharex=True, figsize=(7, 7))\n",
    ">>> axs[0].plot(y, label=list(range(n)))\n",
    ">>> axs[0].legend(loc=(1.01, 0), ncol=2)\n",
    ">>> axs[0].set_title(f'Original vectors (n={n})')\n",
    ">>> axs[1].plot(ysr, label= ikeptr.tolist())\n",
    ">>> axs[1].set_title(f'Vectors maintained with repeat selection (n={len(ikeptr)})')\n",
    ">>> axs[1].legend(loc=(1.01, 0))\n",
    ">>> axs[2].plot(ysn, label= ikeptn.tolist())\n",
    ">>> axs[2].set_title(f'Vectors maintained without repeat selection (n={len(ikeptn)})')\n",
    ">>> axs[2].legend(loc=(1.01, 0))\n",
    ">>> plt.show()"
   ]
  },
  {
   "cell_type": "code",
   "execution_count": 5,
   "metadata": {},
   "outputs": [
    {
     "name": "stdout",
     "output_type": "stream",
     "text": [
      "Calculated threshold: 3.0\n",
      "Vectors discarded (dimension 1, n=5): [6 0 2 4 8]\n"
     ]
    }
   ],
   "source": [
    "ys, ikept, inotkept, scores = similarity(y, threshold=0, nmin=3, repeat=True, metric=mse,\n",
    "                                         msg=1, central=np.nanmedian, normalization=np.nanmedian)"
   ]
  },
  {
   "cell_type": "code",
   "execution_count": 6,
   "metadata": {},
   "outputs": [
    {
     "data": {
      "text/plain": [
       "(100, 5)"
      ]
     },
     "execution_count": 6,
     "metadata": {},
     "output_type": "execute_result"
    }
   ],
   "source": [
    "ys.shape"
   ]
  },
  {
   "cell_type": "code",
   "execution_count": 7,
   "metadata": {},
   "outputs": [
    {
     "data": {
      "text/plain": [
       "array([1, 3, 5, 7, 9])"
      ]
     },
     "execution_count": 7,
     "metadata": {},
     "output_type": "execute_result"
    }
   ],
   "source": [
    "ikept"
   ]
  },
  {
   "cell_type": "code",
   "execution_count": 8,
   "metadata": {},
   "outputs": [
    {
     "data": {
      "text/plain": [
       "array([6, 0, 2, 4, 8])"
      ]
     },
     "execution_count": 8,
     "metadata": {},
     "output_type": "execute_result"
    }
   ],
   "source": [
    "inotkept"
   ]
  },
  {
   "cell_type": "code",
   "execution_count": 9,
   "metadata": {},
   "outputs": [
    {
     "data": {
      "text/plain": [
       "array([[  8.791,   0.162,   4.843,   0.159,   2.141,   0.172,  13.413,\n",
       "          0.153,   1.828,   0.13 ],\n",
       "       [109.377,   0.865,  64.015,   0.839,  27.5  ,   1.   ,     nan,\n",
       "          0.771,  24.609,   0.695],\n",
       "       [    nan,   0.955,  90.718,   0.905,  39.667,   1.045,     nan,\n",
       "          0.869,  36.199,   0.82 ],\n",
       "       [    nan,   1.   ,     nan,   0.962,  39.243,   1.245,     nan,\n",
       "          0.882,  35.509,   0.804],\n",
       "       [    nan,   1.003,     nan,   0.972,     nan,   1.165,     nan,\n",
       "          0.997,  47.104,   0.827],\n",
       "       [    nan,   0.998,     nan,   1.   ,     nan,   1.013,     nan,\n",
       "          0.967,     nan,   1.003]])"
      ]
     },
     "execution_count": 9,
     "metadata": {},
     "output_type": "execute_result"
    }
   ],
   "source": [
    "scores"
   ]
  },
  {
   "cell_type": "code",
   "execution_count": 10,
   "metadata": {},
   "outputs": [
    {
     "name": "stdout",
     "output_type": "stream",
     "text": [
      "Calculated threshold: 3.0\n",
      "Vectors discarded (dimension 1, n=5): [6 0 2 4 8]\n"
     ]
    }
   ],
   "source": [
    "ys, ikept, inotkept, scores = similarity(y, threshold=0, nmin=3, repeat=True, metric=mse,\n",
    "                                         drop=False, msg=True, central=np.nanmedian, normalization=np.nanmedian)"
   ]
  },
  {
   "cell_type": "code",
   "execution_count": 11,
   "metadata": {},
   "outputs": [
    {
     "data": {
      "text/plain": [
       "(100, 10)"
      ]
     },
     "execution_count": 11,
     "metadata": {},
     "output_type": "execute_result"
    }
   ],
   "source": [
    "ys.shape"
   ]
  },
  {
   "cell_type": "code",
   "execution_count": 12,
   "metadata": {},
   "outputs": [
    {
     "name": "stdout",
     "output_type": "stream",
     "text": [
      "Calculated threshold: 3.0\n",
      "Vectors discarded (dimension 1, n=3): [6 0 2]\n"
     ]
    }
   ],
   "source": [
    "ys, ikept, inotkept, scores = similarity(y, threshold=0, nmin=3, repeat=False, metric=mse,\n",
    "                                         msg=True, central=np.nanmedian, normalization=np.nanmedian)"
   ]
  },
  {
   "cell_type": "markdown",
   "metadata": {},
   "source": [
    "## Function profiling"
   ]
  },
  {
   "cell_type": "code",
   "execution_count": 13,
   "metadata": {
    "editable": true,
    "slideshow": {
     "slide_type": ""
    },
    "tags": []
   },
   "outputs": [
    {
     "name": "stdout",
     "output_type": "stream",
     "text": [
      "2.3 ms ± 15.1 µs per loop (mean ± std. dev. of 7 runs, 100 loops each)\n"
     ]
    }
   ],
   "source": [
    "%%timeit\n",
    "ys, ikept, inotkept, score_all = similarity(y, repeat=True, msg=False)"
   ]
  },
  {
   "cell_type": "code",
   "execution_count": 14,
   "metadata": {},
   "outputs": [
    {
     "name": "stdout",
     "output_type": "stream",
     "text": [
      "882 µs ± 21.4 µs per loop (mean ± std. dev. of 7 runs, 1,000 loops each)\n"
     ]
    }
   ],
   "source": [
    "%%timeit\n",
    "ys, ikept, inotkept, score_all = similarity(y, repeat=False, msg=False)"
   ]
  },
  {
   "cell_type": "markdown",
   "metadata": {},
   "source": [
    "The computation of the metric score (in the example above, `mse`) takes 86% of the funtion time. Let's look on that."
   ]
  },
  {
   "cell_type": "code",
   "execution_count": 15,
   "metadata": {},
   "outputs": [
    {
     "name": "stdout",
     "output_type": "stream",
     "text": [
      "332 µs ± 3.12 µs per loop (mean ± std. dev. of 7 runs, 1,000 loops each)\n"
     ]
    }
   ],
   "source": [
    "%%timeit\n",
    "score = mse(y, central=np.nanmedian, normalization=np.nanmedian)"
   ]
  },
  {
   "cell_type": "code",
   "execution_count": 16,
   "metadata": {},
   "outputs": [
    {
     "name": "stdout",
     "output_type": "stream",
     "text": [
      "77.6 µs ± 1.35 µs per loop (mean ± std. dev. of 7 runs, 10,000 loops each)\n"
     ]
    }
   ],
   "source": [
    "%%timeit\n",
    "score = mse(y, central=np.nanmean, normalization=np.nanmean)"
   ]
  },
  {
   "cell_type": "markdown",
   "metadata": {},
   "source": [
    "Using `median` to calculate statistics slows down the code by about 4 times compared to using `mean`."
   ]
  },
  {
   "cell_type": "code",
   "execution_count": 17,
   "metadata": {},
   "outputs": [
    {
     "data": {
      "text/plain": [
       "Timer unit: 1e-09 s\n",
       "\n",
       "Total time: 0.00477567 s\n",
       "File: /home/marcos/adrive/Python/BMC/notebooks/./../functions/simila.py\n",
       "Function: similarity at line 87\n",
       "\n",
       "Line #      Hits         Time  Per Hit   % Time  Line Contents\n",
       "==============================================================\n",
       "    87                                           def similarity(y: np.ndarray, axis1: int = 0, axis2: int = 1, threshold: float = 0,\n",
       "    88                                                          nmin: int = 3, repeat: bool = True, metric: Callable = mse,\n",
       "    89                                                          drop=True, msg: bool = True, **kwargs: Callable\n",
       "    90                                                          ) -> tuple[np.ndarray, np.ndarray, np.ndarray, np.ndarray]:\n",
       "    91                                           \n",
       "    92                                               \"\"\"Select vectors in array by their similarity using a metric score.\n",
       "    93                                           \n",
       "    94                                               For example, if `y` is a 2-D numpy.ndarray, with shape (n, m), `axis1`=0\n",
       "    95                                               (n is the number of rows) and `axis2`=1 (m is the number of columns), this\n",
       "    96                                               function will select the vectors along the columns, that are more similar\n",
       "    97                                               to a `central` statistics of `y` or to a `target`, using a `metric` score.\n",
       "    98                                               The metric score can be calculated repeatedly until all selected vectors\n",
       "    99                                               have a `metric` score not greater than a `threshold`, but the minimum\n",
       "   100                                               number of vectors to keep or the maximum number of vectors to discard\n",
       "   101                                               can be specified with parameter `nmin`.\n",
       "   102                                           \n",
       "   103                                               The default `metric` and target are the mean squared error (`mse`) of `y`\n",
       "   104                                               w.r.t. the median of `y` along `axis2`. The `mse` metric is equivalent\n",
       "   105                                               to the squared Euclidean distance and it is prefered because it\n",
       "   106                                               penalizes largest differences more than the Euclidian distance. But any\n",
       "   107                                               other `metric` that can be calculated with a function can be used.\n",
       "   108                                           \n",
       "   109                                               A possible use of this function is to discard the time-series data from bad\n",
       "   110                                               trials (treated as outliers) stored in a 2-D array (each trial as a column\n",
       "   111                                               and instants as rows) where the criterion is the similarity of the trial\n",
       "   112                                               w.r.t. the median trial (the median statistics is more robust to remove\n",
       "   113                                               outliers than the mean in case there are very bad trials). After the bad\n",
       "   114                                               trials are discarded, the mean of all trials could then be calculated more\n",
       "   115                                               reliablly.\n",
       "   116                                           \n",
       "   117                                               Parameters\n",
       "   118                                               ----------\n",
       "   119                                               y : numpy.ndarray\n",
       "   120                                                   Array for the calculation of similarity (defined by a `metric`) of its\n",
       "   121                                                   vectors w.r.t. a `target` or a `central` statistics of `y`.\n",
       "   122                                               axis1 : integer, optional, default = 0\n",
       "   123                                                   Axis of `y` for which the `metric` will be calculated at each value and\n",
       "   124                                                   possibly averaged in the `metric` calculation.\n",
       "   125                                               axis2 : integer, optional, default = 1\n",
       "   126                                                   Axis of `y` along which the different vectors are going to be compared\n",
       "   127                                                   with the `threshold` for their similarity (using their `metric` score).\n",
       "   128                                               threshold : float, optional, default = 0\n",
       "   129                                                   If greater than 0, vector with `metric` score above this value will be\n",
       "   130                                                   discarded. If 0, threshold will be automatically calculated as the\n",
       "   131                                                   minimum of [qs[2] + 1.5*(qs[2]-qs[0]), score[-2], 3], where qs are the\n",
       "   132                                                   quantiles and score[-2] is the before-last largest score of `metric`\n",
       "   133                                                   among vectors calculated at the first time, not updated by the `repeat`\n",
       "   134                                                   option.\n",
       "   135                                               nmin : integer, optional, default = 3\n",
       "   136                                                   If greater than 0, minumum number of vectors to keep.\n",
       "   137                                                   If lower than 0, maximum number of vectors to discard.\n",
       "   138                                               repeat : bool, optional, default = True\n",
       "   139                                                   Whether to calculate similarity `metric` repeatedly, updating the\n",
       "   140                                                   score calculation each time a vector is discarded.\n",
       "   141                                                   With `repeat` True, the output `scores` will contain at each row\n",
       "   142                                                   the updated score values for the used `metric` for each data vector.\n",
       "   143                                                   The first row will contain the calculated original scores before any\n",
       "   144                                                   vector was discarded. On the next equent rows, the vectors discarded\n",
       "   145                                                   are represented by NaN values and the kept vectors by their updated\n",
       "   146                                                   scores.\n",
       "   147                                                   The last row will contain the updated scores of the final vectors kept.\n",
       "   148                                                   With the `repeat` False, the comparison of score values with\n",
       "   149                                                   `threshold` are made only once and vectors are discarded accordingly at\n",
       "   150                                                   once. In this case, the output `scores` will contain only two rows, the\n",
       "   151                                                   first row will contain the calculated original scores before any\n",
       "   152                                                   vectors were discarded. At the second row, the vectors discarded are\n",
       "   153                                                   represented with NaN values and the kept vectors by their updated\n",
       "   154                                                   scores.\n",
       "   155                                               metric : optional, default=mse\n",
       "   156                                                   Function to use as metric to compute similarity.\n",
       "   157                                               drop : bool, optional, default = True\n",
       "   158                                                   Whether to drop (delete) the discarded vectors from `y` in the output.\n",
       "   159                                                   If False, the values of the vectors discarded will be replaced by nans\n",
       "   160                                                   and the returned array will have the same dimensions as the original\n",
       "   161                                                   array.\n",
       "   162                                               msg : bool, optional, default = True\n",
       "   163                                                   Whether to print some messages.\n",
       "   164                                               kwargs : optional\n",
       "   165                                                   Options for the metric function (e.g., see `mse` function).\n",
       "   166                                           \n",
       "   167                                               Returns\n",
       "   168                                               -------\n",
       "   169                                               y : numpy.ndarray\n",
       "   170                                                   Array similar to input `y` but with vectors discarded (deleted) if\n",
       "   171                                                   option `drop` is True or with all values of vectors discarded replaced\n",
       "   172                                                   by nans if option `drop` is False.\n",
       "   173                                               ikept : numpy.ndarray\n",
       "   174                                                   Indexes of kept vectors.\n",
       "   175                                               inotkept : numpy.ndarray\n",
       "   176                                                   Indexes of not kept (discarded or replaced by nan) vectors.\n",
       "   177                                               scores : 2-D numpy.ndarray\n",
       "   178                                                   Metric score values of each vector (as columns) for each round of\n",
       "   179                                                   vector selection (one row per round plus the final values).\n",
       "   180                                           \n",
       "   181                                               References\n",
       "   182                                               ----------\n",
       "   183                                               .. [1] https://nbviewer.org/github/BMClab/BMC/blob/master/notebooks/Similarity.ipynb\n",
       "   184                                           \n",
       "   185                                               Examples\n",
       "   186                                               --------\n",
       "   187                                               >>> import matplotlib.pyplot as plt\n",
       "   188                                               >>> rng = np.random.default_rng()\n",
       "   189                                               >>> t, n = 100, 10\n",
       "   190                                               >>> y = rng.random((t, n)) / 2\n",
       "   191                                               >>> y = y + np.atleast_2d(2*np.sin(2*np.pi*np.linspace(0, 1, t))).T\n",
       "   192                                               >>> for i in range(0, n, 2):\n",
       "   193                                               >>>    j = rng.integers(t-20)\n",
       "   194                                               >>>    p = rng.integers(20)\n",
       "   195                                               >>>    y[j:j+p, i] = y[j:j+p, i] + rng.integers(10) - 5\n",
       "   196                                               >>>    y[:, i] += rng.integers(4) - 2\n",
       "   197                                               >>> ysr, ikeptr, inotkeptr, scoresr = similarity(y)\n",
       "   198                                               >>> ysn, ikeptn, inotkeptn, scoresn = similarity(y, repeat=False)\n",
       "   199                                               >>> fig, axs = plt.subplots(3, 1, sharex=True, figsize=(8, 8))\n",
       "   200                                               >>> axs[0].plot(y, label=list(range(n)))\n",
       "   201                                               >>> axs[0].legend(loc=(1.01, 0), ncol=2)\n",
       "   202                                               >>> axs[0].set_title(f'Original vectors (n={n})')\n",
       "   203                                               >>> axs[1].plot(ysr, label= ikeptr.tolist())\n",
       "   204                                               >>> axs[1].set_title(f'Vectors maintained with repeat selection (n={len(ikeptr)})')\n",
       "   205                                               >>> axs[1].legend(loc=(1.01, 0))\n",
       "   206                                               >>> axs[2].plot(ysn, label= ikeptn.tolist())\n",
       "   207                                               >>> axs[2].set_title(f'Vectors maintained without repeat selection (n={len(ikeptn)})')\n",
       "   208                                               >>> axs[2].legend(loc=(1.01, 0))\n",
       "   209                                               >>> plt.show()\n",
       "   210                                           \n",
       "   211                                               Version history\n",
       "   212                                               ---------------\n",
       "   213                                               '1.0.0':\n",
       "   214                                                   First release version\n",
       "   215                                               \"\"\"\n",
       "   216                                           \n",
       "   217         1       9066.0   9066.0      0.2      logger.debug('Similarity...')\n",
       "   218                                           \n",
       "   219         1       1332.0   1332.0      0.0      if y.ndim < 2:\n",
       "   220                                                   raise ValueError('The input array must be at least a 2-D array.')\n",
       "   221         1      11963.0  11963.0      0.3      y = y.copy()\n",
       "   222         1    1185039.0 1185039.0     24.8      score: np.ndarray = metric(y, axis1=axis1, axis2=axis2, **kwargs)\n",
       "   223         1       8360.0   8360.0      0.2      scores: np.ndarray = np.atleast_2d(score)\n",
       "   224         1       3848.0   3848.0      0.1      ikept: np.ndarray = np.where(~np.isnan(score))[0]  # indexes of kept vectors\n",
       "   225         1       1669.0   1669.0      0.0      inotkept: np.ndarray = np.where(np.isnan(score))[0]  # indexes of discarded vectors\n",
       "   226         1       8119.0   8119.0      0.2      idx: np.ndarray = np.argsort(score)\n",
       "   227         1        779.0    779.0      0.0      score = score[idx]\n",
       "   228         1       2928.0   2928.0      0.1      nkept: int = np.count_nonzero(~np.isnan(score))  # number of kept vectors\n",
       "   229         1        295.0    295.0      0.0      if nkept < 3:\n",
       "   230                                                   logger.debug('nkept: %s', nkept)\n",
       "   231                                                   raise ValueError('The input array must have at least 3 valid vectors.')\n",
       "   232         1        240.0    240.0      0.0      if nmin < 0:\n",
       "   233                                                   nmin = np.max([3, nkept + nmin])\n",
       "   234         1        137.0    137.0      0.0      if threshold == 0:  # automatic threshold calculation\n",
       "   235         1     193447.0 193447.0      4.1          qs: np.ndarray = np.nanquantile(a=score, q=[.25, .50, .75])\n",
       "   236         1      17995.0  17995.0      0.4          threshold = np.min([qs[2] + 1.5*(qs[2]-qs[0]), score[-2], 3.])\n",
       "   237         1        149.0    149.0      0.0          if msg:\n",
       "   238                                                       print(f'Calculated threshold: {threshold}')\n",
       "   239                                           \n",
       "   240         1        289.0    289.0      0.0      if not repeat:  # discard all vectors at once\n",
       "   241                                                   idx2: np.ndarray = np.nonzero(score > threshold)[0]  # vectors to discard\n",
       "   242                                                   if len(idx2) > 0:\n",
       "   243                                                       if nkept > nmin:  # keep at least nmin vectors\n",
       "   244                                                           inotkept = np.r_[inotkept, idx[idx2[-(y.shape[axis2] - nmin):]][::-1]]\n",
       "   245                                                           y.swapaxes(0, axis2)[inotkept, ...] = np.nan\n",
       "   246                                                           score = metric(y, axis1=axis1, axis2=axis2, **kwargs)\n",
       "   247                                                           scores = np.vstack((scores, score))\n",
       "   248                                                           logger.debug('not repeat - score: %s', score)\n",
       "   249                                               else:  # discard vector with largest updated score one by one\n",
       "   250         5       5133.0   1026.6      0.1          while nkept > nmin and score[nkept-1] > threshold:\n",
       "   251         5     136146.0  27229.2      2.9              inotkept = np.r_[inotkept, idx[nkept-1]]\n",
       "   252         5      14484.0   2896.8      0.3              y.swapaxes(0, axis2)[inotkept[-1], ...] = np.nan\n",
       "   253         5    2909616.0 581923.2     60.9              score = metric(y, axis1=axis1, axis2=axis2, **kwargs)\n",
       "   254         5      66628.0  13325.6      1.4              scores = np.vstack((scores, score))\n",
       "   255         5      27112.0   5422.4      0.6              idx = np.argsort(score)\n",
       "   256         5       3849.0    769.8      0.1              score = score[idx]\n",
       "   257         5       1292.0    258.4      0.0              nkept = nkept - 1\n",
       "   258         5       7149.0   1429.8      0.1              logger.debug('repeat - nkept: %s, score: %s', nkept, score)\n",
       "   259                                           \n",
       "   260         1        398.0    398.0      0.0      if len(inotkept):\n",
       "   261         1     151478.0 151478.0      3.2          ikept = np.setdiff1d(ikept, inotkept)\n",
       "   262         1        243.0    243.0      0.0          if drop:\n",
       "   263         1       6108.0   6108.0      0.1              y = y.swapaxes(0, axis2)[ikept, ...].swapaxes(0, axis2)\n",
       "   264         1        142.0    142.0      0.0          if msg:\n",
       "   265                                                       print(\n",
       "   266                                                             f'Vectors discarded (dimension {axis2}, n={len(inotkept)}): {inotkept}')\n",
       "   267                                           \n",
       "   268         1        232.0    232.0      0.0      return y, ikept, inotkept, scores"
      ]
     },
     "metadata": {},
     "output_type": "display_data"
    }
   ],
   "source": [
    "%lprun -f similarity similarity(y, msg=False)"
   ]
  },
  {
   "cell_type": "markdown",
   "metadata": {},
   "source": [
    "## Function `similarity`"
   ]
  },
  {
   "cell_type": "code",
   "execution_count": 20,
   "metadata": {},
   "outputs": [],
   "source": [
    "# %load ./../functions/simila.py\n",
    "\"\"\"Select vectors in array by their similarity using a metric score.\n",
    "\"\"\"\n",
    "\n",
    "import logging\n",
    "from typing import Callable\n",
    "import numpy as np\n",
    "\n",
    "__author__ = 'Marcos Duarte, https://github.com/demotu/BMC'\n",
    "__version__ = 'simila.py v.1.0.0 20123/07/31'\n",
    "__license__ = \"MIT\"\n",
    "\n",
    "# set logger and configure it not to confuse with matplotlib debug messages\n",
    "logger = logging.getLogger(__name__)\n",
    "logger.setLevel(20)  # 0: NOTSET, 10: DEBUG, 20: INFO, 30: WARNING, 40: ERROR, 50: CRITICAL\n",
    "ch = logging.StreamHandler()\n",
    "formatter = logging.Formatter('{name}: {levelname}: {message}', style='{')\n",
    "ch.setFormatter(formatter)\n",
    "logger.addHandler(ch)\n",
    "\n",
    "\n",
    "def mse(y: np.ndarray, target: np.ndarray | None = None, axis1: int = 0, axis2: int = 1,\n",
    "        central: Callable = np.nanmedian, normalization: Callable = np.nanmedian\n",
    "        ) -> np.ndarray:\n",
    "    \"\"\"Mean Squared Error of `y` w.r.t. `target` or `central` along `axis2` at `axis1`.\n",
    "\n",
    "    Parameters\n",
    "    ----------\n",
    "    y : numpy.ndarray\n",
    "        At least a 2-D numpy.ndarray of data for the calculation of mean squared\n",
    "        error w.r.t. a `target` or a `central` statistics of the data.\n",
    "    target : 1-D numpy.ndarray of length `axis1`, optional, default = None\n",
    "        Reference value to calculate the mean squared error of `y` w.r.t. this\n",
    "        vector. If it is None, the mse value will be calculated w.r.t. a `central`\n",
    "        calculated along `axis2` of `y`.\n",
    "    axis1 : integer, optional, default = 0\n",
    "        Axis of `y` for which the mse will be calculated at each value.\n",
    "    axis2 : integer, optional, default = 1\n",
    "        Axis of `y` along which the `central` statistics might be calculated or\n",
    "        along which the target will be subtracted.\n",
    "    central : Python function, optional, default = np.nanmedian\n",
    "        Function to calculate statistics on `y` w.r.t. mse is computed.\n",
    "    normalization : Python function, optional, default = np.nanmedian\n",
    "        Function to normalize the calculated mse values\n",
    "\n",
    "    Returns\n",
    "    -------\n",
    "    score : numpy.ndarray\n",
    "        Mean Squared Error values\n",
    "\n",
    "    References\n",
    "    ----------\n",
    "    .. [1] https://nbviewer.org/github/BMClab/BMC/blob/master/notebooks/Similarity.ipynb\n",
    "\n",
    "    Examples\n",
    "    --------\n",
    "    >>> import numpy as np\n",
    "    >>> rng = np.random.default_rng()\n",
    "    >>> y = rng.random((100, 10))\n",
    "    >>> y = y + np.atleast_2d(np.sin(2*np.pi*np.linspace(0, 1, 100))).T\n",
    "    >>> mse(y, axis1=0, axis2=1, central=np.nanmedian, normalization=np.nanmedian)\n",
    "\n",
    "    Version history\n",
    "    ---------------\n",
    "    '1.0.0':\n",
    "        First release version\n",
    "    \"\"\"\n",
    "\n",
    "    logger.debug('mse...')\n",
    "\n",
    "    score: np.ndarray = np.empty((y.shape[axis2]), dtype=float)\n",
    "    score.fill(np.nan)\n",
    "    idx: np.ndarray = np.where(~np.all(np.isnan(y), axis=axis1))[0]\n",
    "    y = y.swapaxes(0, axis2)[idx, ...].swapaxes(0, axis2)  # faster than .take\n",
    "    if target is not None:\n",
    "        logger.debug('target shape: %s', target.shape)\n",
    "        score[idx] = np.nanmean((y - target)**2, axis=axis1)\n",
    "    else:\n",
    "        score[idx] = np.nanmean((y - central(y, axis=axis2, keepdims=True))**2, axis=axis1)\n",
    "\n",
    "    if normalization is not None:\n",
    "        score = score/normalization(score)\n",
    "    logger.debug('idx: %s, score: %s', idx, score)\n",
    "\n",
    "    return score\n",
    "\n",
    "\n",
    "def similarity(y: np.ndarray, axis1: int = 0, axis2: int = 1, threshold: float = 0,\n",
    "               nmin: int = 3, repeat: bool = True, metric: Callable = mse,\n",
    "               drop=True, msg: bool = True, **kwargs: Callable\n",
    "               ) -> tuple[np.ndarray, np.ndarray, np.ndarray, np.ndarray]:\n",
    "\n",
    "    \"\"\"Select vectors in array by their similarity using a metric score.\n",
    "\n",
    "    For example, if `y` is a 2-D numpy.ndarray, with shape (n, m), `axis1`=0\n",
    "    (n is the number of rows) and `axis2`=1 (m is the number of columns), this\n",
    "    function will select the vectors along the columns, that are more similar\n",
    "    to a `central` statistics of `y` or to a `target`, using a `metric` score.\n",
    "    The metric score can be calculated repeatedly until all selected vectors\n",
    "    have a `metric` score not greater than a `threshold`, but the minimum\n",
    "    number of vectors to keep or the maximum number of vectors to discard\n",
    "    can be specified with parameter `nmin`.\n",
    "\n",
    "    The default `metric` and target are the mean squared error (`mse`) of `y`\n",
    "    w.r.t. the median of `y` along `axis2`. The `mse` metric is equivalent\n",
    "    to the squared Euclidean distance and it is prefered because it\n",
    "    penalizes largest differences more than the Euclidian distance. But any\n",
    "    other `metric` that can be calculated with a function can be used.\n",
    "\n",
    "    A possible use of this function is to discard the time-series data from bad\n",
    "    trials (treated as outliers) stored in a 2-D array (each trial as a column\n",
    "    and instants as rows) where the criterion is the similarity of the trial\n",
    "    w.r.t. the median trial (the median statistics is more robust to remove\n",
    "    outliers than the mean in case there are very bad trials). After the bad\n",
    "    trials are discarded, the mean of all trials could then be calculated more\n",
    "    reliablly.\n",
    "\n",
    "    Parameters\n",
    "    ----------\n",
    "    y : numpy.ndarray\n",
    "        Array for the calculation of similarity (defined by a `metric`) of its\n",
    "        vectors w.r.t. a `target` or a `central` statistics of `y`.\n",
    "    axis1 : integer, optional, default = 0\n",
    "        Axis of `y` for which the `metric` will be calculated at each value and\n",
    "        possibly averaged in the `metric` calculation.\n",
    "    axis2 : integer, optional, default = 1\n",
    "        Axis of `y` along which the different vectors are going to be compared\n",
    "        with the `threshold` for their similarity (using their `metric` score).\n",
    "    threshold : float, optional, default = 0\n",
    "        If greater than 0, vector with `metric` score above this value will be\n",
    "        discarded. If 0, threshold will be automatically calculated as the\n",
    "        minimum of [qs[2] + 1.5*(qs[2]-qs[0]), score[-2], 3], where qs are the\n",
    "        quantiles and score[-2] is the before-last largest score of `metric`\n",
    "        among vectors calculated at the first time, not updated by the `repeat`\n",
    "        option.\n",
    "    nmin : integer, optional, default = 3\n",
    "        If greater than 0, minumum number of vectors to keep.\n",
    "        If lower than 0, maximum number of vectors to discard.\n",
    "    repeat : bool, optional, default = True\n",
    "        Whether to calculate similarity `metric` repeatedly, updating the\n",
    "        score calculation each time a vector is discarded.\n",
    "        With `repeat` True, the output `scores` will contain at each row\n",
    "        the updated score values for the used `metric` for each data vector.\n",
    "        The first row will contain the calculated original scores before any\n",
    "        vector was discarded. On the next equent rows, the vectors discarded\n",
    "        are represented by NaN values and the kept vectors by their updated\n",
    "        scores.\n",
    "        The last row will contain the updated scores of the final vectors kept.\n",
    "        With the `repeat` False, the comparison of score values with\n",
    "        `threshold` are made only once and vectors are discarded accordingly at\n",
    "        once. In this case, the output `scores` will contain only two rows, the\n",
    "        first row will contain the calculated original scores before any\n",
    "        vectors were discarded. At the second row, the vectors discarded are\n",
    "        represented with NaN values and the kept vectors by their updated\n",
    "        scores.\n",
    "    metric : optional, default=mse\n",
    "        Function to use as metric to compute similarity.\n",
    "    drop : bool, optional, default = True\n",
    "        Whether to drop (delete) the discarded vectors from `y` in the output.\n",
    "        If False, the values of the vectors discarded will be replaced by nans\n",
    "        and the returned array will have the same dimensions as the original\n",
    "        array.\n",
    "    msg : bool, optional, default = True\n",
    "        Whether to print some messages.\n",
    "    kwargs : optional\n",
    "        Options for the metric function (e.g., see `mse` function).\n",
    "\n",
    "    Returns\n",
    "    -------\n",
    "    y : numpy.ndarray\n",
    "        Array similar to input `y` but with vectors discarded (deleted) if\n",
    "        option `drop` is True or with all values of vectors discarded replaced\n",
    "        by nans if option `drop` is False.\n",
    "    ikept : numpy.ndarray\n",
    "        Indexes of kept vectors.\n",
    "    inotkept : numpy.ndarray\n",
    "        Indexes of not kept (discarded or replaced by nan) vectors.\n",
    "    scores : 2-D numpy.ndarray\n",
    "        Metric score values of each vector (as columns) for each round of\n",
    "        vector selection (one row per round plus the final values).\n",
    "\n",
    "    References\n",
    "    ----------\n",
    "    .. [1] https://nbviewer.org/github/BMClab/BMC/blob/master/notebooks/Similarity.ipynb\n",
    "\n",
    "    Examples\n",
    "    --------\n",
    "    >>> import matplotlib.pyplot as plt\n",
    "    >>> rng = np.random.default_rng()\n",
    "    >>> t, n = 100, 10\n",
    "    >>> y = rng.random((t, n)) / 2\n",
    "    >>> y = y + np.atleast_2d(2*np.sin(2*np.pi*np.linspace(0, 1, t))).T\n",
    "    >>> for i in range(0, n, 2):\n",
    "    >>>    j = rng.integers(t-20)\n",
    "    >>>    p = rng.integers(20)\n",
    "    >>>    y[j:j+p, i] = y[j:j+p, i] + rng.integers(10) - 5\n",
    "    >>>    y[:, i] += rng.integers(4) - 2\n",
    "    >>> ysr, ikeptr, inotkeptr, scoresr = similarity(y)\n",
    "    >>> ysn, ikeptn, inotkeptn, scoresn = similarity(y, repeat=False)\n",
    "    >>> fig, axs = plt.subplots(3, 1, sharex=True, figsize=(8, 8))\n",
    "    >>> axs[0].plot(y, label=list(range(n)))\n",
    "    >>> axs[0].legend(loc=(1.01, 0), ncol=2)\n",
    "    >>> axs[0].set_title(f'Original vectors (n={n})')\n",
    "    >>> axs[1].plot(ysr, label= ikeptr.tolist())\n",
    "    >>> axs[1].set_title(f'Vectors maintained with repeat selection (n={len(ikeptr)})')\n",
    "    >>> axs[1].legend(loc=(1.01, 0))\n",
    "    >>> axs[2].plot(ysn, label= ikeptn.tolist())\n",
    "    >>> axs[2].set_title(f'Vectors maintained without repeat selection (n={len(ikeptn)})')\n",
    "    >>> axs[2].legend(loc=(1.01, 0))\n",
    "    >>> plt.show()\n",
    "\n",
    "    Version history\n",
    "    ---------------\n",
    "    '1.0.0':\n",
    "        First release version\n",
    "    \"\"\"\n",
    "\n",
    "    logger.debug('Similarity...')\n",
    "\n",
    "    if y.ndim < 2:\n",
    "        raise ValueError('The input array must be at least a 2-D array.')\n",
    "    y = y.copy()\n",
    "    score: np.ndarray = metric(y, axis1=axis1, axis2=axis2, **kwargs)\n",
    "    scores: np.ndarray = np.atleast_2d(score)\n",
    "    ikept: np.ndarray = np.where(~np.isnan(score))[0]  # indexes of kept vectors\n",
    "    inotkept: np.ndarray = np.where(np.isnan(score))[0]  # indexes of discarded vectors\n",
    "    idx: np.ndarray = np.argsort(score)\n",
    "    score = score[idx]\n",
    "    nkept: int = np.count_nonzero(~np.isnan(score))  # number of kept vectors\n",
    "    if nkept < 3:\n",
    "        logger.debug('nkept: %s', nkept)\n",
    "        raise ValueError('The input array must have at least 3 valid vectors.')\n",
    "    if nmin < 0:\n",
    "        nmin = np.max([3, nkept + nmin])\n",
    "    if threshold == 0:  # automatic threshold calculation\n",
    "        qs: np.ndarray = np.nanquantile(a=score, q=[.25, .50, .75])\n",
    "        threshold = np.min([qs[2] + 1.5*(qs[2]-qs[0]), score[-2], 3.])\n",
    "        if msg:\n",
    "            print(f'Calculated threshold: {threshold}')\n",
    "\n",
    "    if not repeat:  # discard all vectors at once\n",
    "        idx2: np.ndarray = np.nonzero(score > threshold)[0]  # vectors to discard\n",
    "        if len(idx2) > 0:\n",
    "            if nkept > nmin:  # keep at least nmin vectors\n",
    "                inotkept = np.r_[inotkept, idx[idx2[-(y.shape[axis2] - nmin):]][::-1]]\n",
    "                y.swapaxes(0, axis2)[inotkept, ...] = np.nan\n",
    "                score = metric(y, axis1=axis1, axis2=axis2, **kwargs)\n",
    "                scores = np.vstack((scores, score))\n",
    "                logger.debug('not repeat - score: %s', score)\n",
    "    else:  # discard vector with largest updated score one by one\n",
    "        while nkept > nmin and score[nkept-1] > threshold:\n",
    "            inotkept = np.r_[inotkept, idx[nkept-1]]\n",
    "            y.swapaxes(0, axis2)[inotkept[-1], ...] = np.nan\n",
    "            score = metric(y, axis1=axis1, axis2=axis2, **kwargs)\n",
    "            scores = np.vstack((scores, score))\n",
    "            idx = np.argsort(score)\n",
    "            score = score[idx]\n",
    "            nkept = nkept - 1\n",
    "            logger.debug('repeat - nkept: %s, score: %s', nkept, score)\n",
    "\n",
    "    if len(inotkept):\n",
    "        ikept = np.setdiff1d(ikept, inotkept)\n",
    "        if drop:\n",
    "            y = y.swapaxes(0, axis2)[ikept, ...].swapaxes(0, axis2)\n",
    "        if msg:\n",
    "            print(\n",
    "                  f'Vectors discarded (dimension {axis2}, n={len(inotkept)}): {inotkept}')\n",
    "\n",
    "    return y, ikept, inotkept, scores\n"
   ]
  },
  {
   "cell_type": "code",
   "execution_count": null,
   "metadata": {},
   "outputs": [],
   "source": []
  }
 ],
 "metadata": {
  "anaconda-cloud": {},
  "hide_input": false,
  "kernelspec": {
   "display_name": "Python 3 (ipykernel)",
   "language": "python",
   "name": "python3"
  },
  "language_info": {
   "codemirror_mode": {
    "name": "ipython",
    "version": 3
   },
   "file_extension": ".py",
   "mimetype": "text/x-python",
   "name": "python",
   "nbconvert_exporter": "python",
   "pygments_lexer": "ipython3",
   "version": "3.11.4"
  },
  "nbTranslate": {
   "displayLangs": [
    "*"
   ],
   "hotkey": "alt-t",
   "langInMainMenu": true,
   "sourceLang": "en",
   "targetLang": "fr",
   "useGoogleTranslate": true
  },
  "varInspector": {
   "cols": {
    "lenName": 16,
    "lenType": 16,
    "lenVar": 40
   },
   "kernels_config": {
    "python": {
     "delete_cmd_postfix": "",
     "delete_cmd_prefix": "del ",
     "library": "var_list.py",
     "varRefreshCmd": "print(var_dic_list())"
    },
    "r": {
     "delete_cmd_postfix": ") ",
     "delete_cmd_prefix": "rm(",
     "library": "var_list.r",
     "varRefreshCmd": "cat(var_dic_list()) "
    }
   },
   "types_to_exclude": [
    "module",
    "function",
    "builtin_function_or_method",
    "instance",
    "_Feature"
   ],
   "window_display": false
  },
  "widgets": {
   "application/vnd.jupyter.widget-state+json": {
    "state": {},
    "version_major": 2,
    "version_minor": 0
   }
  }
 },
 "nbformat": 4,
 "nbformat_minor": 4
}
