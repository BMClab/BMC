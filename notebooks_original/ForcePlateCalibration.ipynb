{
 "cells": [
  {
   "cell_type": "markdown",
   "metadata": {},
   "source": [
    "# Algorithm for force plate calibration\n",
    "\n",
    "Marcos Duarte"
   ]
  },
  {
   "cell_type": "markdown",
   "metadata": {},
   "source": [
    "This notebook demonstrates the algorithm for force plate calibration proposed by Cedraro et al. (2008, 2009).  \n",
    "\n",
    "A force plate (FP) is an electromechanical device that measures the components of the vectors force $(\\mathbf{F} = [F_X,\\, F_Y,\\, F_Z])$ and moment of force or torque $(\\mathbf{M} = [M_X,\\, M_Y,\\, M_Z])$ applied to the it. The FP is composed by a transducer that transforms a mechanical deformation to an electrical signal usually using strain gauges or piezoelectric sensors. The transformation from electrical signals (input) to force and moment of force (output) as a function of time in a six-component FP usually is given by the following linear relationship:\n",
    "\n",
    "$$ \n",
    "\\mathbf{L}(t) = \\mathbf{C}\\mathbf{V}(t)\n",
    "$$\n",
    "\n",
    "Where $\\mathbf{L}(t)$ is the force plate output vector $([\\mathbf{F}(t), \\mathbf{M}(t)]^T)$, in N and Nm, $\\mathbf{V}(t)$ is the vector of electrical signals (six voltage signals, in V) and  $\\mathbf{C}$ is known as the six-by-six (constant) calibration matrix (in N/V or Nm/V). Note that we used the term vector here to refer to an uni-dimensional matrix (usual in scientific computing), which is different from vector/scalar concept in Mechanics.  \n",
    "The expansion of the former equiation at a given instant is:\n",
    "\n",
    "$$\n",
    "\\begin{bmatrix} \n",
    "F_x \\\\ F_y \\\\ F_z \\\\ M_x \\\\ M_y \\\\ M_z \n",
    "\\end{bmatrix}\\, = \\,\n",
    "\\begin{bmatrix} \n",
    "C_{11} && C_{12} && C_{13} && C_{14} && C_{15} && C_{16} \\\\\n",
    "C_{21} && C_{22} && C_{23} && C_{24} && C_{25} && C_{26} \\\\\n",
    "C_{31} && C_{32} && C_{33} && C_{34} && C_{35} && C_{36} \\\\\n",
    "C_{41} && C_{42} && C_{43} && C_{44} && C_{45} && C_{46} \\\\\n",
    "C_{51} && C_{52} && C_{53} && C_{54} && C_{55} && C_{56} \\\\\n",
    "C_{61} && C_{62} && C_{63} && C_{64} && C_{65} && C_{66}\n",
    "\\end{bmatrix}\\,\n",
    "\\begin{bmatrix}\n",
    "V_1 \\\\ V_2 \\\\ V_3 \\\\ V_4 \\\\ V_5 \\\\ V_6 \n",
    "\\end{bmatrix}\n",
    "$$\n",
    "\n",
    "The terms off-diagonal are known as the crosstalk terms and represent the effect of a load applied in one direction on the other direction. For a FP with none or small crosstalk, the off-diagonal terms are zero or very small compared to the main-diagonal terms. Note that the equation above is in fact a system of six linear independent equations with six unknowns each (where $V_1 ... V_6$ are the measured inputs):\n",
    "\n",
    "\\begin{cases}\n",
    "    F_x &=& C_{11}V_1 + C_{12}V_2 + C_{13}V_3 + C_{14}V_4 + C_{15}V_5 + C_{16}V_6 \\\\\n",
    "    F_y &=& C_{21}V_1 + C_{22}V_2 + C_{23}V_3 + C_{24}V_4 + C_{25}V_5 + C_{26}V_6 \\\\\n",
    "    F_z &=& C_{31}V_1 + C_{32}V_2 + C_{33}V_3 + C_{34}V_4 + C_{35}V_5 + C_{36}V_6 \\\\\n",
    "    M_x &=& C_{41}V_1 + C_{42}V_2 + C_{43}V_3 + C_{44}V_4 + C_{45}V_5 + C_{46}V_6 \\\\\n",
    "    M_y &=& C_{51}V_1 + C_{52}V_2 + C_{53}V_3 + C_{54}V_4 + C_{55}V_5 + C_{56}V_6 \\\\\n",
    "    M_z &=& C_{61}V_1 + C_{62}V_2 + C_{63}V_3 + C_{64}V_4 + C_{65}V_5 + C_{66}V_6 \n",
    "\\end{cases}\n",
    "\n",
    "Of course, an important aspect of the FP functionning is that it should be calibrated, i.e., the calibration matrix must be known and accurate (it comes with the force plate when you buy one). Cedraro et al. (2008) proposed a method for in situ re-calibration of FP and their algorithm is presented next."
   ]
  },
  {
   "cell_type": "markdown",
   "metadata": {},
   "source": [
    "## Algorithm\n",
    "\n",
    "Consider that in a re-calibration procedure we apply on the FP known forces, $\\mathbf{F}_I = [F_{X_I},\\, F_{Y_I},\\, F_{Z_I}]^T$, at known places, $\\mathbf{COP} = [X_{COP},\\,  Y_{COP},\\,  Z_{COP}]$ (the center of pressure coordinates in the FP reference frame).  \n",
    "The moments of forces, $\\mathbf{M}_I = [M_{X_I},\\, M_{Y_I},\\, M_{Z_I}]^T$, due to these forces can be found using the equation $\\mathbf{M}_I = \\mathbf{COP} \\times \\mathbf{F}_I$, which can be expressed in matrix form as:\n",
    "\n",
    "$$ \n",
    "\\mathbf{M}_I = \n",
    "\\begin{bmatrix} \n",
    "0 && -Z_{COP} && Y_{COP} \\\\\n",
    "Z_{COP} && 0 && -X_{COP} \\\\\n",
    "-Y_{COP} && X_{COP} && 0\n",
    "\\end{bmatrix}\\, \\mathbf{F}_I \\, = \\, \\mathbf{A}_{COP}\\mathbf{F}_I\n",
    "$$\n",
    "\n",
    "$\\mathbf{A}_{COP}$ (a [skew-symmetric matrix](https://en.wikipedia.org/wiki/Skew-symmetric_matrix)) is simply the COP position in matrix form in order to calculate the [cross product with matrix multiplication](https://en.wikipedia.org/wiki/Cross_product).\n",
    "\n",
    "These known loads on the FP can also be represented as:\n",
    "\n",
    "$$ \n",
    "\\mathbf{L}_I = \n",
    "\\begin{bmatrix} \n",
    "\\mathbf{F}_I \\\\\n",
    "\\mathbf{M}_I \n",
    "\\end{bmatrix}\n",
    "$$"
   ]
  },
  {
   "cell_type": "markdown",
   "metadata": {},
   "source": [
    "### Linear re-calibration\n",
    "\n",
    "For a linear re-calibration, the relationship between the measured FP output, $\\mathbf{L}$, and the known loads, $\\mathbf{L}_I$, is approximated by a linear equation:\n",
    "\n",
    "$$ \\mathbf{L}_I = \\mathbf{C}\\mathbf{L} + \\mathbf{E} $$\n",
    "\n",
    "Where $\\mathbf{C}$ now is the six-by-six re-calibration matrix (with dimensionless units) and $\\mathbf{E}$ is a gaussian, uncorrelated, zero mean\n",
    "noise six-by-one matrix.  \n",
    "The re-calibration matrix can be found by solving the equation above and then $\\mathbf{C}$ can be later used to re-calibrate the FP output:\n",
    "\n",
    "$$ \\mathbf{L}_C = \\mathbf{C}\\mathbf{L} $$\n",
    "\n",
    "Where $\\mathbf{L}_C$ is the re-calibrated FP output. For a perfectly calibrated FP, $\\mathbf{L}_C = \\mathbf{L}$ and $\\mathbf{C} = \\mathbf{I}$, the six-by-six identity matrix.\n",
    "\n",
    "Cedraro et al. (2008, 2009) proposed to use a calibrated three-component load cell (LC) to measure the loads $\\mathbf{F}_I(t)$ applied on the FP at $k$ known measurements sites. The LC measures the loads in its own coordinate system $(xyz)$: $\\mathbf{F}_{LC}(t) = [F_x(t),\\, F_y(t),\\, F_z(t)]^T$, which is probaly rotated (by an unknown value, represented by rotation matrix $\\mathbf{R}^k$) in relation to the FP coordinate system (the coordinate systems are also translated to each other but the translation is known and given by the COP position).  \n",
    "For each measurement site, the equation for the determination of the re-calibration matrix will be given by:\n",
    "\n",
    "$$ \\mathbf{P}^k\\mathbf{R}^k\\mathbf{F}^k_{LC}(t)= \\mathbf{P}^k\\mathbf{F}_I^k(t) = \\mathbf{C}\\mathbf{L}^k(t) + \\mathbf{E}^k(t) \\quad k = 1, ..., n $$\n",
    "\n",
    "Where:\n",
    "\n",
    "$$ \n",
    "\\mathbf{P}^k = \n",
    "\\begin{bmatrix} \n",
    "\\mathbf{I}_3 \\\\\n",
    "\\mathbf{A}_{COP} \n",
    "\\end{bmatrix}\n",
    "$$\n",
    "\n",
    "and $I_3$ is the three-by-three identity matrix.  \n",
    "\n",
    "Using a typical load cell, with a flat bottom, on top the FP, a realistic assumption is to consider that $z$ of LC is aligned to $Z$ of FP (the vertical direction); in this case the rotation matrix is:\n",
    "\n",
    "$$ \n",
    "\\mathbf{R}^k = \n",
    "\\begin{bmatrix} \n",
    "\\cos\\alpha^k && -\\sin\\alpha^k && 0 \\\\\n",
    "\\sin\\alpha^k && \\cos\\alpha^k && 0 \\\\\n",
    "0 && 0 && 1\n",
    "\\end{bmatrix}\n",
    "$$\n",
    "\n",
    "\n",
    "Cedraro et al. (2008) propose the following algorithm to estimate $\\mathbf{C}$:\n",
    "1. The misalignments, $\\alpha^k$, are initialized: $\\mathbf{\\alpha} = [\\alpha^1, \\cdots, \\alpha^n]$;\n",
    "2. $\\mathbf{C}$ is calculated by a least-squares approach;\n",
    "3. The residual errors are estimated as: $\\mathbf{E}^k(t) = \\mathbf{P}^k\\mathbf{R}^k\\mathbf{F}^k_{LC}(t) - \\mathbf{C}\\mathbf{L}^k(t)$;\n",
    "4. The increment $\\mathbf{\\Delta\\alpha}$ is calculated by minimizing the cost function $\\sum_{k,t}\\mathbf{E}^k(t)^T\\mathbf{E}^k(t)$, assuming dimensional unitary weights;\n",
    "5. The parameters are updated: $\\mathbf{\\alpha} = \\mathbf{\\alpha} + \\mathbf{\\Delta\\alpha}$.\n",
    "\n",
    "The iteration of steps 2–5 stops when each $\\Delta\\alpha^k < \\varepsilon_0$, where $\\varepsilon_0=10^{-10}$ is the chosen threshold."
   ]
  },
  {
   "cell_type": "markdown",
   "metadata": {},
   "source": [
    "### Simulation\n",
    "\n",
    "Let's simulate some data to test this calibration procedure. Cedraro et al. (2008) employed sinusoids, cosenoids, and ramps as sintetic signals to simulate the calibration process:"
   ]
  },
  {
   "cell_type": "code",
   "execution_count": 1,
   "metadata": {
    "ExecuteTime": {
     "end_time": "2016-11-05T21:50:32.772797",
     "start_time": "2016-11-05T21:50:30.035501"
    },
    "collapsed": true
   },
   "outputs": [],
   "source": [
    "import numpy as np\n",
    "from numpy.linalg import inv\n",
    "import matplotlib.pyplot as plt\n",
    "%matplotlib inline\n",
    "import seaborn as sns\n",
    "sns.set_context(\"notebook\", font_scale=1.4,\n",
    "                rc={\"lines.linewidth\": 3, \"lines.markersize\": 8, \"axes.titlesize\": 'x-large'})"
   ]
  },
  {
   "cell_type": "code",
   "execution_count": 2,
   "metadata": {
    "ExecuteTime": {
     "end_time": "2016-11-05T21:50:33.135262",
     "start_time": "2016-11-05T21:50:32.773800"
    }
   },
   "outputs": [
    {
     "data": {
      "image/png": "[encoded data removed]",
      "text/plain": [
       "<matplotlib.figure.Figure at 0x187c2d9b4e0>"
      ]
     },
     "metadata": {},
     "output_type": "display_data"
    }
   ],
   "source": [
    "# simulated forces measured by the load cell in its local coordinate system\n",
    "samples = np.linspace(1, 6000, 6000)\n",
    "ns = samples.shape[0]\n",
    "Flc = np.array([100*np.sin(5*2*np.pi*samples/ns) + 2*np.random.randn(6000),\n",
    "                100*np.cos(5*2*np.pi*samples/ns) + 2*np.random.randn(6000),\n",
    "                samples/15 + 200 + 5*np.random.randn(6000)])\n",
    "# plots\n",
    "fig, axs = plt.subplots(3, 1, figsize=(8, 5), sharex='all')\n",
    "axs[0].plot(samples, Flc[0])\n",
    "axs[0].set_ylabel('Fx (N)')\n",
    "axs[0].locator_params(axis='y', nbins=3)\n",
    "axs[0].yaxis.set_label_coords(-.08, 0.5)\n",
    "axs[1].plot(samples, Flc[1])\n",
    "axs[1].set_ylabel('Fy (N)')\n",
    "axs[1].locator_params(axis='y', nbins=3)\n",
    "axs[1].yaxis.set_label_coords(-.08, 0.5)\n",
    "axs[2].plot(samples, Flc[2])\n",
    "axs[2].set_ylabel('Fz (N)')\n",
    "axs[2].set_xlabel('Samples')\n",
    "axs[2].locator_params(axis='y', nbins=3)\n",
    "axs[2].yaxis.set_label_coords(-.08, 0.5)\n",
    "plt.tight_layout(pad=.5, h_pad=.025)\n",
    "plt.show()"
   ]
  },
  {
   "cell_type": "markdown",
   "metadata": {},
   "source": [
    "And Cedraro et al. (2008) also proposed five measurement sites and a re-calibration matrix for the simulated re-calibration:"
   ]
  },
  {
   "cell_type": "code",
   "execution_count": 3,
   "metadata": {
    "ExecuteTime": {
     "end_time": "2016-11-05T21:50:34.871358",
     "start_time": "2016-11-05T21:50:34.860351"
    }
   },
   "outputs": [],
   "source": [
    "# simulated true re-calibration matrix\n",
    "C = np.array([[ 1.0354, -0.0053, -0.0021, -0.0289, -0.0402,  0.0081],\n",
    "              [ 0.0064,  1.0309, -0.0031,  0.0211,  0.0135, -0.0001],\n",
    "              [ 0.0000, -0.0004,  1.0022, -0.0005, -0.0182,  0.0300],\n",
    "              [-0.0012, -0.0385,  0.0002,  0.9328,  0.0007,  0.0017],\n",
    "              [ 0.0347,  0.0003,  0.0008, -0.0002,  0.9325, -0.0024],\n",
    "              [-0.0004, -0.0013, -0.0003, -0.0023,  0.0035,  1.0592]])\n",
    "# five k measurements sites (in m)\n",
    "COP = np.array([[   0,  112,  112, -112, -112],\n",
    "                [   0,  192, -192,  192, -192],\n",
    "                [-124, -124, -124, -124, -124]])/1000\n",
    "# number of sites\n",
    "nk = COP.shape[1]\n",
    "# function for the COP skew-symmetric matrix\n",
    "Acop = lambda x,y,z : np.array([[.0, -z, y], [z, .0, -x], [-y, x, .0]])\n",
    "# same simulated forces measured by the load cell in all sites\n",
    "Flc = np.tile(Flc, nk)"
   ]
  },
  {
   "cell_type": "markdown",
   "metadata": {},
   "source": [
    "Let's generate the loads measured by the FP given the re-calibration matrix and the simulated forces measured by the load cell (we will consider no rotation for now). For that we will have to solve the equation:\n",
    "\n",
    "$$ \\mathbf{L}_I = \\mathbf{C}\\mathbf{L} $$\n",
    "\n",
    "Which is:\n",
    "\n",
    "$$ \\mathbf{L} = \\mathbf{C}^{-1}\\mathbf{L}_I $$\n",
    "\n",
    "$\\mathbf{C}$ is a square (6-by-6) matrix and the computation of its inverse is straightforward."
   ]
  },
  {
   "cell_type": "code",
   "execution_count": 4,
   "metadata": {
    "ExecuteTime": {
     "end_time": "2016-11-05T21:50:36.482542",
     "start_time": "2016-11-05T21:50:36.468031"
    }
   },
   "outputs": [],
   "source": [
    "# simulated loads measured by LC\n",
    "Li = np.empty((6, ns*nk))\n",
    "P = np.empty((6, 3, nk))\n",
    "for k, cop in enumerate(COP.T):\n",
    "    P[:, :, k] = np.vstack((np.eye(3), Acop(*cop)))\n",
    "    Li[:, k*ns:(k+1)*ns] = P[:, :, k] @ Flc[:, k*ns:(k+1)*ns]\n",
    "\n",
    "# simulated loads applied on FP\n",
    "L = inv(C) @  Li"
   ]
  },
  {
   "cell_type": "markdown",
   "metadata": {},
   "source": [
    "In the calculations above we took advantage of the [new operator for matrix multiplcation in Python 3](https://www.python.org/dev/peps/pep-0465/): `@` (mnemonic: `@` is `*` for mATrices).  \n",
    "\n",
    "We can now simulate the re-calibration procedure by determining the re-calibration matrix using these loads. Of course, the re-calibration matrix to be determined should be equal to the simulated re-calibration matrix we started with, but this is the fun of the simulation - we know where we want to go.\n",
    "\n",
    "The re-calibration matrix can be found by solving the following equation (considering the angles equal zero for now):\n",
    "\n",
    "$$ \\mathbf{L}_I = \\mathbf{C}\\mathbf{L} $$\n",
    "\n",
    "$$ \\mathbf{L}_I \\mathbf{L}^{-1} = \\mathbf{C}\\mathbf{L} \\mathbf{L}^{-1} = \\mathbf{C}\\mathbf{I}$$\n",
    "\n",
    "$$ \\mathbf{C} = \\mathbf{L}_I\\mathbf{L}^{-1} $$\n",
    "\n",
    "The problem is that $\\mathbf{L}$ in general is a non-square matrix and its inverse is not defined (unless you perform exactly six measurements and then $\\mathbf{L}$ would be a six-by-six square matrix, but this is too restrictive). However, we still can solve the equation with some extra manipulation:\n",
    "\n",
    "$$ \\mathbf{L}_I = \\mathbf{C}\\mathbf{L} $$\n",
    "\n",
    "$$ \\mathbf{L}_I \\mathbf{L}^T = \\mathbf{C}\\mathbf{L} \\mathbf{L}^T $$\n",
    "\n",
    "$$ \\mathbf{L}_I \\mathbf{L}^T(\\mathbf{L}\\mathbf{L}^T)^{-1} = \\mathbf{C}\\mathbf{L} \\mathbf{L}^T (\\mathbf{L}\\mathbf{L}^T)^{-1} = \\mathbf{C}\\mathbf{I} $$\n",
    "\n",
    "$$ \\mathbf{C} = \\mathbf{L}_I\\mathbf{L}^T(\\mathbf{L}\\mathbf{L}^T)^{-1} $$ \n",
    "\n",
    "Note that $\\mathbf{L} \\mathbf{L}^T$ is a square matrix and is invertible (also [nonsingular](https://en.wikipedia.org/wiki/Invertible_matrix)) if $\\mathbf{L}$ is L.I. ([linearly independent rows/columns](https://en.wikipedia.org/wiki/Linear_independence)). The matrix $\\mathbf{L}^T(\\mathbf{L}\\mathbf{L}^T)^{-1}$ is known as the [generalized inverse or Moore–Penrose pseudoinverse](https://en.wikipedia.org/wiki/Moore%E2%80%93Penrose_pseudoinverse), a generalization of the inverse matrix. If we denote this pseudoinverse matrix by $\\mathbf{L}^+$, we can state the solution of the equation simply as:\n",
    "\n",
    "$$ \\mathbf{L}_I = \\mathbf{C}\\mathbf{L} $$\n",
    "\n",
    "$$ \\mathbf{C} = \\mathbf{L}_I \\mathbf{L}^+ $$\n",
    "\n",
    "To compute the Moore–Penrose pseudoinverse, we could calculate it by the naive approach in Python:\n",
    "```python\n",
    "from numpy.linalg import inv\n",
    "Linv = L.T @ inv(L @ L.T)\n",
    "```\n",
    "But both Numpy and Scipy have functions to calculate the pseudoinverse, which might give greater numerical stability (but read [Inverses and pseudoinverses. Numerical issues, speed, symmetry](http://vene.ro/blog/inverses-pseudoinverses-numerical-issues-speed-symmetry.html)).  \n",
    "Of note, [numpy.linalg.pinv](http://docs.scipy.org/doc/numpy/reference/generated/numpy.linalg.pinv.html) calculates the pseudoinverse of a matrix using its singular-value decomposition (SVD) and including all large singular values (using the [LAPACK (Linear Algebra Package)](https://en.wikipedia.org/wiki/LAPACK) routine gesdd), whereas [scipy.linalg.pinv](http://docs.scipy.org/doc/scipy/reference/generated/scipy.linalg.pinv.html#scipy.linalg.pinv) calculates a pseudoinverse of a matrix using a least-squares solver (using the LAPACK method gelsd) and [scipy.linalg.pinv2](http://docs.scipy.org/doc/scipy/reference/generated/scipy.linalg.pinv2.html) also uses SVD to find the pseudoinverse (also using the LAPACK routine gesdd). \n",
    "Let's use [scipy.linalg.pinv2](http://docs.scipy.org/doc/scipy/reference/generated/scipy.linalg.pinv2.html):"
   ]
  },
  {
   "cell_type": "code",
   "execution_count": 5,
   "metadata": {
    "ExecuteTime": {
     "end_time": "2016-11-05T21:50:37.856504",
     "start_time": "2016-11-05T21:50:37.840015"
    }
   },
   "outputs": [],
   "source": [
    "from scipy.linalg import pinv2\n",
    "Lpinv = pinv2(L)"
   ]
  },
  {
   "cell_type": "markdown",
   "metadata": {},
   "source": [
    "Then, the re-calibration matrix is:"
   ]
  },
  {
   "cell_type": "code",
   "execution_count": 6,
   "metadata": {
    "ExecuteTime": {
     "end_time": "2016-11-05T21:50:39.025257",
     "start_time": "2016-11-05T21:50:39.019753"
    }
   },
   "outputs": [],
   "source": [
    "C2 = Li @ Lpinv"
   ]
  },
  {
   "cell_type": "markdown",
   "metadata": {},
   "source": [
    "Which is indeed the same as the initial calibration matrix:"
   ]
  },
  {
   "cell_type": "code",
   "execution_count": 7,
   "metadata": {
    "ExecuteTime": {
     "end_time": "2016-11-05T21:50:40.067591",
     "start_time": "2016-11-05T21:50:40.064088"
    }
   },
   "outputs": [
    {
     "data": {
      "text/plain": [
       "True"
      ]
     },
     "execution_count": 7,
     "metadata": {},
     "output_type": "execute_result"
    }
   ],
   "source": [
    "np.allclose(C, C2)"
   ]
  },
  {
   "cell_type": "markdown",
   "metadata": {},
   "source": [
    "The residual error between the old loads and new loads after re-calibration is:"
   ]
  },
  {
   "cell_type": "code",
   "execution_count": 8,
   "metadata": {
    "ExecuteTime": {
     "end_time": "2016-11-05T21:50:41.333046",
     "start_time": "2016-11-05T21:50:41.327041"
    }
   },
   "outputs": [
    {
     "name": "stdout",
     "output_type": "stream",
     "text": [
      "Average residual error between old and new loads: 8.38893490632e-21\n"
     ]
    }
   ],
   "source": [
    "E = Li - C2 @ L\n",
    "e = np.sum(E * E)\n",
    "print('Average residual error between old and new loads:', e)"
   ]
  },
  {
   "cell_type": "markdown",
   "metadata": {},
   "source": [
    "### Optimization\n",
    "\n",
    "Let's now implement the full algorithm considering the likely rotation of the load cell during a re-calibration.  \n",
    "\n",
    "The idea is to guess initial values for the angles, estmate the re-calibration matrix, estimate new values for the angles that minimize the equation for the residuals and then estimate again the re-calibration matrix in an iterative approach until the estimated angles converge to the actual angles of the load cell in the different sites. This is a typical problem of [optimization](https://en.wikipedia.org/wiki/Mathematical_optimization) where the angles are the design variables and the equation for the residuals is the cost function (see this [notebook about optimization](http://nbviewer.jupyter.org/github/demotu/BMC/blob/master/notebooks/Optimization.ipynb)).  \n",
    "\n",
    "Let's code the optimization in a complete function for the force plate re-calibration, named `fpcalibra.py`, with the following signature:\n",
    "```python\n",
    "   C, ang = fpcalibra(Lfp, Flc, COP, threshold=1e-10)\n",
    "```\n",
    "\n",
    "Let's import this function and run its example:"
   ]
  },
  {
   "cell_type": "code",
   "execution_count": 9,
   "metadata": {
    "ExecuteTime": {
     "end_time": "2016-11-05T21:50:43.308036",
     "start_time": "2016-11-05T21:50:43.083027"
    }
   },
   "outputs": [],
   "source": [
    "import sys\n",
    "sys.path.insert(1, r'./../functions')  # add to pythonpath\n",
    "from fpcalibra import fpcalibra"
   ]
  },
  {
   "cell_type": "code",
   "execution_count": 10,
   "metadata": {
    "ExecuteTime": {
     "end_time": "2016-11-05T21:51:58.977476",
     "start_time": "2016-11-05T21:50:48.155145"
    }
   },
   "outputs": [
    {
     "name": "stdout",
     "output_type": "stream",
     "text": [
      "\n",
      "Optimization finished in 70.8 s after 856 steps.\n",
      "\n",
      "Optimal calibration matrix:\n",
      " [[  1.03540000e+00  -5.29972332e-03  -2.10000083e-03  -2.88999943e-02\n",
      "   -4.01999964e-02   8.09999997e-03]\n",
      " [  6.39972212e-03   1.03090000e+00  -3.09999944e-03   2.11000078e-02\n",
      "    1.35000108e-02  -1.00002174e-04]\n",
      " [  5.07406617e-16  -4.00000000e-04   1.00220000e+00  -5.00000000e-04\n",
      "   -1.82000000e-02   3.00000000e-02]\n",
      " [ -1.20003446e-03  -3.84999998e-02   2.00000070e-04   9.32800001e-01\n",
      "    7.00001338e-04   1.69999973e-03]\n",
      " [  3.46999998e-02   2.99965692e-04   8.00000103e-04  -2.00000702e-04\n",
      "    9.32500000e-01  -2.40000000e-03]\n",
      " [ -4.00000323e-04  -1.30000000e-03  -2.99999999e-04  -2.30000001e-03\n",
      "    3.49999821e-03   1.05920000e+00]]\n",
      "\n",
      "Optimal angles:\n",
      " [  1.99999843e+01  -1.00000153e+01  -1.52986094e-05   1.49999847e+01\n",
      "  -5.00001530e+00]\n",
      "\n",
      "\n",
      "Residual between simulated and optimal re-calibration matrices: 4.24610474962e-08\n",
      "Residual between simulated and optimal rotation angles: 1.34142010205e-06\n"
     ]
    }
   ],
   "source": [
    "    >>> import numpy as np\n",
    "    >>> from numpy.linalg import inv\n",
    "    >>>\n",
    "    >>> # simulated true re-calibration matrix\n",
    "    >>> C = np.array([[ 1.0354, -0.0053, -0.0021, -0.0289, -0.0402,  0.0081],\n",
    "    >>>               [ 0.0064,  1.0309, -0.0031,  0.0211,  0.0135, -0.0001],\n",
    "    >>>               [ 0.0000, -0.0004,  1.0022, -0.0005, -0.0182,  0.0300],\n",
    "    >>>               [-0.0012, -0.0385,  0.0002,  0.9328,  0.0007,  0.0017],\n",
    "    >>>               [ 0.0347,  0.0003,  0.0008, -0.0002,  0.9325, -0.0024],\n",
    "    >>>               [-0.0004, -0.0013, -0.0003, -0.0023,  0.0035,  1.0592]])\n",
    "    >>> # simulated 5 measurements sites (in m)\n",
    "    >>> COP = np.array([[   0,  112,  112, -112, -112],\n",
    "    >>>                 [   0,  192, -192,  192, -192],\n",
    "    >>>                 [-124, -124, -124, -124, -124]])/1000\n",
    "    >>> nk = COP.shape[1]\n",
    "    >>> # simulated forces measured by the load cell (in N) before rotation\n",
    "    >>> samples = np.linspace(1, 6000, 6000)\n",
    "    >>> ns = samples.shape[0]\n",
    "    >>> Flc = np.empty((3, nk*ns))\n",
    "    >>> for k in range(nk):\n",
    "    >>>     Flc[:, k*ns:(k+1)*ns] = np.array([100*np.sin(5*2*np.pi*samples/ns) + 2*np.random.randn(ns),\n",
    "    >>>                                       100*np.cos(5*2*np.pi*samples/ns) + 2*np.random.randn(ns),\n",
    "    >>>                                       samples/15 + 200 + 5*np.random.randn(ns)])\n",
    "    >>> # function for the COP skew-symmetric matrix\n",
    "    >>> Acop = lambda x,y,z : np.array([[.0, -z, y], [z, .0, -x], [-y, x, .0]])\n",
    "    >>> # simulated loads measured by the force plate\n",
    "    >>> Li = np.empty((6, ns*nk))\n",
    "    >>> P = np.empty((6, 3, nk))\n",
    "    >>> for k, cop in enumerate(COP.T):\n",
    "    >>>     P[:, :, k] = np.vstack((np.eye(3), Acop(*cop)))\n",
    "    >>>     Li[:, k*ns:(k+1)*ns] = P[:, :, k] @ Flc[:, k*ns:(k+1)*ns]\n",
    "    >>> Lfp = inv(C) @  Li\n",
    "    >>> # simulated angles of rotaton of the measurement sites\n",
    "    >>> ang = np.array([20, -10, 0, 15, -5])/180*np.pi\n",
    "    >>> # function for the rotation matrix\n",
    "    >>> R = lambda a : np.array([[np.cos(a), -np.sin(a), 0], [np.sin(a), np.cos(a), 0], [ 0, 0, 1]])\n",
    "    >>> # simulated forces measured by the load cell after rotation\n",
    "    >>> for k in range(nk):\n",
    "    >>>     Flc[:, k*ns:(k+1)*ns] = R(ang[k]).T @ Flc[:, k*ns:(k+1)*ns]\n",
    "    >>> \n",
    "    >>> C2, ang2 = fpcalibra(Lfp, Flc, COP)\n",
    "    >>> \n",
    "    >>> e = np.sqrt(np.sum(C2-C)**2)\n",
    "    >>> print('Residual between simulated and optimal re-calibration matrices:', e)\n",
    "    >>> e = np.sqrt(np.sum(ang2-ang)**2)\n",
    "    >>> print('Residual between simulated and optimal rotation angles:', e)"
   ]
  },
  {
   "cell_type": "markdown",
   "metadata": {},
   "source": [
    "The simulation works as expected and the function was able to estimate accurately the known initial re-calibration matrix and angles of rotation."
   ]
  },
  {
   "cell_type": "markdown",
   "metadata": {},
   "source": [
    "## Non-linear algorithm for force plate calibration\n",
    "\n",
    "Cappello et al. (2011) extended the algorithm described earlier and proposed an algorithm for non-linear re-calibration of FPs.  \n",
    "The idea is that a load applied on the FP produces bending which depends on the point of force application and in turn will result in systematic errors in the COP determination. Consequently, this non-linearity could be modeled and compensated with a re-calibration which takes into account the COP coordinates measured by the FP and added to the linear re-calibration we deduced above (Cappello et al., 2011).  \n",
    "The re-calibration equation will be (Cappello et al., 2011):\n",
    "\n",
    "$$ \\begin{array}{l l}\n",
    "\\mathbf{L}_C = \\mathbf{C}_0\\mathbf{L} + \\,\n",
    "\\begin{bmatrix} \n",
    "C_{x_{11}} & C_{x_{12}} & 0 & C_{x_{14}} & C_{x_{15}} & C_{x_{16}} \\\\\n",
    "C_{x_{21}} & C_{x_{22}} & 0 & C_{x_{24}} & C_{x_{25}} & C_{x_{26}} \\\\\n",
    "C_{x_{31}} & C_{x_{32}} & 0 & C_{x_{34}} & C_{x_{35}} & C_{x_{36}} \\\\\n",
    "C_{x_{41}} & C_{x_{42}} & 0 & C_{x_{44}} & C_{x_{45}} & C_{x_{46}} \\\\\n",
    "C_{x_{51}} & C_{x_{52}} & 0 & C_{x_{54}} & C_{x_{55}} & C_{x_{56}} \\\\\n",
    "C_{x_{61}} & C_{x_{62}} & 0 & C_{x_{64}} & C_{x_{65}} & C_{x_{66}}\n",
    "\\end{bmatrix}\\,\n",
    "\\begin{bmatrix}\n",
    "F_x \\\\ F_y \\\\ F_z \\\\ M_x \\\\ M_y \\\\ M_z \n",
    "\\end{bmatrix} COP_x + \n",
    "\\begin{bmatrix} \n",
    "C_{y_{11}} & C_{y_{12}} & 0 & 0 & C_{y_{15}} & C_{y_{16}} \\\\\n",
    "C_{y_{21}} & C_{y_{22}} & 0 & 0 & C_{y_{25}} & C_{y_{26}} \\\\\n",
    "C_{y_{31}} & C_{y_{32}} & 0 & 0 & C_{y_{35}} & C_{y_{36}} \\\\\n",
    "C_{y_{41}} & C_{y_{42}} & 0 & 0 & C_{y_{45}} & C_{y_{46}} \\\\\n",
    "C_{y_{51}} & C_{y_{52}} & 0 & 0 & C_{y_{55}} & C_{y_{56}} \\\\\n",
    "C_{y_{61}} & C_{y_{62}} & 0 & 0 & C_{y_{65}} & C_{y_{66}}\n",
    "\\end{bmatrix}\\,\n",
    "\\begin{bmatrix}\n",
    "F_x \\\\ F_y \\\\ F_z \\\\ M_x \\\\ M_y \\\\ M_z \n",
    "\\end{bmatrix} COP_y\n",
    "\\\\[6pt]\n",
    "\\mathbf{L}_C = (\\mathbf{C}_0 + \\mathbf{C}_x COP_x + \\mathbf{C}_y COP_y)\\mathbf{L} = \\mathbf{C}_{NL}\\mathbf{L}\n",
    "\\end{array} $$\n",
    "\n",
    "Where $\\mathbf{C}_0$ is the linear re-calibration matrix, $\\mathbf{L}$ is the measured FP output, $\\mathbf{C}_x$ and  $\\mathbf{C}_y$ are the non-linear re-calibration matrices.\n",
    "\n",
    "To estimate $\\mathbf{C}_{NL}$, Cappello et al. (2011) suggest to employ the algorithm proposed by Cedraro et al. (2008) to estimate the linear re-calibration described earlier."
   ]
  },
  {
   "cell_type": "code",
   "execution_count": null,
   "metadata": {
    "collapsed": true
   },
   "outputs": [],
   "source": [
    "    # number of sites\n",
    "    nk = COP.shape[1]\n",
    "    # number of samples\n",
    "    ns = int(Lfp.shape[1]/nk)\n",
    "    # function for the COP skew-symmetric matrix\n",
    "    Acop = lambda x,y,z : np.array([[.0, -z, y], [z, .0, -x], [-y, x, .0]])\n",
    "    P = np.empty((6, 3, nk))\n",
    "    for k, cop in enumerate(COP.T):\n",
    "        P[:, :, k] = np.vstack((np.eye(3), Acop(*cop)))\n",
    "    # function for the 2D rotation matrix\n",
    "    R = lambda a : np.array([[np.cos(a), -np.sin(a), 0], [np.sin(a), np.cos(a), 0], [ 0, 0, 1]])\n",
    "    # Pseudoiverse of the loads measured by the force plate\n",
    "    if method.lower() == 'svd':\n",
    "        Lpinv = pinv2(Lfp)\n",
    "    else:\n",
    "        Lpinv = pinv(Lfp)        \n",
    "    # cost function for the optimization\n",
    "    def costfun(ang, P, R, Flc, CLfp, nk, ns, E):\n",
    "        for k in range(nk):\n",
    "            E[:,k*ns:(k+1)*ns] = (P[:,:,k] @ R(ang[k])) @ Flc[:,k*ns:(k+1)*ns] - CLfp[:,k*ns:(k+1)*ns]\n",
    "        return np.sum(E * E)\n",
    "    # inequality constraints\n",
    "    bnds = [(-np.pi/2, np.pi/2) for k in range(nk)]\n",
    "    # some initialization\n",
    "    ang0 = np.zeros(nk)\n",
    "    E = np.empty((6, ns*nk))\n",
    "    da = []\n",
    "    delta_ang = 10*threshold\n",
    "    Li = np.empty((6, ns*nk))\n",
    "    start = time.time()\n",
    "    # the optimization\n",
    "    while np.all(delta_ang > threshold):\n",
    "        for k in range(nk):\n",
    "            Li[:,k*ns:(k+1)*ns] = (P[:,:,k] @ R(ang0[k])) @ Flc[:,k*ns:(k+1)*ns]\n",
    "        C = Li @ Lpinv\n",
    "        CLfp = C @ Lfp\n",
    "        res = minimize(fun=costfun, x0=ang0, args=(P, R, Flc, CLfp, nk, ns, E),\n",
    "                       bounds=bnds, method='TNC', options={'disp': False})\n",
    "        delta_ang = np.abs(res.x - ang0)\n",
    "        ang0 = res.x\n",
    "        da.append(delta_ang.sum())\n",
    "\n",
    "    tdelta = time.time() - start\n",
    "    print('\\nOptimization finished in %.1f s after %d steps.\\n' %(tdelta, len(da)))\n",
    "    print('Optimal calibration matrix:\\n', C)\n",
    "    print('\\nOptimal angles:\\n', res.x*180/np.pi)\n",
    "    print('\\n')\n",
    "\n",
    "    return C, res.x"
   ]
  },
  {
   "cell_type": "markdown",
   "metadata": {},
   "source": [
    "## References\n",
    "\n",
    "- [Cedraro A, Cappello A, Chiari L (2008) A portable system for in-situ re-calibration of force platforms: theoretical validation. Gait & Posture, 28, 488–494](http://www.ncbi.nlm.nih.gov/pubmed/18450453).  \n",
    "- [Cedraro A, Cappello A, Chiari L (2009) A portable system for in-situ re-calibration of force platforms: experimental validation. Gait & Posture, 29, 449–453](http://www.ncbi.nlm.nih.gov/pubmed/19111467).  \n",
    "- [Cappello A, Bagala F, Cedraro A, Chiari L (2011) Non-linear re-calibration of force platforms. Gait & Posture, 33, 724–726](http://www.ncbi.nlm.nih.gov/pubmed/21392999)."
   ]
  },
  {
   "cell_type": "code",
   "execution_count": 15,
   "metadata": {
    "ExecuteTime": {
     "end_time": "2016-11-05T21:57:56.164254",
     "start_time": "2016-11-05T21:57:56.156233"
    }
   },
   "outputs": [
    {
     "name": "stdout",
     "output_type": "stream",
     "text": [
      "The version_information extension is already loaded. To reload it, use:\n",
      "  %reload_ext version_information\n"
     ]
    },
    {
     "data": {
      "application/json": {
       "Software versions": [
        {
         "module": "Python",
         "version": "3.5.2 64bit [MSC v.1900 64 bit (AMD64)]"
        },
        {
         "module": "IPython",
         "version": "5.1.0"
        },
        {
         "module": "OS",
         "version": "Windows 10 10.0.14393 SP0"
        },
        {
         "module": "numpy",
         "version": "1.11.2"
        },
        {
         "module": "scipy",
         "version": "0.18.1"
        },
        {
         "module": "matplotlib",
         "version": "1.5.3"
        },
        {
         "module": "ipython",
         "version": "5.1.0"
        },
        {
         "module": "jupyter",
         "version": "1.0.0"
        },
        {
         "module": "pandas",
         "version": "0.19.1"
        }
       ]
      },
      "text/html": [
       "<table><tr><th>Software</th><th>Version</th></tr><tr><td>Python</td><td>3.5.2 64bit [MSC v.1900 64 bit (AMD64)]</td></tr><tr><td>IPython</td><td>5.1.0</td></tr><tr><td>OS</td><td>Windows 10 10.0.14393 SP0</td></tr><tr><td>numpy</td><td>1.11.2</td></tr><tr><td>scipy</td><td>0.18.1</td></tr><tr><td>matplotlib</td><td>1.5.3</td></tr><tr><td>ipython</td><td>5.1.0</td></tr><tr><td>jupyter</td><td>1.0.0</td></tr><tr><td>pandas</td><td>0.19.1</td></tr><tr><td colspan='2'>Sat Nov 05 21:57:56 2016 E. South America Daylight Time</td></tr></table>"
      ],
      "text/latex": [
       "\\begin{tabular}{|l|l|}\\hline\n",
       "{\\bf Software} & {\\bf Version} \\\\ \\hline\\hline\n",
       "Python & 3.5.2 64bit [MSC v.1900 64 bit (AMD64)] \\\\ \\hline\n",
       "IPython & 5.1.0 \\\\ \\hline\n",
       "OS & Windows 10 10.0.14393 SP0 \\\\ \\hline\n",
       "numpy & 1.11.2 \\\\ \\hline\n",
       "scipy & 0.18.1 \\\\ \\hline\n",
       "matplotlib & 1.5.3 \\\\ \\hline\n",
       "ipython & 5.1.0 \\\\ \\hline\n",
       "jupyter & 1.0.0 \\\\ \\hline\n",
       "pandas & 0.19.1 \\\\ \\hline\n",
       "\\hline \\multicolumn{2}{|l|}{Sat Nov 05 21:57:56 2016 E. South America Daylight Time} \\\\ \\hline\n",
       "\\end{tabular}\n"
      ],
      "text/plain": [
       "Software versions\n",
       "Python 3.5.2 64bit [MSC v.1900 64 bit (AMD64)]\n",
       "IPython 5.1.0\n",
       "OS Windows 10 10.0.14393 SP0\n",
       "numpy 1.11.2\n",
       "scipy 0.18.1\n",
       "matplotlib 1.5.3\n",
       "ipython 5.1.0\n",
       "jupyter 1.0.0\n",
       "pandas 0.19.1\n",
       "Sat Nov 05 21:57:56 2016 E. South America Daylight Time"
      ]
     },
     "execution_count": 15,
     "metadata": {},
     "output_type": "execute_result"
    }
   ],
   "source": [
    "%load_ext version_information\n",
    "%version_information numpy, scipy, matplotlib, ipython, jupyter, pandas"
   ]
  },
  {
   "cell_type": "markdown",
   "metadata": {},
   "source": [
    "## Function fpcalibra.py"
   ]
  },
  {
   "cell_type": "code",
   "execution_count": null,
   "metadata": {
    "ExecuteTime": {
     "end_time": "2016-08-19T19:57:45.740280",
     "start_time": "2016-08-19T19:57:45.734275"
    },
    "collapsed": true
   },
   "outputs": [],
   "source": [
    "# %load ./../functions/fpcalibra.py\n",
    "\"\"\"Force plate calibration algorithm.\n",
    "\"\"\"\n",
    "\n",
    "__author__ = 'Marcos Duarte, https://github.com/demotu/BMC'\n",
    "__version__ = 'fpcalibra.py v.1.0.1 2016/08/19'\n",
    "__license__ = \"MIT\"\n",
    "\n",
    "import numpy as np\n",
    "from scipy.linalg import pinv, pinv2\n",
    "from scipy.optimize import minimize\n",
    "import time\n",
    "\n",
    "\n",
    "def fpcalibra(Lfp, Flc, COP, threshold=1e-10, method='SVD'):\n",
    "    \"\"\"Force plate calibration algorithm.\n",
    "    \n",
    "    For a force plate (FP) re-calibration, the relationship between the\n",
    "    measured FP output (L) and the known loads (Li) is approximated by:\n",
    "    Li = C@L + E (@ is the operator for matrix multiplication).  \n",
    "    Where C is the 6-by-6 re-calibration matrix and E is a gaussian,\n",
    "    uncorrelated, zero mean noise six-by-one matrix.  \n",
    "\n",
    "    The re-calibration matrix can be found by solving the equation above and\n",
    "    then C can be later used to re-calibrate the FP output: Lc = C@L.  \n",
    "    Where Lc is the re-calibrated FP output.\n",
    "\n",
    "    Cedraro et al. (2008) [1]_ proposed to use a calibrated three-component\n",
    "    load cell to measure the forces applied on the FP at known measurement\n",
    "    sites and an algorithm for the re-calibration.\n",
    "    \n",
    "    This code implements the re-calibration algorithm, see [2]_\n",
    "    \n",
    "    Parameters\n",
    "    ----------\n",
    "    Lfp : numpy 2-D array (6, nsamples*nksites)\n",
    "        loads [Fx, Fy, Fz, Mx, My, Mz] (in N and Nm) measured by the force\n",
    "        plate due to the corresponding forces applied at the measurement sites\n",
    "    Flc : numpy 2-D array (3, nsamples*nksites)\n",
    "        forces [Fx, Fy, Fz] (in N) measured by the load cell at the\n",
    "        measurement sites\n",
    "    COP : numpy 2-D array (3, nksites)\n",
    "        positions [COPx, COPy, COPz] (in m) of the load cell at the\n",
    "        measurement sites\n",
    "    threshold  : float, optional\n",
    "        threshold to stop the optimization (default 1e-10)\n",
    "    method  : string, optional\n",
    "        method for the pseudiinverse calculation, 'SVD' (default) or 'lstsq'\n",
    "        SVD is the Singular Value Decomposition and lstsq is least-squares\n",
    "    \n",
    "    Returns\n",
    "    -------\n",
    "    C   : numpy 2-D (6-by-6) array\n",
    "        optimal force plate re-calibration matrix (in dimensionless units)\n",
    "    ang : numpy 1-D array [ang0, ..., angk]\n",
    "        optimal angles of rotation (in rad) of the load cells at the\n",
    "        measurement sites\n",
    "\n",
    "    References\n",
    "    ----------\n",
    "    .. [1] Cedraro A, Cappello A, Chiari L (2008) Gait & Posture, 28, 488–494. \n",
    "    .. [2] http://nbviewer.ipython.org/github/demotu/BMC/blob/master/notebooks/ForcePlateCalibration.ipynb\n",
    "\n",
    "    Example\n",
    "    -------\n",
    "    >>> from fpcalibra import fpcalibra\n",
    "    >>> import numpy as np\n",
    "    >>> from numpy.linalg import inv\n",
    "    >>>\n",
    "    >>> # simulated true re-calibration matrix\n",
    "    >>> C = np.array([[ 1.0354, -0.0053, -0.0021, -0.0289, -0.0402,  0.0081],\n",
    "    >>>               [ 0.0064,  1.0309, -0.0031,  0.0211,  0.0135, -0.0001],\n",
    "    >>>               [ 0.0000, -0.0004,  1.0022, -0.0005, -0.0182,  0.0300],\n",
    "    >>>               [-0.0012, -0.0385,  0.0002,  0.9328,  0.0007,  0.0017],\n",
    "    >>>               [ 0.0347,  0.0003,  0.0008, -0.0002,  0.9325, -0.0024],\n",
    "    >>>               [-0.0004, -0.0013, -0.0003, -0.0023,  0.0035,  1.0592]])\n",
    "    >>> # simulated 5 measurements sites (in m)\n",
    "    >>> COP = np.array([[   0,  112,  112, -112, -112],\n",
    "    >>>                 [   0,  192, -192,  192, -192],\n",
    "    >>>                 [-124, -124, -124, -124, -124]])/1000\n",
    "    >>> nk = COP.shape[1]\n",
    "    >>> # simulated forces measured by the load cell (in N) before rotation\n",
    "    >>> samples = np.linspace(1, 6000, 6000)\n",
    "    >>> ns = samples.shape[0]\n",
    "    >>> Flc = np.empty((3, nk*ns))\n",
    "    >>> for k in range(nk):\n",
    "    >>>     Flc[:, k*ns:(k+1)*ns] = np.array([100*np.sin(5*2*np.pi*samples/ns) + 2*np.random.randn(ns),\n",
    "    >>>                                       100*np.cos(5*2*np.pi*samples/ns) + 2*np.random.randn(ns),\n",
    "    >>>                                       samples/15 + 200 + 5*np.random.randn(ns)])\n",
    "    >>> # function for the COP skew-symmetric matrix\n",
    "    >>> Acop = lambda x,y,z : np.array([[.0, -z, y], [z, .0, -x], [-y, x, .0]])\n",
    "    >>> # simulated loads measured by the force plate\n",
    "    >>> Li = np.empty((6, ns*nk))\n",
    "    >>> P = np.empty((6, 3, nk))\n",
    "    >>> for k, cop in enumerate(COP.T):\n",
    "    >>>     P[:, :, k] = np.vstack((np.eye(3), Acop(*cop)))\n",
    "    >>>     Li[:, k*ns:(k+1)*ns] = P[:, :, k] @ Flc[:, k*ns:(k+1)*ns]\n",
    "    >>> Lfp = inv(C) @  Li\n",
    "    >>> # simulated angles of rotaton of the measurement sites\n",
    "    >>> ang = np.array([20, -10, 0, 15, -5])/180*np.pi\n",
    "    >>> # function for the rotation matrix\n",
    "    >>> R = lambda a : np.array([[np.cos(a), -np.sin(a), 0], [np.sin(a), np.cos(a), 0], [ 0, 0, 1]])\n",
    "    >>> # simulated forces measured by the load cell after rotation\n",
    "    >>> for k in range(nk):\n",
    "    >>>     Flc[:, k*ns:(k+1)*ns] = R(ang[k]).T @ Flc[:, k*ns:(k+1)*ns]\n",
    "    >>> \n",
    "    >>> C2, ang2 = fpcalibra(Lfp, Flc, COP)\n",
    "    >>> \n",
    "    >>> e = np.sqrt(np.sum(C2-C)**2)\n",
    "    >>> print('Residual between simulated and optimal re-calibration matrices:', e)\n",
    "    >>> e = np.sqrt(np.sum(ang2-ang)**2)\n",
    "    >>> print('Residual between simulated and optimal rotation angles:', e)\n",
    "    \"\"\"\n",
    "\n",
    "    # number of sites\n",
    "    nk = COP.shape[1]\n",
    "    # number of samples\n",
    "    ns = int(Lfp.shape[1]/nk)\n",
    "    # function for the COP skew-symmetric matrix\n",
    "    Acop = lambda x,y,z : np.array([[.0, -z, y], [z, .0, -x], [-y, x, .0]])\n",
    "    P = np.empty((6, 3, nk))\n",
    "    for k, cop in enumerate(COP.T):\n",
    "        P[:, :, k] = np.vstack((np.eye(3), Acop(*cop)))\n",
    "    # function for the 2D rotation matrix\n",
    "    R = lambda a : np.array([[np.cos(a), -np.sin(a), 0], [np.sin(a), np.cos(a), 0], [ 0, 0, 1]])\n",
    "    # Pseudoiverse of the loads measured by the force plate\n",
    "    if method.lower() == 'svd':\n",
    "        Lpinv = pinv2(Lfp)\n",
    "    else:\n",
    "        Lpinv = pinv(Lfp)        \n",
    "    # cost function for the optimization\n",
    "    def costfun(ang, P, R, Flc, CLfp, nk, ns, E):\n",
    "        for k in range(nk):\n",
    "            E[:,k*ns:(k+1)*ns] = (P[:,:,k] @ R(ang[k])) @ Flc[:,k*ns:(k+1)*ns] - CLfp[:,k*ns:(k+1)*ns]\n",
    "        return np.sum(E * E)\n",
    "    # inequality constraints\n",
    "    bnds = [(-np.pi/2, np.pi/2) for k in range(nk)]\n",
    "    # some initialization\n",
    "    ang0 = np.zeros(nk)\n",
    "    E = np.empty((6, ns*nk))\n",
    "    da = []\n",
    "    delta_ang = 10*threshold\n",
    "    Li = np.empty((6, ns*nk))\n",
    "    start = time.time()\n",
    "    # the optimization\n",
    "    while np.all(delta_ang > threshold):\n",
    "        for k in range(nk):\n",
    "            Li[:,k*ns:(k+1)*ns] = (P[:,:,k] @ R(ang0[k])) @ Flc[:,k*ns:(k+1)*ns]\n",
    "        C = Li @ Lpinv\n",
    "        CLfp = C @ Lfp\n",
    "        res = minimize(fun=costfun, x0=ang0, args=(P, R, Flc, CLfp, nk, ns, E),\n",
    "                       bounds=bnds, method='TNC', options={'disp': False})\n",
    "        delta_ang = np.abs(res.x - ang0)\n",
    "        ang0 = res.x\n",
    "        da.append(delta_ang.sum())\n",
    "\n",
    "    tdelta = time.time() - start\n",
    "    print('\\nOptimization finished in %.1f s after %d steps.\\n' %(tdelta, len(da)))\n",
    "    print('Optimal calibration matrix:\\n', C)\n",
    "    print('\\nOptimal angles:\\n', res.x*180/np.pi)\n",
    "    print('\\n')\n",
    "\n",
    "    return C, res.x"
   ]
  }
 ],
 "metadata": {
  "anaconda-cloud": {},
  "hide_input": false,
  "kernelspec": {
   "display_name": "Python 3",
   "language": "python",
   "name": "python3"
  },
  "language_info": {
   "codemirror_mode": {
    "name": "ipython",
    "version": 3
   },
   "file_extension": ".py",
   "mimetype": "text/x-python",
   "name": "python",
   "nbconvert_exporter": "python",
   "pygments_lexer": "ipython3",
   "version": "3.6.10"
  },
  "nbTranslate": {
   "displayLangs": [
    "*"
   ],
   "hotkey": "alt-t",
   "langInMainMenu": true,
   "sourceLang": "en",
   "targetLang": "fr",
   "useGoogleTranslate": true
  },
  "toc": {
   "base_numbering": 1,
   "nav_menu": {},
   "number_sections": true,
   "sideBar": true,
   "skip_h1_title": false,
   "title_cell": "Table of Contents",
   "title_sidebar": "Contents",
   "toc_cell": false,
   "toc_position": {},
   "toc_section_display": true,
   "toc_window_display": false
  },
  "varInspector": {
   "cols": {
    "lenName": 16,
    "lenType": 16,
    "lenVar": 40
   },
   "kernels_config": {
    "python": {
     "delete_cmd_postfix": "",
     "delete_cmd_prefix": "del ",
     "library": "var_list.py",
     "varRefreshCmd": "print(var_dic_list())"
    },
    "r": {
     "delete_cmd_postfix": ") ",
     "delete_cmd_prefix": "rm(",
     "library": "var_list.r",
     "varRefreshCmd": "cat(var_dic_list()) "
    }
   },
   "types_to_exclude": [
    "module",
    "function",
    "builtin_function_or_method",
    "instance",
    "_Feature"
   ],
   "window_display": false
  }
 },
 "nbformat": 4,
 "nbformat_minor": 1
}
